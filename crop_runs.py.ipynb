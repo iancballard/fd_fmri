{
 "cells": [
  {
   "cell_type": "code",
   "execution_count": 67,
   "metadata": {
    "collapsed": true
   },
   "outputs": [],
   "source": [
    "#os and i/o\n",
    "import os\n",
    "import numpy as np\n",
    "import glob\n",
    "from os.path import abspath\n",
    "import csv\n",
    "\n",
    "#scientific computing\n",
    "import matplotlib\n",
    "import math\n",
    "import matplotlib.pyplot as plt\n",
    "import pandas as pd\n",
    "from scipy import stats, optimize\n",
    "from pandas import DataFrame, Series\n",
    "import seaborn as sns\n",
    "import random as rd\n",
    "from statsmodels.formula.api import ols\n",
    "from statsmodels.stats.anova import anova_lm\n",
    "import scipy.stats\n",
    "#ipython add-ons\n",
    "from IPython.parallel import Client\n",
    "from IPython.display import Image\n",
    "import multiprocessing\n",
    "%matplotlib inline"
   ]
  },
  {
   "cell_type": "markdown",
   "metadata": {},
   "source": [
    "Manually stopping mux scans caused \"phantom\" TRs to be added that are total junk. This code reads from the design files to find where the experiment should end, and crops the functional data accordingly. In the future I will not use random ITIs."
   ]
  },
  {
   "cell_type": "code",
   "execution_count": 62,
   "metadata": {
    "collapsed": true
   },
   "outputs": [],
   "source": [
    "#preliminary stuff\n",
    "home_dir = '/data/home/iballard/fd/'\n",
    "subj_file = home_dir + 'scripts/sub_cb_mappings.txt'\n",
    "os.chdir(home_dir)\n",
    "time_to_drop = 9.0\n",
    "time_to_pad = 10.0 #how much padding to have after the last event\n",
    "\n",
    "#get subject list\n",
    "sub_list = []\n",
    "sub_to_cb = {}\n",
    "with open(subj_file) as f:\n",
    "    for line in f:\n",
    "        (key,val) = line.strip().split(' ') \n",
    "        sub_list.append('fd_' + key)\n",
    "        sub_to_cb['fd_' + key] = int(val)"
   ]
  },
  {
   "cell_type": "code",
   "execution_count": 27,
   "metadata": {
    "collapsed": true
   },
   "outputs": [],
   "source": [
    "def find_spikes(d, spike_thresh):\n",
    "    slice_mean = d.mean(axis=0).mean(axis=0)\n",
    "    t_z = (slice_mean - np.atleast_2d(slice_mean.mean(axis=1)).T) / np.atleast_2d(slice_mean.std(axis=1)).T\n",
    "    spikes = np.abs(t_z)>spike_thresh\n",
    "    spike_inds = np.transpose(spikes.nonzero())\n",
    "    # mask out the spikes and recompute z-scores using variance uncontaminated with spikes.\n",
    "    # This will catch smaller spikes that may have been swamped by big ones.\n",
    "    d.mask[:,:,spike_inds[:,0],spike_inds[:,1]] = True\n",
    "    slice_mean2 = d.mean(axis=0).mean(axis=0)\n",
    "    t_z = (slice_mean - np.atleast_2d(slice_mean.mean(axis=1)).T) / np.atleast_2d(slice_mean2.std(axis=1)).T\n",
    "    spikes = np.logical_or(spikes, np.abs(t_z)>spike_thresh)\n",
    "    spike_inds = np.transpose(spikes.nonzero())\n",
    "    return((spike_inds, t_z))"
   ]
  },
  {
   "cell_type": "code",
   "execution_count": 28,
   "metadata": {
    "collapsed": false
   },
   "outputs": [],
   "source": [
    "#for loc experiment the experiment ends exactly at 312 seconds, so I can just lop at 208 TRs\n",
    "def crop_roi(sub):\n",
    "    new_size = 208\n",
    "    scans = glob.glob('data/' + sub + '/func/loc/*fc.nii.gz')\n",
    "    for s in scans:\n",
    "        if sub == 'fd_108' and scan == 'run1': #bad quality for this subject at the end\n",
    "            new_size = 196\n",
    "            \n",
    "        new_scan = s[:-7] + '_crop.nii.gz'\n",
    "        if not os.path.exists(new_scan):\n",
    "            cmd = 'fslroi ' + s + ' ' + new_scan + ' 0 ' + str(new_size)\n",
    "            os.system(cmd)\n"
   ]
  },
  {
   "cell_type": "code",
   "execution_count": 29,
   "metadata": {
    "collapsed": false
   },
   "outputs": [
    {
     "data": {
      "text/plain": [
       "[None,\n",
       " None,\n",
       " None,\n",
       " None,\n",
       " None,\n",
       " None,\n",
       " None,\n",
       " None,\n",
       " None,\n",
       " None,\n",
       " None,\n",
       " None,\n",
       " None,\n",
       " None,\n",
       " None,\n",
       " None,\n",
       " None,\n",
       " None,\n",
       " None,\n",
       " None,\n",
       " None,\n",
       " None,\n",
       " None,\n",
       " None]"
      ]
     },
     "execution_count": 29,
     "metadata": {},
     "output_type": "execute_result"
    }
   ],
   "source": [
    "pool = multiprocessing.Pool(processes = 5)\n",
    "pool.map(crop_roi,sub_list)"
   ]
  },
  {
   "cell_type": "code",
   "execution_count": 83,
   "metadata": {
    "collapsed": false,
    "scrolled": true
   },
   "outputs": [],
   "source": [
    "#sim and ser experiments\n",
    "def crop_sim_ser(sub):\n",
    "    cond = 'ser'\n",
    "    design_dir = home_dir + 'data/' + sub + '/design/'\n",
    "    design_file = design_dir + cond + '.csv'\n",
    "    d = np.recfromcsv(design_file)\n",
    "    for run in range(1,4):\n",
    "        \n",
    "        #find last event from the timing file\n",
    "        last_event_time = 0\n",
    "        for line in d:\n",
    "            if line[0] == run:\n",
    "                if line[2] > last_event_time:\n",
    "                    last_event_time = line[2]\n",
    "        last_event_time = last_event_time + time_to_drop\n",
    "\n",
    "        #get scan duration\n",
    "        scan = abspath('data/' + sub + '/func/' + cond + '/run_' + str(run) + '_fc.nii.gz')\n",
    "        img = nib.load(scan)\n",
    "        scan_time = img.shape[3]*1.5\n",
    "\n",
    "        #get duration that scan should be\n",
    "        scan_diff = scan_time - last_event_time\n",
    "        if scan_diff < 0: #bad news\n",
    "            print sub\n",
    "\n",
    "        new_scan_time = last_event_time + min(scan_diff,time_to_pad) #pad scan\n",
    "        new_scan_time = new_scan_time/1.5 #back into scans\n",
    "        new_scan_time = int(math.ceil(new_scan_time))\n",
    "        \n",
    "        new_scan = scan[:-7] + '_crop.nii.gz'\n",
    "        if not os.path.exists(new_scan):\n",
    "            cmd = 'fslroi ' + scan + ' ' + new_scan + ' 0 ' + str(new_scan_time)\n",
    "            os.system(cmd)          "
   ]
  },
  {
   "cell_type": "code",
   "execution_count": 84,
   "metadata": {
    "collapsed": false,
    "scrolled": true
   },
   "outputs": [
    {
     "data": {
      "text/plain": [
       "[None,\n",
       " None,\n",
       " None,\n",
       " None,\n",
       " None,\n",
       " None,\n",
       " None,\n",
       " None,\n",
       " None,\n",
       " None,\n",
       " None,\n",
       " None,\n",
       " None,\n",
       " None,\n",
       " None,\n",
       " None,\n",
       " None,\n",
       " None,\n",
       " None,\n",
       " None,\n",
       " None,\n",
       " None,\n",
       " None,\n",
       " None]"
      ]
     },
     "execution_count": 84,
     "metadata": {},
     "output_type": "execute_result"
    }
   ],
   "source": [
    "pool = multiprocessing.Pool(processes = 7)\n",
    "pool.map(crop_sim_ser,sub_list)"
   ]
  },
  {
   "cell_type": "code",
   "execution_count": null,
   "metadata": {
    "collapsed": true
   },
   "outputs": [],
   "source": []
  }
 ],
 "metadata": {
  "kernelspec": {
   "display_name": "Python 2",
   "language": "python",
   "name": "python2"
  },
  "language_info": {
   "codemirror_mode": {
    "name": "ipython",
    "version": 2
   },
   "file_extension": ".py",
   "mimetype": "text/x-python",
   "name": "python",
   "nbconvert_exporter": "python",
   "pygments_lexer": "ipython2",
   "version": "2.7.6"
  }
 },
 "nbformat": 4,
 "nbformat_minor": 0
}
