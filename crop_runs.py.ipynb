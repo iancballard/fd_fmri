{
 "cells": [
  {
   "cell_type": "markdown",
   "metadata": {
    "collapsed": true
   },
   "source": [
    "#Manually stopping mux scans caused \"phantom\" TRs to be added that are total junk. This code reads from the design files to find where the experiment should end, and crops the functional data accordingly. In the future I will not use random ITIs."
   ]
  },
  {
   "cell_type": "code",
   "execution_count": 1,
   "metadata": {
    "collapsed": true
   },
   "outputs": [],
   "source": [
    "#os and i/o\n",
    "import os\n",
    "import numpy as np\n",
    "import glob\n",
    "from os.path import abspath\n",
    "import csv\n",
    "\n",
    "#scientific computing\n",
    "import matplotlib\n",
    "import math\n",
    "import matplotlib.pyplot as plt\n",
    "import pandas as pd\n",
    "from scipy import stats, optimize\n",
    "from pandas import DataFrame, Series\n",
    "import seaborn as sns\n",
    "import random as rd\n",
    "from statsmodels.formula.api import ols\n",
    "from statsmodels.stats.anova import anova_lm\n",
    "import scipy.stats\n",
    "#ipython add-ons\n",
    "from IPython.parallel import Client\n",
    "from IPython.display import Image\n",
    "import multiprocessing\n",
    "import nibabel as nib\n",
    "%matplotlib inline"
   ]
  },
  {
   "cell_type": "code",
   "execution_count": 2,
   "metadata": {
    "collapsed": true
   },
   "outputs": [],
   "source": [
    "#preliminary stuff\n",
    "home_dir = '/data/home/iballard/fd/'\n",
    "os.chdir(home_dir)\n",
    "time_to_drop = 12.0\n",
    "time_to_pad = 4.0 #how much padding to have after the last event\n",
    "\n",
    "#get subject list\n",
    "sub_list = list(np.loadtxt(home_dir+ '/subjects.txt',str))"
   ]
  },
  {
   "cell_type": "code",
   "execution_count": 3,
   "metadata": {
    "collapsed": false
   },
   "outputs": [],
   "source": [
    "#for loc experiment the experiment ends exactly at 312 seconds, so I can just lop at 208 TRs\n",
    "def crop_roi(scan_tuple):\n",
    "    sub, s = scan_tuple\n",
    "    new_size = 208\n",
    "    if sub == 'fd_108' and s == 'run1': #bad quality for this subject at the end\n",
    "        new_size = 197\n",
    "    new_scan = s[:-7] + '_crop.nii.gz'\n",
    "    if not os.path.exists(new_scan):\n",
    "        cmd = 'fslroi ' + s + ' ' + new_scan + ' 0 ' + str(new_size)\n",
    "        print cmd\n",
    "#         os.system(cmd)"
   ]
  },
  {
   "cell_type": "code",
   "execution_count": 12,
   "metadata": {
    "collapsed": false
   },
   "outputs": [],
   "source": [
    "scan_tuple = []\n",
    "for sub in sub_list:\n",
    "    scans = glob.glob('data/' + sub + '/func/loc/*fc.nii.gz')\n",
    "    for s in scans:\n",
    "        scan_tuple.append((sub,s))\n"
   ]
  },
  {
   "cell_type": "code",
   "execution_count": 9,
   "metadata": {
    "collapsed": false
   },
   "outputs": [],
   "source": [
    "pool = multiprocessing.Pool(processes = 8)\n",
    "pool.map(crop_roi,scan_tuple)\n",
    "pool.terminate()\n",
    "pool.join()"
   ]
  },
  {
   "cell_type": "code",
   "execution_count": 40,
   "metadata": {
    "collapsed": false,
    "scrolled": true
   },
   "outputs": [],
   "source": [
    "#sim and ser experiments\n",
    "def crop_sim_ser(sub):\n",
    "    cond = 'sim'\n",
    "    design_dir = home_dir + 'data/' + sub + '/design/'\n",
    "    design_file = design_dir + cond + '_PE.csv'\n",
    "    d = np.recfromcsv(design_file)\n",
    "    for run in range(1,4):\n",
    "\n",
    "        #get scan duration\n",
    "        scan = abspath('data/' + sub + '/func/' + cond + '/run_' + str(run) + '_fc.nii.gz')\n",
    "        if os.path.exists(scan):\n",
    "            \n",
    "            #deal with design file    \n",
    "            if sub == 'fd_127':\n",
    "                if run == 2:\n",
    "                    run_idx = 1\n",
    "                elif run == 3:\n",
    "                    run_idx = 2\n",
    "            elif cond == 'sim' and sub == 'fd_133':\n",
    "                if run == 3:\n",
    "                    run_idx = 2\n",
    "                else:\n",
    "                    run_idx = run\n",
    "            else:\n",
    "                run_idx = run\n",
    "                \n",
    "            #find last event from the timing file\n",
    "            last_event_time = 0\n",
    "            for line in d:\n",
    "                if line[0] == run_idx:\n",
    "                    if line[2] > last_event_time:\n",
    "                        last_event_time = line[2]\n",
    "            last_event_time = last_event_time + time_to_drop\n",
    "\n",
    "            img = nib.load(scan)\n",
    "            scan_time = img.shape[3]*1.5\n",
    "\n",
    "            #get duration that scan should be\n",
    "            scan_diff = scan_time - last_event_time\n",
    "            if scan_diff < 0: #bad news\n",
    "                print sub\n",
    "\n",
    "            new_scan_time = last_event_time + min(scan_diff,time_to_pad) #pad scan\n",
    "            new_scan_time = new_scan_time/1.5 #back into scans\n",
    "            new_scan_time = int(math.ceil(new_scan_time)) - 3\n",
    "            if cond == 'sim' and sub == 'fd_109' and run == 2:\n",
    "                new_scan_time = 234 #messed up after this\n",
    "                \n",
    "            new_scan = scan[:-7] + '_crop.nii.gz'\n",
    "            if not os.path.exists(new_scan):\n",
    "                cmd = ['fslroi',scan,new_scan,'0','-1','0','-1','0','57','0',str(new_scan_time)]\n",
    "                cmd = ' '.join(cmd)\n",
    "                os.system(cmd)                  \n",
    "        else:\n",
    "            print \"no scan \" + scan"
   ]
  },
  {
   "cell_type": "code",
   "execution_count": 41,
   "metadata": {
    "collapsed": false
   },
   "outputs": [],
   "source": [
    "# def take_two(sub):\n",
    "#     cond = 'zim'\n",
    "#     for run in range(1,4):\n",
    "#         scan = abspath('data/' + sub + '/func/' + cond + '/run_' + str(run) + '_fc_crop.nii.gz')\n",
    "#         new_scan = abspath('data/' + sub + '/func/' + cond + '/run_' + str(run) + '_fc_crop_crop.nii.gz')\n",
    "#         if not os.path.exists(new_scan):\n",
    "#             img = nib.load(scan)\n",
    "#             new_size = str(img.shape[-1] - 3)\n",
    "#             cmd = ['fslroi',scan,new_scan,'0',new_size]\n",
    "#             os.system(' '.join(cmd))\n",
    "#             os.remove(scan)\n",
    "#             os.rename(new_scan,scan)"
   ]
  },
  {
   "cell_type": "code",
   "execution_count": 42,
   "metadata": {
    "collapsed": false,
    "scrolled": true
   },
   "outputs": [
    {
     "name": "stdout",
     "output_type": "stream",
     "text": [
      "no scan /data/home/iballard/fd/data/fd_107/func/sim/run_1_fc.nii.gz\n",
      "no scan /data/home/iballard/fd/data/fd_112/func/sim/run_1_fc.nii.gz\n",
      "no scan /data/home/iballard/fd/data/fd_117/func/sim/run_1_fc.nii.gz\n",
      "no scan /data/home/iballard/fd/data/fd_114/func/sim/run_1_fc.nii.gz\n",
      "no scan /data/home/iballard/fd/data/fd_104/func/sim/run_1_fc.nii.gz\n",
      "no scan /data/home/iballard/fd/data/fd_119/func/sim/run_1_fc.nii.gz\n",
      "no scan /data/home/iballard/fd/data/fd_109/func/sim/run_3_fc.nii.gz\n",
      "no scan /data/home/iballard/fd/data/fd_107/func/sim/run_2_fc.nii.gz\n",
      "no scan /data/home/iballard/fd/data/fd_112/func/sim/run_2_fc.nii.gz\n",
      "no scan /data/home/iballard/fd/data/fd_117/func/sim/run_2_fc.nii.gz\n",
      "no scan /data/home/iballard/fd/data/fd_114/func/sim/run_2_fc.nii.gz\n",
      "no scan /data/home/iballard/fd/data/fd_104/func/sim/run_2_fc.nii.gz\n",
      "no scan /data/home/iballard/fd/data/fd_119/func/sim/run_2_fc.nii.gz\n",
      "no scan /data/home/iballard/fd/data/fd_110/func/sim/run_1_fc.nii.gz\n",
      "no scan /data/home/iballard/fd/data/fd_107/func/sim/run_3_fc.nii.gz\n",
      "no scan /data/home/iballard/fd/data/fd_112/func/sim/run_3_fc.nii.gz\n",
      "no scan /data/home/iballard/fd/data/fd_117/func/sim/run_3_fc.nii.gz\n",
      "no scan /data/home/iballard/fd/data/fd_114/func/sim/run_3_fc.nii.gz\n",
      "no scan /data/home/iballard/fd/data/fd_104/func/sim/run_3_fc.nii.gz\n",
      "no scan /data/home/iballard/fd/data/fd_119/func/sim/run_3_fc.nii.gz\n",
      "no scan /data/home/iballard/fd/data/fd_110/func/sim/run_2_fc.nii.gz\n",
      "no scan /data/home/iballard/fd/data/fd_108/func/sim/run_1_fc.nii.gz\n",
      "no scan /data/home/iballard/fd/data/fd_113/func/sim/run_1_fc.nii.gz\n",
      "no scan /data/home/iballard/fd/data/fd_118/func/sim/run_1_fc.nii.gz\n",
      "no scan /data/home/iballard/fd/data/fd_115/func/sim/run_1_fc.nii.gz\n",
      "no scan /data/home/iballard/fd/data/fd_105/func/sim/run_1_fc.nii.gz\n",
      "no scan /data/home/iballard/fd/data/fd_122/func/sim/run_1_fc.nii.gz\n",
      "no scan /data/home/iballard/fd/data/fd_110/func/sim/run_3_fc.nii.gz\n",
      "no scan /data/home/iballard/fd/data/fd_108/func/sim/run_2_fc.nii.gz\n",
      "no scan /data/home/iballard/fd/data/fd_113/func/sim/run_2_fc.nii.gz\n",
      "no scan /data/home/iballard/fd/data/fd_118/func/sim/run_2_fc.nii.gz\n",
      "no scan /data/home/iballard/fd/data/fd_115/func/sim/run_2_fc.nii.gz\n",
      "no scan /data/home/iballard/fd/data/fd_105/func/sim/run_2_fc.nii.gz\n",
      "no scan /data/home/iballard/fd/data/fd_122/func/sim/run_2_fc.nii.gz\n",
      "no scan /data/home/iballard/fd/data/fd_108/func/sim/run_3_fc.nii.gz\n",
      "no scan /data/home/iballard/fd/data/fd_113/func/sim/run_3_fc.nii.gz\n",
      "no scan /data/home/iballard/fd/data/fd_118/func/sim/run_3_fc.nii.gz\n",
      "no scan /data/home/iballard/fd/data/fd_115/func/sim/run_3_fc.nii.gz\n",
      "no scan /data/home/iballard/fd/data/fd_105/func/sim/run_3_fc.nii.gz\n",
      "no scan /data/home/iballard/fd/data/fd_122/func/sim/run_3_fc.nii.gz\n",
      "no scan /data/home/iballard/fd/data/fd_133/func/sim/run_1_fc.nii.gz\n",
      "no scan /data/home/iballard/fd/data/fd_136/func/sim/run_1_fc.nii.gz\n",
      "no scan /data/home/iballard/fd/data/fd_130/func/sim/run_1_fc.nii.gz\n",
      "no scan /data/home/iballard/fd/data/fd_126/func/sim/run_1_fc.nii.gz\n",
      "no scan /data/home/iballard/fd/data/fd_123/func/sim/run_1_fc.nii.gz\n",
      "no scan /data/home/iballard/fd/data/fd_128/func/sim/run_1_fc.nii.gz\n",
      "no scan /data/home/iballard/fd/data/fd_133/func/sim/run_2_fc.nii.gz\n",
      "no scan /data/home/iballard/fd/data/fd_136/func/sim/run_2_fc.nii.gz\n",
      "no scan /data/home/iballard/fd/data/fd_130/func/sim/run_2_fc.nii.gz\n",
      "no scan /data/home/iballard/fd/data/fd_126/func/sim/run_2_fc.nii.gz\n",
      "no scan /data/home/iballard/fd/data/fd_123/func/sim/run_2_fc.nii.gz\n",
      "no scan /data/home/iballard/fd/data/fd_128/func/sim/run_2_fc.nii.gz\n",
      "no scan /data/home/iballard/fd/data/fd_133/func/sim/run_3_fc.nii.gz\n",
      "no scan /data/home/iballard/fd/data/fd_136/func/sim/run_3_fc.nii.gz\n",
      "no scan /data/home/iballard/fd/data/fd_130/func/sim/run_3_fc.nii.gz\n",
      "no scan /data/home/iballard/fd/data/fd_126/func/sim/run_3_fc.nii.gz\n",
      "no scan /data/home/iballard/fd/data/fd_123/func/sim/run_3_fc.nii.gz\n",
      "no scan /data/home/iballard/fd/data/fd_128/func/sim/run_3_fc.nii.gz\n",
      "no scan /data/home/iballard/fd/data/fd_135/func/sim/run_1_fc.nii.gz\n",
      "no scan /data/home/iballard/fd/data/fd_137/func/sim/run_1_fc.nii.gz\n",
      "no scan /data/home/iballard/fd/data/fd_132/func/sim/run_1_fc.nii.gz\n",
      "no scan /data/home/iballard/fd/data/fd_127/func/sim/run_1_fc.nii.gz\n",
      "no scan /data/home/iballard/fd/data/fd_124/func/sim/run_1_fc.nii.gz\n",
      "no scan /data/home/iballard/fd/data/fd_129/func/sim/run_1_fc.nii.gz\n",
      "no scan /data/home/iballard/fd/data/fd_135/func/sim/run_2_fc.nii.gz\n",
      "no scan /data/home/iballard/fd/data/fd_137/func/sim/run_2_fc.nii.gz\n",
      "no scan /data/home/iballard/fd/data/fd_132/func/sim/run_2_fc.nii.gz\n",
      "no scan /data/home/iballard/fd/data/fd_127/func/sim/run_3_fc.nii.gzno scan /data/home/iballard/fd/data/fd_124/func/sim/run_2_fc.nii.gz\n",
      "no scan /data/home/iballard/fd/data/fd_129/func/sim/run_2_fc.nii.gz\n",
      "no scan /data/home/iballard/fd/data/fd_135/func/sim/run_3_fc.nii.gz\n",
      "no scan /data/home/iballard/fd/data/fd_137/func/sim/run_3_fc.nii.gz\n",
      "no scan /data/home/iballard/fd/data/fd_132/func/sim/run_3_fc.nii.gz\n",
      "\n",
      "no scan /data/home/iballard/fd/data/fd_124/func/sim/run_3_fc.nii.gz\n",
      "no scan /data/home/iballard/fd/data/fd_129/func/sim/run_3_fc.nii.gz\n",
      "no scan /data/home/iballard/fd/data/fd_141/func/sim/run_1_fc.nii.gz\n",
      "no scan /data/home/iballard/fd/data/fd_138/func/sim/run_1_fc.nii.gz\n",
      "no scan /data/home/iballard/fd/data/fd_147/func/sim/run_1_fc.nii.gz\n",
      "no scan /data/home/iballard/fd/data/fd_141/func/sim/run_2_fc.nii.gz\n",
      "no scan /data/home/iballard/fd/data/fd_147/func/sim/run_2_fc.nii.gz\n",
      "no scan /data/home/iballard/fd/data/fd_138/func/sim/run_2_fc.nii.gz\n",
      "no scan /data/home/iballard/fd/data/fd_141/func/sim/run_3_fc.nii.gz\n",
      "no scan /data/home/iballard/fd/data/fd_147/func/sim/run_3_fc.nii.gz\n",
      "no scan /data/home/iballard/fd/data/fd_138/func/sim/run_3_fc.nii.gz\n",
      "no scan /data/home/iballard/fd/data/fd_144/func/sim/run_1_fc.nii.gz\n",
      "no scan /data/home/iballard/fd/data/fd_148/func/sim/run_1_fc.nii.gz\n",
      "no scan /data/home/iballard/fd/data/fd_140/func/sim/run_1_fc.nii.gz\n",
      "no scan /data/home/iballard/fd/data/fd_144/func/sim/run_2_fc.nii.gz\n",
      "no scan /data/home/iballard/fd/data/fd_148/func/sim/run_2_fc.nii.gz\n",
      "no scan /data/home/iballard/fd/data/fd_140/func/sim/run_2_fc.nii.gz\n",
      "no scan /data/home/iballard/fd/data/fd_144/func/sim/run_3_fc.nii.gz\n",
      "no scan /data/home/iballard/fd/data/fd_148/func/sim/run_3_fc.nii.gz\n",
      "no scan /data/home/iballard/fd/data/fd_140/func/sim/run_3_fc.nii.gz\n"
     ]
    }
   ],
   "source": [
    "pool = multiprocessing.Pool(processes = 7)\n",
    "pool.map(crop_sim_ser,sub_list)\n",
    "pool.terminate()\n",
    "pool.join()"
   ]
  },
  {
   "cell_type": "code",
   "execution_count": 30,
   "metadata": {
    "collapsed": false
   },
   "outputs": [
    {
     "name": "stdout",
     "output_type": "stream",
     "text": [
      "data/fd_127/func/sim/run_1_fc_crop.nii.gz\n",
      "data/fd_133/func/sim/run_2_fc_crop.nii.gz\n"
     ]
    }
   ],
   "source": [
    "#check to see everything is hunky dory\n",
    "for sub in sub_list:\n",
    "#     for exp in ['sim','ser']:\n",
    "    for exp in ['sim']:\n",
    "        for run in range(1,3):\n",
    "            scan = 'data/' + sub + '/func/'+exp+'/run_'+str(run)+'_fc_crop.nii.gz'\n",
    "            if not os.path.exists(scan):\n",
    "                print scan"
   ]
  },
  {
   "cell_type": "code",
   "execution_count": 15,
   "metadata": {
    "collapsed": false
   },
   "outputs": [],
   "source": [
    "##remove intermediate files to save space\n",
    "for sub in sub_list:\n",
    "    scans = glob.glob('data/' + sub + '/func/*/*.nii.gz')\n",
    "    for s in scans:\n",
    "        file_name_length = len(s.split('/')[-1:][0].split('_'))\n",
    "        if file_name_length != 2 and file_name_length != 4:\n",
    "            os.remove(s)\n"
   ]
  },
  {
   "cell_type": "code",
   "execution_count": null,
   "metadata": {
    "collapsed": false
   },
   "outputs": [],
   "source": []
  },
  {
   "cell_type": "code",
   "execution_count": null,
   "metadata": {
    "collapsed": true
   },
   "outputs": [],
   "source": []
  }
 ],
 "metadata": {
  "kernelspec": {
   "display_name": "Python 2",
   "language": "python",
   "name": "python2"
  },
  "language_info": {
   "codemirror_mode": {
    "name": "ipython",
    "version": 2
   },
   "file_extension": ".py",
   "mimetype": "text/x-python",
   "name": "python",
   "nbconvert_exporter": "python",
   "pygments_lexer": "ipython2",
   "version": "2.7.6"
  }
 },
 "nbformat": 4,
 "nbformat_minor": 0
}
