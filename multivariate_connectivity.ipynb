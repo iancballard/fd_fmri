{
 "cells": [
  {
   "cell_type": "code",
   "execution_count": 76,
   "metadata": {
    "collapsed": false
   },
   "outputs": [],
   "source": [
    "from moss.mosaic import Mosaic\n",
    "import nibabel as nib\n",
    "import multiprocessing\n",
    "#os and i/o\n",
    "import os\n",
    "import numpy as np\n",
    "import os.path as op\n",
    "import seaborn as sns\n",
    "import matplotlib\n",
    "import scipy\n",
    "import matplotlib.pyplot as plt\n",
    "import pandas as pd\n",
    "import sklearn\n",
    "from sklearn.cross_decomposition import PLSRegression\n",
    "%matplotlib inline"
   ]
  },
  {
   "cell_type": "code",
   "execution_count": 2,
   "metadata": {
    "collapsed": true
   },
   "outputs": [],
   "source": [
    "#preliminary housekeeping\n",
    "home_dir = '/data/home/iballard/fd/'\n",
    "subj_file = home_dir + 'subjects.txt'\n",
    "subs = list(np.loadtxt(subj_file,'string'))\n",
    "os.chdir(home_dir)"
   ]
  },
  {
   "cell_type": "code",
   "execution_count": 16,
   "metadata": {
    "collapsed": true
   },
   "outputs": [],
   "source": [
    "exp = 'sim_4mm-betas'\n",
    "masks = ['lOFC_fill_sim','hipp']\n",
    "smooth = 'unsmoothed'"
   ]
  },
  {
   "cell_type": "code",
   "execution_count": 17,
   "metadata": {
    "collapsed": true
   },
   "outputs": [],
   "source": [
    "def get_condition(i):\n",
    "    if i < 11:\n",
    "        cond = 'b_plus'\n",
    "        trial = i\n",
    "    elif i < 21:\n",
    "        cond = 'c_plus'\n",
    "        trial = i - 10\n",
    "    elif i < 31:\n",
    "        cond = 'c_minus'\n",
    "        trial = i - 20\n",
    "    elif i < 41:\n",
    "        cond = 'b_minus'\n",
    "        trial = i - 30\n",
    "    return cond,trial"
   ]
  },
  {
   "cell_type": "code",
   "execution_count": null,
   "metadata": {
    "collapsed": false
   },
   "outputs": [],
   "source": [
    "betas = {'sub':[],'mask':[],'run':[],'condition':[],'trial':[],'value':[],'voxel':[],'row':[]}\n",
    "for m in masks:\n",
    "\n",
    "    for sub in subs:\n",
    "        sub_path = op.abspath('./analysis/' + exp + '/' + sub + '/reg/epi/' + smooth + '/')\n",
    "\n",
    "        mask = op.abspath('./data/' + sub + '/masks/' + m +'.nii.gz')\n",
    "        mask = nib.load(mask).get_data().astype(bool)\n",
    "\n",
    "        for run in map(str,range(1,4)):\n",
    "            run_dir = sub_path + '/run_'  + run\n",
    "            if os.path.exists(run_dir):\n",
    "                \n",
    "                for i in range(1,41):\n",
    "                    f = run_dir + '/cope' + str(i) + '_xfm.nii.gz'\n",
    "                    cond, trial = get_condition(i)\n",
    "\n",
    "                    #load stat image\n",
    "                    stat = nib.load(f).get_data().astype(float)\n",
    "                    stat = stat[mask]\n",
    "                    \n",
    "                    for n,val in enumerate(stat):\n",
    "                        betas['voxel'].append(n)                        \n",
    "                        betas['sub'].append(sub)\n",
    "                        betas['value'].append(val)\n",
    "                        betas['mask'].append(m)\n",
    "                        betas['run'].append(run)\n",
    "                        betas['condition'].append(cond)\n",
    "                        betas['trial'].append(trial)\n",
    "                        betas['row'].append(i)\n",
    "\n",
    "betas = pd.DataFrame(betas)"
   ]
  },
  {
   "cell_type": "code",
   "execution_count": 59,
   "metadata": {
    "collapsed": false
   },
   "outputs": [],
   "source": [
    "betas = betas.set_index(['sub', 'mask','run'])\n"
   ]
  },
  {
   "cell_type": "code",
   "execution_count": 111,
   "metadata": {
    "collapsed": false
   },
   "outputs": [],
   "source": [
    "scores_df = {'sub':[],'score':[],'y_roi':[]}\n",
    "x_roi = 'hipp'\n",
    "y_roi = 'lOFC_fill_sim'\n",
    "train_runs = [['1','2'],['1','3'],['2','3']]\n",
    "\n",
    "for sub in subs:\n",
    "    scores = []\n",
    "    for train_set in train_runs:\n",
    "        X_train = []\n",
    "        Y_train = []\n",
    "        for run in map(str,range(1,4)):\n",
    "            X = betas.loc[(sub,x_roi,run)]\n",
    "            X = X.pivot(index = 'row',columns='voxel', values='value').values\n",
    "\n",
    "            Y = betas.loc[(sub,y_roi,run)]\n",
    "            Y = Y.pivot(index = 'row',columns='voxel', values='value').values\n",
    "\n",
    "            if run in train_set:\n",
    "                X_train.append(np.copy(X))\n",
    "                Y_train.append(np.copy(Y))\n",
    "            else:\n",
    "                X_test = np.copy(X)\n",
    "                Y_test = np.copy(Y)\n",
    "\n",
    "        X_train = np.array(X_train)\n",
    "        Y_train = np.array(Y_train)\n",
    "\n",
    "        X_train = X_train.reshape(-1, X_train.shape[-1])\n",
    "        Y_train = Y_train.reshape(-1, Y_train.shape[-1])\n",
    "\n",
    "        pls20 = PLSRegression(n_components=10,max_iter = 2000)\n",
    "        pls20.fit(X_train,Y_train)\n",
    "        score = pls20.score(X_test,Y_test)\n",
    "        scores.append(score)\n",
    "    \n",
    "    scores_df['sub'].append(sub)\n",
    "    scores_df['y_roi'].append(y_roi)\n",
    "    scores_df['score'].append(np.mean(scores))\n",
    "scores_df = pd.Dataframe(scores)"
   ]
  }
 ],
 "metadata": {
  "kernelspec": {
   "display_name": "Python 2",
   "language": "python",
   "name": "python2"
  },
  "language_info": {
   "codemirror_mode": {
    "name": "ipython",
    "version": 2
   },
   "file_extension": ".py",
   "mimetype": "text/x-python",
   "name": "python",
   "nbconvert_exporter": "python",
   "pygments_lexer": "ipython2",
   "version": "2.7.11"
  }
 },
 "nbformat": 4,
 "nbformat_minor": 0
}
