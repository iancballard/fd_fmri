{
 "cells": [
  {
   "cell_type": "code",
   "execution_count": 134,
   "metadata": {
    "collapsed": false
   },
   "outputs": [],
   "source": [
    "import nibabel as nib\n",
    "import multiprocessing\n",
    "import os\n",
    "import numpy as np\n",
    "import os.path as op\n",
    "import seaborn as sns\n",
    "import matplotlib\n",
    "import scipy\n",
    "import matplotlib.pyplot as plt\n",
    "import pandas as pd\n",
    "import sklearn\n",
    "from sklearn import preprocessing\n",
    "from sklearn.cross_decomposition import PLSRegression\n",
    "import pickle\n",
    "from ipyparallel import Client\n",
    "from sklearn.linear_model import LogisticRegression\n",
    "from sklearn.cross_validation import LeaveOneLabelOut, cross_val_score, permutation_test_score\n",
    "from sklearn.metrics import confusion_matrix\n",
    "%matplotlib inline"
   ]
  },
  {
   "cell_type": "code",
   "execution_count": 2,
   "metadata": {
    "collapsed": false
   },
   "outputs": [],
   "source": [
    "rc = Client()"
   ]
  },
  {
   "cell_type": "code",
   "execution_count": 3,
   "metadata": {
    "collapsed": false
   },
   "outputs": [],
   "source": [
    "#preliminary housekeeping\n",
    "home_dir = '/data/home/iballard/fd/'\n",
    "subj_file = home_dir + 'subjects.txt'\n",
    "subs = list(np.loadtxt(subj_file,'string'))\n",
    "os.chdir(home_dir)"
   ]
  },
  {
   "cell_type": "code",
   "execution_count": 4,
   "metadata": {
    "collapsed": false
   },
   "outputs": [],
   "source": [
    "exp = 'sim_4mm-betas'\n",
    "masks = ['entorhinal','peri_sim','para_sim','hipp','yeo17_ifs',\n",
    "         'lOFC_fill_sim','mOFC_fill_sim','sim_4mm_striatum_mask']\n",
    "# masks = ['sim_4mm_striatum_limbic_mask','sim_4mm_striatum_frontal_mask']\n",
    "smooth = 'smoothed'"
   ]
  },
  {
   "cell_type": "code",
   "execution_count": 5,
   "metadata": {
    "collapsed": true
   },
   "outputs": [],
   "source": [
    "def get_condition(i):\n",
    "    if i < 11:\n",
    "        cond = 'b_plus'\n",
    "        trial = i\n",
    "    elif i < 21:\n",
    "        cond = 'c_plus'\n",
    "        trial = i - 10\n",
    "    elif i < 31:\n",
    "        cond = 'c_minus'\n",
    "        trial = i - 20\n",
    "    elif i < 41:\n",
    "        cond = 'b_minus'\n",
    "        trial = i - 30\n",
    "    return cond,trial"
   ]
  },
  {
   "cell_type": "code",
   "execution_count": 6,
   "metadata": {
    "collapsed": true
   },
   "outputs": [],
   "source": [
    "overlap_masks = ['peri_sim','para_sim','hipp']\n"
   ]
  },
  {
   "cell_type": "code",
   "execution_count": 7,
   "metadata": {
    "collapsed": true
   },
   "outputs": [],
   "source": [
    "def trim_mask(mask,m):\n",
    "    exclusions = overlap_masks[:]\n",
    "    exclusions.remove(m)\n",
    "    \n",
    "    for e in exclusions:\n",
    "\n",
    "        m1 = op.abspath('./data/' + sub + '/masks/' + e +'.nii.gz')\n",
    "        m1 = nib.load(m1).get_data().astype(bool)\n",
    "\n",
    "        good = np.invert(m1)\n",
    "        mask = np.logical_and(mask,good)\n",
    "    return mask"
   ]
  },
  {
   "cell_type": "code",
   "execution_count": 8,
   "metadata": {
    "collapsed": false
   },
   "outputs": [],
   "source": [
    "# #Saves betas to csv so we don't have to constantly rerun this slow code block\n",
    "# for m in ['VTC_sim']:\n",
    "#     betas = {'sub':[],'mask':[],'run':[],'condition':[],'trial':[],'value':[],'voxel':[],'row':[]}\n",
    "#     out_f = op.join(home_dir,'betas', '_'.join([exp,smooth,m]) + '.csv')\n",
    "    \n",
    "#     for sub in subs:\n",
    "#         sub_path = op.join(home_dir,'analysis', exp, sub, 'reg','epi', smooth )\n",
    "\n",
    "#         mask = op.join(home_dir,'data', sub,  'masks', m + '.nii.gz')\n",
    "#         mask = nib.load(mask).get_data().astype(bool)\n",
    "#         if m in overlap_masks:\n",
    "#             mask = trim_mask(mask,m)\n",
    "            \n",
    "#         for run in map(str,range(1,4)):\n",
    "#             run_dir = op.join(sub_path, 'run_'  + run)\n",
    "            \n",
    "#             if os.path.exists(run_dir):\n",
    "                \n",
    "#                 for i in range(1,41):\n",
    "#                     f = run_dir + '/cope' + str(i) + '_xfm.nii.gz'\n",
    "#                     cond, trial = get_condition(i)\n",
    "\n",
    "#                     #load stat image\n",
    "#                     stat = nib.load(f).get_data().astype(float)\n",
    "#                     stat = stat[mask]\n",
    "                    \n",
    "#                     for n,val in enumerate(stat):\n",
    "#                         betas['voxel'].append(n)                        \n",
    "#                         betas['sub'].append(sub)\n",
    "#                         betas['value'].append(val)\n",
    "#                         betas['mask'].append(m)\n",
    "#                         betas['run'].append(run)\n",
    "#                         betas['condition'].append(cond)\n",
    "#                         betas['trial'].append(trial)\n",
    "#                         betas['row'].append(i)\n",
    "#             else:\n",
    "#                 print run_dir\n",
    "\n",
    "#     betas = pd.DataFrame(betas)\n",
    "#     betas.to_csv(out_f)\n",
    "#     del betas"
   ]
  },
  {
   "cell_type": "code",
   "execution_count": 9,
   "metadata": {
    "collapsed": false
   },
   "outputs": [],
   "source": [
    "#set ROIs of interest and load from hard disk\n",
    "def load_betas(rois):\n",
    "    betas = []\n",
    "    \n",
    "    for m in set(rois):\n",
    "        f = op.join(home_dir,'betas', '_'.join([exp,smooth,m]) + '.csv')\n",
    "        betas.append(pd.read_csv(f))\n",
    "\n",
    "    betas = pd.concat(betas)\n",
    "    betas = betas.set_index(['sub', 'mask','run'])\n",
    "    \n",
    "    return betas"
   ]
  },
  {
   "cell_type": "code",
   "execution_count": 10,
   "metadata": {
    "collapsed": false
   },
   "outputs": [],
   "source": [
    "def multi_connect(x_roi,y_roi,betas):\n",
    "    scores_df = {'sub':[],'score_test':[],'score_train':[],'y_roi':[],'x_roi':[]}\n",
    "    for sub in subs:\n",
    "        if True:\n",
    "            scores_train = []\n",
    "            scores_test = []\n",
    "\n",
    "            #deal with unequal number of runs across subjects\n",
    "            runs = list(set(betas.loc[(sub,x_roi)].index))\n",
    "            if len(runs) == 3:\n",
    "                train_runs = [['1','2'],['1','3'],['2','3']]\n",
    "            elif len(runs) == 2:\n",
    "                train_runs = [['1'],['2']]\n",
    "\n",
    "            for train_set in train_runs:\n",
    "                X_train = []\n",
    "                Y_train = []\n",
    "                for run in runs:\n",
    "                    #extract relevant data from betas df\n",
    "                    X = betas.loc[(sub,x_roi,run)]\n",
    "                    X = X.pivot(index = 'row',columns='voxel', values='value').values\n",
    "                    \n",
    "                    if x_roi == y_roi:\n",
    "                        Y = np.copy(X)\n",
    "                    else:    \n",
    "                        Y = betas.loc[(sub,y_roi,run)]\n",
    "                        Y = Y.pivot(index = 'row',columns='voxel', values='value').values\n",
    "\n",
    "                    if str(run) in train_set:\n",
    "                        X_train.append(np.copy(X))\n",
    "                        Y_train.append(np.copy(Y))\n",
    "                    else:\n",
    "                        X_test = np.copy(X)\n",
    "                        Y_test = np.copy(Y)\n",
    "\n",
    "                #format design matrices for input to sklearn\n",
    "                X_train = np.array(X_train)\n",
    "                Y_train = np.array(Y_train)        \n",
    "\n",
    "                X_train = X_train.reshape(-1, X_train.shape[-1])\n",
    "                Y_train = Y_train.reshape(-1, Y_train.shape[-1])\n",
    "\n",
    "                #standardize\n",
    "                X_train = preprocessing.scale(X_train)\n",
    "                Y_train = preprocessing.scale(Y_train)\n",
    "                X_test = preprocessing.scale(X_test)\n",
    "                Y_test = preprocessing.scale(Y_test)\n",
    "\n",
    "                #compute PLS\n",
    "                pls = PLSRegression(n_components=2,max_iter = 2000)\n",
    "                pls.fit(X_train,Y_train)\n",
    "\n",
    "                score_train = pls.score(X_train,Y_train)\n",
    "                scores_train.append(score_train)\n",
    "\n",
    "                score_test = pls.score(X_test,Y_test)\n",
    "                scores_test.append(score_test)\n",
    "\n",
    "        #save to DF\n",
    "        scores_df['sub'].append(sub)\n",
    "        scores_df['x_roi'].append(x_roi)\n",
    "        scores_df['y_roi'].append(y_roi)\n",
    "        scores_df['score_test'].append(np.mean(scores_test))\n",
    "        scores_df['score_train'].append(np.mean(scores_train))\n",
    "    \n",
    "    scores_df = pd.DataFrame(scores_df)\n",
    "    return scores_df\n",
    "    "
   ]
  },
  {
   "cell_type": "code",
   "execution_count": 11,
   "metadata": {
    "collapsed": true
   },
   "outputs": [],
   "source": [
    "def run_pls(in_tuple):\n",
    "    x_roi, y_roi = in_tuple\n",
    "    out_f = op.join(home_dir,'multi_connectivity', x_roi + '_to_' + y_roi + '_sim.pkl')\n",
    "\n",
    "    if not op.exists(out_f):\n",
    "        betas = load_betas([x_roi,y_roi])\n",
    "        scores = multi_connect(x_roi,y_roi,betas)\n",
    "\n",
    "        # write to a file \n",
    "        output = open(out_f, 'wb')\n",
    "        pickle.dump(scores, output)\n",
    "        output.close()"
   ]
  },
  {
   "cell_type": "code",
   "execution_count": 12,
   "metadata": {
    "collapsed": false,
    "scrolled": true
   },
   "outputs": [],
   "source": [
    "rois = ['hipp','peri_sim','entorhinal','para_sim','VTC_sim',\n",
    "        'mOFC_fill_sim','lOFC_fill_sim','yeo17_ifs',\n",
    "       'sim_4mm_striatum_limbic_mask','sim_4mm_striatum_frontal_mask']\n",
    "roi_pairs = []\n",
    "for i in range(0,len(rois)):\n",
    "    for j in range(0,len(rois)):\n",
    "        if i <= j:\n",
    "            roi_pairs.append((rois[i],rois[j]))\n"
   ]
  },
  {
   "cell_type": "code",
   "execution_count": 37,
   "metadata": {
    "collapsed": false,
    "scrolled": false
   },
   "outputs": [],
   "source": [
    "dview = rc[0:8]\n",
    "dview.block = True\n",
    "\n",
    "dview.push(dict(home_dir=home_dir,\n",
    "                exp = exp,\n",
    "                subs = subs,\n",
    "                smooth = smooth,\n",
    "                load_betas = load_betas,\n",
    "                multi_connect = multi_connect\n",
    "                ))\n",
    "dview.execute(\"import numpy as np\")\n",
    "dview.execute(\"import os.path as op\")\n",
    "dview.execute(\"import nibabel as nib\")\n",
    "dview.execute(\"import pandas as pd\")\n",
    "with dview.sync_imports():\n",
    "    import os\n",
    "    import numpy\n",
    "    import scipy\n",
    "    import scipy.stats\n",
    "    import pickle\n",
    "    import sklearn\n",
    "    from sklearn import preprocessing\n",
    "    from sklearn.cross_decomposition import PLSRegression\n",
    "dview.map_sync(run_pls,roi_pairs)"
   ]
  },
  {
   "cell_type": "code",
   "execution_count": 43,
   "metadata": {
    "collapsed": false
   },
   "outputs": [],
   "source": [
    "df = []\n",
    "for tup in roi_pairs:\n",
    "    x_roi,y_roi = tup\n",
    "    out_f = op.join(home_dir,'multi_connectivity', x_roi + '_to_' + y_roi + '_sim.pkl')\n",
    "    \n",
    "    if op.exists(out_f):\n",
    "\n",
    "        pkl_file = open(out_f, 'rb')\n",
    "        data = pickle.load(pkl_file)\n",
    "\n",
    "        df.append(data)\n",
    "\n",
    "        pkl_file.close()\n",
    "df = pd.concat(df)"
   ]
  },
  {
   "cell_type": "code",
   "execution_count": 44,
   "metadata": {
    "collapsed": false
   },
   "outputs": [],
   "source": [
    "means = df.groupby(['x_roi','y_roi']).mean().unstack()['score_test']\n",
    "df = df.set_index(['x_roi','y_roi'])\n"
   ]
  },
  {
   "cell_type": "code",
   "execution_count": 52,
   "metadata": {
    "collapsed": false
   },
   "outputs": [],
   "source": [
    "sig = {'x_roi':[],'y_roi':[],'sig':[]}\n",
    "for x in rois:\n",
    "    for y in rois:\n",
    "        try:\n",
    "            vals = df.loc[(x,y),'score_test'].values\n",
    "        except:\n",
    "            vals = df.loc[(y,x),'score_test'].values\n",
    "        is_sig = int(scipy.stats.ttest_1samp(vals,0)[1] > .05)\n",
    "        \n",
    "        sig['x_roi'].append(x)\n",
    "        sig['y_roi'].append(y)\n",
    "        sig['x_roi'].append(y)\n",
    "        sig['y_roi'].append(x)\n",
    "        sig['sig'].append(is_sig)\n",
    "        sig['sig'].append(is_sig)\n",
    "sig = pd.DataFrame(sig)\n",
    "sig = sig.groupby(['x_roi','y_roi']).mean().unstack()['sig']\n",
    "mask = sig.values\n",
    "mask[np.triu_indices_from(mask,1)] = True"
   ]
  },
  {
   "cell_type": "code",
   "execution_count": 53,
   "metadata": {
    "collapsed": false
   },
   "outputs": [],
   "source": [
    "def make_symmetric(df,rois):\n",
    "    for n1,x in enumerate(rois):\n",
    "        for n2,y in enumerate(rois):\n",
    "            if n1 < n2:\n",
    "                entry1 = df[x][y]\n",
    "                entry2 = df[y][x]\n",
    "                if np.isnan(entry1):\n",
    "                    df[x][y] = entry2\n",
    "                if np.isnan(entry2):\n",
    "                    df[y][x] = entry1\n",
    "    return df"
   ]
  },
  {
   "cell_type": "code",
   "execution_count": 54,
   "metadata": {
    "collapsed": false
   },
   "outputs": [
    {
     "data": {
      "text/plain": [
       "<matplotlib.axes._subplots.AxesSubplot at 0x7fa96caea090>"
      ]
     },
     "execution_count": 54,
     "metadata": {},
     "output_type": "execute_result"
    },
    {
     "data": {
      "image/png": "[encoded data removed]",
      "text/plain": [
       "<matplotlib.figure.Figure at 0x7fa977afd150>"
      ]
     },
     "metadata": {},
     "output_type": "display_data"
    }
   ],
   "source": [
    "\n",
    "means = make_symmetric(means,rois)\n",
    "sns.set(rc={\"figure.figsize\": (10, 10)})\n",
    "sns.heatmap(means,mask = mask, vmin = 0, vmax = .1)"
   ]
  },
  {
   "cell_type": "markdown",
   "metadata": {
    "collapsed": false
   },
   "source": [
    "# examine content of connectivity\n"
   ]
  },
  {
   "cell_type": "code",
   "execution_count": 115,
   "metadata": {
    "collapsed": false
   },
   "outputs": [],
   "source": [
    "x_roi = 'VTC_sim'\n",
    "y_roi = 'yeo17_ifs'\n",
    "betas = load_betas([x_roi,y_roi])"
   ]
  },
  {
   "cell_type": "code",
   "execution_count": 116,
   "metadata": {
    "collapsed": false
   },
   "outputs": [],
   "source": [
    "sub = 'fd_104'\n",
    "\n",
    "runs = list(set(betas.loc[(sub,x_roi)].index))\n",
    "\n",
    "X_train = []\n",
    "Y_train = []\n",
    "\n",
    "for run in runs:\n",
    "    X = betas.loc[(sub,x_roi,run)]\n",
    "    X = X.pivot(index = 'row',columns='voxel', values='value').values\n",
    "    X_train.append(np.copy(X))\n",
    "    \n",
    "    Y = betas.loc[(sub,y_roi,run)]\n",
    "    Y = Y.pivot(index = 'row',columns='voxel', values='value').values\n",
    "    Y_train.append(np.copy(Y))\n",
    "    \n",
    "\n",
    "#format design matrices for input to sklearn\n",
    "X_train = np.array(X_train)\n",
    "Y_train = np.array(Y_train)        \n",
    "\n",
    "X_train = X_train.reshape(-1, X_train.shape[-1])\n",
    "Y_train = Y_train.reshape(-1, Y_train.shape[-1])\n",
    "\n",
    "#standardize\n",
    "X_train = preprocessing.scale(X_train)\n",
    "Y_train = preprocessing.scale(Y_train)\n",
    "\n",
    "#compute PLS\n",
    "pls = PLSRegression(n_components=8,max_iter = 2000)\n",
    "X,Y = pls.fit_transform(X_train,Y_train)\n",
    "\n"
   ]
  },
  {
   "cell_type": "code",
   "execution_count": 133,
   "metadata": {
    "collapsed": false
   },
   "outputs": [
    {
     "name": "stdout",
     "output_type": "stream",
     "text": [
      "[[ 0.33333333  3.          1.33333333  5.33333333]\n",
      " [ 0.66666667  2.33333333  1.33333333  5.66666667]\n",
      " [ 0.33333333  2.          1.66666667  6.        ]\n",
      " [ 1.33333333  2.          0.66666667  6.        ]]\n",
      "0.375\n"
     ]
    }
   ],
   "source": [
    "\n",
    "sub_betas = betas.loc[(sub,x_roi)]\n",
    "runs = sub_betas[sub_betas['voxel'] == 0].index.values\n",
    "y = sub_betas[sub_betas['voxel'] == 0]['condition'].values\n",
    "\n",
    "clf = LogisticRegression(C=1)\n",
    "cv = LeaveOneLabelOut(runs)\n",
    "\n",
    "res = cross_val_score(clf, Y_train, y, cv=cv, scoring = 'accuracy')\n",
    "\n",
    "cnf = []\n",
    "for train_index, test_index in cv:\n",
    "    X_train, X_test = X[train_index], X[test_index]\n",
    "    y_train, y_test = y[train_index], y[test_index]\n",
    "    \n",
    "    y_pred = classifier.fit(X_train, y_train).predict(X_test)\n",
    "    cnf_matrix = confusion_matrix(y_test, y_pred)\n",
    "    cnf.append(cnf_matrix)\n",
    "cnf = np.array(cnf)\n",
    "print cnf.mean(0)\n",
    "print np.mean(res)"
   ]
  },
  {
   "cell_type": "code",
   "execution_count": 108,
   "metadata": {
    "collapsed": false
   },
   "outputs": [
    {
     "data": {
      "text/plain": [
       "array([ 0.175,  0.35 ,  0.2  ])"
      ]
     },
     "execution_count": 108,
     "metadata": {},
     "output_type": "execute_result"
    }
   ],
   "source": [
    "# Run classifier, using a model that is too regularized (C too low) to see\n",
    "# the impact on the results\n",
    "classifier = svm.SVC(kernel='linear', C=0.01)\n",
    "\n",
    "\n",
    "def plot_confusion_matrix(cm, classes,\n",
    "                          normalize=False,\n",
    "                          title='Confusion matrix',\n",
    "                          cmap=plt.cm.Blues):\n",
    "    \"\"\"\n",
    "    This function prints and plots the confusion matrix.\n",
    "    Normalization can be applied by setting `normalize=True`.\n",
    "    \"\"\"\n",
    "    plt.imshow(cm, interpolation='nearest', cmap=cmap)\n",
    "    plt.title(title)\n",
    "    plt.colorbar()\n",
    "    tick_marks = np.arange(len(classes))\n",
    "    plt.xticks(tick_marks, classes, rotation=45)\n",
    "    plt.yticks(tick_marks, classes)\n",
    "\n",
    "    if normalize:\n",
    "        cm = cm.astype('float') / cm.sum(axis=1)[:, np.newaxis]\n",
    "        print(\"Normalized confusion matrix\")\n",
    "    else:\n",
    "        print('Confusion matrix, without normalization')\n",
    "\n",
    "    print(cm)\n",
    "\n",
    "    thresh = cm.max() / 2.\n",
    "    for i, j in itertools.product(range(cm.shape[0]), range(cm.shape[1])):\n",
    "        plt.text(j, i, cm[i, j],\n",
    "                 horizontalalignment=\"center\",\n",
    "                 color=\"white\" if cm[i, j] > thresh else \"black\")\n",
    "\n",
    "    plt.tight_layout()\n",
    "    plt.ylabel('True label')\n",
    "    plt.xlabel('Predicted label')\n",
    "\n",
    "# Compute confusion matrix\n",
    "np.set_printoptions(precision=2)\n",
    "\n",
    "# Plot non-normalized confusion matrix\n",
    "plt.figure()\n",
    "plot_confusion_matrix(cnf_matrix, classes=class_names,\n",
    "                      title='Confusion matrix, without normalization')\n",
    "\n",
    "# Plot normalized confusion matrix\n",
    "plt.figure()\n",
    "plot_confusion_matrix(cnf_matrix, classes=class_names, normalize=True,\n",
    "                      title='Normalized confusion matrix')\n",
    "\n",
    "plt.show()\n"
   ]
  },
  {
   "cell_type": "code",
   "execution_count": 103,
   "metadata": {
    "collapsed": false
   },
   "outputs": [
    {
     "data": {
      "text/plain": [
       "array(['b_plus', 'b_plus', 'b_plus', 'b_plus', 'b_plus', 'b_plus',\n",
       "       'b_plus', 'b_plus', 'b_plus', 'b_plus', 'c_plus', 'c_plus',\n",
       "       'c_plus', 'c_plus', 'c_plus', 'c_plus', 'c_plus', 'c_plus',\n",
       "       'c_plus', 'c_plus', 'c_minus', 'c_minus', 'c_minus', 'c_minus',\n",
       "       'c_minus', 'c_minus', 'c_minus', 'c_minus', 'c_minus', 'c_minus',\n",
       "       'b_minus', 'b_minus', 'b_minus', 'b_minus', 'b_minus', 'b_minus',\n",
       "       'b_minus', 'b_minus', 'b_minus', 'b_minus', 'b_plus', 'b_plus',\n",
       "       'b_plus', 'b_plus', 'b_plus', 'b_plus', 'b_plus', 'b_plus',\n",
       "       'b_plus', 'b_plus', 'c_plus', 'c_plus', 'c_plus', 'c_plus',\n",
       "       'c_plus', 'c_plus', 'c_plus', 'c_plus', 'c_plus', 'c_plus',\n",
       "       'c_minus', 'c_minus', 'c_minus', 'c_minus', 'c_minus', 'c_minus',\n",
       "       'c_minus', 'c_minus', 'c_minus', 'c_minus', 'b_minus', 'b_minus',\n",
       "       'b_minus', 'b_minus', 'b_minus', 'b_minus', 'b_minus', 'b_minus',\n",
       "       'b_minus', 'b_minus', 'b_plus', 'b_plus', 'b_plus', 'b_plus',\n",
       "       'b_plus', 'b_plus', 'b_plus', 'b_plus', 'b_plus', 'b_plus',\n",
       "       'c_plus', 'c_plus', 'c_plus', 'c_plus', 'c_plus', 'c_plus',\n",
       "       'c_plus', 'c_plus', 'c_plus', 'c_plus', 'c_minus', 'c_minus',\n",
       "       'c_minus', 'c_minus', 'c_minus', 'c_minus', 'c_minus', 'c_minus',\n",
       "       'c_minus', 'c_minus', 'b_minus', 'b_minus', 'b_minus', 'b_minus',\n",
       "       'b_minus', 'b_minus', 'b_minus', 'b_minus', 'b_minus', 'b_minus'], dtype=object)"
      ]
     },
     "execution_count": 103,
     "metadata": {},
     "output_type": "execute_result"
    }
   ],
   "source": [
    "y"
   ]
  },
  {
   "cell_type": "code",
   "execution_count": null,
   "metadata": {
    "collapsed": true
   },
   "outputs": [],
   "source": []
  }
 ],
 "metadata": {
  "kernelspec": {
   "display_name": "Python 2",
   "language": "python",
   "name": "python2"
  },
  "language_info": {
   "codemirror_mode": {
    "name": "ipython",
    "version": 2
   },
   "file_extension": ".py",
   "mimetype": "text/x-python",
   "name": "python",
   "nbconvert_exporter": "python",
   "pygments_lexer": "ipython2",
   "version": "2.7.11"
  }
 },
 "nbformat": 4,
 "nbformat_minor": 0
}
