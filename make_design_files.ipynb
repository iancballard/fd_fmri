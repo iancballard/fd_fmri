{
 "cells": [
  {
   "cell_type": "code",
   "execution_count": 1,
   "metadata": {
    "collapsed": true
   },
   "outputs": [],
   "source": [
    "#os and i/o\n",
    "import os\n",
    "import numpy as np\n",
    "import glob\n",
    "from os.path import abspath\n",
    "import csv\n",
    "\n",
    "#scientific computing\n",
    "import matplotlib\n",
    "import matplotlib.pyplot as plt\n",
    "import pandas as pd\n",
    "from scipy import stats, optimize\n",
    "from pandas import DataFrame, Series\n",
    "import seaborn as sns\n",
    "import random as rd\n",
    "from statsmodels.formula.api import ols\n",
    "from statsmodels.stats.anova import anova_lm\n",
    "import scipy.stats"
   ]
  },
  {
   "cell_type": "markdown",
   "metadata": {},
   "source": [
    "Makes design files for the ser, loc, and sim experiments"
   ]
  },
  {
   "cell_type": "code",
   "execution_count": 76,
   "metadata": {
    "collapsed": true
   },
   "outputs": [],
   "source": [
    "#preliminary stuff\n",
    "home_dir = '/data/home/iballard/fd/'\n",
    "subj_file = home_dir + 'scripts/sub_cb_mappings.txt'\n",
    "os.chdir(home_dir)\n",
    "\n",
    "time_to_drop = 12.0 #number of seconds of scans to drop\n",
    "\n",
    "#get subject list\n",
    "sub_list = []\n",
    "sub_to_cb = {}\n",
    "with open(subj_file) as f:\n",
    "    for line in f:\n",
    "        (key,val) = line.strip().split(' ') \n",
    "        sub_list.append('fd_' + key)\n",
    "        sub_to_cb['fd_' + key] = int(val)"
   ]
  },
  {
   "cell_type": "code",
   "execution_count": 77,
   "metadata": {
    "collapsed": false
   },
   "outputs": [],
   "source": [
    "##get timing file for object localizer\n",
    "def load_timing_file(run,time_to_drop):\n",
    "    loc_file = home_dir + '/loc_timing/script_kidLoc_2Hz_run' + str(run)\n",
    "    trial_type = []\n",
    "    time = []\n",
    "    with open(loc_file) as f:\n",
    "        for n,line in enumerate(f):\n",
    "            l = line.strip('\\n').split('\\t')\n",
    "            if len(l)==5: #ignore file header and footer\n",
    "                trial_type.append(int(l[2]))\n",
    "                time.append(float(l[1]) - time_to_drop)\n",
    "    return trial_type, time"
   ]
  },
  {
   "cell_type": "code",
   "execution_count": 82,
   "metadata": {
    "collapsed": false
   },
   "outputs": [],
   "source": [
    "#trial type dictionary for object localizer\n",
    "def trial_type_dict():\n",
    "    return {0:'scramble', 1:'face-adult', 2:'face-child', 3:'body', 4:'limb', 5:'car',\n",
    "            6:'guitar', 7:'place', 8:'house', 9:'word', 10:'number'}"
   ]
  },
  {
   "cell_type": "code",
   "execution_count": 83,
   "metadata": {
    "collapsed": false
   },
   "outputs": [],
   "source": [
    "def write_loc_file(design_dir,cb):\n",
    "    trial_dict = trial_type_dict()\n",
    "    duration = 4 #all blocks are 4s\n",
    "    \n",
    "    #set up run counterbalance\n",
    "    if cb==1:\n",
    "        run_dict = {1: '1', 2:'2'}\n",
    "    else:\n",
    "        run_dict = {1: '2', 2:'1'}\n",
    "    \n",
    "    #prepare out file\n",
    "    out_file = design_dir + 'loc.csv'\n",
    "    if os.path.exists(out_file):\n",
    "        os.remove(out_file)\n",
    "    out_f = open(out_file,'w')\n",
    "    out_f.write('run,condition,onset,duration\\n')\n",
    "\n",
    "    for run in range(1,3):\n",
    "        trial_type, time = load_timing_file(run,time_to_drop)\n",
    "\n",
    "        #write out file\n",
    "        for n,trial in enumerate(trial_type):\n",
    "            if n > 0 and trial != trial_type[n-1]: #start of a new trial\n",
    "                if trial_dict[trial] != 'scramble': #not a condition\n",
    "                    new_line = ','.join([run_dict[run],trial_dict[trial],str(time[n]),str(4)+'\\n'])\n",
    "                    out_f.write(new_line)\n",
    "    out_f.close()\n",
    "    return"
   ]
  },
  {
   "cell_type": "code",
   "execution_count": 84,
   "metadata": {
    "collapsed": false
   },
   "outputs": [],
   "source": [
    "#make design folder\n",
    "for sub in sub_list:\n",
    "    design_dir = home_dir + 'data/' + sub + '/design/'\n",
    "    if not os.path.exists(design_dir):\n",
    "        os.makedirs(design_dir)\n",
    "    \n",
    "    #write file\n",
    "    write_loc_file(design_dir, sub_to_cb[sub])\n",
    "    "
   ]
  },
  {
   "cell_type": "code",
   "execution_count": null,
   "metadata": {
    "collapsed": true
   },
   "outputs": [],
   "source": []
  }
 ],
 "metadata": {
  "kernelspec": {
   "display_name": "Python 2",
   "language": "python",
   "name": "python2"
  },
  "language_info": {
   "codemirror_mode": {
    "name": "ipython",
    "version": 2
   },
   "file_extension": ".py",
   "mimetype": "text/x-python",
   "name": "python",
   "nbconvert_exporter": "python",
   "pygments_lexer": "ipython2",
   "version": "2.7.6"
  }
 },
 "nbformat": 4,
 "nbformat_minor": 0
}
