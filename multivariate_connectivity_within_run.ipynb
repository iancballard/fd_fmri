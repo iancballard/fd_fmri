{
 "cells": [
  {
   "cell_type": "code",
   "execution_count": 1,
   "metadata": {
    "collapsed": false
   },
   "outputs": [
    {
     "name": "stderr",
     "output_type": "stream",
     "text": [
      "/home/iballard/.local/lib/python2.7/site-packages/sklearn/cross_validation.py:44: DeprecationWarning: This module was deprecated in version 0.18 in favor of the model_selection module into which all the refactored classes and functions are moved. Also note that the interface of the new CV iterators are different from that of this module. This module will be removed in 0.20.\n",
      "  \"This module will be removed in 0.20.\", DeprecationWarning)\n"
     ]
    }
   ],
   "source": [
    "import nibabel as nib\n",
    "import multiprocessing\n",
    "import os\n",
    "import numpy as np\n",
    "import os.path as op\n",
    "import seaborn as sns\n",
    "import matplotlib\n",
    "import scipy\n",
    "import matplotlib.pyplot as plt\n",
    "import pandas as pd\n",
    "import sklearn\n",
    "from sklearn import svm\n",
    "from sklearn import preprocessing\n",
    "from sklearn.cross_decomposition import PLSRegression\n",
    "import pickle\n",
    "from ipyparallel import Client\n",
    "from sklearn.linear_model import LogisticRegression\n",
    "from sklearn.pipeline import Pipeline\n",
    "from sklearn import decomposition\n",
    "from sklearn.cross_validation import LeaveOneLabelOut, cross_val_score, permutation_test_score\n",
    "from sklearn.metrics import confusion_matrix\n",
    "from sklearn.feature_selection import SelectFromModel\n",
    "from sklearn.svm import LinearSVC\n",
    "from sklearn.ensemble import RandomForestClassifier\n",
    "from sklearn.feature_selection import SelectKBest, f_classif\n",
    "from sklearn.multiclass import OneVsOneClassifier\n",
    "from sklearn.multiclass import OneVsRestClassifier\n",
    "from sklearn.cross_validation import StratifiedKFold\n",
    "from sklearn.svm import LinearSVC\n",
    "%matplotlib inline"
   ]
  },
  {
   "cell_type": "code",
   "execution_count": 2,
   "metadata": {
    "collapsed": false
   },
   "outputs": [],
   "source": [
    "rc = Client()"
   ]
  },
  {
   "cell_type": "code",
   "execution_count": 3,
   "metadata": {
    "collapsed": false
   },
   "outputs": [],
   "source": [
    "#preliminary housekeeping\n",
    "home_dir = '/home/iballard/fd/'\n",
    "subj_file = home_dir + 'subjects.txt'\n",
    "subs = list(np.loadtxt(subj_file,'string'))\n",
    "os.chdir(home_dir)"
   ]
  },
  {
   "cell_type": "code",
   "execution_count": 4,
   "metadata": {
    "collapsed": false
   },
   "outputs": [],
   "source": [
    "exp = 'sim_4mm-betas'\n",
    "# masks = ['entorhinal','peri_sim','para_sim','hipp','yeo17_ifs',\n",
    "#          'lOFC_fill_sim','mOFC_fill_sim','sim_4mm_striatum_mask']\n",
    "masks = ['hipp','sim_4mm_striatum_limbic_mask','sim_4mm_striatum_frontal_mask']\n",
    "smooth = 'smoothed'"
   ]
  },
  {
   "cell_type": "code",
   "execution_count": 5,
   "metadata": {
    "collapsed": true
   },
   "outputs": [],
   "source": [
    "def get_condition(i):\n",
    "    if i < 11:\n",
    "        cond = 'b_plus'\n",
    "        trial = i\n",
    "    elif i < 21:\n",
    "        cond = 'c_plus'\n",
    "        trial = i - 10\n",
    "    elif i < 31:\n",
    "        cond = 'c_minus'\n",
    "        trial = i - 20\n",
    "    elif i < 41:\n",
    "        cond = 'b_minus'\n",
    "        trial = i - 30\n",
    "    return cond,trial"
   ]
  },
  {
   "cell_type": "code",
   "execution_count": 9,
   "metadata": {
    "collapsed": false
   },
   "outputs": [],
   "source": [
    "#set ROIs of interest and load from hard disk\n",
    "def load_whitened_betas(rois):\n",
    "    smooth = 'smoothed'\n",
    "    betas = []\n",
    "    for sub in subs:\n",
    "        for m in set(rois):\n",
    "            out_f = op.join(home_dir,'betas', 'whitened','_'.join(['sim_4mm-betas',sub,smooth,m]) + '.csv')\n",
    "            betas.append(pd.read_csv(out_f))\n",
    "    betas = pd.concat(betas)\n",
    "    betas = betas.set_index(['sub', 'mask','run'])\n",
    "\n",
    "    return betas\n"
   ]
  },
  {
   "cell_type": "code",
   "execution_count": 11,
   "metadata": {
    "collapsed": true
   },
   "outputs": [],
   "source": [
    "#set ROIs of interest and load from hard disk\n",
    "def load_betas(rois):\n",
    "    betas = []\n",
    "    for sub in subs:\n",
    "        for m in set(rois):\n",
    "            f = op.join(home_dir,'betas','whitened', '_'.join([exp,sub,smooth,m]) + '.csv')\n",
    "            f = pd.read_csv(f)\n",
    "            betas.append(f)\n",
    "\n",
    "    betas = pd.concat(betas)\n",
    "    betas = betas.set_index(['sub', 'mask','run'])\n",
    "    \n",
    "    return betas"
   ]
  },
  {
   "cell_type": "code",
   "execution_count": 13,
   "metadata": {
    "collapsed": false
   },
   "outputs": [],
   "source": [
    "betas = load_whitened_betas(['hipp','sim_4mm_striatum_PE_mf_mask'])"
   ]
  },
  {
   "cell_type": "code",
   "execution_count": 19,
   "metadata": {
    "collapsed": false
   },
   "outputs": [
    {
     "data": {
      "text/plain": [
       "{1, 2, 3, 4, 5, 6, 7, 8, 9, 10}"
      ]
     },
     "execution_count": 19,
     "metadata": {},
     "output_type": "execute_result"
    }
   ],
   "source": [
    "X = betas.loc[('fd_104','hipp',1)]\n",
    "set(X['trial'])"
   ]
  },
  {
   "cell_type": "code",
   "execution_count": 28,
   "metadata": {
    "collapsed": false
   },
   "outputs": [],
   "source": [
    "def multi_connect(x_roi,y_roi,betas):\n",
    "    scores_df = {'sub':[],'score_test':[],'score_train':[],'y_roi':[],'x_roi':[]}\n",
    "    for sub in subs:\n",
    "        scores_train = []\n",
    "        scores_test = []\n",
    "\n",
    "        #deal with unequal number of runs across subjects\n",
    "        runs = list(set(betas.loc[(sub,x_roi)].index))\n",
    "        if len(runs) == 3:\n",
    "            train_runs = [['1','2'],['1','3'],['2','3']]\n",
    "        elif len(runs) == 2:\n",
    "            train_runs = [['1'],['2']]\n",
    "\n",
    "        for train_set in train_runs:\n",
    "            X_train = []\n",
    "            Y_train = []\n",
    "            for run in runs:\n",
    "                #extract relevant data from betas df\n",
    "                X = betas.loc[(sub,x_roi,run)]\n",
    "                X = X.pivot(index = 'row',columns='voxel', values='value').values\n",
    "\n",
    "                if x_roi == y_roi:\n",
    "                    Y = np.copy(X)\n",
    "                else:    \n",
    "                    Y = betas.loc[(sub,y_roi,run)]\n",
    "                    Y = Y.pivot(index = 'row',columns='voxel', values='value').values\n",
    "\n",
    "                if str(run) in train_set:\n",
    "                    X_train.append(np.copy(X))\n",
    "                    Y_train.append(np.copy(Y))\n",
    "                else:\n",
    "                    X_test = np.copy(X)\n",
    "                    Y_test = np.copy(Y)\n",
    "\n",
    "            #format design matrices for input to sklearn\n",
    "            X_train = np.array(X_train)\n",
    "            Y_train = np.array(Y_train)        \n",
    "\n",
    "            X_train = X_train.reshape(-1, X_train.shape[-1])\n",
    "            Y_train = Y_train.reshape(-1, Y_train.shape[-1])\n",
    "\n",
    "            #standardize\n",
    "            X_train = preprocessing.scale(X_train)\n",
    "            Y_train = preprocessing.scale(Y_train)\n",
    "            X_test = preprocessing.scale(X_test)\n",
    "            Y_test = preprocessing.scale(Y_test)\n",
    "\n",
    "            #compute PLS\n",
    "            pls = PLSRegression(n_components=2,max_iter = 2000)\n",
    "            pls.fit(X_train,Y_train)\n",
    "\n",
    "            score_train = pls.score(X_train,Y_train)\n",
    "            scores_train.append(score_train)\n",
    "\n",
    "            score_test = pls.score(X_test,Y_test)\n",
    "            scores_test.append(score_test)\n",
    "\n",
    "    #save to DF\n",
    "    scores_df['sub'].append(sub)\n",
    "    scores_df['x_roi'].append(x_roi)\n",
    "    scores_df['y_roi'].append(y_roi)\n",
    "    scores_df['score_test'].append(np.mean(scores_test))\n",
    "    scores_df['score_train'].append(np.mean(scores_train))\n",
    "    scores_df = pd.DataFrame(scores_df)\n",
    "    return scores_df"
   ]
  },
  {
   "cell_type": "code",
   "execution_count": 29,
   "metadata": {
    "collapsed": true
   },
   "outputs": [],
   "source": [
    "def run_pls(in_tuple):\n",
    "    x_roi, y_roi = in_tuple\n",
    "    out_f = op.join(home_dir,'multi_connectivity', x_roi + '_to_' + y_roi + '_sim_white.pkl')\n",
    "\n",
    "    if True:#not op.exists(out_f):\n",
    "        betas = load_whitened_betas([x_roi,y_roi])\n",
    "        scores = multi_connect(x_roi,y_roi,betas)\n",
    "\n",
    "        # write to a file \n",
    "        output = open(out_f, 'wb')\n",
    "        pickle.dump(scores, output)\n",
    "        output.close()"
   ]
  },
  {
   "cell_type": "code",
   "execution_count": 30,
   "metadata": {
    "collapsed": false,
    "scrolled": true
   },
   "outputs": [],
   "source": [
    "# rois = ['hipp','peri_sim','para_sim',\n",
    "#         'mOFC_fill_sim','yeo17_ifs',]\n",
    "rois = masks\n",
    "roi_pairs = []\n",
    "for i in range(0,len(rois)):\n",
    "    for j in range(0,len(rois)):\n",
    "        if i <= j:\n",
    "            roi_pairs.append((rois[i],rois[j]))\n",
    "run_pls(roi_pairs[1])"
   ]
  },
  {
   "cell_type": "code",
   "execution_count": 100,
   "metadata": {
    "collapsed": false,
    "scrolled": false
   },
   "outputs": [
    {
     "name": "stdout",
     "output_type": "stream",
     "text": [
      "importing os on engine(s)\n",
      "importing numpy on engine(s)\n",
      "importing scipy on engine(s)\n",
      "importing scipy.stats on engine(s)\n",
      "importing pickle on engine(s)\n",
      "importing sklearn on engine(s)\n",
      "importing preprocessing from sklearn on engine(s)\n",
      "importing PLSRegression from sklearn.cross_decomposition on engine(s)\n"
     ]
    },
    {
     "data": {
      "text/plain": [
       "[None,\n",
       " None,\n",
       " None,\n",
       " None,\n",
       " None,\n",
       " None,\n",
       " None,\n",
       " None,\n",
       " None,\n",
       " None,\n",
       " None,\n",
       " None,\n",
       " None,\n",
       " None,\n",
       " None]"
      ]
     },
     "execution_count": 100,
     "metadata": {},
     "output_type": "execute_result"
    }
   ],
   "source": [
    "dview = rc[0:8]\n",
    "dview.block = True\n",
    "\n",
    "dview.push(dict(home_dir=home_dir,\n",
    "                exp = exp,\n",
    "                subs = subs,\n",
    "                smooth = smooth,\n",
    "                load_betas = load_betas,\n",
    "                load_whitened_betas = load_whitened_betas,\n",
    "                multi_connect = multi_connect\n",
    "                ))\n",
    "dview.execute(\"import numpy as np\")\n",
    "dview.execute(\"import os.path as op\")\n",
    "dview.execute(\"import nibabel as nib\")\n",
    "dview.execute(\"import pandas as pd\")\n",
    "with dview.sync_imports():\n",
    "    import os\n",
    "    import numpy\n",
    "    import scipy\n",
    "    import scipy.stats\n",
    "    import pickle\n",
    "    import sklearn\n",
    "    from sklearn import preprocessing\n",
    "    from sklearn.cross_decomposition import PLSRegression\n",
    "dview.map_sync(run_pls,roi_pairs)"
   ]
  },
  {
   "cell_type": "code",
   "execution_count": 101,
   "metadata": {
    "collapsed": false
   },
   "outputs": [],
   "source": [
    "df = []\n",
    "for tup in roi_pairs:\n",
    "    x_roi,y_roi = tup\n",
    "    out_f = op.join(home_dir,'multi_connectivity', x_roi + '_to_' + y_roi + '_sim_white.pkl')\n",
    "    \n",
    "    if op.exists(out_f):\n",
    "\n",
    "        pkl_file = open(out_f, 'rb')\n",
    "        data = pickle.load(pkl_file)\n",
    "\n",
    "        df.append(data)\n",
    "\n",
    "        pkl_file.close()\n",
    "df = pd.concat(df)"
   ]
  },
  {
   "cell_type": "code",
   "execution_count": 102,
   "metadata": {
    "collapsed": false
   },
   "outputs": [],
   "source": [
    "means = df.groupby(['x_roi','y_roi']).mean().unstack()['score_test']\n",
    "df = df.set_index(['x_roi','y_roi'])\n"
   ]
  },
  {
   "cell_type": "code",
   "execution_count": 33,
   "metadata": {
    "collapsed": false
   },
   "outputs": [],
   "source": [
    "out_f = op.join(home_dir,'multi_connectivity', masks[0] + '_to_' + masks[1] + '_sim_white.pkl')\n",
    "pkl_file = open(out_f, 'rb')\n",
    "data = pickle.load(pkl_file)\n",
    "# data\n",
    "# scipy.stats.ttest_1samp(data['score_test'],0)"
   ]
  },
  {
   "cell_type": "code",
   "execution_count": 107,
   "metadata": {
    "collapsed": false
   },
   "outputs": [],
   "source": [
    "sig = {'x_roi':[],'y_roi':[],'sig':[]}\n",
    "for x in rois:\n",
    "    for y in rois:\n",
    "        try:\n",
    "            vals = df.loc[(x,y),'score_test'].values\n",
    "        except:\n",
    "            vals = df.loc[(y,x),'score_test'].values\n",
    "        is_sig = int(scipy.stats.ttest_1samp(vals,0)[1] > .005)\n",
    "        sig['x_roi'].append(x)\n",
    "        sig['y_roi'].append(y)\n",
    "        sig['x_roi'].append(y)\n",
    "        sig['y_roi'].append(x)\n",
    "        sig['sig'].append(is_sig)\n",
    "        sig['sig'].append(is_sig)\n",
    "sig = pd.DataFrame(sig)\n",
    "sig = sig.groupby(['x_roi','y_roi']).mean().unstack()['sig']\n",
    "mask = sig.values\n",
    "mask[np.triu_indices_from(mask,1)] = True"
   ]
  },
  {
   "cell_type": "code",
   "execution_count": 108,
   "metadata": {
    "collapsed": false
   },
   "outputs": [],
   "source": [
    "def make_symmetric(df,rois):\n",
    "    for n1,x in enumerate(rois):\n",
    "        for n2,y in enumerate(rois):\n",
    "            if n1 < n2:\n",
    "                entry1 = df[x][y]\n",
    "                entry2 = df[y][x]\n",
    "                if np.isnan(entry1):\n",
    "                    df[x][y] = entry2\n",
    "                if np.isnan(entry2):\n",
    "                    df[y][x] = entry1\n",
    "    return df"
   ]
  },
  {
   "cell_type": "code",
   "execution_count": 109,
   "metadata": {
    "collapsed": false
   },
   "outputs": [
    {
     "data": {
      "text/plain": [
       "<matplotlib.axes._subplots.AxesSubplot at 0x7f4dcb690a10>"
      ]
     },
     "execution_count": 109,
     "metadata": {},
     "output_type": "execute_result"
    },
    {
     "data": {
      "image/png": "[encoded data removed]",
      "text/plain": [
       "<matplotlib.figure.Figure at 0x7f4dcb3cad90>"
      ]
     },
     "metadata": {},
     "output_type": "display_data"
    }
   ],
   "source": [
    "\n",
    "means = make_symmetric(means,rois)\n",
    "sns.set(rc={\"figure.figsize\": (10, 10)})\n",
    "sns.heatmap(means,mask = mask, vmin = 0, vmax = .1)"
   ]
  },
  {
   "cell_type": "code",
   "execution_count": 54,
   "metadata": {
    "collapsed": false
   },
   "outputs": [
    {
     "data": {
      "text/plain": [
       "<matplotlib.axes._subplots.AxesSubplot at 0x7fa96caea090>"
      ]
     },
     "execution_count": 54,
     "metadata": {},
     "output_type": "execute_result"
    },
    {
     "data": {
      "image/png": "[encoded data removed]",
      "text/plain": [
       "<matplotlib.figure.Figure at 0x7fa977afd150>"
      ]
     },
     "metadata": {},
     "output_type": "display_data"
    }
   ],
   "source": [
    "\n",
    "means = make_symmetric(means,rois)\n",
    "sns.set(rc={\"figure.figsize\": (10, 10)})\n",
    "sns.heatmap(means,mask = mask, vmin = 0, vmax = .1)"
   ]
  },
  {
   "cell_type": "markdown",
   "metadata": {
    "collapsed": false
   },
   "source": [
    "# examine content of connectivity\n"
   ]
  },
  {
   "cell_type": "code",
   "execution_count": 65,
   "metadata": {
    "collapsed": false
   },
   "outputs": [],
   "source": [
    "# betas = load_betas(['para_sim','peri_sim','mOFC_fill_sim','lOFC_fill_sim',\n",
    "#                     'VTC_sim','yeo17_ifs','hipp'])\n",
    "betas = load_whitened_betas(['mOFC_fill_sim','yeo17_ifs','hipp'])"
   ]
  },
  {
   "cell_type": "code",
   "execution_count": 66,
   "metadata": {
    "collapsed": true
   },
   "outputs": [],
   "source": [
    "# def mvpa(roi,betas):\n",
    "#     all_cnf = []\n",
    "#     scores_df = {'sub':[],'score':[],'roi':[]}\n",
    "#     for sub in subs:\n",
    "        \n",
    "#         ##get X data\n",
    "#         runs = list(set(betas.loc[(sub,roi)].index))\n",
    "#         X_data = []\n",
    "#         for run in runs:\n",
    "#             X = betas.loc[(sub,roi,run)]\n",
    "#             X = X.pivot(index = 'row',columns='voxel', values='value').values\n",
    "#             X_data.append(np.copy(X))\n",
    "#         X_data = np.array(X_data)\n",
    "#         X_data = X_data.reshape(-1, X_data.shape[-1])\n",
    "#         X_data = preprocessing.scale(X_data)\n",
    "\n",
    "#         #get y\n",
    "#         sub_betas = betas.loc[(sub,roi)]\n",
    "#         y = sub_betas[sub_betas['voxel'] == 0]['condition'].values\n",
    "# #         ymap = {'b_plus':'+','c_plus':'+','b_minus':'-','c_minus':'-'}\n",
    "#         ymap = {'b_plus':0,'c_plus':1,'b_minus':2,'c_minus':3}\n",
    "#         y = np.array([ymap[x] for x in y])\n",
    "        \n",
    "#         #compute cross-val\n",
    "#         runs = sub_betas[sub_betas['voxel'] == 0].index.values\n",
    "#         cv = LeaveOneLabelOut(runs)\n",
    "\n",
    "#         #compute cross-val score\n",
    "#         linearSVM = svm.SVC(kernel='linear')\n",
    "#         logistic = LogisticRegression(C=1)\n",
    "# #         clf = Pipeline([('anova',anova),('classification',logistic)])\n",
    "#         pca = decomposition.PCA(n_components = 20)\n",
    "#         clf = Pipeline(steps=[('pca', pca), ('logistic', logistic)])\n",
    "        \n",
    "#         res = cross_val_score(logistic, X_data, y, cv=cv, scoring = 'accuracy')\n",
    "#         score = np.mean(res)\n",
    "        \n",
    "#         #compute confusion matrix\n",
    "#         cnf = []\n",
    "#         for train_index, test_index in cv:\n",
    "#             X_train, X_test = X_data[train_index], X_data[test_index]\n",
    "#             y_train, y_test = y[train_index], y[test_index]\n",
    "\n",
    "#             y_pred = clf.fit(X_train, y_train).predict(X_test)\n",
    "#             cnf_matrix = confusion_matrix(y_test, y_pred)\n",
    "#             cnf.append(cnf_matrix)\n",
    "#         cnf = np.array(cnf)\n",
    "#         all_cnf.append(cnf.mean(0))\n",
    "\n",
    "#         #compile results\n",
    "#         scores_df['roi'].append(roi)\n",
    "#         scores_df['sub'].append(sub)\n",
    "#         scores_df['score'].append(score)\n",
    "#         print sub,score\n",
    "#     return pd.DataFrame(scores_df), all_cnf\n",
    "\n"
   ]
  },
  {
   "cell_type": "code",
   "execution_count": 54,
   "metadata": {
    "collapsed": false
   },
   "outputs": [],
   "source": [
    "def mvpa(roi,betas):\n",
    "    all_cnf = []\n",
    "    scores_df = {'sub':[],'score':[],'roi':[]}\n",
    "    for sub in subs:\n",
    "        \n",
    "        runs_score = []\n",
    "        runs_cnf = []\n",
    "        runs = list(set(betas.loc[(sub,roi)].index))\n",
    "        for run in runs:\n",
    "        \n",
    "            ##get X data\n",
    "            sub_betas = betas.loc[(sub,roi,run)]\n",
    "            X_data = sub_betas.pivot(index = 'row',columns='voxel', values='value').values\n",
    "            X_data = preprocessing.scale(X_data)\n",
    "\n",
    "            #get y\n",
    "            y = sub_betas[sub_betas['voxel'] == 0]['condition'].values\n",
    "            ymap = {'b_plus':0,'c_plus':1,'b_minus':2,'c_minus':3}\n",
    "            y = np.array([ymap[x] for x in y])\n",
    "\n",
    "            #cross val\n",
    "            skf = StratifiedKFold(y,n_folds=3)\n",
    "\n",
    "            #set up classifier\n",
    "            logistic = LogisticRegression(C=1)\n",
    "            pca = decomposition.PCA(n_components = 20)\n",
    "            clf = Pipeline(steps=[('pca', pca), ('logistic', logistic)])\n",
    "\n",
    "            #compute cross-val score\n",
    "            res = cross_val_score(clf, X_data, y, cv=skf, scoring = 'accuracy')\n",
    "            score = np.mean(res)\n",
    "            runs_score.append(score)\n",
    "            \n",
    "            #compute confusion matrix\n",
    "            cnf = []\n",
    "            for train_index, test_index in skf:\n",
    "                X_train, X_test = X_data[train_index], X_data[test_index]\n",
    "                y_train, y_test = y[train_index], y[test_index]\n",
    "\n",
    "                y_pred = clf.fit(X_train, y_train).predict(X_test)\n",
    "                cnf_matrix = confusion_matrix(y_test, y_pred)\n",
    "                cnf.append(cnf_matrix)\n",
    "            runs_cnf.append(np.array(cnf).mean(0))\n",
    "            \n",
    "        #compile results\n",
    "        all_cnf.append(np.array(runs_cnf).mean(0))\n",
    "        scores_df['roi'].append(roi)\n",
    "        scores_df['sub'].append(sub)\n",
    "        scores_df['score'].append(np.mean(runs_score))\n",
    "        print sub,score\n",
    "    return pd.DataFrame(scores_df), all_cnf"
   ]
  },
  {
   "cell_type": "code",
   "execution_count": 55,
   "metadata": {
    "collapsed": true
   },
   "outputs": [],
   "source": [
    "#project a onto be\n",
    "def vector_project(a,b):\n",
    "    return (np.dot(a,b)/np.dot(b,b)) * b\n",
    "    "
   ]
  },
  {
   "cell_type": "code",
   "execution_count": 56,
   "metadata": {
    "collapsed": false
   },
   "outputs": [
    {
     "name": "stdout",
     "output_type": "stream",
     "text": [
      "fd_104 1.0\n",
      "fd_105 1.0\n",
      "fd_107 1.0\n",
      "fd_108 1.0\n",
      "fd_109 1.0\n"
     ]
    },
    {
     "name": "stderr",
     "output_type": "stream",
     "text": [
      "\n",
      "KeyboardInterrupt\n"
     ]
    }
   ],
   "source": [
    "roi = 'hipp'\n",
    "scores_fd, all_cnf = mvpa(roi,betas)\n"
   ]
  },
  {
   "cell_type": "code",
   "execution_count": 51,
   "metadata": {
    "collapsed": false
   },
   "outputs": [
    {
     "name": "stdout",
     "output_type": "stream",
     "text": [
      "score    0.993924\n",
      "dtype: float64\n",
      "Ttest_1sampResult(statistic=446.68122835676689, pvalue=1.3119607340710525e-60)\n"
     ]
    }
   ],
   "source": [
    "print scores_fd.mean()\n",
    "print scipy.stats.ttest_1samp(scores_fd['score'],.25)\n",
    "# plt.hist(scores_fd['score'] - .25)"
   ]
  },
  {
   "cell_type": "code",
   "execution_count": 52,
   "metadata": {
    "collapsed": false
   },
   "outputs": [],
   "source": [
    "def make_fig(rois,all_cnf):\n",
    "    sns.set(rc={\"figure.figsize\": (8, 8)})\n",
    "    cnf = np.mean(np.array(all_cnf),0)/10.0\n",
    "    for i in range(cnf.shape[0]):\n",
    "        for j in range(cnf.shape[0]):\n",
    "            if i < j:\n",
    "                avg = np.mean([cnf[i,j],cnf[j,i]])\n",
    "                cnf[i,j] = avg\n",
    "                cnf[j,i] = avg\n",
    "    ymap = {'b_plus':0,'c_plus':1,'b_minus':2,'c_minus':3}\n",
    "\n",
    "    mask = np.zeros_like(cnf, dtype=np.bool)\n",
    "    mask[np.triu_indices_from(mask,1)] = True\n",
    "\n",
    "    cnf = pd.DataFrame(cnf, index = ['AB+','C+','B-','AC-'], \n",
    "                       columns = ['AB+','C+','B-','AC-'])\n",
    "    sns.heatmap(cnf,mask= mask)\n",
    "    plt.title('_to_'.join(rois))\n",
    "    plt.savefig('/home/iballard/fd/connectivity/mvpa_' + '_'.join(rois) + '.png')"
   ]
  },
  {
   "cell_type": "code",
   "execution_count": 53,
   "metadata": {
    "collapsed": false
   },
   "outputs": [
    {
     "name": "stderr",
     "output_type": "stream",
     "text": [
      "/home/iballard/.local/lib/python2.7/site-packages/matplotlib/collections.py:590: FutureWarning: elementwise comparison failed; returning scalar instead, but in the future will perform elementwise comparison\n",
      "  if self._edgecolors == str('face'):\n"
     ]
    },
    {
     "data": {
      "image/png": "[encoded data removed]",
      "text/plain": [
       "<matplotlib.figure.Figure at 0x7f4dcb643390>"
      ]
     },
     "metadata": {},
     "output_type": "display_data"
    }
   ],
   "source": [
    "make_fig(roi,all_cnf)"
   ]
  },
  {
   "cell_type": "code",
   "execution_count": 636,
   "metadata": {
    "collapsed": false
   },
   "outputs": [
    {
     "data": {
      "image/png": "[encoded data removed]",
      "text/plain": [
       "<matplotlib.figure.Figure at 0x7f9525ab2fd0>"
      ]
     },
     "metadata": {},
     "output_type": "display_data"
    }
   ],
   "source": [
    "make_fig(roi,all_cnf)"
   ]
  },
  {
   "cell_type": "code",
   "execution_count": 638,
   "metadata": {
    "collapsed": false
   },
   "outputs": [
    {
     "data": {
      "image/png": "[encoded data removed]",
      "text/plain": [
       "<matplotlib.figure.Figure at 0x7f952591e650>"
      ]
     },
     "metadata": {},
     "output_type": "display_data"
    }
   ],
   "source": [
    "make_fig(roi,all_cnf)"
   ]
  },
  {
   "cell_type": "code",
   "execution_count": 660,
   "metadata": {
    "collapsed": false
   },
   "outputs": [
    {
     "data": {
      "image/png": "[encoded data removed]",
      "text/plain": [
       "<matplotlib.figure.Figure at 0x7f9526d2ac10>"
      ]
     },
     "metadata": {},
     "output_type": "display_data"
    }
   ],
   "source": [
    "make_fig(roi,all_cnf)"
   ]
  },
  {
   "cell_type": "code",
   "execution_count": 661,
   "metadata": {
    "collapsed": false
   },
   "outputs": [],
   "source": [
    "# def connect_mvpa(x_roi, y_roi, betas):\n",
    "#     pls_score = 0\n",
    "#     all_cnf = []\n",
    "#     scores_df = {'sub':[],'score':[],'roi':[],'pls_score':[]}\n",
    "#     for sub in subs:\n",
    "        \n",
    "#         ##get X,Y data\n",
    "#         runs = list(set(betas.loc[(sub,roi)].index))\n",
    "#         X_data = []\n",
    "#         Y_data = []\n",
    "#         for run in runs:\n",
    "#             X = betas.loc[(sub,x_roi,run)]\n",
    "#             X = X.pivot(index = 'row',columns='voxel', values='value').values\n",
    "#             X_data.append(np.copy(X))\n",
    "            \n",
    "#             Y = betas.loc[(sub,y_roi,run)]\n",
    "#             Y = Y.pivot(index = 'row',columns='voxel', values='value').values\n",
    "#             Y_data.append(np.copy(Y))\n",
    "        \n",
    "#         #format data nicely\n",
    "#         X_data = np.array(X_data)\n",
    "#         X_data = X_data.reshape(-1, X_data.shape[-1])\n",
    "#         X_data = preprocessing.scale(X_data)\n",
    "        \n",
    "#         Y_data = np.array(Y_data)\n",
    "#         Y_data = Y_data.reshape(-1, Y_data.shape[-1])\n",
    "#         Y_data = preprocessing.scale(Y_data)\n",
    "        \n",
    "#         #compute cross-val\n",
    "#         sub_betas = betas.loc[(sub,roi)]\n",
    "#         runs = sub_betas[sub_betas['voxel'] == 0].index.values\n",
    "#         cv = LeaveOneLabelOut(runs)\n",
    "\n",
    "#         #compute PLS dimensionality reduction\n",
    "#         pls = PLSRegression(n_components=2,max_iter = 2000)\n",
    "# #         X_data, Y_data = pls.fit_transform(X_data,Y_data)\n",
    "# #         pls.fit(X_data,Y_data)\n",
    "# #         Y_pred = pls.predict(X_data)\n",
    "\n",
    "#         predictions = []\n",
    "#         pls_score = []\n",
    "#         for train_index, test_index in cv:\n",
    "#             X_train, X_test = X_data[train_index], X_data[test_index]\n",
    "#             y_train, y_test = Y_data[train_index], Y_data[test_index]\n",
    "            \n",
    "#             #deal with scaling\n",
    "#             X_train = preprocessing.scale(X_train)\n",
    "#             y_train = preprocessing.scale(y_train)\n",
    "#             X_test = preprocessing.scale(X_test)\n",
    "#             y_test = preprocessing.scale(y_test)\n",
    "                \n",
    "#             #fit and assess\n",
    "#             pls.fit(X_train,y_train)\n",
    "#             pls_score.append(pls.score(X_test, y_test))\n",
    "\n",
    "#             #track predictions\n",
    "#             y_pred = pls.predict(X_test)\n",
    "#             predictions.append(y_pred)\n",
    "            \n",
    "#         pls_score = np.mean(pls_score)\n",
    "#         Y_pred = np.array(predictions)\n",
    "#         Y_pred = Y_pred.reshape(-1, Y_pred.shape[-1])\n",
    "\n",
    "#         #project Y_data onto Y_pred\n",
    "#         Y_projection = []\n",
    "#         for row1,row2 in zip(Y_data,Y_pred):\n",
    "#             new_row = vector_project(row1,row2)\n",
    "#             Y_projection.append(new_row)\n",
    "#         Y_data = np.array(Y_projection)\n",
    "#         Y_data = preprocessing.scale(Y_data)\n",
    "        \n",
    "#         #get y\n",
    "#         y = sub_betas[sub_betas['voxel'] == 0]['condition'].values\n",
    "#         ymap = {'b_plus':0,'c_plus':1,'b_minus':2,'c_minus':3}\n",
    "#         y = np.array([ymap[x] for x in y])\n",
    "        \n",
    "#         #compute cross-val score\n",
    "#         logistic = LogisticRegression(C=1)\n",
    "# #         clf = svm.SVC(kernel='linear')\n",
    "#         pca = decomposition.PCA(n_components = 4)\n",
    "#         clf = Pipeline(steps=[('pca', pca), ('logistic', logistic)])\n",
    "        \n",
    "#         res = cross_val_score(clf, Y_data, y, cv=cv, scoring = 'accuracy')\n",
    "#         score = np.mean(res)\n",
    "        \n",
    "#         #compute confusion matrix\n",
    "#         cnf = []\n",
    "#         for train_index, test_index in cv:\n",
    "#             X_train, X_test = Y_data[train_index], Y_data[test_index]\n",
    "#             y_train, y_test = y[train_index], y[test_index]\n",
    "            \n",
    "# #             #deal with scaling\n",
    "# #             X_train = preprocessing.scale(X_train)\n",
    "# #             y_train = preprocessing.scale(y_train)\n",
    "# #             X_test = preprocessing.scale(X_test)\n",
    "# #             y_test = preprocessing.scale(y_test)\n",
    "            \n",
    "#             y_pred = clf.fit(X_train, y_train).predict(X_test)\n",
    "#             cnf_matrix = confusion_matrix(y_test, y_pred)\n",
    "#             cnf.append(cnf_matrix)\n",
    "#         cnf = np.array(cnf)\n",
    "#         all_cnf.append(cnf.mean(0))\n",
    "\n",
    "#         #compile results\n",
    "#         scores_df['roi'].append(roi)\n",
    "#         scores_df['sub'].append(sub)\n",
    "#         scores_df['score'].append(score)\n",
    "#         scores_df['pls_score'].append(pls_score)\n",
    "#         print sub, score, pls_score\n",
    "#     return pd.DataFrame(scores_df), all_cnf\n",
    "\n"
   ]
  },
  {
   "cell_type": "code",
   "execution_count": 67,
   "metadata": {
    "collapsed": true
   },
   "outputs": [],
   "source": [
    "def connect_mvpa(x_roi, y_roi, betas):\n",
    "    pls_score = 0\n",
    "    all_cnf = []\n",
    "    scores_df = {'sub':[],'score':[],'roi':[],'pls_score':[]}\n",
    "    for sub in subs:\n",
    "        \n",
    "        ##get X,Y data\n",
    "        runs = list(set(betas.loc[(sub,roi)].index))\n",
    "        X_data = []\n",
    "        Y_data = []\n",
    "        for run in runs:\n",
    "            X = betas.loc[(sub,x_roi,run)]\n",
    "            X = X.pivot(index = 'row',columns='voxel', values='value').values\n",
    "            X_data.append(np.copy(X))\n",
    "            \n",
    "            Y = betas.loc[(sub,y_roi,run)]\n",
    "            Y = Y.pivot(index = 'row',columns='voxel', values='value').values\n",
    "            Y_data.append(np.copy(Y))\n",
    "        \n",
    "        #format data nicely\n",
    "        X_data = np.array(X_data)\n",
    "        X_data = X_data.reshape(-1, X_data.shape[-1])\n",
    "        X_data = preprocessing.scale(X_data)\n",
    "        \n",
    "        Y_data = np.array(Y_data)\n",
    "        Y_data = Y_data.reshape(-1, Y_data.shape[-1])\n",
    "        Y_data = preprocessing.scale(Y_data)\n",
    "        \n",
    "        #compute cross-val\n",
    "        sub_betas = betas.loc[(sub,roi)]\n",
    "        runs = sub_betas[sub_betas['voxel'] == 0].index.values\n",
    "        cv = LeaveOneLabelOut(runs)\n",
    "\n",
    "        #compute PLS dimensionality reduction\n",
    "        pls = PLSRegression(n_components=n_pls,max_iter = 2000)\n",
    "#         X_data, Y_data = pls.fit_transform(X_data,Y_data)\n",
    "#         pls.fit(X_data,Y_data)\n",
    "#         Y_pred = pls.predict(X_data)\n",
    "\n",
    "        predictions = []\n",
    "        pls_score = []\n",
    "        for train_index, test_index in cv:\n",
    "            X_train, X_test = X_data[train_index], X_data[test_index]\n",
    "            y_train, y_test = Y_data[train_index], Y_data[test_index]\n",
    "            \n",
    "            #deal with scaling\n",
    "            X_train = preprocessing.scale(X_train)\n",
    "            y_train = preprocessing.scale(y_train)\n",
    "            X_test = preprocessing.scale(X_test)\n",
    "            y_test = preprocessing.scale(y_test)\n",
    "                \n",
    "            #fit and assess\n",
    "            pls.fit(X_train,y_train)\n",
    "            pls_score.append(pls.score(X_test, y_test))\n",
    "\n",
    "            #track predictions\n",
    "            y_pred = pls.predict(X_test)\n",
    "            predictions.append(y_pred)\n",
    "            \n",
    "        pls_score = np.mean(pls_score)\n",
    "        Y_pred = np.array(predictions)\n",
    "        Y_pred = Y_pred.reshape(-1, Y_pred.shape[-1])\n",
    "\n",
    "        #project Y_data onto Y_pred\n",
    "#         Y_projection = []\n",
    "#         for row1,row2 in zip(Y_data,Y_pred):\n",
    "#             new_row = vector_project(row1,row2)\n",
    "#             Y_projection.append(new_row)\n",
    "#         Y_data = np.array(Y_projection)\n",
    "#         Y_data = preprocessing.scale(Y_data)\n",
    "        Y_projection = []\n",
    "        for row1,row2 in zip(np.transpose(Y_data),np.transpose(Y_pred)):\n",
    "            new_row = vector_project(row1,row2)\n",
    "            Y_projection.append(new_row)\n",
    "        Y_data = np.transpose(Y_projection)\n",
    "#         Y_data = preprocessing.scale(Y_data)\n",
    "        \n",
    "        #now do classification\n",
    "        runs_cnf = []\n",
    "        runs_score = []\n",
    "        for run in list(set(betas.loc[(sub,roi)].index)):\n",
    "            #get X\n",
    "            idx = [runs == run]\n",
    "            X_data = Y_data[idx]\n",
    "\n",
    "            #get y\n",
    "            sub_betas = betas.loc[(sub,roi,run)]\n",
    "            y = sub_betas[sub_betas['voxel'] == 0]['condition'].values\n",
    "            ymap = {'b_plus':0,'c_plus':1,'b_minus':2,'c_minus':3}\n",
    "            y = np.array([ymap[x] for x in y])\n",
    "        \n",
    "            #cross val\n",
    "            skf = StratifiedKFold(y,n_folds=3)\n",
    "\n",
    "            #set up classifier\n",
    "            logistic = LogisticRegression(C=1)\n",
    "            pca = decomposition.PCA(n_components = 20)\n",
    "            clf = Pipeline(steps=[('pca', pca), ('logistic', logistic)])\n",
    "\n",
    "            #compute cross-val score\n",
    "            res = cross_val_score(clf, X_data, y, cv=skf, scoring = 'accuracy')\n",
    "            score = np.mean(res)\n",
    "            runs_score.append(score)\n",
    "            \n",
    "            #compute confusion matrix\n",
    "            cnf = []\n",
    "            for train_index, test_index in skf:\n",
    "                X_train, X_test = X_data[train_index], X_data[test_index]\n",
    "                y_train, y_test = y[train_index], y[test_index]\n",
    "\n",
    "                y_pred = clf.fit(X_train, y_train).predict(X_test)\n",
    "                cnf_matrix = confusion_matrix(y_test, y_pred)\n",
    "                cnf.append(cnf_matrix)\n",
    "            runs_cnf.append(np.array(cnf).mean(0))\n",
    "            \n",
    "        #compile results\n",
    "        all_cnf.append(np.array(runs_cnf).mean(0))\n",
    "        scores_df['roi'].append(x_roi)\n",
    "        scores_df['sub'].append(sub)\n",
    "        scores_df['score'].append(np.mean(runs_score))\n",
    "        scores_df['pls_score'].append(pls_score)\n",
    "        print sub,np.mean(runs_score), pls_score\n",
    "    return pd.DataFrame(scores_df), all_cnf\n",
    "\n"
   ]
  },
  {
   "cell_type": "code",
   "execution_count": 68,
   "metadata": {
    "collapsed": false,
    "scrolled": false
   },
   "outputs": [
    {
     "name": "stdout",
     "output_type": "stream",
     "text": [
      "fd_104 0.199074074074 0.0247169464505\n",
      "fd_105 0.203703703704 0.00976394308748\n",
      "fd_107 0.243055555556 -0.00670186369083\n",
      "fd_108 0.284722222222 -0.0142202507689\n",
      "fd_109 0.231481481481 -0.0459671898775\n",
      "fd_110 0.24537037037 -0.0102066800959\n",
      "fd_112 0.219907407407 -0.011945932807\n",
      "fd_113 0.261574074074 0.0170866920857\n",
      "fd_114 0.331018518519 -0.0300372825654\n",
      "fd_115 0.25462962963 0.0129925228032\n",
      "fd_117 0.310185185185 0.0575846552211\n",
      "fd_118 0.331018518519 -0.0138829067295\n",
      "fd_119 0.231481481481 -0.00726078124622\n",
      "fd_122 0.268518518519 0.208125948295\n",
      "fd_123 0.25462962963 0.0216699201586\n",
      "fd_124 0.19212962963 0.0825474522699\n",
      "fd_126 0.277777777778 0.00600495201712\n",
      "fd_127 0.329861111111 -0.0212808708042\n",
      "fd_128 0.268518518519 0.000274925797999\n",
      "fd_129 0.25 0.122536971451\n",
      "fd_130 0.293981481481 0.0166455174702\n",
      "fd_132 0.222222222222 0.00219701458981\n",
      "fd_133 0.256944444444 0.10791076455\n",
      "fd_135 0.240740740741 0.167058438873\n",
      "fd_136 0.215277777778 0.118521429336\n",
      "fd_137 0.263888888889 -0.018596929604\n",
      "fd_138 0.284722222222 0.0211195271994\n",
      "fd_140 0.233796296296 -0.00705646705791\n",
      "fd_141 0.340277777778 -0.0285595051862\n",
      "fd_144 0.240740740741 0.0425651175062\n",
      "fd_147 0.289351851852 0.0776415320734\n",
      "fd_148 0.18287037037 0.149947292617\n"
     ]
    }
   ],
   "source": [
    "n_pls = 3\n",
    "x_roi = 'mOFC_fill_sim'\n",
    "y_roi = 'yeo17_ifs'\n",
    "scores_fd, all_cnf = connect_mvpa(x_roi,y_roi,betas)"
   ]
  },
  {
   "cell_type": "code",
   "execution_count": 69,
   "metadata": {
    "collapsed": false
   },
   "outputs": [
    {
     "name": "stdout",
     "output_type": "stream",
     "text": [
      "pls_score    0.032850\n",
      "score        0.257921\n",
      "dtype: float64\n",
      "Ttest_1sampResult(statistic=1.0765414587398525, pvalue=0.289992133397868)\n",
      "Ttest_1sampResult(statistic=2.9185390696884741, pvalue=0.0064941591398162161)\n"
     ]
    }
   ],
   "source": [
    "print scores_fd.mean()\n",
    "print scipy.stats.ttest_1samp(scores_fd['score'],.25)\n",
    "print scipy.stats.ttest_1samp(scores_fd['pls_score'],0)"
   ]
  },
  {
   "cell_type": "code",
   "execution_count": 70,
   "metadata": {
    "collapsed": false,
    "scrolled": true
   },
   "outputs": [
    {
     "data": {
      "image/png": "[encoded data removed]",
      "text/plain": [
       "<matplotlib.figure.Figure at 0x7f4dc8152e90>"
      ]
     },
     "metadata": {},
     "output_type": "display_data"
    }
   ],
   "source": [
    "make_fig([x_roi,y_roi],all_cnf)"
   ]
  },
  {
   "cell_type": "code",
   "execution_count": 647,
   "metadata": {
    "collapsed": false
   },
   "outputs": [
    {
     "data": {
      "image/png": "[encoded data removed]",
      "text/plain": [
       "<matplotlib.figure.Figure at 0x7f95257a7350>"
      ]
     },
     "metadata": {},
     "output_type": "display_data"
    }
   ],
   "source": [
    "make_fig([x_roi,y_roi],all_cnf)"
   ]
  },
  {
   "cell_type": "code",
   "execution_count": 652,
   "metadata": {
    "collapsed": false
   },
   "outputs": [
    {
     "data": {
      "image/png": "[encoded data removed]",
      "text/plain": [
       "<matplotlib.figure.Figure at 0x7f9526f103d0>"
      ]
     },
     "metadata": {},
     "output_type": "display_data"
    }
   ],
   "source": [
    "make_fig([x_roi,y_roi],all_cnf)"
   ]
  },
  {
   "cell_type": "code",
   "execution_count": 664,
   "metadata": {
    "collapsed": false
   },
   "outputs": [
    {
     "data": {
      "image/png": "[encoded data removed]",
      "text/plain": [
       "<matplotlib.figure.Figure at 0x7f95256cfe50>"
      ]
     },
     "metadata": {},
     "output_type": "display_data"
    }
   ],
   "source": [
    "make_fig([x_roi,y_roi],all_cnf)"
   ]
  },
  {
   "cell_type": "code",
   "execution_count": null,
   "metadata": {
    "collapsed": true
   },
   "outputs": [],
   "source": []
  },
  {
   "cell_type": "code",
   "execution_count": null,
   "metadata": {
    "collapsed": true
   },
   "outputs": [],
   "source": []
  },
  {
   "cell_type": "code",
   "execution_count": null,
   "metadata": {
    "collapsed": true
   },
   "outputs": [],
   "source": []
  }
 ],
 "metadata": {
  "kernelspec": {
   "display_name": "Python 2",
   "language": "python",
   "name": "python2"
  },
  "language_info": {
   "codemirror_mode": {
    "name": "ipython",
    "version": 2
   },
   "file_extension": ".py",
   "mimetype": "text/x-python",
   "name": "python",
   "nbconvert_exporter": "python",
   "pygments_lexer": "ipython2",
   "version": "2.7.13"
  }
 },
 "nbformat": 4,
 "nbformat_minor": 0
}
