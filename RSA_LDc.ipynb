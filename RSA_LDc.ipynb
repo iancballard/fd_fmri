{
 "cells": [
  {
   "cell_type": "code",
   "execution_count": 23,
   "metadata": {
    "collapsed": true
   },
   "outputs": [],
   "source": [
    "import nibabel as nib\n",
    "import os\n",
    "import numpy as np\n",
    "import os.path as op\n",
    "import scipy\n",
    "import pandas as pd\n",
    "import pickle\n",
    "import scipy.stats\n",
    "from ipyparallel import Client\n",
    "from statsmodels.formula.api import ols\n",
    "import seaborn as sns\n",
    "import matplotlib\n",
    "import matplotlib.pyplot as plt\n",
    "%matplotlib inline"
   ]
  },
  {
   "cell_type": "code",
   "execution_count": 3,
   "metadata": {
    "collapsed": false
   },
   "outputs": [],
   "source": [
    "rc = Client()"
   ]
  },
  {
   "cell_type": "code",
   "execution_count": 4,
   "metadata": {
    "collapsed": true
   },
   "outputs": [],
   "source": [
    "#preliminary housekeeping\n",
    "home_dir = '/data/home/iballard/fd/'\n",
    "subj_file = home_dir + 'subjects.txt'\n",
    "subs = list(np.loadtxt(subj_file,'string'))\n",
    "os.chdir(home_dir)"
   ]
  },
  {
   "cell_type": "code",
   "execution_count": 5,
   "metadata": {
    "collapsed": true
   },
   "outputs": [],
   "source": [
    "def is_invertible(a):\n",
    "    return a.shape[0] == a.shape[1] and np.linalg.matrix_rank(a) == a.shape[0]"
   ]
  },
  {
   "cell_type": "code",
   "execution_count": 6,
   "metadata": {
    "collapsed": false
   },
   "outputs": [],
   "source": [
    "def compute_inv_shrunk_covariance(x,mask):\n",
    "    #see http://www.diedrichsenlab.org/pubs/Walther_Neuroimage_2016.pdf\n",
    "    t,n = x.shape #t measurements by n voxels\n",
    "\n",
    "    #demean\n",
    "    x = x - x.mean(0)\n",
    "\n",
    "    #compute covariance\n",
    "    sample = (1.0/t) * np.dot(np.transpose(x),x)\n",
    "\n",
    "    #copute prior\n",
    "    prior = np.diag(np.diag(sample))\n",
    "\n",
    "    #compute shrinkage\n",
    "    d = 1.0/n * np.linalg.norm(sample - prior,ord = 'fro')**2\n",
    "    y = np.square(x)\n",
    "    r2 = 1.0/n/t**2 * np.sum(np.sum(np.dot(np.transpose(y),y)))- \\\n",
    "    1.0/n/t*np.sum(np.sum(np.square(sample)))\n",
    "\n",
    "    #compute the estimator\n",
    "    shrinkage = max(0,min(1,r2/d))\n",
    "    sigma = shrinkage*prior + (1-shrinkage)*sample\n",
    "\n",
    "    #compute the inverse\n",
    "    if is_invertible(sigma) or mask != 'VTC_sim':\n",
    "        inv_sigma = np.linalg.inv(sigma)\n",
    "    else:\n",
    "        inv_sigma = np.linalg.inv(prior) #univariate\n",
    "    \n",
    "    return inv_sigma"
   ]
  },
  {
   "cell_type": "code",
   "execution_count": 7,
   "metadata": {
    "collapsed": true
   },
   "outputs": [],
   "source": [
    "#make sure MTL masks are exclusive\n",
    "def trim_mask(sub,mask,m):\n",
    "    exclusions = overlap_masks[:]\n",
    "    exclusions.remove(m)\n",
    "\n",
    "    m1 = op.join(home_dir,'data', sub,  'masks', exclusions[0] +'.nii.gz')\n",
    "    m1 = nib.load(m1).get_data().astype(bool)\n",
    "\n",
    "    m2 = op.join(home_dir,'data', sub,  'masks', exclusions[1] +'.nii.gz')\n",
    "    m2 = nib.load(m2).get_data().astype(bool)\n",
    "\n",
    "    bad = np.logical_or(m1,m1)\n",
    "    good = np.invert(bad)\n",
    "\n",
    "    mask = np.logical_and(mask,good)\n",
    "    return mask"
   ]
  },
  {
   "cell_type": "code",
   "execution_count": 8,
   "metadata": {
    "collapsed": false
   },
   "outputs": [],
   "source": [
    "def compute_inverse_sigma(sub,exp,smooth,masks):\n",
    "    sub_path = op.join(home_dir,'analysis', exp, sub, 'reg','epi', smooth)\n",
    "    for run in map(str,range(1,4)):\n",
    "        res = op.join(sub_path, 'run_'  + run,'res4d_xfm.nii.gz')\n",
    "        \n",
    "        if op.exists(res):\n",
    "            res = nib.load(res).get_data().astype(float)\n",
    "\n",
    "            for m in masks:\n",
    "                out_f = op.join(home_dir,'covariance','_'.join([exp,sub,run,m]) + '.txt')\n",
    "                \n",
    "                if not op.exists(out_f): #don't recompute\n",
    "                    mask = op.join(home_dir,'data', sub,  'masks', m + '.nii.gz')\n",
    "                    mask = nib.load(mask).get_data().astype(bool)\n",
    "                    if m in overlap_masks:\n",
    "                        mask = trim_mask(sub,mask,m)\n",
    "\n",
    "                    x = res[mask]\n",
    "                    x = np.transpose(x)\n",
    "\n",
    "                    inv_sigma = compute_inv_shrunk_covariance(x,m)\n",
    "\n",
    "                    inv_sigma = scipy.linalg.fractional_matrix_power(inv_sigma,.5) #take square root\n",
    "\n",
    "                    np.savetxt(out_f,inv_sigma)"
   ]
  },
  {
   "cell_type": "code",
   "execution_count": 9,
   "metadata": {
    "collapsed": true
   },
   "outputs": [],
   "source": [
    "def delete_inverse_sigma(sub,exp,smooth,masks):\n",
    "    for run in map(str,range(1,4)):\n",
    "        for m in masks:\n",
    "            out_f = op.join(home_dir,'covariance','_'.join([exp,sub,run,m]) + '.txt')\n",
    "            if op.exists(out_f):\n",
    "                os.remove(out_f)"
   ]
  },
  {
   "cell_type": "code",
   "execution_count": 138,
   "metadata": {
    "collapsed": false
   },
   "outputs": [],
   "source": [
    "def get_condition(i,single):\n",
    "    if single:\n",
    "        return cond_map[i], 1\n",
    "    elif i < 11:\n",
    "        cond = 'b_plus'\n",
    "        trial = i\n",
    "    elif i < 21:\n",
    "        cond = 'c_plus'\n",
    "        trial = i - 10\n",
    "    elif i < 31:\n",
    "        cond = 'c_minus'\n",
    "        trial = i - 20\n",
    "    elif i < 41:\n",
    "        cond = 'b_minus'\n",
    "        trial = i - 30\n",
    "    return cond,trial"
   ]
  },
  {
   "cell_type": "code",
   "execution_count": 139,
   "metadata": {
    "collapsed": false
   },
   "outputs": [],
   "source": [
    "def extract_betas(sub,exp,smooth,masks,single = True):\n",
    "    if single:\n",
    "        nbetas = 4\n",
    "    else:\n",
    "        nbetas = 40\n",
    "        exp_id = 'sim_4mm-betas'\n",
    "            \n",
    "    all_betas = []\n",
    "    for m in masks:\n",
    "        out_f = op.join(home_dir,'betas', '_'.join([exp_id,smooth,m]) + '.csv')\n",
    "        \n",
    "        #extract saved betas\n",
    "        if not op.exists(out_f):\n",
    "            betas = {'sub':[],'mask':[],'run':[],'condition':[],'value':[],'trial':[],'voxel':[],'row':[]}\n",
    "            sub_path = op.join(home_dir,'analysis', exp_id, sub, 'reg','epi', smooth )\n",
    "\n",
    "            mask = op.join(home_dir,'data', sub,  'masks', m + '.nii.gz')\n",
    "            mask = nib.load(mask).get_data().astype(bool)\n",
    "            if m in overlap_masks:\n",
    "                mask = trim_mask(sub,mask,m)\n",
    "\n",
    "\n",
    "            for run in map(str,range(1,4)):\n",
    "                run_dir = op.join(sub_path, 'run_'  + run)\n",
    "\n",
    "                if os.path.exists(run_dir):\n",
    "\n",
    "                    for i in range(1,nbetas + 1):\n",
    "                        f = run_dir + '/cope' + str(i) + '_xfm.nii.gz'\n",
    "\n",
    "                        cond, trial = get_condition(i,single)\n",
    "\n",
    "                        #load stat image\n",
    "                        stat = nib.load(f).get_data().astype(float)\n",
    "                        stat = stat[mask]\n",
    "\n",
    "                        for n,val in enumerate(stat):\n",
    "                            betas['voxel'].append(n)                        \n",
    "                            betas['sub'].append(sub)\n",
    "                            betas['value'].append(val)\n",
    "                            betas['mask'].append(m)\n",
    "                            betas['run'].append(run)\n",
    "                            betas['condition'].append(cond)\n",
    "                            betas['trial'].append(trial)\n",
    "                            betas['row'].append(i)\n",
    "                else:\n",
    "                    print run_dir\n",
    "\n",
    "            betas = pd.DataFrame(betas)\n",
    "            betas.to_csv(out_f,index = False)\n",
    "            \n",
    "        else: #load from disk\n",
    "            betas = pd.read_csv(out_f)\n",
    "            \n",
    "        all_betas.append(betas)\n",
    "\n",
    "    betas = betas.set_index(['sub', 'run','mask','condition'])\n",
    "    return betas"
   ]
  },
  {
   "cell_type": "code",
   "execution_count": 149,
   "metadata": {
    "collapsed": false
   },
   "outputs": [],
   "source": [
    "def prewhiten_betas(sub,betas,masks):\n",
    "    out_f = op.join(home_dir,'betas','whitened',sub + '.csv')\n",
    "    \n",
    "    if not op.exists(out_f):\n",
    "        for run in map(str,range(1,4)):\n",
    "            for m in masks:\n",
    "                #load covariance\n",
    "                inv_sigma = op.join(home_dir,'covariance','_'.join([exp,sub,run,m]) + '.txt')\n",
    "\n",
    "                if op.exists(inv_sigma):\n",
    "                    inv_sigma = np.loadtxt(inv_sigma)\n",
    "\n",
    "                    for cond in cond_map.values():\n",
    "                        vals = betas.loc[(sub,run,m,cond),'value'].values\n",
    "                        whiten_vals = np.dot(vals,inv_sigma)\n",
    "                        betas.loc[(sub,run,m,cond),'value'] = whiten_vals\n",
    "        betas.to_csv(out_f,index = False)\n",
    "    return betas"
   ]
  },
  {
   "cell_type": "code",
   "execution_count": 150,
   "metadata": {
    "collapsed": false
   },
   "outputs": [],
   "source": [
    "def compute_rsa(sub,exp,masks,betas):\n",
    "    rsas = {}\n",
    "    for m in masks:\n",
    "        \n",
    "        runs = list(set(map(lambda x: x[0],betas.loc[(sub)].index)))\n",
    "        nruns = len(runs)\n",
    "        rsa = np.zeros((nconds,nconds))\n",
    "\n",
    "        for i in range(1,nconds+1):\n",
    "            for j in range(1,nconds+1):\n",
    "                corr = []\n",
    "                \n",
    "                corr.append(scipy.stats.pearsonr(betas.loc[(sub,'1',m,cond_map[i]),'value'].values,\n",
    "                                     betas.loc[(sub,'2',m,cond_map[j]),'value'].values))\n",
    "                if i != j:\n",
    "                    corr.append(scipy.stats.pearsonr(betas.loc[(sub,'2',m,cond_map[i]),'value'].values,\n",
    "                                         betas.loc[(sub,'1',m,cond_map[j]),'value'].values))\n",
    "\n",
    "                if nruns == 3:\n",
    "\n",
    "                    corr.append(scipy.stats.pearsonr(betas.loc[(sub,'1',m,cond_map[i]),'value'].values,\n",
    "                                         betas.loc[(sub,'3',m,cond_map[j]),'value'].values))\n",
    "                    corr.append(scipy.stats.pearsonr(betas.loc[(sub,'2',m,cond_map[i]),'value'].values,\n",
    "                                         betas.loc[(sub,'3',m,cond_map[j]),'value'].values))\n",
    "                    if i != j:\n",
    "                        corr.append(scipy.stats.pearsonr(betas.loc[(sub,'3',m,cond_map[i]),'value'].values,\n",
    "                                                         betas.loc[(sub,'1',m,cond_map[j]),'value'].values))\n",
    "                        corr.append(scipy.stats.pearsonr(betas.loc[(sub,'3',m,cond_map[i]),'value'].values,\n",
    "                                                         betas.loc[(sub,'2',m,cond_map[j]),'value'].values))\n",
    "                       \n",
    "                rsa[i-1,j-1]  = np.nanmean(corr)\n",
    "        rsas[m] = rsa\n",
    "        \n",
    "    return rsas"
   ]
  },
  {
   "cell_type": "code",
   "execution_count": 151,
   "metadata": {
    "collapsed": true
   },
   "outputs": [],
   "source": [
    "def compute_rsa_euclid(sub,exp,masks,betas):\n",
    "    rsas = {}\n",
    "    for m in ['hipp']:\n",
    "        \n",
    "        #Get crossval folds. Deal with unequal number of runs across subjects\n",
    "        runs = list(set(map(lambda x: x[0],betas.loc[(sub)].index)))\n",
    "        nruns = len(runs)\n",
    "        if nruns == 3:\n",
    "            train_runs = [['1','2'],['1','3'],['2','3']]\n",
    "        elif nruns == 2:\n",
    "            train_runs = [['1'],['2']]\n",
    "        \n",
    "        rsa = np.zeros((4,4,len(runs)))\n",
    "\n",
    "        #loop through condition pairs\n",
    "        for i in range(1,rsa.shape[0]+1):\n",
    "            for j in range(1,rsa.shape[0]+1):\n",
    "                if j < i:\n",
    "                    #get euclidian distance between conditions for each run\n",
    "                    run_euclid_dist = {}\n",
    "                    for run in map(str,range(1,nruns+1)):\n",
    "                        \n",
    "                        cond1 = betas.loc[(sub,run,m,cond_map[i]),'value'].values\n",
    "                        cond2 = betas.loc[(sub,run,m,cond_map[j]),'value'].values\n",
    "                        \n",
    "                        run_euclid_dist[run] = cond1 - cond2\n",
    "                    \n",
    "                    #do cross-validation\n",
    "                    for n,train_run in enumerate(train_runs):\n",
    "                        train_vector = []\n",
    "                        test_vector = []\n",
    "                    \n",
    "                        for run in map(str,range(1,nruns+1)): \n",
    "                            if run in train_run:\n",
    "                                train_vector.append(run_euclid_dist[run])\n",
    "                            else:\n",
    "                                test_vector.append(run_euclid_dist[run])\n",
    "\n",
    "                        train_vector = np.mean(train_vector,0)\n",
    "                        test_vector = np.mean(test_vector,0)\n",
    "                        \n",
    "                        diff = np.dot(train_vector,test_vector)\n",
    "                        \n",
    "                        rsa[i-1,j-1,n] = diff\n",
    "        rsa = rsa.mean(2)\n",
    "        rsas[m] = rsa\n",
    "    return rsas"
   ]
  },
  {
   "cell_type": "code",
   "execution_count": 124,
   "metadata": {
    "collapsed": false
   },
   "outputs": [],
   "source": [
    "def run_sub(sub):\n",
    "    out_f = op.join(home_dir,'rsa', sub + 'rsa_sim.pkl')\n",
    "\n",
    "    if True:#not op.exists(out_f):\n",
    "        compute_inverse_sigma(sub,exp,smooth,masks)\n",
    "\n",
    "        betas = extract_betas(sub,exp,smooth,masks,False)\n",
    "        betas = prewhiten_betas(sub,betas,masks)\n",
    "    #     delete_inverse_sigma(sub,exp,smooth,masks) #save disk space\n",
    "\n",
    "        rsas = compute_rsa(sub,exp,masks,betas)  \n",
    "\n",
    "        # write rsa to a file in case we have to stop the script\n",
    "        output = open(out_f, 'wb')\n",
    "        pickle.dump(rsas, output)\n",
    "        output.close()  "
   ]
  },
  {
   "cell_type": "code",
   "execution_count": 154,
   "metadata": {
    "collapsed": false
   },
   "outputs": [],
   "source": [
    "masks = ['peri_sim','para_sim','hipp','hipp_right','hipp_left',\n",
    "         'entorhinal']\n",
    "overlap_masks = ['peri_sim','para_sim','hipp']\n",
    "masks = ['hipp']\n",
    "exp = 'sim_4mm-onebeta'\n",
    "smooth = 'smoothed'\n",
    "\n",
    "cond_map = {1:'AB+',2:'AC-',3:'B-',4:'C+'}\n",
    "nconds = len(cond_map.keys())\n"
   ]
  },
  {
   "cell_type": "code",
   "execution_count": 153,
   "metadata": {
    "collapsed": false
   },
   "outputs": [
    {
     "ename": "AttributeError",
     "evalue": "'int' object has no attribute 'startswith'",
     "output_type": "error",
     "traceback": [
      "\u001b[1;31m---------------------------------------------------------------------------\u001b[0m",
      "\u001b[1;31mAttributeError\u001b[0m                            Traceback (most recent call last)",
      "\u001b[1;32m<ipython-input-153-d0b6d6133224>\u001b[0m in \u001b[0;36m<module>\u001b[1;34m()\u001b[0m\n\u001b[1;32m----> 1\u001b[1;33m \u001b[0mcompute_inverse_sigma\u001b[0m\u001b[1;33m(\u001b[0m\u001b[0msub\u001b[0m\u001b[1;33m,\u001b[0m\u001b[0mexp\u001b[0m\u001b[1;33m,\u001b[0m\u001b[0msmooth\u001b[0m\u001b[1;33m,\u001b[0m\u001b[0mmasks\u001b[0m\u001b[1;33m)\u001b[0m\u001b[1;33m\u001b[0m\u001b[0m\n\u001b[0m\u001b[0;32m      2\u001b[0m \u001b[0mbetas\u001b[0m \u001b[1;33m=\u001b[0m \u001b[0mextract_betas\u001b[0m\u001b[1;33m(\u001b[0m\u001b[0msub\u001b[0m\u001b[1;33m,\u001b[0m\u001b[0mexp\u001b[0m\u001b[1;33m,\u001b[0m\u001b[0msmooth\u001b[0m\u001b[1;33m,\u001b[0m\u001b[0mmasks\u001b[0m\u001b[1;33m,\u001b[0m\u001b[0mFalse\u001b[0m\u001b[1;33m)\u001b[0m\u001b[1;33m\u001b[0m\u001b[0m\n\u001b[0;32m      3\u001b[0m \u001b[0mbetas\u001b[0m \u001b[1;33m=\u001b[0m \u001b[0mprewhiten_betas\u001b[0m\u001b[1;33m(\u001b[0m\u001b[0msub\u001b[0m\u001b[1;33m,\u001b[0m\u001b[0mbetas\u001b[0m\u001b[1;33m,\u001b[0m\u001b[0mmasks\u001b[0m\u001b[1;33m)\u001b[0m\u001b[1;33m\u001b[0m\u001b[0m\n",
      "\u001b[1;32m<ipython-input-8-52ff0bbe36f7>\u001b[0m in \u001b[0;36mcompute_inverse_sigma\u001b[1;34m(sub, exp, smooth, masks)\u001b[0m\n\u001b[0;32m      1\u001b[0m \u001b[1;32mdef\u001b[0m \u001b[0mcompute_inverse_sigma\u001b[0m\u001b[1;33m(\u001b[0m\u001b[0msub\u001b[0m\u001b[1;33m,\u001b[0m\u001b[0mexp\u001b[0m\u001b[1;33m,\u001b[0m\u001b[0msmooth\u001b[0m\u001b[1;33m,\u001b[0m\u001b[0mmasks\u001b[0m\u001b[1;33m)\u001b[0m\u001b[1;33m:\u001b[0m\u001b[1;33m\u001b[0m\u001b[0m\n\u001b[1;32m----> 2\u001b[1;33m     \u001b[0msub_path\u001b[0m \u001b[1;33m=\u001b[0m \u001b[0mop\u001b[0m\u001b[1;33m.\u001b[0m\u001b[0mjoin\u001b[0m\u001b[1;33m(\u001b[0m\u001b[0mhome_dir\u001b[0m\u001b[1;33m,\u001b[0m\u001b[1;34m'analysis'\u001b[0m\u001b[1;33m,\u001b[0m \u001b[0mexp\u001b[0m\u001b[1;33m,\u001b[0m \u001b[0msub\u001b[0m\u001b[1;33m,\u001b[0m \u001b[1;34m'reg'\u001b[0m\u001b[1;33m,\u001b[0m\u001b[1;34m'epi'\u001b[0m\u001b[1;33m,\u001b[0m \u001b[0msmooth\u001b[0m\u001b[1;33m)\u001b[0m\u001b[1;33m\u001b[0m\u001b[0m\n\u001b[0m\u001b[0;32m      3\u001b[0m     \u001b[1;32mfor\u001b[0m \u001b[0mrun\u001b[0m \u001b[1;32min\u001b[0m \u001b[0mmap\u001b[0m\u001b[1;33m(\u001b[0m\u001b[0mstr\u001b[0m\u001b[1;33m,\u001b[0m\u001b[0mrange\u001b[0m\u001b[1;33m(\u001b[0m\u001b[1;36m1\u001b[0m\u001b[1;33m,\u001b[0m\u001b[1;36m4\u001b[0m\u001b[1;33m)\u001b[0m\u001b[1;33m)\u001b[0m\u001b[1;33m:\u001b[0m\u001b[1;33m\u001b[0m\u001b[0m\n\u001b[0;32m      4\u001b[0m         \u001b[0mres\u001b[0m \u001b[1;33m=\u001b[0m \u001b[0mop\u001b[0m\u001b[1;33m.\u001b[0m\u001b[0mjoin\u001b[0m\u001b[1;33m(\u001b[0m\u001b[0msub_path\u001b[0m\u001b[1;33m,\u001b[0m \u001b[1;34m'run_'\u001b[0m  \u001b[1;33m+\u001b[0m \u001b[0mrun\u001b[0m\u001b[1;33m,\u001b[0m\u001b[1;34m'res4d_xfm.nii.gz'\u001b[0m\u001b[1;33m)\u001b[0m\u001b[1;33m\u001b[0m\u001b[0m\n\u001b[0;32m      5\u001b[0m \u001b[1;33m\u001b[0m\u001b[0m\n",
      "\u001b[1;32m/home/iballard/anaconda/lib/python2.7/posixpath.pyc\u001b[0m in \u001b[0;36mjoin\u001b[1;34m(a, *p)\u001b[0m\n\u001b[0;32m     66\u001b[0m     \u001b[0mpath\u001b[0m \u001b[1;33m=\u001b[0m \u001b[0ma\u001b[0m\u001b[1;33m\u001b[0m\u001b[0m\n\u001b[0;32m     67\u001b[0m     \u001b[1;32mfor\u001b[0m \u001b[0mb\u001b[0m \u001b[1;32min\u001b[0m \u001b[0mp\u001b[0m\u001b[1;33m:\u001b[0m\u001b[1;33m\u001b[0m\u001b[0m\n\u001b[1;32m---> 68\u001b[1;33m         \u001b[1;32mif\u001b[0m \u001b[0mb\u001b[0m\u001b[1;33m.\u001b[0m\u001b[0mstartswith\u001b[0m\u001b[1;33m(\u001b[0m\u001b[1;34m'/'\u001b[0m\u001b[1;33m)\u001b[0m\u001b[1;33m:\u001b[0m\u001b[1;33m\u001b[0m\u001b[0m\n\u001b[0m\u001b[0;32m     69\u001b[0m             \u001b[0mpath\u001b[0m \u001b[1;33m=\u001b[0m \u001b[0mb\u001b[0m\u001b[1;33m\u001b[0m\u001b[0m\n\u001b[0;32m     70\u001b[0m         \u001b[1;32melif\u001b[0m \u001b[0mpath\u001b[0m \u001b[1;33m==\u001b[0m \u001b[1;34m''\u001b[0m \u001b[1;32mor\u001b[0m \u001b[0mpath\u001b[0m\u001b[1;33m.\u001b[0m\u001b[0mendswith\u001b[0m\u001b[1;33m(\u001b[0m\u001b[1;34m'/'\u001b[0m\u001b[1;33m)\u001b[0m\u001b[1;33m:\u001b[0m\u001b[1;33m\u001b[0m\u001b[0m\n",
      "\u001b[1;31mAttributeError\u001b[0m: 'int' object has no attribute 'startswith'"
     ]
    }
   ],
   "source": [
    "compute_inverse_sigma(sub,exp,smooth,masks)\n",
    "betas = extract_betas(sub,exp,smooth,masks,False)\n",
    "betas = prewhiten_betas(sub,betas,masks)"
   ]
  },
  {
   "cell_type": "code",
   "execution_count": 126,
   "metadata": {
    "collapsed": false,
    "scrolled": true
   },
   "outputs": [
    {
     "name": "stdout",
     "output_type": "stream",
     "text": [
      "importing os on engine(s)\n",
      "importing numpy on engine(s)\n",
      "importing scipy on engine(s)\n",
      "importing scipy.stats on engine(s)\n",
      "importing pickle on engine(s)\n"
     ]
    },
    {
     "data": {
      "text/plain": [
       "[None,\n",
       " None,\n",
       " None,\n",
       " None,\n",
       " None,\n",
       " None,\n",
       " None,\n",
       " None,\n",
       " None,\n",
       " None,\n",
       " None,\n",
       " None,\n",
       " None,\n",
       " None,\n",
       " None,\n",
       " None,\n",
       " None,\n",
       " None,\n",
       " None,\n",
       " None,\n",
       " None,\n",
       " None,\n",
       " None,\n",
       " None,\n",
       " None,\n",
       " None,\n",
       " None,\n",
       " None,\n",
       " None,\n",
       " None,\n",
       " None,\n",
       " None]"
      ]
     },
     "execution_count": 126,
     "metadata": {},
     "output_type": "execute_result"
    }
   ],
   "source": [
    "dview = rc[0:12]\n",
    "dview.block = True\n",
    "\n",
    "dview.push(dict(home_dir=home_dir,\n",
    "                masks = masks,\n",
    "                exp = exp,\n",
    "                smooth = smooth,\n",
    "                cond_map = cond_map,\n",
    "                nconds = nconds,\n",
    "                overlap_masks = overlap_masks,\n",
    "                compute_rsa = compute_rsa,\n",
    "                prewhiten_betas = prewhiten_betas,\n",
    "                compute_inv_shrunk_covariance = compute_inv_shrunk_covariance,\n",
    "                compute_inverse_sigma = compute_inverse_sigma,\n",
    "                is_invertible = is_invertible,\n",
    "                extract_betas = extract_betas,\n",
    "                delete_inverse_sigma = delete_inverse_sigma,\n",
    "                trim_mask = trim_mask,\n",
    "                compute_rsa_euclid = compute_rsa_euclid\n",
    "                ))\n",
    "dview.execute(\"import numpy as np\")\n",
    "dview.execute(\"import os.path as op\")\n",
    "dview.execute(\"import nibabel as nib\")\n",
    "dview.execute(\"import pandas as pd\")\n",
    "with dview.sync_imports():\n",
    "    import os\n",
    "    import numpy\n",
    "    import scipy\n",
    "    import scipy.stats\n",
    "    import pickle\n",
    "dview.map_sync(run_sub,subs)"
   ]
  },
  {
   "cell_type": "code",
   "execution_count": 127,
   "metadata": {
    "collapsed": false
   },
   "outputs": [],
   "source": [
    "all_rsas = {k:[] for k in masks}\n",
    "\n",
    "for sub in subs:\n",
    "    out_f = op.join(home_dir,'rsa', sub + 'rsa_sim.pkl')\n",
    "    pkl_file = open(out_f, 'rb')\n",
    "    rsas = pickle.load(pkl_file)\n",
    "    for m in masks:\n",
    "        all_rsas[m].append(rsas[m])\n",
    "\n",
    "    pkl_file.close()"
   ]
  },
  {
   "cell_type": "code",
   "execution_count": 128,
   "metadata": {
    "collapsed": false
   },
   "outputs": [],
   "source": [
    "rois= ['hipp','peri_sim','para_sim','entorhinal']\n",
    "# rois= ['hipp']\n",
    "\n",
    "res = {'intercept':[],'response':[],'valence':[],'overlap':[],'identity':[],'region':[],'sub':[]}\n",
    "res_stacked = {'beta':[],'regressor':[],'region':[]}\n",
    "for roi in rois:\n",
    "    for sub,rsa in enumerate(all_rsas[roi]):\n",
    "        data = pd.DataFrame()\n",
    "        data['y'] = rsa[np.tril_indices_from(rsa)]\n",
    "#         data['y'] = 1-rsa[np.tril_indices_from(rsa)]\n",
    "        data['y'] = np.arctanh(data['y'])\n",
    "\n",
    "        data['response'] = [1,0,1,0,1,1,1,0,0,1]\n",
    "        data['valence'] = [1,0,-1,0,-1,-1,1,0,0,1]\n",
    "        data['overlap'] = [0,1,0,1,0,0,0,1,0,0]\n",
    "        data['identity'] = [1,0,1,0,0,1,0,0,0,1]\n",
    "        data['double'] = [1,1,1,0,0,0,0,0,0,0]\n",
    "\n",
    "        data['response'] = data['response'] - np.mean(data['response'])\n",
    "        data['valence'] = data['valence'] - np.mean(data['valence'])\n",
    "        data['overlap'] = data['overlap'] - np.mean(data['overlap'])\n",
    "        data['identity'] = data['identity'] - np.mean(data['identity'])\n",
    "\n",
    "        model = ols(\"y ~ identity + response + valence + overlap\", data)    \n",
    "        fit = model.fit()\n",
    "        \n",
    "        res['intercept'].append(fit.params['Intercept'])\n",
    "        res['response'].append(fit.params['response'])\n",
    "        res['valence'].append(fit.params['valence'])\n",
    "        res['overlap'].append(fit.params['overlap'])\n",
    "        res['identity'].append(fit.params['identity'])\n",
    "        res['sub'].append(sub)\n",
    "        res['region'].append(roi)\n",
    "    \n",
    "res = pd.DataFrame(res)\n",
    "# res.to_csv('/home/iballard/Dropbox/fd/sim_similarity.csv')"
   ]
  },
  {
   "cell_type": "code",
   "execution_count": 129,
   "metadata": {
    "collapsed": false
   },
   "outputs": [],
   "source": [
    "# # rois= ['hipp','peri_sim','para_sim','entorhinal']\n",
    "# rois= ['hipp']\n",
    "\n",
    "# res = {'intercept':[],'response':[],'valence':[],'overlap':[],'region':[],'sub':[]}\n",
    "# res_stacked = {'beta':[],'regressor':[],'region':[]}\n",
    "# for roi in rois:\n",
    "#     for sub,rsa in enumerate(all_rsas[roi]):\n",
    "#         data = pd.DataFrame()\n",
    "#         y = rsa[np.tril_indices_from(rsa)]\n",
    "#         diag = [False,True,False,True,True,False,True,True,True,False]\n",
    "#         data['y'] = [x for n,x in enumerate(y) if diag[n]]\n",
    "        \n",
    "#         data['response'] = [0,0,1,1,0,0]\n",
    "#         data['valence'] = [0,0,-1,1,0,0]\n",
    "#         data['overlap'] = [1,1,0,0,1,0]\n",
    "# #         data['double'] = [1,1,1,0,0,0,0,0,0,0]\n",
    "\n",
    "\n",
    "#         data['overlap'] = data['overlap'] - np.mean(data['overlap'])\n",
    "#         model = ols(\"y ~  response + valence + overlap\", data)    \n",
    "#         fit = model.fit()\n",
    "        \n",
    "#         res['intercept'].append(fit.params['Intercept'])\n",
    "#         res['response'].append(fit.params['response'])\n",
    "#         res['valence'].append(fit.params['valence'])\n",
    "#         res['overlap'].append(fit.params['overlap'])\n",
    "#         res['sub'].append(sub)\n",
    "#         res['region'].append(roi)\n",
    "    \n",
    "# res = pd.DataFrame(res)\n",
    "# # res.to_csv('/home/iballard/Dropbox/fd/sim_similarity.csv')"
   ]
  },
  {
   "cell_type": "code",
   "execution_count": 131,
   "metadata": {
    "collapsed": false
   },
   "outputs": [
    {
     "data": {
      "text/plain": [
       "<matplotlib.axes._subplots.AxesSubplot at 0x7fcb8d129210>"
      ]
     },
     "execution_count": 131,
     "metadata": {},
     "output_type": "execute_result"
    },
    {
     "data": {
      "image/png": "[encoded data removed]",
      "text/plain": [
       "<matplotlib.figure.Figure at 0x7fcb8d10e6d0>"
      ]
     },
     "metadata": {},
     "output_type": "display_data"
    }
   ],
   "source": [
    "res_melt = pd.melt(res, id_vars=['region'], value_vars=['response','valence','overlap','identity'])\n",
    "sns.barplot(x='variable',y='value',hue = 'region',data = res_melt, ci = 68)\n",
    "# plt.savefig('/home/iballard/Dropbox/fd/RSA.png')"
   ]
  },
  {
   "cell_type": "code",
   "execution_count": 90,
   "metadata": {
    "collapsed": false
   },
   "outputs": [],
   "source": []
  },
  {
   "cell_type": "code",
   "execution_count": 119,
   "metadata": {
    "collapsed": false
   },
   "outputs": [
    {
     "data": {
      "text/plain": [
       "array([[ 1.36795144, -0.44878395, -0.89156854,  0.79081803],\n",
       "       [-0.92679851,  1.69580754, -0.09563068, -1.20176616],\n",
       "       [-0.98622828, -0.35397899, -0.67016135, -0.7552355 ],\n",
       "       [ 0.54507535, -0.89304459,  1.65736057,  1.16618363]])"
      ]
     },
     "execution_count": 119,
     "metadata": {},
     "output_type": "execute_result"
    }
   ],
   "source": [
    "hipp = np.mean(all_rsas['hipp'],0) \n",
    "# hipp = hipp - np.mean(hipp)\n",
    "scipy.stats.zscore(hipp)"
   ]
  }
 ],
 "metadata": {
  "kernelspec": {
   "display_name": "Python 2",
   "language": "python",
   "name": "python2"
  },
  "language_info": {
   "codemirror_mode": {
    "name": "ipython",
    "version": 2
   },
   "file_extension": ".py",
   "mimetype": "text/x-python",
   "name": "python",
   "nbconvert_exporter": "python",
   "pygments_lexer": "ipython2",
   "version": "2.7.11"
  }
 },
 "nbformat": 4,
 "nbformat_minor": 0
}
