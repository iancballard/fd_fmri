{
 "cells": [
  {
   "cell_type": "code",
   "execution_count": 1,
   "metadata": {
    "collapsed": false
   },
   "outputs": [],
   "source": [
    "#os and i/o\n",
    "import os\n",
    "import numpy as np\n",
    "import glob\n",
    "from os.path import abspath\n",
    "import csv\n",
    "\n",
    "#scientific computing\n",
    "import matplotlib\n",
    "import matplotlib.pyplot as plt\n",
    "import pandas as pd\n",
    "from scipy import stats, optimize\n",
    "from pandas import DataFrame, Series\n",
    "import seaborn as sns\n",
    "import random as rd\n",
    "from statsmodels.formula.api import ols\n",
    "from statsmodels.stats.anova import anova_lm\n",
    "import scipy.stats\n",
    "\n",
    "#ipython add-ons\n",
    "from IPython.parallel import Client\n",
    "from IPython.display import Image\n",
    "import multiprocessing\n",
    "\n",
    "##nipype\n",
    "import nibabel as nib\n",
    "from nipype.pipeline.engine import Node, MapNode, Workflow\n",
    "from nipype.interfaces.io import DataGrabber, DataFinder, DataSink\n",
    "from nipype.interfaces import fsl\n",
    "from nipype.interfaces.fsl import MELODIC\n",
    "%matplotlib inline"
   ]
  },
  {
   "cell_type": "code",
   "execution_count": 2,
   "metadata": {
    "collapsed": false
   },
   "outputs": [],
   "source": [
    "#preliminary housekeeping\n",
    "home_dir = '/data/home/iballard/fd/'\n",
    "subj_file = home_dir + 'subjects_sim.txt'\n",
    "sub_list = list(np.loadtxt(subj_file,'string'))\n",
    "os.chdir(home_dir)"
   ]
  },
  {
   "cell_type": "code",
   "execution_count": 3,
   "metadata": {
    "collapsed": false
   },
   "outputs": [],
   "source": [
    "def apply_melodic(in_tuple):\n",
    "    sub = in_tuple[0]\n",
    "    exp = in_tuple[1]\n",
    "    run = str(in_tuple[2])\n",
    "    \n",
    "    sub_path = home_dir + 'analysis/' + exp + '_8mm/' + sub + '/preproc/run_' + run + '/'\n",
    "    \n",
    "    if os.path.exists(sub_path):\n",
    "        scan = sub_path + 'unsmoothed_timeseries.nii.gz'\n",
    "        mask = sub_path + 'functional_mask.nii.gz'\n",
    "        out_dir = sub_path + 'melodic'\n",
    "\n",
    "        if not os.path.exists(out_dir):\n",
    "            os.mkdir(out_dir)\n",
    "\n",
    "        melodic_setup = MELODIC(in_files = scan, no_bet = True, bg_threshold = 3, tr_sec = 1.5,\n",
    "                               mm_thresh = .5, out_stats = True, report = True, mask = mask,\n",
    "                               out_dir = out_dir)\n",
    "        melodic_setup.run()"
   ]
  },
  {
   "cell_type": "code",
   "execution_count": 4,
   "metadata": {
    "collapsed": false
   },
   "outputs": [
    {
     "ename": "FileNotFoundError",
     "evalue": "File/Directory '/data/home/iballard/fd/report' not found for MELODIC output 'report_dir'.\nInterface MELODIC failed to run. ",
     "output_type": "error",
     "traceback": [
      "\u001b[1;31m---------------------------------------------------------------------------\u001b[0m",
      "\u001b[1;31mFileNotFoundError\u001b[0m                         Traceback (most recent call last)",
      "\u001b[1;32m<ipython-input-4-70462ee4c7d0>\u001b[0m in \u001b[0;36m<module>\u001b[1;34m()\u001b[0m\n\u001b[0;32m      6\u001b[0m \u001b[1;33m\u001b[0m\u001b[0m\n\u001b[0;32m      7\u001b[0m \u001b[0mpool\u001b[0m \u001b[1;33m=\u001b[0m \u001b[0mmultiprocessing\u001b[0m\u001b[1;33m.\u001b[0m\u001b[0mPool\u001b[0m\u001b[1;33m(\u001b[0m\u001b[0mprocesses\u001b[0m \u001b[1;33m=\u001b[0m \u001b[1;36m24\u001b[0m\u001b[1;33m)\u001b[0m\u001b[1;33m\u001b[0m\u001b[0m\n\u001b[1;32m----> 8\u001b[1;33m \u001b[0mpool\u001b[0m\u001b[1;33m.\u001b[0m\u001b[0mmap\u001b[0m\u001b[1;33m(\u001b[0m\u001b[0mapply_melodic\u001b[0m\u001b[1;33m,\u001b[0m\u001b[0min_tuples\u001b[0m\u001b[1;33m)\u001b[0m\u001b[1;33m\u001b[0m\u001b[0m\n\u001b[0m",
      "\u001b[1;32m/usr/lib/python2.7/multiprocessing/pool.pyc\u001b[0m in \u001b[0;36mmap\u001b[1;34m(self, func, iterable, chunksize)\u001b[0m\n\u001b[0;32m    249\u001b[0m         '''\n\u001b[0;32m    250\u001b[0m         \u001b[1;32massert\u001b[0m \u001b[0mself\u001b[0m\u001b[1;33m.\u001b[0m\u001b[0m_state\u001b[0m \u001b[1;33m==\u001b[0m \u001b[0mRUN\u001b[0m\u001b[1;33m\u001b[0m\u001b[0m\n\u001b[1;32m--> 251\u001b[1;33m         \u001b[1;32mreturn\u001b[0m \u001b[0mself\u001b[0m\u001b[1;33m.\u001b[0m\u001b[0mmap_async\u001b[0m\u001b[1;33m(\u001b[0m\u001b[0mfunc\u001b[0m\u001b[1;33m,\u001b[0m \u001b[0miterable\u001b[0m\u001b[1;33m,\u001b[0m \u001b[0mchunksize\u001b[0m\u001b[1;33m)\u001b[0m\u001b[1;33m.\u001b[0m\u001b[0mget\u001b[0m\u001b[1;33m(\u001b[0m\u001b[1;33m)\u001b[0m\u001b[1;33m\u001b[0m\u001b[0m\n\u001b[0m\u001b[0;32m    252\u001b[0m \u001b[1;33m\u001b[0m\u001b[0m\n\u001b[0;32m    253\u001b[0m     \u001b[1;32mdef\u001b[0m \u001b[0mimap\u001b[0m\u001b[1;33m(\u001b[0m\u001b[0mself\u001b[0m\u001b[1;33m,\u001b[0m \u001b[0mfunc\u001b[0m\u001b[1;33m,\u001b[0m \u001b[0miterable\u001b[0m\u001b[1;33m,\u001b[0m \u001b[0mchunksize\u001b[0m\u001b[1;33m=\u001b[0m\u001b[1;36m1\u001b[0m\u001b[1;33m)\u001b[0m\u001b[1;33m:\u001b[0m\u001b[1;33m\u001b[0m\u001b[0m\n",
      "\u001b[1;32m/usr/lib/python2.7/multiprocessing/pool.pyc\u001b[0m in \u001b[0;36mget\u001b[1;34m(self, timeout)\u001b[0m\n\u001b[0;32m    556\u001b[0m             \u001b[1;32mreturn\u001b[0m \u001b[0mself\u001b[0m\u001b[1;33m.\u001b[0m\u001b[0m_value\u001b[0m\u001b[1;33m\u001b[0m\u001b[0m\n\u001b[0;32m    557\u001b[0m         \u001b[1;32melse\u001b[0m\u001b[1;33m:\u001b[0m\u001b[1;33m\u001b[0m\u001b[0m\n\u001b[1;32m--> 558\u001b[1;33m             \u001b[1;32mraise\u001b[0m \u001b[0mself\u001b[0m\u001b[1;33m.\u001b[0m\u001b[0m_value\u001b[0m\u001b[1;33m\u001b[0m\u001b[0m\n\u001b[0m\u001b[0;32m    559\u001b[0m \u001b[1;33m\u001b[0m\u001b[0m\n\u001b[0;32m    560\u001b[0m     \u001b[1;32mdef\u001b[0m \u001b[0m_set\u001b[0m\u001b[1;33m(\u001b[0m\u001b[0mself\u001b[0m\u001b[1;33m,\u001b[0m \u001b[0mi\u001b[0m\u001b[1;33m,\u001b[0m \u001b[0mobj\u001b[0m\u001b[1;33m)\u001b[0m\u001b[1;33m:\u001b[0m\u001b[1;33m\u001b[0m\u001b[0m\n",
      "\u001b[1;31mFileNotFoundError\u001b[0m: File/Directory '/data/home/iballard/fd/report' not found for MELODIC output 'report_dir'.\nInterface MELODIC failed to run. "
     ]
    }
   ],
   "source": [
    "in_tuples = []\n",
    "for sub in sub_list:\n",
    "    for exp in ['sim']:\n",
    "        for run in range(1,4):\n",
    "            in_tuples.append((sub,exp,run))\n",
    "\n",
    "pool = multiprocessing.Pool(processes = 24)\n",
    "pool.map(apply_melodic,in_tuples)"
   ]
  },
  {
   "cell_type": "code",
   "execution_count": 5,
   "metadata": {
    "collapsed": false,
    "scrolled": true
   },
   "outputs": [
    {
     "name": "stderr",
     "output_type": "stream",
     "text": [
      "INFO:workflow:['check', 'execution', 'logging']\n",
      "INFO:workflow:Running in parallel.\n",
      "INFO:workflow:Submitting 2 jobs\n",
      "INFO:workflow:Executing: mask ID: 0\n",
      "INFO:workflow:Executing: median ID: 2\n",
      "INFO:workflow:[Job finished] jobname: median jobid: 2\n",
      "INFO:workflow:Executing node mask in dir: /tmp/tmpMPqlwH/smooth/susan_smooth/mask\n",
      "INFO:workflow:Executing node median in dir: /tmp/tmp2RwedY/smooth/susan_smooth/median\n",
      "INFO:workflow:Executing node _mask0 in dir: /tmp/tmpMPqlwH/smooth/susan_smooth/mask/mapflow/_mask0\n",
      "INFO:workflow:Executing node _median0 in dir: /tmp/tmp2RwedY/smooth/susan_smooth/median/mapflow/_median0\n",
      "INFO:workflow:Running: fslmaths /data/home/iballard/fd/analysis/ser_8mm/fd_104/preproc/run_1/melodic/filtered_func_data_clean.nii.gz -mas /data/home/iballard/fd/analysis/ser_8mm/fd_104/preproc/run_1/functional_mask.nii.gz /tmp/tmpMPqlwH/smooth/susan_smooth/mask/mapflow/_mask0/filtered_func_data_clean_mask.nii.gz\n",
      "INFO:workflow:Running: fslstats /data/home/iballard/fd/analysis/ser_8mm/fd_104/preproc/run_1/melodic/filtered_func_data_clean.nii.gz -k /data/home/iballard/fd/analysis/ser_8mm/fd_104/preproc/run_1/functional_mask.nii.gz -p 50 \n",
      "INFO:interface:stdout 2015-06-15T11:19:27.903624:10037.708008 \n",
      "INFO:workflow:[Job finished] jobname: mask jobid: 0\n",
      "INFO:workflow:Submitting 1 jobs\n",
      "INFO:workflow:Executing: meanfunc2 ID: 1\n",
      "INFO:workflow:[Job finished] jobname: meanfunc2 jobid: 1\n",
      "INFO:workflow:Executing node meanfunc2 in dir: /tmp/tmpSP4xI3/smooth/susan_smooth/meanfunc2\n",
      "INFO:workflow:Executing node _meanfunc20 in dir: /tmp/tmpSP4xI3/smooth/susan_smooth/meanfunc2/mapflow/_meanfunc20\n",
      "INFO:workflow:Running: fslmaths /tmp/tmpMPqlwH/smooth/susan_smooth/mask/mapflow/_mask0/filtered_func_data_clean_mask.nii.gz -Tmean /tmp/tmpSP4xI3/smooth/susan_smooth/meanfunc2/mapflow/_meanfunc20/filtered_func_data_clean_mask_mean.nii.gz\n",
      "INFO:workflow:Submitting 1 jobs\n",
      "INFO:workflow:Executing: merge ID: 3\n",
      "INFO:workflow:[Job finished] jobname: merge jobid: 3\n",
      "INFO:workflow:Executing node merge in dir: /tmp/tmpOJOU0a/smooth/susan_smooth/merge\n",
      "INFO:workflow:Submitting 1 jobs\n",
      "INFO:workflow:Executing: smooth ID: 4\n",
      "INFO:workflow:[Job finished] jobname: smooth jobid: 4\n",
      "INFO:workflow:Executing node smooth in dir: /tmp/tmpEgePV_/smooth/susan_smooth/smooth\n",
      "INFO:workflow:Executing node _smooth0 in dir: /tmp/tmpEgePV_/smooth/susan_smooth/smooth/mapflow/_smooth0\n",
      "INFO:workflow:Running: susan /data/home/iballard/fd/analysis/ser_8mm/fd_104/preproc/run_1/melodic/filtered_func_data_clean.nii.gz 7528.2810060000 3.3972872012 3 1 1 /tmp/tmpSP4xI3/smooth/susan_smooth/meanfunc2/mapflow/_meanfunc20/filtered_func_data_clean_mask_mean.nii.gz 7528.2810060000 /tmp/tmpEgePV_/smooth/susan_smooth/smooth/mapflow/_smooth0/filtered_func_data_clean_smooth.nii.gz\n",
      "INFO:workflow:Submitting 1 jobs\n",
      "INFO:workflow:Executing: sinker ID: 5\n",
      "INFO:workflow:[Job finished] jobname: sinker jobid: 5\n",
      "INFO:workflow:Executing node sinker in dir: /tmp/tmpqRqUsm/smooth/sinker\n"
     ]
    },
    {
     "data": {
      "text/plain": [
       "<networkx.classes.digraph.DiGraph at 0x7f343aeebcd0>"
      ]
     },
     "execution_count": 5,
     "metadata": {},
     "output_type": "execute_result"
    }
   ],
   "source": []
  },
  {
   "cell_type": "code",
   "execution_count": null,
   "metadata": {
    "collapsed": true
   },
   "outputs": [],
   "source": []
  }
 ],
 "metadata": {
  "kernelspec": {
   "display_name": "Python 2",
   "language": "python",
   "name": "python2"
  },
  "language_info": {
   "codemirror_mode": {
    "name": "ipython",
    "version": 2
   },
   "file_extension": ".py",
   "mimetype": "text/x-python",
   "name": "python",
   "nbconvert_exporter": "python",
   "pygments_lexer": "ipython2",
   "version": "2.7.6"
  }
 },
 "nbformat": 4,
 "nbformat_minor": 0
}
