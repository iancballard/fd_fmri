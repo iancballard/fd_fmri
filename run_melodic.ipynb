{
 "cells": [
  {
   "cell_type": "code",
   "execution_count": 5,
   "metadata": {
    "collapsed": false
   },
   "outputs": [
    {
     "name": "stderr",
     "output_type": "stream",
     "text": [
      "/home/iballard/anaconda/lib/python2.7/site-packages/IPython/parallel.py:13: ShimWarning: The `IPython.parallel` package has been deprecated. You should import from ipyparallel instead.\n",
      "  \"You should import from ipyparallel instead.\", ShimWarning)\n"
     ]
    }
   ],
   "source": [
    "#os and i/o\n",
    "import os\n",
    "import numpy as np\n",
    "import glob\n",
    "from os.path import abspath\n",
    "import csv\n",
    "\n",
    "#scientific computing\n",
    "import matplotlib\n",
    "import matplotlib.pyplot as plt\n",
    "import pandas as pd\n",
    "from scipy import stats, optimize\n",
    "from pandas import DataFrame, Series\n",
    "import seaborn as sns\n",
    "import random as rd\n",
    "from statsmodels.formula.api import ols\n",
    "from statsmodels.stats.anova import anova_lm\n",
    "import scipy.stats\n",
    "\n",
    "#ipython add-ons\n",
    "from IPython.parallel import Client\n",
    "from IPython.display import Image\n",
    "import multiprocessing\n",
    "\n",
    "##nipype\n",
    "import nibabel as nib\n",
    "from nipype.pipeline.engine import Node, MapNode, Workflow\n",
    "from nipype.interfaces.io import DataGrabber, DataFinder, DataSink\n",
    "from nipype.interfaces import fsl\n",
    "from nipype.interfaces.fsl import MELODIC\n",
    "%matplotlib inline"
   ]
  },
  {
   "cell_type": "code",
   "execution_count": 6,
   "metadata": {
    "collapsed": false
   },
   "outputs": [],
   "source": [
    "rc = Client()"
   ]
  },
  {
   "cell_type": "code",
   "execution_count": 7,
   "metadata": {
    "collapsed": false
   },
   "outputs": [],
   "source": [
    "#preliminary housekeeping\n",
    "home_dir = '/data/home/iballard/fd/'\n",
    "subj_file = home_dir + 'subjects.txt'\n",
    "sub_list = list(np.loadtxt(subj_file,'string'))\n",
    "os.chdir(home_dir)"
   ]
  },
  {
   "cell_type": "code",
   "execution_count": 4,
   "metadata": {
    "collapsed": false
   },
   "outputs": [],
   "source": [
    "def apply_melodic(in_tuple):\n",
    "    sub, exp, run = in_tuple\n",
    "    \n",
    "    sub_path = home_dir + 'analysis/' + exp + '/' + sub + '/preproc/run_' + run + '/'\n",
    "    \n",
    "    if os.path.exists(sub_path):\n",
    "        scan = sub_path + 'unsmoothed_timeseries.nii.gz'\n",
    "        mask = sub_path + 'functional_mask.nii.gz'\n",
    "        out_dir = sub_path + 'melodic'\n",
    "        \n",
    "        if not os.path.exists(out_dir):\n",
    "            os.mkdir(out_dir)\n",
    "        \n",
    "        if os.listdir(out_dir) == []: #directory empty\n",
    "            melodic_setup = MELODIC(in_files = scan, no_bet = True, bg_threshold = 10, tr_sec = 1.5,\n",
    "                                   mm_thresh = .5, out_stats = True, report = False, mask = mask,\n",
    "                                   out_dir = out_dir)\n",
    "            melodic_setup.run()"
   ]
  },
  {
   "cell_type": "code",
   "execution_count": 16,
   "metadata": {
    "collapsed": false,
    "scrolled": true
   },
   "outputs": [
    {
     "name": "stdout",
     "output_type": "stream",
     "text": [
      "[('fd_104', 'loc', '1')]\n"
     ]
    }
   ],
   "source": [
    "in_tuples = []\n",
    "for sub in sub_list:\n",
    "    if sub in ['fd_104']:\n",
    "        for exp in ['loc']:\n",
    "            for run in range(1,2):\n",
    "                in_tuples.append((sub,exp,str(run)))\n",
    "print in_tuples"
   ]
  },
  {
   "cell_type": "code",
   "execution_count": 17,
   "metadata": {
    "collapsed": false
   },
   "outputs": [
    {
     "name": "stdout",
     "output_type": "stream",
     "text": [
      "importing os on engine(s)\n",
      "importing numpy on engine(s)\n",
      "importing MELODIC from nipype.interfaces.fsl on engine(s)\n"
     ]
    },
    {
     "data": {
      "text/plain": [
       "[None]"
      ]
     },
     "execution_count": 17,
     "metadata": {},
     "output_type": "execute_result"
    }
   ],
   "source": [
    "dview = rc[0:18]\n",
    "dview.block = True\n",
    "\n",
    "dview.push(dict(home_dir=home_dir,\n",
    "                ))\n",
    "dview.execute(\"import numpy as np\")\n",
    "with dview.sync_imports():\n",
    "    import os\n",
    "    import numpy\n",
    "    from nipype.interfaces.fsl import MELODIC\n",
    "    \n",
    "#fit lots of models\n",
    "dview.map_sync(apply_melodic,in_tuples)\n"
   ]
  },
  {
   "cell_type": "code",
   "execution_count": 18,
   "metadata": {
    "collapsed": false
   },
   "outputs": [],
   "source": [
    "exp = 'loc'\n",
    "for sub in sub_list:\n",
    "    for run in range(1,3):\n",
    "        sub_path = home_dir + 'analysis/' + exp + '/' + sub + '/preproc/run_' + str(run) + '/melodic/'\n",
    "        out_f = sub_path + 'melodic_IC.nii.gz'\n",
    "        if not os.path.exists(out_f):\n",
    "            print sub,run"
   ]
  }
 ],
 "metadata": {
  "kernelspec": {
   "display_name": "Python 2",
   "language": "python",
   "name": "python2"
  },
  "language_info": {
   "codemirror_mode": {
    "name": "ipython",
    "version": 2
   },
   "file_extension": ".py",
   "mimetype": "text/x-python",
   "name": "python",
   "nbconvert_exporter": "python",
   "pygments_lexer": "ipython2",
   "version": "2.7.11"
  }
 },
 "nbformat": 4,
 "nbformat_minor": 0
}
