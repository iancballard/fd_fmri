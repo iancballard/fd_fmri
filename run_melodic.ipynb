{
 "cells": [
  {
   "cell_type": "code",
<<<<<<< HEAD
   "execution_count": 2,
=======
   "execution_count": 1,
>>>>>>> 38d7e1606f641b3d1e7298d6eca48723532b6159
   "metadata": {
    "collapsed": false
   },
   "outputs": [
    {
     "name": "stderr",
     "output_type": "stream",
     "text": [
      "/home/iballard/anaconda/lib/python2.7/site-packages/IPython/parallel.py:13: ShimWarning: The `IPython.parallel` package has been deprecated. You should import from ipyparallel instead.\n",
      "  \"You should import from ipyparallel instead.\", ShimWarning)\n"
     ]
    }
   ],
   "source": [
    "#os and i/o\n",
    "import os\n",
    "import numpy as np\n",
    "import glob\n",
    "from os.path import abspath\n",
    "import csv\n",
    "\n",
    "#scientific computing\n",
    "import matplotlib\n",
    "import matplotlib.pyplot as plt\n",
    "import pandas as pd\n",
    "from scipy import stats, optimize\n",
    "from pandas import DataFrame, Series\n",
    "import seaborn as sns\n",
    "import random as rd\n",
    "from statsmodels.formula.api import ols\n",
    "from statsmodels.stats.anova import anova_lm\n",
    "import scipy.stats\n",
    "\n",
    "#ipython add-ons\n",
    "from IPython.parallel import Client\n",
    "from IPython.display import Image\n",
    "import multiprocessing\n",
    "\n",
    "##nipype\n",
    "import nibabel as nib\n",
    "from nipype.pipeline.engine import Node, MapNode, Workflow\n",
    "from nipype.interfaces.io import DataGrabber, DataFinder, DataSink\n",
    "from nipype.interfaces import fsl\n",
    "from nipype.interfaces.fsl import MELODIC\n",
    "%matplotlib inline"
   ]
  },
  {
   "cell_type": "code",
<<<<<<< HEAD
   "execution_count": 3,
   "metadata": {
    "collapsed": false
   },
   "outputs": [],
   "source": [
    "rc = Client()"
   ]
  },
  {
   "cell_type": "code",
   "execution_count": 4,
=======
   "execution_count": 2,
>>>>>>> 38d7e1606f641b3d1e7298d6eca48723532b6159
   "metadata": {
    "collapsed": false
   },
   "outputs": [],
   "source": [
    "#preliminary housekeeping\n",
    "home_dir = '/data/home/iballard/fd/'\n",
    "subj_file = home_dir + 'subjects.txt'\n",
    "sub_list = list(np.loadtxt(subj_file,'string'))\n",
    "os.chdir(home_dir)"
   ]
  },
  {
   "cell_type": "code",
<<<<<<< HEAD
   "execution_count": 8,
=======
   "execution_count": 3,
>>>>>>> 38d7e1606f641b3d1e7298d6eca48723532b6159
   "metadata": {
    "collapsed": false
   },
   "outputs": [],
   "source": [
    "def apply_melodic(in_tuple):\n",
    "    sub, exp, run = in_tuple\n",
    "    \n",
    "    sub_path = home_dir + 'analysis/' + exp + '/' + sub + '/preproc/run_' + run + '/'\n",
    "    \n",
    "    if os.path.exists(sub_path):\n",
    "        scan = sub_path + 'unsmoothed_timeseries.nii.gz'\n",
    "        mask = sub_path + 'functional_mask.nii.gz'\n",
    "        out_dir = sub_path + 'melodic'\n",
    "        \n",
    "        if not os.path.exists(out_dir):\n",
    "            os.mkdir(out_dir)\n",
    "        \n",
    "        if os.listdir(out_dir) == []: #directory empty\n",
    "            melodic_setup = MELODIC(in_files = scan, no_bet = True, bg_threshold = 10, tr_sec = 1.5,\n",
<<<<<<< HEAD
    "                                   mm_thresh = .5, out_stats = True, report = False, mask = mask,\n",
=======
    "                                   mm_thresh = .5, out_stats = True, report = True, mask = mask,\n",
>>>>>>> 38d7e1606f641b3d1e7298d6eca48723532b6159
    "                                   out_dir = out_dir)\n",
    "            melodic_setup.run()"
   ]
  },
  {
   "cell_type": "code",
<<<<<<< HEAD
   "execution_count": 9,
=======
   "execution_count": 4,
>>>>>>> 38d7e1606f641b3d1e7298d6eca48723532b6159
   "metadata": {
    "collapsed": false,
    "scrolled": true
   },
   "outputs": [],
   "source": [
    "in_tuples = []\n",
    "for sub in sub_list:\n",
    "    for exp in ['sim_4mm']:\n",
    "        for run in range(1,4):\n",
    "            in_tuples.append((sub,exp,str(run)))"
   ]
  },
  {
   "cell_type": "code",
<<<<<<< HEAD
   "execution_count": 12,
   "metadata": {
    "collapsed": false
   },
   "outputs": [
    {
     "name": "stdout",
     "output_type": "stream",
     "text": [
      "importing os on engine(s)\n",
      "importing numpy on engine(s)\n",
      "importing MELODIC from nipype.interfaces.fsl on engine(s)\n"
     ]
    }
   ],
   "source": [
    "dview = rc[0:18]\n",
    "dview.block = True\n",
    "\n",
    "dview.push(dict(home_dir=home_dir,\n",
    "                ))\n",
    "dview.execute(\"import numpy as np\")\n",
    "with dview.sync_imports():\n",
    "    import os\n",
    "    import numpy\n",
    "    from nipype.interfaces.fsl import MELODIC\n",
    "    \n",
    "#fit lots of models\n",
    "dview.map_sync(apply_melodic,in_tuples)\n"
=======
   "execution_count": 5,
   "metadata": {
    "collapsed": false,
    "scrolled": true
   },
   "outputs": [],
   "source": [
    "pool = multiprocessing.Pool(processes = 10)\n",
    "pool.map(apply_melodic,in_tuples)\n",
    "pool.terminate()\n",
    "pool.join()"
>>>>>>> 38d7e1606f641b3d1e7298d6eca48723532b6159
   ]
  },
  {
   "cell_type": "code",
<<<<<<< HEAD
   "execution_count": 11,
=======
   "execution_count": 15,
>>>>>>> 38d7e1606f641b3d1e7298d6eca48723532b6159
   "metadata": {
    "collapsed": false
   },
   "outputs": [
    {
     "name": "stdout",
     "output_type": "stream",
     "text": [
<<<<<<< HEAD
      "fd_127 3\n",
      "fd_133 3\n"
=======
      "fd_104 1\n",
      "fd_104 2\n",
      "fd_104 3\n",
      "fd_105 1\n",
      "fd_105 2\n",
      "fd_105 3\n",
      "fd_107 1\n",
      "fd_107 2\n",
      "fd_107 3\n",
      "fd_108 1\n",
      "fd_108 2\n",
      "fd_108 3\n",
      "fd_109 1\n",
      "fd_109 2\n",
      "fd_109 3\n",
      "fd_110 1\n",
      "fd_110 2\n",
      "fd_110 3\n",
      "fd_112 1\n",
      "fd_112 2\n",
      "fd_112 3\n",
      "fd_113 1\n",
      "fd_113 2\n",
      "fd_113 3\n",
      "fd_114 1\n",
      "fd_114 2\n",
      "fd_114 3\n",
      "fd_115 1\n",
      "fd_115 2\n",
      "fd_115 3\n",
      "fd_117 1\n",
      "fd_117 2\n",
      "fd_117 3\n",
      "fd_118 1\n",
      "fd_118 2\n",
      "fd_118 3\n",
      "fd_119 1\n",
      "fd_119 2\n",
      "fd_119 3\n",
      "fd_122 1\n",
      "fd_122 2\n",
      "fd_122 3\n",
      "fd_123 1\n",
      "fd_123 2\n",
      "fd_123 3\n",
      "fd_124 1\n",
      "fd_124 2\n",
      "fd_124 3\n",
      "fd_126 1\n",
      "fd_126 3\n",
      "fd_127 1\n",
      "fd_127 2\n",
      "fd_127 3\n",
      "fd_128 1\n",
      "fd_128 2\n",
      "fd_128 3\n",
      "fd_129 1\n",
      "fd_129 2\n",
      "fd_129 3\n",
      "fd_130 1\n",
      "fd_130 2\n",
      "fd_130 3\n",
      "fd_132 1\n",
      "fd_132 2\n",
      "fd_132 3\n",
      "fd_133 1\n",
      "fd_133 2\n",
      "fd_133 3\n",
      "fd_135 1\n",
      "fd_135 2\n",
      "fd_135 3\n",
      "fd_136 1\n",
      "fd_136 2\n",
      "fd_136 3\n",
      "fd_137 1\n",
      "fd_137 2\n",
      "fd_137 3\n",
      "fd_138 1\n",
      "fd_138 2\n",
      "fd_138 3\n",
      "fd_140 1\n",
      "fd_140 2\n",
      "fd_141 1\n",
      "fd_141 2\n",
      "fd_141 3\n",
      "fd_144 1\n",
      "fd_144 2\n",
      "fd_144 3\n",
      "fd_147 1\n",
      "fd_147 2\n",
      "fd_148 1\n",
      "fd_148 2\n",
      "fd_148 3\n"
>>>>>>> 38d7e1606f641b3d1e7298d6eca48723532b6159
     ]
    }
   ],
   "source": [
    "exp = 'sim_4mm'\n",
    "for sub in sub_list:\n",
    "    for run in range(1,4):\n",
    "        sub_path = home_dir + 'analysis/' + exp + '/' + sub + '/preproc/run_' + str(run) + '/melodic/'\n",
    "        out_f = sub_path + 'melodic_IC.nii.gz'\n",
    "        if not os.path.exists(out_f):\n",
    "            print sub,run"
   ]
  },
  {
   "cell_type": "code",
   "execution_count": null,
   "metadata": {
    "collapsed": false
   },
   "outputs": [],
   "source": []
  },
  {
   "cell_type": "code",
   "execution_count": null,
   "metadata": {
    "collapsed": false
   },
   "outputs": [],
   "source": []
  },
  {
   "cell_type": "code",
   "execution_count": null,
   "metadata": {
    "collapsed": true
   },
   "outputs": [],
   "source": []
  }
 ],
 "metadata": {
  "kernelspec": {
   "display_name": "Python 2",
   "language": "python",
   "name": "python2"
  },
  "language_info": {
   "codemirror_mode": {
    "name": "ipython",
    "version": 2
   },
   "file_extension": ".py",
   "mimetype": "text/x-python",
   "name": "python",
   "nbconvert_exporter": "python",
   "pygments_lexer": "ipython2",
   "version": "2.7.11"
  }
 },
 "nbformat": 4,
 "nbformat_minor": 0
}
