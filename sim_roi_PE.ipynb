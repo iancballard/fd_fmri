{
 "cells": [
  {
   "cell_type": "code",
   "execution_count": 1,
   "metadata": {
    "collapsed": true
   },
   "outputs": [],
   "source": [
    "import nibabel as nib\n",
    "import os\n",
    "import numpy as np\n",
    "import os.path as op\n",
    "import seaborn as sns\n",
    "import matplotlib\n",
    "import scipy\n",
    "import matplotlib.pyplot as plt\n",
    "import pandas as pd\n",
    "%matplotlib inline"
   ]
  },
  {
   "cell_type": "code",
   "execution_count": 2,
   "metadata": {
    "collapsed": true
   },
   "outputs": [],
   "source": [
    "#preliminary housekeeping\n",
    "home_dir = '/data/home/iballard/fd/'\n",
    "subj_file = home_dir + 'subjects.txt'\n",
    "subs = list(np.loadtxt(subj_file,'string'))\n",
    "os.chdir(home_dir)"
   ]
  },
  {
   "cell_type": "code",
   "execution_count": 11,
   "metadata": {
    "collapsed": true
   },
   "outputs": [],
   "source": [
    "exp = 'sim_4mm-PEdiffone'\n",
    "smooth = 'smoothed'\n",
    "masks = ['sim_4mm_striatum_PE_mf_mask','vta']\n",
    "contrasts = ['PE_mb','PE_mf']"
   ]
  },
  {
   "cell_type": "code",
   "execution_count": 12,
   "metadata": {
    "collapsed": false
   },
   "outputs": [
    {
     "name": "stderr",
     "output_type": "stream",
     "text": [
      "/home/iballard/anaconda/lib/python2.7/site-packages/ipykernel/__main__.py:21: VisibleDeprecationWarning: boolean index did not match indexed array along dimension 2; dimension is 54 but corresponding boolean dimension is 57\n"
     ]
    }
   ],
   "source": [
    "copes = {'sub':[],'mask':[],'contrast':[],'cope':[]}\n",
    "\n",
    "for m in masks:\n",
    "    for contrast in contrasts:\n",
    "        for sub in subs:\n",
    "\n",
    "            #load ROI\n",
    "            if m != 'vta':\n",
    "                mask = op.join(home_dir,'data', sub,  'masks', m + '.nii.gz')\n",
    "            else:\n",
    "                mask = op.join(home_dir,'data', sub,  'masks', 'vta','sim_vta_mask.nii.gz')\n",
    "\n",
    "            mask = nib.load(mask).get_data().astype(bool)\n",
    "            \n",
    "            #load stat image\n",
    "            stat = op.join(home_dir,'analysis', exp, sub, 'ffx', 'epi', \n",
    "                               smooth, contrast, 'cope1.nii.gz')\n",
    "            stat = nib.load(stat).get_data().astype(float)\n",
    "\n",
    "            #mask\n",
    "            stat = stat[mask]\n",
    "\n",
    "            copes['sub'].append(sub)\n",
    "            copes['mask'].append(m)\n",
    "            copes['contrast'].append(contrast)\n",
    "            copes['cope'].append(np.nanmean(stat))\n",
    "copes = pd.DataFrame(copes)"
   ]
  },
  {
   "cell_type": "code",
   "execution_count": 13,
   "metadata": {
    "collapsed": false
   },
   "outputs": [
    {
     "data": {
      "text/plain": [
       "<matplotlib.axes._subplots.AxesSubplot at 0x7fb617239150>"
      ]
     },
     "execution_count": 13,
     "metadata": {},
     "output_type": "execute_result"
    },
    {
     "data": {
      "image/png": "[encoded data removed]",
      "text/plain": [
       "<matplotlib.figure.Figure at 0x7fb6170c5790>"
      ]
     },
     "metadata": {},
     "output_type": "display_data"
    }
   ],
   "source": [
    "sns.barplot(x='contrast',y='cope',hue='mask',data=copes)"
   ]
  },
  {
   "cell_type": "code",
   "execution_count": null,
   "metadata": {
    "collapsed": true
   },
   "outputs": [],
   "source": []
  }
 ],
 "metadata": {
  "kernelspec": {
   "display_name": "Python 2",
   "language": "python",
   "name": "python2"
  },
  "language_info": {
   "codemirror_mode": {
    "name": "ipython",
    "version": 2
   },
   "file_extension": ".py",
   "mimetype": "text/x-python",
   "name": "python",
   "nbconvert_exporter": "python",
   "pygments_lexer": "ipython2",
   "version": "2.7.11"
  }
 },
 "nbformat": 4,
 "nbformat_minor": 0
}
