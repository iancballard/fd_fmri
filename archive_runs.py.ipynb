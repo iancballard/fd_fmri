{
 "cells": [
  {
   "cell_type": "markdown",
   "metadata": {},
   "source": [
    "Store full FFX analyses and rename/move bad runs so that lyman can run a new FFX analyis"
   ]
  },
  {
   "cell_type": "code",
   "execution_count": 1,
   "metadata": {
    "collapsed": true
   },
   "outputs": [],
   "source": [
    "#os and i/o\n",
    "import os\n",
    "import numpy as np\n",
    "import glob\n",
    "from os.path import abspath\n",
    "import csv\n",
    "import shutil\n",
    "import gc\n",
    "\n",
    "#scientific computing\n",
    "import matplotlib\n",
    "import matplotlib.pyplot as plt\n",
    "import pandas as pd\n",
    "from scipy import stats, optimize, ndimage\n",
    "from pandas import DataFrame, Series\n",
    "import seaborn as sns\n",
    "import random as rd\n",
    "from statsmodels.formula.api import ols\n",
    "from statsmodels.stats.anova import anova_lm\n",
    "import scipy.stats\n",
    "import math\n",
    "\n",
    "#ipython add-ons\n",
    "from IPython.parallel import Client\n",
    "from IPython.display import Image\n",
    "import multiprocessing\n",
    "\n",
    "%matplotlib inline"
   ]
  },
  {
   "cell_type": "code",
   "execution_count": 21,
   "metadata": {
    "collapsed": false
   },
   "outputs": [],
   "source": [
    "#preliminary housekeeping\n",
    "home_dir = '/data/home/iballard/fd/'\n",
    "subj_file = home_dir + 'subjects.txt'\n",
    "sub_list = list(np.loadtxt(subj_file,'string'))\n",
    "os.chdir(home_dir)\n",
    "exp_list = ['ser_8mm','sim_8mm','loc']"
   ]
  },
  {
   "cell_type": "code",
   "execution_count": 43,
   "metadata": {
    "collapsed": false
   },
   "outputs": [],
   "source": [
    "bad_runs = pd.read_csv(home_dir + 'bad_runs.txt')"
   ]
  },
  {
   "cell_type": "code",
   "execution_count": 44,
   "metadata": {
    "collapsed": false
   },
   "outputs": [],
   "source": [
    "bad_run_dir = home_dir + '/analysis/bad_runs/'\n",
    "for n,row in bad_runs.iterrows():\n",
    "    \n",
    "    exp,sub,run =  row['exp'], row['sub'], str(row['run'])\n",
    "    \n",
    "    run_dir = home_dir + '/analysis/' + exp + '_8mm-PE/' + sub \\\n",
    "        + '/model/smoothed/run_' + run\n",
    "    new_dir = bad_run_dir + exp + '_' + sub + '_' + run\n",
    "    \n",
    "    if not os.path.exists(new_dir):\n",
    "        os.rename(run_dir,new_dir)\n",
    "\n",
    "    run_dir = home_dir + '/analysis/' + exp + '_8mm-PE/' + sub \\\n",
    "        + '/preproc/run_' + run\n",
    "    new_dir = bad_run_dir + 'preproc_' + exp + '_' + sub + '_' + run\n",
    "    if not os.path.exists(new_dir):\n",
    "        os.rename(run_dir,new_dir)\n",
    "    \n",
    "    "
   ]
  },
  {
   "cell_type": "code",
   "execution_count": null,
   "metadata": {
    "collapsed": true
   },
   "outputs": [],
   "source": []
  }
 ],
 "metadata": {
  "kernelspec": {
   "display_name": "Python 2",
   "language": "python",
   "name": "python2"
  },
  "language_info": {
   "codemirror_mode": {
    "name": "ipython",
    "version": 2
   },
   "file_extension": ".py",
   "mimetype": "text/x-python",
   "name": "python",
   "nbconvert_exporter": "python",
   "pygments_lexer": "ipython2",
   "version": "2.7.6"
  }
 },
 "nbformat": 4,
 "nbformat_minor": 0
}
