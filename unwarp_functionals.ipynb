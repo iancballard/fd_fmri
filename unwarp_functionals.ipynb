{
 "cells": [
  {
   "cell_type": "code",
   "execution_count": 11,
   "metadata": {
    "collapsed": false
   },
   "outputs": [],
   "source": [
    "#os and i/o\n",
    "import os\n",
    "import numpy as np\n",
    "import glob\n",
    "from os.path import abspath\n",
    "import csv\n",
    "\n",
    "#scientific computing\n",
    "import matplotlib\n",
    "import matplotlib.pyplot as plt\n",
    "import pandas as pd\n",
    "from scipy import stats, optimize\n",
    "from pandas import DataFrame, Series\n",
    "import seaborn as sns\n",
    "import random as rd\n",
    "from statsmodels.formula.api import ols\n",
    "from statsmodels.stats.anova import anova_lm\n",
    "import scipy.stats\n",
    "\n",
    "#ipython add-ons\n",
    "from ipyparallel import Client\n",
    "import multiprocessing\n",
    "\n",
    "##nipype\n",
    "import nibabel as nib\n",
    "from nipype.pipeline.engine import Node, MapNode, Workflow\n",
    "from nipype.interfaces.io import DataGrabber, DataFinder, DataSink\n",
    "from nipype.interfaces import fsl\n",
    "from nipype.interfaces.fsl import BET\n",
    "from nipype.interfaces.freesurfer.preprocess import ReconAll\n",
    "from nipype.interfaces.freesurfer.utils import MakeAverageSubject\n",
    "from nipype.interfaces.fsl import ExtractROI\n",
    "from nipype.interfaces.fsl import Merge\n",
    "from nipype.interfaces.fsl import TOPUP\n",
    "from nipype.interfaces.fsl import ApplyTOPUP\n",
    "from nipype.interfaces.fsl import ExtractROI\n",
    "\n",
    "%matplotlib inline"
   ]
  },
  {
   "cell_type": "code",
   "execution_count": 12,
   "metadata": {
    "collapsed": false
   },
   "outputs": [],
   "source": [
    "rc = Client()\n",
    "dview = rc[:]"
   ]
  },
  {
   "cell_type": "code",
   "execution_count": 13,
   "metadata": {
    "collapsed": false
   },
   "outputs": [],
   "source": [
    "#preliminary housekeeping\n",
    "home_dir = '/data/home/iballard/fd/'\n",
    "subj_file = home_dir + 'scripts/sub_cb_mappings.txt'\n",
    "acq_params = home_dir + 'scripts/acqparams.txt'\n",
    "os.chdir(home_dir)\n",
    "\n",
    "num_slices = 57 #if you don't know, use nib.load and shape attribute\n",
    "#get subject list\n",
    "subj_file = home_dir + 'subjects.txt'\n",
    "sub_list = list(np.loadtxt(subj_file,'string'))"
   ]
  },
  {
   "cell_type": "code",
   "execution_count": 5,
   "metadata": {
    "collapsed": false
   },
   "outputs": [],
   "source": [
    "#function which adds slices to scans for topup (which neeeds even number of slices)\n",
    "def add_slice(scan):\n",
    "    old_file = abspath(scan)\n",
    "    new_file = abspath(scan[:-7] + '_' + str(num_slices + 1)) + '.nii.gz'\n",
    "    if True:#not os.path.exists(new_file): #only run if target doesnt exist. \n",
    "        fslroi = ExtractROI(in_file=old_file, roi_file=new_file,\n",
    "                            x_min=0,x_size=-1,y_min=0,y_size=-1,\n",
    "                            z_min=0,z_size= (num_slices + 1))\n",
    "        fslroi.run()\n",
    "    return os.getpid()"
   ]
  },
  {
   "cell_type": "code",
   "execution_count": 18,
   "metadata": {
    "collapsed": false
   },
   "outputs": [],
   "source": [
    "##get list of scans to run\n",
    "scans = []\n",
    "for sub in sub_list:\n",
    "    design_dir = os.path.exists('data/' + sub + '/design') #create design files AFTER \n",
    "    \n",
    "#     if not design_dir:\n",
    "#         scans.extend(glob.glob('data/' + sub + '/cal/*')) #calibration scans\n",
    "#         scans.extend(glob.glob('data/' + sub + '/func/*/*.nii.gz')) #functional scans\n",
    "    \n",
    "    scans.extend(glob.glob('data/' + sub + '/func/sim/*.nii.gz')) #functional scans        \n",
    "scans = [s for s in scans if len(s.split('/')[-1].split('_'))==2] #just scans that havent been \n",
    "scans =  ['data/fd_109/func/sim/run_2.nii.gz','data/fd_109/func/sim/run_1.nii.gz']"
   ]
  },
  {
   "cell_type": "code",
   "execution_count": 19,
   "metadata": {
    "collapsed": false
   },
   "outputs": [],
   "source": [
    "#run analysis\n",
    "pool = multiprocessing.Pool(processes = 15)\n",
    "pool.map(add_slice,scans)\n",
    "pool.terminate()\n",
    "pool.join()"
   ]
  },
  {
   "cell_type": "code",
   "execution_count": 26,
   "metadata": {
    "collapsed": false,
    "scrolled": true
   },
   "outputs": [],
   "source": [
    "##take a timepoint of the gradient reversal scans\n",
    "def slice_scans(sub):\n",
    "    identifier = str(num_slices + 1) #file identifier\n",
    "    scans = glob.glob('data/' + sub + '/cal/*' + identifier + '.nii.gz') #padded calibration scans\n",
    "    for scan in scans:\n",
    "        old_file = abspath(scan)\n",
    "        new_file = abspath(scan[:-7] + '_slice.nii.gz')\n",
    "        if not os.path.exists(new_file):\n",
    "            fslroi = ExtractROI(in_file=old_file, roi_file=new_file,\n",
    "                                t_min=1,t_size=1)\n",
    "            fslroi.run()\n",
    "    return"
   ]
  },
  {
   "cell_type": "code",
   "execution_count": 16,
   "metadata": {
    "collapsed": false
   },
   "outputs": [],
   "source": [
    "# pool = multiprocessing.Pool()\n",
    "# pool.map(slice_scans,sub_list)\n",
    "# pool.terminate()\n",
    "# pool.join()"
   ]
  },
  {
   "cell_type": "code",
   "execution_count": 60,
   "metadata": {
    "collapsed": false,
    "scrolled": false
   },
   "outputs": [],
   "source": [
    "##merge the calibration scans\n",
    "def merge_scans(sub):\n",
    "    identifier = 'slice' #file identifier\n",
    "    cal1 = glob.glob('data/' + sub + '/cal/cal1*' + identifier + '*') #padded calibration scans\n",
    "    cal2 = glob.glob('data/' + sub + '/cal/cal2*' + identifier + '*') #padded calibration scans\n",
    "\n",
    "    if sub == 'fd_115': #extra set of scans for this subject (see notes)\n",
    "        num_scans = 5\n",
    "    else:\n",
    "        num_scans = 4\n",
    "    for i in range(1,num_scans+1):\n",
    "        pe1 = [s for s in cal1 if int(s.split('/')[-1].split('_')[1]) == i][0]\n",
    "        pe0 = [s for s in cal2 if int(s.split('/')[-1].split('_')[1]) == i][0]\n",
    "        out = abspath('data/' + sub + '/cal/b0_both_' + str(i) + '.nii.gz')\n",
    "        if not os.path.exists(out):\n",
    "            merger = Merge(in_files=[pe0,pe1], merged_file=out,dimension = 't')\n",
    "            merger.run()    \n",
    "    return"
   ]
  },
  {
   "cell_type": "code",
   "execution_count": 17,
   "metadata": {
    "collapsed": false,
    "scrolled": true
   },
   "outputs": [],
   "source": [
    "# pool = multiprocessing.Pool()\n",
    "# pool.map(merge_scans,sub_list)\n",
    "# pool.terminate()\n",
    "# pool.join()"
   ]
  },
  {
   "cell_type": "code",
   "execution_count": 7,
   "metadata": {
    "collapsed": false,
    "scrolled": false
   },
   "outputs": [],
   "source": [
    "#execute topup\n",
    "def topup_scans(scan):\n",
    "    new_file = abspath(scan[:-7] + '_topup') \n",
    "    unwarped = abspath(scan[:-7] + '_uw') \n",
    "    log = abspath(scan[:-7] + '_log') \n",
    "    field = abspath(scan[:-7] + '_field')\n",
    "    if not os.path.exists(field +'.nii.gz'): #only run if not already run\n",
    "        topup = TOPUP(in_file=scan, encoding_file = acq_params, out_base = new_file,\n",
    "                      out_corrected = unwarped, out_logfile = log,out_field = field)\n",
    "        topup.run()\n",
    "    return\n"
   ]
  },
  {
   "cell_type": "code",
   "execution_count": 9,
   "metadata": {
    "collapsed": false,
    "scrolled": true
   },
   "outputs": [
    {
     "data": {
      "text/plain": [
       "[]"
      ]
     },
     "execution_count": 9,
     "metadata": {},
     "output_type": "execute_result"
    }
   ],
   "source": [
    "#get list of cal scans to apply topup to\n",
    "scans = []\n",
    "for sub in sub_list:\n",
    "    design_dir = os.path.exists('data/' + sub + '/design') #create design files AFTER \n",
    "    if not design_dir:\n",
    "        scans.extend(glob.glob('data/' + sub + '/cal/b0*.nii.gz')) #padded calibration scans\n",
    "scans = [s for s in scans if len(s.split('/')[-1].split('_'))==3] #just take raw images\n",
    "scans"
   ]
  },
  {
   "cell_type": "code",
   "execution_count": 18,
   "metadata": {
    "collapsed": false
   },
   "outputs": [],
   "source": [
    "# #run analysis\n",
    "# pool = multiprocessing.Pool()\n",
    "# pool.map(topup_scans,scans)\n",
    "# pool.terminate()\n",
    "# pool.join()"
   ]
  },
  {
   "cell_type": "code",
   "execution_count": null,
   "metadata": {
    "collapsed": true
   },
   "outputs": [],
   "source": []
  },
  {
   "cell_type": "code",
   "execution_count": 20,
   "metadata": {
    "collapsed": false,
    "scrolled": true
   },
   "outputs": [],
   "source": [
    "##apply topup to functional runs. This has some experiment specific organizing\n",
    "##because I acquire enough data for 4 fieldmaps throughout the experiment\n",
    "def apply_topup(scan_tuple):\n",
    "    #padded functional scans\n",
    "    sub, scan  = scan_tuple\n",
    "    out = scan[:-10] + '_fc.nii.gz' #output file name\n",
    "\n",
    "        \n",
    "    if not os.path.exists(out): #only run if it hasn't been run already\n",
    "        #get exp id (sim, loc, func) and run #\n",
    "        exp = scan.split('/')[3] \n",
    "        run = int(scan.split('/')[4].split('_')[1])\n",
    "\n",
    "        if exp == 'loc': #localizers were run last\n",
    "            cal_scan = 4\n",
    "        elif run == 1:\n",
    "            cal_scan = 1\n",
    "        elif run == 2:\n",
    "            cal_scan = 2\n",
    "        elif run == 3:\n",
    "            cal_scan = 3\n",
    "\n",
    "        #for this subject, run2 cal scans are junk\n",
    "        if sub == 'fd_101' and run == 2 :\n",
    "            cal_scan = 1\n",
    "\n",
    "        #one subject has extra cal scan for 2nd localizer run on a different day\n",
    "        if sub == 'fd_115' and exp == 'loc' and run == 2:\n",
    "            cal_scan = 5\n",
    "\n",
    "        if sub == 'fd_127' and exp == 'sim' and run == 2:\n",
    "            cal_scan = 2 #one is messed up\n",
    "\n",
    "        #get correct field inputs\n",
    "        base_file = abspath('data/' + sub + '/cal/b0_both_' + str(cal_scan))\n",
    "        movpar = base_file + '_topup_movpar.txt'\n",
    "        fieldcoef = base_file + '_topup_fieldcoef.nii.gz'\n",
    "\n",
    "        #run motion correction\n",
    "        motion_target = abspath('data/' + sub + '/cal/b0_both_' + str(cal_scan) + '_motion_target')\n",
    "        cmd = ['fslroi',base_file,motion_target,'0','1']\n",
    "        os.system(' '.join(cmd))\n",
    "        \n",
    "        m_corr = scan[:-10] + '_mc.nii.gz'\n",
    "        cmd = ['mcflirt','-in',scan,'-reffile',motion_target,\n",
    "               '-o',m_corr,'-mats','-plots','-rmsrel','-rmsabs']\n",
    "        os.system(' '.join(cmd))\n",
    "                                \n",
    "        #apply topup\n",
    "        applytopup = ApplyTOPUP(in_files = m_corr, encoding_file = acq_params,\n",
    "                                out_corrected = out, in_index = [1], method = 'jac',\n",
    "                                in_topup_movpar = movpar, in_topup_fieldcoef = fieldcoef)  \n",
    "        applytopup.run()      \n",
    "    return"
   ]
  },
  {
   "cell_type": "code",
   "execution_count": 21,
   "metadata": {
    "collapsed": false,
    "scrolled": true
   },
   "outputs": [],
   "source": [
    "#get list of scans to apply topup to (in a tuple with subject identifier for convenience)\n",
    "scan_tuples = []\n",
    "for sub in sub_list:\n",
    "    design_dir = os.path.exists('data/' + sub + '/design') #create design files AFTER \n",
    "    if True:#not design_dir:\n",
    "        scans = glob.glob('data/' + sub + '/func/*/*' + str(num_slices + 1) + '.nii.gz')\n",
    "        for s in scans:\n",
    "            scan_tuples.append((sub,s))"
   ]
  },
  {
   "cell_type": "code",
   "execution_count": 22,
   "metadata": {
    "collapsed": false
   },
   "outputs": [
    {
     "name": "stderr",
     "output_type": "stream",
     "text": [
      "/usr/lib/python2.7/dist-packages/nipype/interfaces/base.py:397: UserWarning: Input in_topup_movpar requires inputs: in_topup_fieldcoef\n",
      "  warn(msg)\n",
      "/usr/lib/python2.7/dist-packages/nipype/interfaces/base.py:397: UserWarning: Input in_topup_movpar requires inputs: in_topup_fieldcoef\n",
      "  warn(msg)\n"
     ]
    }
   ],
   "source": [
    "pool = multiprocessing.Pool(processes = 6)\n",
    "pool.map(apply_topup,scan_tuples)\n",
    "pool.terminate()\n",
    "pool.join()"
   ]
  },
  {
   "cell_type": "code",
   "execution_count": 13,
   "metadata": {
    "collapsed": false,
    "scrolled": true
   },
   "outputs": [],
   "source": [
    "#Basic double checking based on files size. Mostly will check for processes prememptively\n",
    "#killed due to memory overload\n",
    "for sub in sub_list:\n",
    "    scans = glob.glob('data/' + sub + '/func/*/*fc.nii.gz')\n",
    "    b0 = glob.glob('data/' + sub + '/cal/*field.nii.gz')\n",
    "#     if len(scans) != 8:\n",
    "#         print sub\n",
    "    #check b0 for file size\n",
    "    for b in b0:\n",
    "        file_size = np.round(os.path.getsize(b)/1000.0)\n",
    "        if file_size < 4000: #less than 4 MB\n",
    "            print b\n",
    "    \n",
    "    #check field corrected functionals for file size\n",
    "    for scan in scans:\n",
    "        file_size = np.round(os.path.getsize(scan)/1000000.0)\n",
    "        orig_file = scan[:-10] + '.nii.gz' \n",
    "        orig_size = np.round(os.path.getsize(orig_file)/1000000.0)\n",
    "        if file_size < 400: #scan less than 400 MB\n",
    "            print scan\n",
    "        \n",
    "        if abs(file_size - orig_size) > 100: #big difference between file sizes\n",
    "            print abs(file_size - orig_size)\n",
    "            print scan            "
   ]
  },
  {
   "cell_type": "code",
   "execution_count": 15,
   "metadata": {
    "collapsed": false
   },
   "outputs": [],
   "source": [
    "##Specific to this experiment. Sanity check that ser/sim assignment has been done correctly by\n",
    "##examining number of timepoints\n",
    "for sub in sub_list:\n",
    "    loc = glob.glob('data/' + sub + '/func/loc/*58*')\n",
    "    sim = glob.glob('data/' + sub + '/func/sim/*58*')\n",
    "    ser = glob.glob('data/' + sub + '/func/ser/*58*')\n",
    "    \n",
    "    for scan in loc:\n",
    "        img = nib.load(scan)\n",
    "        time = img.shape[3]*1.5\n",
    "        if time < 300 or time > 400: #should be around 5.5 minutes\n",
    "            print scan\n",
    "            print time\n",
    "    for scan in sim:\n",
    "        img = nib.load(scan)\n",
    "        time = img.shape[3]*1.5\n",
    "        if time < 360 or time > 480: #should be around 7 minutes\n",
    "            print scan\n",
    "            print time\n",
    "    for scan in ser:\n",
    "        img = nib.load(scan)\n",
    "        time = img.shape[3]*1.5\n",
    "        if time < 450 or time > 600: #should be around 8.5 minutes\n",
    "            print scan\n",
    "            print time\n",
    "            \n",
    "#Note to self: First subject had longer scans because I was worried about stopping the scanner early\n"
   ]
  },
  {
   "cell_type": "markdown",
   "metadata": {
    "collapsed": false
   },
   "source": [
    "# alternative strategy using lyman"
   ]
  },
  {
   "cell_type": "code",
   "execution_count": 18,
   "metadata": {
    "collapsed": false
   },
   "outputs": [],
   "source": [
    "##merge the calibration scans\n",
    "def merge_scans(sub):\n",
    "    home_dir = '/home/iballard/fd/'\n",
    "    cal_dir = home_dir + 'data/' + sub + '/cal'\n",
    "    out_dir = cal_dir + 'lyman/'\n",
    "                              \n",
    "    if not os.path.exists(out_dir):\n",
    "        os.mkdir(out_dir)\n",
    "    for i in range(1,4+1):\n",
    "\n",
    "        out_f = out_dir + '/merged_' + str(i)\n",
    "                             \n",
    "        cal1 = cal_dir + 'cal1_' + str(i) + '.nii.gz'\n",
    "        cal2 = cal_dir + 'cal2_' + str(i) + '.nii.gz'\n",
    "        \n",
    "        out_cal1 = cal_dir + 'cal1_' + str(i) + '_slice.nii.gz'\n",
    "        out_cal2 = cal_dir + 'cal2_' + str(i) + '_slice.nii.gz'\n",
    "\n",
    "        cmd = ['fslroi',cal1,out_cal1,'1','1']\n",
    "        os.system(' '.join(cmd))\n",
    "\n",
    "        cmd = ['fslroi',cal2,out_cal2,'1','1']\n",
    "        os.system(' '.join(cmd))      \n",
    "        \n",
    "        cmd = ['fslmerge','-t',out_f,out_cal2,out_cal1]\n",
    "        os.system(' '.join(cmd))\n",
    "    return out_dir"
   ]
  },
  {
   "cell_type": "code",
   "execution_count": null,
   "metadata": {
    "collapsed": false
   },
   "outputs": [],
   "source": [
    "#run analysis\n",
    "pool = multiprocessing.Pool(processes = 15)\n",
    "pool.map(merge_scans,sub_list)\n",
    "pool.terminate()\n",
    "pool.join()"
   ]
  },
  {
   "cell_type": "code",
   "execution_count": 14,
   "metadata": {
    "collapsed": false
   },
   "outputs": [],
   "source": [
    "def create_fm(scan_tuple):\n",
    "    sub, exp, run = scan_tuple\n",
    "\n",
    "    home_dir = '/home/iballard/fd/'\n",
    "    out_dir = home_dir + 'data/' + sub + '/cal/lyman/'\n",
    "    data_f = home_dir + 'data/' + sub + '/func/' + exp + '/run_' + str(run) + '.nii.gz'\n",
    "\n",
    "    if os.path.exists(data_f):\n",
    "        if exp == 'loc': #localizers were run last\n",
    "            cal_scan = 4\n",
    "        elif run == 1:\n",
    "            cal_scan = 1\n",
    "        elif run == 2:\n",
    "            cal_scan = 2\n",
    "        elif run == 3:\n",
    "            cal_scan = 3\n",
    "\n",
    "        #for this subject, run2 cal scans are junk\n",
    "        if sub == 'fd_101' and run == 2 :\n",
    "            cal_scan = 1\n",
    "\n",
    "        #one subject has extra cal scan for 2nd localizer run on a different day\n",
    "        if sub == 'fd_115' and exp == 'loc' and run == 2:\n",
    "            cal_scan = 5\n",
    "\n",
    "        if sub == 'fd_127' and exp == 'sim' and run == 2:\n",
    "            cal_scan = 2 #one is messed up\n",
    "\n",
    "        #get correct field inputs\n",
    "        cal_scan = out_dir + '/merged_' + str(cal_scan)\n",
    "        out_cal = out_dir + '/fm_' + exp + '_' + str(run) + '_mc'\n",
    "        \n",
    "        if not os.path.exists(out_cal):\n",
    "            #run motion correction\n",
    "            out_f = out_dir + '/' + exp + str(run) + '_slice.nii.gz'\n",
    "            idx = (nib.load(data_f).shape[-1] - 8)//2 #middle volume\n",
    "            cmd = ['fslroi',data_f,out_f,str(idx),'1']\n",
    "            os.system(' '.join(cmd))\n",
    "\n",
    "            cmd = ['mcflirt','-in',cal_scan,'-reffile',out_f,'-out',out_cal]\n",
    "            os.system(' '.join(cmd))                          \n",
    "    return out_dir"
   ]
  },
  {
   "cell_type": "code",
   "execution_count": 19,
   "metadata": {
    "collapsed": false
   },
   "outputs": [],
   "source": [
    "in_tuples = []\n",
    "for sub in sub_list:\n",
    "    for exp in ['ser','sim']:\n",
    "        for run in range(1,4):\n",
    "            in_tuples.append((sub,exp,run))\n",
    "    for exp in ['loc']:\n",
    "        for run in range(1,3):\n",
    "            in_tuples.append((sub,exp,run))"
   ]
  },
  {
   "cell_type": "code",
   "execution_count": 16,
   "metadata": {
    "collapsed": false
   },
   "outputs": [
    {
     "name": "stdout",
     "output_type": "stream",
     "text": [
      "importing numpy on engine(s)\n",
      "importing os on engine(s)\n",
      "importing abspath from os.path on engine(s)\n",
      "importing nibabel on engine(s)\n"
     ]
    }
   ],
   "source": [
    "dview.block = True\n",
    "# dview.push(dict(home_dir=home_dir))\n",
    "dview.execute(\"import numpy as np\")\n",
    "dview.execute(\"import nibabel as nib\")\n",
    "with dview.sync_imports():\n",
    "    import numpy\n",
    "    import os\n",
    "    from os.path import abspath\n",
    "    import nibabel as nib\n",
    "out1 = dview.map_sync(create_fm,in_tuples)"
   ]
  },
  {
   "cell_type": "code",
   "execution_count": 3,
   "metadata": {
    "collapsed": false
   },
   "outputs": [],
   "source": [
    "# #run analysis\n",
    "# pool = multiprocessing.Pool(processes = 15)\n",
    "# pool.map(create_fm,in_tuples)\n",
    "# pool.terminate()\n",
    "# pool.join()\n",
    "# out1"
   ]
  },
  {
   "cell_type": "code",
   "execution_count": 29,
   "metadata": {
    "collapsed": false,
    "scrolled": true
   },
   "outputs": [],
   "source": [
    "for scan_tuple in in_tuples:\n",
    "    sub, exp, run = scan_tuple\n",
    "\n",
    "    out_dir = os.path.abspath('data/' + sub + '/cal/lyman/')\n",
    "    out_cal = out_dir + '/fm_' + exp + '_' + str(run) + '_mc.nii.gz'\n",
    "\n",
    "    if os.path.exists(out_cal):\n",
    "\n",
    "        tmp1 =  out_dir + '/' + sub + exp + str(run) + '_tmp1'\n",
    "        tmp2 =  out_dir + '/' + sub + exp + str(run) + '_tmp2'\n",
    "        tmp3 =  out_dir + '/fm_' + exp + '_' + str(run) + '_mc_pe0_pe1.nii.gz'\n",
    "        \n",
    "        cmd = ['fslroi',out_cal,tmp1,'0','1']\n",
    "        os.system(' '.join(cmd))\n",
    "        \n",
    "        cmd = ['fslroi',out_cal,tmp2,'1','1']\n",
    "        os.system(' '.join(cmd))\n",
    "\n",
    "        cmd = ['fslmerge','-t',tmp3,tmp2,tmp1]\n",
    "        os.system(' '.join(cmd))\n",
    "        \n",
    "        os.remove(tmp1 + '.nii.gz')\n",
    "        os.remove(tmp2 + '.nii.gz')\n"
   ]
  },
  {
   "cell_type": "code",
   "execution_count": 30,
   "metadata": {
    "collapsed": false
   },
   "outputs": [
    {
     "name": "stdout",
     "output_type": "stream",
     "text": [
      "('fd_115', 'loc', 2)\n",
      "('fd_127', 'ser', 1)\n",
      "('fd_127', 'sim', 1)\n",
      "('fd_133', 'sim', 2)\n"
     ]
    }
   ],
   "source": [
    "for scan_tuple in in_tuples:\n",
    "    sub, exp, run = scan_tuple\n",
    "\n",
    "    out_dir = os.path.abspath('data/' + sub + '/cal/lyman/')\n",
    "    out_cal = out_dir + '/fm_' + exp + '_' + str(run) + '_mc_pe0_pe1.nii.gz'\n",
    "    \n",
    "    if not os.path.exists(out_cal):\n",
    "        print scan_tuple\n",
    "\n"
   ]
  },
  {
   "cell_type": "code",
   "execution_count": null,
   "metadata": {
    "collapsed": true
   },
   "outputs": [],
   "source": []
  }
 ],
 "metadata": {
  "kernelspec": {
   "display_name": "Python 2",
   "language": "python",
   "name": "python2"
  },
  "language_info": {
   "codemirror_mode": {
    "name": "ipython",
    "version": 2
   },
   "file_extension": ".py",
   "mimetype": "text/x-python",
   "name": "python",
   "nbconvert_exporter": "python",
   "pygments_lexer": "ipython2",
   "version": "2.7.11"
  }
 },
 "nbformat": 4,
 "nbformat_minor": 0
}
