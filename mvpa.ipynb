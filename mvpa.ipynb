{
 "cells": [
  {
   "cell_type": "code",
   "execution_count": 1,
   "metadata": {
    "collapsed": false
   },
   "outputs": [],
   "source": [
    "#os and i/o\n",
    "import os\n",
    "import numpy as np\n",
    "import glob\n",
    "from os.path import abspath\n",
    "import csv\n",
    "import shutil\n",
    "\n",
    "#scientific computing\n",
    "import matplotlib\n",
    "import matplotlib.pyplot as plt\n",
    "import pandas as pd\n",
    "from scipy import stats, optimize\n",
    "from pandas import DataFrame, Series\n",
    "import seaborn as sns\n",
    "import random as rd\n",
    "from statsmodels.formula.api import ols\n",
    "from statsmodels.stats.anova import anova_lm\n",
    "import scipy.stats\n",
    "import math\n",
    "from sklearn.svm import SVC\n",
    "from sklearn.linear_model import LogisticRegression\n",
    "from sklearn.cross_validation import LeaveOneLabelOut, cross_val_score, permutation_test_score\n",
    "#ipython add-ons\n",
    "from IPython.parallel import Client\n",
    "from IPython.display import Image\n",
    "import multiprocessing\n",
    "\n",
    "##nipype\n",
    "import nibabel as nib\n",
    "from nipype.pipeline.engine import Node, MapNode, Workflow\n",
    "from nipype.interfaces.io import DataGrabber, DataFinder, DataSink\n",
    "from nipype.interfaces import fsl\n",
    "from nipype.interfaces.fsl import BET\n",
    "from nipype.interfaces.freesurfer.preprocess import ReconAll\n",
    "from nipype.interfaces.freesurfer.utils import MakeAverageSubject\n",
    "from nipype.interfaces.fsl import ExtractROI\n",
    "from nipype.interfaces.fsl import Merge\n",
    "from nipype.interfaces.fsl import TOPUP\n",
    "from nipype.interfaces.fsl import ApplyTOPUP\n",
    "from nipype.workflows.fmri.fsl import create_susan_smooth\n",
    "\n",
    "from nilearn import input_data\n",
    "\n",
    "%matplotlib inline"
   ]
  },
  {
   "cell_type": "code",
   "execution_count": 2,
   "metadata": {
    "collapsed": false
   },
   "outputs": [],
   "source": [
    "#preliminary housekeeping\n",
    "home_dir = '/data/home/iballard/fd/'\n",
    "subj_file = home_dir + 'subjects_ser.txt'\n",
    "sub_list = list(np.loadtxt(subj_file,'string'))\n",
    "os.chdir(home_dir)\n",
    "sub_list = sub_list[0:3]"
   ]
  },
  {
   "cell_type": "code",
   "execution_count": 3,
   "metadata": {
    "collapsed": true
   },
   "outputs": [],
   "source": [
    "all_rois = [\"lOFC_fill_ser\", \"mOFC_fill_ser\"]"
   ]
  },
  {
   "cell_type": "code",
   "execution_count": 4,
   "metadata": {
    "collapsed": false
   },
   "outputs": [],
   "source": [
    "frames = np.arange(-1, 6) #number of frames to hold onto"
   ]
  },
  {
   "cell_type": "code",
   "execution_count": 5,
   "metadata": {
    "collapsed": false
   },
   "outputs": [
    {
     "ename": "NameError",
     "evalue": "name 'sub' is not defined",
     "output_type": "error",
     "traceback": [
      "\u001b[1;31m---------------------------------------------------------------------------\u001b[0m",
      "\u001b[1;31mNameError\u001b[0m                                 Traceback (most recent call last)",
      "\u001b[1;32m<ipython-input-5-77f7495c053a>\u001b[0m in \u001b[0;36m<module>\u001b[1;34m()\u001b[0m\n\u001b[0;32m      1\u001b[0m \u001b[1;31m##add a column to the timing file coding for the TR in which an event occured\u001b[0m\u001b[1;33m\u001b[0m\u001b[1;33m\u001b[0m\u001b[0m\n\u001b[1;32m----> 2\u001b[1;33m \u001b[0mevent_file\u001b[0m \u001b[1;33m=\u001b[0m \u001b[0mhome_dir\u001b[0m \u001b[1;33m+\u001b[0m \u001b[1;34m'data/'\u001b[0m \u001b[1;33m+\u001b[0m \u001b[0msub\u001b[0m \u001b[1;33m+\u001b[0m \u001b[1;34m'/design/ser_state.csv'\u001b[0m\u001b[1;33m\u001b[0m\u001b[0m\n\u001b[0m\u001b[0;32m      3\u001b[0m \u001b[0mtiming\u001b[0m \u001b[1;33m=\u001b[0m \u001b[0mpd\u001b[0m\u001b[1;33m.\u001b[0m\u001b[0mread_csv\u001b[0m\u001b[1;33m(\u001b[0m\u001b[0mevent_file\u001b[0m\u001b[1;33m)\u001b[0m\u001b[1;33m\u001b[0m\u001b[0m\n\u001b[0;32m      4\u001b[0m \u001b[0mtiming\u001b[0m \u001b[1;33m=\u001b[0m  \u001b[0mtiming\u001b[0m\u001b[1;33m.\u001b[0m\u001b[0msort\u001b[0m\u001b[1;33m(\u001b[0m\u001b[1;33m[\u001b[0m\u001b[1;34m'run'\u001b[0m\u001b[1;33m,\u001b[0m\u001b[1;34m'onset'\u001b[0m\u001b[1;33m]\u001b[0m\u001b[1;33m)\u001b[0m\u001b[1;33m\u001b[0m\u001b[0m\n\u001b[0;32m      5\u001b[0m \u001b[0mtr\u001b[0m \u001b[1;33m=\u001b[0m \u001b[1;36m1.5\u001b[0m\u001b[1;33m\u001b[0m\u001b[0m\n",
      "\u001b[1;31mNameError\u001b[0m: name 'sub' is not defined"
     ]
    }
   ],
   "source": [
    "##add a column to the timing file coding for the TR in which an event occured\n",
    "event_file = home_dir + 'data/' + sub + '/design/ser_state.csv'\n",
    "timing = pd.read_csv(event_file)\n",
    "timing =  timing.sort(['run','onset'])\n",
    "tr = 1.5\n",
    "for run in range(1,4):\n",
    "    event_time = timing.loc[timing['run']==run,'onset'].values\n",
    "    tr_index = map(lambda x: int(math.floor(x/tr)),event_time)\n",
    "    timing.loc[timing['run']==run,'tr_index'] = tr_index"
   ]
  },
  {
   "cell_type": "code",
   "execution_count": 165,
   "metadata": {
    "collapsed": true
   },
   "outputs": [],
   "source": [
    "def load_data(sub,roi):\n",
    "    all_data = {}\n",
    "    for run in range(1,4):\n",
    "        #data files\n",
    "        mask_f = home_dir + 'data/' + sub + '/masks/' + roi + '.nii.gz'\n",
    "        func_f = home_dir + 'analysis/ser_8mm-PE/' + sub + '/preproc/run_' + str(run) + '/unsmoothed_timeseries.nii.gz'\n",
    "\n",
    "        #load data and detrend\n",
    "        nifti_masker = input_data.NiftiMasker(mask_img = mask_f, standardize = True)\n",
    "        fmri_masked = nifti_masker.fit_transform(func_f)\n",
    "        \n",
    "        all_data['run'+str(run)] = fmri_masked\n",
    "    return all_data"
   ]
  },
  {
   "cell_type": "code",
   "execution_count": 166,
   "metadata": {
    "collapsed": false
   },
   "outputs": [],
   "source": [
    "##build concatenated X file for fitting\n",
    "def build_data_file(all_data,frame):\n",
    "    X = []\n",
    "    for run in range(1,4):\n",
    "        #get indices of events of interest and mask data\n",
    "        event_indices = np.array([False]*all_data['run'+str(run)].shape[0])\n",
    "        indices = np.array(timing[timing['run']==run]['tr_index'].values,dtype=int) + frame\n",
    "        event_indices[indices] = True\n",
    "        fmri_masked = all_data['run'+str(run)][event_indices,:]\n",
    "\n",
    "        X.extend(fmri_masked)\n",
    "\n",
    "    X = np.array(X) #convert to numpy array\n",
    "    return X"
   ]
  },
  {
   "cell_type": "code",
   "execution_count": 182,
   "metadata": {
    "collapsed": false
   },
   "outputs": [],
   "source": [
    "def run_decoding(in_tuple):\n",
    "    \n",
    "    sub, roi, exp = in_tuple\n",
    "    \n",
    "    all_data = load_data(sub,roi)\n",
    "    \n",
    "    scores = []\n",
    "    for frame in frames:\n",
    "        X = build_data_file(all_data,frame)\n",
    "\n",
    "        #set up classifier\n",
    "        classifier = LogisticRegression(penalty = 'l2', C=1.)\n",
    "        cv = LeaveOneLabelOut(timing['run'].values-1)\n",
    "\n",
    "        #convert labels to TF\n",
    "        cond_map = {'serial':True,'single':False}\n",
    "        target = map(lambda x: cond_map[x], timing['condition'].values)\n",
    "\n",
    "        res = cross_val_score(classifier, X, target, cv=cv, scoring = 'accuracy')\n",
    "\n",
    "        scores.append(np.mean(res))\n",
    "    "
   ]
  },
  {
   "cell_type": "code",
   "execution_count": 8,
   "metadata": {
    "collapsed": false
   },
   "outputs": [],
   "source": [
    "in_tuple = []\n",
    "for sub in sub_list:\n",
    "    for exp in exp_list:\n",
    "        for roi in all_rois:\n",
    "            in_tuple.append((sub,roi,exp))"
   ]
  },
  {
   "cell_type": "code",
   "execution_count": null,
   "metadata": {
    "collapsed": false
   },
   "outputs": [],
   "source": [
    "pool = multiprocessing.Pool(processes = 8)\n",
    "pool.map(crop_sim_ser,in_tuple)\n",
    "pool.terminate()\n",
    "pool.join()"
   ]
  },
  {
   "cell_type": "code",
   "execution_count": null,
   "metadata": {
    "collapsed": false
   },
   "outputs": [],
   "source": []
  },
  {
   "cell_type": "code",
   "execution_count": null,
   "metadata": {
    "collapsed": true
   },
   "outputs": [],
   "source": []
  }
 ],
 "metadata": {
  "kernelspec": {
   "display_name": "Python 2",
   "language": "python",
   "name": "python2"
  },
  "language_info": {
   "codemirror_mode": {
    "name": "ipython",
    "version": 2
   },
   "file_extension": ".py",
   "mimetype": "text/x-python",
   "name": "python",
   "nbconvert_exporter": "python",
   "pygments_lexer": "ipython2",
   "version": "2.7.6"
  }
 },
 "nbformat": 4,
 "nbformat_minor": 0
}
