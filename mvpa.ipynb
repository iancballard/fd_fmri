{
 "cells": [
  {
   "cell_type": "code",
   "execution_count": 1,
   "metadata": {
    "collapsed": false
   },
   "outputs": [],
   "source": [
    "#os and i/o\n",
    "import os\n",
    "import numpy as np\n",
    "import glob\n",
    "from os.path import abspath\n",
    "import csv\n",
    "import shutil\n",
    "import gc\n",
    "\n",
    "#scientific computing\n",
    "import matplotlib\n",
    "import matplotlib.pyplot as plt\n",
    "import pandas as pd\n",
    "from scipy import stats, optimize\n",
    "from pandas import DataFrame, Series\n",
    "import seaborn as sns\n",
    "import random as rd\n",
    "from statsmodels.formula.api import ols\n",
    "from statsmodels.stats.anova import anova_lm\n",
    "import scipy.stats\n",
    "import math\n",
    "from sklearn.svm import SVC\n",
    "from sklearn.linear_model import LogisticRegression\n",
    "from sklearn.cross_validation import LeaveOneLabelOut, cross_val_score, permutation_test_score\n",
    "\n",
    "#ipython add-ons\n",
    "from IPython.parallel import Client\n",
    "from IPython.display import Image\n",
    "import multiprocessing\n",
    "\n",
    "##nipype\n",
    "import nibabel as nib\n",
    "from nipype.pipeline.engine import Node, MapNode, Workflow\n",
    "from nipype.interfaces.io import DataGrabber, DataFinder, DataSink\n",
    "from nipype.interfaces import fsl\n",
    "from nipype.interfaces.fsl import BET\n",
    "from nipype.interfaces.freesurfer.preprocess import ReconAll\n",
    "from nipype.interfaces.freesurfer.utils import MakeAverageSubject\n",
    "from nipype.interfaces.fsl import ExtractROI\n",
    "from nipype.interfaces.fsl import Merge\n",
    "from nipype.interfaces.fsl import TOPUP\n",
    "from nipype.interfaces.fsl import ApplyTOPUP\n",
    "from nipype.workflows.fmri.fsl import create_susan_smooth\n",
    "\n",
    "from nilearn import input_data\n",
    "\n",
    "%matplotlib inline"
   ]
  },
  {
   "cell_type": "code",
   "execution_count": 2,
   "metadata": {
    "collapsed": false
   },
   "outputs": [],
   "source": [
    "#preliminary housekeeping\n",
    "home_dir = '/data/home/iballard/fd/'\n",
    "subj_file = home_dir + 'subjects_ser.txt'\n",
    "sub_list = list(np.loadtxt(subj_file,'string'))\n",
    "os.chdir(home_dir)\n",
    "exp_list = ['ser','sim']"
   ]
  },
  {
   "cell_type": "code",
   "execution_count": 3,
   "metadata": {
    "collapsed": true
   },
   "outputs": [],
   "source": [
    "all_rois = {'ser':[\"lOFC_fill_ser\", \"mOFC_fill_ser\"],'sim':[\"lOFC_fill_sim\", \"mOFC_fill_sim\"]}"
   ]
  },
  {
   "cell_type": "code",
   "execution_count": 4,
   "metadata": {
    "collapsed": false
   },
   "outputs": [],
   "source": [
    "frames = np.arange(-1, 6) #number of frames to hold onto"
   ]
  },
  {
   "cell_type": "code",
   "execution_count": 5,
   "metadata": {
    "collapsed": false
   },
   "outputs": [],
   "source": [
    "##add a column to the timing file coding for the TR in which an event occured\n",
    "def get_event_times(sub,exp):\n",
    "    event_file = home_dir + 'data/' + sub + '/design/' + exp + '_state.csv'\n",
    "    timing = pd.read_csv(event_file)\n",
    "    timing =  timing.sort(['run','onset'])\n",
    "    tr = 1.5\n",
    "    for run in range(1,4):\n",
    "        event_time = timing.loc[timing['run']==run,'onset'].values\n",
    "        tr_index = map(lambda x: int(math.floor(x/tr)),event_time)\n",
    "        timing.loc[timing['run']==run,'tr_index'] = tr_index\n",
    "    \n",
    "    return timing"
   ]
  },
  {
   "cell_type": "code",
   "execution_count": 15,
   "metadata": {
    "collapsed": false
   },
   "outputs": [],
   "source": [
    "def load_data(sub,exp, roi):\n",
    "    all_data = {}\n",
    "    for run in range(1,4):\n",
    "        #data files\n",
    "        mask_f = home_dir + 'data/' + sub + '/masks/' + roi + '.nii.gz'\n",
    "        func_f = home_dir + 'analysis/' + exp + '_8mm/' + sub + '/preproc/run_' + str(run) + '/unsmoothed_timeseries.nii.gz'\n",
    "#         func_f = home_dir + 'analysis/' + exp + '_8mm/' + sub + '/reg/epi/unsmoothed/run_' + str(run) + '/timeseries_xfm.nii.gz'\n",
    "\n",
    "        if os.path.exists(func_f):\n",
    "            #load data and detrend\n",
    "            nifti_masker = input_data.NiftiMasker(mask_img = mask_f, standardize = True)\n",
    "            fmri_masked = nifti_masker.fit_transform(func_f)\n",
    "        \n",
    "            all_data['run'+str(run)] = fmri_masked\n",
    "    \n",
    "    return all_data"
   ]
  },
  {
   "cell_type": "code",
   "execution_count": 7,
   "metadata": {
    "collapsed": false
   },
   "outputs": [],
   "source": [
    "##build concatenated X file for fitting\n",
    "def build_data_file(in_tuple,all_data,timing,frame):\n",
    "    X = []\n",
    "    for run in range(1,4):\n",
    "        run_idx = 'run'+str(run)\n",
    "        if run_idx in all_data.keys():\n",
    "            #get indices of events of interest and mask data\n",
    "            event_indices = np.array([False]*all_data['run'+str(run)].shape[0])\n",
    "            indices = np.array(timing[timing['run']==run]['tr_index'].values,dtype=int) + frame\n",
    "            \n",
    "             #deal with situation when scan is too short\n",
    "            scan_dur = len(event_indices)\n",
    "            if scan_dur <= indices[-1]:\n",
    "                \n",
    "                print str(in_tuple) + ' ' + str(run)\n",
    "                \n",
    "                #crop indices vector and take scans\n",
    "                cropped_indices = [x for x in indices if x<scan_dur]                \n",
    "                event_indices[cropped_indices] = True\n",
    "\n",
    "                #Drop unused entries from the timing dataframe\n",
    "                while len(cropped_indices) < len(indices):\n",
    "                    cropped_indices.append(np.NaN)\n",
    "                timing.loc[timing['run']==run,'tr_index'] = cropped_indices\n",
    "                timing = timing.dropna()\n",
    "                \n",
    "            else:            \n",
    "                event_indices[indices] = True\n",
    "        \n",
    "            fmri_masked = all_data[run_idx][event_indices,:]\n",
    "            X.extend(fmri_masked)\n",
    "\n",
    "    X = np.array(X) #convert to numpy array\n",
    "    return X, timing"
   ]
  },
  {
   "cell_type": "code",
   "execution_count": 8,
   "metadata": {
    "collapsed": false
   },
   "outputs": [],
   "source": [
    "def run_decoding(in_tuple):\n",
    "    \n",
    "    sub, roi, exp = in_tuple\n",
    "    \n",
    "    all_data = load_data(sub,exp,roi)\n",
    "    timing = get_event_times(sub,exp)\n",
    "    \n",
    "    scores = []\n",
    "    for frame in frames:\n",
    "        X,timing = build_data_file(in_tuple, all_data,timing,frame)\n",
    "\n",
    "        #set up classifier\n",
    "        classifier = LogisticRegression(penalty = 'l2', C=1.)\n",
    "#         classifier = SVC(kernel = 'linear', C=1)\n",
    "        cv = LeaveOneLabelOut(timing['run'].values-1)\n",
    "\n",
    "        #convert labels to TF.\n",
    "        cond_map = {'state':True,'not':False}            \n",
    "        target = map(lambda x: cond_map[x], timing['condition'].values)\n",
    "\n",
    "        res = cross_val_score(classifier, X, target, cv=cv, scoring = 'accuracy')\n",
    "        scores.append(np.mean(res))\n",
    "        \n",
    "    return (scores,sub,roi,exp)"
   ]
  },
  {
   "cell_type": "code",
   "execution_count": 9,
   "metadata": {
    "collapsed": false
   },
   "outputs": [],
   "source": [
    "#check file sizes to make sure that the timing indices aren't longer than the run\n",
    "def check_size(in_tuple):\n",
    "    \n",
    "    max_frames = 5\n",
    "    sub,roi, exp = in_tuple\n",
    "    \n",
    "    timing = get_event_times(sub,exp)\n",
    "\n",
    "    for run in range(1,4):\n",
    "        \n",
    "        func_f = home_dir + 'analysis/' + exp + '_8mm/' + sub + '/reg/epi/unsmoothed/run_' + str(run) + '/timeseries_xfm.nii.gz'\n",
    "        \n",
    "        if os.path.exists(func_f):\n",
    "            scan_dur = nib.load(func_f).shape[-1]\n",
    "\n",
    "            indices = np.array(timing[timing['run']==run]['tr_index'].values,dtype=int)\n",
    "            \n",
    "            if (indices[-1] + max_frames) > scan_dur:\n",
    "                print in_tuple\n",
    "                print run        \n",
    "        else:\n",
    "            print func_f"
   ]
  },
  {
   "cell_type": "code",
   "execution_count": 10,
   "metadata": {
    "collapsed": false
   },
   "outputs": [],
   "source": [
    "in_tuples = []\n",
    "for sub in sub_list:\n",
    "    for exp in exp_list:\n",
    "        rois = all_rois[exp]\n",
    "        for roi in rois:\n",
    "            in_tuples.append((sub,roi,exp))"
   ]
  },
  {
   "cell_type": "code",
   "execution_count": 16,
   "metadata": {
    "collapsed": false,
    "scrolled": true
   },
   "outputs": [
    {
     "name": "stdout",
     "output_type": "stream",
     "text": [
      "('fd_109', 'lOFC_fill_sim', 'sim') 2\n",
      "('fd_109', 'lOFC_fill_sim', 'sim') 2\n",
      "('fd_109', 'mOFC_fill_sim', 'sim') 2\n",
      "('fd_109', 'mOFC_fill_sim', 'sim') 2\n"
     ]
    }
   ],
   "source": [
    "pool = multiprocessing.Pool(processes = 16)\n",
    "ouput = pool.map(run_decoding,in_tuples)\n",
    "pool.terminate()\n",
    "pool.join()"
   ]
  },
  {
   "cell_type": "code",
   "execution_count": 17,
   "metadata": {
    "collapsed": false
   },
   "outputs": [],
   "source": [
    "#organize output into dataframe\n",
    "accuracy_df = {'sub':[],'exp':[],'roi':[],'tr':[],'accuracy':[]}\n",
    "for o in ouput:\n",
    "    scores, sub, roi, exp = o\n",
    "    roi = roi[:-9]\n",
    "    \n",
    "    accuracy_df['sub'].extend(len(frames)*[sub])\n",
    "    accuracy_df['exp'].extend(len(frames)*[exp])\n",
    "    accuracy_df['roi'].extend(len(frames)*[roi])\n",
    "    accuracy_df['tr'].extend(frames*1.5)\n",
    "    accuracy_df['accuracy'].extend(scores)\n",
    "    \n",
    "accuracy_df = pd.DataFrame(accuracy_df)"
   ]
  },
  {
   "cell_type": "code",
   "execution_count": 184,
   "metadata": {
    "collapsed": false
   },
   "outputs": [],
   "source": [
    "# accuracy_df.groupby(['exp','roi','tr']).mean()"
   ]
  },
  {
   "cell_type": "code",
   "execution_count": 19,
   "metadata": {
    "collapsed": false
   },
   "outputs": [
    {
     "data": {
      "text/plain": [
       "<matplotlib.axes._subplots.AxesSubplot at 0x7ff7cffa5a10>"
      ]
     },
     "execution_count": 19,
     "metadata": {},
     "output_type": "execute_result"
    },
    {
     "data": {
      "image/png": "[encoded data removed]",
      "text/plain": [
       "<matplotlib.figure.Figure at 0x7ff7cffaf890>"
      ]
     },
     "metadata": {},
     "output_type": "display_data"
    }
   ],
   "source": [
    "sns.tsplot(accuracy_df[accuracy_df['exp']=='ser'],unit='sub',time='tr',value='accuracy',condition='roi')"
   ]
  },
  {
   "cell_type": "code",
   "execution_count": 178,
   "metadata": {
    "collapsed": false
   },
   "outputs": [],
   "source": [
    "accuracy_df.to_csv('/home/iballard/fd/logistic.csv')"
   ]
  },
  {
   "cell_type": "code",
   "execution_count": null,
   "metadata": {
    "collapsed": false
   },
   "outputs": [],
   "source": []
  },
  {
   "cell_type": "code",
   "execution_count": 178,
   "metadata": {
    "collapsed": false
   },
   "outputs": [],
   "source": [
    "subj_file = home_dir + 'new_subs_temp.txt'\n",
    "sub_list = list(np.loadtxt(subj_file,'string'))\n",
    "for sub in sub_list:\n",
    "    for exp in ['sim','ser']:\n",
    "        for run in range(1,4):\n",
    "            file_path = '/home/iballard/fd/analysis/' + exp + '_8mm/' + sub + '/reg/epi/unsmoothed/run_' \\\n",
    "            + str(run) + '/timeseries_xfm.nii.gz'\n",
    "            os.remove(file_path)"
   ]
  },
  {
   "cell_type": "code",
   "execution_count": null,
   "metadata": {
    "collapsed": true
   },
   "outputs": [],
   "source": []
  }
 ],
 "metadata": {
  "kernelspec": {
   "display_name": "Python 2",
   "language": "python",
   "name": "python2"
  },
  "language_info": {
   "codemirror_mode": {
    "name": "ipython",
    "version": 2
   },
   "file_extension": ".py",
   "mimetype": "text/x-python",
   "name": "python",
   "nbconvert_exporter": "python",
   "pygments_lexer": "ipython2",
   "version": "2.7.6"
  }
 },
 "nbformat": 4,
 "nbformat_minor": 0
}
