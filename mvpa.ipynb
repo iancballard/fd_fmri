{
 "cells": [
  {
   "cell_type": "code",
   "execution_count": 1,
   "metadata": {
    "collapsed": false
   },
   "outputs": [],
   "source": [
    "#os and i/o\n",
    "import os\n",
    "import numpy as np\n",
    "import glob\n",
    "from os.path import abspath\n",
    "import csv\n",
    "import shutil\n",
    "\n",
    "#scientific computing\n",
    "import matplotlib\n",
    "import matplotlib.pyplot as plt\n",
    "import pandas as pd\n",
    "from scipy import stats, optimize\n",
    "from pandas import DataFrame, Series\n",
    "import seaborn as sns\n",
    "import random as rd\n",
    "from statsmodels.formula.api import ols\n",
    "from statsmodels.stats.anova import anova_lm\n",
    "import scipy.stats\n",
    "import math\n",
    "from sklearn.svm import SVC\n",
    "from sklearn.linear_model import LogisticRegression\n",
    "from sklearn.cross_validation import LeaveOneLabelOut, cross_val_score, permutation_test_score\n",
    "#ipython add-ons\n",
    "from IPython.parallel import Client\n",
    "from IPython.display import Image\n",
    "import multiprocessing\n",
    "\n",
    "##nipype\n",
    "import nibabel as nib\n",
    "from nipype.pipeline.engine import Node, MapNode, Workflow\n",
    "from nipype.interfaces.io import DataGrabber, DataFinder, DataSink\n",
    "from nipype.interfaces import fsl\n",
    "from nipype.interfaces.fsl import BET\n",
    "from nipype.interfaces.freesurfer.preprocess import ReconAll\n",
    "from nipype.interfaces.freesurfer.utils import MakeAverageSubject\n",
    "from nipype.interfaces.fsl import ExtractROI\n",
    "from nipype.interfaces.fsl import Merge\n",
    "from nipype.interfaces.fsl import TOPUP\n",
    "from nipype.interfaces.fsl import ApplyTOPUP\n",
    "from nipype.workflows.fmri.fsl import create_susan_smooth\n",
    "\n",
    "from nilearn import input_data\n",
    "\n",
    "%matplotlib inline"
   ]
  },
  {
   "cell_type": "code",
   "execution_count": 95,
   "metadata": {
    "collapsed": false
   },
   "outputs": [],
   "source": [
    "#preliminary housekeeping\n",
    "home_dir = '/data/home/iballard/fd/'\n",
    "subj_file = home_dir + 'subjects_ser.txt'\n",
    "sub_list = list(np.loadtxt(subj_file,'string'))\n",
    "os.chdir(home_dir)\n",
    "sub_list = sub_list\n",
    "exp_list = ['ser','sim']"
   ]
  },
  {
   "cell_type": "code",
   "execution_count": 96,
   "metadata": {
    "collapsed": true
   },
   "outputs": [],
   "source": [
    "all_rois = {'ser':[\"lOFC_fill_ser\", \"mOFC_fill_ser\"],'sim':[\"lOFC_fill_sim\", \"mOFC_fill_sim\"]}"
   ]
  },
  {
   "cell_type": "code",
   "execution_count": 97,
   "metadata": {
    "collapsed": false
   },
   "outputs": [],
   "source": [
    "frames = np.arange(-1, 6) #number of frames to hold onto"
   ]
  },
  {
   "cell_type": "code",
   "execution_count": 98,
   "metadata": {
    "collapsed": false
   },
   "outputs": [],
   "source": [
    "##add a column to the timing file coding for the TR in which an event occured\n",
    "def get_event_times(sub,exp):\n",
    "    event_file = home_dir + 'data/' + sub + '/design/' + exp + '_state.csv'\n",
    "    timing = pd.read_csv(event_file)\n",
    "    timing =  timing.sort(['run','onset'])\n",
    "    tr = 1.5\n",
    "    for run in range(1,4):\n",
    "        event_time = timing.loc[timing['run']==run,'onset'].values\n",
    "        tr_index = map(lambda x: int(math.floor(x/tr)),event_time)\n",
    "        timing.loc[timing['run']==run,'tr_index'] = tr_index\n",
    "    \n",
    "    return timing"
   ]
  },
  {
   "cell_type": "code",
   "execution_count": 99,
   "metadata": {
    "collapsed": true
   },
   "outputs": [],
   "source": [
    "def load_data(sub,exp, roi):\n",
    "    all_data = {}\n",
    "    for run in range(1,4):\n",
    "        #data files\n",
    "        mask_f = home_dir + 'data/' + sub + '/masks/' + roi + '.nii.gz'\n",
    "        func_f = home_dir + 'analysis/' + exp + '_8mm/' + sub + '/preproc/run_' + str(run) + '/unsmoothed_timeseries.nii.gz'\n",
    "\n",
    "        #load data and detrend\n",
    "        nifti_masker = input_data.NiftiMasker(mask_img = mask_f, standardize = True)\n",
    "        fmri_masked = nifti_masker.fit_transform(func_f)\n",
    "        \n",
    "        all_data['run'+str(run)] = fmri_masked\n",
    "    return all_data"
   ]
  },
  {
   "cell_type": "code",
   "execution_count": 100,
   "metadata": {
    "collapsed": false
   },
   "outputs": [],
   "source": [
    "##build concatenated X file for fitting\n",
    "def build_data_file(all_data,timing,frame):\n",
    "    X = []\n",
    "    for run in range(1,4):\n",
    "        #get indices of events of interest and mask data\n",
    "        event_indices = np.array([False]*all_data['run'+str(run)].shape[0])\n",
    "        indices = np.array(timing[timing['run']==run]['tr_index'].values,dtype=int) + frame\n",
    "        event_indices[indices] = True\n",
    "                \n",
    "        fmri_masked = all_data['run'+str(run)][event_indices,:]\n",
    "\n",
    "        X.extend(fmri_masked)\n",
    "\n",
    "    X = np.array(X) #convert to numpy array\n",
    "    return X"
   ]
  },
  {
   "cell_type": "code",
   "execution_count": 101,
   "metadata": {
    "collapsed": false
   },
   "outputs": [],
   "source": [
    "def run_decoding(in_tuple):\n",
    "    \n",
    "    sub, roi, exp = in_tuple\n",
    "    \n",
    "    all_data = load_data(sub,exp,roi)\n",
    "    timing = get_event_times(sub,exp)\n",
    "    \n",
    "    scores = []\n",
    "    for frame in frames:\n",
    "        X = build_data_file(all_data,timing,frame)\n",
    "\n",
    "        #set up classifier\n",
    "        classifier = LogisticRegression(penalty = 'l2', C=1.)\n",
    "        cv = LeaveOneLabelOut(timing['run'].values-1)\n",
    "\n",
    "        #convert labels to TF. VERY sloppy. Fix soon.\n",
    "        if exp == 'ser':\n",
    "            cond_map = {'serial':True,'single':False}\n",
    "        elif exp == 'sim':\n",
    "            cond_map = {'pair':True, 'single':False}\n",
    "            \n",
    "        target = map(lambda x: cond_map[x], timing['condition'].values)\n",
    "\n",
    "        res = cross_val_score(classifier, X, target, cv=cv, scoring = 'accuracy')\n",
    "        scores.append(np.mean(res))\n",
    "        \n",
    "    return (scores,sub,roi,exp)"
   ]
  },
  {
   "cell_type": "code",
   "execution_count": 102,
   "metadata": {
    "collapsed": false
   },
   "outputs": [],
   "source": [
    "in_tuple = []\n",
    "for sub in sub_list:\n",
    "    for exp in exp_list:\n",
    "        rois = all_rois[exp]\n",
    "        for roi in rois:\n",
    "            in_tuple.append((sub,roi,exp))"
   ]
  },
  {
   "cell_type": "code",
   "execution_count": null,
   "metadata": {
    "collapsed": false
   },
   "outputs": [],
   "source": [
    "pool = multiprocessing.Pool(processes = 4)\n",
    "ouput = pool.map(run_decoding,in_tuple)\n",
    "pool.terminate()\n",
    "pool.join()"
   ]
  },
  {
   "cell_type": "code",
   "execution_count": null,
   "metadata": {
    "collapsed": false
   },
   "outputs": [],
   "source": [
    "#organize output into dataframe\n",
    "accuracy_df = {'sub':[],'exp':[],'roi':[],'tr':[],'accuracy':[]}\n",
    "for o in ouput:\n",
    "    scores, sub, roi, exp = o\n",
    "    roi = roi[:-9]\n",
    "    \n",
    "    accuracy_df['sub'].extend(len(frames)*[sub])\n",
    "    accuracy_df['exp'].extend(len(frames)*[exp])\n",
    "    accuracy_df['roi'].extend(len(frames)*[roi])\n",
    "    accuracy_df['tr'].extend(frames)\n",
    "    accuracy_df['accuracy'].extend(scores)\n",
    "    \n",
    "accuracy_df = pd.DataFrame(accuracy_df)"
   ]
  },
  {
   "cell_type": "code",
   "execution_count": 94,
   "metadata": {
    "collapsed": false
   },
   "outputs": [
    {
     "data": {
      "text/html": [
       "<div style=\"max-height:1000px;max-width:1500px;overflow:auto;\">\n",
       "<table border=\"1\" class=\"dataframe\">\n",
       "  <thead>\n",
       "    <tr style=\"text-align: right;\">\n",
       "      <th></th>\n",
       "      <th></th>\n",
       "      <th></th>\n",
       "      <th>accuracy</th>\n",
       "    </tr>\n",
       "    <tr>\n",
       "      <th>exp</th>\n",
       "      <th>roi</th>\n",
       "      <th>tr</th>\n",
       "      <th></th>\n",
       "    </tr>\n",
       "  </thead>\n",
       "  <tbody>\n",
       "    <tr>\n",
       "      <th rowspan=\"14\" valign=\"top\">ser</th>\n",
       "      <th rowspan=\"7\" valign=\"top\">lOFC</th>\n",
       "      <th>-1</th>\n",
       "      <td>0.420833</td>\n",
       "    </tr>\n",
       "    <tr>\n",
       "      <th>0</th>\n",
       "      <td>0.491667</td>\n",
       "    </tr>\n",
       "    <tr>\n",
       "      <th>1</th>\n",
       "      <td>0.445833</td>\n",
       "    </tr>\n",
       "    <tr>\n",
       "      <th>2</th>\n",
       "      <td>0.554167</td>\n",
       "    </tr>\n",
       "    <tr>\n",
       "      <th>3</th>\n",
       "      <td>0.512500</td>\n",
       "    </tr>\n",
       "    <tr>\n",
       "      <th>4</th>\n",
       "      <td>0.575000</td>\n",
       "    </tr>\n",
       "    <tr>\n",
       "      <th>5</th>\n",
       "      <td>0.466667</td>\n",
       "    </tr>\n",
       "    <tr>\n",
       "      <th rowspan=\"7\" valign=\"top\">mOFC</th>\n",
       "      <th>-1</th>\n",
       "      <td>0.516667</td>\n",
       "    </tr>\n",
       "    <tr>\n",
       "      <th>0</th>\n",
       "      <td>0.516667</td>\n",
       "    </tr>\n",
       "    <tr>\n",
       "      <th>1</th>\n",
       "      <td>0.491667</td>\n",
       "    </tr>\n",
       "    <tr>\n",
       "      <th>2</th>\n",
       "      <td>0.554167</td>\n",
       "    </tr>\n",
       "    <tr>\n",
       "      <th>3</th>\n",
       "      <td>0.541667</td>\n",
       "    </tr>\n",
       "    <tr>\n",
       "      <th>4</th>\n",
       "      <td>0.466667</td>\n",
       "    </tr>\n",
       "    <tr>\n",
       "      <th>5</th>\n",
       "      <td>0.537500</td>\n",
       "    </tr>\n",
       "    <tr>\n",
       "      <th rowspan=\"14\" valign=\"top\">sim</th>\n",
       "      <th rowspan=\"7\" valign=\"top\">lOFC</th>\n",
       "      <th>-1</th>\n",
       "      <td>0.558333</td>\n",
       "    </tr>\n",
       "    <tr>\n",
       "      <th>0</th>\n",
       "      <td>0.512500</td>\n",
       "    </tr>\n",
       "    <tr>\n",
       "      <th>1</th>\n",
       "      <td>0.391667</td>\n",
       "    </tr>\n",
       "    <tr>\n",
       "      <th>2</th>\n",
       "      <td>0.545833</td>\n",
       "    </tr>\n",
       "    <tr>\n",
       "      <th>3</th>\n",
       "      <td>0.516667</td>\n",
       "    </tr>\n",
       "    <tr>\n",
       "      <th>4</th>\n",
       "      <td>0.529167</td>\n",
       "    </tr>\n",
       "    <tr>\n",
       "      <th>5</th>\n",
       "      <td>0.554167</td>\n",
       "    </tr>\n",
       "    <tr>\n",
       "      <th rowspan=\"7\" valign=\"top\">mOFC</th>\n",
       "      <th>-1</th>\n",
       "      <td>0.470833</td>\n",
       "    </tr>\n",
       "    <tr>\n",
       "      <th>0</th>\n",
       "      <td>0.445833</td>\n",
       "    </tr>\n",
       "    <tr>\n",
       "      <th>1</th>\n",
       "      <td>0.533333</td>\n",
       "    </tr>\n",
       "    <tr>\n",
       "      <th>2</th>\n",
       "      <td>0.516667</td>\n",
       "    </tr>\n",
       "    <tr>\n",
       "      <th>3</th>\n",
       "      <td>0.491667</td>\n",
       "    </tr>\n",
       "    <tr>\n",
       "      <th>4</th>\n",
       "      <td>0.525000</td>\n",
       "    </tr>\n",
       "    <tr>\n",
       "      <th>5</th>\n",
       "      <td>0.512500</td>\n",
       "    </tr>\n",
       "  </tbody>\n",
       "</table>\n",
       "</div>"
      ],
      "text/plain": [
       "             accuracy\n",
       "exp roi  tr          \n",
       "ser lOFC -1  0.420833\n",
       "          0  0.491667\n",
       "          1  0.445833\n",
       "          2  0.554167\n",
       "          3  0.512500\n",
       "          4  0.575000\n",
       "          5  0.466667\n",
       "    mOFC -1  0.516667\n",
       "          0  0.516667\n",
       "          1  0.491667\n",
       "          2  0.554167\n",
       "          3  0.541667\n",
       "          4  0.466667\n",
       "          5  0.537500\n",
       "sim lOFC -1  0.558333\n",
       "          0  0.512500\n",
       "          1  0.391667\n",
       "          2  0.545833\n",
       "          3  0.516667\n",
       "          4  0.529167\n",
       "          5  0.554167\n",
       "    mOFC -1  0.470833\n",
       "          0  0.445833\n",
       "          1  0.533333\n",
       "          2  0.516667\n",
       "          3  0.491667\n",
       "          4  0.525000\n",
       "          5  0.512500"
      ]
     },
     "execution_count": 94,
     "metadata": {},
     "output_type": "execute_result"
    }
   ],
   "source": [
    "accuracy_df.groupby(['exp','roi','tr']).mean()"
   ]
  },
  {
   "cell_type": "code",
   "execution_count": null,
   "metadata": {
    "collapsed": false
   },
   "outputs": [],
   "source": []
  },
  {
   "cell_type": "code",
   "execution_count": null,
   "metadata": {
    "collapsed": true
   },
   "outputs": [],
   "source": [
    "\n"
   ]
  },
  {
   "cell_type": "code",
   "execution_count": null,
   "metadata": {
    "collapsed": false
   },
   "outputs": [],
   "source": []
  },
  {
   "cell_type": "code",
   "execution_count": null,
   "metadata": {
    "collapsed": true
   },
   "outputs": [],
   "source": []
  }
 ],
 "metadata": {
  "kernelspec": {
   "display_name": "Python 2",
   "language": "python",
   "name": "python2"
  },
  "language_info": {
   "codemirror_mode": {
    "name": "ipython",
    "version": 2
   },
   "file_extension": ".py",
   "mimetype": "text/x-python",
   "name": "python",
   "nbconvert_exporter": "python",
   "pygments_lexer": "ipython2",
   "version": "2.7.6"
  }
 },
 "nbformat": 4,
 "nbformat_minor": 0
}
