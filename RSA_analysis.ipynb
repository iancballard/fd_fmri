{
 "cells": [
  {
   "cell_type": "code",
   "execution_count": 1,
   "metadata": {},
   "outputs": [
    {
     "name": "stderr",
     "output_type": "stream",
     "text": [
      "/home/iballard/anaconda/lib/python2.7/site-packages/statsmodels/compat/pandas.py:56: FutureWarning: The pandas.core.datetools module is deprecated and will be removed in a future version. Please use the pandas.tseries module instead.\n",
      "  from pandas.core import datetools\n"
     ]
    }
   ],
   "source": [
    "import nibabel as nib\n",
    "import os\n",
    "import numpy as np\n",
    "import os.path as op\n",
    "import scipy\n",
    "import pandas as pd\n",
    "import pickle\n",
    "import scipy.stats\n",
    "from ipyparallel import Client\n",
    "from statsmodels.formula.api import ols\n",
    "import statsmodels.api as sm \n",
    "import statsmodels.formula.api as smf\n",
    "from sklearn import manifold\n",
    "from sklearn.decomposition import PCA\n",
    "import seaborn as sns\n",
    "import moss\n",
    "import matplotlib\n",
    "import matplotlib.pyplot as plt\n",
    "%matplotlib inline"
   ]
  },
  {
   "cell_type": "code",
   "execution_count": 2,
   "metadata": {
    "collapsed": true
   },
   "outputs": [],
   "source": [
    "rc = Client()"
   ]
  },
  {
   "cell_type": "code",
   "execution_count": 3,
   "metadata": {
    "collapsed": true
   },
   "outputs": [],
   "source": [
    "#preliminary housekeeping\n",
    "home_dir = '/data/home/iballard/fd/'\n",
    "subj_file = home_dir + 'subjects.txt'\n",
    "subs = list(np.loadtxt(subj_file,'string'))\n",
    "os.chdir(home_dir)"
   ]
  },
  {
   "cell_type": "code",
   "execution_count": 323,
   "metadata": {
    "collapsed": true
   },
   "outputs": [],
   "source": [
    "masks = ['V1','yeo17_ifs','hipp','peri_sim','para_sim']\n",
    "roi_names = {'V1_V2':'V1/V2',\n",
    "             'V1':'V1',\n",
    "             'para_sim':'ParaHipp',\n",
    "             'peri_sim':'Perirhinal',\n",
    "             'hipp':'Hippocampus',\n",
    "            'yeo17_ifs':'IFS'}\n",
    "exp = 'sim_4mm-betas'\n",
    "smooth = 'smoothed'\n",
    "conds = ['b_plus','b_minus','c_plus','c_minus']\n",
    "name_map = {'b_plus':'AB+_', 'c_minus':'AC-_','b_minus':'B-_','c_plus':'C+_'}\n",
    "cond_map = {1:'b_plus',2:'c_minus',3:'b_minus',4:'c_plus'}\n",
    "nconds = len(cond_map.keys())"
   ]
  },
  {
   "cell_type": "code",
   "execution_count": 5,
   "metadata": {},
   "outputs": [
    {
     "data": {
      "image/png": "[encoded data removed]",
      "text/plain": [
       "<matplotlib.figure.Figure at 0x7f199ad494d0>"
      ]
     },
     "metadata": {},
     "output_type": "display_data"
    }
   ],
   "source": [
    "flatui = [\"#9b59b6\", \"#3498db\", \"#2ecc71\",\"#fcbf4a\", \"#ed5b61\", \"#e52c66\"]\n",
    "sns.palplot(sns.color_palette(flatui))"
   ]
  },
  {
   "cell_type": "code",
   "execution_count": 196,
   "metadata": {},
   "outputs": [
    {
     "data": {
      "text/plain": [
       "{'V1_V2', 'hipp', 'para_sim', 'peri_sim'}"
      ]
     },
     "execution_count": 196,
     "metadata": {},
     "output_type": "execute_result"
    }
   ],
   "source": [
    "#project a onto b\n",
    "def vector_reject(a,b): #a gives variance to be\n",
    "    return a - (np.dot(a,b)/np.dot(b,b)) * b   \n",
    "set(all_rsas['mask'])"
   ]
  },
  {
   "cell_type": "markdown",
   "metadata": {},
   "source": [
    "# Load and visualize RSA data"
   ]
  },
  {
   "cell_type": "code",
   "execution_count": 317,
   "metadata": {
    "collapsed": true
   },
   "outputs": [],
   "source": [
    "#load RSAs from disk\n",
    "all_rsas = []\n",
    "for sub in subs:\n",
    "    out_f = op.join(home_dir,'rsa', sub + 'rsa_sim_ifs.pkl')\n",
    "    rsa = pd.read_pickle(out_f)\n",
    "    all_rsas.append(rsa)\n",
    "all_rsas = pd.concat(all_rsas)"
   ]
  },
  {
   "cell_type": "code",
   "execution_count": 318,
   "metadata": {},
   "outputs": [
    {
     "data": {
      "text/plain": [
       "{'V1', 'hipp', 'para_sim', 'peri_sim', 'yeo17_ifs'}"
      ]
     },
     "execution_count": 318,
     "metadata": {},
     "output_type": "execute_result"
    }
   ],
   "source": [
    "set(all_rsas[all_rsas['sub'] == 'fd_105']['mask'])"
   ]
  },
  {
   "cell_type": "code",
   "execution_count": 199,
   "metadata": {
    "collapsed": true
   },
   "outputs": [],
   "source": [
    "fig_rsas = pd.read_csv('/home/iballard/Dropbox/fd/rsa.csv')\n",
    "fig_rsas = fig_rsas.set_index(['mask','run','sub'])"
   ]
  },
  {
   "cell_type": "code",
   "execution_count": 9,
   "metadata": {},
   "outputs": [
    {
     "name": "stderr",
     "output_type": "stream",
     "text": [
      "/home/iballard/anaconda/lib/python2.7/site-packages/ipykernel_launcher.py:7: PerformanceWarning: indexing past lexsort depth may impact performance.\n",
      "  import sys\n",
      "/home/iballard/anaconda/lib/python2.7/site-packages/matplotlib/collections.py:590: FutureWarning: elementwise comparison failed; returning scalar instead, but in the future will perform elementwise comparison\n",
      "  if self._edgecolors == str('face'):\n"
     ]
    },
    {
     "data": {
      "image/png": "[encoded data removed]",
      "text/plain": [
       "<matplotlib.figure.Figure at 0x7f19983e1e90>"
      ]
     },
     "metadata": {},
     "output_type": "display_data"
    }
   ],
   "source": [
    "roi = 'V1_V2'\n",
    "run = 2\n",
    "plt.title('')\n",
    "sns.set_context('paper',font_scale = 1.4,rc={\"figure.figsize\": (20, 20)})\n",
    "sns.set_style(\"white\")\n",
    "\n",
    "mean_rsa = fig_rsas.loc[roi,run].groupby(['cond1','cond2']).mean().sort_index()\n",
    "mean_rsa = mean_rsa.unstack()['corr']\n",
    "sns.heatmap(mean_rsa, vmax = .5)\n",
    "sns.despine()\n",
    "\n",
    "plt.savefig('/home/iballard/Dropbox/fd/figs/committee_meeting/' + roi + '.svg',dpi = 600)"
   ]
  },
  {
   "cell_type": "markdown",
   "metadata": {},
   "source": [
    "# Load results of RL modeling"
   ]
  },
  {
   "cell_type": "code",
   "execution_count": 11,
   "metadata": {},
   "outputs": [
    {
     "name": "stderr",
     "output_type": "stream",
     "text": [
      "/home/iballard/anaconda/lib/python2.7/site-packages/ipykernel_launcher.py:13: PerformanceWarning: indexing past lexsort depth may impact performance.\n",
      "  del sys.path[0]\n"
     ]
    },
    {
     "data": {
      "text/html": [
       "<div>\n",
       "<style>\n",
       "    .dataframe thead tr:only-child th {\n",
       "        text-align: right;\n",
       "    }\n",
       "\n",
       "    .dataframe thead th {\n",
       "        text-align: left;\n",
       "    }\n",
       "\n",
       "    .dataframe tbody tr th {\n",
       "        vertical-align: top;\n",
       "    }\n",
       "</style>\n",
       "<table border=\"1\" class=\"dataframe\">\n",
       "  <thead>\n",
       "    <tr style=\"text-align: right;\">\n",
       "      <th></th>\n",
       "      <th></th>\n",
       "      <th>PE</th>\n",
       "      <th>duration</th>\n",
       "      <th>feedback_valence</th>\n",
       "      <th>onset</th>\n",
       "      <th>rew</th>\n",
       "      <th>rt</th>\n",
       "      <th>V</th>\n",
       "      <th>trial</th>\n",
       "    </tr>\n",
       "    <tr>\n",
       "      <th>run</th>\n",
       "      <th>condition</th>\n",
       "      <th></th>\n",
       "      <th></th>\n",
       "      <th></th>\n",
       "      <th></th>\n",
       "      <th></th>\n",
       "      <th></th>\n",
       "      <th></th>\n",
       "      <th></th>\n",
       "    </tr>\n",
       "  </thead>\n",
       "  <tbody>\n",
       "    <tr>\n",
       "      <th rowspan=\"10\" valign=\"top\">2</th>\n",
       "      <th>c_plus</th>\n",
       "      <td>-1.000000</td>\n",
       "      <td>0</td>\n",
       "      <td>NaN</td>\n",
       "      <td>17.013</td>\n",
       "      <td>0.0</td>\n",
       "      <td>NaN</td>\n",
       "      <td>0.000000</td>\n",
       "      <td>1.0</td>\n",
       "    </tr>\n",
       "    <tr>\n",
       "      <th>c_plus</th>\n",
       "      <td>-0.600000</td>\n",
       "      <td>0</td>\n",
       "      <td>NaN</td>\n",
       "      <td>34.034</td>\n",
       "      <td>0.0</td>\n",
       "      <td>NaN</td>\n",
       "      <td>-0.400000</td>\n",
       "      <td>3.0</td>\n",
       "    </tr>\n",
       "    <tr>\n",
       "      <th>c_plus</th>\n",
       "      <td>1.640000</td>\n",
       "      <td>0</td>\n",
       "      <td>NaN</td>\n",
       "      <td>43.041</td>\n",
       "      <td>1.0</td>\n",
       "      <td>NaN</td>\n",
       "      <td>-0.640000</td>\n",
       "      <td>4.0</td>\n",
       "    </tr>\n",
       "    <tr>\n",
       "      <th>c_plus</th>\n",
       "      <td>0.984000</td>\n",
       "      <td>0</td>\n",
       "      <td>NaN</td>\n",
       "      <td>117.322</td>\n",
       "      <td>1.0</td>\n",
       "      <td>NaN</td>\n",
       "      <td>0.016000</td>\n",
       "      <td>11.0</td>\n",
       "    </tr>\n",
       "    <tr>\n",
       "      <th>c_plus</th>\n",
       "      <td>0.590400</td>\n",
       "      <td>0</td>\n",
       "      <td>NaN</td>\n",
       "      <td>143.957</td>\n",
       "      <td>1.0</td>\n",
       "      <td>556.0</td>\n",
       "      <td>0.409600</td>\n",
       "      <td>14.0</td>\n",
       "    </tr>\n",
       "    <tr>\n",
       "      <th>c_plus</th>\n",
       "      <td>0.354240</td>\n",
       "      <td>0</td>\n",
       "      <td>NaN</td>\n",
       "      <td>158.970</td>\n",
       "      <td>1.0</td>\n",
       "      <td>452.0</td>\n",
       "      <td>0.645760</td>\n",
       "      <td>15.0</td>\n",
       "    </tr>\n",
       "    <tr>\n",
       "      <th>c_plus</th>\n",
       "      <td>0.212544</td>\n",
       "      <td>0</td>\n",
       "      <td>NaN</td>\n",
       "      <td>238.049</td>\n",
       "      <td>1.0</td>\n",
       "      <td>690.0</td>\n",
       "      <td>0.787456</td>\n",
       "      <td>24.0</td>\n",
       "    </tr>\n",
       "    <tr>\n",
       "      <th>c_plus</th>\n",
       "      <td>0.127526</td>\n",
       "      <td>0</td>\n",
       "      <td>NaN</td>\n",
       "      <td>302.728</td>\n",
       "      <td>1.0</td>\n",
       "      <td>578.0</td>\n",
       "      <td>0.872474</td>\n",
       "      <td>31.0</td>\n",
       "    </tr>\n",
       "    <tr>\n",
       "      <th>c_plus</th>\n",
       "      <td>0.076516</td>\n",
       "      <td>0</td>\n",
       "      <td>NaN</td>\n",
       "      <td>319.748</td>\n",
       "      <td>1.0</td>\n",
       "      <td>600.0</td>\n",
       "      <td>0.923484</td>\n",
       "      <td>33.0</td>\n",
       "    </tr>\n",
       "    <tr>\n",
       "      <th>c_plus</th>\n",
       "      <td>-1.954090</td>\n",
       "      <td>0</td>\n",
       "      <td>NaN</td>\n",
       "      <td>358.796</td>\n",
       "      <td>0.0</td>\n",
       "      <td>NaN</td>\n",
       "      <td>0.954090</td>\n",
       "      <td>38.0</td>\n",
       "    </tr>\n",
       "  </tbody>\n",
       "</table>\n",
       "</div>"
      ],
      "text/plain": [
       "                     PE  duration  feedback_valence    onset  rew     rt  \\\n",
       "run condition                                                              \n",
       "2   c_plus    -1.000000         0               NaN   17.013  0.0    NaN   \n",
       "    c_plus    -0.600000         0               NaN   34.034  0.0    NaN   \n",
       "    c_plus     1.640000         0               NaN   43.041  1.0    NaN   \n",
       "    c_plus     0.984000         0               NaN  117.322  1.0    NaN   \n",
       "    c_plus     0.590400         0               NaN  143.957  1.0  556.0   \n",
       "    c_plus     0.354240         0               NaN  158.970  1.0  452.0   \n",
       "    c_plus     0.212544         0               NaN  238.049  1.0  690.0   \n",
       "    c_plus     0.127526         0               NaN  302.728  1.0  578.0   \n",
       "    c_plus     0.076516         0               NaN  319.748  1.0  600.0   \n",
       "    c_plus    -1.954090         0               NaN  358.796  0.0    NaN   \n",
       "\n",
       "                      V  trial  \n",
       "run condition                   \n",
       "2   c_plus     0.000000    1.0  \n",
       "    c_plus    -0.400000    3.0  \n",
       "    c_plus    -0.640000    4.0  \n",
       "    c_plus     0.016000   11.0  \n",
       "    c_plus     0.409600   14.0  \n",
       "    c_plus     0.645760   15.0  \n",
       "    c_plus     0.787456   24.0  \n",
       "    c_plus     0.872474   31.0  \n",
       "    c_plus     0.923484   33.0  \n",
       "    c_plus     0.954090   38.0  "
      ]
     },
     "execution_count": 11,
     "metadata": {},
     "output_type": "execute_result"
    }
   ],
   "source": [
    "RL_next = pd.read_csv('/home/iballard/fdPE_V_nexttrial.csv')\n",
    "RL_next = RL_next[RL_next['condition'] != 'feedback']\n",
    "RL_next = RL_next.set_index(['exp','sub','run','condition'])\n",
    "RL_next = RL_next.loc[('sim','fd_104')]\n",
    "\n",
    "RL_std = pd.read_csv('/home/iballard/fdPE_V_trial.csv')\n",
    "RL_std = RL_std[RL_std['condition'] != 'feedback']\n",
    "RL_std = RL_std.set_index(['exp','sub','run','condition'])\n",
    "RL_std = RL_std.loc[('sim','fd_104')]\n",
    "\n",
    "for i in range(1,4):\n",
    "    RL_std.loc[i,'trial'] = range(0,40)\n",
    "RL_std.loc[(2,'c_plus')]"
   ]
  },
  {
   "cell_type": "markdown",
   "metadata": {},
   "source": [
    "# Conduct RSA Analysis"
   ]
  },
  {
   "cell_type": "code",
   "execution_count": 319,
   "metadata": {
    "collapsed": true
   },
   "outputs": [],
   "source": [
    "def get_base_model(sub,mask): \n",
    "    reverse_name_map = {'AB+':'b_plus','B-':'b_minus','AC-':'c_minus','C+':'c_plus'}\n",
    "\n",
    "    overlap_pairs = [['b_plus','b_minus'],\n",
    "                    ['c_plus','c_minus'],\n",
    "                    ['b_plus','c_minus']]\n",
    "    overlap_pairs = [set(x) for x in overlap_pairs] #so order doesnt matter\n",
    "    not_overlap_pairs = [['c_plus','b_minus'],\n",
    "                         ['b_plus','c_plus'],\n",
    "                      ['c_minus','b_minus']]\n",
    "    not_overlap_pairs = [set(x) for x in not_overlap_pairs] #so order doesnt matter\n",
    "\n",
    "\n",
    "    singles = [['c_plus','c_plus'],['b_minus','c_plus'], ['b_minus','b_minus']]\n",
    "    singles = [set(x) for x in singles] #so order doesnt matter\n",
    "    doubles = [['b_plus','b_plus'], ['b_plus','c_minus'],['c_minus','c_minus']]     \n",
    "    doubles = [set(x) for x in doubles] #so order doesnt matter\n",
    "                \n",
    "    #get dataframe\n",
    "    sub_rsa = all_rsas.set_index(['mask','sub','run']).sort_index()\n",
    "    sub_rsa = sub_rsa.loc[(mask,sub)]\n",
    "    runs = set(sub_rsa.index)\n",
    "\n",
    "    #initialize model\n",
    "    model = {'response' : [],\n",
    "    'valence' : [],\n",
    "    'identity' : [],\n",
    "    'time' : [],\n",
    "    'overlap' : [],\n",
    "    'value_std' : [],\n",
    "    'value_next' : [],\n",
    "    'nstim':[],\n",
    "    'pe':[],\n",
    "    'run' : [], \n",
    "    'corr' : [],\n",
    "    'cond1':[],\n",
    "    'cond2':[]}\n",
    "    \n",
    "\n",
    "    for run in runs:\n",
    "        for c1, c2, r in zip(sub_rsa.loc[run,'cond1'].values,\n",
    "                             sub_rsa.loc[run,'cond2'].values,\n",
    "                             sub_rsa.loc[run,'corr'].values):\n",
    "\n",
    "            #get variables in tidy format\n",
    "            cond1, trial1 = c1.split('_')\n",
    "            cond2, trial2 = c2.split('_')\n",
    "            cond1 = reverse_name_map[cond1]\n",
    "            cond2 = reverse_name_map[cond2]\n",
    "\n",
    "            #get reward codings\n",
    "            r1 = RL_std.loc[(run,cond1),'rew'].values[trial1]\n",
    "            r2 = RL_std.loc[(run,cond2),'rew'].values[trial2]\n",
    "            same = int(r1 == r2)\n",
    "            val = int(same)\n",
    "            if r1 < 1.0:\n",
    "                val = 0\n",
    "            model['response'].append(same)\n",
    "            model['valence'].append(val)\n",
    "\n",
    "            ##identity\n",
    "            iden= int(cond1 == cond2)\n",
    "            model['identity'].append(iden)\n",
    "\n",
    "            #trial diff (in real time)\n",
    "            t1 = RL_std.loc[(run,cond1),'trial'].values[trial1]\n",
    "            t2 = RL_std.loc[(run,cond2),'trial'].values[trial2]\n",
    "            tdiff = abs(t1 - t2)\n",
    "            model['time'].append(tdiff) \n",
    "            \n",
    "            #number of stimuli\n",
    "            if set([cond1,cond2]) in singles:\n",
    "               nstim = -1\n",
    "            elif set([cond1,cond2]) in doubles:\n",
    "               nstim = 1\n",
    "            else:\n",
    "               nstim = 0\n",
    "            model['nstim'].append(nstim)\n",
    "               \n",
    "            #overlap\n",
    "            ov = set([cond1,cond2]) in overlap_pairs\n",
    "            non_ov = set([cond1,cond2]) in not_overlap_pairs\n",
    "            model['overlap'].append(int(ov) - int(non_ov))\n",
    "\n",
    "            #value difference\n",
    "            v1 = RL_std.loc[(run,cond1),'V'].values[trial1]\n",
    "            v2 = RL_std.loc[(run,cond2),'V'].values[trial2]\n",
    "            vdiff = -1 * abs(v1 - v2)\n",
    "            model['value_std'].append(vdiff)\n",
    "            \n",
    "            #value difference\n",
    "            v1 = RL_next.loc[(run,cond1),'V'].values[trial1]\n",
    "            v2 = RL_next.loc[(run,cond2),'V'].values[trial2]\n",
    "            vdiff = -1 * abs(v1 - v2)\n",
    "            model['value_next'].append(vdiff)\n",
    "\n",
    "            #PE difference\n",
    "            v1 = RL_std.loc[(run,cond1),'PE'].values[trial1]\n",
    "            v2 = RL_std.loc[(run,cond2),'PE'].values[trial2]\n",
    "            vdiff = -1 * abs(v1 - v2)\n",
    "            model['pe'].append(vdiff)\n",
    "  \n",
    "            #run\n",
    "            model['run'].append(run)\n",
    "\n",
    "            #corr\n",
    "            model['corr'].append(r)\n",
    "\n",
    "            #cond labels\n",
    "            model['cond1'].append(c1)\n",
    "            model['cond2'].append(c2)\n",
    "\n",
    "    model = pd.DataFrame(model)\n",
    "    return model"
   ]
  },
  {
   "cell_type": "code",
   "execution_count": 320,
   "metadata": {},
   "outputs": [
    {
     "name": "stderr",
     "output_type": "stream",
     "text": [
      "/home/iballard/anaconda/lib/python2.7/site-packages/ipykernel_launcher.py:52: VisibleDeprecationWarning: using a non-integer number instead of an integer will result in an error in the future\n",
      "/home/iballard/anaconda/lib/python2.7/site-packages/ipykernel_launcher.py:53: VisibleDeprecationWarning: using a non-integer number instead of an integer will result in an error in the future\n",
      "/home/iballard/anaconda/lib/python2.7/site-packages/ipykernel_launcher.py:66: VisibleDeprecationWarning: using a non-integer number instead of an integer will result in an error in the future\n",
      "/home/iballard/anaconda/lib/python2.7/site-packages/ipykernel_launcher.py:67: VisibleDeprecationWarning: using a non-integer number instead of an integer will result in an error in the future\n",
      "/home/iballard/anaconda/lib/python2.7/site-packages/ipykernel_launcher.py:86: VisibleDeprecationWarning: using a non-integer number instead of an integer will result in an error in the future\n",
      "/home/iballard/anaconda/lib/python2.7/site-packages/ipykernel_launcher.py:87: VisibleDeprecationWarning: using a non-integer number instead of an integer will result in an error in the future\n",
      "/home/iballard/anaconda/lib/python2.7/site-packages/ipykernel_launcher.py:92: VisibleDeprecationWarning: using a non-integer number instead of an integer will result in an error in the future\n",
      "/home/iballard/anaconda/lib/python2.7/site-packages/ipykernel_launcher.py:93: VisibleDeprecationWarning: using a non-integer number instead of an integer will result in an error in the future\n",
      "/home/iballard/anaconda/lib/python2.7/site-packages/ipykernel_launcher.py:98: VisibleDeprecationWarning: using a non-integer number instead of an integer will result in an error in the future\n",
      "/home/iballard/anaconda/lib/python2.7/site-packages/ipykernel_launcher.py:99: VisibleDeprecationWarning: using a non-integer number instead of an integer will result in an error in the future\n",
      "/home/iballard/anaconda/lib/python2.7/site-packages/ipykernel_launcher.py:9: PerformanceWarning: indexing past lexsort depth may impact performance.\n",
      "  if __name__ == '__main__':\n"
     ]
    }
   ],
   "source": [
    "#build Data frame for modeling\n",
    "base = get_base_model('fd_104','hipp')\n",
    "mask_models={}\n",
    "for mask in masks:\n",
    "    all_models = {}\n",
    "\n",
    "    for sub in subs:\n",
    "        sub_rsa = all_rsas.set_index(['mask','sub','run'])\n",
    "        sub_rsa = sub_rsa.loc[(mask,sub)]\n",
    "        runs = sorted(set(sub_rsa.index))\n",
    "        \n",
    "        #deal with uneven number of runs\n",
    "        base_runs = [1,2,3]\n",
    "        sub_df = base.copy()\n",
    "        if len(runs) != len(base_runs): #right number of runs\n",
    "            bad_runs = set(runs) ^ set(base_runs)\n",
    "            for bad_run in bad_runs:\n",
    "                sub_df = sub_df[sub_df['run'] != bad_run]\n",
    "        all_models[sub] = sub_df\n",
    "\n",
    "        corr = []\n",
    "        for run in runs:\n",
    "            r = sub_rsa.loc[run]['corr'].values\n",
    "            corr.extend(r)\n",
    "            \n",
    "        all_models[sub]['corr'] = corr\n",
    "\n",
    "    mask_models[mask] = dict(all_models)"
   ]
  },
  {
   "cell_type": "code",
   "execution_count": 186,
   "metadata": {},
   "outputs": [
    {
     "data": {
      "text/plain": [
       "<matplotlib.text.Text at 0x7f1930e24390>"
      ]
     },
     "execution_count": 186,
     "metadata": {},
     "output_type": "execute_result"
    },
    {
     "data": {
      "image/png": "[encoded data removed]",
      "text/plain": [
       "<matplotlib.figure.Figure at 0x7f198c9bdad0>"
      ]
     },
     "metadata": {},
     "output_type": "display_data"
    }
   ],
   "source": [
    "#Visualize regressors for the model of the RSA matrix\n",
    "tmp  = mask_models['hipp']['fd_104'].copy()\n",
    "tmp = tmp[tmp['run'] ==3]\n",
    "\n",
    "\n",
    "x_var = 'identity'\n",
    "tmp[x_var] = scipy.stats.zscore(tmp[x_var])\n",
    "# tmp[x_var] = vector_reject(tmp[x_var].values, tmp['valence'].values)\n",
    "\n",
    "sns.set_context('paper',font_scale = 1.4,rc={\"figure.figsize\": (20, 20)})\n",
    "sns.set_style(\"white\")\n",
    "\n",
    "\n",
    "tmp = tmp[['cond1','cond2',x_var]]\n",
    "new_df = pd.DataFrame()\n",
    "for cond in ['AB+_','B-_','AC-_','C+_']:\n",
    "    for i in range(10):\n",
    "        row = pd.DataFrame({x_var:0,\n",
    "                            'cond1':cond + str(i),\n",
    "                            'cond2':cond + str(i)},index = [0])\n",
    "        new_df = new_df.append(row)\n",
    "tmp = pd.concat([tmp,new_df])\n",
    "tmp = tmp.groupby(['cond1','cond2']).mean().unstack()[x_var]\n",
    "sns.heatmap(tmp)\n",
    "plt.title(x_var)\n",
    "# plt.savefig('/home/iballard/Dropbox/fd/figs/committee_meeting/model_' + x_var +'.svg',dpi = 600)"
   ]
  },
  {
   "cell_type": "markdown",
   "metadata": {},
   "source": [
    "# Deal with screen order"
   ]
  },
  {
   "cell_type": "code",
   "execution_count": 254,
   "metadata": {
    "collapsed": true
   },
   "outputs": [],
   "source": [
    "screen_order = pd.read_csv(op.join('/home','iballard','Dropbox','fd','sim_screen_order.csv'))\n",
    "screen_order = screen_order.set_index(['sub','run','cond'])\n",
    "for row in set(screen_order.index):\n",
    "    screen_order.loc[row,'cond_num'] = map(int,np.arange(10))\n",
    "screen_order = screen_order.reset_index()\n",
    "screen_order['condition'] = [name_map[x] + str(int(c)) for x,c in zip(screen_order['cond'].values,\n",
    "                                                                       screen_order['cond_num'].values)]\n",
    "screen_order = screen_order.set_index(['sub','run']).sort_index()"
   ]
  },
  {
   "cell_type": "code",
   "execution_count": 163,
   "metadata": {
    "collapsed": true
   },
   "outputs": [],
   "source": [
    "screen_rsa = {'cond1':[],'cond2':[],'different_hemi':[],'run':[],'sub':[]}\n",
    "\n",
    "for row in set(screen_order.index):\n",
    "    \n",
    "    sub,run = row\n",
    "    sub_df = screen_order.loc[row].set_index('condition').sort_index()\n",
    "    \n",
    "    for trial1 in set(sub_df.index):\n",
    "        for trial2 in set(sub_df.index):\n",
    "            \n",
    "            cond1 = sub_df.loc[trial1,'cond']\n",
    "            cond2 = sub_df.loc[trial2,'cond']\n",
    "            lr1 = sub_df.loc[trial1,'lr']\n",
    "            lr2 = sub_df.loc[trial2,'lr']\n",
    "            cond_set = set([cond1,cond2]) #useful so order doesnt matter\n",
    "            \n",
    "            diff = False\n",
    "            if cond1 == cond2 and lr1 != lr2:\n",
    "                diff = True\n",
    "            if cond_set in [set(['b_plus','c_minus'])] and lr1 != lr2:\n",
    "                diff = True\n",
    "            if cond_set in [set(['b_plus','c_plus']),set(['c_minus','b_minus']),set(['b_minus','c_plus'])]:\n",
    "                diff = True\n",
    "            if cond_set in [set(['b_plus','b_minus']),set(['c_minus','c_plus'])] and lr1 == lr2:\n",
    "                diff = True\n",
    "            \n",
    "            screen_rsa['different_hemi'].append(diff)\n",
    "            screen_rsa['sub'].append(sub)\n",
    "            screen_rsa['run'].append(run)\n",
    "            screen_rsa['cond1'].append(trial1)\n",
    "            screen_rsa['cond2'].append(trial2)\n",
    "screen_rsa = pd.DataFrame(screen_rsa)\n",
    "screen_rsa.to_csv(home_dir + '/screen_order.csv',index = False)\n",
    "screen_rsa = screen_rsa.sort_values(by = ['sub','run','cond1','cond2']).set_index('sub')"
   ]
  },
  {
   "cell_type": "code",
   "execution_count": 201,
   "metadata": {
    "collapsed": true
   },
   "outputs": [],
   "source": [
    "screen_rsa = pd.read_csv(home_dir + '/screen_order.csv')\n",
    "screen_rsa = screen_rsa.sort_values(by = ['sub','run','cond1','cond2']).set_index('sub')"
   ]
  },
  {
   "cell_type": "markdown",
   "metadata": {},
   "source": [
    "# Run linear model"
   ]
  },
  {
   "cell_type": "code",
   "execution_count": 321,
   "metadata": {},
   "outputs": [
    {
     "name": "stdout",
     "output_type": "stream",
     "text": [
      "['V1', 'yeo17_ifs', 'hipp', 'peri_sim', 'para_sim']\n"
     ]
    }
   ],
   "source": [
    "print masks"
   ]
  },
  {
   "cell_type": "code",
   "execution_count": 340,
   "metadata": {},
   "outputs": [
    {
     "name": "stdout",
     "output_type": "stream",
     "text": [
      "corr ~ 1+response+valence+identity+overlap+pe+value_next+time+time2+run+different_hemi\n"
     ]
    }
   ],
   "source": [
    "value_regressors = ['value_next','value_std','pe']\n",
    "regressors = ['response','valence','identity','overlap','pe','value_next','time','time2','run','different_hemi']\n",
    "\n",
    "model = []\n",
    "for mask_idx,mask in enumerate(masks):\n",
    "    #deal with time\n",
    "    for n,sub in enumerate(subs):\n",
    "        m = mask_models[mask][sub].copy()\n",
    "        \n",
    "        #add in info about screen location\n",
    "        m = pd.merge(screen_rsa.loc[sub],\n",
    "         m,\n",
    "         how = 'inner')\n",
    "#         m = m[m['different_hemi'] == False] #subsample to only look at different hemispheres\n",
    "        \n",
    "        m['time'] = scipy.stats.zscore(m['time'])\n",
    "        m['time2'] = [x**2 for x in m['time']]\n",
    "        \n",
    "        #standardize regressors\n",
    "        for r in regressors:\n",
    "            if r not in ['run','different_hemi']: #categorical\n",
    "                m[r] = scipy.stats.zscore(m[r])\n",
    "        \n",
    "        #subjects\n",
    "        m['sub'] = n\n",
    "        m['mask'] = mask\n",
    "        \n",
    "        #clean up dataframe\n",
    "        all_cols = list(regressors)\n",
    "        all_cols.extend(['corr','sub','mask'])\n",
    "        m = m[all_cols]\n",
    "\n",
    "        #orthogonalize\n",
    "        for v_regress in value_regressors:\n",
    "            if v_regress in regressors:\n",
    "                m[v_regress] = vector_reject(m[v_regress],m['response'])\n",
    "                m[v_regress] = vector_reject(m[v_regress],m['valence'])\n",
    "\n",
    "        #process y\n",
    "        m['corr'] = map(np.arctanh,m['corr'])\n",
    "        model.append(m.copy())\n",
    "        \n",
    "model = pd.concat(model)\n",
    "model['roi'] = [roi_names[x] for x in model['mask']]\n",
    "\n",
    "#set up model\n",
    "model_str = ['corr ~ 1']\n",
    "for r in regressors:\n",
    "    model_str.append(r)\n",
    "model_str = '+'.join(model_str)\n",
    "print model_str"
   ]
  },
  {
   "cell_type": "code",
   "execution_count": 341,
   "metadata": {},
   "outputs": [
    {
     "name": "stdout",
     "output_type": "stream",
     "text": [
      "0.751312056738\n",
      "Ttest_1sampResult(statistic=0.73073494542826345, pvalue=0.47042827866854153)\n"
     ]
    },
    {
     "data": {
      "text/plain": [
       "(0.4955530780462951, 0.4933565217547761)"
      ]
     },
     "execution_count": 341,
     "metadata": {},
     "output_type": "execute_result"
    }
   ],
   "source": [
    "v1 = model.set_index('mask').loc['V1']\n",
    "v1 = v1[v1['identity'] < 0]\n",
    "print v1['different_hemi'].sum()/(1.0*v1.shape[0])\n",
    "v1 = v1.groupby(['different_hemi','sub']).mean()['corr']\n",
    "print scipy.stats.ttest_1samp(v1[False] - v1[True],0)\n",
    "np.mean(v1[False]),np.mean(v1[True])\n"
   ]
  },
  {
   "cell_type": "code",
   "execution_count": 337,
   "metadata": {},
   "outputs": [
    {
     "data": {
      "image/png": "[encoded data removed]",
      "text/plain": [
       "<matplotlib.figure.Figure at 0x7f18fb10a450>"
      ]
     },
     "metadata": {},
     "output_type": "display_data"
    }
   ],
   "source": [
    "#project out nuisance variables\n",
    "m = model.copy()\n",
    "# m = m[m['different_hemi'] == True]\n",
    "m = m.reset_index().set_index(['mask','sub']).sort_index()\n",
    "for row in set(m.index):\n",
    "    \n",
    "    df = m.loc[row]\n",
    "    \n",
    "    model_str = 'corr ~ 1 + response + valence + time + time2 + identity + pe + value_next + C(run,Sum)'\n",
    "    fit = ols(model_str,df).fit()\n",
    "    m.loc[row,'resid'] = fit.resid.values\n",
    "\n",
    "m = m.reset_index()\n",
    "overlap = m[m['overlap'] != 0]\n",
    "\n",
    "sns.lmplot(y = 'resid',x= 'overlap',\n",
    "           x_bins =2,\n",
    "           x_ci = 68,\n",
    "           palette = flatui,\n",
    "           hue = 'mask', data = overlap)\n",
    "plt.ylabel('Fisher(r)')\n",
    "plt.savefig('/home/iballard/Dropbox/fd/figs/paper/data_overlap.png', \n",
    "            dpi = 300,\n",
    "           bbox_inches = 'tight')"
   ]
  },
  {
   "cell_type": "code",
   "execution_count": null,
   "metadata": {},
   "outputs": [],
   "source": []
  },
  {
   "cell_type": "code",
   "execution_count": 329,
   "metadata": {},
   "outputs": [
    {
     "data": {
      "image/png": "[encoded data removed]",
      "text/plain": [
       "<matplotlib.figure.Figure at 0x7f18fb23cdd0>"
      ]
     },
     "metadata": {},
     "output_type": "display_data"
    }
   ],
   "source": [
    "#project out nuisance variables\n",
    "m = model.copy()\n",
    "# m = m[m['different_hemi'] == True]\n",
    "m = m.reset_index().set_index(['mask','sub']).sort_index()\n",
    "for row in set(m.index):\n",
    "    \n",
    "    df = m.loc[row]\n",
    "    \n",
    "    model_str = 'corr ~ 1 + response + valence + time + time2 + overlap + pe + value_next + C(run,Sum)'\n",
    "    fit = ols(model_str,df).fit()\n",
    "    m.loc[row,'resid'] = fit.resid.values\n",
    "\n",
    "m = m.reset_index()\n",
    "\n",
    "sns.lmplot(y = 'resid',x= 'identity', \n",
    "           x_bins = 2,\n",
    "           x_jitter = .3,\n",
    "           palette = flatui,\n",
    "           hue = 'roi', data = m)\n",
    "plt.ylabel('Fisher(r)')\n",
    "\n",
    "plt.savefig('/home/iballard/Dropbox/fd/figs/paper/data_identity.png', \n",
    "            dpi = 300,\n",
    "           bbox_inches = 'tight')"
   ]
  },
  {
   "cell_type": "code",
   "execution_count": null,
   "metadata": {},
   "outputs": [],
   "source": [
    "#project out nuisance variables\n",
    "m = model.copy()\n",
    "# m = m[m['different_hemi'] == True]\n",
    "m = m.reset_index().set_index(['mask','sub']).sort_index()\n",
    "for row in set(m.index):\n",
    "    \n",
    "    df = m.loc[row]\n",
    "    \n",
    "    model_str = 'corr ~ 1 + identity +response + valence + time + time2 + overlap + C(run,Sum)'\n",
    "    fit = ols(model_str,df).fit()\n",
    "    m.loc[row,'resid'] = fit.resid.values\n",
    "\n",
    "m = m.reset_index()\n",
    "\n",
    "sns.lmplot(y = 'resid',x= 'value_next', \n",
    "           x_bins = 2,\n",
    "           x_jitter = .3,\n",
    "           palette = flatui,\n",
    "           hue = 'roi', data = m)\n",
    "plt.ylabel('Fisher(r)')\n",
    "\n",
    "plt.savefig('/home/iballard/Dropbox/fd/figs/paper/data_value.png', \n",
    "            dpi = 300,\n",
    "           bbox_inches = 'tight')"
   ]
  },
  {
   "cell_type": "code",
   "execution_count": 331,
   "metadata": {
    "scrolled": false
   },
   "outputs": [
    {
     "data": {
      "text/plain": [
       "<matplotlib.axes._subplots.AxesSubplot at 0x7f18f8aab290>"
      ]
     },
     "execution_count": 331,
     "metadata": {},
     "output_type": "execute_result"
    },
    {
     "data": {
      "image/png": "[encoded data removed]",
      "text/plain": [
       "<matplotlib.figure.Figure at 0x7f18fb12b510>"
      ]
     },
     "metadata": {},
     "output_type": "display_data"
    }
   ],
   "source": [
    "m = model[model['identity'] > 0]\n",
    "m = m.groupby(['roi','different_hemi','sub']).mean().reset_index()\n",
    "\n",
    "sns.barplot(x = 'roi',y = 'corr', hue = 'different_hemi', data = m, palette = flatui)"
   ]
  },
  {
   "cell_type": "markdown",
   "metadata": {},
   "source": [
    "# Run Permutation Test"
   ]
  },
  {
   "cell_type": "code",
   "execution_count": 343,
   "metadata": {
    "collapsed": true
   },
   "outputs": [],
   "source": [
    "model = model.set_index(['mask','sub'])"
   ]
  },
  {
   "cell_type": "code",
   "execution_count": 345,
   "metadata": {
    "collapsed": true
   },
   "outputs": [],
   "source": [
    "def permute_data(permuation_number):\n",
    "    shuffled_params = pd.DataFrame()\n",
    "    \n",
    "    #loop through masks and subjects\n",
    "    for row in set(model.index):\n",
    "        df = model.loc[row].copy()\n",
    "\n",
    "        #shuffle\n",
    "        df['corr'] = np.random.permutation(df['corr'])\n",
    "\n",
    "        #fit model\n",
    "        model_str = 'corr ~ 1 + response + valence + time + time2 + pe + value_next + overlap + identity'\n",
    "        fit = ols(model_str,df).fit()\n",
    "\n",
    "        #compile results\n",
    "        new_data = fit.params\n",
    "        new_data['sub'] = str(row[1])\n",
    "        new_data['mask'] = row[0]\n",
    "        shuffled_params = shuffled_params.append(new_data, ignore_index = True)\n",
    "    \n",
    "    #save data\n",
    "    out_f = op.join(op.abspath('../permutation'),'shuffled_' + str(permuation_number) + '.csv')\n",
    "    shuffled_params.to_csv(out_f,index = False)"
   ]
  },
  {
   "cell_type": "code",
   "execution_count": null,
   "metadata": {
    "collapsed": true
   },
   "outputs": [],
   "source": [
    "dview = rc[0:52]\n",
    "dview.block = True\n",
    "\n",
    "dview.push(dict(home_dir=home_dir,\n",
    "                model = model,\n",
    "                  ))\n",
    "dview.execute(\"import numpy as np\")\n",
    "dview.execute(\"import os.path as op\")\n",
    "dview.execute(\"import pandas as pd\")\n",
    "with dview.sync_imports():\n",
    "    import os\n",
    "    import numpy\n",
    "    import scipy\n",
    "    import scipy.stats\n",
    "    from statsmodels.formula.api import ols\n",
    "n_permutations = 1000\n",
    "dview.map_sync(permute_data,np.arange(n_permutations))"
   ]
  },
  {
   "cell_type": "markdown",
   "metadata": {},
   "source": [
    "# Get means for each regressor"
   ]
  },
  {
   "cell_type": "code",
   "execution_count": null,
   "metadata": {
    "collapsed": true
   },
   "outputs": [],
   "source": []
  },
  {
   "cell_type": "code",
   "execution_count": 122,
   "metadata": {
    "collapsed": true
   },
   "outputs": [],
   "source": [
    "# loop through masks and subjects\n",
    "model = model.set_index(['mask','sub']).sort_index()\n",
    "fit_params = pd.DataFrame()\n",
    "for row in set(model.index):\n",
    "    df = model.loc[row].copy()\n",
    "\n",
    "    #fit model\n",
    "    model_str = 'corr ~ 1 + response + valence + time + pe + value_next + overlap + identity + C(run,Sum)'\n",
    "    fit = ols(model_str,df).fit()\n",
    "\n",
    "    #compile resprint ults\n",
    "    new_data = fit.params\n",
    "    new_data['sub'] = str(row[1])\n",
    "    new_data['mask'] = row[0]\n",
    "#     new_data['run'] = row[2]\n",
    "    fit_params = fit_params.append(new_data, ignore_index = True)\n",
    "fit_params = fit_params.groupby('mask').mean().reset_index()"
   ]
  },
  {
   "cell_type": "code",
   "execution_count": 57,
   "metadata": {
    "collapsed": true
   },
   "outputs": [],
   "source": [
    "#load data\n",
    "shuffled_params = []\n",
    "for permuation_number in range(n_permutations):\n",
    "    out_f = op.join(op.abspath('../fd/permutation'),'shuffled_' + str(permuation_number) + '.csv')\n",
    "    df = pd.read_csv(out_f)\n",
    "    df['sample'] = permuation_number\n",
    "    shuffled_params.append(df)\n",
    "shuffled_params = pd.concat(shuffled_params)\n",
    "shuffled_params = shuffled_params.groupby(['mask','sample']).mean().reset_index()"
   ]
  },
  {
   "cell_type": "code",
   "execution_count": 58,
   "metadata": {
    "collapsed": true
   },
   "outputs": [],
   "source": [
    "shuffled_params['roi'] = [roi_names[x] for x in shuffled_params['mask']]\n",
    "fit_params['roi'] = [roi_names[x] for x in fit_params['mask']]"
   ]
  },
  {
   "cell_type": "code",
   "execution_count": 59,
   "metadata": {
    "collapsed": true
   },
   "outputs": [],
   "source": [
    "def get_p_value(shuffled_params,fit_params,regressor, side):\n",
    "    p_values = {}\n",
    "    for m in masks:\n",
    "        shuff = shuffled_params.set_index('mask').loc[m,regressor]\n",
    "\n",
    "        val = fit_params.set_index('mask').loc[m,regressor]\n",
    "\n",
    "        if side == '>':\n",
    "            p_values[m] = sum(shuff > val)/float(len(shuff))\n",
    "        elif side == '<':\n",
    "            p_values[m] = sum(shuff < val)/float(len(shuff))\n",
    "    return pd.DataFrame(p_values,index = ['p'])"
   ]
  },
  {
   "cell_type": "code",
   "execution_count": 124,
   "metadata": {},
   "outputs": [
    {
     "data": {
      "text/html": [
       "<div>\n",
       "<style>\n",
       "    .dataframe thead tr:only-child th {\n",
       "        text-align: right;\n",
       "    }\n",
       "\n",
       "    .dataframe thead th {\n",
       "        text-align: left;\n",
       "    }\n",
       "\n",
       "    .dataframe tbody tr th {\n",
       "        vertical-align: top;\n",
       "    }\n",
       "</style>\n",
       "<table border=\"1\" class=\"dataframe\">\n",
       "  <thead>\n",
       "    <tr style=\"text-align: right;\">\n",
       "      <th></th>\n",
       "      <th>V1_V2</th>\n",
       "      <th>hipp</th>\n",
       "      <th>para_sim</th>\n",
       "      <th>peri_sim</th>\n",
       "    </tr>\n",
       "  </thead>\n",
       "  <tbody>\n",
       "    <tr>\n",
       "      <th>p</th>\n",
       "      <td>0.0</td>\n",
       "      <td>0.0</td>\n",
       "      <td>0.0</td>\n",
       "      <td>0.0</td>\n",
       "    </tr>\n",
       "  </tbody>\n",
       "</table>\n",
       "</div>"
      ],
      "text/plain": [
       "   V1_V2  hipp  para_sim  peri_sim\n",
       "p    0.0   0.0       0.0       0.0"
      ]
     },
     "execution_count": 124,
     "metadata": {},
     "output_type": "execute_result"
    },
    {
     "data": {
      "image/png": "[encoded data removed]",
      "text/plain": [
       "<matplotlib.figure.Figure at 0x7f1930f1cb90>"
      ]
     },
     "metadata": {},
     "output_type": "display_data"
    }
   ],
   "source": [
    "regressor = 'identity'\n",
    "ax = sns.violinplot(x = 'mask',y= regressor,\n",
    "               data = shuffled_params, \n",
    "               color = 'green')\n",
    "sns.pointplot(x = 'mask',y = regressor,\n",
    "              data = fit_params,\n",
    "              color = 'orange',\n",
    "              join = False, ax = ax)\n",
    "sns.despine()\n",
    "plt.ylabel('Beta [Fisher(r)]')\n",
    "plt.xlabel('')\n",
    "plt.title(regressor)\n",
    "plt.savefig('/home/iballard/Dropbox/fd/figs/paper/permutation_' + regressor +'.png', \n",
    "            dpi = 300,\n",
    "           bbox_inches = 'tight')\n",
    "get_p_value(shuffled_params,fit_params,regressor,'>')"
   ]
  },
  {
   "cell_type": "code",
   "execution_count": 115,
   "metadata": {
    "collapsed": true
   },
   "outputs": [],
   "source": []
  },
  {
   "cell_type": "code",
   "execution_count": 523,
   "metadata": {},
   "outputs": [
    {
     "data": {
      "text/plain": [
       "0.016"
      ]
     },
     "execution_count": 523,
     "metadata": {},
     "output_type": "execute_result"
    }
   ],
   "source": [
    "regressor = 'overlap'\n",
    "other_mask = 'peri_sim'\n",
    "diff = fit_params_mean.set_index('mask').loc['hipp',regressor] -  fit_params_mean.set_index('mask').loc[other_mask,regressor]\n",
    "shuffled_differences = shuffled_params_mean.set_index('mask').loc['hipp',regressor].values - shuffled_params_mean.set_index('mask').loc[other_mask,regressor].values\n",
    "sum(diff > shuffled_differences)/1000.0"
   ]
  },
  {
   "cell_type": "code",
   "execution_count": null,
   "metadata": {
    "collapsed": true
   },
   "outputs": [],
   "source": []
  }
 ],
 "metadata": {
  "kernelspec": {
   "display_name": "Python 2",
   "language": "python",
   "name": "python2"
  },
  "language_info": {
   "codemirror_mode": {
    "name": "ipython",
    "version": 2
   },
   "file_extension": ".py",
   "mimetype": "text/x-python",
   "name": "python",
   "nbconvert_exporter": "python",
   "pygments_lexer": "ipython2",
   "version": "2.7.13"
  }
 },
 "nbformat": 4,
 "nbformat_minor": 1
}
