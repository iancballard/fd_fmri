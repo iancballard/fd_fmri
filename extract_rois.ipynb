{
 "cells": [
  {
   "cell_type": "code",
   "execution_count": 1,
   "metadata": {
    "collapsed": true
   },
   "outputs": [],
   "source": [
    "#os and i/o\n",
    "import os\n",
    "import numpy as np\n",
    "import glob\n",
    "from os.path import abspath\n",
    "import csv\n",
    "\n",
    "#scientific computing\n",
    "import matplotlib\n",
    "import matplotlib.pyplot as plt\n",
    "import pandas as pd\n",
    "from scipy import stats, optimize\n",
    "from pandas import DataFrame, Series\n",
    "import seaborn as sns\n",
    "import random as rd\n",
    "from statsmodels.formula.api import ols\n",
    "from statsmodels.stats.anova import anova_lm\n",
    "import scipy.stats\n",
    "\n",
    "#ipython add-ons\n",
    "from IPython.parallel import Client\n",
    "from IPython.display import Image\n",
    "import multiprocessing\n",
    "\n",
    "##nipype\n",
    "import nibabel as nib\n",
    "from nipype.pipeline.engine import Node, MapNode, Workflow\n",
    "from nipype.interfaces.io import DataGrabber, DataFinder, DataSink\n",
    "from nipype.interfaces import fsl\n",
    "from nipype.interfaces.fsl import ImageMeants\n",
    "from nipype.interfaces.fsl import ImageStats\n",
    "\n",
    "%matplotlib inline"
   ]
  },
  {
   "cell_type": "code",
   "execution_count": 2,
   "metadata": {
    "collapsed": false
   },
   "outputs": [],
   "source": [
    "#preliminary housekeeping\n",
    "home_dir = '/data/home/iballard/fd/'\n",
    "subj_file = home_dir + 'subjects.txt'\n",
    "sub_list = list(np.loadtxt(subj_file,'string'))\n",
    "os.chdir(home_dir)\n",
    "exps = ['sim','ser']\n",
    "rois = ['wm','ventricles']\n",
    "runs = map(str,range(1,4))"
   ]
  },
  {
   "cell_type": "markdown",
   "metadata": {},
   "source": [
    "#First extract ROIS from noise masks for use in GLM"
   ]
  },
  {
   "cell_type": "code",
   "execution_count": 3,
   "metadata": {
    "collapsed": false
   },
   "outputs": [],
   "source": [
    "def extract_roi(in_tuple):\n",
    "    sub,exp,run,mask = in_tuple\n",
    "    \n",
    "    sub_path = home_dir + 'analysis/' + exp + '_8mm/' + sub + '/preproc/run_' + \\\n",
    "    run + '/'\n",
    "\n",
    "    #make sure to get coregistered preproc data\n",
    "    preproc_data = home_dir + 'analysis/' + exp + '_8mm/' + sub + '/reg/epi/unsmoothed/run_' \\\n",
    "    + str(run) + '/timeseries_xfm.nii.gz'\n",
    "\n",
    "    mask_dir = home_dir + 'data/' + sub + '/masks/' \n",
    "    out_dir = mask_dir + 'extractions/'\n",
    "    \n",
    "    if not os.path.exists(out_dir):\n",
    "        os.mkdir(mask_dir)\n",
    "\n",
    "    mask_file = mask_dir + mask + '_' + exp  + '.nii.gz'\n",
    "    out_f = out_dir + ('').join(map(str,in_tuple))+ '.txt'\n",
    "\n",
    "    if os.path.exists(sub_path) and not os.path.exists(out_f):\n",
    "        meants = ImageMeants(in_file = preproc_data, eig = True, order = 1, \n",
    "                             mask = mask_file, out_file = out_f)\n",
    "        meants.run()"
   ]
  },
  {
   "cell_type": "code",
   "execution_count": 4,
   "metadata": {
    "collapsed": false
   },
   "outputs": [],
   "source": [
    "in_tuples = []\n",
    "for sub in sub_list:\n",
    "    for exp in exps:\n",
    "        for run in runs:\n",
    "            for mask in rois:\n",
    "                in_tuples.append((sub,exp,run,mask))"
   ]
  },
  {
   "cell_type": "code",
   "execution_count": 5,
   "metadata": {
    "collapsed": false,
    "scrolled": true
   },
   "outputs": [],
   "source": [
    "pool = multiprocessing.Pool(processes = 25)\n",
    "pool.map(extract_roi,in_tuples)\n",
    "pool.terminate()\n",
    "pool.join()"
   ]
  },
  {
   "cell_type": "code",
   "execution_count": 5,
   "metadata": {
    "collapsed": false,
    "scrolled": true
   },
   "outputs": [],
   "source": [
    "for sub in sub_list:\n",
    "    for exp in exps:\n",
    "        noise_rois = {'wm':[],'ventricles':[],'run':[]}\n",
    "        out_f = home_dir + 'data/' + sub + '/design/noise_regressors_' + exp + '.csv' #out file\n",
    "        \n",
    "        for run in runs:\n",
    "            for n,mask in enumerate(rois):\n",
    "                \n",
    "                in_tuple = (sub,exp,run,mask)\n",
    "                \n",
    "                ##paths\n",
    "                sub_path = home_dir + 'analysis/' + exp + '_8mm/' + sub + '/preproc/run_' + \\\n",
    "                run + '/'\n",
    "                out_dir = home_dir + 'data/' + sub + '/masks/extractions/' \n",
    "\n",
    "                #get data\n",
    "                if os.path.exists(sub_path):\n",
    "                    data_f = out_dir + ('').join(map(str,in_tuple))+ '.txt'\n",
    "                    data = np.loadtxt(data_f)\n",
    "                    noise_rois[mask].extend(data)\n",
    "                    if n > 0: #only add run once per iteration through all masks\n",
    "                        noise_rois['run'].extend([run]*len(data))\n",
    "        \n",
    "        noise_rois = pd.DataFrame(noise_rois)\n",
    "        \n",
    "        ##write output\n",
    "        noise_rois.to_csv(out_f, header=True,index = False, columns = ['wm','ventricles','run'])\n"
   ]
  },
  {
   "cell_type": "markdown",
   "metadata": {
    "collapsed": true
   },
   "source": [
    "#Next extract tsnr from lyman outputs"
   ]
  },
  {
   "cell_type": "code",
   "execution_count": 212,
   "metadata": {
    "collapsed": false
   },
   "outputs": [],
   "source": [
    "all_rois = {'ser':[\"lOFC_fill_ser\", \"mOFC_fill_ser\",\"V1_fill_ser\",\"cortex_fill_ser\"],\n",
    "            'sim':[\"lOFC_fill_sim\", \"mOFC_fill_sim\",\"V1_fill_sim\",\"cortex_fill_sim\"]}\n",
    "in_tuples = []\n",
    "for sub in sub_list:\n",
    "    for exp in exps:\n",
    "        for run in runs:\n",
    "            rois = all_rois[exp]\n",
    "            for mask in rois:\n",
    "                in_tuples.append((sub,exp,run,mask))"
   ]
  },
  {
   "cell_type": "code",
   "execution_count": 221,
   "metadata": {
    "collapsed": false
   },
   "outputs": [],
   "source": [
    "#extract tsnr of ROIs\n",
    "def extract_tsnr(in_tuple):\n",
    "    sub,exp,run,mask,ffx = in_tuple\n",
    "    tsnr = np.nan\n",
    "    \n",
    "    if ffx:        \n",
    "        tsnr_f = home_dir + 'analysis/' + exp + '_8mm-PEfb/' + sub + \\\n",
    "            '/ffx/epi/smoothed/tsnr.nii.gz'\n",
    "        if run != '1': #only run once (since fixed effects accross runs)\n",
    "            return (sub,exp,run,mask,tsnr) \n",
    "    else:\n",
    "        tsnr_f = home_dir + 'analysis/' + exp + '_8mm-PEfb/' + sub + \\\n",
    "            '/model/smoothed/run_' + str(run) + '/tsnr.nii.gz'\n",
    "\n",
    "    if os.path.exists(tsnr_f):\n",
    "        \n",
    "        mask_dir = home_dir + 'data/' + sub + '/masks/' \n",
    "        mask_file = mask_dir + mask + '.nii.gz'\n",
    "\n",
    "        stats = ImageStats(in_file = tsnr_f, op_string = '-k %s -M', mask_file = mask_file)\n",
    "        out = stats.run()\n",
    "        tsnr = out.outputs.out_stat\n",
    "    \n",
    "    return (sub,exp,run,mask,tsnr)"
   ]
  },
  {
   "cell_type": "code",
   "execution_count": 218,
   "metadata": {
    "collapsed": false
   },
   "outputs": [
    {
     "data": {
      "text/html": [
       "<div style=\"max-height:1000px;max-width:1500px;overflow:auto;\">\n",
       "<table border=\"1\" class=\"dataframe\">\n",
       "  <thead>\n",
       "    <tr style=\"text-align: right;\">\n",
       "      <th></th>\n",
       "      <th>lOFC</th>\n",
       "      <th>mOFC</th>\n",
       "      <th>V1</th>\n",
       "      <th>cortex</th>\n",
       "    </tr>\n",
       "  </thead>\n",
       "  <tbody>\n",
       "    <tr>\n",
       "      <th>mean</th>\n",
       "      <td>5947</td>\n",
       "      <td>4028</td>\n",
       "      <td>6385</td>\n",
       "      <td>152909</td>\n",
       "    </tr>\n",
       "    <tr>\n",
       "      <th>std</th>\n",
       "      <td>450</td>\n",
       "      <td>328</td>\n",
       "      <td>814</td>\n",
       "      <td>14915</td>\n",
       "    </tr>\n",
       "  </tbody>\n",
       "</table>\n",
       "</div>"
      ],
      "text/plain": [
       "      lOFC  mOFC    V1  cortex\n",
       "mean  5947  4028  6385  152909\n",
       "std    450   328   814   14915"
      ]
     },
     "execution_count": 218,
     "metadata": {},
     "output_type": "execute_result"
    }
   ],
   "source": [
    "def roi_sizes_simser():\n",
    "    roi_sizes = pd.DataFrame(columns=['lOFC','mOFC','V1'], index=sub_list, dtype=float)\n",
    "    mask_template = os.path.join(home_dir, \"data/%s/masks/%s.nii.gz\")\n",
    "    for exp in exps:\n",
    "        for subj in sub_list:\n",
    "            for roi in all_rois[exp]:\n",
    "                mask = home_dir + 'data/' + subj + '/masks/' + roi + '.nii.gz'\n",
    "                vox_count = nib.load(mask).get_data().sum()\n",
    "                roi_sizes.loc[subj,roi.split('_')[0]] = vox_count\n",
    "    return roi_sizes\n",
    "roi_sizes = roi_sizes_simser()\n",
    "roi_sizes.describe().loc[[\"mean\", \"std\"]].astype(int)"
   ]
  },
  {
   "cell_type": "code",
   "execution_count": 167,
   "metadata": {
    "collapsed": false
   },
   "outputs": [
    {
     "name": "stderr",
     "output_type": "stream",
     "text": [
      "/home/iballard/.local/lib/python2.7/site-packages/seaborn/categorical.py:1613: UserWarning: The boxplot API has been changed. Attempting to adjust your arguments for the new API (which might not work). Please update your code. See the version 0.6 release notes for more info.\n",
      "  warnings.warn(msg, UserWarning)\n"
     ]
    },
    {
     "data": {
      "text/plain": [
       "<matplotlib.axes._subplots.AxesSubplot at 0x7f02bdbbb650>"
      ]
     },
     "execution_count": 167,
     "metadata": {},
     "output_type": "execute_result"
    },
    {
     "data": {
      "image/png": "[encoded data removed]",
      "text/plain": [
       "<matplotlib.figure.Figure at 0x7f02bdc73390>"
      ]
     },
     "metadata": {},
     "output_type": "display_data"
    }
   ],
   "source": [
    "#check to see if any ROIs are drastically too small\n",
    "roi = 'mOFC'\n",
    "thresh = roi_sizes[roi].mean() - 2*roi_sizes[roi].std()\n",
    "roi_sizes[roi_sizes[roi] < thresh]\n",
    "sns.boxplot(roi_sizes)"
   ]
  },
  {
   "cell_type": "code",
   "execution_count": 227,
   "metadata": {
    "collapsed": false,
    "scrolled": true
   },
   "outputs": [],
   "source": [
    "ffx = False\n",
    "in_tuples = []\n",
    "for sub in sub_list:\n",
    "    for exp in exps:\n",
    "        for run in runs:\n",
    "            rois = all_rois[exp]\n",
    "            for mask in rois:\n",
    "                in_tuples.append((sub,exp,run,mask,ffx))\n",
    "\n",
    "# pool = multiprocessing.Pool(processes = 25)\n",
    "# out = pool.map(extract_tsnr,in_tuples)\n",
    "# pool.terminate()\n",
    "# pool.join()"
   ]
  },
  {
   "cell_type": "code",
   "execution_count": 228,
   "metadata": {
    "collapsed": false
   },
   "outputs": [],
   "source": [
    "tsnr_df = {'roi':[],'tsnr':[],'run':[],'sub':[],'exp':[]}\n",
    "for o in out:\n",
    "    sub,exp,run,mask,tsnr = o\n",
    "\n",
    "    if ffx:\n",
    "        out_f = 'tsnr_ffx.csv'\n",
    "        if run=='1':\n",
    "            tsnr_df['roi'].append(mask.split('_')[0])\n",
    "            tsnr_df['sub'].append(sub)\n",
    "            tsnr_df['run'].append(run)\n",
    "            tsnr_df['exp'].append(exp)\n",
    "            tsnr_df['tsnr'].append(tsnr)\n",
    "    else:\n",
    "        out_f = 'tsnr_runs.csv'\n",
    "\n",
    "        tsnr_df['roi'].append(mask.split('_')[0])\n",
    "        tsnr_df['sub'].append(sub)\n",
    "        tsnr_df['run'].append(run)\n",
    "        tsnr_df['exp'].append(exp)\n",
    "        tsnr_df['tsnr'].append(tsnr)\n",
    "tsnr_df = pd.DataFrame(tsnr_df)\n",
    "tsnr_df.to_csv(home_dir + '/' + out_f)"
   ]
  },
  {
   "cell_type": "code",
   "execution_count": 6,
   "metadata": {
    "collapsed": false
   },
   "outputs": [],
   "source": [
    "tsnr_df = pd.read_csv(home_dir + '/tsnr_ffx.csv')"
   ]
  },
  {
   "cell_type": "code",
   "execution_count": 229,
   "metadata": {
    "collapsed": false
   },
   "outputs": [
    {
     "data": {
      "text/plain": [
       "<matplotlib.axes._subplots.AxesSubplot at 0x7f02bd4d8f50>"
      ]
     },
     "execution_count": 229,
     "metadata": {},
     "output_type": "execute_result"
    },
    {
     "data": {
      "image/png": "[encoded data removed]",
      "text/plain": [
       "<matplotlib.figure.Figure at 0x7f02bd4d8990>"
      ]
     },
     "metadata": {},
     "output_type": "display_data"
    }
   ],
   "source": [
    "sns.violinplot(x='tsnr',y='roi',hue='exp',data=tsnr_df,split=True,inner = 'stick')"
   ]
  },
  {
   "cell_type": "code",
   "execution_count": 240,
   "metadata": {
    "collapsed": false
   },
   "outputs": [
    {
     "data": {
      "text/plain": [
       "<matplotlib.axes._subplots.AxesSubplot at 0x7f02a02db750>"
      ]
     },
     "execution_count": 240,
     "metadata": {},
     "output_type": "execute_result"
    },
    {
     "data": {
      "image/png": "[encoded data removed]",
      "text/plain": [
       "<matplotlib.figure.Figure at 0x7f02bd5b0990>"
      ]
     },
     "metadata": {},
     "output_type": "display_data"
    }
   ],
   "source": [
    "sns.violinplot(x='tsnr',y='roi',hue='exp',data=tsnr_df,split=True,inner = 'stick')"
   ]
  },
  {
   "cell_type": "code",
   "execution_count": 288,
   "metadata": {
    "collapsed": false,
    "scrolled": true
   },
   "outputs": [
    {
     "name": "stdout",
     "output_type": "stream",
     "text": [
      "     exp     roi run     sub        tsnr\n",
      "263  ser  cortex   3  fd_117  122.829293\n",
      "287  ser  cortex   3  fd_118  115.431145\n",
      "375  ser  cortex   1  fd_124  102.336310\n",
      "599  ser  cortex   3  fd_136  119.295840\n",
      "715  ser  cortex   2  fd_144  120.830062\n",
      "739  ser  cortex   2  fd_146  110.267971\n",
      "743  ser  cortex   3  fd_146   90.953050\n"
     ]
    }
   ],
   "source": [
    "#find dubious runs by looking for tsnr appreciably lower than V1\n",
    "# thresh = tsnr_df[tsnr_df['roi']=='V1']['tsnr'].mean() - \\\n",
    "#     2*tsnr_df[tsnr_df['roi']=='V1']['tsnr'].std()\n",
    "\n",
    "# low_tsnr = tsnr_df[tsnr_df['tsnr']<thresh]\n",
    "# low_tsnr = low_tsnr[low_tsnr['roi']!='V1'].sort(['exp','sub','run'])\n",
    "# low_tsnr = low_tsnr.drop(['tsnr','roi'],1)\n",
    "# low_tsnr = low_tsnr.drop_duplicates()\n",
    "# low_tsnr = low_tsnr.reset_index()\n",
    "# low_tsnr = low_tsnr.drop(['index'],1)\n",
    "# low_tsnr\n",
    "\n",
    "\n",
    "cortex = tsnr_df[tsnr_df['roi']=='cortex']\n",
    "# cortex = cortex[cortex['sub'] != 'fd_146']\n",
    "# cortex = cortex[cortex['sub'] != 'fd_143']\n",
    "iqr = cortex.quantile(.75) - cortex.quantile(.25)\n",
    "thresh =  cortex.quantile(.25) - 1 * iqr\n",
    "thresh = thresh.values[0]\n",
    "\n",
    "# thresh = cortex['tsnr'].mean() - 2*cortex['tsnr'].std()\n",
    "print cortex[cortex['tsnr'] < thresh]"
   ]
  },
  {
   "cell_type": "code",
   "execution_count": 205,
   "metadata": {
    "collapsed": false
   },
   "outputs": [
    {
     "data": {
      "text/html": [
       "<div style=\"max-height:1000px;max-width:1500px;overflow:auto;\">\n",
       "<table border=\"1\" class=\"dataframe\">\n",
       "  <thead>\n",
       "    <tr style=\"text-align: right;\">\n",
       "      <th></th>\n",
       "      <th>exp</th>\n",
       "      <th>roi</th>\n",
       "      <th>run</th>\n",
       "      <th>sub</th>\n",
       "      <th>tsnr</th>\n",
       "    </tr>\n",
       "  </thead>\n",
       "  <tbody>\n",
       "    <tr>\n",
       "      <th>175</th>\n",
       "      <td>sim</td>\n",
       "      <td>mOFC</td>\n",
       "      <td>1</td>\n",
       "      <td>fd_143</td>\n",
       "      <td>110.331159</td>\n",
       "    </tr>\n",
       "    <tr>\n",
       "      <th>178</th>\n",
       "      <td>ser</td>\n",
       "      <td>mOFC</td>\n",
       "      <td>1</td>\n",
       "      <td>fd_143</td>\n",
       "      <td>108.349422</td>\n",
       "    </tr>\n",
       "    <tr>\n",
       "      <th>191</th>\n",
       "      <td>ser</td>\n",
       "      <td>V1</td>\n",
       "      <td>1</td>\n",
       "      <td>fd_146</td>\n",
       "      <td>106.566963</td>\n",
       "    </tr>\n",
       "  </tbody>\n",
       "</table>\n",
       "</div>"
      ],
      "text/plain": [
       "     exp   roi run     sub        tsnr\n",
       "175  sim  mOFC   1  fd_143  110.331159\n",
       "178  ser  mOFC   1  fd_143  108.349422\n",
       "191  ser    V1   1  fd_146  106.566963"
      ]
     },
     "execution_count": 205,
     "metadata": {},
     "output_type": "execute_result"
    }
   ],
   "source": [
    "#find dubious runs by looking for tsnr appreciably lower than V1\n",
    "thresh = tsnr_df[tsnr_df['roi']=='V1']['tsnr'].mean() - \\\n",
    "    2.5*tsnr_df[tsnr_df['roi']=='V1']['tsnr'].std()\n",
    "\n",
    "low_tsnr = tsnr_df[tsnr_df['tsnr']<thresh]\n",
    "low_tsnr = low_tsnr.sort(['sub'])\n",
    "# low_tsnr = low_tsnr[low_tsnr['roi']!='V1'].sort(['exp','sub','run'])\n",
    "# low_tsnr = low_tsnr.drop(['tsnr','roi'],1)\n",
    "# low_tsnr = low_tsnr.drop_duplicates()\n",
    "# low_tsnr = low_tsnr.reset_index()\n",
    "# low_tsnr = low_tsnr.drop(['index'],1)\n",
    "low_tsnr"
   ]
  },
  {
   "cell_type": "code",
   "execution_count": 3,
   "metadata": {
    "collapsed": false
   },
   "outputs": [],
   "source": []
  },
  {
   "cell_type": "code",
   "execution_count": 4,
   "metadata": {
    "collapsed": false
   },
   "outputs": [
    {
     "name": "stdout",
     "output_type": "stream",
     "text": [
      "(34, 91, 109, 91)\n"
     ]
    }
   ],
   "source": []
  },
  {
   "cell_type": "code",
   "execution_count": null,
   "metadata": {
    "collapsed": false
   },
   "outputs": [],
   "source": []
  },
  {
   "cell_type": "code",
   "execution_count": null,
   "metadata": {
    "collapsed": false
   },
   "outputs": [],
   "source": []
  },
  {
   "cell_type": "code",
   "execution_count": null,
   "metadata": {
    "collapsed": false
   },
   "outputs": [],
   "source": []
  },
  {
   "cell_type": "code",
   "execution_count": 107,
   "metadata": {
    "collapsed": false
   },
   "outputs": [
    {
     "name": "stderr",
     "output_type": "stream",
     "text": [
      "INFO:workflow:['check', 'execution', 'logging']\n",
      "INFO:workflow:Running serially.\n",
      "INFO:workflow:Executing node model in dir: /data/home/iballard/fd/analysis/group_ser_sim/design/model\n",
      "INFO:workflow:Executing node sinker in dir: /data/home/iballard/fd/analysis/group_ser_sim/design/sinker\n"
     ]
    },
    {
     "data": {
      "text/plain": [
       "<networkx.classes.digraph.DiGraph at 0x7f02c5dfb710>"
      ]
     },
     "execution_count": 107,
     "metadata": {},
     "output_type": "execute_result"
    }
   ],
   "source": []
  },
  {
   "cell_type": "code",
   "execution_count": 109,
   "metadata": {
    "collapsed": false
   },
   "outputs": [],
   "source": []
  },
  {
   "cell_type": "code",
   "execution_count": 110,
   "metadata": {
    "collapsed": false
   },
   "outputs": [
    {
     "name": "stderr",
     "output_type": "stream",
     "text": [
      "/usr/lib/python2.7/dist-packages/nipype/interfaces/base.py:397: UserWarning: Input pthreshold requires inputs: dlh, volume\n",
      "  warn(msg)\n",
      "INFO:workflow:['check', 'execution', 'logging']\n",
      "INFO:workflow:Running serially.\n",
      "INFO:workflow:Executing node flameo in dir: /data/home/iballard/fd/analysis/group_ser_sim/flameo/flameo\n",
      "INFO:workflow:Running: flameo --copefile=/data/home/iballard/fd/analysis/group_ser_sim/PE_state/cope_merged.nii.gz --covsplitfile=/data/home/iballard/fd/analysis/group_ser_sim//design/sinker/output/design.grp --designfile=/data/home/iballard/fd/analysis/group_ser_sim//design/sinker/output/design.mat --dofvarcopefile=/data/home/iballard/fd/analysis/group_ser_sim/PE_state/dof_merged.nii.gz --ld=stats --maskfile=/data/home/iballard/fd//analysis/ser_8mm-PEfb/group/mni/PE_state/mask.nii.gz --runmode=flame1 --tcontrastsfile=/data/home/iballard/fd/analysis/group_ser_sim//design/sinker/output/design.con --varcopefile=/data/home/iballard/fd/analysis/group_ser_sim/PE_state/varcope_merged.nii.gz\n",
      "INFO:interface:stdout 2015-08-21T18:55:49.403800:Log directory is: stats\n",
      "INFO:interface:stdout 2015-08-21T18:55:49.405050:Setting up:\n",
      "INFO:interface:stdout 2015-08-21T18:55:52.832502:ntptsing=68.000000 \n",
      "INFO:interface:stdout 2015-08-21T18:55:52.832502:\n",
      "INFO:interface:stdout 2015-08-21T18:55:52.832502:evs_group=1.000000 \n",
      "INFO:interface:stdout 2015-08-21T18:55:52.832502:1.000000 \n",
      "INFO:interface:stdout 2015-08-21T18:55:52.832502:1.000000 \n",
      "INFO:interface:stdout 2015-08-21T18:55:52.832502:1.000000 \n",
      "INFO:interface:stdout 2015-08-21T18:55:52.832502:1.000000 \n",
      "INFO:interface:stdout 2015-08-21T18:55:52.832502:1.000000 \n",
      "INFO:interface:stdout 2015-08-21T18:55:52.832502:1.000000 \n",
      "INFO:interface:stdout 2015-08-21T18:55:52.832502:1.000000 \n",
      "INFO:interface:stdout 2015-08-21T18:55:52.832502:1.000000 \n",
      "INFO:interface:stdout 2015-08-21T18:55:52.832502:1.000000 \n",
      "INFO:interface:stdout 2015-08-21T18:55:52.832502:1.000000 \n",
      "INFO:interface:stdout 2015-08-21T18:55:52.832502:1.000000 \n",
      "INFO:interface:stdout 2015-08-21T18:55:52.832502:1.000000 \n",
      "INFO:interface:stdout 2015-08-21T18:55:52.832502:1.000000 \n",
      "INFO:interface:stdout 2015-08-21T18:55:52.832502:1.000000 \n",
      "INFO:interface:stdout 2015-08-21T18:55:52.832502:1.000000 \n",
      "INFO:interface:stdout 2015-08-21T18:55:52.832502:1.000000 \n",
      "INFO:interface:stdout 2015-08-21T18:55:52.832502:1.000000 \n",
      "INFO:interface:stdout 2015-08-21T18:55:52.832502:1.000000 \n",
      "INFO:interface:stdout 2015-08-21T18:55:52.832502:1.000000 \n",
      "INFO:interface:stdout 2015-08-21T18:55:52.832502:1.000000 \n",
      "INFO:interface:stdout 2015-08-21T18:55:52.832502:1.000000 \n",
      "INFO:interface:stdout 2015-08-21T18:55:52.832502:1.000000 \n",
      "INFO:interface:stdout 2015-08-21T18:55:52.832502:1.000000 \n",
      "INFO:interface:stdout 2015-08-21T18:55:52.832502:1.000000 \n",
      "INFO:interface:stdout 2015-08-21T18:55:52.832502:1.000000 \n",
      "INFO:interface:stdout 2015-08-21T18:55:52.832502:1.000000 \n",
      "INFO:interface:stdout 2015-08-21T18:55:52.832502:1.000000 \n",
      "INFO:interface:stdout 2015-08-21T18:55:52.832502:1.000000 \n",
      "INFO:interface:stdout 2015-08-21T18:55:52.832502:1.000000 \n",
      "INFO:interface:stdout 2015-08-21T18:55:52.832502:1.000000 \n",
      "INFO:interface:stdout 2015-08-21T18:55:52.832502:1.000000 \n",
      "INFO:interface:stdout 2015-08-21T18:55:52.832502:1.000000 \n",
      "INFO:interface:stdout 2015-08-21T18:55:52.832502:1.000000 \n",
      "INFO:interface:stdout 2015-08-21T18:55:52.832502:1.000000 \n",
      "INFO:interface:stdout 2015-08-21T18:55:52.832502:\n",
      "INFO:interface:stdout 2015-08-21T18:55:52.848225:No f contrasts\n",
      "INFO:interface:stdout 2015-08-21T18:55:53.192858:\n",
      "INFO:interface:stdout 2015-08-21T18:55:53.192858:WARNING: The passed in varcope file, /data/home/iballard/fd/analysis/group_ser_sim/PE_state/varcope_merged.nii.gz, contains voxels inside the mask with zero (or negative) values. These voxels will be excluded from the analysis.\n",
      "INFO:interface:stdout 2015-08-21T18:55:53.203157:nevs=35\n",
      "INFO:interface:stdout 2015-08-21T18:55:53.203157:ntpts=68\n",
      "INFO:interface:stdout 2015-08-21T18:55:53.203157:ngs=1\n",
      "INFO:interface:stdout 2015-08-21T18:55:53.203157:nvoxels=148382\n",
      "INFO:interface:stdout 2015-08-21T18:55:55.853265:Running:\n",
      "INFO:interface:stdout 2015-08-21T18:55:55.853265:nmaskvoxels=148382\n",
      "INFO:interface:stdout 2015-08-21T19:14:20.283926: 1 2 3 4 5 6 7 8 9 10 11 12 13 14 15 16 17 18 19 20 21 22 23 24 25 26 27 28 29 30 31 32 33 34 35 36 37 38 39 40 41 42 43 44 45 46 47 48 49 50 51 52 53 54 55 56 57 58 59 60 61 62 63 64 65 66 67 68 69 70 71 72 73 74 75 76 77 78 79 80 81 82 83 84 85 86 87 88 89 90 91 92 93 94 95 96 97 98 99 100\n",
      "INFO:interface:stdout 2015-08-21T19:14:20.293439:nmaskvoxels=148382\n",
      "INFO:interface:stdout 2015-08-21T19:14:20.293439:Saving results\n",
      "INFO:interface:stdout 2015-08-21T19:14:32.051921:\n",
      "INFO:interface:stdout 2015-08-21T19:14:32.051921:Log directory was: stats\n",
      "INFO:workflow:Executing node smoothest in dir: /data/home/iballard/fd/analysis/group_ser_sim/flameo/smoothest\n",
      "INFO:workflow:Running: smoothest --mask=/data/home/iballard/fd//analysis/ser_8mm-PEfb/group/mni/PE_state/mask.nii.gz --zstat=/data/home/iballard/fd/analysis/group_ser_sim/flameo/flameo/stats/zstat1.nii.gz\n",
      "INFO:interface:stdout 2015-08-21T19:14:32.675729:DLH 0.0319871\n",
      "INFO:interface:stdout 2015-08-21T19:14:32.675729:VOLUME 149368\n",
      "INFO:interface:stdout 2015-08-21T19:14:32.675729:RESELS 144.329\n",
      "INFO:workflow:Executing node cluster in dir: /data/home/iballard/fd/analysis/group_ser_sim/flameo/cluster\n",
      "INFO:workflow:Running: cluster --dlh=0.0319871000 --in=/data/home/iballard/fd/analysis/group_ser_sim/flameo/flameo/stats/zstat1.nii.gz --oindex=/data/home/iballard/fd/analysis/group_ser_sim/flameo/cluster/zstat1_index.nii.gz --olmax=/data/home/iballard/fd/analysis/group_ser_sim/flameo/cluster/zstat1_localmax.txt --othresh=/data/home/iballard/fd/analysis/group_ser_sim/flameo/cluster/zstat1_threshold.nii.gz --peakdist=30.0000000000 --pthresh=0.0500000000 --thresh=2.3000000000 --volume=149368\n",
      "INFO:interface:stdout 2015-08-21T19:14:32.881705:Cluster Index\tVoxels\tP\t-log10(P)\tMAX\tMAX X (vox)\tMAX Y (vox)\tMAX Z (vox)\tCOG X (vox)\tCOG Y (vox)\tCOG Z (vox)\n",
      "INFO:workflow:Executing node sinker in dir: /data/home/iballard/fd/analysis/group_ser_sim/flameo/sinker\n"
     ]
    },
    {
     "data": {
      "text/plain": [
       "<networkx.classes.digraph.DiGraph at 0x7f02c45be110>"
      ]
     },
     "execution_count": 110,
     "metadata": {},
     "output_type": "execute_result"
    }
   ],
   "source": []
  },
  {
   "cell_type": "code",
   "execution_count": 105,
   "metadata": {
    "collapsed": false
   },
   "outputs": [
    {
     "name": "stderr",
     "output_type": "stream",
     "text": [
      "INFO:workflow:Converting dotfile: /data/home/iballard/fd/analysis/group_ser_sim/flameo/workflow_graph.dot to png format\n"
     ]
    },
    {
     "data": {
      "image/png": "[encoded data removed]",
      "text/plain": [
       "<IPython.core.display.Image object>"
      ]
     },
     "execution_count": 105,
     "metadata": {},
     "output_type": "execute_result"
    }
   ],
   "source": []
  },
  {
   "cell_type": "code",
   "execution_count": null,
   "metadata": {
    "collapsed": true
   },
   "outputs": [],
   "source": []
  },
  {
   "cell_type": "code",
   "execution_count": null,
   "metadata": {
    "collapsed": true
   },
   "outputs": [],
   "source": []
  }
 ],
 "metadata": {
  "kernelspec": {
   "display_name": "Python 2",
   "language": "python",
   "name": "python2"
  },
  "language_info": {
   "codemirror_mode": {
    "name": "ipython",
    "version": 2
   },
   "file_extension": ".py",
   "mimetype": "text/x-python",
   "name": "python",
   "nbconvert_exporter": "python",
   "pygments_lexer": "ipython2",
   "version": "2.7.6"
  }
 },
 "nbformat": 4,
 "nbformat_minor": 0
}
