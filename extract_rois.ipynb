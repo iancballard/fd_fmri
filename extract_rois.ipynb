{
 "cells": [
  {
   "cell_type": "code",
   "execution_count": 2,
   "metadata": {
    "collapsed": true
   },
   "outputs": [],
   "source": [
    "#os and i/o\n",
    "import os\n",
    "import numpy as np\n",
    "import glob\n",
    "from os.path import abspath\n",
    "import csv\n",
    "\n",
    "#scientific computing\n",
    "import matplotlib\n",
    "import matplotlib.pyplot as plt\n",
    "import pandas as pd\n",
    "from scipy import stats, optimize\n",
    "from pandas import DataFrame, Series\n",
    "import seaborn as sns\n",
    "import random as rd\n",
    "from statsmodels.formula.api import ols\n",
    "from statsmodels.stats.anova import anova_lm\n",
    "import scipy.stats\n",
    "\n",
    "#ipython add-ons\n",
    "from IPython.parallel import Client\n",
    "from IPython.display import Image\n",
    "import multiprocessing\n",
    "\n",
    "##nipype\n",
    "import nibabel as nib\n",
    "from nipype.pipeline.engine import Node, MapNode, Workflow\n",
    "from nipype.interfaces.io import DataGrabber, DataFinder, DataSink\n",
    "from nipype.interfaces import fsl\n",
    "from nipype.interfaces.fsl import ImageMeants\n",
    "\n",
    "%matplotlib inline"
   ]
  },
  {
   "cell_type": "code",
   "execution_count": 3,
   "metadata": {
    "collapsed": false
   },
   "outputs": [],
   "source": [
    "#preliminary housekeeping\n",
    "home_dir = '/data/home/iballard/fd/'\n",
    "subj_file = home_dir + 'subjects.txt'\n",
    "sub_list = list(np.loadtxt(subj_file,'string'))\n",
    "os.chdir(home_dir)\n",
    "exps = ['sim','ser']\n",
    "rois = ['wm','ventricles']\n",
    "runs = map(str,range(1,4))"
   ]
  },
  {
   "cell_type": "code",
   "execution_count": 7,
   "metadata": {
    "collapsed": false
   },
   "outputs": [],
   "source": [
    "def extract_roi(in_tuple):\n",
    "    sub,exp,run,mask = in_tuple\n",
    "    \n",
    "    sub_path = home_dir + 'analysis/' + exp + '_8mm/' + sub + '/preproc/run_' + \\\n",
    "    run + '/'\n",
    "\n",
    "    preproc_data = sub_path + 'unsmoothed_timeseries.nii.gz'\n",
    "    mask_dir = home_dir + 'data/' + sub + '/masks/' \n",
    "    mask_file = mask_dir + mask + '_' + exp  + '.nii.gz'\n",
    "    out_f = mask_dir + ('').join(map(str,in_tuple))+ '.txt'\n",
    "\n",
    "    if os.path.exists(sub_path):\n",
    "        meants = ImageMeants(in_file = preproc_data, eig = True, order = 1, \n",
    "                             mask = mask_file, out_file = out_f)\n",
    "        meants.run()"
   ]
  },
  {
   "cell_type": "code",
   "execution_count": 5,
   "metadata": {
    "collapsed": false
   },
   "outputs": [
    {
     "name": "stdout",
     "output_type": "stream",
     "text": [
      "[('fd_127', 'sim', '1', 'wm'), ('fd_127', 'sim', '1', 'ventricles'), ('fd_127', 'sim', '2', 'wm'), ('fd_127', 'sim', '2', 'ventricles'), ('fd_127', 'sim', '3', 'wm'), ('fd_127', 'sim', '3', 'ventricles'), ('fd_127', 'ser', '1', 'wm'), ('fd_127', 'ser', '1', 'ventricles'), ('fd_127', 'ser', '2', 'wm'), ('fd_127', 'ser', '2', 'ventricles'), ('fd_127', 'ser', '3', 'wm'), ('fd_127', 'ser', '3', 'ventricles')]\n"
     ]
    }
   ],
   "source": [
    "in_tuples = []\n",
    "for sub in sub_list:\n",
    "    if sub == 'fd_127':\n",
    "        for exp in exps:\n",
    "            for run in runs:\n",
    "                for mask in rois:\n",
    "                    in_tuples.append((sub,exp,run,mask))  \n",
    "print in_tuples"
   ]
  },
  {
   "cell_type": "code",
   "execution_count": 9,
   "metadata": {
    "collapsed": false,
    "scrolled": true
   },
   "outputs": [
    {
     "name": "stderr",
     "output_type": "stream",
     "text": [
      "INFO:interface:stderr 2015-07-04T23:27:38.686581:terminate called after throwing an instance of 'NEWMAT::ConvergenceException'\n",
      "INFO:interface:stderr 2015-07-04T23:27:40.735172:terminate called after throwing an instance of 'NEWMAT::ConvergenceException'\n",
      "INFO:interface:stderr 2015-07-04T23:27:41.785538:terminate called after throwing an instance of 'NEWMAT::ConvergenceException'\n",
      "INFO:interface:stderr 2015-07-04T23:27:38.863708:Aborted (core dumped)\n",
      "INFO:interface:stderr 2015-07-04T23:27:40.961943:Aborted (core dumped)\n",
      "INFO:interface:stderr 2015-07-04T23:27:42.017368:Aborted (core dumped)\n"
     ]
    },
    {
     "data": {
      "text/plain": [
       "[None, None, None, None, None, None, None, None, None, None, None, None]"
      ]
     },
     "execution_count": 9,
     "metadata": {},
     "output_type": "execute_result"
    }
   ],
   "source": [
    "pool = multiprocessing.Pool(processes = 25)\n",
    "pool.map(extract_roi,in_tuples)"
   ]
  },
  {
   "cell_type": "code",
   "execution_count": 10,
   "metadata": {
    "collapsed": false,
    "scrolled": true
   },
   "outputs": [],
   "source": [
    "for sub in sub_list:\n",
    "    for exp in exps:\n",
    "        \n",
    "        noise_rois = {'wm':[],'ventricles':[],'run':[]}\n",
    "        out_f = home_dir + 'data/' + sub + '/design/noise_regressors.csv' #out file\n",
    "        \n",
    "        for run in runs:\n",
    "            for n,mask in enumerate(rois):\n",
    "                \n",
    "                in_tuple = (sub,exp,run,mask)\n",
    "                \n",
    "                ##paths\n",
    "                sub_path = home_dir + 'analysis/' + exp + '_8mm/' + sub + '/preproc/run_' + \\\n",
    "                run + '/'\n",
    "                mask_dir = home_dir + 'data/' + sub + '/masks/' \n",
    "\n",
    "                #get data\n",
    "                if os.path.exists(sub_path):\n",
    "                    data_f = mask_dir + ('').join(map(str,in_tuple))+ '.txt'\n",
    "                    data = np.loadtxt(data_f)\n",
    "                    noise_rois[mask].extend(data)\n",
    "                    if n > 0: #only add run once per iteration through all masks\n",
    "                        noise_rois['run'].extend([run]*len(data))\n",
    "        \n",
    "        noise_rois = pd.DataFrame(noise_rois)\n",
    "        \n",
    "        ##write output\n",
    "        noise_rois.to_csv(out_f, header=True,index = False, columns = ['wm','ventricles','run'])\n"
   ]
  },
  {
   "cell_type": "code",
   "execution_count": null,
   "metadata": {
    "collapsed": true
   },
   "outputs": [],
   "source": []
  }
 ],
 "metadata": {
  "kernelspec": {
   "display_name": "Python 2",
   "language": "python",
   "name": "python2"
  },
  "language_info": {
   "codemirror_mode": {
    "name": "ipython",
    "version": 2
   },
   "file_extension": ".py",
   "mimetype": "text/x-python",
   "name": "python",
   "nbconvert_exporter": "python",
   "pygments_lexer": "ipython2",
   "version": "2.7.6"
  }
 },
 "nbformat": 4,
 "nbformat_minor": 0
}
