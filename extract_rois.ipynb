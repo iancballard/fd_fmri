{
 "cells": [
  {
   "cell_type": "code",
   "execution_count": 1,
   "metadata": {
    "collapsed": true
   },
   "outputs": [],
   "source": [
    "#os and i/o\n",
    "import os\n",
    "import numpy as np\n",
    "import glob\n",
    "from os.path import abspath\n",
    "import csv\n",
    "\n",
    "#scientific computing\n",
    "import matplotlib\n",
    "import matplotlib.pyplot as plt\n",
    "import pandas as pd\n",
    "from scipy import stats, optimize\n",
    "from pandas import DataFrame, Series\n",
    "import seaborn as sns\n",
    "import random as rd\n",
    "from statsmodels.formula.api import ols\n",
    "from statsmodels.stats.anova import anova_lm\n",
    "import scipy.stats\n",
    "\n",
    "#ipython add-ons\n",
    "from IPython.parallel import Client\n",
    "from IPython.display import Image\n",
    "import multiprocessing\n",
    "\n",
    "##nipype\n",
    "import nibabel as nib\n",
    "from nipype.pipeline.engine import Node, MapNode, Workflow\n",
    "from nipype.interfaces.io import DataGrabber, DataFinder, DataSink\n",
    "from nipype.interfaces import fsl\n",
    "from nipype.interfaces.fsl import ImageMeants\n",
    "from nipype.interfaces.fsl import ImageStats\n",
    "\n",
    "%matplotlib inline"
   ]
  },
  {
   "cell_type": "code",
   "execution_count": 2,
   "metadata": {
    "collapsed": false
   },
   "outputs": [],
   "source": [
    "#preliminary housekeeping\n",
    "home_dir = '/data/home/iballard/fd/'\n",
    "subj_file = home_dir + 'subjects.txt'\n",
    "sub_list = list(np.loadtxt(subj_file,'string'))\n",
    "os.chdir(home_dir)\n",
    "exps = ['sim','ser']\n",
    "rois = ['wm','ventricles']\n",
    "runs = map(str,range(1,4))"
   ]
  },
  {
   "cell_type": "markdown",
   "metadata": {},
   "source": [
    "#First extract ROIS from noise masks for use in GLM"
   ]
  },
  {
   "cell_type": "code",
   "execution_count": 3,
   "metadata": {
    "collapsed": false
   },
   "outputs": [],
   "source": [
    "def extract_roi(in_tuple):\n",
    "    sub,exp,run,mask = in_tuple\n",
    "    \n",
    "    sub_path = home_dir + 'analysis/' + exp + '_8mm/' + sub + '/preproc/run_' + \\\n",
    "    run + '/'\n",
    "\n",
    "    #make sure to get coregistered preproc data\n",
    "    preproc_data = home_dir + 'analysis/' + exp + '_8mm/' + sub + '/reg/epi/unsmoothed/run_' \\\n",
    "    + str(run) + '/timeseries_xfm.nii.gz'\n",
    "\n",
    "    mask_dir = home_dir + 'data/' + sub + '/masks/' \n",
    "    out_dir = mask_dir + 'extractions/'\n",
    "    \n",
    "    if not os.path.exists(out_dir):\n",
    "        os.mkdir(mask_dir)\n",
    "\n",
    "    mask_file = mask_dir + mask + '_' + exp  + '.nii.gz'\n",
    "    out_f = out_dir + ('').join(map(str,in_tuple))+ '.txt'\n",
    "\n",
    "    if os.path.exists(sub_path) and not os.path.exists(out_f):\n",
    "        meants = ImageMeants(in_file = preproc_data, eig = True, order = 1, \n",
    "                             mask = mask_file, out_file = out_f)\n",
    "        meants.run()"
   ]
  },
  {
   "cell_type": "code",
   "execution_count": 4,
   "metadata": {
    "collapsed": false
   },
   "outputs": [],
   "source": [
    "in_tuples = []\n",
    "for sub in sub_list:\n",
    "    for exp in exps:\n",
    "        for run in runs:\n",
    "            for mask in rois:\n",
    "                in_tuples.append((sub,exp,run,mask))"
   ]
  },
  {
   "cell_type": "code",
   "execution_count": 5,
   "metadata": {
    "collapsed": false,
    "scrolled": true
   },
   "outputs": [],
   "source": [
    "pool = multiprocessing.Pool(processes = 25)\n",
    "pool.map(extract_roi,in_tuples)\n",
    "pool.terminate()\n",
    "pool.join()"
   ]
  },
  {
   "cell_type": "code",
   "execution_count": 5,
   "metadata": {
    "collapsed": false,
    "scrolled": true
   },
   "outputs": [],
   "source": [
    "for sub in sub_list:\n",
    "    for exp in exps:\n",
    "        noise_rois = {'wm':[],'ventricles':[],'run':[]}\n",
    "        out_f = home_dir + 'data/' + sub + '/design/noise_regressors_' + exp + '.csv' #out file\n",
    "        \n",
    "        for run in runs:\n",
    "            for n,mask in enumerate(rois):\n",
    "                \n",
    "                in_tuple = (sub,exp,run,mask)\n",
    "                \n",
    "                ##paths\n",
    "                sub_path = home_dir + 'analysis/' + exp + '_8mm/' + sub + '/preproc/run_' + \\\n",
    "                run + '/'\n",
    "                out_dir = home_dir + 'data/' + sub + '/masks/extractions/' \n",
    "\n",
    "                #get data\n",
    "                if os.path.exists(sub_path):\n",
    "                    data_f = out_dir + ('').join(map(str,in_tuple))+ '.txt'\n",
    "                    data = np.loadtxt(data_f)\n",
    "                    noise_rois[mask].extend(data)\n",
    "                    if n > 0: #only add run once per iteration through all masks\n",
    "                        noise_rois['run'].extend([run]*len(data))\n",
    "        \n",
    "        noise_rois = pd.DataFrame(noise_rois)\n",
    "        \n",
    "        ##write output\n",
    "        noise_rois.to_csv(out_f, header=True,index = False, columns = ['wm','ventricles','run'])\n"
   ]
  },
  {
   "cell_type": "markdown",
   "metadata": {
    "collapsed": true
   },
   "source": [
    "#Next extract tsnr from lyman outputs"
   ]
  },
  {
   "cell_type": "code",
   "execution_count": 3,
   "metadata": {
    "collapsed": false
   },
   "outputs": [],
   "source": [
    "all_rois = {'ser':[\"lOFC_fill_ser\", \"mOFC_fill_ser\",\"V1_fill_ser\"],\n",
    "            'sim':[\"lOFC_fill_sim\", \"mOFC_fill_sim\",\"V1_fill_sim\"]}\n",
    "in_tuples = []\n",
    "for sub in sub_list:\n",
    "    for exp in exps:\n",
    "        for run in runs:\n",
    "            rois = all_rois[exp]\n",
    "            for mask in rois:\n",
    "                in_tuples.append((sub,exp,run,mask))"
   ]
  },
  {
   "cell_type": "code",
   "execution_count": 14,
   "metadata": {
    "collapsed": false
   },
   "outputs": [],
   "source": [
    "#extract tsnr of ROIs\n",
    "def extract_tsnr(in_tuple):\n",
    "    sub,exp,run,mask = in_tuple\n",
    "    tsnr = np.nan\n",
    "    tsnr_f = home_dir + 'analysis/' + exp + '_8mm-PEfb/' + sub + \\\n",
    "        '/model/smoothed/run_' + str(run) + '/tsnr.nii.gz'\n",
    "        \n",
    "    if os.path.exists(tsnr_f):\n",
    "        \n",
    "        mask_dir = home_dir + 'data/' + sub + '/masks/' \n",
    "        mask_file = mask_dir + mask + '.nii.gz'\n",
    "\n",
    "        stats = ImageStats(in_file = tsnr_f, op_string = '-k %s -M', mask_file = mask_file)\n",
    "        out = stats.run()\n",
    "        tsnr = out.outputs.out_stat\n",
    "    \n",
    "    return (sub,exp,run,mask,tsnr)"
   ]
  },
  {
   "cell_type": "code",
   "execution_count": 27,
   "metadata": {
    "collapsed": false,
    "scrolled": true
   },
   "outputs": [],
   "source": [
    "pool = multiprocessing.Pool(processes = 25)\n",
    "out = pool.map(extract_tsnr,in_tuples)\n",
    "pool.terminate()\n",
    "pool.join()"
   ]
  },
  {
   "cell_type": "code",
   "execution_count": 25,
   "metadata": {
    "collapsed": false
   },
   "outputs": [],
   "source": [
    "tsnr_df = {'roi':[],'tsnr':[],'run':[],'sub':[],'exp':[]}\n",
    "for o in out:\n",
    "    sub,exp,run,mask,tsnr = o\n",
    "\n",
    "    tsnr_df['roi'].append(mask.split('_')[0])\n",
    "    tsnr_df['sub'].append(sub)\n",
    "    tsnr_df['run'].append(run)\n",
    "    tsnr_df['exp'].append(exp)\n",
    "    tsnr_df['tsnr'].append(tsnr)\n",
    "tsnr_df = pd.DataFrame(tsnr_df)"
   ]
  },
  {
   "cell_type": "code",
   "execution_count": 30,
   "metadata": {
    "collapsed": false
   },
   "outputs": [
    {
     "name": "stdout",
     "output_type": "stream",
     "text": [
      "<pandas.core.groupby.DataFrameGroupBy object at 0x7fbef83481d0>\n"
     ]
    }
   ],
   "source": [
    " tsnr_df.groupby(['roi'])\n"
   ]
  },
  {
   "cell_type": "code",
   "execution_count": 52,
   "metadata": {
    "collapsed": false
   },
   "outputs": [
    {
     "data": {
      "text/plain": [
       "<matplotlib.axes._subplots.AxesSubplot at 0x7fbee9b8d2d0>"
      ]
     },
     "execution_count": 52,
     "metadata": {},
     "output_type": "execute_result"
    },
    {
     "data": {
      "image/png": "[encoded data removed]",
      "text/plain": [
       "<matplotlib.figure.Figure at 0x7fbee9f2cb10>"
      ]
     },
     "metadata": {},
     "output_type": "display_data"
    }
   ],
   "source": [
    "sns.violinplot(x='tsnr',y='roi',hue='exp',data=tsnr_df,split=True,inner = 'stick')"
   ]
  },
  {
   "cell_type": "code",
   "execution_count": null,
   "metadata": {
    "collapsed": true
   },
   "outputs": [],
   "source": []
  },
  {
   "cell_type": "code",
   "execution_count": null,
   "metadata": {
    "collapsed": true
   },
   "outputs": [],
   "source": []
  }
 ],
 "metadata": {
  "kernelspec": {
   "display_name": "Python 2",
   "language": "python",
   "name": "python2"
  },
  "language_info": {
   "codemirror_mode": {
    "name": "ipython",
    "version": 2
   },
   "file_extension": ".py",
   "mimetype": "text/x-python",
   "name": "python",
   "nbconvert_exporter": "python",
   "pygments_lexer": "ipython2",
   "version": "2.7.6"
  }
 },
 "nbformat": 4,
 "nbformat_minor": 0
}
