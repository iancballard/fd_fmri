{
 "cells": [
  {
   "cell_type": "code",
   "execution_count": 1,
   "metadata": {
    "collapsed": false
   },
   "outputs": [],
   "source": [
    "#os and i/o\n",
    "import os\n",
    "import numpy as np\n",
    "import glob\n",
    "from os.path import abspath\n",
    "import csv\n",
    "import shutil\n",
    "\n",
    "#scientific computing\n",
    "import matplotlib\n",
    "import matplotlib.pyplot as plt\n",
    "import pandas as pd\n",
    "from scipy import stats, optimize\n",
    "from pandas import DataFrame, Series\n",
    "import seaborn as sns\n",
    "import random as rd\n",
    "from statsmodels.formula.api import ols\n",
    "from statsmodels.stats.anova import anova_lm\n",
    "import scipy.stats\n",
    "\n",
    "#ipython add-ons\n",
    "from IPython.parallel import Client\n",
    "from IPython.display import Image\n",
    "import multiprocessing\n",
    "\n",
    "##nipype\n",
    "import nibabel as nib\n",
    "from nipype.pipeline.engine import Node, MapNode, Workflow\n",
    "from nipype.interfaces.io import DataGrabber, DataFinder, DataSink\n",
    "from nipype.interfaces import fsl\n",
    "from nipype.interfaces.fsl import BET\n",
    "from nipype.interfaces.freesurfer.preprocess import ReconAll\n",
    "from nipype.interfaces.freesurfer.utils import MakeAverageSubject\n",
    "from nipype.interfaces.fsl import ExtractROI\n",
    "from nipype.interfaces.fsl import Merge\n",
    "from nipype.interfaces.fsl import TOPUP\n",
    "from nipype.interfaces.fsl import ApplyTOPUP\n",
    "from nipype.interfaces.fsl import ImageMeants\n",
    "from nipype.interfaces.fsl import ImageStats\n",
    "from nipype.workflows.fmri.fsl import create_susan_smooth\n",
    "from nipype.algorithms.misc import TSNR\n",
    "from nipype.algorithms.misc import AddCSVColumn\n",
    "from nipype.algorithms.misc import AddCSVRow\n",
    "\n",
    "%matplotlib inline"
   ]
  },
  {
   "cell_type": "code",
   "execution_count": 2,
   "metadata": {
    "collapsed": true
   },
   "outputs": [],
   "source": [
    "#preliminary housekeeping\n",
    "home_dir = '/data/home/iballard/fd/'\n",
    "subj_file = home_dir + 'subjects.txt'\n",
    "sub_list = list(np.loadtxt(subj_file,'string'))\n",
    "os.chdir(home_dir)\n",
    "runs = map(str,range(1,4))\n",
    "exps = ['ser','sim']\n",
    "rois = ['mOFC_fill','lOFC_fill']"
   ]
  },
  {
   "cell_type": "code",
   "execution_count": 170,
   "metadata": {
    "collapsed": false
   },
   "outputs": [],
   "source": [
    "def extract_mean_tsnr(in_tuple):\n",
    "    sub,exp,run = in_tuple\n",
    "\n",
    "    sub_path = home_dir + 'analysis/' + exp + '_8mm/' + sub + '/preproc/run_' + run + '/'\n",
    "    mask_dir = home_dir + 'data/' + sub + '/masks/'\n",
    "    data_path = home_dir + '/data/' + sub + '/func/' + exp + '/run_' + run +  '_fc_crop.nii.gz'\n",
    "\n",
    "    if os.path.exists(sub_path):\n",
    "        wf = Workflow(name = 'tsnr')\n",
    "        wf.basedir = abspath('fd/data/')\n",
    "\n",
    "        ##set up tsnr calculation\n",
    "#         preproc_data = sub_path + 'unsmoothed_timeseries.nii.gz'\n",
    "        tsnr = Node(TSNR(in_file = data_path),name='tsnr')   \n",
    "\n",
    "        ##set up ROI calculation\n",
    "\n",
    "        for mask in rois:\n",
    "#             out_dir = mask_dir + 'OFC/'\n",
    "#             if not os.path.exists(out_dir):\n",
    "#                 os.mkdir(out_dir)\n",
    "            out_tuple = (sub,exp,run,mask)\n",
    "            out_tuple = ('_').join(map(str,out_tuple))\n",
    "#             out_f = out_dir + ('').join(map(str,out_tuple))+ '.txt'\n",
    "\n",
    "            mask_file = mask_dir + mask + '_' + exp  + '.nii.gz'\n",
    "            \n",
    "#             meants = Node(ImageMeants(eig = True, order = 1, \n",
    "#                      mask = mask_file, out_file = out_f),name='meants' + mask)\n",
    "#             wf.connect(tsnr,\"tsnr_file\" ,meants,\"in_file\")\n",
    "            stats = Node(ImageStats(mask_file = mask_file,\n",
    "                                    op_string ='-k %s -M'),name='stats' + mask)\n",
    "            wf.connect(tsnr,\"tsnr_file\" ,stats,\"in_file\")\n",
    "\n",
    "        ##set up Data Sink\n",
    "#             sinker = Node(DataSink(), name = 'sinker' + mask)\n",
    "#             sinker.inputs.base_directory = abspath('tsnr')\n",
    "#             wf.connect(stats,\"out_stat\",sinker,'tsnr.@par')\n",
    "            csv_file= abspath('analysis/OFC_stats.csv')      \n",
    "            addrow = Node(AddCSVRow(in_file = csv_file),\n",
    "                          name = 'addcol' + mask)\n",
    "            addrow.inputs.sub = sub\n",
    "            addrow.inputs.run = run\n",
    "            addrow.inputs.exp = exp\n",
    "            \n",
    "            wf.connect(stats,\"out_stat\",addrow,'tsnr')\n",
    "\n",
    "#         #visualize workflow\n",
    "        wf.write_graph('workflow_graph.dot')\n",
    "        Image(filename = 'workflow_graph.dot.png' ) \n",
    "\n",
    "        wf.run()"
   ]
  },
  {
   "cell_type": "code",
   "execution_count": 171,
   "metadata": {
    "collapsed": false,
    "scrolled": false
   },
   "outputs": [
    {
     "name": "stderr",
     "output_type": "stream",
     "text": [
      "INFO:workflow:Converting dotfile: /data/home/iballard/fd/workflow_graph.dot to png format\n",
      "INFO:workflow:['check', 'execution', 'logging']\n",
      "INFO:workflow:Running serially.\n",
      "INFO:workflow:Executing node tsnr in dir: /tmp/tmpP53mw2/tsnr/tsnr\n",
      "INFO:workflow:Executing node statslOFC_fill in dir: /tmp/tmp4HLPut/tsnr/statslOFC_fill\n",
      "INFO:workflow:Running: fslstats /tmp/tmpP53mw2/tsnr/tsnr/run_1_fc_crop_tsnr.nii.gz -k /data/home/iballard/fd/data/fd_104/masks/lOFC_fill_ser.nii.gz -M \n",
      "INFO:interface:stdout 2015-07-07T14:52:52.169633:13.568572 \n",
      "INFO:workflow:Executing node statsmOFC_fill in dir: /tmp/tmpifAqP5/tsnr/statsmOFC_fill\n",
      "INFO:workflow:Running: fslstats /tmp/tmpP53mw2/tsnr/tsnr/run_1_fc_crop_tsnr.nii.gz -k /data/home/iballard/fd/data/fd_104/masks/mOFC_fill_ser.nii.gz -M \n",
      "INFO:interface:stdout 2015-07-07T14:52:52.572884:12.663603 \n",
      "INFO:workflow:Executing node addcolmOFC_fill in dir: /tmp/tmpT_mjX_/tsnr/addcolmOFC_fill\n",
      "INFO:workflow:Executing node addcollOFC_fill in dir: /tmp/tmpFFslen/tsnr/addcollOFC_fill\n"
     ]
    }
   ],
   "source": [
    "in_tuples = []\n",
    "for sub in sub_list:\n",
    "    for exp in exps:\n",
    "        for run in runs:\n",
    "            in_tuples.append((sub,exp,run))  \n",
    "extract_mean_tsnr(in_tuples[0])"
   ]
  },
  {
   "cell_type": "code",
   "execution_count": 130,
   "metadata": {
    "collapsed": false
   },
   "outputs": [
    {
     "data": {
      "image/png": "[encoded data removed]",
      "text/plain": [
       "<IPython.core.display.Image object>"
      ]
     },
     "execution_count": 130,
     "metadata": {},
     "output_type": "execute_result"
    }
   ],
   "source": [
    "Image(filename = 'workflow_graph.dot.png' ) "
   ]
  },
  {
   "cell_type": "code",
   "execution_count": null,
   "metadata": {
    "collapsed": true
   },
   "outputs": [],
   "source": []
  }
 ],
 "metadata": {
  "kernelspec": {
   "display_name": "Python 2",
   "language": "python",
   "name": "python2"
  },
  "language_info": {
   "codemirror_mode": {
    "name": "ipython",
    "version": 2
   },
   "file_extension": ".py",
   "mimetype": "text/x-python",
   "name": "python",
   "nbconvert_exporter": "python",
   "pygments_lexer": "ipython2",
   "version": "2.7.6"
  }
 },
 "nbformat": 4,
 "nbformat_minor": 0
}
