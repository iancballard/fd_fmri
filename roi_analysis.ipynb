{
 "cells": [
  {
   "cell_type": "code",
   "execution_count": 2,
   "metadata": {
    "collapsed": true
   },
   "outputs": [],
   "source": [
    "#os and i/o\n",
    "import os\n",
    "import numpy as np\n",
    "import glob\n",
    "from os.path import abspath\n",
    "import csv\n",
    "\n",
    "#scientific computing\n",
    "import matplotlib\n",
    "import matplotlib.pyplot as plt\n",
    "import pandas as pd\n",
    "from scipy import stats, optimize\n",
    "from pandas import DataFrame, Series\n",
    "from moss import glm\n",
    "import seaborn as sns\n",
    "import random as rd\n",
    "from statsmodels.formula.api import ols\n",
    "from statsmodels.stats.anova import anova_lm\n",
    "import scipy.stats\n",
    "\n",
    "#ipython add-ons\n",
    "from IPython.parallel import Client\n",
    "from IPython.display import Image\n",
    "import multiprocessing\n",
    "\n",
    "##nipype\n",
    "import nibabel as nib\n",
    "from nipype.pipeline.engine import Node, MapNode, Workflow\n",
    "from nipype.interfaces.io import DataGrabber, DataFinder, DataSink\n",
    "from nipype.interfaces import fsl\n",
    "from nipype.interfaces.fsl import ImageMeants\n",
    "from nipype.interfaces.fsl import ImageStats\n",
    "\n",
    "%matplotlib inline"
   ]
  },
  {
   "cell_type": "code",
   "execution_count": 3,
   "metadata": {
    "collapsed": true
   },
   "outputs": [],
   "source": [
    "#preliminary housekeeping\n",
    "home_dir = '/data/home/iballard/fd/'\n",
    "subj_file = home_dir + 'subjects.txt'\n",
    "sub_list = list(np.loadtxt(subj_file,'string'))\n",
    "os.chdir(home_dir)\n",
    "runs = map(str,range(1,4))\n",
    "exp_list = ['ser','sim']"
   ]
  },
  {
   "cell_type": "code",
   "execution_count": 4,
   "metadata": {
    "collapsed": true
   },
   "outputs": [],
   "source": [
    "contrast = 'state'"
   ]
  },
  {
   "cell_type": "markdown",
   "metadata": {},
   "source": [
    "#Preliminary data processing and helper functions"
   ]
  },
  {
   "cell_type": "code",
   "execution_count": 23,
   "metadata": {
    "collapsed": false
   },
   "outputs": [],
   "source": [
    "roi_map = {'1':'Ains','2':'vSTR','3':'pIns','4':'V1','5':'dlpfc','6':'acc'}\n",
    "#make image for each cluster\n",
    "contrast_dir = home_dir + '/analysis/ser_4mm-Vfb/group/mni/' + contrast + '/'\n",
    "stat_image = contrast_dir + 'zstat1_threshold_seg.nii.gz'\n",
    "stat_dir = contrast_dir + 'seg/'\n",
    "if not os.path.exists(stat_dir):\n",
    "    os.mkdir(stat_dir)\n",
    "    \n",
    "for index in roi_map.keys():\n",
    "    \n",
    "    out_f = stat_dir + roi_map[index] + '.nii.gz'\n",
    "    if not os.path.exists(out_f):\n",
    "        cmd = ['fslmaths',stat_image,'-thr',index,'-uthr',index,'-bin',out_f]\n",
    "        os.system(' '.join(cmd))"
   ]
  },
  {
   "cell_type": "code",
   "execution_count": 5,
   "metadata": {
    "collapsed": false
   },
   "outputs": [],
   "source": [
    "contrast = 'PE_mb'\n",
    "roi_map = {'7':'dmPFC'}\n",
    "#make image for each cluster\n",
    "contrast_dir = home_dir + '/analysis/ser_4mm-Vfb/group/mni/' + contrast + '/'\n",
    "stat_image = contrast_dir + 'zstat1_threshold_seg.nii.gz'\n",
    "stat_dir = contrast_dir + 'seg/'\n",
    "if not os.path.exists(stat_dir):\n",
    "    os.mkdir(stat_dir)\n",
    "    \n",
    "for index in roi_map.keys():\n",
    "    \n",
    "    out_f = stat_dir + roi_map[index] + '.nii.gz'\n",
    "    if not os.path.exists(out_f):\n",
    "        cmd = ['fslmaths',stat_image,'-thr',index,'-uthr',index,'-bin',out_f]\n",
    "        os.system(' '.join(cmd))"
   ]
  },
  {
   "cell_type": "code",
   "execution_count": 6,
   "metadata": {
    "collapsed": false
   },
   "outputs": [],
   "source": [
    "striatum = '/usr/share/fsl/5.0/data/atlases/Striatum/striatum-con-label-thr50-3sub-2mm.nii.gz'\n",
    "out_dir = home_dir + '/analysis/striatum/'\n",
    "roi_map = {'1':'limbic','2':'frontal'}\n",
    "for index in roi_map.keys():\n",
    "    \n",
    "    out_f = out_dir + roi_map[index] + '.nii.gz'\n",
    "    os.remove(out_f)\n",
    "    if not os.path.exists(out_f):\n",
    "        cmd = ['fslmaths',striatum,'-thr',index,'-uthr',index,'-bin',out_f]\n",
    "        os.system(' '.join(cmd))"
   ]
  },
  {
   "cell_type": "code",
   "execution_count": 7,
   "metadata": {
    "collapsed": true
   },
   "outputs": [],
   "source": [
    "contrast = 'A_v_all'\n",
    "roi_map = {'1':'mPFC','4':'mOFC'}\n",
    "#make image for each cluster\n",
    "contrast_dir = home_dir + '/analysis/ser_4mm-PEfb-diff/group/mni/' + contrast + '/'\n",
    "stat_image = contrast_dir + 'zstat1_threshold_seg.nii.gz'\n",
    "stat_dir = contrast_dir + 'seg/'\n",
    "if not os.path.exists(stat_dir):\n",
    "    os.mkdir(stat_dir)\n",
    "    \n",
    "for index in roi_map.keys():\n",
    "    \n",
    "    out_f = stat_dir + roi_map[index] + '.nii.gz'\n",
    "    if not os.path.exists(out_f):\n",
    "        cmd = ['fslmaths',stat_image,'-thr',index,'-uthr',index,'-bin',out_f]\n",
    "        os.system(' '.join(cmd))"
   ]
  },
  {
   "cell_type": "code",
   "execution_count": 8,
   "metadata": {
    "collapsed": true
   },
   "outputs": [],
   "source": [
    "contrast = 'neg_state'\n",
    "roi_map = {'12':'lOFC'}\n",
    "#make image for each cluster\n",
    "contrast_dir = home_dir + '/analysis/ser_4mm-PEfb-diff-A-time/group/mni/' + contrast + '/'\n",
    "stat_image = contrast_dir + 'zstat1_threshold_seg.nii.gz'\n",
    "stat_dir = contrast_dir + 'seg/'\n",
    "if not os.path.exists(stat_dir):\n",
    "    os.mkdir(stat_dir)\n",
    "    \n",
    "for index in roi_map.keys():\n",
    "    \n",
    "    out_f = stat_dir + roi_map[index] + '.nii.gz'\n",
    "    if not os.path.exists(out_f):\n",
    "        cmd = ['fslmaths',stat_image,'-thr',index,'-uthr',index,'-bin',out_f]\n",
    "        os.system(' '.join(cmd))"
   ]
  },
  {
   "cell_type": "code",
   "execution_count": 22,
   "metadata": {
    "collapsed": false
   },
   "outputs": [],
   "source": [
    "#warp group statistical image back into subject space\n",
    "for sub in sub_list: \n",
    "    if True:#sub == 'fd_104':\n",
    "        #set paths\n",
    "        mask_path = home_dir + '/data/' + sub\n",
    "        out_dir = mask_path + '/masks/' + contrast + '/'\n",
    "        if not os.path.exists(out_dir):\n",
    "            os.mkdir(out_dir)\n",
    "\n",
    "        #copy warpfile to make ANTs happy\n",
    "        warp = mask_path + '/normalization/inverse_warpfield.nii.gz'\n",
    "        warpfield = mask_path + '/normalization/InverseWarp.nii.gz'\n",
    "        cmd = ['ln','-s',warp, warpfield]\n",
    "        os.system(' '.join(cmd))\n",
    "\n",
    "        for index in roi_map.keys():\n",
    "            stat_image =  stat_dir + roi_map[index] + '.nii.gz'\n",
    "\n",
    "            #warp to subject space\n",
    "            out_warp = out_dir + roi_map[index] + '_anat_space.nii.gz'\n",
    "            ref_file = fsl.Info.standard_image(\"avg152T1_brain.nii.gz\")\n",
    "            affine = home_dir + '/data/' + sub + '/normalization/affine.txt'\n",
    "            anat = home_dir + '/data/' + sub + '/anat/T1_native.nii.gz'\n",
    "            if not os.path.exists(out_warp):\n",
    "                cmd_str = ['WarpImageMultiTransform','3',stat_image,out_warp,'-i',affine,warpfield,\n",
    "                           '-R',anat]\n",
    "                cmd_str = ' '.join(cmd_str)\n",
    "                os.system(cmd_str)\n",
    "\n",
    "            #register to functional space\n",
    "            for exp in exp_list:\n",
    "                sub_path = home_dir + 'analysis/' + exp + '_4mm/' + sub\n",
    "\n",
    "                #register to func\n",
    "                transform = sub_path + '/preproc/run_1/func2anat_tkreg.dat'\n",
    "                mean_func = sub_path + '/preproc/run_1/mean_func.nii.gz'\n",
    "                out_rigid = out_dir + exp + '_' + roi_map[index] + '_func_space.nii.gz'\n",
    "                if not os.path.exists(out_rigid):\n",
    "                    cmd_line = ['mri_vol2vol','--mov',mean_func,'--targ',out_warp,'--reg',transform,'--o',out_rigid,\n",
    "                                '--no-save-reg','--inv']\n",
    "                    os.system(' '.join(cmd_line))\n",
    "\n",
    "                #binarize\n",
    "                out_mask = out_dir + exp + '_' + roi_map[index] + '_mask.nii.gz'\n",
    "                os.remove(out_mask)\n",
    "                if not os.path.exists(out_mask):\n",
    "                    cmd = ['fslmaths',out_rigid,'-thr','.1','-bin',out_mask]\n",
    "                    os.system(' '.join(cmd))\n"
   ]
  },
  {
   "cell_type": "code",
   "execution_count": 6,
   "metadata": {
    "collapsed": false
   },
   "outputs": [
    {
     "name": "stdout",
     "output_type": "stream",
     "text": [
      "fd_104 ser\n",
      "fd_104 sim\n",
      "fd_105 ser\n",
      "fd_105 sim\n",
      "fd_107 ser\n",
      "fd_107 sim\n",
      "fd_108 ser\n",
      "fd_108 sim\n",
      "fd_109 ser\n",
      "fd_109 sim\n",
      "fd_110 ser\n",
      "fd_110 sim\n",
      "fd_112 ser\n",
      "fd_112 sim\n",
      "fd_113 ser\n",
      "fd_113 sim\n",
      "fd_114 ser\n",
      "fd_114 sim\n",
      "fd_115 ser\n",
      "fd_115 sim\n",
      "fd_117 ser\n",
      "fd_117 sim\n",
      "fd_118 ser\n",
      "fd_118 sim\n",
      "fd_119 ser\n",
      "fd_119 sim\n",
      "fd_122 ser\n",
      "fd_122 sim\n",
      "fd_123 ser\n",
      "fd_123 sim\n",
      "fd_124 ser\n",
      "fd_124 sim\n",
      "fd_126 ser\n",
      "fd_126 sim\n",
      "fd_127 ser\n",
      "fd_127 sim\n",
      "fd_128 ser\n",
      "fd_128 sim\n",
      "fd_129 ser\n",
      "fd_129 sim\n",
      "fd_130 ser\n",
      "fd_130 sim\n",
      "fd_132 ser\n",
      "fd_132 sim\n",
      "fd_133 ser\n",
      "fd_133 sim\n",
      "fd_135 ser\n",
      "fd_135 sim\n",
      "fd_136 ser\n",
      "fd_136 sim\n",
      "fd_137 ser\n",
      "fd_137 sim\n",
      "fd_138 ser\n",
      "fd_138 sim\n",
      "fd_140 ser\n",
      "fd_140 sim\n",
      "fd_141 ser\n",
      "fd_141 sim\n",
      "fd_144 ser\n",
      "fd_144 sim\n",
      "fd_147 ser\n",
      "fd_147 sim\n",
      "fd_148 ser\n",
      "fd_148 sim\n"
     ]
    }
   ],
   "source": [
    "#warp VTA mask into subject space\n",
    "vta_file = '/home/iballard/Dropbox/vta_atlas/Midbrain_Atlases/mean_VTA.nii.gz'\n",
    "bad_subs = []\n",
    "#warp to subject space\n",
    "for sub in sub_list: \n",
    "    mask_path = home_dir + '/data/' + sub\n",
    "    out_dir = mask_path + '/masks/vta/'\n",
    "    if not os.path.exists(out_dir):\n",
    "        os.mkdir(out_dir)\n",
    "    \n",
    "    warpfield = mask_path + '/normalization/InverseWarp.nii.gz'\n",
    "    #warp to subject space\n",
    "    out_warp = out_dir + 'vta_anat_space.nii.gz'\n",
    "    ref_file = fsl.Info.standard_image(\"avg152T1_brain.nii.gz\")\n",
    "    affine = home_dir + '/data/' + sub + '/normalization/affine.txt'\n",
    "    anat = home_dir + '/data/' + sub + '/anat/T1_native.nii.gz'\n",
    "    if not os.path.exists(out_warp):\n",
    "        cmd_str = ['WarpImageMultiTransform','3',vta_file,out_warp,'-i',affine,warpfield,\n",
    "                   '-R',anat]\n",
    "        cmd_str = ' '.join(cmd_str)\n",
    "        os.system(cmd_str)\n",
    "\n",
    "    #register to functional space\n",
    "    for exp in exp_list:\n",
    "        sub_path = home_dir + 'analysis/' + exp + '_4mm/' + sub\n",
    "\n",
    "        #register to func\n",
    "        transform = sub_path + '/preproc/run_1/func2anat_tkreg.dat'\n",
    "        mean_func = sub_path + '/preproc/run_1/mean_func.nii.gz'\n",
    "        out_rigid = out_dir + exp + '_vta_func_space.nii.gz'\n",
    "        if True:#not os.path.exists(out_rigid):\n",
    "            cmd_line = ['mri_vol2vol','--mov',mean_func,'--targ',out_warp,'--reg',transform,'--o',out_rigid,\n",
    "                        '--no-save-reg','--inv']\n",
    "            os.system(' '.join(cmd_line))\n",
    "\n",
    "        #binarize\n",
    "        out_mask = out_dir + exp + '_' + 'vta_mask.nii.gz'\n",
    "        if True:#os.path.exists(out_mask):\n",
    "            os.remove(out_mask)\n",
    "        cmd = ['fslmaths',out_rigid,'-thr','.25','-bin',out_mask]\n",
    "        os.system(' '.join(cmd))\n",
    "\n",
    "#         #cross mask with PE_mf statistical image\n",
    "#         stat_image = home_dir + '/analysis/ser_4mm-PEfb-diff/' + sub + '/ffx/epi/smoothed/PE_mf/zstat1.nii.gz'\n",
    "#         out_mask_stat = out_dir + exp + '_' + 'vta_mask_PEmf.nii.gz'\n",
    "#         if os.path.exists(out_mask_stat):\n",
    "#             os.remove(out_mask_stat)\n",
    "#         cmd = ['fslmaths',stat_image,'-thr','0','-mas',out_mask,'-bin',out_mask_stat]\n",
    "#         os.system(' '.join(cmd))   \n",
    "#         mask_size = nib.load(out_mask_stat).get_data().sum()\n",
    "        print sub, exp"
   ]
  },
  {
   "cell_type": "code",
   "execution_count": 5,
   "metadata": {
    "collapsed": false
   },
   "outputs": [],
   "source": [
    "#extract tsnr of ROIs\n",
    "def extract_cope(in_tuple):\n",
    "    sub,exp,mask,mask_contrast,contrast,analysis = in_tuple\n",
    "    cope = np.nan\n",
    "\n",
    "    cope_f = home_dir + 'analysis/' + exp + '_4mm-' + analysis + '/' + sub + \\\n",
    "            '/ffx/epi/smoothed/' + contrast + '/cope1.nii.gz'\n",
    "    print cope_f\n",
    "    if os.path.exists(cope_f):\n",
    "        \n",
    "        mask_f = home_dir + 'data/' + sub + '/masks/' + mask_contrast + '/' \\\n",
    "            + exp + '_' + mask + '_mask.nii.gz'\n",
    "        print mask_f\n",
    "        stats = ImageStats(in_file = cope_f, op_string = '-k %s -M', mask_file = mask_f)\n",
    "        out = stats.run()\n",
    "        cope = out.outputs.out_stat\n",
    "    \n",
    "    return (sub,exp,mask,cope)"
   ]
  },
  {
   "cell_type": "code",
   "execution_count": 6,
   "metadata": {
    "collapsed": false
   },
   "outputs": [],
   "source": [
    "#extract tsnr of ROIs\n",
    "def extract_cope_anat(in_tuple):\n",
    "    sub,exp,mask_id,mask_path,contrast,analysis = in_tuple\n",
    "    cope = np.nan\n",
    "\n",
    "    cope_f = home_dir + 'analysis/' + exp + '_4mm-' + analysis + '/' + sub + \\\n",
    "            '/ffx/epi/smoothed/' + contrast + '/cope1.nii.gz'\n",
    "\n",
    "    if os.path.exists(cope_f):\n",
    "        \n",
    "        mask_f = home_dir + 'data/' + sub + '/masks/' + mask_path\n",
    "        stats = ImageStats(in_file = cope_f, op_string = '-k %s -M', mask_file = mask_f)\n",
    "        out = stats.run()\n",
    "        cope = out.outputs.out_stat\n",
    "    \n",
    "    return (sub,exp,mask_id,cope)\n",
    "# extract_cope_anat(in_tuples[0])"
   ]
  },
  {
   "cell_type": "code",
   "execution_count": 7,
   "metadata": {
    "collapsed": true
   },
   "outputs": [],
   "source": [
    "#extract tsnr of ROIs\n",
    "def extract_cope_vta(in_tuple):\n",
    "    sub,exp,contrast,analysis = in_tuple\n",
    "    cope = np.nan\n",
    "\n",
    "    cope_f = home_dir + 'analysis/' + exp + '_4mm-' + analysis + '/' + sub + \\\n",
    "            '/ffx/epi/smoothed/' + contrast + '/cope1.nii.gz'\n",
    "\n",
    "    if os.path.exists(cope_f):\n",
    "        \n",
    "        mask_f = home_dir + 'data/' + sub + '/masks/vta/' + exp + '_vta_func_space.nii.gz'\n",
    "        out_f = home_dir + 'data/' + sub + '/masks/vta/' + exp + '_vta_func_space_product.nii.gz'\n",
    "        os.remove(out_f)\n",
    "        \n",
    "        cmd = ['fslmaths',cope_f,'-mul',mask_f,out_f]\n",
    "        os.system(' '.join(cmd))\n",
    "        stats = ImageStats(in_file = out_f, op_string = '-M')\n",
    "        out = stats.run()\n",
    "        cope = out.outputs.out_stat\n",
    "    \n",
    "    return (sub,exp,'vta_mean',cope)\n",
    "# extract_cope_anat(in_tuples[0])"
   ]
  },
  {
   "cell_type": "code",
   "execution_count": 8,
   "metadata": {
    "collapsed": true
   },
   "outputs": [],
   "source": [
    "#extract tsnr of ROIs\n",
    "def extract_cope_mni(in_tuple):\n",
    "    sub,exp,mask_id,mask_path,contrast,analysis = in_tuple\n",
    "    cope = np.nan\n",
    "\n",
    "    cope_f = home_dir + 'analysis/' + exp + '_4mm-' + analysis + '/' + sub + \\\n",
    "            '/ffx/mni/smoothed/' + contrast + '/cope1.nii.gz'\n",
    "\n",
    "    if os.path.exists(cope_f):\n",
    "        \n",
    "        stats = ImageStats(in_file = cope_f, op_string = '-k %s -M', mask_file = mask_path)\n",
    "        out = stats.run()\n",
    "        cope = out.outputs.out_stat\n",
    "    \n",
    "    return (sub,exp,mask_id,cope)"
   ]
  },
  {
   "cell_type": "code",
   "execution_count": 9,
   "metadata": {
    "collapsed": true
   },
   "outputs": [],
   "source": [
    "#extract tsnr of ROIs\n",
    "def extract_decoding(in_tuple):\n",
    "    sub,exp,mask_id,mask_path = in_tuple\n",
    "    cope = np.nan\n",
    "    \n",
    "    sub_path = home_dir + 'analysis/' + exp + '_8mm/' + sub\n",
    "    mvpa_dir = sub_path + '/mvpa/'\n",
    "    searchlight = mvpa_dir + 'searchlight_state_radius8.nii.gz'\n",
    "\n",
    "    if os.path.exists(searchlight):\n",
    "        mask_f = home_dir + 'data/' + sub + '/masks/' + mask_path        \n",
    "        stats = ImageStats(in_file = searchlight, op_string = '-k %s -M', mask_file = mask_f)\n",
    "        out = stats.run()\n",
    "        cope = out.outputs.out_stat\n",
    "    \n",
    "    return (sub,exp,mask_id,cope)"
   ]
  },
  {
   "cell_type": "code",
   "execution_count": 10,
   "metadata": {
    "collapsed": false
   },
   "outputs": [],
   "source": [
    "def parse_output(output,out_f):\n",
    "    cope_df = {'roi':[],'cope':[],'sub':[],'exp':[]}\n",
    "    for o in output:\n",
    "        sub,exp,mask,cope = o\n",
    "\n",
    "        cope_df['roi'].append(mask)\n",
    "        cope_df['sub'].append(sub)\n",
    "        cope_df['exp'].append(exp)\n",
    "        cope_df['cope'].append(cope)\n",
    "\n",
    "    cope_df = pd.DataFrame(cope_df)\n",
    "    cope_df.to_csv(home_dir + '/' + out_f)\n",
    "    \n",
    "    return cope_df"
   ]
  },
  {
   "cell_type": "markdown",
   "metadata": {},
   "source": [
    "#First examine SIM/SER comparison for each ROI and the state contrast"
   ]
  },
  {
   "cell_type": "code",
   "execution_count": 49,
   "metadata": {
    "collapsed": false
   },
   "outputs": [],
   "source": [
    "roi_map = {'1':'Ains','2':'vSTR','3':'pIns','4':'V1','5':'dlpfc','6':'acc'}\n",
    "contrast = 'state'\n",
    "analysis = 'PEfb-diff'\n",
    "in_tuples = []\n",
    "for exp in ['sim','ser']:\n",
    "    for sub in sub_list:\n",
    "        for index in roi_map.keys():\n",
    "            in_tuples.append((sub,exp,roi_map[index],contrast,'state',analysis))   "
   ]
  },
  {
   "cell_type": "code",
   "execution_count": 53,
   "metadata": {
    "collapsed": false,
    "scrolled": true
   },
   "outputs": [],
   "source": [
    "# pool = multiprocessing.Pool(processes = 40)\n",
    "# output = pool.map(extract_cope,in_tuples)\n",
    "# pool.terminate()\n",
    "# pool.join()"
   ]
  },
  {
   "cell_type": "code",
   "execution_count": 54,
   "metadata": {
    "collapsed": false,
    "scrolled": true
   },
   "outputs": [
    {
     "data": {
      "text/plain": [
       "<matplotlib.axes._subplots.AxesSubplot at 0x7f0ed124e450>"
      ]
     },
     "execution_count": 54,
     "metadata": {},
     "output_type": "execute_result"
    },
    {
     "data": {
      "image/png": "iVBORw0KGgoAAAANSUhEUgAAAZYAAAENCAYAAAAsWUMWAAAABHNCSVQICAgIfAhkiAAAAAlwSFlz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\nYyL1/1pgeyE7VVZiAAAAAElFTkSuQmCC\n",
      "text/plain": [
       "<matplotlib.figure.Figure at 0x7f0ed18d3f50>"
      ]
     },
     "metadata": {},
     "output_type": "display_data"
    }
   ],
   "source": [
    "cope_df = parse_output(output,'state.csv')\n",
    "# sns.violinplot(x='cope',y='roi',hue='exp',data=cope_df,split=True,inner = 'stick')\n",
    "sns.violinplot(x='cope',y='roi',hue = 'exp',data=cope_df,split=True,inner = 'stick')"
   ]
  },
  {
   "cell_type": "code",
   "execution_count": 42,
   "metadata": {
    "collapsed": false,
    "scrolled": true
   },
   "outputs": [
    {
     "name": "stdout",
     "output_type": "stream",
     "text": [
      "Ains 4.71404938386 0.000292012903228\n",
      "pIns 3.19931993424 0.0190226571352\n",
      "vSTR 4.29922826761 0.000948043772872\n",
      "dlpfc 4.76225076309 0.000254463902233\n",
      "V1 3.5143576224 0.00827344773713\n",
      "acc 3.66741106522 0.00547163837994\n"
     ]
    }
   ],
   "source": [
    "for index in roi_map.keys():\n",
    "    roi = roi_map[index]\n",
    "    roi_df = cope_df[cope_df['roi']==roi]\n",
    "    t,p = scipy.stats.ttest_rel(roi_df.ix[roi_df['exp']=='ser','cope'].values,\n",
    "                          roi_df.ix[roi_df['exp']=='sim','cope'].values)\n",
    "    print roi,str(t),str(p*6)"
   ]
  },
  {
   "cell_type": "markdown",
   "metadata": {},
   "source": [
    "#Next look at the PPI response in each of these ROIs"
   ]
  },
  {
   "cell_type": "code",
   "execution_count": 55,
   "metadata": {
    "collapsed": true
   },
   "outputs": [],
   "source": [
    "contrast = 'ppi'\n",
    "analysis = 'PEfb-diff-A-ppi'\n",
    "in_tuples = []\n",
    "for exp in ['ser']:\n",
    "    for sub in sub_list:\n",
    "        for index in roi_map.keys():\n",
    "            in_tuples.append((sub,exp,roi_map[index],contrast,analysis))        "
   ]
  },
  {
   "cell_type": "code",
   "execution_count": 60,
   "metadata": {
    "collapsed": false
   },
   "outputs": [],
   "source": [
    "# pool = multiprocessing.Pool(processes = 40)\n",
    "# output = pool.map(extract_cope,in_tuples)\n",
    "# pool.terminate()\n",
    "# pool.join()"
   ]
  },
  {
   "cell_type": "code",
   "execution_count": 69,
   "metadata": {
    "collapsed": false
   },
   "outputs": [
    {
     "data": {
      "text/plain": [
       "<matplotlib.axes._subplots.AxesSubplot at 0x7f81374fef50>"
      ]
     },
     "execution_count": 69,
     "metadata": {},
     "output_type": "execute_result"
    },
    {
     "data": {
      "image/png": "iVBORw0KGgoAAAANSUhEUgAAAZYAAAENCAYAAAAsWUMWAAAABHNCSVQICAgIfAhkiAAAAAlwSFlz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\nRU5ErkJggg==\n",
      "text/plain": [
       "<matplotlib.figure.Figure at 0x7f8137509fd0>"
      ]
     },
     "metadata": {},
     "output_type": "display_data"
    }
   ],
   "source": [
    "df = parse_output(output,'ppi_state')\n",
    "sns.violinplot(x='cope',y='roi',data=df,split=True,inner = 'stick')"
   ]
  },
  {
   "cell_type": "code",
   "execution_count": 70,
   "metadata": {
    "collapsed": false,
    "scrolled": true
   },
   "outputs": [
    {
     "name": "stdout",
     "output_type": "stream",
     "text": [
      "Ains -0.338972603868 0.736915879773\n",
      "pIns -0.456254926911 0.651387207768\n",
      "vSTR 0.656551247831 0.516314032159\n",
      "dlpfc -2.08938860557 0.0449727104835\n",
      "V1 -0.00319403221043 0.997472001438\n",
      "acc -0.511623216122 0.612540105654\n"
     ]
    }
   ],
   "source": [
    "for index in roi_map.keys():\n",
    "    roi = roi_map[index]\n",
    "    roi_df = df[df['roi']==roi]\n",
    "    t,p = scipy.stats.ttest_1samp(roi_df.ix[roi_df['exp']=='ser','cope'].values,\n",
    "                          0)\n",
    "    print roi,str(t),str(p)"
   ]
  },
  {
   "cell_type": "markdown",
   "metadata": {},
   "source": [
    "#Next look at the PPI state analysis"
   ]
  },
  {
   "cell_type": "code",
   "execution_count": 84,
   "metadata": {
    "collapsed": true
   },
   "outputs": [],
   "source": [
    "contrast = 'ppi'\n",
    "analysis = 'ppi'\n",
    "in_tuples = []\n",
    "for exp in ['ser']:\n",
    "    for sub in sub_list:\n",
    "        for index in roi_map.keys():\n",
    "            in_tuples.append((sub,exp,roi_map[index],contrast,analysis))        "
   ]
  },
  {
   "cell_type": "code",
   "execution_count": 86,
   "metadata": {
    "collapsed": false
   },
   "outputs": [],
   "source": [
    "# pool = multiprocessing.Pool(processes = 40)\n",
    "# output = pool.map(extract_cope,in_tuples)\n",
    "# pool.terminate()\n",
    "# pool.join()"
   ]
  },
  {
   "cell_type": "code",
   "execution_count": 87,
   "metadata": {
    "collapsed": false
   },
   "outputs": [
    {
     "data": {
      "text/plain": [
       "<matplotlib.axes._subplots.AxesSubplot at 0x7f814d232d10>"
      ]
     },
     "execution_count": 87,
     "metadata": {},
     "output_type": "execute_result"
    },
    {
     "data": {
      "image/png": "iVBORw0KGgoAAAANSUhEUgAAAZYAAAENCAYAAAAsWUMWAAAABHNCSVQICAgIfAhkiAAAAAlwSFlz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\njDGRssJijDEmUv8PTBbHY3azOm4AAAAASUVORK5CYII=\n",
      "text/plain": [
       "<matplotlib.figure.Figure at 0x7f81375d9110>"
      ]
     },
     "metadata": {},
     "output_type": "display_data"
    }
   ],
   "source": [
    "df = parse_output(output,'ppi_state')\n",
    "sns.violinplot(x='cope',y='roi',data=df,split=True,inner = 'stick')"
   ]
  },
  {
   "cell_type": "code",
   "execution_count": 88,
   "metadata": {
    "collapsed": false
   },
   "outputs": [
    {
     "name": "stdout",
     "output_type": "stream",
     "text": [
      "Ains -0.402845531473 0.689826660637\n",
      "pIns -0.564401734604 0.576542075455\n",
      "vSTR -1.26311363184 0.215966330582\n",
      "dlpfc -0.144956138569 0.88568387106\n",
      "V1 -0.550072645797 0.586211451629\n",
      "acc -0.625258103579 0.536377671993\n"
     ]
    }
   ],
   "source": [
    "for index in roi_map.keys():\n",
    "    roi = roi_map[index]\n",
    "    roi_df = df[df['roi']==roi]\n",
    "    t,p = scipy.stats.ttest_1samp(roi_df.ix[roi_df['exp']=='ser','cope'].values,\n",
    "                          0)\n",
    "    print roi,str(t),str(p)"
   ]
  },
  {
   "cell_type": "markdown",
   "metadata": {},
   "source": [
    "#Examine PE signals in these regions"
   ]
  },
  {
   "cell_type": "code",
   "execution_count": 90,
   "metadata": {
    "collapsed": true
   },
   "outputs": [],
   "source": [
    "contrast = 'PE'\n",
    "analysis = 'PEfb'\n",
    "in_tuples = []\n",
    "for exp in ['ser','sim']:\n",
    "    for sub in sub_list:\n",
    "        for index in roi_map.keys():\n",
    "            in_tuples.append((sub,exp,roi_map[index],contrast,analysis))        "
   ]
  },
  {
   "cell_type": "code",
   "execution_count": 94,
   "metadata": {
    "collapsed": false
   },
   "outputs": [],
   "source": [
    "# pool = multiprocessing.Pool(processes = 40)\n",
    "# output = pool.map(extract_cope,in_tuples)\n",
    "# pool.terminate()\n",
    "# pool.join()"
   ]
  },
  {
   "cell_type": "code",
   "execution_count": 96,
   "metadata": {
    "collapsed": false
   },
   "outputs": [
    {
     "data": {
      "text/plain": [
       "<matplotlib.axes._subplots.AxesSubplot at 0x7f813548a090>"
      ]
     },
     "execution_count": 96,
     "metadata": {},
     "output_type": "execute_result"
    },
    {
     "data": {
      "image/png": "iVBORw0KGgoAAAANSUhEUgAAAZYAAAENCAYAAAAsWUMWAAAABHNCSVQICAgIfAhkiAAAAAlwSFlz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\n",
      "text/plain": [
       "<matplotlib.figure.Figure at 0x7f8136a6e050>"
      ]
     },
     "metadata": {},
     "output_type": "display_data"
    }
   ],
   "source": [
    "df = parse_output(output,'PE')\n",
    "sns.violinplot(x='cope',y='roi',hue='exp',data=df,split=True,inner = 'stick')"
   ]
  },
  {
   "cell_type": "code",
   "execution_count": 102,
   "metadata": {
    "collapsed": false
   },
   "outputs": [
    {
     "name": "stdout",
     "output_type": "stream",
     "text": [
      "Ains 2.83941467909 0.0474569120219\n",
      "pIns 2.36747492728 0.14599237472\n",
      "vSTR 2.0172815048 0.314375238316\n",
      "dlpfc 2.95412056174 0.0356327542758\n",
      "V1 4.25547760953 0.00107240100431\n",
      "acc 2.44276822205 0.122825777632\n"
     ]
    }
   ],
   "source": [
    "for index in roi_map.keys():\n",
    "    roi = roi_map[index]\n",
    "    roi_df = df[df['roi']==roi]\n",
    "    t,p = scipy.stats.ttest_1samp(roi_df.ix[roi_df['exp']=='ser','cope'].values,\n",
    "                          0)\n",
    "    print roi,str(t),str(p*6)"
   ]
  },
  {
   "cell_type": "markdown",
   "metadata": {},
   "source": [
    "#Next check out PE state"
   ]
  },
  {
   "cell_type": "code",
   "execution_count": 103,
   "metadata": {
    "collapsed": true
   },
   "outputs": [],
   "source": [
    "contrast = 'PE_state'\n",
    "analysis = 'PEfb'\n",
    "in_tuples = []\n",
    "for exp in ['ser','sim']:\n",
    "    for sub in sub_list:\n",
    "        for index in roi_map.keys():\n",
    "            in_tuples.append((sub,exp,roi_map[index],contrast,analysis))        "
   ]
  },
  {
   "cell_type": "code",
   "execution_count": 106,
   "metadata": {
    "collapsed": false
   },
   "outputs": [],
   "source": [
    "# pool = multiprocessing.Pool(processes = 40)\n",
    "# output = pool.map(extract_cope,in_tuples)\n",
    "# pool.terminate()\n",
    "# pool.join()"
   ]
  },
  {
   "cell_type": "code",
   "execution_count": 107,
   "metadata": {
    "collapsed": false
   },
   "outputs": [
    {
     "data": {
      "text/plain": [
       "<matplotlib.axes._subplots.AxesSubplot at 0x7f81364a0410>"
      ]
     },
     "execution_count": 107,
     "metadata": {},
     "output_type": "execute_result"
    },
    {
     "data": {
      "image/png": "iVBORw0KGgoAAAANSUhEUgAAAZYAAAENCAYAAAAsWUMWAAAABHNCSVQICAgIfAhkiAAAAAlwSFlz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\nAElFTkSuQmCC\n",
      "text/plain": [
       "<matplotlib.figure.Figure at 0x7f8136886490>"
      ]
     },
     "metadata": {},
     "output_type": "display_data"
    }
   ],
   "source": [
    "df = parse_output(output,'PE_state')\n",
    "sns.violinplot(x='cope',y='roi',hue='exp',data=df,split=True,inner = 'stick')"
   ]
  },
  {
   "cell_type": "code",
   "execution_count": 110,
   "metadata": {
    "collapsed": false
   },
   "outputs": [
    {
     "name": "stdout",
     "output_type": "stream",
     "text": [
      "Ains 2.44049575782 0.123472723743\n",
      "pIns 1.78919284536 0.500155746917\n",
      "vSTR 2.7053223084 0.065926682784\n",
      "dlpfc 1.52471268555 0.82481399614\n",
      "V1 1.68507576215 0.612100662774\n",
      "acc 3.10698151514 0.0241497091495\n"
     ]
    }
   ],
   "source": [
    "for index in roi_map.keys():\n",
    "    roi = roi_map[index]\n",
    "    roi_df = df[df['roi']==roi]\n",
    "    t,p = scipy.stats.ttest_1samp(roi_df.ix[roi_df['exp']=='ser','cope'].values,\n",
    "                          0)\n",
    "    print roi,str(t),str(p*6)"
   ]
  },
  {
   "cell_type": "markdown",
   "metadata": {},
   "source": [
    "#Next look at PEmf"
   ]
  },
  {
   "cell_type": "code",
   "execution_count": 112,
   "metadata": {
    "collapsed": false
   },
   "outputs": [],
   "source": [
    "contrast = 'PE_mf'\n",
    "analysis = 'PEfb-diff'\n",
    "in_tuples = []\n",
    "for exp in ['ser','sim']:\n",
    "    for sub in sub_list:\n",
    "        for index in roi_map.keys():\n",
    "            in_tuples.append((sub,exp,roi_map[index],contrast,analysis))        "
   ]
  },
  {
   "cell_type": "code",
   "execution_count": 88,
   "metadata": {
    "collapsed": false
   },
   "outputs": [],
   "source": [
    "roi_map = {'1':'Ains','2':'vSTR','3':'pIns','4':'V1','5':'dlpfc','6':'acc'}\n",
    "roi_map = {'7':'dmPFC'}\n",
    "roi_map = {'1':'mPFC','4':'mOFC'}\n",
    "contrast = 'A_v_all'\n",
    "\n",
    "# contrast = 'PE_mb'\n",
    "analysis = 'PEfb-diff'\n",
    "# analysis = 'Vfb'\n",
    "in_tuples = []\n",
    "for exp in ['ser']:\n",
    "    for sub in sub_list:\n",
    "        for index in roi_map.keys():\n",
    "#             in_tuples.append((sub,exp,roi_map[index],'/state/seg/' + roi_map[index] + '.nii.gz', contrast,analysis)) \n",
    "#             in_tuples.append((sub,exp,roi_map[index],'/PE_mb/seg/' + roi_map[index] + '.nii.gz', contrast,analysis)) \n",
    "            in_tuples.append((sub,exp,roi_map[index],'/A_v_all/seg/' + roi_map[index] + '.nii.gz', contrast,analysis))"
   ]
  },
  {
   "cell_type": "code",
   "execution_count": 90,
   "metadata": {
    "collapsed": false
   },
   "outputs": [],
   "source": [
    "# pool = multiprocessing.Pool(processes = 40)\n",
    "# # output = pool.map(extract_cope,in_tuples)\n",
    "# output = pool.map(extract_cope_mni,in_tuples)\n",
    "# pool.terminate()\n",
    "# pool.join()"
   ]
  },
  {
   "cell_type": "code",
   "execution_count": 91,
   "metadata": {
    "collapsed": false
   },
   "outputs": [
    {
     "data": {
      "text/plain": [
       "<matplotlib.axes._subplots.AxesSubplot at 0x7faa6d1cdbd0>"
      ]
     },
     "execution_count": 91,
     "metadata": {},
     "output_type": "execute_result"
    },
    {
     "data": {
      "image/png": "iVBORw0KGgoAAAANSUhEUgAAAZoAAAENCAYAAAA2ZaOYAAAABHNCSVQICAgIfAhkiAAAAAlwSFlz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\n",
      "text/plain": [
       "<matplotlib.figure.Figure at 0x7faa5fe455d0>"
      ]
     },
     "metadata": {},
     "output_type": "display_data"
    }
   ],
   "source": [
    "df = parse_output(output,'PE_mf')\n",
    "# sns.violinplot(x='cope',y='roi',hue='exp',data=df,split=True,inner = 'stick')\n",
    "sns.violinplot(x='cope',y='roi',data=df,split=True,inner = 'stick')"
   ]
  },
  {
   "cell_type": "code",
   "execution_count": 29,
   "metadata": {
    "collapsed": false
   },
   "outputs": [
    {
     "name": "stdout",
     "output_type": "stream",
     "text": [
      "[ 5326.577427  1328.329704  3055.994061  4930.068047  4938.746981\n",
      "  1476.11342   2830.206949  3548.969297  -899.480047   864.913914\n",
      " -3170.180028  3476.356862  6022.737292   115.846498  2499.236543\n",
      " -9371.659693  2170.770179 -1542.358469  2486.50082   1445.470942\n",
      " -1981.786352   609.535306 -1545.2753    1835.475264  3864.658328\n",
      "  4058.96452  -1041.276694  2800.961444  4161.27241    211.066949\n",
      "  9340.777914 -2753.424999]\n"
     ]
    }
   ],
   "source": [
    "vSTR_mb = df[df['roi'] == 'vSTR']['cope'].values"
   ]
  },
  {
   "cell_type": "code",
   "execution_count": 162,
   "metadata": {
    "collapsed": true
   },
   "outputs": [],
   "source": [
    "# dmpfc_mb = df[df['roi'] == 'dmPFC']['cope'].values\n",
    "b= dmpfc_mb - np.mean(dmpfc_mb)\n",
    "np.savetxt(home_dir + 'dmpfc_mb.txt',b)"
   ]
  },
  {
   "cell_type": "code",
   "execution_count": 147,
   "metadata": {
    "collapsed": false
   },
   "outputs": [],
   "source": [
    "acc = cope_df[cope_df['roi'] == 'acc']['cope'].values"
   ]
  },
  {
   "cell_type": "code",
   "execution_count": 93,
   "metadata": {
    "collapsed": false
   },
   "outputs": [],
   "source": [
    "mOFC_A = df[df['roi'] == 'mOFC']['cope'].values"
   ]
  },
  {
   "cell_type": "code",
   "execution_count": 98,
   "metadata": {
    "collapsed": true
   },
   "outputs": [],
   "source": [
    "mPFC_A = df[df['roi'] == 'mPFC']['cope'].values"
   ]
  },
  {
   "cell_type": "code",
   "execution_count": 160,
   "metadata": {
    "collapsed": false
   },
   "outputs": [],
   "source": [
    "a=vSTR_mb - np.mean(vSTR_mb)\n",
    "np.savetxt(home_dir + 'vstr_mb.txt',a)"
   ]
  },
  {
   "cell_type": "code",
   "execution_count": 82,
   "metadata": {
    "collapsed": false
   },
   "outputs": [
    {
     "name": "stdout",
     "output_type": "stream",
     "text": [
      "1940.93532311\n",
      "1154.09097664\n",
      "0.640533852212 0.526688320349\n"
     ]
    }
   ],
   "source": [
    "weights = pd.read_csv('/data/home/iballard/fd/analysis/omegas_powell.csv')\n",
    "weights = weights['weights'].values\n",
    "v_pos = [x for n,x in enumerate(vSTR_mb) if weights[n]>0]\n",
    "v_neg = [x for n,x in enumerate(vSTR_mb) if weights[n]<0]\n",
    "\n",
    "print np.mean(v_pos)\n",
    "print np.mean(v_neg)\n",
    "t,p = scipy.stats.ttest_ind(v_pos,v_neg)\n",
    "print t,p"
   ]
  },
  {
   "cell_type": "code",
   "execution_count": 151,
   "metadata": {
    "collapsed": false
   },
   "outputs": [
    {
     "data": {
      "text/plain": [
       "<seaborn.axisgrid.JointGrid at 0x7faa4daf9ed0>"
      ]
     },
     "execution_count": 151,
     "metadata": {},
     "output_type": "execute_result"
    },
    {
     "data": {
      "image/png": "iVBORw0KGgoAAAANSUhEUgAAAbwAAAGpCAYAAAD2q4P3AAAABHNCSVQICAgIfAhkiAAAAAlwSFlz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\nTkSuQmCC\n",
      "text/plain": [
       "<matplotlib.figure.Figure at 0x7faa4e21aa90>"
      ]
     },
     "metadata": {},
     "output_type": "display_data"
    }
   ],
   "source": [
    "v = np.array([v for n,v in enumerate(vSTR_mb) if dlpfc[n]>-2000])\n",
    "d = np.array([x for x in dlpfc if x > -2000])\n",
    "sns.jointplot(acc, dmpfc_mb)"
   ]
  },
  {
   "cell_type": "code",
   "execution_count": 20,
   "metadata": {
    "collapsed": false
   },
   "outputs": [
    {
     "name": "stdout",
     "output_type": "stream",
     "text": [
      "Ains 0.307777990352 0.760309712236\n",
      "pIns 0.0187262953535 0.985179462267\n",
      "vSTR 0.845517958376 0.404300832427\n",
      "dlpfc 0.3665034559 0.716479137475\n",
      "V1 0.97024488639 0.339434226795\n",
      "acc 1.10226071094 0.278832676321\n"
     ]
    }
   ],
   "source": [
    "for index in roi_map.keys():\n",
    "    roi = roi_map[index]\n",
    "    roi_df = df[df['roi']==roi]\n",
    "    t,p = scipy.stats.ttest_1samp(roi_df.ix[roi_df['exp']=='ser','cope'].values,\n",
    "                          0)\n",
    "    print roi,str(t),str(p)"
   ]
  },
  {
   "cell_type": "markdown",
   "metadata": {},
   "source": [
    "#PE model based"
   ]
  },
  {
   "cell_type": "code",
   "execution_count": 194,
   "metadata": {
    "collapsed": true
   },
   "outputs": [],
   "source": [
    "contrast = 'PE_mb'\n",
    "analysis = 'PEfb-diff'\n",
    "in_tuples = []\n",
    "for exp in ['ser','sim']:\n",
    "    for sub in sub_list:\n",
    "        for index in roi_map.keys():\n",
    "            in_tuples.append((sub,exp,roi_map[index],contrast,analysis))        "
   ]
  },
  {
   "cell_type": "code",
   "execution_count": 196,
   "metadata": {
    "collapsed": false
   },
   "outputs": [],
   "source": [
    "# pool = multiprocessing.Pool(processes = 40)\n",
    "# output = pool.map(extract_cope,in_tuples)\n",
    "# pool.terminate()\n",
    "# pool.join()"
   ]
  },
  {
   "cell_type": "code",
   "execution_count": 123,
   "metadata": {
    "collapsed": false
   },
   "outputs": [
    {
     "data": {
      "text/plain": [
       "<matplotlib.axes._subplots.AxesSubplot at 0x7f812f235050>"
      ]
     },
     "execution_count": 123,
     "metadata": {},
     "output_type": "execute_result"
    },
    {
     "data": {
      "image/png": "iVBORw0KGgoAAAANSUhEUgAAAZkAAAENCAYAAADdUhibAAAABHNCSVQICAgIfAhkiAAAAAlwSFlz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\nmMT8P+UK5iZ68YC4AAAAAElFTkSuQmCC\n",
      "text/plain": [
       "<matplotlib.figure.Figure at 0x7f81344adf90>"
      ]
     },
     "metadata": {},
     "output_type": "display_data"
    }
   ],
   "source": [
    "df = parse_output(output,'PE_mb')\n",
    "sns.violinplot(x='cope',y='roi',hue='exp',data=df,split=True,inner = 'stick')"
   ]
  },
  {
   "cell_type": "code",
   "execution_count": 126,
   "metadata": {
    "collapsed": false
   },
   "outputs": [
    {
     "name": "stdout",
     "output_type": "stream",
     "text": [
      "Ains -2.07451733988 0.0464228042104\n",
      "pIns -2.65161964165 0.0125088064629\n",
      "vSTR 0.310554850813 0.758217528274\n",
      "dlpfc -0.551363193933 0.585337354331\n",
      "V1 -4.93599456127 2.58002800937e-05\n",
      "acc -1.26983739901 0.213592154499\n"
     ]
    }
   ],
   "source": [
    "for index in roi_map.keys():\n",
    "    roi = roi_map[index]\n",
    "    roi_df = df[df['roi']==roi]\n",
    "    t,p = scipy.stats.ttest_1samp(roi_df.ix[roi_df['exp']=='sim','cope'].values,\n",
    "                          0)\n",
    "    print roi,str(t),str(p)"
   ]
  },
  {
   "cell_type": "markdown",
   "metadata": {},
   "source": [
    "#PE mb state"
   ]
  },
  {
   "cell_type": "code",
   "execution_count": 127,
   "metadata": {
    "collapsed": true
   },
   "outputs": [],
   "source": [
    "contrast = 'PE_mb_state'\n",
    "analysis = 'PEfb-diff'\n",
    "in_tuples = []\n",
    "for exp in ['ser','sim']:\n",
    "    for sub in sub_list:\n",
    "        for index in roi_map.keys():\n",
    "            in_tuples.append((sub,exp,roi_map[index],contrast,analysis))        "
   ]
  },
  {
   "cell_type": "code",
   "execution_count": 130,
   "metadata": {
    "collapsed": false
   },
   "outputs": [],
   "source": [
    "# pool = multiprocessing.Pool(processes = 40)\n",
    "# output = pool.map(extract_cope,in_tuples)\n",
    "# pool.terminate()\n",
    "# pool.join()"
   ]
  },
  {
   "cell_type": "code",
   "execution_count": 132,
   "metadata": {
    "collapsed": false
   },
   "outputs": [
    {
     "data": {
      "text/plain": [
       "<matplotlib.axes._subplots.AxesSubplot at 0x7f812e0f6ed0>"
      ]
     },
     "execution_count": 132,
     "metadata": {},
     "output_type": "execute_result"
    },
    {
     "data": {
      "image/png": "iVBORw0KGgoAAAANSUhEUgAAAZkAAAENCAYAAADdUhibAAAABHNCSVQICAgIfAhkiAAAAAlwSFlz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\n2ytKAAAAAElFTkSuQmCC\n",
      "text/plain": [
       "<matplotlib.figure.Figure at 0x7f812faa31d0>"
      ]
     },
     "metadata": {},
     "output_type": "display_data"
    }
   ],
   "source": [
    "df = parse_output(output,'PE_mb_state')\n",
    "sns.violinplot(x='cope',y='roi',hue='exp',data=df,split=True,inner = 'stick')"
   ]
  },
  {
   "cell_type": "code",
   "execution_count": 133,
   "metadata": {
    "collapsed": false
   },
   "outputs": [
    {
     "name": "stdout",
     "output_type": "stream",
     "text": [
      "Ains 0.00527830417281 0.995822363727\n",
      "pIns -2.13155788531 0.0410763990791\n",
      "vSTR 0.444574827867 0.659715510198\n",
      "dlpfc -0.0137246516922 0.989137606013\n",
      "V1 1.02661071773 0.312548155017\n",
      "acc 0.987360496344 0.331110218513\n"
     ]
    }
   ],
   "source": [
    "for index in roi_map.keys():\n",
    "    roi = roi_map[index]\n",
    "    roi_df = df[df['roi']==roi]\n",
    "    t,p = scipy.stats.ttest_1samp(roi_df.ix[roi_df['exp']=='sim','cope'].values,\n",
    "                          0)\n",
    "    print roi,str(t),str(p)"
   ]
  },
  {
   "cell_type": "markdown",
   "metadata": {},
   "source": [
    "#Value regressor"
   ]
  },
  {
   "cell_type": "code",
   "execution_count": 11,
   "metadata": {
    "collapsed": false
   },
   "outputs": [
    {
     "ename": "NameError",
     "evalue": "name 'roi_map' is not defined",
     "output_type": "error",
     "traceback": [
      "\u001b[1;31m---------------------------------------------------------------------------\u001b[0m",
      "\u001b[1;31mNameError\u001b[0m                                 Traceback (most recent call last)",
      "\u001b[1;32m<ipython-input-11-fc9fdd25fe09>\u001b[0m in \u001b[0;36m<module>\u001b[1;34m()\u001b[0m\n\u001b[0;32m      4\u001b[0m \u001b[1;32mfor\u001b[0m \u001b[0mexp\u001b[0m \u001b[1;32min\u001b[0m \u001b[1;33m[\u001b[0m\u001b[1;34m'ser'\u001b[0m\u001b[1;33m]\u001b[0m\u001b[1;33m:\u001b[0m\u001b[1;33m\u001b[0m\u001b[0m\n\u001b[0;32m      5\u001b[0m     \u001b[1;32mfor\u001b[0m \u001b[0msub\u001b[0m \u001b[1;32min\u001b[0m \u001b[0msub_list\u001b[0m\u001b[1;33m:\u001b[0m\u001b[1;33m\u001b[0m\u001b[0m\n\u001b[1;32m----> 6\u001b[1;33m         \u001b[1;32mfor\u001b[0m \u001b[0mindex\u001b[0m \u001b[1;32min\u001b[0m \u001b[0mroi_map\u001b[0m\u001b[1;33m.\u001b[0m\u001b[0mkeys\u001b[0m\u001b[1;33m(\u001b[0m\u001b[1;33m)\u001b[0m\u001b[1;33m:\u001b[0m\u001b[1;33m\u001b[0m\u001b[0m\n\u001b[0m\u001b[0;32m      7\u001b[0m             \u001b[0min_tuples\u001b[0m\u001b[1;33m.\u001b[0m\u001b[0mappend\u001b[0m\u001b[1;33m(\u001b[0m\u001b[1;33m(\u001b[0m\u001b[0msub\u001b[0m\u001b[1;33m,\u001b[0m\u001b[0mexp\u001b[0m\u001b[1;33m,\u001b[0m\u001b[0mroi_map\u001b[0m\u001b[1;33m[\u001b[0m\u001b[0mindex\u001b[0m\u001b[1;33m]\u001b[0m\u001b[1;33m,\u001b[0m\u001b[1;34m'PE_mb'\u001b[0m\u001b[1;33m,\u001b[0m \u001b[0mcontrast\u001b[0m\u001b[1;33m,\u001b[0m\u001b[0manalysis\u001b[0m\u001b[1;33m)\u001b[0m\u001b[1;33m)\u001b[0m\u001b[1;33m\u001b[0m\u001b[0m\n",
      "\u001b[1;31mNameError\u001b[0m: name 'roi_map' is not defined"
     ]
    }
   ],
   "source": [
    "contrast = 'PE_mb'\n",
    "analysis = 'Vfb'\n",
    "in_tuples = []\n",
    "for exp in ['ser']:\n",
    "    for sub in sub_list:\n",
    "        for index in roi_map.keys():\n",
    "            in_tuples.append((sub,exp,roi_map[index],'PE_mb', contrast,analysis))  "
   ]
  },
  {
   "cell_type": "code",
   "execution_count": null,
   "metadata": {
    "collapsed": true
   },
   "outputs": [],
   "source": []
  },
  {
   "cell_type": "code",
   "execution_count": 17,
   "metadata": {
    "collapsed": false
   },
   "outputs": [],
   "source": [
    "roi_map = {'1':'Ains','2':'vSTR','3':'pIns','4':'V1','5':'dlpfc','6':'acc'}\n",
    "contrast = 'PE_mb'\n",
    "analysis = 'Vfb'\n",
    "in_tuples = []\n",
    "roi_dir = home_dir + '/analysis/ser_4mm-' + analysis + '/group/mni/'\n",
    "for exp in ['ser']:\n",
    "    for sub in sub_list:\n",
    "        for index in roi_map.keys():\n",
    "            in_tuples.append((sub,exp,roi_map[index],roi_dir + '/state/seg/' + roi_map[index] + '.nii.gz', contrast,analysis))\n"
   ]
  },
  {
   "cell_type": "code",
   "execution_count": 19,
   "metadata": {
    "collapsed": false
   },
   "outputs": [],
   "source": [
    "# pool = multiprocessing.Pool(processes = 40)\n",
    "# output = pool.map(extract_cope_mni,in_tuples)\n",
    "# # output = pool.map(extract_cope,in_tuples)\n",
    "# pool.terminate()\n",
    "# pool.join()"
   ]
  },
  {
   "cell_type": "code",
   "execution_count": 20,
   "metadata": {
    "collapsed": false,
    "scrolled": false
   },
   "outputs": [
    {
     "data": {
      "text/plain": [
       "<matplotlib.axes._subplots.AxesSubplot at 0x7f922d73b790>"
      ]
     },
     "execution_count": 20,
     "metadata": {},
     "output_type": "execute_result"
    },
    {
     "data": {
      "image/png": "iVBORw0KGgoAAAANSUhEUgAAAZkAAAENCAYAAADdUhibAAAABHNCSVQICAgIfAhkiAAAAAlwSFlz\nAAALEgAACxIB0t1+/AAAIABJREFUeJzs3XmcHHWd+P9XVfU1PffkvgNJqHAp4IknoiiKH7wBBa8v\nq+u9fh/qfl1115/rubu6rsd+V0S/KogiKColgngiyqFyBUhS5L7DJHP3XV1Vvz8+1TM9k0kySaan\npzvv5+PxSXVXV9d8PumeedfnLCMMQ4QQQohaMOudASGEEM1LgowQQoiakSAjhBCiZiTICCGEqBkJ\nMkIIIWpGgowQQoiaaeYg81i9M1BjzVy+Zi4bSPkaXbOXb1oZTTxPJgSMemeihpq5fM1cNpDyNbpm\nL9+0itU7A0KcbPL5PJdddtmFwBnAIqAFKAL7gPXAXxzHGa5jFoWYNlKTaVzNXL6mK5tSqh24HLjC\nsqwX+75/pMMD4E/AzcAPHcfpm4EsTqem+/wmaPbyTSsJMo2rmcvXNGVTSi0GPgS8E2gDMFPdWOkF\n+LknSS44j8LuPxP6BcxUN6HvYcSSBPnRuFIEfgj8p+M4j9alEMeuaT6/w2j28k0rCTKNq5nL1/Bl\nU0rNBT4OvBtIYpgY8VYIyrSteRUAmc230rb6UjKbbyX0chjxNABtqy9lZMONJOefQ2lwM2EpUzmt\nA3zacZy/znyJjknDf35H0ezlm1bNPLpMiBmnlEoppf4PsBX4oBFPJ5MLn4FhpSD0wZj636bEnLW0\nnnoJhpXEbJkLoIC/KKV+oZR6Rm1KIMT0kiAjxDRQShlKqdegO+6/AEa7meyk9dRLSHSvOu7rXsMw\nwLRIr3gxhpXCSs8DuAQdbH6plHrOtBVCiBqQICPECVJKPRX4DXALGKdgWBixFsLAwzCtafkZOtiY\ntCy/sDrYvBz4s1Lqj0qpVyulpueHCTGNZAizEMdJKbUE+Ffg7YBhtS4iteBcsltvr1mLfSXYpFe8\nmHKul/zuP4NffD7wfGCHUupbwHWO4+ysTQ6EODYSZIQ4Rkqp+cBHgPcDSTPZSXL+OcTaFs1oPmLp\n+RimRcuKl+P1P4E3tH05of9p4NNKqT8DtwC/BFzHcZp2hI+Y3STICDFFSqlTgA+ihyOnjFgLyXln\nE+tciWHUr+XZSnZiLXoGyfnnGJnNDlaqCz/X+1zgucCXgN1KqT8B9wMPofuNDkrgETNBgowQR6CU\nigEvRQcWBZhGLI1hxUmvfOm09blMB8OKY1gx0isuJCgXyG76ObH2pfi53qWhX7wCuKLq8AGl1DZg\nF7AH2A88GaXe6Plex3GKM10O0VwkyAgxgVIqATwPeC3wBmA+6EmUiR6bWMcysltum1UBZiIzlgKg\nZelzCcOQ0Mvg5/sJioP4xSH8bG83BN2EwXlHOo9S6gCwHdgCPAFsAB5FN8GVa1sK0QzqFmRs234j\n8F1gkeu6/bZtfxn4iuu62+uVJ3FyUkrFgaeiA8uLotQOYFgJYh3LKQ/vpvWUl9Uxl8fPMAyMRDtm\noh1YAeiJoK2rFKFfIizndfILhOUiQblAeXgHYehjWMl5oZedRxhMnJdTUEo9AvwV+Au6KW6TNMGJ\niepZk3kT8BP0leI1ruv+7zrmRZwElFIGMA9YC5wJPAU4FzgHSFaOM+JtxNoWEWtfgpWej2GYZDJ7\n65LnWjIMAyOWhFgS6Br3WmZkJ4YRo23VJYRhSHbzraQWPYugNIRfGCQoDKaC4uCzIHxW1dsGlFJ/\nveyyy7jpppteg+7/2SGB5+RWlyBj23YPcBo6wHwVuMa27T8A7432dUavrwI+6LruHbZtfxV4GmAB\n/+O67vfqkXcxOymlkkA3MAfdvLUAWAwsRV++n4L+PnWMf6cBZox4x3KslrlYrfMx460zmfVZzzAM\nMAxibQuBhaP7w8AnKA6Q2/lHYm2L8PN93aGXeelNN90EemQbwIhSaj3gApuBHcBuYC9wABh0HOeI\nq4WKxlavmswbgNtc111n2/YS27YXo9cDItoucV33Etu2Xwa8y7bt+4FXuK672rbtGPC2+mRb1FtU\nG7kJeP0xvdEwMRPtmPE2zGQHZqIDM9WFmeggu/U2UotklZZjZZgWVstcDCtGy5LzAQjLRfxCP35h\ngKA4SFAYbA9KIxNrPOMopSoPtwMvcBxnV80zL2ZMvYLMm4B/jh7/nPGjXkAvcw561Eun67oDtm0/\nYdv2z9DLn183M9kUs1AKPcprysxUD1bLHB1kEm2YiQ6MeKu+QhfTyoglibUtwkr14BcHK4GGcnY/\nYTl/tLevRNc4Jcg0kRkPMrZtLwWeCXzVtu0QSAODQK7qsOrqswHguu4rbNs+Fx2g3gI0Zi+sOCGO\n4+SVUqcCp6Jv9tWG7qTvRHcszEX3uywkai4LCv2tQaF//IkMCzPZiZXsIvTL+Pl+zFRXXee7NKwQ\nytle/EIfQb4PvzBA6GUnOYo96NrKbvQN2nqBfvTv/0i075EZy7eYEfWoybwR+Lrruh+p7LBtezP6\nDoGTsm17BfAq13W/Cjxk2/bfap9NMVs5jrMX3aZ/VFHzWjdjfTKnAWsJ/TODQv8ZQaE/AZDbficY\nFlZ6HlbrAmKtizCTnVLbmSAMynoYdGGAID+AX+gjLOfI7/zd6DEdHR0Me9wOPIwe7vwYsNlxnKNW\nZUTzqUeQuQJ484R932Ws+QzG+mcqj/cC59u2fTn6Jk7frmUGRfOIRjb1R+mB6teioctrgacD5xP6\nz/Oz+0/3s/sp8QhGvJVY+zLinStmPuN1EIYhBGVCvwBBQEhIqW8DgZclLBfIbHYmq6HkgDz6d/h+\n4C/f//73txuG8YoZzr6YpWY8yLiu+7RJ9n0G+Ez09PGq/Y8BF0ZP31j73ImTieM4HvpK+1HgOwBK\nqYXARcAloZe9xOvf2Ob1bwRMSgObiXeuxDAbcw5zZVJmUBwm9MsU9j9IWM4ReHlCP09YLkAYjHtP\nsXes9Sr0svvRS9I8iq6lPAisl0mZ4kga87dFiBpxHGc/cD1wvVIqBbwCeCsEqrj/b0axd12Y6Flj\n0CAzP8rZ/fjZXvz8QfxCPwRj8cAbeGL0IWNLylTSc4EC8En0sOMtjuMMz2TeRXOQICPEYTiOU0DP\n97glWtb/XQSl95QOPt4DUOxdR2LOWgwrUdd8jhOCN7SD8sguICS/8w9Vr7ARPUHyceDV6FtD70QW\nyxQ1JEFGiClwHGcP8M9KqS8A7wC+UOpbnywNbA6Tc8804j2rMYz6rWXm5/vxBjcTlnMU9t5b2V0G\nvgb8GrjHcZyhqrd8bqbzKE5OEmSEOAaO42SB/1JKfRP4AEHpn4q9D3WUBjaRXHAOsbYlM5aXMAwJ\nA5/c9t/g5w9WdufRy/v/0HGc9TOWGSEOQ4KMEMfBcZwc8AWl1LXAJ0Mv857C7j9ZVnoB1LrDJgRv\naDulg+vBL+Lni6BvTvZ14FeO4wRHPoEQM0eCjBAnwHGcPuADSqn/Af7Tzz15MUBYLmFY8en9YVFw\nCct5CnvvAz1peS/wMsdxNkzvDxNiekiQEWIaRH/kX66UugT4EmHZDstligceJdFjn9jJQ/AGt1UH\nlxD4FvB5x3G2nWjehaglWUNDiGnkOM5twNnA+4BS6eDjZDY7Yeh7EB5bM1pYLlLq26CDy777iZrh\nrgVWOY7zTgkwohEY4TF+8RtISLTuWZNq5vI1RdmUUm3oYPMh9JpqYJgkFzyNWOt8cjt+T9uaS8ls\nvpXQy2HE0kBIct7ZFPb9Bf1fEIJuFvu/gO04TiOs2dcUn98RNHv5ppUEmcbVzOVrqrIppVqAK4F/\nR6+jNspMdBCUMsCkffWVlQi+6zjOQK3zOY2a6vObRLOXb1pJkGlczVy+pi2bUurUv//7v99yzTXX\n3IheTcBDrx5toVciHgH+A7jdcRy3fjk9IU37+UWavXzTSoJM42rm8jVz2UDK1+iavXzTSjr+hRBC\n1IwEGSGEEDUjQUYIIUTNSJARQghRMxJkhBBC1IwEGSGEEDUjQUYIIUTNSJARQghRMxJkhBBC1IwE\nGSGEEDUjQUYIIUTNSJARQghRM3JnTCFqRCmVBBZFaSEwH5h36aWXcuutt34X6AQ6gDagFUhFKRal\nykVggL6nTBm9anMJKAK5qpQFMoyt5DwcbYeiNFiVBoC84zhNuzqumD1kFebG1czlm/VlU0oZQA9w\nCrASWBGl5VFaCsyb0slMMCwTwzLAMsAwMAzw82WsdAw/V8ZMxQjyZQjBiJsQhIR+CMFx//6W0MGm\nvyr1AQeBA1XpSaAXeNJxnMIUzz3rP78T1Ozlm1YSZBpXM5dvVpRNKdWODiCnTJJWAu2TvtE0MNMx\nzBYLMxWjtDdL+oxuirsyOlAYBp0vXMzwH/cCBt0vXz7paQbu2En3xcvHbQG6L14+7piulywlLAcM\n/m4PHc9ZSFgOCMshoReMS/ktQxCGxOe2EHoBgRcQZL3o5ptTMgDsA/YCu6O0C9gJ7AB2OI6TY5Z8\nfjXU7OWbVtJcJk5KVTWR5YzVQCq1kZVRmjPpmy0DqzWO2RrDSsd0QEnHRx8bCRPDGPsb1PfTrbSs\n6aKwZRjD0i1gVmscjOn5O2XETJ1Mg1hX8rDH5TcNAtDxvEWj+wbu2EnXy5bpQFQKCEo+YdEnKAbR\n1qe4J0OsPUFQKHf7I143IWcc7mcopfavXbuWjRs3Xg9srkpPNNjdPcU0mTVBxrbt7wI3u657W73z\nIhqbUioOLED3hSwGllSlpcCyKLVMegLT0NepQUhyZTtWWgeU7CN9dL1k6SFBpNEZhoGRsCBhYRE/\n5PXS3uxoYBq4YyddFy0lyPsM3bWX1rN7yLmDxOekKO3NYsTNhRvdjQBXTTyPUuog8ERVcqPtFsdx\n8rUroainWRNk0FXQpm27E8cnqnGkgG50zaMHXcOYg+7zmIfuUF8QpYXAXI7QnGEkzKg5K6qJtFRq\nI/q5kbQY/NUugnyZtnPHulVyj/VjJq0albRxGJaJ1ab7kJLL28mtH6DtvHkM9ObpftlywiAkyJfx\nMx5BxsOPknewMJcgnEvIcyacMlRK7QY2oWs9W4CtwDZgO9AvgxQaV12CjG3bbwMuRo+qWQZ8OXrJ\nsG17BXAd+sv2VOAh13XfYdv2S4FPA3l0Z+SVruuWZzrvYrwoCCSj1MLYCKlKapkkpaPUWpXaotS+\natUqtmzZsgk98qoLSEwlL0bMxEhZBFmPxJJWzNRYv0j1ttJkJWrDMHVzotUa12E/MnDHTrpeuoyB\nO3bSds5c/KyHP+LhZz0jGPGWBQV/GXDhJKfMKqV2ofuA9qD7hfajByT0ogcs9KP7jDISkGaXetZk\nzgDOQV+hrgN+E+03gPOAN6BHt+y2bbsTeC/wIdd1/2Tb9mvQV7JPzniuG5BSKg18EXhr1e6p/CJW\n1wbCCftCIM4UA8Cx2Lp9K0bSWm3ETcy4iRE3dRNV3MJM6Mdm0sJIWHqbtDCT5mjw6PvpVtqfueAo\nP0XUg2EaGKZBYnHrIa+F5QA/WybIevhZjyBXxs+VCXLl1iBXXht6wdop/IhAKVVg/Pe7+rt7J/B2\nx3GGTrgwYkrqFWRC4C7XdQOgz7btfnQTR8Vm13V7AWzb3oueT3Az8A3btm8Afui6rgSYqXs68O56\nZwJ0U5UODuZokDCTFmbKwkjp2oYRBRYzboJlNFX/hzg8I2YS60xA5/jrltHmt6yHP1CkPFiiPFgk\nyE7akGGia8mH8xrgf4BfT1vGxRHVsyZjTnhcfeVxyLfHdd3v27Z9B/pL4ti2/XrXdd0a57FZ/Bnd\nEXtu9Lx6CKZR9TyYsN9E11QS6OawBLoJLFmVUlXbiemQDoywFI1iykwx5wajQcdIWLpmk6zUaKpq\nMqmxYCUaSxiGhEUfP6MDSZDxdA0mq7dhwT/aKXzGmssqk09H0JNTs+gm9iA6dhdwV00KIiZVryBj\nAOfbtm2iO3Lb0O2qhz3etu1PAF93Xfda27bno5vbJMhMgeM4PnBDlGZMNMprsn6Z1qptdWoH2i6+\n+OKP3HHHHT8EugjpDEtBV1gKusmWe3wd0I5q4Fc7D+2TaYmNpZSFYUoNaUaFIeX+AmE5ILe+f3RA\ngJ/xoDxp662PDgo7om2lT2Yvuqn8SfTk0SHph5m96tlcth3dBLYa+BjwEsZGmE38woToCV+/sW27\nMkv5SzOVWXF8HMfx0MugjBzjWz/y3ve+900Td0aDDFo4dHTZAvQIs4XR44uCbLkvyJbnc4RRZmbK\nGh1VNjrSLBquTPNOUq6poOQTZKOmrYynayOZMn6mRFgMGPrDXgDyGwcrbykQzaOJtpvQI8u2Arsd\nx5HBPQ2uns1lW1zX/UjV8+qr7GdWHriu+4zo4XVREiep6Gq1slbXrqMdr5SKoYNO9RyZJUTzZIKC\nvzwo+EvoLx7292Dwd3uwWnUgCr2A0v7c6POTbZRa6AeEQYh3sECQLxN6AdlHDhIUfQZ/u5sgV2bg\nFzsme2uAvqhsA24ELgA+hA4ouxzHCSZ7k2gO9Qwycqkoaiq6Ct4TpUkppSz0pM3KrP+V0ePXAD3+\nYNH3B4ujTXQj9+wffa+RsnTtpzVeNfM/qhW16AEMs1UYhnrpmSCkPFDUM/2rZ/yXxmb8B/ky/bdu\nJyzrWKCXw9EKW4YB8IdKOXTz1l2vfOUrX/mLX/zig+j5LpuA7Y7jFGe6jGJ2kLXLGlczl2/WlE0p\nZaJrQ5U1y05l/Pply5hkgAOAETMwW2L4Ix6JZW2U9mVHR8q1njuX7CMHAYOO5y3CiBl6gcxoiC8G\nDN65i66XLmfwzp10XbSMwV/rylvHBUvA1wFi+O59tD9zPmE5JPNAL+mzevQSMdVrl5X11uvVk+qN\nhEnoBVO9zAvRTZ5PoOem2OhWh0r/yE50rfJgVb/IrPn8aqTZyzetJMg0rmYuX8OULRrcsAQdcCrr\nn1WWrak00/XUK3+TCNABozIa6ynAT9Ed6H1V2170PLWDx9Ev0jCf33Fq9vJNKwkyjauZy9dUZYvu\nKzM/SvM+9KEP3f6lL33pA+i5S3H0BME2xoaCV+4ncy7wCHrliwei5yHwB8buJ/NS4AfR4zehB8RU\n7iNTfT+ZoWNYqv9ENdXnN4lmL9+0kiDTuJq5fM1cNpDyNbpmL9+0mr09k0IIIRqeBBkhhBA1I0FG\nCCFEzUiQEUIIUTMSZIQQQtSMBBkhhBA1I0FGCCFEzUiQEUIIUTMSZIQQQtSMBBkhhBA1I0FGCCFE\nzUiQEUIIUTP1vGmZEGICpdRc4LnAM4Cz0PetWQCkgTIwjL6Hy2PA/cCvHcfZO/nZhKg/WYW5cTVz\n+Zq5bFBVPqWUATwduBS4BL2c/6jKVWCXZdHn+6QNk2x4yN2K7wG+B9zgOE62lhmfopPm8xNHJ0Gm\ncTVz+Zq5bIRhGF566aXPAd4AvB59gzNMYGEszr6yxyVtHfw+m+HNnd3cMDzAVZ09fGPgIO/qnss3\nBg7SYhick0qz3Suxt+xVTj0MfA34suM4ffUoW6SpPz+av3zTSprLhJgBUY3lPODyeXPngq59kDAM\n4hi0miaqvYOEYfI/AwdZFk9gGozernkiyzB4aqqFp6Za+MbAQZ6WauHBQr4jgI8D/6CU+nfgS47j\n5GaoiEJMSoKMEDUSBZazgcuBy4DVAEN9fVjAy9o6WBqL88PhAfJhQMI4/nE4z2hpZWOxSC4MSBhG\nayEM/xV4l1Lqw8CNjuM0bZOFmN1kdJkQ00wptVop9c/A4+jbJ38sBqtXxxNc3NrOWzt7CIAV8QTW\nYWoqx8MwdDvOlZ3dxnmpFkxYjL418++VUmdO2w8S4hhITUaIaaCU6gHeCLwZeFZlf9oweG66jRXx\nBPFpDChHkjBMntXSyumJFH/OZ9nulV4IPKyU+k/g047jZGYkI0IgQUaI46aUMoGLgKuBVwEJA90j\n/MJ0G3/N5zAMWJ1I1iV/HZbFy9s6+MbAQdpMMzYSBP8IXKmU+t/Aj6UJTcwEaS4T4hgppRYopf4J\n2ALcAbwhDonzW9K8ubOHEFibTDFDFZcpubyjmwQGJiwBbgJ+p5Q692jvE+JESU1GiCmIOvFfALwb\neC0Qj6FrKWckU9yZGeGcVLqueTySuGGQNA1e19bFPfkMOzzvAuBBpdQPgE85jvNEnbMompQEGSGO\nQCk1B93P8k7gdIBu08IEXtXRSTIaETabai1H0mVZvKKtk11eiTszw5TgTcAVSqmbgf8C7pdmNDGd\nZjTI2Lb9XuAqoAi0AB9Dj765OTrkHGATkEWPivGATwObo9dbgW+7rnvNDGZbnGSUUkngZejgcimQ\nMIEWw+Qlre0sisW4YXhgNMA0omXxBAnD5IJ0Kw8Ucmaf71+OHmq9Til1PbrPZnt9cymawYwFGdu2\nVwJ/BzzddV3ftu3TgG+6rnsB8KLomN8D73Vdd330/K3AD13X/cfoeQJ4yLbtO1zX3TFTeRfNTyk1\nD3gJ8MoodYCutZyeTHFaIslPRgZZHI/XM5vTyjBgVSLJqfEEe8oejxULbPdKTwnhP4D/UEptAP6A\nXiPtYeAJx3Hy9cyzaDw1CzK2bT8AvNp13V22ba8AHgL2AUkg57ruE8AFk7x1YsPD6HPXdUu2bT+K\nXjRQgkwTifo8WoDWb3/721x99dWrgThjg1N89AKRRSAfpdyxNu0opWLozu9VwBnotcKeHT0GoM00\nWRVPsiaRZK5lHXbWfbMwDIOl8QRL4wnyQcA2r8R2r8gezzu9rJsI3x0dGiql9gK70L/LvcBBoD9K\nA8DgV7/6VT7wgQ8sBwaBEWl+O7nVsibzU0AB/xc9vPPf0F/YbbZt/xL4JXCL67r+hPcd9gtp2/YC\n4JnA+2qSYzEtlFIXAS+fsNsC2oB2dC2hA+isetxGFFCuvvpq0M2mU/lZWSCDbmLNAwV0ICpX/dxU\n9HO7gblMuJCJAQticZbG4iyPJ5hzEgSWw2kxTc5IpjgjmcIPQw76ZQ6Uy/T5PoOBb4wE/pJMECw5\nUtT4wAc+AGMXgb5SahAdgIaq0jD6cysx9nmEwH2O49xUi7KJ+qhlkLkF+BI6yFwKvMt13c22ba9F\nt3f/I/oK6cIjnMMALrdt++noPxQLgfe5rnuwhvkWJ0Ap1QLcjv7jfkIqc04OWXN4vNYoHZNu0+KU\nRIJV8SQ9loV5kgaVI7EMgwWxOAti45sIwzAkH4YUwoCRIOC32RFOSyQZCQKGA58RP8Abu1a0gDlR\nmhKl1N8cx9k6bQURdVWzIOO67nrbthfbtr0U6IoCTMp13Y3ARtu2vxZtl7muu+swpwmBG13X/Ufb\ntluAB9Btw2KWchwnr5T6KHqhxspfp8lWrY0DiSOdK+QI1dojv62Ebl4L0X/kkhN//kDgM1DI80gh\nzzwrxsJYnKXxOIticWIScEaVo9pMv+8z6PsMBz7ZICAbBOTDYPQC4NFiYSqnC4GJC3ZWfzdC4Bqk\nKbyp1Lrj/zbgc8DPbNu+GrjQtu2rXNcNgS5080jvUc5hALium7dt+1+BL6MXGxSzlOM4XwS+eLTj\nlFIpxprL2tFNZq0f+9jHbv/c5z53Bfr7aaH/+FT6ZEroP1R5dBNZJWWi/d7EPoCovycN9ADzgeVE\nfTI+nLvfL5+93y9bDxfzxNAjr05NJDglnpyxpWBmizAMOej7bPOK7PY8DvjlyWqSJcb6ZPrQN1f7\nGboPZuAf/uEfvvSVr3zlNehmsUpfzRC6f+YoFVPRbGodZG5BL2n+FOAJYC1wn23bGfSV7Ptd1y0e\n5RyjfzBc173Rtu332bb9Etd1f1OrTIuZ4ThOAd2HcsiFhuM4P5rGnxMyFox2oWvEo5RSbcBzgIvK\noLZ5JXubVyJGhlMTSdYmkiyONc+ossnkgoANxQIbSwWGg9E4UEb/X92PnmqwAb3KwYGjdOZ/6SUv\necnPapph0TBqGmRc1/0b45tEPnKU41804fn3JjnmedOTOyG0aMHIO6P0EaXUGcDlZbjqiVLx1CdK\nRTpNk1IYUggCUmbjzo+ZaMj3ebCQ44lSsVJjyaNrJT9B39p5uI7ZE01AZvwLMYHjOOuBTyql/j/g\n+cDfDQXBZUDye0P9rE4k8cOQMAwbdhRaJvDJBwE/HB6oNBU8AXwFfQvnoXrmTTQXCTJCHEbUJPRH\n4I9KqQ8Cbw3g3U+UimsAbh4Z5IxkijV1WmX5eHhhyEOFHA8X8kRzB9YDn0LP8Jf+EjHtJMgIMQWO\n4/QDX1ZKfQU97P5dfb7/qrtz2dg9uSwGsMcrzdq+mzAM8cKQG4cHyOg+l/3ozvtnOI4zca6aENNG\ngowQxyC62v8N8Bul1CLg7T78L2DVrZlh2kyTEOjzy0c8z0z7ZWaYQhhCGHro+WuflZuXiZkgQUaI\n4+Q4zj7gc0qpzwPPA96W0X03bTcND2ICMQyGfJ9O64Tnph6zchjyUCFPCOwsewAHgOc7juPOeGbE\nSUuCjBAnKOq7uRu4Wyn1fuAS4E0BXFoiNH8wPMA8K8aqRILV8STtNQ44YRiyzStxTz7LiG4aC4Ar\ngR/JOmJipkmQEWIaOY6TQ9+64malVBd63b4rDvjllxzIl2P35XMssGKEQDbwaTWnP+D8bGSI/bq5\nroweMfavMhRZ1IsEGSFqxHGcQeB7wPeim5+9FriiN/AvBLhuaICFsRilMCR2yKo7x2ZbqUguCAih\nEmB+BvwfueOlqDcJMkLMAMdx+oBrgWsHBgbCt7zlLe8DLttfLj8fMIqE/Gh4gGUxPXe5EBx5NHEY\n6tFsOzy9FOUd2ZHKS73Aqx3HubdWZRHiWBhh2LRNtJMtythMmrl8zVw2qCqfUmohukntU+j1/EYn\n3RjAoliM3nKZ1YkkG0tFVsYTbPdKk53vWuC/HcdZNxMFOIqT5vMTR3fYIGPb9sdc1/2cbdvXT/Jy\n6LruW2qbtRPW7F+EZi5fM5cNDlO+6DYJz4vSM4EXom9xMfHYEL0Y5fXopXB+4zjO0dYAnEkn5ecn\nJnek5rLKIoK/ZfyK6wbHtQK7EOJIolsb/zpKACilEsA89CrSZfRqxgMySkw0iik1l9m2fQpwHjq4\n/M113Z2YpcuNAAAgAElEQVS1ztg0aParjWYuXzOXDaR8ja7ZyzetjrqcrG3b7wJ+B1wBvAm4y7bt\nt9U4X0IIIZrAVEaXvQU43XXdAoBt263oJrTv1jBfQgghmsBUbozhVQIMgOu6WWA2dTIKIYSYpaZS\nk9lt2/bX0J2RBvAyoBH6ZIQQQtTZVILM/UAr8HZ0h9d9wNdqmSkhhBDNYSpB5qXAVa7rfr7WmRFC\nCNFcphJkWoDttm27QGWqcei67gtqly0hhBDNYCpB5tOT7JOJYEIIIY5K1i5rXM1cvmYuG0j5Gl2z\nl29aTWUIsxBCCHFcZKl/IWpMKRVD9222AMlrr72Wd7zjHavQV8N+lIpAAcg7jnPIMstCNCppLmtc\nzVy+WV+2aOHKZcAKYDmwBFgELEQvaDkX6AE60ItbHosSMIJeaXkA6AcOou8V0wvsA/ZGaZfjOEMn\nWJzpNus/vxPU7OWbVhJkGlczl29WlE0pZaGDyOmADZwGrAFWoQPMYZubY1aSmJXAKxdobZmDaVpk\n8/10ti1kOPsknW2LGMrsB0IIob11HkHgM5I7QCrZju97FEojgEEY+kfL6gh6gvSOKG2L0lZga3SH\nzpk0Kz6/Gmr28k0rCTKNq5nLN6NlU0qZwErgLODMqrQWfT+XcRKxNMlkOyPZJzGNGCsXP4NEIs3e\n3sc4bcULiFlJDEPHnwc3/ITzTn/duMfV24qJx1Q/fmDDTzhr1cV45QJeOU+pnMfz8vT2b8IPfRKx\nFMVSFj/wDlfEfmAzsCXabgY2RduDNbhtQDN/N6H5yzetpE9GnDSUUgawlEODyZlMaNIyDYuWZCct\nqU69TXaSSnaQSrZjmfrX5t511xGEPgvmrAFg2+77iMdapj3fBpBMtJJMtI7b39u/CcuweOpplwLw\nwIYfE4YhYRiwdP7ZFEoZDg5tJ2YleoqlzDPDMHjmJKcfUkpVB53q1Cv3rREnqi5BJlrJ+XH0FcGZ\nruvmDnPc14FnAxe4rpuZwSyKBqaUSgKnopu41kbpjGjbXn2sYZi0JDtJp7rI5vuxzDhrlj+fZKJ1\ntDbSKAwMDMMAw2TRvDMAGBjexbn2qwnDgJKXo1AcoVAaIV8cplAaoVAc6SyURp4Whv7TJjllRim1\nFV0D2spYM9w2YIfjOJP+3gpRrV41mUpV82hXSS8HzpUAI6pFzVvz0f0lK6PtKnRgWY3uiB8XIQzD\nJJXsIJ3spCXVRTrZFdVSOsY1bQVBmVRyXBxqCoZhkky0kUy00cmica+FYUjJy/Ho5ttYtuAc9h54\nnHSqm0JpuK1QyjwlCMpPmeycSqkD6L6gncDuKO35zGc+wyc+8YnT0QMUhqQ2dHKbsSBj23YH8BMg\nCfyJsQBj2Lb9XWAY3cE6F70Y50XAYsCxbVuhVx54JvoWtO9yXffxmcq7qK0oaLQDnUD3Zz/7WT7+\n8Y+/Hv1dmB+lRVFajB7JNel3Nx5LkUp2kskdZNmCp442d6USbQ1XM5kphmGQTLRiGhYL5pzGnt5H\nsVdeAOgA5JULrNv0C1YsehrFUoail6FYylIsZeYVvdy8ibWgT3ziEwDro6clpVQvenRcX5QG0CPn\nhtC/9yNABshGKY8ezl1Aj7QrAR76d99jbNh3IAFs9pvJmsxVwDrXdT9k2/ZlwBurXguBmOu6F9m2\n/UrgX1zXfa1t2+9B12aeAyx1Xfd827afD1wO/MsM5r1mon6CVejPwkBfgZuAdZgUA2Kf/OQn+dSn\nPnVp5flRkjXJ8+qfUfmZRlUeKrVNg/GdnMaEfcaE91WfNwbEo5RAX2Ck0PNF0ujVvdui7aiPf/zj\nADcf+r9lkIi1kEikScTTJONtuq8i3kYq2U4y0YplxgG4d931LJl/1uH+28UUGYZBIt6CaZjM6z71\nkNfDMOTBjT9h7coXUfRylLwcJS+PFw1O8PxCwvMKSz2/sDQIytOeP6VUCARVKTzKtpJGA1W0LU+S\nqgObRxTsXvjCF3LXXXd9h7HgV5qQvEm21an63JXkV20n5i0E9jqOMzJ9/3MzZyaDzOnAH6LHf0D/\nUaq+CvlNtL0P+Leq/QZwHrr2g+u6dwN31zCfM+2zwD8d65s+9alPAfx82nNTB/FYikS8lWS8lXi8\nhbiVJBZLErOSxGOp6PWWcaO2xOxgGAYGBq0tc2htmXPEY4PAp+wXKfslfL9E2ffwAw/f9wjCMn5Q\nJgjKBIFPEOrHvl/GDzy9P/Sj1wLC0CcMA8IwNMp+yTJNywrDEMKAsMZLK951110Ab6vpDznUAaXU\nIsdxjjqefbaZySBTHVSsSV63JjmuonyY9zSDP3AcQaaZ6KG5BbL5PgyM0QATi6WIx3SgScTSUbBJ\nk4i3koiniVkJ3dEtZp0wDEY/10oq+0XK5SLlwMP3i+ODTFAJJv5okDkWtaglzTI/bMQAAzMbZFzg\n6cAtwIsmvGYAz0c3kZyPHnlWEQJ/BT4KfNG27XOBq13XfV/NczwDHMe5k+Mbc3/YsfpRE9y45rWq\nx9X7q5u3qpu7JmsOo+r5xK3JsTeXtTDWXNaOnhnfGRJ2z18w59l79uzpozjUc7gyAphmjGS8lWSi\njVSijWSinVSynZZExxH+28SJCsKAUilL0ctSLGUp+yW27L43airL6aaycuHoJxqTZ6xPJg/k0P0x\nxShVmqEO16x0MXAbY81ilSamyZrKKq9Xnlefq/LYA94F/Bfjm7lKgPeFL3zh1x/96EfPj/ZV8jex\niWy0H+lk7zeaySBzHfBT27Z/A/yZ8bWVEEjZtu2g5zFcVbUf13Xvtm37VbZt/zHa956Zy3bjib7U\nlbbeYp2zczxCYG40434OsAC9XMsidKf/UmBZEJSX54tDK/PFoc7JTvLgxltG57joYcp6G4slZ6oc\nDSlE1y4rw52LpQyeX+SxLb+iWBqh5B06crm3f1PlYXbx4sWte/fu/SPwZJR6gQPoTv/+KA1GacRx\nnNlYDfnmkV50HOe+mcpIo5uxIOO67hBwYdWuT1Ye2LYN8DPXdX854T2nVj3+cK3zKGaXqHmgsl7X\no4c7TinVBZyCHsK8JkpXFUuZwWIpM39wZM+44+OxFtKpLtKpLlqSXaOPTyaVUWOF0vBoMKmMIit5\nWf62/qZD3jOSfTJED1PeBmxnbCmbXVHa7TjOMDpOvXCmyiJmN5nxLxpetDbXQ1GquBpAKdXD+AmZ\nZ3rl/JlDmfyyocy+CWcyMAyTHfseiIKPrvlYVnwmijHt9Oz/kKHMfop64uW4iZiT9WNk8/2VYcO/\nR0/CrKSt6AmYskK0OCazIsi4rvv2eudBNCfHcfqBe6I0SinVQRR0gLP1Nnx+GPrJvQfGT8FKxNOj\ny8q0JDtIJdpJJtpmqASHF0b/jmQPUPQylH2PkIAwDHnI/RnFUoYwDFi/9c6Jb80ztpbZpqq0GT1U\nNpi5UohmNyuCjBAzLWrWuS9Ko5RScxgLPmcAp5e83OklL7fk0JoPQMi6TbeRiKfx/CK7n1xHLJYk\nbqWIxRIEYUC+OIxpxggJ8QNP90KHwbhOyXK5SBD6hGFINt+vR10FPgcGtlAOPHbufyiae1IYXSCz\nVNZ9I49tuf2QXBWKw/3oZq2F6P7QSlDZggQSMYNkFebG1czlm3VlU0q1MdbfsypKb0fntYweOTdT\niuh7yXSiayU3MrbM/w5gWxRE62XWfX7TrNnLN60kyDSuZi5fQ5UtGjLeg17yZhF6OZx5QBfwZvRc\nqDRwAfBIR0fHxcPDw78FnsrYUNt70MHjfPQk2xHgVcCX0cuwHIhSLzAwy4fFNtTndxyavXzTSoJM\n42rm8jVz2UDK1+iavXzTStboEEIIUTMSZIQQQtSMBBkhhBA1I0FGCCFEzUiQEUIIUTMSZIQQQtSM\nBBkhhBA1I0FGCCFEzUiQEUIIUTMSZIQQQtSMBBkhhBA1I0FGCCFEzUiQEUIIUTMSZIQQQtSMBBkh\nhBA1I0FGCCFEzUiQEUIIUTOxemdAiJOBUqoDWAEsfd/73sfXv/71j6Nv09wDdADt6Fs0J4A4+s6L\nIVAGSkAByADD6Nsx96Nvx7wP2AvsBPY5juPPYLGEOCq5/XLjaubyNWTZlFImcApwNnAGcDpwGrAa\nHUyOKh4zMUyDsucThPq5H4QEwZR+Tz10sNkMPAFsBDYA6x3HefKYC3T8GvLzOwbNXr5pJUGmcTVz\n+WZ92ZRSSeAs4FzgPOAc4ClAa/VxpmlgmQZLF7XR0Z5g994MlmXwgmcu4fa7tvOmV60lmbBIxE2+\ndePj/P2VZwNwzQ2PMpIt8eF3Pg2AIAjxygHFks/3f7qRV154Crm8x70P7aNcDimXA9rbEuzrzR4u\nyweAdcCjwCNRWu84TnHa/3Ma4PM7Qc1evmklzWVCHIVSqg0dQM5lLKichW7WGjW3J8W8njS9fTn6\nBwpcfcVZdLYnuPaHj/H6V6wBdPDwynDK8k4s06SrIzmlPJimQTJhkUxYWKbB8iXtANx1/57R1696\nzVq++M0HeP9bz2FguEDfQIF7H9jHnO4UB/rz84ZGSi8GXlx12rJSaiM64KxjLAjtdRynaa8+xcyS\nICNERCmVQjdvnQ6cGaWnAKuounK1TINYzGTt6m4Wzm1l/twWfn7nVt7+hjMBHUgwoLtzagFkuiWT\nFgvntbJwXit/+uteXnPxagBKJZ8D/XluuWMzibhFazoe238ge1YYchZwZdUphpRSG9BNbU8Am9BN\ncNscxxme6fKIxiZBRpw0oj6ThcBydCf8SnQfyip0v8kKJjSDpJIW8+a0ML8nzfx5aRbMSdPTleJb\nNz7GS5+/YmYLcIISCYslC9tIxC0ArnrNWq654VEue+UaDvTlOdCf52B/noMDhc7BocKzg5BnTzyH\nUmoA3e+zO0r7gP1RehI48KMf/YjLL7/ckNqQgFkWZGzbvgd4n+u6D1bt+zy6PdkH/gPocl03V6cs\nillIKWWgR2gtjtKiqsdLqtJiDvOdtyyDxQta6e5MMacrxdyeFuZ2p2hNxzGM5m5+7+5M0d2Z4rRT\nu0f3+X7A4HCJ/qECt/9hO6ev6mFopMjwSKm7f6jQHYY89XDnu/zyywEKSqkDwMEoHYhSb1UaDU6O\n4+RrVkBRV7MqyAA/AC4DHqza91rgM+irzb31yJSoD6WUhR7muwBdA1lUta0Eksrj9OHOYxjQlo7T\n1pqgoy1Be1ucjrYkne0J7rx7J393xZl856b1XKHsmpepUViWyZzuFHO6U/wubnHR85ePvnbNDY/y\n1tefTibrkcl5ZHMe2bxHLl8mny+TK5TJF8qJXMFbks+Xl5S84Kg/Tyk1xNhw7Mq28rjyfL/jOJka\nFFfU0GwLMj8C/gx8FMC27acBe4CfuK6bs237rfXMnJi6KEB0AqkotaBHXrUCbeiaRwfQFaWeKM1Z\ntmwZu3bt6kUHmMNWIwwD0qkYra1x2tIJdu4Z5pnnLKQ1HY+Cit6fbolhmpOf5rd/3jXafCSmLpWM\nkUrGmNvTctRjy35AvlDm+ls2EoYhFzx7Kbl8mWzeY+Pmfnq6U2RzXmcm63UWiv7aI51LKZVDN8v1\nomtGB9FzhgaiNISeSzSCnleUi1IeKAK5Go2oE4cxq4KM67oHbNveatv2M1zX/Su6VnODNI81pPuA\npx/PGw/07qOnKzkvnYqTTsdobYnTmo6TbonRlo6PBpF0S3xc8PjiNx/guU9fPF35F9MkZpm0tyaw\nTAMwOPO0OaOvuVsGuOyS00afl/2AbM4bV0vKZMdqS9m8l87lyqfkCuVTpjh36BBKqec5jvPnEy2X\nmJrZuKzMD4DLo8cK+HEd8yLqIhz3MIwSjG3FyScMGftqyBehYcyqmkzkFuBjtm3/EHjCdd2hemdI\nHJdno5vDJmsua49SZ5S6gDlANzB3/oIlL9y5c2dvP8W5HOFCyDCgJRWLmsXihCH86a97R59PpblM\n1F65rJvL/CAkDEMef6JP9+HkyuQLZW76xRO6xpLzKBSPuipOlrHmssqggj7GN5eNoJvMslHKo5vM\nikBemstm1qwLMq7rZmzbXgd8DLhhkkPkr0UDiNbQGjjOt4fAgqhfZw66s7+SKp3/i8OQRbl8eVEu\nX17cSz4NcO+D+w45WXXHv+701wMAOtqT+EFIyZPlvo5VoVhmpNKMFaXcaKe/R75Q1s/zZbzy+I7/\nX/5++7jnO/aMAAwyvuN/H7o/dl9Vko7/BjTrgkzkB8D3gDcB2Lb9OXTT2SLgL7Zt3+W67nvqmD8x\nA6JAVRnuuu5wx0VDmNvRw5Qro80qj5eEIUtGst6Skay3ZF/vod/5r/y/hzEMuPFWVw9h7k4xp7uF\nuT0p2k6CIcyT0UOYi/QPFSmWfH59904Gh4sMZ0oMZ0p87buPHO0URcaGLle2z4r2f5mxxT2fRAeP\nQs0KI+pqVgYZ13V/hm5GqTz/GLpmI8Qhokl/w1HacLjjosmYCxg/GfPdwKYw5Lm79mVadu3LjIso\nyYTF/DktzJ+TZv7cNPPntjCn6+gjqhrJwFCB3r48B/ryHBzI0zdQYGCoMK7b4+H1B0YPByzgj+ia\nxl7GJmLuR0/G3HL55Ze3yGRMAbM0yAhRC47jBIw1vdwf7f73yuvRsjJrGFtW5qxiyT97177M6urg\nY5kGIXDn3TtYMDfNgrmHnaIzqxRLPgf785Q8Hz8I+f5PNzKcKfGtGx+feOgQsB69irOLnqv2To5h\nWRkJMKJCgowQkajJ5tEojapaIPMc4Dw/CM8Fzn1k/cFxtZ7v3PQ48+akKZZ8CHUNobN95tcvKxZ9\n+ocK9A8WKBTL3HLHZg705xkeKY07bl9vtozuEL+VscUx16HvS1MdJP5tpvIumo8EGSGOIupsvidK\nACilEoxf6v+KgwOFxMGBQlvlmG/d+Lge1RaG/PiXm+hoT1As+ZgGbNs5hB/ofo/KUv9HEgQhnhdQ\njGohO/YMk8+XKXk+QRAShPD9n24kDOGr33143Hu37BgC3a9VCSIXAP8L2CAjrUStyf1kGlczl68h\ny1Z107KzgOuBnwE2OhDFj/DWUbGYiWkalEp6xFs8ZuL7AVOcd+ihh3z/Gr1y8gZ0k9fjjuP0HlNh\nTkxDfn7HoNnLN60kyDSuZi5f05Wt6vbLS97//vff/rWvfe0TwNuBPzG2xM65wFb0LZhXotdjW4ce\nkVV9++XnoIPYxNsv758lt19uus9vgmYv37SSINO4mrl8zVw2kPI1umYv37SajcvKCCGEaBISZIQQ\nQtSMBBkhhBA1I0FGCCFEzUiQEUIIUTMSZIQQQtSMBBkhhBA1I0FGCCFEzUiQEUIIUTMSZIQQQtSM\nBBkhhBA1I0FGCCFEzUiQEUIIUTMSZIQQQtSMBBkhhBA1I7dfFqKOlFIG+iZl7UBnlLqBOVGaW5V6\notc6gDagBf07HKBvbJYB+oA96JufbQAeBh5zHMebsUIJUUVuWta4mrl8DVG2KEDMR99yeSmwkLFg\nUAkErehgkKqk+fPn2729vU9G+9Mc48WemWwhLHvE2zvwshnire2EQYCXGYYwhDCY+JY88Gf0bZl/\nib4dcy1/8Rvi8zsBzV6+aSVBpnE1c/lmXdmigLIWOB94BnAOcAY6mEyJEY9jWjH8QoF4RxdGLEY5\nM0Jq3kKMWJziwf1gmnSsPhMrmcJKtmCmWnjyj7ezTF2JlUyx5ftfY83bP8S2m77JKZe9c3QLsO2m\nb7LyDe/Az+fYdtM3mf/sC+lfdz9+IU9YHleR2Qz8GLgRWFeDgDPrPr9p1uzlm1bSXCbEYSilFgAv\nB14GvBiYN/qiYWJYFunFKygOHKDrjPOItbRipdLsv+s2ll3yRox4gl23Xs/Ky97J9puvHQ0Gm77z\nJVa+/mpAB4YlL3v96GPCkDnnPmdcPgzLIt42tVhmGAaxdCuEAZ1rn0r/uvuxUi0QpgjKZdKLlpHZ\nsWk1YfhR4KPAeqXU9cANjuPsOqH/MCEmIUFGiCpKqdOA1wKvBp5V2W+lWzEwMJMt+IUcKy97Bzt+\n8v9Y/JJXs+2mb9J95tNGz2FYFvGOruiJgWHMgotew8CMx1l04aVs+9E1zHvWixjZuoHMzi1nEASf\nBz6nlPo9cD1wi+M4w3XOsWgSEmTESS1qBnsKOrC8DjgTAMOgZcFSWpedysDjf+OUy9/F9puvJfCK\nGJaFaTXwr45h0LbyNNpWnoZfLJDZ5nLwgbuNoFi4ELgQ+B+l1G3Aj4BfOo6TrW+GRSNr4N8UIY6P\nUioBPA9QwKvQHfcYpkV6yUraVq5hZJvLkpe+DoDBDQ/NjtpIDVjJ1Giz2nJ1FSNbNzC8ZUPKG+p/\nHTroFpRSvwZ+AdzhOM7O+uZYNBoJMqLpKaUs4Gzghei+lRehR35hxOO0Lj2VthVraF12KmY8AUDf\nQ/fUK7t1E+/oouec8+l+6rMp9R9g9y9vJNbanioN9il0QEYptQn4PXA3cB+wpcYj1USDkyAjmkpU\nS1mDDirnAE9HjwYb7TmPd3TTuvQU0ktPoWXRssZu+qoBwzBIzpmPmUyx4rVvpzQ8SG73VnJ7tpPb\nv2tN6HlrgHdGhw8opR4EHgEeBzbccMMNdHRMedCdaHJ1/+2ybbsDPZSyJUrvB7qAzwI+cKPrul+x\nbfuiifvqlGVRB0qpOOMnKs4DFgCLgWXACmBVtLWq3xvv7CEse/Sc+xzSi5cTb+uc0bw3ukRHF4kz\nzqPrjPMIg4Bi35Pke/dS6N1Lse/Jbm948MXoGiIAV155JcAAsA3YAewC9kWpFziInjQ6CAw5jlOe\n4SKJGVT3IIOezPZN13V/Ztv2BehhlWej5yMMAD+3bfsa4L8n7PuG67rFOuVZ1EDUrHVL9PSYm2Cs\nVJp4RzeJrh4S3XNJ9swj2TMfK5li203fpPO0s6c3wychwzRJzVtEat4iiEbUbfvRNSy84JWUBvso\nDfbhDQ/gjQx2eSPD54Z++dyjnVMpNdnu/3Yc533TnH1RB7MhyBwAXmfb9oeAJHqGdN513b7odWXb\n9nygUL2vDvkUtdcGXHqsbzKTLbQsXEqye44OMp09JLrmjPaviBozDFoWLCE1byHeyBCloQEdaDJD\nFPt6KfTum2wVgqN5LSBBpgnMhiDzQWCX67pvtm37acB3OHThTn+SfaLJOI4zpJRa/MUvfnHvhz/8\n4QsYW3alFb22V1eUKmt5LQQWB8X8ouyOTWZ2x6Zx54t3dJGcs4DUvEWEvk/o+xjWuJY0cZwCr0Th\n4H4KB/bjF3LsuOU7lIYGDhdMisBeYD/wJLqprB/dKjEEjABZIIdeAqeAXpVANIHZEGTmAOuix69D\nf+G6bdtejG7DvRW4CrAm7LvSdV2ZMNZkHMfZF23vmup7ov6aJeg+mdPQy7+c7Q0PnuMND3ZntrkA\nbPn+12hZuJT04hWkl64k0TW3aYcmT7fAK5Hbt4v83h3k9++m2H+A6hbN0mDfCLAe2PCWt7zlbddd\nd90bgO3oPpmDMgLt5DUbgsx1wHW2bV8OfB24HPgMem0lgB+5rjtk2/Z7JuyTACMAiFYY3h6l31b2\nRxMtTwGeDTw39MsvzO3ZfmZuz3b4613E2jpoXb6KtuVraFm4FMOUynK1MAgYePwBsju3kH9yNwSj\ntZQi8BfgXuCvwIPAdsdxKge87Q1veMOPDz2jOBnVPci4rvs39EKDFT+Ptt+ZcNzvgfGLOglxBNHV\n89Yo/QBAKbUIuAh4RTkz/PKh9Q91DK1/CDORom3FalpXrCG9ZEUdc11f5VyGka0bGdm6ET+X4eD9\nv6+89ABwO/Ab4D7HcWTQjZiSugcZIWZS1Bx3HXBd1Mz2AuC1Qanw6uFNjy0e3vQYRjwOYcjIlg2k\nl55S3wzPgMArEXgeu++4mfzeHZXdPrrf5F+AWx3H2Vu3DIqGJkFGnLSiZrbfAr9VSr0f3az22tDz\nXgOcuv+u28AwwDDpe+geQr+MYVp6X4MLg4Dcvp2MbF5PZscmwrJXCTD3AjcANzuO01vfXIpmIEFG\nCCDqT7gHuEcp9RH0XC1FGL6C0H9Of/UyM6bJk3/6FUGpRHbXVsIgICh7mLF4fTI/VSHk9uzAL+TZ\nduM38Au5yitb0asvf99xHBnVJaaVBBkhJoj6ctZF6bNKqS7gAvTaZ28lCDqHn3jUBNj7az13dMt1\nX8GMJ7BSLZRzGXbfcTNmLI5fyPPkn36FX8xz4C9/wLBiEIYMPPpXjFiMwCsxss3FjCcIfR8Mg3Iu\ni5VMnfBw68Avjw7dDv0yoV9mz69uBsAveweAm9G1lntl9JeoFbkzZuNq5vLN6rJFfTk2+rYAa4B3\nABuBRej5OwuYhnldRiw+GrTSi5ZjJVsY2bqB7qc8i6GND9Nzzvn0P3wfc857DqHv0//wvbSvOp1y\nNkN21xYwzInzVnLAt4Hz+P/bu/sYOasqjuNf+kIrRZp2ESqVqhRyUo3vQQgt0AKhNWuttSgEUIEa\njWIKVohGsUiFEN9axdCIIha0osZgYkMb2wqmCuE1RjSmPzVBaBYjra3QNinQF/84d9fpZnfZyjwz\nO09+n2SSnbPP7t4zd+Y5O/e5cy/MrnA5lxHdf01Q9/yaykWmc9U5v47PrSzUeTT5QdLx5AdLxwPj\nli9fvnnZsmULSmxCuR0DfBQYS04P7iq3Y8n12Q63aB0EHiY/sLoDuGDt2rVPvsK0Dudvd3T/vYy6\n59dULjKdq8751Tk3+D/ymz9//lFk0ZlELhTaW7x6h7z3ArvJT9P3ADvbOATm/rM+LjKdq8751Tk3\ncH6dru75NZU/4mxmZpVxkTEzs8q4yJiZWWVcZMzMrDIuMmZmVhkXGTMzq0ydpzCbmVmb+Z2MmZlV\nxkXGzMwq4yJjZmaVcZExM7PKuMiYmVllXGTMzKwyHbMzZkQcB9wJjAOOBJZKeiQi3gasIldGfULS\np8rx1wIXlPgNktZHxETgJ+TeHbuBiyXtjIjzgJuA/cA6STe2OD0iYgy5odRJZL9cI+mBuuRX2jwb\n+A9uy2gAAAZDSURBVBlwhaR7S6w2+Q1HRKwETiPzukrSY21u0pAi4q3AL4EVkm6NiBPJrZpHAf8E\nPizpxYi4BLgKOAB8T9IdETEWWA1MI/vmcklPDtbn7RARXwNmka+5m4HHqEl+EXFUad9x5LYQXyF3\ne21pfp30TuYS4E5J5wBfIB8wgG8BSyTNAiZGxLyIeCNwITATeC+wIiJGAVcD90k6E7gH+Fz5Hd8G\nPlCOPz8iZrQqqQaXAntK2xYDK0q8FvlFxHRgCbC537dqkd9wRMTZwMmSziD7+JY2N2lI5ST1TeDX\n5AkFYDnwHUlnAX8HroiICcCXgHPJbao/ExGTgIuBHaW/biJP4jBAn7copUNExBzgzaU/5pHPoxuo\nSX7ka+cRSbOBDwEraUN+HVNkJK2U9NNydxqwtVTaN0h6vMTXAueRD9R6SfskbQeeAt4EnEP+V9Z3\nbDmh7ZDUI+kgsI58sFttDfDZ8vV2oKtm+fUAi8h3IABExJHUJ7/h6Gu/pC3ApIg4ur1NGtIL5Inq\nXw2xs4Ffla97++vdwKOSdknaCzxAFvzG/voNMHOI53Q7bCZPvgDPkRvB1SY/ST+X9I1ydxqwlXxt\ntTS/jhkuA4iIKWRSE8gH4DXAzoZDniX3Wf83sG2A+JSG+LYBYr3HTq+g+UOS9BLwUrl7NVl0jqU+\n+e0FiIjGcG3yG6YpwOMN93tz+Ft7mjM0SfuB/f36bEJ5rsLQfdAb315+14GIOFhiA/V5y5X89pS7\ni4F7gbl1ya9XRDxIbuE9H9jU6vxGZJGJiMXAx/qFr5e0ATg1It5DXp+5rN8xg+1WN1D8cI5tqkHy\nWyZpY0RcCbydfEIcP8y2dUx+L/OjHZFfEx3B/4ahOtHh9sFA8baPpkTEAuByYC6HFvxa5CfpjHId\nZU2/b7UkvxFZZCT9gLwI3icizo6ISZJ2lovAd5HVt6vhsNcBz5Rb479fUxvirwV29YtN6fc7epqb\n0aEGyg/6Ts7dwPsl7Y+IWuXXoPfE2pH5vQL923oCefG1k+yOiHGSXmDwPpgKPNQQf6IMsxxB5tvV\n79hnWtHwgUTEXPIa71xJz0dEbfKLiHcBz0raKumPZXLRrogYX0YWWpJf26vsYVgIfAQgIt4CPC1p\nH7AlImY2HLMeuA/ojoixEXEC+UD8BdgAfLAcu4gc938KOCYiXl86obsc11IRcRLwCWCRpBehbwit\nFvk1OKLc6prfUDaQM+aIiHcCPZL2DP0jI0JfnwGbKDlQ+gB4mBxhmFiuMc0kr3c09td8ctLGYK/Z\nliuzFb8OdEv6TwnXJj/gTGApQEQcT15m2ETmBS3Kr2NWYY6ILnKI7GhyOt6SMoV5BnAbWTAfknRN\nOf7T5Iy0g8AXJd1fZlH8mKzEO4FLJe2KiDOBr5Y/9QtJK2ixiLgJuAh4uiF8PnAy9chvITkzaSrw\nPLBN0ql16b/hioibgbPIKaFXSvpTm5s0qIg4Hfg+OQV2H3mtbB45rXU88A9yWuv+iFgEXEv21y2S\n7i4zAm8HTgH2ApdJ6hmsz1stIj4OXA/8tYQOkkPwt1OP/MaTIwonAq8CvkxeE7yLFubXMUXGzMw6\nTycNl5mZWYdxkTEzs8q4yJiZWWVcZMzMrDIuMmZmVhkXGTMzq4yLjJmZVcZFxszMKjMi1y4z60QR\ncR3wPnLjpx8BG4HvkkuyjAE+r9yIbjW5+u90ci221ZJWlq0Pbi3xVwN3j+TVC8yGw+9kzJqgLG3T\nTe56OYtcEugW4FZJc4BPkst59JoqaR65xMx1ETGZ3Jmwp2zMdzpwUVmnz6xjuciYNcdpwGZJB8tm\nawtKbCOApD+TC3l2ketDbSjx58i1s04B5gALI+J+ciHDcYzcvXHMhsXDZWbNcQAY3S/Wf2HAxv1j\nRg8Q3wvcIOmeSlpo1gZ+J2PWHA8C50bEmLJFwW+BP5CrFhMR7wC2S9pBFpU5JT6ZXGl7C/B74MIS\nHxURK8pe62Ydy6swmzVJufDfTRaRNcA68sL/aGAssFTSoxHxQ3Kp/8nkcNhtklZFxDhgFTCj/Mxa\nSTe2PhOz5nGRMWuxUmR+J+mOdrfFrGoeLjMzs8r4nYyZmVXG72TMzKwyLjJmZlYZFxkzM6uMi4yZ\nmVXGRcbMzCrjImNmZpX5L/MW5ENrQAqiAAAAAElFTkSuQmCC\n",
      "text/plain": [
       "<matplotlib.figure.Figure at 0x7f922d8f1250>"
      ]
     },
     "metadata": {},
     "output_type": "display_data"
    }
   ],
   "source": [
    "df = parse_output(output,'V_mb')\n",
    "sns.violinplot(x='cope',y='roi',data=df,split=True,inner = 'stick')"
   ]
  },
  {
   "cell_type": "code",
   "execution_count": null,
   "metadata": {
    "collapsed": true
   },
   "outputs": [],
   "source": []
  },
  {
   "cell_type": "code",
   "execution_count": 21,
   "metadata": {
    "collapsed": false
   },
   "outputs": [
    {
     "name": "stdout",
     "output_type": "stream",
     "text": [
      "Ains 2.88473858707 0.00706678928429\n",
      "pIns 2.10614603782 0.0433868233462\n",
      "vSTR 2.64541879024 0.0126965059687\n",
      "dlpfc 1.12419812991 0.269559077872\n",
      "V1 2.31667122641 0.0272996339887\n",
      "acc 2.19430912162 0.0358330856528\n"
     ]
    }
   ],
   "source": [
    "for index in roi_map.keys():\n",
    "    roi = roi_map[index]\n",
    "    roi_df = df[df['roi']==roi]\n",
    "    t,p = scipy.stats.ttest_1samp(roi_df.ix[roi_df['exp']=='ser','cope'].values,\n",
    "                          0)\n",
    "    print roi,str(t),str(p)"
   ]
  },
  {
   "cell_type": "code",
   "execution_count": 22,
   "metadata": {
    "collapsed": true
   },
   "outputs": [],
   "source": [
    "a= df.ix[(df['exp']=='ser') & (df['roi'] == 'vSTR')]['cope'].values\n",
    "np.savetxt(home_dir + '/vstr_mb.txt',a)"
   ]
  },
  {
   "cell_type": "code",
   "execution_count": 22,
   "metadata": {
    "collapsed": false
   },
   "outputs": [
    {
     "ename": "NameError",
     "evalue": "name 'roi_map' is not defined",
     "output_type": "error",
     "traceback": [
      "\u001b[1;31m---------------------------------------------------------------------------\u001b[0m",
      "\u001b[1;31mNameError\u001b[0m                                 Traceback (most recent call last)",
      "\u001b[1;32m<ipython-input-22-3fcc21000087>\u001b[0m in \u001b[0;36m<module>\u001b[1;34m()\u001b[0m\n\u001b[0;32m      4\u001b[0m \u001b[1;32mfor\u001b[0m \u001b[0mexp\u001b[0m \u001b[1;32min\u001b[0m \u001b[1;33m[\u001b[0m\u001b[1;34m'ser'\u001b[0m\u001b[1;33m]\u001b[0m\u001b[1;33m:\u001b[0m\u001b[1;33m\u001b[0m\u001b[0m\n\u001b[0;32m      5\u001b[0m     \u001b[1;32mfor\u001b[0m \u001b[0msub\u001b[0m \u001b[1;32min\u001b[0m \u001b[0msub_list\u001b[0m\u001b[1;33m:\u001b[0m\u001b[1;33m\u001b[0m\u001b[0m\n\u001b[1;32m----> 6\u001b[1;33m         \u001b[1;32mfor\u001b[0m \u001b[0mindex\u001b[0m \u001b[1;32min\u001b[0m \u001b[0mroi_map\u001b[0m\u001b[1;33m.\u001b[0m\u001b[0mkeys\u001b[0m\u001b[1;33m(\u001b[0m\u001b[1;33m)\u001b[0m\u001b[1;33m:\u001b[0m\u001b[1;33m\u001b[0m\u001b[0m\n\u001b[0m\u001b[0;32m      7\u001b[0m             \u001b[0min_tuples\u001b[0m\u001b[1;33m.\u001b[0m\u001b[0mappend\u001b[0m\u001b[1;33m(\u001b[0m\u001b[1;33m(\u001b[0m\u001b[0msub\u001b[0m\u001b[1;33m,\u001b[0m\u001b[0mexp\u001b[0m\u001b[1;33m,\u001b[0m\u001b[0mroi_map\u001b[0m\u001b[1;33m[\u001b[0m\u001b[0mindex\u001b[0m\u001b[1;33m]\u001b[0m\u001b[1;33m,\u001b[0m\u001b[0mcontrast\u001b[0m\u001b[1;33m,\u001b[0m\u001b[0manalysis\u001b[0m\u001b[1;33m)\u001b[0m\u001b[1;33m)\u001b[0m\u001b[1;33m\u001b[0m\u001b[0m\n",
      "\u001b[1;31mNameError\u001b[0m: name 'roi_map' is not defined"
     ]
    }
   ],
   "source": [
    "contrast = 'PE_mb'\n",
    "analysis = 'Vfb'\n",
    "in_tuples = []\n",
    "for exp in ['ser']:\n",
    "    for sub in sub_list:\n",
    "        for index in roi_map.keys():\n",
    "            in_tuples.append((sub,exp,roi_map[index],contrast,analysis))        "
   ]
  },
  {
   "cell_type": "code",
   "execution_count": 151,
   "metadata": {
    "collapsed": false
   },
   "outputs": [],
   "source": [
    "# pool = multiprocessing.Pool(processes = 40)\n",
    "# output = pool.map(extract_cope,in_tuples)\n",
    "# pool.terminate()\n",
    "# pool.join()"
   ]
  },
  {
   "cell_type": "code",
   "execution_count": 153,
   "metadata": {
    "collapsed": false
   },
   "outputs": [
    {
     "data": {
      "text/plain": [
       "<matplotlib.axes._subplots.AxesSubplot at 0x7f812ce88b50>"
      ]
     },
     "execution_count": 153,
     "metadata": {},
     "output_type": "execute_result"
    },
    {
     "data": {
      "image/png": "iVBORw0KGgoAAAANSUhEUgAAAZkAAAENCAYAAADdUhibAAAABHNCSVQICAgIfAhkiAAAAAlwSFlz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\nQgghKub/AzuGKepAbrJkAAAAAElFTkSuQmCC\n",
      "text/plain": [
       "<matplotlib.figure.Figure at 0x7f812f328190>"
      ]
     },
     "metadata": {},
     "output_type": "display_data"
    }
   ],
   "source": [
    "df = parse_output(output,'V_mb')\n",
    "sns.violinplot(x='cope',y='roi',data=df,split=True,inner = 'stick')"
   ]
  },
  {
   "cell_type": "code",
   "execution_count": 154,
   "metadata": {
    "collapsed": false
   },
   "outputs": [
    {
     "name": "stdout",
     "output_type": "stream",
     "text": [
      "Ains 2.10233226039 0.262459992461\n",
      "pIns 1.73347250114 0.557694903466\n",
      "vSTR 2.79500754537 0.0529556227595\n",
      "dlpfc 1.46357824503 0.920257000068\n",
      "V1 0.821531680465 2.50570311328\n",
      "acc 1.87273991152 0.423373742476\n"
     ]
    }
   ],
   "source": [
    "for index in roi_map.keys():\n",
    "    roi = roi_map[index]\n",
    "    roi_df = df[df['roi']==roi]\n",
    "    t,p = scipy.stats.ttest_1samp(roi_df.ix[roi_df['exp']=='ser','cope'].values,\n",
    "                          0)\n",
    "    print roi,str(t),str(p*6)"
   ]
  },
  {
   "cell_type": "markdown",
   "metadata": {},
   "source": [
    "#MVPA analyses"
   ]
  },
  {
   "cell_type": "code",
   "execution_count": 221,
   "metadata": {
    "collapsed": false
   },
   "outputs": [],
   "source": [
    "in_tuples = []\n",
    "for exp in ['ser']:\n",
    "    for sub in sub_list:\n",
    "        in_tuples.append((sub,exp,'vta', '/vta/' + exp + '_vta_mask.nii.gz'))   \n",
    "        in_tuples.append((sub,exp,'l_accumbens','l_accumbens_' + exp + '.nii.gz'))        \n",
    "        in_tuples.append((sub,exp,'r_accumbens','r_accumbens_' + exp + '.nii.gz')) \n",
    "        in_tuples.append((sub,exp,'mOFC','mOFC_fill_' + exp + '.nii.gz')) \n",
    "        in_tuples.append((sub,exp,'lOFC','lOFC_fill_' + exp + '.nii.gz')) "
   ]
  },
  {
   "cell_type": "code",
   "execution_count": 223,
   "metadata": {
    "collapsed": false
   },
   "outputs": [],
   "source": [
    "# pool = multiprocessing.Pool(processes = 40)\n",
    "# output = pool.map(extract_decoding,in_tuples)\n",
    "# pool.terminate()\n",
    "# pool.join()"
   ]
  },
  {
   "cell_type": "code",
   "execution_count": 224,
   "metadata": {
    "collapsed": false
   },
   "outputs": [
    {
     "data": {
      "text/plain": [
       "<matplotlib.axes._subplots.AxesSubplot at 0x7fe26aee64d0>"
      ]
     },
     "execution_count": 224,
     "metadata": {},
     "output_type": "execute_result"
    },
    {
     "data": {
      "image/png": "iVBORw0KGgoAAAANSUhEUgAAAbcAAAENCAYAAACMxiv4AAAABHNCSVQICAgIfAhkiAAAAAlwSFlz\nAAALEgAACxIB0t1+/AAAIABJREFUeJzs3XmcXFWd8P/PvbX0viQdEhKyQshJguyCiogsKuJ4EQQX\nEAUcfZ5RxpmXo+Myg6OjPg46o87vcWdmFJXF5QGUK4oLAooLi2wiyYHsezpJ713Vtdx7fn+cW93V\nne5OJ53u6rr9fb9eJ7fqVt1b53RV6ltnvY4xBiGEECJO3EpnQAghhDjaJLgJIYSIHQluQgghYkeC\nmxBCiNiR4CaEECJ2JLgJIYSIHQluU+/ZSmdgikn5qlecywZSvlnNkXluU84ATqUzMYWkfNUrzmUD\nKd+sJjU3IYQQsSPBTQghROxIcBNCCBE7EtyEEELEjgQ3IYQQsSPBTQghROxIcBNCCBE7EtyEEELE\njgQ3IYQQsSPBTQghROwkK50BIcTR4XleHbAoSvOj1Aa0Ai1AI9AA1ALJtWvX8txzz/0Wu4xTCOSA\nPJAF+qPUDfQAnUBHlPaXku/7+ekqnxCHQ9aWnHpxX/9NyjdNPM9LAcuAE4Hjo7QCWB7tn1uBbHUB\ne4H2aFtKe6JUur3X9/3cNOdtxrx3UyTu5ZsUCW5TL+4fQCnfUeR5XgJYjA1gq0ZsVzBaa4uTABwS\n9W04yTrcZB3Fvl2k29biJNI2uSlwU/Rv+DGN6k3guDiOQ9+Ge2hceSm9676Pk6yj4fhLMKYIYYAJ\nC2S3PUTtwrMxYR4T5DFBjkL3FjAhbroJE+QwxQFMMKG41YUNdLsZCn4j027ggO/74aT+kJZ8Nmcx\naZYUYpp5ntcELMUGq1JaGaXjgZqRxziJNMYYHDdJas5K3FQDbrqJ7I6HaVh5Kf0bfeqXXjD4/ELP\nVlIty0Z9fcdNjJ4xB5xECofU0D7XJdm0aNjTCt2bwXGoX3bh4D5jwsFAl932IDXzT8MEA4TFARv8\nigOYYrY1DAZaCfKrD/EnKnqetwfYNUraAewEdvi+33OI84hZTIKbEEeB53kutm9rHkP9XcdGaSFw\nXJSWAHNGPYmbwk034aYbo21TFMB+R+OJl9K34R4AauadNHSM4+A4lf/x7jguTrIOknXgJki1rhjz\nucYE9G/4CRhD7cKzyO56hHSbwhSzmOIAYTGbNMXsYlPILB7vNT3P6wW2R2nbyHTXXXeRSqXGOYOI\nMwluQkSiPq3W8vSRj3yEm2666V0j9s8pS3PL0vijj90kbrIeJ9WAm4q26UZbC0s1QiI9eqCqfOw6\nqhwnAY4DjkOy6TicRHJ4wI70vXAPDSsuJixmyW57gPT8UzCFLKaYIbTbprCQWUtYWDva61xxxRUY\nY3YBW6NUCnzlt7t835e+mRiS4DYBSqk3aq3vqnQ+xKF5nlfL8OAzWppbdrs8YNWPPN9NN90E8F+j\nv5pjk+OSqG3FSdTY/q1krU2JaBv1gzkJqUUcFgecZA2JZA24CdKtJ4z6tL4X7gEMtQvPJiz0YwoZ\nwmIGU+gnLGQWmkL/QuClY7xKn+d5pdrfdmyzZ6npcye2KfSABMDqI8HtEJRSy4GrAAluUyBqzqvF\nBpaGUVIj0BSl5mjbEt1uYWiYeylI1R5WBtxU2aCLtO1zclMUM/vAcUjPOTHal4ZoW3o+ToL+jT4A\n9ctfNdk/hThSjv0n2bhw1If7XriH+uWvskGv0F8e+DCFTGNY6F9DWFgzzisUPM8bHPVZlvZFaT9w\nIEqdQPdRGhAjJkGC2whKqT8Bl2mttyullgEbgQNKqRuBbwG3YkcppYBrtdabKpfbsUVBow7bVJYY\nIyVHpFTZNgWky7ajpZqrr76a22+//TPYQRC142xro/yMTIcXjA7i2BpRogbHTQ0GosEANBi00uT2\nPE7dklcOPeamxuyv6ttwDxhIz101ueyJynPATdVDqp4E80Z9igmLNtgVM5hC1gZAOwiGsJhNhQNd\ni8EsxkwoZhnP87qxcwRLqQfoBfqiVJpHmI1SBhiIUmm+YWlbGJGKQPHWW2/lmmuumQPkfN/PHMmf\nJs4kuB3sbsADvgq8AbgROF1r/Wml1JnAJ7XWDyilrgfeC3ywclkd1yPAi6f6RW6//XaAj074ACeJ\nk0hhwgJuutmO3HMSOG5yaOsmh23tbVujsvdTUS0qZY+Z4ICKXPuTJOoqMRVMzHSOmyRR0ww1zaM+\n3rfhHhpO8CAs2EEvQQ5TzGECOw2iNE2CoIAJco4JC61hIdtKOHVz3K+55hqwk+rxPO+Nvu/fPWUv\nVoUkuB3sLuDz2OB2KfB9hrr024EblVKfwPbRPF6JDE7QeqYhuB02U8QUiwCEue4ocCVwnPLtaMEt\nGQW3ocBWqqmZUnOiI6vJiSliwBT6MMUcYTAwOLfPBrih4GaCPCbMQ1CwB02f/dP5YtVAgtsIWuvn\nlFKLlFKLsX04zwOviR7+JPAzrfXNSqkrgNdXKp+H4vv+24G3T+S5URNmguHNkulRtjXR7ZrofvrD\nH/7wjz/72c++naEmyLGaJesY3jR5BibYYoKgjoB6M9TndtCgjglzEiP6z6J+sui+CYoUurcM3qds\ngvOYc79ErBljbO2rMDgCs2w0ZmlqQgbCIv0b7z3U6fLYmlRnlMqbJXvLUqlZMhOlbFnKYZsmRzZL\nBqMMapFJ3OOQ4Da6e4HPAD/CrrlX+ju1AZuUUg5wOTH5YEWd3yH2P9FhO/fcc289Wnkp6ysca0BJ\nKZUGlZQGkrRggjmmmG01xeyc6PGD3p+BXX8c/YWdxLCBI6ZoV9wY2P247dMr1Q5LwbDUbydj6GY0\nExbBGIp9e+xIymJmaERloR9TzHKIfrR92IEkC4D7OHhAyf5oewDIyKjKmUOC2+juAn4PnIL98J6h\nlPo88A3gS9j5MV8Cvq6UepXW+lcVy2nMRIG21Nl+xKIg2cKhpwLYQGiCOaYYtBoGSsEyCVDo2jCh\n1+vVd+Ek7VQAN1Eb3bbTAJxkrZ3XFt2W5tOjwxiDKQ5AGGIw5Dt0NAKyf2hwSHEAgOz2B0c7xR7s\n/+XyqQA7y7a7ZWHo6iXBbRRa68exzW4l5esYlbdNjLuCgqicKEiWmocOi+d5DrZ5tPUrX/nKjhtu\nuOHllILg0Ny4UpB8LZAmzO81+XybgXmhbeIdg2PnvaUacNIN0QTuBpx0I26qKQp+sWgQmJTBGlem\nPerfKjCw90nbVFjIEEbb8qpzbu+T5afILVy4sGb37t33Y9fl/CZDk7e3Ypfvmu6FnMU0kuAmxAhR\n09Jg7dH3/d9P9NiyZbjKl98qXYZmMZilpphZEhQzi8juO7gK5ySGLb3lphshDAmLA1Xfw2L7t3JR\nbSvAYMgdWIcJ8mR3/r586D2EdtBRduuvB48vdOjSzRC7wPJObLA6Hdtf9XFsrWsrsO/mm28OAZmA\nOEtJcBPiKIpqjKXrnq0f63nRUl9LsIsmnzCYTLAyzHWdGOa6hg2s6X/hR9Etl+zO3+OmGocCX76v\nYn1/NmDl7aCM0gLJQZFc+9PDF00OslE/5vCM5tufBqDYs620az82cO0GVgO3ETURRtsd2MvnFKej\nfKJ6ySVvpl6V/94+JCnfURY1iy5i+OVuTgQuxA6yGbXTzvbpRZe86d9Leu4q2/c3uLpKkuy2B6lf\ncTGlZcOy2x6gbukFZDb9DCdZQ93iczFhAGERExYZ2PMnauatwQSFweHuxb6dYAxOoia61M0hv0My\n2OBUWuVjN3ARdlTgvzB0CZz2o9zHJZ/NWUyC29SL+wdQyjeNyq73VrpY6YeAx7B9f73YoJge8wRH\nTxHYgp37OfJCpdcCHyAKaL7v901DfkYzo967KRD38k2KBLepF/cPoJRvBolqfW0MXXZnLkPTJRqw\n/VJfBpIXX3zxDT//+c+3AD/HzoncjR0pnGGoz7G0dFQnQ3O4DlTJKMKqeu+OQNzLNykS3KZe3D+A\nUr7qFeeygZRvVpMJN0IIIWJHgpsQQojYkeAmhBAidiS4CSGEiB0JbkIIIWJHgpsQQojYkeAmhBAi\ndiS4CSGEiB0JbkIIIWJHgpsQQojYkeAmhBAidiS4CSGEiB0JbkIIIWJHgpsQQojYkeAmhBAidiS4\nCSGEiB0JbkIIIWJHgpsQQojYkeAmhBAidiS4CSGEiB0JbkIIIWJHgpsQQojYkeAmhBAidiS4CSGE\niJ1kpTMghJg8z/McoBVYGqVFwEJgPtAGzAVagCagAaitq68jm8n2YX/kOkAIBEAeyAEDQAboB/qA\nXqAH6I5SF9BZti1Pvb7vm6kutxBjcYyRz98UM9gvjriS8k0jz/PqgDXA6igpYGWUmsc92AUn6WIC\nAw4kGlLgQNCdh6RLoiFpSxsaTGggMJjAYILQhr3DEzA8+JWn7rLUE6Xesm0p9fm+XzzsVx4yo967\nKRD38k2KBLepF/cPoJRvCkQ1seXAacApZemEg/LjOiQak7j1Kdz6JIn6JJn1nVA0tFy0GDft4qQT\nOAl7WOd92wCY89qlABy4exNuXXLw/mg6f7YNMDSft4juh3bRdNZ8TCEkLISYQojJB/Z+PqTQniXR\nkBx6fCCYzJ8iy1Ctsbz2WNqWUqkmWUod3/rWt56+/vrr63zfH5hMBmawuP/fmxRplhSiwjzPSwNr\nsYHs9Gh7KrYZcYgDTsolvbiRRFOKZFMatzGFW5fAcYZ/x2X+0gEOJFvSRyeTjv0n0ZDCcR1Sx9SN\n+dTO+7bRcv5xw+63vnoJpmADYCno9T3WjluXpGZZk91fLCVDoT0LxuDWp+oIwjpTCI8Jc4H9Op+g\n66+/HiDreV4/sB9oj9IeYHeUdgE7gR3AXt/3D7+OKmYkCW5CTJOoNrYQODlKp2JrY2uA1LAnJx3S\nx9aTbKkh0ZIm0ZKm56FdADSeNm9a8300OAkHJ5GE2rJ9SRdTCKlb2XLQ823t0qH1whFB8uIltrm0\nGNUYi4ae3++h4bR5UeAcqkGafIDJh4T5oCHoyTcAyw7RvFrwPG8HsDVKW4DNUdoE7JLgVz2mNLgp\npa4DTtJa/+NUvs5EKaXOB27QWr+p0nkR8eV5Xi2wAjgR2yemsAFsLXbQx5CEQ7I5TaI1TfFAjoYz\n5pFsTtP1qx00nb1gurM+4zmOA0kHJ+kOBkon4VBzXMO4x5UCoykazECR7t/sxq1LULOkkTAbEGaL\nFNqzKRLOCjMQrBjjNDnP80qBbhOwMUqbgM2+72eOVjnF5E11zU069ERsRDWvBmBBlI4FjovSEmAZ\ntp/suIMOdiDRmCLRlCLRbGtiyWbbrFhqUuy8bxupubUHHSqODsdxcFIOpNI4CQeTD6k7cei3Rud9\n25jz2qV0/mwbza9YSJApEPYXCfqLhJkC+b3ZGgdWm0K4erTze563G1vL2xJtSzXAbcB23/f7p7yQ\nYlDFmiWVUouB72IDYAq4Vmu9SSn1duB92PFZX9Ba/2CMffu11vOic/0/4EvABcA8bKf78cCNwDux\nXzivi15rrlLqbuxw6bu11p9WSq2NjjfYjurrgDnAt4EN2OajJ7XW71ZKvQb4FLajey/wNq31ZEZ0\nzRpRcEiUJXfE7ZHJGWM71j53lHMmsJ/zJPZzVkppoCZKddh6QD02eDVih8w3rVmzhnXr1j2LHUrf\nFh03Ogfc2iRuY5JEQ4pEQwq3FNAabV+VqAKlHyKNw1uKS8EvzAdR0CuM3C4Ms8WFGM4Z7bSe53Vh\n+/d2Yvv79mL7//ZFaT/QEaVeaQKdnEr2uS0APqm1fkApdT3wXqXUJ4CPYfsjaoFvK6V+OnIf8AOG\n1wpN2bZVa32JUurT2IB5iVLqk8ClwFPReZYDRUArpb6CDWz/S2u9USn1XuAG4DbgDOBN2A/eDqVU\nS/TYB7TWDyulLsd+4e09+n+eI+d53rHAB7A1i7Fqz6N905pRHi8FhTTDg0MKSK1YsYLNmzf/ZcT+\n8mCSLEtVt2jAuvXrcFLuSU7axU0ncNIubk0CpzaBW5PArUtGKYFbm5QANgu46QRuOkFyTs1Bj5nQ\nEGaLhJkiQcZuw0zR7ssWW8OBoNUUwpMm8DLG87xe7CjQ0tSIfuy8wwyQP//883nwwQe/Gz3/GeDz\nEhCHVDK4tQM3RgFtDvA4tl9ivdY6h51EeplS6uyR+w5x3kej7W6GZufsxQYhgMe11hkApdRz2Bre\nWcB/K6XA/pIvnWOD1ro9eu4u7Oi1HwJfV0rdBtyhtZ5RgS3yMeC90/FCmzdvBtuXNHO4Do5rt7iO\nHczgOpBwcBKuvZ90ye/NULu8CSdlh8q7NUPBy61J4KRce4wjAUtMjOM6g7X21BjPMcWQMFuk2J0n\n6M4T9OYp9hQI+wrDToWdtzjm3MUHH3wQ4JqyXb8Anp5cCeKjksHtk8DPtNY3K6WuAF6Pnfg58td9\ncZR9I5V/joIxbpe+oUbWZAyQ0VpfUL5TKbU8eu1htNa3KqXuAy4HfKXUlVprfYj8Tbf/Dxu0Fbbc\npTKXbpfvI7rtjnjeSKVjSs9NAqmGxob5/X39fQzV2ipfOwsNJoRSccbr+B3Y2DP6A44dzeekojSi\n5jZYe6tL2qbI2oTU2gQwRu0tG6UBO3jF5CdcwTLYGlsv9sf94P/f+fPnr2hvb98SPe/nwHNHuShV\nrZLBrQ3YpJRysIHCAdYDSinVgA1M92BrasP2aa1fAxilVF103OmjnN8Z4/YZ0XEGW1PcCDytlHqt\n1vo+pdRbsbXKTaOdUyl1I/BlrfV/KaXmY2stMyq4+b7/PHDJNL2cwfZPAeB5XinwlZolE2XbJEP9\nYaVmytJ9p+y+M2LfyD628tuJsn3lxyZGvGapibS8z+1a4EfY5u66KNk+N0OTKYRNbS1zX7R///7e\n8jKOxa1L4NanSDQkcRtSg/02icaUrQWKWDDGYPLh8D63voINZP0Fwuy4k9Z7sH1ue6JUmnu3DzgQ\npdISZt3YVVrGioQGOypXjGI6gttYP5y/ge3r2hZtvw68HPgX4FfRc76gtc4opYbti7ZfAx7B/lp5\nfJTXM2PcfgL4JrAK+JrWulsp9ffAzUqpj2Dbs6/GDtkerZa3DfiVUqoT2/H7+UP9AWaT6D9iPkoz\n3b9N4DkGaPY8L4UdVDIPu17jQaMlw2ywLMwGxxUPHFx7desSJJrSJJqj0ZLNdrSkk5SgNxOZwBBm\nSgErCmC5gK77dxD2FzDFUb/WDDZwlUZMbsF+X2wDtmNHTPZNTwnElAY3rfW3x3nsXuDesl2Ly27f\nMeK5d4yy7+PAx0ec9qGyx78y2u3y55Q9vh44b8TuLuDssuecFd38TpTELOL7fgHbd7sX+MtYz4uC\n4DLsiN3BeW5hNlgTZrOLC+3ZYc93G1Mko0naJrB9MU5tYsrKIcAEoV0700BuR59tKswUCXMB3Q/s\nJMwU6fjx5lGPDbrzGUaf57YR2Or7fm66yiHGN+U1N6XUXdgBI+W6tNaXT/VrCzHdoiC4IUo/L3/M\n87wWbFP44AolYV/hlHxfoZWddgpU58+24dS4mIKh/9kDQyuUNI41PGF2MsbYvtWCXeS52JmLlvWy\nq5LYVUqiFUpyAeFAkc5fbMcMBJjiUCtf36Ptw85b7MwVgAK2VWgLw1co2YRdokvm71aBKQ9uWus3\nTvVrCFENfN/vBv4YJWBw7t9S7FzKzwLrTS48DVg+8Hz30MGl4T6uQ1Z32blzTSnchuqaP2eCcHB9\nSRPYGJHb2T+0rmS0pFaYt+tI9v5xj11VJBph2PmzbYPPLe806H5g5yFfO+wr7GVobcnV2Ev6fJmh\ntSW3IetLxoasLSlEBUW1gNJKFveU9nue14oNePaqACGnAKcTmETmLx1DJ3Cwg1dKg1jq7by70hd/\nWAhxkkdvOoMxBowh6C8MLYKcj9Z0LKsx9T66d+h+tkjHvVswhdEvndP3yNizafK7Ble0CoAwzBb3\nMPyKAL3YqTx3MuKqAJ/73Of8D33oQwo7ObpLgtbsIpe8mXpxvyyFlG+aeJ6XwI6OexFD13Nbje3f\nG3s1ZQd7yZuUi5N0CHrygENqfh2OGwWQhEN6QR1mtOu5FUPC/iNehCeP/RtuYeiyNKVruZ2PnW7z\nDQ6+llsP9hI3pcvc5I6gOXDGvHdTJO7lmxQJblMv7h9AKd8MEPXnLWf4lbjfD/waO+2mDTshuAm7\nzNhEFBm6EndzdP9JbED9BeNfibuUshXso6qK924S4l6+SZHgNvXi/gGU8lWZaC5i+nvf+172rW99\naxtDcwmDKOWxNaVJXWV0BojdezdC3Ms3KRLcpl7cP4BSvuoV57KBlG9WkxmkQgghYkeCmxBCiNiR\n4CaEECJ2JLgJIYSIHQluQgghYkeCmxBCiNiR4CaEECJ2JLgJIYSIHQluQgghYkeCmxBCiNiR4CaE\nECJ2JLgJIYSIHQluQgghYkeCmxBCiNiR4CaEECJ2JLgJIYSIHQluQgghYkeCmxBCiNiR4CaEECJ2\nJLgJIYSIHQluQgghYkeCmxBCiNiR4CaEECJ2JLgJIYSInWSlMyCEqA6e59UAc4BWoCVKzUBTlBqj\nVA/URakmSins900CcKJkgBAoAvkoDQBZoA/oBXqALqATOADsB9qBA77vh1NcZFHFHGNMpfMQdwb7\nHzmupHxVxvO8BDDna1/72r73vOc95wLzotQ2Is0tS3OwwWqmCIC9wC5gJ7AD2ApsA7YAm++55569\njuPE6r0bIXafzaNJgtvUi/sHUMpXQZ7nOdia0jEMBal5ZfdHbudhg9WEuySaXZcax6XGcahxHNKO\nQ9px2VrIc1JNLWnHIRWlX/f34gCXNrWQwCHpOCQA13H4XncnV7fMGfxj3hbdN8Ad3Z1c2dzKD3u6\nMBhe19hC3oTkjeHBTB/1jsuKdJrncznmJZNkw5CMCekPQ4Ix8l1bW8vAwMDTwEbghSg9H6V23/er\n/ctvRn82K02aJYWYIcqa/eYwvNY0l4NrVW0M1bZqJ3L+GsehznGpde12X7FIwoG1NbXUOq5NrkOt\n4+L3dvO2ljnc3HWAt7XMHfV8m7pznFI7vDKXjCpKcxIHf7U4DiTKKlLl9x0H6lwX1wFwOCY5dPzv\nsv0UMJxd18Dz+RyvbWwefMwYQ84Yvt/TyXn1jdzf38uamlp6w5CeQoEinFqEU0fJfrfneRrQwPqy\n7Qbf93OH/muKmU6CmxCT5HleiqE+p/JtKTWXpVJfVWvZtpTqJ/qaDrbzam4iSa3jUOu61DoO2woF\nTq2to9ZxqIv21Ua1LndEC92t3R2EwGm1B7+s43DQ82cix3GodRwSjsOKdA3F/l5eXt84+Lgxhowx\ndAcB3WFAdxDQFQZ0BUFLdxicHcLZI04Zep63meFBr1Tb2x2D2t6sMWZwU0r9k9b6M0qp747ysNFa\nv2MK8zUllFLnAzdord9U6byI6ed5nosNICMD0Vip4dWvfjW//OUvv1e6P2Jbup0+kvyURlU0Rs1+\n6eiLur1YZGVNDTVRYKp1HGrKalU1jsMdPZ0AXNHcOuycm7s7WFszoYrcrOA4Dg2OQ4PrsojUsMdC\nY+gJQ7qCgK6wSGcQsLmQdwvGnBDCCcDrRpyu3/O8DUApbQQ2AZuB7b7vF6ahSGKCxqu5/Sna3o9t\n2y1xRtwXYkpE/Uk1HFwTGpmaJ7ivgcPso/jlL38J8JbS/QS26S3tOCSJttH9VNm+LYU8a6P+qNJj\n6bJU47gkgdt6Og9q9ru1u4OX1jUc3h9LHDbXcWhNJGhNJCj9PtnZ3UHacTAGXt3YRFdU44u2Dd1B\nMFYzZ+h53k7soJbtUdqBHeyyC9gN7PV9f2BaCifGDm5a659H21uUUiuAM7BB7XGt9bZDnVgpdR3w\nWmARcJXWeueIxxcD343OmQKu1VpvUkq9HXgfdojwF7TWPxhj336t9bzoXP8P+BJwAbYf4gTgeOBG\n4J3AcuyvMAPMVUrdDSwF7tZaf1optTY63mCHH1+H7ff4NvYX2qnAk1rrdyulXgN8CjtceS/wNq11\n8VB/j7iIAk46SjW33HIL11133fEMDfmuxY6qG7mtL9s2jNiWakDlNaLSviNuOk/CYFApDXhIRcFn\nT7HI8en0UGDCYV1+gDNq64c996d9PVzR3ErKgSQHN+2NZWN3jlNrZ9LgQnE4HAeOTaY4Njm8tmeb\nOUO6g5CeMKAnDGz/Xhi4fUG4pN+ES8b75e95Xg92KkM7dmrDAaADO92hC+iOUi92OkQf0A9ksN85\nA77vz5rvm8k45BeHUupvgA8Dj2N/9X5eKfWvWutbJnD+pVrrc8Z4bAHwSa31A0qp64H3KqU+AXwM\nOBn7pfhtpdRPR+4DfsDw2qMp27ZqrS9RSn0aGzAvUUp9ErgUeCo6z3Ls3BqtlPoKNrD9L631RqXU\ne4EbgNuwAf1NwD5gh1KqJXrsA1rrh5VSl2M79PdO4G9RUZ7ntQI+cO7RPO91110Htnlm0hIwWBMa\nCEPaEsmhQFOW0pTddobfLgWq1Ch9TOVu7e4Y1jcD8FQuywnpmmH7XAcaXFnrQFi2mTNBg5s4qJkT\nIIiCX19oR3KWUtYMbpsHwrA5a8zKI23+8jyv/O61vu9/+whPFWsT+VX8DmCN1noAQCnVgG2qvOUQ\nxxngsXEebwdujALaHGzwXAOs11rngBxwmVLq7JH7DvG6j0bb3diaHtjg0xbdflxrnYnK8hy2hncW\n8N9KKbC1j9I5Nmit26Pn7sIOAPgh8HWl1G3AHVrrGR/YIos4yoFtMlI41EV9SHWuS92IAPbUQJY1\nNbXjBrXEBGtRQkyXhOPQ5CRochMAFIyhPwzJRFMXslGgy4aG3tAObukNJzUX/cXYH/xihIkEt0Ip\nsAForfuVUhMdKpsf57FPAj/TWt+slLoCeD12YubIn8nFUfaNVP4TKhjjdumbcOQPJgNktNYXlO9U\nSi2PXnsYrfWtSqn7gMsBXyl1pdZaHyJ/Fef7/nOe5x3L0BynRNk2wdDqEQns37O0HZnSZanmqquu\n+j933HHHTQxvkqxheJNkKZWaJhsKmIZCaJI9hIw1UemBTN+4ZXIZ3uw4Wo0uPUZwDIyhIygO1vSS\nEijFYTKjzXs9AAAgAElEQVTG0G9CeoKQ3ihI9YYB/aGtufWFIYWJDU/ow67AUmqWLK3MMrJZMoNd\nwWUAyP3TP/3TbZ/5zGf+eQqKFgsTCW47lFJfAn6JDRAXY1cBmKw2YJNSysEGCgc79FZFtcMAuAdb\nUxu2T2v9GsAopeqi404f5fzOGLfPiI4z2JriRuBppdRrtdb3KaXeiq1VbhrtnEqpG4Eva63/Syk1\nH1iLHS484/m+v5ej34T6f66++uqPHsmB0RD6Bob3tzUwNPijfDTjQUPsQ2jOGdOUM6Z80Ehioq//\n/Z6ug/Z9s+vAYLNm0nHIhCE/7eseDIDl/XHJEbXNVFnwDI391Z7ENmWJ6mSMoS8M6YqmEXSHpSkF\nts9tnDpXJwcPKNnDUH/b/ih1+L4/XiVgPLf5vt9zhMfG3kSC2yPYL5rrsQHhj9g+qokY72fLN6Lz\nbIu2XwdeDvwL8KvoOV/QWmeUUsP2RduvRXl7DtukOfI1zRi3nwC+CawCvqa17lZK/T1ws1LqI9hf\nR1dj5x2NVsvbBvxKKdWJ7Qj+/Hh/ADG2aOh0qSN90qLBLnWMPnJy5IjLa7CfqfJAekbOmJ05TBNm\nMNjWbi0c2Qjv/+46gAODtcby0ZKlVT5yoeHJgczgVICaqFbZEwSDq4FIcJx6eWOnBBSMITQQYvh+\ndyfdYTBWw0Inw6cCbMYu+7UN2Ob7fv/05FyMZSLB7TXANVrrfzucE2utx20H1lrfC9xbtmtx2e07\nRjz3jlH2fRz4+IjTPlT2+FdGu13+nLLH1wPnjdjdRdkET631WdHN70RJzDDRBNtS882haqj/OpFz\nBkFgLrvsshYOrl2WgmV5TbM8gL4WeMZAU96YlrwNmKWFhoc1s/8xmznodW+L5rE5EC17FU3Ijvop\nB0KD48BzuYHBidp1rq0xhsZUxQTs6RYaQ29UC+sKohQGdAVFMqMsQ9gRBn3YydulidylJbw2+L7f\nMa2ZF4dtIsGtDtiilNIM9aEZrfXIYDAqpdSd2H6ecl1a68snnk0hKiORSBA1/RyV5p+odtnA0Eol\npVX2Wxlaeuta4GFgroG2AWPmDpigrRvmEpQ1uxp4aJR+yZu7DgxNAI+W2hpascQdXNEkMAYHh7wJ\nSRGfGmJnUKQnDOkJ7FD97jCkO7o9SjNiqTWmtBrJK4F/iO7LiiRVbCLB7VOj7JvwG661vmLi2REi\n3qIvy9JAgZ1jPG20/3OlwNjCwWtLHlN23zOwYcCYYwZMMI+QNsaduG74n64OXBisAda6Dtkw5MH+\nXgwMNpuOXDg5NFA0xl7DZgoDY6lS1RcGBMawrZAfHH1YPtz+lq4DGOB7o/SlYrsQSjWvUk1sPfCC\n7/vZKcu8qBi5KsDUi/vK3VK+Gax0eRuGrgxQCobzjj322M/s2bNnO/AMwy970zrG6UblwOCo034T\n4gDzk0mSOCQcSODgAlsKeU5I1wz+MTfkc5yQriEENudzLE6l2V6wjUNzEgkKxpA3huzEvqNCbB/Y\nMuziEJs/+MEPfvo//uM/zgY2xrQZsao/m1NNgtvUi/sHUMpXvUYtm+d5SWyAK12NYE60LW9GbQEu\nAZ5laKmzBux8ytI0k8n83fqxQ+J7sUG3gB0A9FLsgLA92H7V0rXc9o/ShBjn9w7iX75JkeA29eL+\nAZTyVa8pK1vZMm3lV+IuzZ8srRkdRnkoRCmPXWIqd5T6uuL83kH8yzcpEtymXtw/gFK+6hXnsoGU\nb1aTRfOEEELEjgQ3IYQQsSPBTQghROxIcBNCCBE7EtyEEELEjgQ3IYQQsSPBTQghROxIcBNCCBE7\nEtyEEELEjgQ3IYQQsSPBTQghROxIcBNCCBE7EtyEEELEjgQ3IYQQsSPBTQghROwkK50BIcTM4nne\nMcBrgJcBa7FX127AXlC0A9gKPAc8Cjzs+35nhbIqxJjkYqVTL+4XFJTyVa/BsnmelwAuBf4GeBVl\nrTrJRA3FIIfjJOxBJig/Rwj8AbgL+L7v+zunJecTE+f3DuJfvkmR4Db14v4BlPJVLxMFtTcDnwAU\nQGP9PIKgwMolL0dvfYgz11zBH575LjWpek5f/UaeWH8nxoSEYYDjOBSD/OD5gPuArwI/9X0/rECZ\nysX5vYP4l29SpM9NiFlq/fr1AH8E7gBHAZy66lJOXvk6wrBIY/28g745HcfBwcF1EiQTaRJuihev\nfRMrjnsJjfXzHOASwAfWe573bs/z0tNaKCEi0ucmxCzjeV4b8Nno7lltLcvp7ttNMchRX9t62OdL\nJes4tk1xbJuiP9vB7v3r2d+16URjwpuBGz3P+xRwi+/7xaNYDCHGJTU3IWYJz/Ncz/PeCTwP/HV9\n7Rya6uezatl55U2Lk9JQN5eVS87hjNVvxLV9dEuB/wL+7HnepZ7nSTOamBYS3ISYBTzPOxN4GPgf\n10nOWbbwTE458a/IF/qn5PXSqXpCEwIO6VQD4KwGfgzc73neqVPyokKUkWZJIWLM87yV2MEibwOY\n27KU5QvPcmrSDdOWBwc4dZXHMy/cizHBBcATnuf9D/Ax3/f3TltGxKwiwU2ImIma/s4C/h54C5Co\nr51Dwk2ilp1fkTzV17aSTtYSmoBkosbN5rrfDVzted5NwBd935+aKqSYtSS4CREDnue5wCnA67EB\n7UUAdbWtLJ5/Mm0ty3ly/V2VzCIArpPg1FUeezteYPuep+qLQe5TwPs8z/s34Gbf9zOVzqOIBwlu\nQlShaBWR04EXA2cDLwfmATiOy5ymxSxoW0VL40IcZ2aN4XAcl2PbFPNaVzi79z3Hrv3PHROGxS9i\nR1Z+FfjGDJsMLqqQBDchZrhorthZwLnAS7ABbUn5c9KpBloaF9DaeBytzceRTMz86WXJRJolx57G\nsfNWO89uuI9CMDA3CPIfA/7Z87xfAj8A7pV+OXEkJLgJMQN5nrcIeAPwV8AFQH35461Nx9FQN5fG\nujY273qUM9dcUYlsHhWpZC3GBJy55gpnf+dm2js2uH3Z/RcDFwN4nvc08BvgEeBx4IUZsPqJmOEk\nuAkxQ3ietwC7FNZbsM2MANTVNNPcuJC+zH7UsvN5Yv1drFlx0eBxW3Y9Nv2ZnQIJN8WCtlUsaFtF\nNtdDZ892Ont30tvffqox4anA+6KnZjzP+zPwNPAU8CTwtO/72UrlXcw8szK4KaXqgS9g+yoKwF7g\nvVrrHUqp5cCfsb8QS57SWr9fKbUA+L/A8dgFY18AbtBad09n/kV8eJ7XClwGXA1cRDT3tLlhAYUg\nx+rlF1KbbgTgiXV3Mp1D+CuprqaZumNOYtExJxGGAf3ZA/Rl9tOX7SAz0FGfGeh+CZiXlB0SRAHv\nD8DvgN/6vl+ZzIsZYVYGN2xg26G1/hsApdQ5wH1KqdOix9drrS8Y5bjvAt/UWn8vOu6DwFeAa6Yh\nzyImohraXwGXYy8tkwa7YPG81hW0tSwjnarniXV3Dga22cx1EzQ1zKepYf7gvjAMeGL9XSw99nQ2\n7vgDjfXzEv3ZjtOMCU4D3gPwznf+Nfv2tX8beAjbrLnR931ZKX6WiGVwU0pdB7wSaANOAv4ZuAp7\nbap3Aa/F1r4A0Fr/Xin1CLaP4/GR54vOuRpoKQW2yBeAuikogoiJaM7ZEuwgkHOAC7GjHAE7/6ut\nZTnzWldQW9NUoVxWH9dN4Dou8+euZOOOP3DyyktsDW+gk97+dnr699LZ0Q7wjigB7PU87w/Y69A9\nATwD7JGAF0+xDG6RlVrrVyil3gV8FDgNuB54P7BOaz2yQ/op7CU/Rg1uwOroOYOic8jkUwGA53nn\nAGcCC7FrKp6A/dwMrkbsOC5N9fOZ03wcc5qXUFfTXJnMxpDrJmiqn0dT/TwWHbMWYwyZgS56+vfS\n27+Xnv72BYVi9jJsM3BJp+d5LwCbgR3AbuCHvu9vq0QZxNET1+BmGApSe4BntNZGKdUONAPBKMc4\nZfuVUuqBssd+CTwLJKYov6LKeZ5Xh236OugzMqd5CU3182isP4bG+nkk3Lj+t5tZHMehoW4ODXVz\nWDhvNQC5fD992QP0Zzvozx6gq3fnHGzf+9llh56J7QMVVSzO/8uKo9w2QAdwtlIqpbUulD3ndODO\n6LYe2eemlFoFfGrkiyilztBaP3H0si2qVAH7y3/ZyAe6eneSL2TIFzIUiwM0Nx5LKlk7/TmcxWyT\nZYcdlJKxwS2bG3McmEwgj4G4BrexlmRwgF7gHuxisv8MgwNKTgPeyShfTgBa6+eVUjuUUu/VWn81\nOu4fouPeMdoxYvbwfb8YLVK8gBHNksaEp/RnD5zSnz2Q3nNAA9BYfwxzmxczt2WZNE1OgSAs0pfZ\nT0/fHtssmdmPMcMabPqwo6Kfw4563gxsx7b0bJnu/IqjL67BzURprNvvB25SSj0F5IB24Mqo6ZKy\n54/0VuDLSql3Y/9zPIUdoCIE0cU4d0ZpWN+t53k12EElFwAX92X2ndOX2edu2/MkDbVzaWu1g0pm\ny1D/oy1fyNKX2UdvZh+9/e30ZfZjhv4bG2wgexg7VeBRYINMBI+3WAY3rfW3y27fC9w78jbwgTGO\n3cLw9vfyx3qBa49mXsXs4Pt+Djv/6nfAp6OrYXvAm/sHOl7dv6cjuW3PEzQ3LKCtdTltLaM2IMx6\nxhgG8r1kBjopBnnWb/41YPjTuh+WPy0Anrzssste/KMf/egN2DlvnRXJsKiYWAY3IWY63/cPALcA\nt0SB7krg6p7+vef19O9l885HcByXXfueo7VpEXU1LRXNb6UUirlotGM7fdn99Gc7CMOh7vTO3h1g\nF1S4F1sj+wPwqO/7vYD567/+63sqkW9ReRLchKiwKNB9A/iG53lLgDcBVxoTvmzr7sfZuhtSyTqC\nIM/u/esAQxAWYzvqMpfvZ3/XZjp6ttOX2Vf+UAisw3YHPINdfutp3/f3VCCbYoaL5/8OIaqU7/vb\nsYsDfMHzvGOB1wGvKRSz5wMLSutIPvrs7dTVtNBQ10YxLNCX2U9D3Vwcx61Y3ifDAJ09O9i9fz3d\nfbtKu0Pg99ipOL8BHvd9v69CWRRVRoKbEDNUVCP5JvDNaKWTE4CXYgemnJHNdZ+ezXU3Avx5w09J\nuClamhYyt3kpc5uXkEikKpf5CTLGcKB7C4VChvVbfl3a/Qdsk+1dvu/vr1jmRFWT4CZEFYiWiNoQ\npVth8OrbJ2Kv8XZuEBZe1dG9bUVH9zZcN2nmta5wFs1bS13tzOuvM8bQ1buTbXueIDPQBbbydivw\nBd/3nxr/aCEOTYKbEFUqGsquo/SdqHa3BnhLGBava+94YWl7xwu0tSxjyYLTxj3XdOrPdrJ192N0\n9+0B2/T4XeCTvu9vqmzORJxIcBMiJqLa3XPAxz3P+yR2DcWPHujeeuaB7m24boJCMUcqWVOR/BkM\nxSDPMy8MXormPuAffd9/tiIZErFWnb3PQohx+b4f+L5/J3AW8EYwz4dhkaf03WZvxwsYM30L4Rtg\nZ/ufyRcypWH864BLfN+/RAKbmCoS3ISIMd/3je/7dwMnA/9YDPLZTTv+wF823kdmYDrmNRvyhQzb\n9jwJdv3NZ4BTfN+/bxpeXMxi0iwpxCzg+34e+A/P874H/GdvZt8Vz7zwE1wnSTHIH9XXCsOAfZ0b\nKVv1LgT+HbjJ9/2uo/piQoxBgpsQs4jv+zuAKz3Pe938+fPv3bt3L0+uv9uAGWux8QnL5ftp73iB\nPQeepxgMlHZngBN93981zqFCHHUS3ISYhXzf/2k+n+eKK674aDHI/TPQCLBj7zMcM+eECZ/HYNh7\n4HkOdG+lu293aXc3cDPwnxLURKU409mxPEsZxr4ETxxI+aqXARzP8+YBH8QuJp4Ee8XwhfPW0N6x\nAbX8fP6y8RekkrWcsPhlbNj+MKEJMWFQvvI+2NVEvgl8z/f9mXCF+ji/dxD/8k2KBLepF/cPoJSv\neg0rm+d5TcBVUXolhy53gL34703A3b7vb56ifB6pOL93EP/yTYoEt6kX9w+glK96jVm2KNC9GDgJ\nWAS8BTvh+lvYi3k+B/zF9/3CaMfPEHF+7yD+5ZsUCW5TL+4fQClf9Ypz2UDKN6vJPDchhBCxI8FN\nCCFE7EhwE0IIETsS3IQQQsSOBDchhBCxIyuUCCEOi+d5tcACoDna1Q3snuHTAsQsI1MBpl7ch+tK\n+arXuGXzPK8RUMCLgFOwVxZYAywe5ekF4M/A/cAPgD9F15erpDi/dxD/8k2KBLepF/cPoJRvhvM8\nrw57XbdTgGVAG1B37rnnvvXhhx/+AUNlTAFN0eOLsLWzYZoaUsxpqWX7rl6am9Icv7SFgVyA3tiB\n4zgE4eD3yRPYlUvujK4YXglV/94dQtzLNykS3KZe3D+AUr4ZyPM8F/gr4F3AxcCEL7/tOJBIuBy3\noIG5rbW0zalj3YYOrrhkJTXpBAD//o0/0dyY5n+/7WQA/uPmP/H37zydL33rKWprEvRni6XT/Qn4\nW9/3/3gUizdRVfneHYa4l29SpM9NiBjxPM8BXo+tNa0t7T/z5Pkce0w9Tz+3n66eHI4Db3/jGrvs\ncfQVeetd63Ccoe/KN79+1eDtR5/aMxjYxpJKuoTGkEi4NNanWLKokXUbOs8Efu953peBj86QBZXF\nLCCjJYWICc/zFgI/Au4B1jY1pLj2yjUAXHjOEtae2EZPXx7XdXAch4b6FI31KRob7LY8sE2W6zq8\n/qLjuerSVaSSrgO8D3jC87zTj9qLCDEOCW5CxIDneX8FPAtcumRh42Cwmt9WX9F8LV7YRF1tkjNP\nng+wCvij53nviWqYQkwZCW5CVDHP81zP8/4V+EnCdebOm1vHW7xVuO7Mih0XnrOEKy5ZSW1NIgV8\nFbglGugixJSQ4CZElYqG6t8J/Esy4fC2y1eTzwdHtXnxaDp+aQvXXrnWifru3gH81vO8pRXOlogp\nCW5CVCHP8xYDvwEuW7rINv0tmFfZJsiJaG5MU5NOcLJqAzgT2Ox53nkVzpaIIQluQlQZz/POAB4F\nTj9l9TyufN2JM7a2NpaLX7mM2poE2O+g+z3Pe5/0w4mjSYKbEFXE87w3Ab8DFrbNqeU15y0lkai+\nmOA4DulUAseButpkAvi/wK1RU6sQkybBTYgq4Hle0vO8m4AfpJJuzeUXn0ChEFZdjW00116xxlk4\nvwHgauBxmS4gjgYJbkLMcJ7nLcGu2fjh1uYarrl8tbNyeWuls3XUNDWmuerSVbz4lPlg17J8xPO8\nGz3PS1U4a6KKSXATYoaKhvm/C/gLcN6qFa28441rmDc3fiPoEwmXC162hCsvWUlDfTIJfAo76fui\nSudNVKdZtfyWUuo64CTgX4AvAmdjVzPfC7xXa71DKbUcu7r542WHPqW1fr9SagG2b+B4IAReAG7Q\nWndPWyHErOB53vnAZ4Gz0ynXXHDOEk5WbbFohhzPiqUtvPPNJzkP/XEnz6zf/yLgV57n3Y/9W/xq\nBlxpQFSJWRXcsKvogQ1sO7TWfwOglDoHuE8pdVr0+Hqt9QWjHP9d4Jta6+9Fx30Q+ApwzdRmW8wG\n0aTmNwB/C7wcYPUJczj/ZYudpoZ0RfM2nWprklz8ymWcunYev3lkJ1t39l4EXARs8jzvB8DPgUd9\n389UNqdiJpttwQ1sU+xrsbUvALTWv1dKPYL9Ynl8tIOUUquBllJgi3wBiF8bkZgW0UU/TwJeAlyI\n/Vw2AJywtIWXnbmQaKDFrHTsMQ28+fWr2N3ez5N/aUdv6jq+WAw/AnwEMJ7nbQa2AfuBDFAEEthL\n99ScddZZPPbYYz/Hfs852NaWQvTcXqALOADsw7be7InSXgmc1W82BrdTgHVa65HXmHoK25k9anAD\nVkfPGRSdQ1Y5FxPmeV4a+D5wBrCEskuWtDbXoI6fw4tUG3NbayuVxRln4fwGFs5fwavODdi2s5dt\nu3pp359xDnQNHJ/JFo8f67jHHnsM4DVH8pqe5/Vhg14XEDD0Pv0E+FdpHp35ZmNw68VekHEkB/sh\nBlBKqQfKHvsldlHa8a/5IcShrQQuK99xTFsdLzt9IauOb419n9pkpFMJVi5vpTRS1BjDQC6gqydH\ndqBIMQhxHYdk0qUmnaAmnSCVckkmXBwHbvnhc1z1BsXAQEBvf57u3hwdXTn2d2bZdyBLLh+Uv1xj\nlEY6E7gF2DLFxRWTNBuD2ybgzUqplNa6ULb/dOw6fQB6ZJ+bUmoVdgQXI/afobV+YspyK+LmBeA2\nbM3tBCC970CWe361iYb6FOr4OZy8uq3iq/nPRAO5Ipu397BtVy9792Xo6BqgUDy8i3zffPuzE3la\niG3qbMc2W2awP34N8Gtg62G9qKiI2RjcDPZ6V58A/hkGB5ScBrwTWDbaQVrr55VSO5RS79VafzU6\n7h+i494xDfkWMeD7foFoAJLneQngRKI+t/5M4fVPPNs+94ln21myqJFzzlzE0kWjNTLMHsYYtu/u\n48ln29mwtZswHGwNzAHPY/vcDmC7B0rNh2kg/YpXvOLa3/72t3dj++AcbK3rd9hg1Qd0Mnqf2wHf\n94dV40T1ma3B7f3ATUqpp7D/SdqBK7XWRilVes5o3gp8WSn1bux/jqeAd019lkUcRV+g66P07WjS\n8iXADdt39b3m+7ue54SlLVz48iW0NtdUNK+VsGN3Hw89soNdewe7tf8MlEZLPhX9UBjPtR/60Ife\nOJV5FDPXrApuWutvl939wBjP2YKd/zbaY73AtUc/Z0IM1uruAe7xPO8s4HMbt3Wfv3VnjznvJYud\nM150zKzok+vPFnjg9ztYt6GjtOvHwOeAP8hADjFRsyq4CVEtfN9/zPO8C4GrioH50q9/v33u5u3d\nvO6CFdTXxfe/7fObO/nFQ1tNNhc42JHLf+f7/h8qnS9RfWT5LSFmKN/3je/7t2Pnwv188/YevnPn\nc2bvvvhNwSoUQ37xm638+BebyOaCPPAPwEslsIkjJcFNiBnO9/09wOuAj/X2F7jtx+vN+qEmu6rX\n1ZPj9h+t5+l1+wGeAU73ff+LMqhDTIYENyGqgO/7oe/7nwYuDQLT79+/mVw+wJjq74L6zp3rTPuB\nLMB/Y2tr6yqcJREDEtyEqCK+7/8EeBmwNZcPuPfXWyge5lyvmcAYEwVnyOWDAvAu3/ff7ft+ttJ5\nE/EgwU2IKuP7/rPYEb1/XLehg+/5z1dVDc5g+ElU88ROmH6F7/v/U+FsiZiR4CZEFfJ9vx24ALh9\nd3s/mYEiO/f0VTpbh9TZnaM/U2T9xk6ADmCx7/uPVjhbIoYkuAlRpXzfH8CudvLhIDDhHfdocvmg\nfBWPGUVv6uQ7dz5novx9FVjo+/7uCmdLxFR8J8wIMQtEk5o/53neY8Zwey4fHHv7jzVBGJJwZ8Zv\nV4Ph57/ZyjN2NGQO+N++73+nwtkSMTczPv1CiEnxff8B4GTgjt3t/fRnijOiqXLz9h76+gulwPZn\n4EwJbGI6SM1NiJjwfX8/cLXnef8N3Fkshq23/1gD8IvfbGXBMfUUgxDHcXCw88vKx6GExuDAUVni\nKwgNd9+3gQ1bu8Gu1fo54OO+7+cmfXIhJkCCmxAx4/v+rz3Pm4sdcPIu4Kqn1+2HEbPH/uuOsS//\n4jhw24/WM7ellra5tRSDkL7+Ag31yTGD30CuCMauDRkEphTYfotdQuupUQ8SYoo41TSEuEoZyq62\nHENSvhkuutrAqdhmy2XA24HERRddtOz+++//FkNlfDX2grxpoC7aDvsBXFuTYE5LDbvbM6SSLur4\nOQzki2zY0o3jUF4TPIC9FNTPKrjYcdW/d4cQ9/JNigS3qRf3D6CUr3qNW7YoKJ4AvAg4BRsc1wIr\nsNdIG3mu3wHzgCt8339uKjJ8mOL83kH8yzcpEtymXtw/gFK+6nVEZfM8zwXagOboHN1Axwy8HE2c\n3zuIf/kmRYLb1Iv7B1DKV73iXDaQ8s1qMhVACCFE7EhwE0IIETvSLCmEECJ2pOYmhBAidiS4CSGE\niB0JbkIIIWJHgpsQQojYkeAmhBAidiS4CSGEiB25KsAkKaW+CLwEu1rA32utHy977N3AO4EAeFpr\nfYNS6nzgh0BpSfY/a63/bnpzPTHjla3sOf8GvFRrfcFEj5kpDrd81fTewSE/m1uAbdjPJsDVWuvd\ncXn/Rinf24BVxOf9WwLcgV3j8wmt9XsOdcxMcrhlO5L/exLcJkEp9Upgpdb6HKXUauCbwDnRY/XA\nW4BztdaBUup+pdTLsG/mg1rrN1Us4xMwXtnKnrMWeAWQn+gxM8WRlC/ygNb6zdOX0yMzgfIZ4LVa\n68xhHDNjHGH5VhGf9+/zwL9rrX+slPpyFBCOP8QxM8IRlu2wvzelWXJyLgTuBtBarwfmKKUao/sZ\nrfWrosBWD7QAu6meteDGLFuZfwf+iaEyXTSBY2aKIykfxOv9G1mWiRwzUxxJ+cbaNxONWT6llAuc\nC/jR43+rtd4+3jEzzJGU7bDfNwluk3MssL/s/j5gYfkTlFIfATYA39dab4l2r1VK/Vgp9Vul1Kum\nJaeHb9yyKaWuA34NbC17zoLxjplhjqR8UB3vHUzgswl8PSrHvx3GMTPFkZQP4vH+HQP0Al+MyvGZ\nCRwzkxxJ2eAw3zsJbkeXg60+D9Ja34RtLrhEKXUO8DzwCa31G4Brgf9RSlVD8/Bg2ZRSc4FrgP9k\n/F9UB/09ZrCJlK9a3zs4+L34GPB+4HzgRUqpKyZwzEw2kfLF5f1zgOOwn89XAqcrpV53iGNmsomU\n7bDfOwluk7ML+yukZBG26RGl1NyoExSt9QDwM+DlWutdWusfRvs3AXuwb+ZMM2bZgAuixx4G7gLO\nUEp94RDHzDSHW77PV9F7B4d4L7TWt2qt92utA+Cn2AuRxuX9G7V8MXr/9gNbtdabtdYhcD9w0iGO\nmUkOu2xH8t5JcJucXwBXAiilzgB2aq37o8dS2F8XDdH9s4H1SqmrlVIfj46ZD8wHdk5vtidkzLJp\nrcoVBOEAAAK6SURBVO/UWr9Ia/0y4HLsiKZ/GO+YGehwy/cBpdTbquS9g3HKp5RqUUo9pJSqi557\nHvDn8Y6ZgQ67fFX0fw/G/3wWgU1KqZXRc88E1o93zAxz2GU7kvdOrgowSVF7/nnYIcc3AGcA3Vrr\nHymlro32FYGntNbvjTpObwfmAgngX7XW91Um9+Mbr2xlz1kOfFNrfeFox2it/zzd+Z6owy1fNb13\ncMjP5t8B1wN9wJOlYdVxef9GK1/M3r8TgFuwFZRnyqYCVMX7d7hlO5L3ToKbEEKI2JFmSSGEELEj\nwU0IIUTsSHATQggROxLchBBCxI4ENyGEELEjwU0IIUTsSHATQggROxLchBBCxE61LBoqhJggpdSN\nwKVACHwX+CXwdeyitEng/2/vfl27jKI4jr9R55KCMxpVPhgMphk0qCCDJdP8F5aEpQWjeYKwoUWH\nIDaLTQTFX8VgsZz/QQTDwCBquDd8EZNffcTr+xUPPHBvOpzLw/lsVtXrJLvAHnCctpV9t6puJjkI\nbPf6IeBhVW1NfhFpDk5u0kCSnAdWaSnH54DLwC1gu6elrwP3Zz45VlUrtFVI13siwjXavr+LwFng\napLTE15DmpvNTRrLMvCiqr5V1ZceEbJMm96oqvfA4SRHaTEjT3r9Ey1W5CQtFeFKkmfAU2CRNsVJ\n/wyfJaWxfKUtlp314wLZ2fys/T+pf6Ytpn30R04oTcDJTRrLG+BSkgNJFpI8B94BKwBJzgAfquoj\nrZld6PUl4AQtOuUVsNbr+5JsJTky+U2kOZgKIA2m/1CySmteD2hhnbdpU9oCsFFVb5Pco0WOLNGe\nHe9U1U6SRWAHONW/eVxVN6a/ifTrbG7Sf6o3t5dVdfdvn0X63XyWlCQNx8lNkjQcJzdJ0nBsbpKk\n4djcJEnDsblJkoZjc5MkDcfmJkkaznevKVaFY4BzqgAAAABJRU5ErkJggg==\n",
      "text/plain": [
       "<matplotlib.figure.Figure at 0x7fe26d193910>"
      ]
     },
     "metadata": {},
     "output_type": "display_data"
    }
   ],
   "source": [
    "df = parse_output(output,'PE_mf_anat')\n",
    "sns.violinplot(x='cope',y='roi',data=df,split=True,inner = 'stick')"
   ]
  },
  {
   "cell_type": "code",
   "execution_count": 225,
   "metadata": {
    "collapsed": false
   },
   "outputs": [
    {
     "name": "stdout",
     "output_type": "stream",
     "text": [
      "vta -0.0203256797028 0.983913835571\n",
      "l_accumbens 1.91994740897 0.064107342954\n",
      "lOFC 3.50263884639 0.0014229414588\n",
      "r_accumbens 1.38996481531 0.174440855064\n",
      "mOFC 3.49637118678 0.0014470468515\n"
     ]
    }
   ],
   "source": [
    "for roi in set(df['roi'].values):\n",
    "    roi_df = df[df['roi']==roi]\n",
    "    t,p = scipy.stats.ttest_1samp(roi_df.ix[roi_df['exp']=='ser','cope'].values,\n",
    "                          .5)\n",
    "    print roi,str(t),str(p)"
   ]
  },
  {
   "cell_type": "code",
   "execution_count": 230,
   "metadata": {
    "collapsed": true
   },
   "outputs": [],
   "source": [
    "a= df.ix[(df['exp']=='ser') & (df['roi'] == 'mOFC')]['cope'].values\n",
    "np.savetxt(home_dir + '/mOFC_decoding.txt',a)"
   ]
  },
  {
   "cell_type": "markdown",
   "metadata": {},
   "source": [
    "#Anatomical analyses"
   ]
  },
  {
   "cell_type": "code",
   "execution_count": 43,
   "metadata": {
    "collapsed": false
   },
   "outputs": [],
   "source": [
    "contrast = 'A'\n",
    "analysis = 'PEfb-diff'\n",
    "# mask_p = home_dir + 'analysis/' + exp + '_4mm-' + analysis + '/group/mni'\n",
    "in_tuples = []\n",
    "for exp in ['ser']:\n",
    "    for sub in sub_list:\n",
    "        in_tuples.append((sub,exp,'vta', '/vta/' + exp + '_vta_mask.nii.gz',contrast,analysis))   \n",
    "        in_tuples.append((sub,exp,'l_accumbens','l_accumbens_' + exp + '.nii.gz',contrast,analysis))        \n",
    "        in_tuples.append((sub,exp,'r_accumbens','r_accumbens_' + exp + '.nii.gz',contrast,analysis)) \n",
    "        in_tuples.append((sub,exp,'mOFC','mOFC_fill_' + exp + '.nii.gz',contrast,analysis)) \n"
   ]
  },
  {
   "cell_type": "code",
   "execution_count": 45,
   "metadata": {
    "collapsed": false
   },
   "outputs": [],
   "source": [
    "# pool = multiprocessing.Pool(processes = 40)\n",
    "# output = pool.map(extract_cope_anat,in_tuples)\n",
    "# pool.terminate()\n",
    "# pool.join()"
   ]
  },
  {
   "cell_type": "code",
   "execution_count": 202,
   "metadata": {
    "collapsed": false,
    "scrolled": true
   },
   "outputs": [
    {
     "data": {
      "text/plain": [
       "<matplotlib.axes._subplots.AxesSubplot at 0x7fe26b210050>"
      ]
     },
     "execution_count": 202,
     "metadata": {},
     "output_type": "execute_result"
    },
    {
     "data": {
      "image/png": "iVBORw0KGgoAAAANSUhEUgAAAbgAAAENCAYAAAB9zXB1AAAABHNCSVQICAgIfAhkiAAAAAlwSFlz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\nAABJRU5ErkJggg==\n",
      "text/plain": [
       "<matplotlib.figure.Figure at 0x7fe26cab9e90>"
      ]
     },
     "metadata": {},
     "output_type": "display_data"
    }
   ],
   "source": [
    "df = parse_output(output,'PE_mf_anat')\n",
    "sns.violinplot(x='cope',y='roi',data=df,split=True,inner = 'stick')"
   ]
  },
  {
   "cell_type": "code",
   "execution_count": 203,
   "metadata": {
    "collapsed": true
   },
   "outputs": [],
   "source": [
    "a= df.ix[(df['exp']=='ser') & (df['roi'] == 'mOFC')]['cope'].values\n",
    "np.savetxt(home_dir + '/mOFC.txt',a)"
   ]
  },
  {
   "cell_type": "code",
   "execution_count": 204,
   "metadata": {
    "collapsed": false
   },
   "outputs": [
    {
     "name": "stdout",
     "output_type": "stream",
     "text": [
      "vta -3.78427437162 0.000662802714078\n",
      "l_accumbens -1.7020346999 0.0987586056988\n",
      "r_accumbens -1.43998699866 0.159894388682\n",
      "mOFC 0.527873846223 0.601345333445\n"
     ]
    }
   ],
   "source": [
    "for roi in set(df['roi'].values):\n",
    "    roi_df = df[df['roi']==roi]\n",
    "    t,p = scipy.stats.ttest_1samp(roi_df.ix[roi_df['exp']=='ser','cope'].values,\n",
    "                          0)\n",
    "    print roi,str(t),str(p)"
   ]
  },
  {
   "cell_type": "code",
   "execution_count": 28,
   "metadata": {
    "collapsed": false
   },
   "outputs": [],
   "source": [
    "contrast = 'PE_mb'\n",
    "analysis = 'Vfb'\n",
    "in_tuples = []\n",
    "for exp in ['ser']:\n",
    "    for sub in sub_list:\n",
    "        in_tuples.append((sub,exp,'vta',home_dir + '/analysis/vta/vta_thresh.nii.gz',\n",
    "                          contrast,analysis))   \n",
    "        in_tuples.append((sub,exp,'l_limbic',home_dir + '/analysis/striatum/left_limbic.nii.gz',\n",
    "                          contrast,analysis)) \n",
    "        in_tuples.append((sub,exp,'r_limbic_7',home_dir + '/analysis/striatum/r_limbic_7.nii.gz',\n",
    "                          contrast,analysis)) \n",
    "        in_tuples.append((sub,exp,'l_limbic_7',home_dir + '/analysis/striatum/l_limbic_7.nii.gz',\n",
    "                          contrast,analysis)) \n",
    "        in_tuples.append((sub,exp,'l_frontal',home_dir + '/analysis/striatum/left_frontal.nii.gz',\n",
    "                          contrast,analysis)) \n",
    "        in_tuples.append((sub,exp,'r_limbic',home_dir + '/analysis/striatum/right_limbic.nii.gz',\n",
    "                          contrast,analysis))        \n",
    "        in_tuples.append((sub,exp,'r_frontal',home_dir + '/analysis/striatum/right_frontal.nii.gz',\n",
    "                          contrast,analysis)) \n"
   ]
  },
  {
   "cell_type": "code",
   "execution_count": 30,
   "metadata": {
    "collapsed": false
   },
   "outputs": [],
   "source": [
    "# pool = multiprocessing.Pool(processes = 40)\n",
    "# output = pool.map(extract_cope_mni,in_tuples)\n",
    "# pool.terminate()\n",
    "# pool.join()"
   ]
  },
  {
   "cell_type": "code",
   "execution_count": 31,
   "metadata": {
    "collapsed": false
   },
   "outputs": [
    {
     "data": {
      "text/plain": [
       "<matplotlib.axes._subplots.AxesSubplot at 0x7f922c2dfed0>"
      ]
     },
     "execution_count": 31,
     "metadata": {},
     "output_type": "execute_result"
    },
    {
     "data": {
      "image/png": "iVBORw0KGgoAAAANSUhEUgAAAa0AAAENCAYAAAC8SjrZAAAABHNCSVQICAgIfAhkiAAAAAlwSFlz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\nkkGMliAIglAyiNESBEEQSob/D90au3qjPEBDAAAAAElFTkSuQmCC\n",
      "text/plain": [
       "<matplotlib.figure.Figure at 0x7f922751bf50>"
      ]
     },
     "metadata": {},
     "output_type": "display_data"
    }
   ],
   "source": [
    "df = parse_output(output,'PE_mf_anat')\n",
    "sns.violinplot(x='cope',y='roi',data=df,split=True,inner = 'stick')"
   ]
  },
  {
   "cell_type": "code",
   "execution_count": 32,
   "metadata": {
    "collapsed": false
   },
   "outputs": [
    {
     "name": "stdout",
     "output_type": "stream",
     "text": [
      "vta 2.12389837459 0.0417610175875\n",
      "l_frontal 0.252908391268 0.802008601112\n",
      "r_limbic_7 2.36311597988 0.0245746854294\n",
      "r_limbic 2.2703883775 0.0302842036849\n",
      "l_limbic_7 0.0779919012954 0.938335738865\n",
      "r_frontal 1.81972591765 0.0784701820675\n",
      "l_limbic -0.0755223376666 0.940284407072\n"
     ]
    }
   ],
   "source": [
    "for roi in set(df['roi'].values):\n",
    "    roi_df = df[df['roi']==roi]\n",
    "    t,p = scipy.stats.ttest_1samp(roi_df.ix[roi_df['exp']=='ser','cope'].values,\n",
    "                          0)\n",
    "    print roi,str(t),str(p)"
   ]
  },
  {
   "cell_type": "code",
   "execution_count": 52,
   "metadata": {
    "collapsed": false
   },
   "outputs": [],
   "source": [
    "contrast = 'PE_mf'\n",
    "analysis = 'PEfb-diff'\n",
    "in_tuples = []\n",
    "for exp in ['ser']:\n",
    "    for sub in sub_list:\n",
    "        in_tuples.append((sub,exp,contrast,analysis))   "
   ]
  },
  {
   "cell_type": "code",
   "execution_count": 54,
   "metadata": {
    "collapsed": false
   },
   "outputs": [],
   "source": [
    "# pool = multiprocessing.Pool(processes = 40)\n",
    "# output = pool.map(extract_cope_vta,in_tuples)\n",
    "# pool.terminate()\n",
    "# pool.join()"
   ]
  },
  {
   "cell_type": "code",
   "execution_count": 90,
   "metadata": {
    "collapsed": false
   },
   "outputs": [
    {
     "data": {
      "text/plain": [
       "<matplotlib.axes._subplots.AxesSubplot at 0x7f9224dbf790>"
      ]
     },
     "execution_count": 90,
     "metadata": {},
     "output_type": "execute_result"
    },
    {
     "data": {
      "image/png": "iVBORw0KGgoAAAANSUhEUgAAAbcAAAENCAYAAACMxiv4AAAABHNCSVQICAgIfAhkiAAAAAlwSFlz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\niEjqKNxERCR1FG4iIpI6CjcREUmd/w8aIdpgszZMzQAAAABJRU5ErkJggg==\n",
      "text/plain": [
       "<matplotlib.figure.Figure at 0x7f9224dbf810>"
      ]
     },
     "metadata": {},
     "output_type": "display_data"
    }
   ],
   "source": [
    "df_mf = parse_output(output,'PE_mf_anat')\n",
    "a = list(df['cope'].values)\n",
    "a.extend(list(df_mf['cope'].values))\n",
    "b = np.hstack((['Model Based']*32, ['Model Free']*32))\n",
    "new_df = {'PE':b,'Cope':a}\n",
    "new_df = pd.DataFrame(new_df)\n",
    "sns.violinplot(x='Cope',y='PE',data=new_df,split=True,inner = 'stick')"
   ]
  },
  {
   "cell_type": "code",
   "execution_count": null,
   "metadata": {
    "collapsed": true
   },
   "outputs": [],
   "source": []
  },
  {
   "cell_type": "code",
   "execution_count": 89,
   "metadata": {
    "collapsed": false
   },
   "outputs": [
    {
     "name": "stdout",
     "output_type": "stream",
     "text": [
      "Model Free 2.19822068683 0.0355269787009\n",
      "Model Based 4.00692448263 0.000358339467136\n"
     ]
    }
   ],
   "source": [
    "for roi in set(new_df['PE'].values):\n",
    "    roi_df = new_df[new_df['PE']==roi]\n",
    "    t,p = scipy.stats.ttest_1samp(roi_df['Cope'].values,\n",
    "                          0)\n",
    "    print roi,str(t),str(p)"
   ]
  },
  {
   "cell_type": "code",
   "execution_count": 50,
   "metadata": {
    "collapsed": false
   },
   "outputs": [],
   "source": [
    "a= df.ix[(df['exp']=='ser') & (df['roi'] == 'vta_mean')]['cope'].values\n",
    "np.savetxt(home_dir + '/vta_mb_mean.txt',a)"
   ]
  },
  {
   "cell_type": "code",
   "execution_count": null,
   "metadata": {
    "collapsed": true
   },
   "outputs": [],
   "source": [
    "df = parse_output(output,'PE_mf_anat')\n",
    "sns.violinplot(x='cope',y='roi',data=df,split=True,inner = 'stick')"
   ]
  },
  {
   "cell_type": "code",
   "execution_count": 16,
   "metadata": {
    "collapsed": false
   },
   "outputs": [
    {
     "name": "stderr",
     "output_type": "stream",
     "text": [
      "INFO:interface:stdout 2015-10-05T02:31:29.339501:7879.287645 \n"
     ]
    },
    {
     "data": {
      "text/plain": [
       "('fd_104', 'ser', 'vta_stat', 7879.287645)"
      ]
     },
     "execution_count": 16,
     "metadata": {},
     "output_type": "execute_result"
    }
   ],
   "source": [
    "contrast = 'PE_mb'\n",
    "analysis = 'PEfb-diff'\n",
    "in_tuples = []\n",
    "# tsnr_subs = ['fd_148','fd_144','fd_119','fd_135']\n",
    "# good_subs = [s for s in sub_list if s not in tsnr_subs]\n",
    "good_subs = sub_list\n",
    "for exp in ['ser']:\n",
    "    for sub in good_subs:\n",
    "        in_tuples.append((sub,exp,'mOFC','/A_v_all/mOFC_mask.nii.gz','A_v_all',analysis))   \n",
    "        in_tuples.append((sub,exp,'vta','/vta/' + exp + '_vta_mask.nii.gz',contrast,analysis))   \n",
    "        in_tuples.append((sub,exp,'vta_stat','/vta/' + exp + '_vta_mask_PEmf.nii.gz',contrast,analysis))   \n",
    "        in_tuples.append((sub,exp,'l_accumbens','l_accumbens_' + exp + '.nii.gz',contrast,analysis))        \n",
    "        in_tuples.append((sub,exp,'r_accumbens','r_accumbens_' + exp + '.nii.gz',contrast,analysis))\n",
    "extract_cope_anat(in_tuples[2])"
   ]
  },
  {
   "cell_type": "code",
   "execution_count": 18,
   "metadata": {
    "collapsed": false
   },
   "outputs": [],
   "source": [
    "# pool = multiprocessing.Pool(processes = 40)\n",
    "# output = pool.map(extract_cope_anat,in_tuples)\n",
    "# pool.terminate()\n",
    "# pool.join()"
   ]
  },
  {
   "cell_type": "code",
   "execution_count": 19,
   "metadata": {
    "collapsed": false,
    "scrolled": true
   },
   "outputs": [
    {
     "data": {
      "text/plain": [
       "<matplotlib.axes._subplots.AxesSubplot at 0x7f2f90e66810>"
      ]
     },
     "execution_count": 19,
     "metadata": {},
     "output_type": "execute_result"
    },
    {
     "data": {
      "image/png": "iVBORw0KGgoAAAANSUhEUgAAAbsAAAENCAYAAACW+st2AAAABHNCSVQICAgIfAhkiAAAAAlwSFlz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\n",
      "text/plain": [
       "<matplotlib.figure.Figure at 0x7f2f90f327d0>"
      ]
     },
     "metadata": {},
     "output_type": "display_data"
    }
   ],
   "source": [
    "df = parse_output(output,'PE_mb_anat')\n",
    "sns.violinplot(x='cope',y='roi',data=df,split=True,inner = 'stick')"
   ]
  },
  {
   "cell_type": "code",
   "execution_count": 20,
   "metadata": {
    "collapsed": false
   },
   "outputs": [
    {
     "name": "stdout",
     "output_type": "stream",
     "text": [
      "vta 2.16803234056 0.0379512589028\n",
      "vta_stat 2.65942289394 0.012276263121\n",
      "r_accumbens 0.291934090135 0.77228183125\n",
      "mOFC 6.32385277611 4.89923637011e-07\n",
      "l_accumbens 0.98793860615 0.330831498129\n"
     ]
    }
   ],
   "source": [
    "for roi in set(df['roi'].values):\n",
    "    roi_df = df[df['roi']==roi]\n",
    "    t,p = scipy.stats.ttest_1samp(roi_df.ix[roi_df['exp']=='ser','cope'].values,\n",
    "                          0)\n",
    "    print roi,str(t),str(p)"
   ]
  },
  {
   "cell_type": "code",
   "execution_count": 21,
   "metadata": {
    "collapsed": false
   },
   "outputs": [],
   "source": [
    "a= df.ix[(df['exp']=='ser') & (df['roi'] == 'vta_stat')]['cope'].values\n",
    "np.savetxt(home_dir + '/vta_mb.txt',a)"
   ]
  },
  {
   "cell_type": "code",
   "execution_count": 265,
   "metadata": {
    "collapsed": false
   },
   "outputs": [],
   "source": [
    "# weights = np.loadtxt(home_dir + '/analysis/omegas_good_subs.txt')\n",
    "# print len(weights)\n",
    "# bad_subs = ['fd_104','fd_107','fd_108','fd_109','fd_115','fd_122','fd_133','fd_141']\n",
    "# vta =  df[df['roi']=='vta_stat']['cope'].values\n",
    "# vta = np.array([x for n,x in enumerate(vta) if sub_list[n] not in bad_subs])\n",
    "# print len(vta)\n",
    "# sns.jointplot(vta,weights)"
   ]
  },
  {
   "cell_type": "code",
   "execution_count": 232,
   "metadata": {
    "collapsed": false,
    "scrolled": true
   },
   "outputs": [
    {
     "data": {
      "text/plain": [
       "<seaborn.axisgrid.JointGrid at 0x7f3924b44190>"
      ]
     },
     "execution_count": 232,
     "metadata": {},
     "output_type": "execute_result"
    },
    {
     "data": {
      "image/png": "iVBORw0KGgoAAAANSUhEUgAAAbcAAAGpCAYAAAAOS3gAAAAABHNCSVQICAgIfAhkiAAAAAlwSFlz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\nAElFTkSuQmCC\n",
      "text/plain": [
       "<matplotlib.figure.Figure at 0x7f3924b44310>"
      ]
     },
     "metadata": {},
     "output_type": "display_data"
    }
   ],
   "source": [
    "sns.jointplot(df[df['roi']=='vta']['cope'].values,df[df['roi']=='mOFC']['cope'].values)"
   ]
  },
  {
   "cell_type": "code",
   "execution_count": 233,
   "metadata": {
    "collapsed": false
   },
   "outputs": [
    {
     "data": {
      "text/plain": [
       "<seaborn.axisgrid.JointGrid at 0x7f392490d310>"
      ]
     },
     "execution_count": 233,
     "metadata": {},
     "output_type": "execute_result"
    },
    {
     "data": {
      "image/png": "iVBORw0KGgoAAAANSUhEUgAAAbcAAAGpCAYAAAAOS3gAAAAABHNCSVQICAgIfAhkiAAAAAlwSFlz\nAAALEgAACxIB0t1+/AAAIABJREFUeJzt3XuYXXV97/H35EKCg0kgVIMoR9TzfOvdU++gEvCaYp6U\nE608emy4tAXFR7SRA2Kp4gWPYrwelVBFRtSWWk4ao6YiYg5WRMTTU8pp/R7v7REpl5Brk8ltnz/W\nGtiMmcxlz8xe+zfv1/PsJ3uvWbP3Z1aS+ezf2r+1Vl+r1UKSpJLM6nYASZImm+UmSSqO5SZJKo7l\nJkkqjuUmSSrOnG4HGIc7gKd0O8Qh3PGYJ7/49KOPe+pvdzvIcPv3Ds658S/f+2dHH734Sd3O0q6v\nr2/hCa+57Jx5/UcNApx12rMuvGrdbR/odi6AwZ2b59187cVrW63W1rbFTf83CM3P2PR80BsZNYpe\nKrcndzvAKJ48r3/Rgkc/6eSjuh1kuN07Nh924MCBJ3Y7x8HM6z9qsH/Rkl0ARy9efMzQ/YZq+r9B\naH7GpueD3sioUbhbUpJUHMtNklQcy02SVBzLTZJUHMtNklQcy02SVBzLTZJUHMtNklQcy02SVBzL\nTZJUHMtNklQcy02SVBzLTZJUnF66KoAm6MCB/X3btm3jkY98xMJuZxlmQevA/m5nkFQgy20GGNyx\ned4N3/8ZJ591xRndztJu290/W7hvz65BoMmXuZHUgyy3GeLwh/XTtGul7dp+7/xuZ5BUJj9zkyQV\nx3KTJBXHcpMkFcdykyQVx3KTJBXHcpMkFcdykyQVx3KTJBXHcpMkFcdykyQVx3KTJBXHcpMkFcdy\nkyQVx3KTJBXHcpMkFcdykyQVx3KTJBXHcpMkFcdykyQVx3KTJBXHcpMkFcdykyQVZ063A0hNdODA\n/j5gQV9f3wPLtmzZwqJFixZ2L9UDtrdarQPdDiE1meUmHcTgzvvnPfu0S8484shjtw4tu+HWX3Ly\nWVec0cVYDO7cPO/may9eC2wddWVpBrPcpBHMO3zhYP+iJbuGHvcfsYD2x5Kay8/cJEnFsdwkScWx\n3CRJxbHcJEnFsdwkScVxtqSkjvX19c0CHj7ael08VtBjA2cYy03SZHj4Ca+57Jx5/UcNHmqlbhwr\n6LGBM5PlJmlSzOs/anC04wA9VlDTxc/cJEnFsdwkScWx3CRJxbHcJEnFsdwkScVxtuQk2rNr655f\n//iWvd3OMdy/b71r7+7dz2TnlrsO73aWdnt3bZu3f9/gA7l27ji+MRmHZ4Nm5BvcuXkew64z166L\nx5EtqLMdUje24VhyqTx9rVar2xkkSZpU7paUJBXHcpMkFcdykyQVx3KTJBXHcpMkFcdykyQVx3KT\nJBXHcpMkFcdykyQVx3KTJBWnl8rtjm4HGIX5Otf0jE3PB83P2PR80BsZNYpeOrdkCzj42WKbwXyd\na3rGpueD5mdsej7ojYwaRS+N3CRJGhPLTZJUHMtNklQcy02SVBzLTZJUHMtNklQcy02SVBzLTZJU\nnDndDiBpZouIucDVwHHAfuDMzPz5sHVeB5wPHACuzMyrIuIRwAAwDzgM+JPMvDUingb893rd+4HX\nZuauKcz/dOBTVAd/356Zbxz29UcBV9UZZwNvzcz/FREnAGuAPcDfZeY7pirjTOTITVJHIqLTs3m8\nFticmS8E3ge8f9jz9wOXAC8GlgJvjYgjgdcBA5l5CnAx8J76Wz4OvC0zlwI/Bs7oMN9oPgq8OTNf\nACyMiFcM+/qfANfVOS+i+hkBPk1V5CcBx0TE86c454ziyE3qERFxBvAK4AjgMcBHMvPqiBgqhb2n\nnXYa69atm0s1ihgAHg0cDlyamV+LiE3A7VQjiM8AnwQG69tr6pe6GlgIzKX6pf33EfETYB1wIrAF\nOBV4J3A88LiIOCkzD9Q5LwZeOiz+GzPzn0f40U6pswJ8i2qU0+65wA8yc3v9/N8FTszMj7Stcxzw\nr/X9FZm5tb5/L3BU/X1/k5m/1/7E9fb4PvDseju9JjPbv37InyUiDgMem5k/rL+2AXgJ8Ldt6/8b\ncHR9/yjgnvr+ksz8UX3/m8DLgO+hSWG5Sb3lScAzgCOBf4iIAaqRysmZueXyyy9vAa+m+mV5fWYO\nRMTxwJeBr1GV3h2ZeWVEfAz4VGZ+ISJOBpZQFdzNmXl5RDwT+AjVaOl4qlHSBRHxPeBp9XPNrUdc\nD8jMy4DLxvEzLaH+hZ+ZByKiFRFzMnNf/fVH8mAhANwNHAMQEUuoCqWfamTHULHVI77XA6+qlz+k\n2Got4L7MPCUi3gS8ZZw/y9FUuz5/I1ubjwO3RMQfAA+neoMA8PP6jcnfURX83kO8jsbJ3ZJS72gB\n/zMzD2TmfVS/VH8LeAKwLiK+feuttwI8qv7asyPi76hGRUe1Pc+t9Z/rgUsi4t3A3VkNWZ4JbAKo\nRyNPqNfdlplDZ8v/f1QjO4AfTNLP1jfC/UOum5l3ZeazgdVUI07ggWL7CnB5tg/FDu6G+s/vATHW\nwCM42O/UC4C/yswnAucAH6qX/zHwbuCrwE48WfOkcuQm9Zb2X559VJMmfpWZJ9fLWsCHImIVcGRm\nviAijuahJbQHIDNvjIhnAcuBgYh4W/397a8xu/5zHw819It4z/CAY9iVNx/YWC+/HLiTavR2ez25\npK9t1Ebb14ccSzUSOolqAsf9mbkxIj5fP/8c4G+AL2Tm54fnO4ihn3EW1c8/5p+FakS5eFi2O4et\nfwIwNFnkBqrJJ2Tm7cDJ9eu8A0duk8pyk3pHH/D8iJhFNRJ7OHAfQEQ8MTP/+ZprruG9733vU6l+\n4Q7NOFxJNVPvISLiPOBrmfmlelLIf6IqwZOB70fE84B/HG/I0XblZebu+jWGciyk2pV6PVXR3jjs\nW24FPlOvt59qt95bqEY9zwA+FhFPBf6lXv9CYFNmfm6MkV9I9XM/H/g/VJ8njvVn2RsRP4qIEzPz\nu8BpVLsh2/0EeB7w91Sf7f24/rk/C3y4fvxqqok1miSWm9Q7WsAvqD4/ewJwcWa2IuJs4HMRsefU\nU08F+BGwDfhKRJxINUHjXyPiEh46MvkJ8OWI2ArsBs4EdtXP9S2qMj2v7bVHytSpa4GXRsR36hxn\nAETEhVS7YW+JiIuAb9Sv967M3BYR76EacZ4GzAfeUD/fG4FfRMRL6sffysz3HmxCSe24iNhItat1\nJfBfx5n/LcDa+k3HLZl5Y51/6PUuAz4bEb9f539z/X2fpdplPAf4fGb+0zhfV4fgxUonj/k61/SM\nXc1X72p8SmZecIjV3IYjiIgPZOaFw5Z9GzhvWLE0fRtqDJxQIvWWnnk32kA3dTuApo8jt8ljvs41\nPWPT80HzMzY9H/RGRo3Cz9zUkeWr188HVtUPBzasWbG7m3kkCRy5TaYZl68uto1UB/lCdXzUsg4K\nbsZtwynQ9IxNzwe9kVGjcOSmTqziwWKjvr8KWNuNMJIeqq+vb+Hoax3S9lardWBSwkwzy02SCnXC\nay47Z17/UYMT+d7BnZvn3XztxWuBraOu3ECWmzoxAJzOQ3dLDoy0sqTpNa//qMH+RUum7HI/Teah\nAJqw+rO1ZcC59a2Tz9skadI4clNH6jLzMzZJjTLhcquvjHsB1QlV/4zqHHTXUI0Gfw28PjP3jHAF\n3VGvvCtJ0kRNaLdkRCymKrQTgVcCK4BLgU9k5ouozll31iGuoHvIK+9KktSJiY7cXgLckJk7qa5D\ndE5E/IzqWkVQXTzwbUBykCvoMvqVdyVJmrCJTij5D8DDImJ9RNwUES8G+jNz6HpE91BdjfaBK+zW\n7m5bfi9UV94FWvU1mCRJ6thEC2XoelKnAY+lvnJvm5GO7h/vckmSxm2i5XYX8L161PWziNgO7ImI\n+fWFCIeuRnvQK+gy+pV3R9L0c4WZr3NNz9j0fND8jE3PB83OOObBwFmnPevCoxcvPmYiL7Jzx/Gs\n+/CWj07ke6fRiNtiouV2PXB1RHyAagTXD/wt1YX+vlj/uRH4Pr95Bd3zgQUc+sq7I2nyCK/p56Nr\nej5ofsam54PmZ2x6PuiNjGNy1brbPjDRg7h3brnr8Fe97OlXt1qtnjxDyYQ+c8vMO4G/phqFfR14\nE/AuYFVE3AQsAgbqUdzQFXS/SXUF3e1UV96dXV959w3A2zv8OSRJesCEJ3Fk5pXAlcMWv+wg610H\nXDds2QHgrIm+tiRJh+LptyRJxbHcJEnFsdwkScWx3CRJxbHcJEnFsdwkScWx3CRJxbHcJEnFsdwk\nScWx3CRJxbHcJEnFsdwkScWx3CRJxbHcJEnFsdwkScWx3CRJxbHcJEnFsdwkScWx3CRJxbHcJEnF\nsdwkScWx3CRJxbHcJEnFsdwkScWx3CRJxbHcJEnFsdwkScWx3CRJxbHcJEnFsdwkScWx3CRJxbHc\nJEnFsdwkScWx3CRJxbHcJEnFsdwkScWZ0+0A6r7lq9fPB1bVDwc2rFmxu5t5JKlTjtxmuLrYNgJX\n1LeN9TJJ6lmWm1YBS9seL+XBUZwk9SR3S0pSoXbc/6uFe3fvmNCemMFdW+cBC/r6+jqJsL3Vah3o\n5AkmynLTAHA6D47eNtXLJPW4A3sH2TdnYh+hz54zb/CkMz65ctas2a2JfP/gzs3zbr724rXA1gkF\n6JDlNsNtWLNi9/LV65fhhBKpOAse8bit/YuW7Op2jm6w3ERdZmu7nUOSJosTSiRJxbHcJEnFsdwk\nScWx3CRJxbHcJEnFsdwkScXxUABpAjzZtNRsjtykcfJk01LzWW7S+HmyaanhLDdJUnEsN2n8BqhO\nMD1kE55sWmoUy00ap3ryyDLg3Pq2zAklUrM4W1KaAE82LTWbIzdJUnE6GrlFxOHAHcC7gRuBa6gK\n89fA6zNzT0S8DjgfOABcmZlXRcRc4GrgOGA/cGZm/ryTLJIkDel05PanwL31/XcDn8jMFwE/Ac6K\niH7gEuDFVNOl3xoRRwKvBTZn5guB9wHv7zCHJEkPmHC5RcRvA78NfK1edBLwlfr+BuAlwHOAH2Tm\n9szcDXwXOBE4BVhXr/utepkkSZOik92SlwPnAWfWj/szc299/x7gGGBJfX/I3W3L7wXIzAMR0YqI\nOZm5r4M8mmSeYkpSr5pQuUXEHwA3Zea/RARA37BVhj+e6PLhWmNcr1uKybdn736e8vjF3PHT+wB4\nyuMXX7Fn734Omzt7ysLVitmGXdT0jE3PB83OONbfl5x12rMuPHrx4mOmMsxIdu44nnUf3vLRKX6Z\nEbfFREduvws8LiL+M/BoYBDYHhHz692PxwJ31rclbd93LHBL2/Lb68klfWMctY35L7ULWhSUb+VF\nXz2H6ryJANzx0/tYedFXz92wZsVUTn8vaht2SdMzNj0f9EbGMblq3W0f6F+0ZFc3XnvnlrsOf9XL\nnn51q9Xa2o3Xn1C5ZebpQ/cj4p3AL4ATgJXAF+s/NwLfBz4TEQupZkWeSDVzcgHwauB6YDnVTEtJ\nkibFZB3n1gLeCayKiJuARcBAPYq7CPgG8E3gXZm5HbgWmB0R3wHeALx9knJo8niKKUk9q6/VavKu\n5Ydo+q6CxuQbYSLIuPN1YUJJY7bhCJqeD5qfsen5oDcyjskpZ689v5u7Jb991bm9tVtSzdV2rbGl\n9aLTl69ev2zDmhXjfi5PMSWpV3n6rfJ4rTFJM57lJkkqjuVWHieCSJrxLLfCeK0xSXJCSZGcCCJp\npnPkJkkqjuUmSSqO5SZJKo7lJkkqjuUmSSqO5SZJKo7lJkkqjuUmSSqO5SZJKo7lJkkqjuUmSSqO\n5SZJKo7lJkkqjlcF6DHLV6+fz4NX1h7wcjaS9JscufWQutg2AlfUt431MklSG8utt6wClrY9XsqD\nozhJUs1ykyQVx3LrLQPAprbHm+plkqQ2llsPqSePLAPOrW/LnFAiSb/J2ZI9pi6ztd3OIan5dtz/\nq4V7d+/oyqSzwV1b5wEL+vr6puw1Wq3W1pG+ZrlJUqEO7B1k35zu7NyZPWfe4ElnfHLlrFmzW1Px\n/IM7N88DPjjS1y03SSrUgkc8bmv/oiW7up2jG/zMTZJUHMtNklQcy02SVBzLTZJUHMtNklQcy02S\nVBzLTZJUHMtNklQcy02SVBzLTZJUHMtNklQcy02SVBzLTZJUHMtNklQcy02SVByv5yaN0/LV6+cD\nq+qHA/XV0SU1iCM3aRzqYtsIXFHfNtbLJDWI5SaNzypgadvjpTw4ipPUEJabJKk4fuY2Sfbs3c/K\ni756Tv3Qz2HKNQCczoOjt031MkkNYrlNguWr189/yuMXQ/UZDMDpy1evX2bBTb3pntyxYc2K3ctX\nr182na8pafwst8mx6o6f3tf+eCnVL7+1XUkzQ7RN7lhaL5qWNxX18/t3KzWY5TY55o5xmSbXSJM7\n1oJT9qWZzAklk6M1xmWaJk7Zl2Y2y21y7BvjMk2uAaoJHUM28eDkDqfsSzOY5TY5BuoJJUM24Qy6\nKVfvZlwGnFvfnMQjCfAzt0mxYc2K3fWhAOfWi/x8Z5ocYnKHU/alGcxymySHzZ3NhjUrnEHXEE7Z\nl2a2CZdbRHwQeEH9HO8HbgOuodrV+Wvg9Zm5JyJeB5wPHACuzMyrImIucDVwHLAfODMzf97JDyIN\n55R9OWN25prQZ24RcTLw5Mw8AXgF8DHgUuATmfki4CfAWRHRD1wCvJhq99BbI+JI4LXA5sx8IfA+\nqnKUpEnjjNmZbaITSm4Cfr++vxXoB04CvlIv2wC8BHgO8IPM3J6Zu4HvAicCpwDr6nW/VS+TpMnk\njNkZbELllpn7M3Nn/fBs4GvAEZm5t152D3AMsKS+P+TutuX31s91AGhFhJ//SZImRUeFEhErgDOB\nlwM/bvtS3wjfMt7lwzX9wGjzda7pGZueD5qfcVryXfffXsk7//x7DJ0a7ymPX8ylf/T8oV2Uo2ny\nNhzr70vOOu1ZFx69ePExUxmmW3buOB6qj8QOqpMJJS8HLgZenpnbImJHRMzLzEHgWODO+rak7duO\nBW5pW357PbmkLzPHctDzmP9Su6CF+TrV9IxNzwfNzzht+Q6bO5s7fnrfAxNK7vjpfQOHzZ09lgkl\nTd+GY3bVuts+0L9oya5u55gKO7fcdfjKlz5txK9PqNwiYiFwOXBKZm6pF98AvAr4IrCS6oPc7wOf\nqdffT/XZ2vnAAuDVwPXAcuDGieSQpENxxuzMNdGR22uAxcCXIwKqdzpnUBXZOcAvgIHM3B8RFwHf\nqNd5V2Zuj4hrgZdGxHeA3fX3SpI0KSZUbpl5JXDlQb70soOsex1w3bBlB4CzJvLakiSNxnNLSpKK\nY7lJkopjuUmSimO5SZKKY7lJkopjuUmSimO5SZKKY7lJkopjuUmSimO5SZKKY7lJkopjuanrlq9e\nP3/56vXnfP3mn7N89fr53c4jqfdZbuqqusw2Ald8+rrbATZacJI61dGVuKVJsApY2vZ4ab3Ma3BJ\nHdpx/68W7t29o7FvFuccdvjuvlmzJ/S9gzs3zzvkc0/oWSVJjXdg7yD75ozl4uPTb++ubfN++NUP\nfgnYNuEn+cu3j/gly03dNgCczoOjt031MkkdWvCIx23tX7RkV7dzHMzOLXcdDmxrtVpbp+L5/cxN\nXbVhzYrdwDLg3DesfBrAsnqZJE2YIzd1XV1ma4ErfveE4y02SR1z5CZJKo7lJkkqjuVWOA+QljQT\nWW4F8wBpSTOV5Va2kQ6QlqSiWW6SpOJYbmUboDooesgmPEBa0gxguRXMA6QlzVQexF04D5CWNBM5\ncpMkFcdykyQVx3KTJBXHcpMkFcdykyQVx3KTJBXHcpMkFcfj3HpAfbLjoXNCDnggtiQdmiO3hms/\ns39988z+kjQKy635PLO/JI2T5SZJKo7l1nye2V+Sxslya7j2M/vXN8/sL0mjcLZkD2g7s78kaQws\nNxXLQyikmcvdkuq65avXz1++ev05X7/550zWYQ4eQiHNbJabuqq9hD593e0weSXkIRTSDGa5qdss\nIUmTznJTqTyEQprBLDd125SUkIdQSDObsyXVVRvWrNi9fPX6ZcCqN6x82hWfvu72SSshD6GQZi7L\nTV3XVkJX/O4Jxzu6ktQxd0tKkopjuUmSimO5SZKKY7lJkopjuUmSimO5SZKKY7lJkopjuUmSitPV\ng7gj4iPAc4EWcH5m3tbNPJKkMnRt5BYRJwFPyMwTgLOBj3criySpLN3cLXkKsA4gM38EHBkRR3Qx\njySpEN0styXAvW2P7wGO6VIWSVJBmnTi5D6qz94OZbSvd5v5Otf0jE3PB83P2PR80OyMfWNd8azT\nnnXh0YsXN3LQsHPH8az78JaPdvg0I26LbpbbnVSjtyGPAn49yveM+S+1C1qYr1NNz9j0fND8jE3P\nB72RcUyuWnfbB/oXLdnV7RwHs3PLXYe/6mVPv7rVam2diufvZrldD1wKXBkRvwP8KjN3djFPz1i+\nev18YFX9cMCLcErSQ3XtM7fM/B7ww4j4LvBR4LxuZekldbFtBK6obxvrZZKkWlc/c8vMt3fz9XvU\nKmBp2+Ol9TKvOC1JtSZNKJEkTaJt9/7y2N07Nu/p1uvPe9iCe/tmzTno5JzBnZvnTeVrW269ZwA4\nnQdHb5vqZZL0EHt3bbv7iCMftbcbrz248/7Db7rmLf/jwP59h5owsn2qXt9y6zEb1qzYvXz1+mU4\noUTSKOYfsfjfH774Mfu68dqzZs9l1uy52/bv2zslsyFHY7n1oLrM/IxNkkZguakjHpYgqYm85I0m\nzMMSJDWV5aZOjHRYgiR1leUmSSqO5aZODFAdijBkEx6WIKkBLDdNWD15ZBlwbn1b5oQSSU3gbEl1\nxMMSJDWRIzdJUnEcuamRPH5OUiccualxPH5OUqcsNzWRx89J6ojlJkkqjuWmJvL4OUkdsdzUOB4/\nJ6lTzpbUpJnMGY4ePyepE47cNCmc4SipSSw3TRZnOEpqDMtNklQcy02TxRmOkhrDctOkcIajpCZx\ntqQmjTMcJTWFIzdJUnEsN0lScSw3SVJxLDdJUnEsN0lScSw3SVJxLDdJUnEsN0lScSw3SVJxLDdJ\nUnEsN0lScSw3SVJxLDdJUnEsN0lScSw3SVJxLDdJUnEsN0lScSw3SVJxLDdJUnEsN0lScSw3SVJx\nLDdJUnEsN0lScSw3SVJxLDdJUnEsN0lSceZ0O4B0KMtXr58PrKofDmxYs2J3N/NI6g2O3NRYdbFt\nBK6obxvrZZJ0SI7c1GSrgKVtj5fWy9Z2I4zUazbf+c/3DO68f183Xnvf3l1z9+3Z1ZXXBstNkor1\n41v+6svdTfDnXXtld0uqyQaATW2PN9XLJOmQ+lqt1ri+ISLmAJ8FHkc18ntbZn43Ip4OfApoAbdn\n5hvr9S8AXlUvvzQzN0bEQuBLwAJgB/DazLx/lJduAX3jCju9zNe538jYsAklPbkNG6bp+aA3MmoU\nEym3M4DnZOYbI+JJwOcy87kR8W2qovthRHwRuAZI4MvA84BFwHeAJwOXADsyc01E/BHw+My8aJSX\nbvo/OPN1rukZm54Pmp+x6fmgNzJqFBP5zO2LwLX1/XuBxRExF3hsZv6wXr4BeAlwDLAxM/cB90bE\nL4EnAacAZ7at+9UJ5pck6TeMu9wycy+wt374FqqyOxpo3614N1Wx3Qfcc5DlS9qW31MvkyRpUhyy\n3CLibOAPhy3+s8z8ZkScBzwDWA48ctg6Iw3pD7Z8PMP/8e1DnX7m61zTMzY9HzQ/Y9PzQbMzjud3\n5h1UHwWVasRtcchyy8zPUk0eeYi69E4Ffi8z90fEPcDitlUeDdxZ36Jt+bFty48BtrctG4sm7wdv\n+n76pueD5mdsej5ofsam54PeyDhWT+l2gG4Z96EAEfE44BxgZWbugQd2Vf4oIk6sVzuN6swSNwKn\nRsTciHgUVZH9E3A98Op63ZX1upIkTYqJzJZ8H3A68C9ti18GPIHqzBGzgFsy8231+m8CXkf1bugd\nmfntiOgHvkA12rsf+C+ZuX2Ul276uynzda7pGZueD5qfsen5oDcyahTjLrcuavo/OPN1rukZm54P\nmp+x6fmgNzJqFJ6hRJJUHMtNklQcy02SVBzLTZJUHMtNklQcy02SVBzLTZJUHMtNklQcy02SVBzL\nTZJUHMtNklQcy02SVBzLTZJUHMtNklQcy02SVBzLTZJUHMtNklQcy02SVBzLTZJUHMtNklQcy02S\nVBzLTZJUHMtNklQcy02SVBzLTZJUHMtNklQcy02SVBzLTZJUnL5Wq9XtDJIkTSpHbpKk4lhukqTi\nWG6SpOJYbpKk4lhukqTiWG6SpOJYbpKk4szpdoDhIuIM4N3AT+tF38zMyyLi6cCngBZwe2a+sV7/\nAuBV9fJLM3NjFzJ/BHhuneH8zLytCxmWAl8G7qgX3Q5cDnyB6k3Mr4HXZ+aeiHgdcD5wALgyM6+a\n4mxPA9YBH87MT0bEY4BrxpIrIuYCVwPHAfuBMzPz59OQ8Wrgd4D76lU+mJkbu5UxIj4IvIDq/+z7\ngdto0DY8SL4VNGv7Pax+jUcA84H3UP0facQ2HCHfq2nQNuw1TRy5tYC/zMyT69tl9fKPAm/OzBcA\nCyPiFRFxPPAa4ETglcCHI6JvOsNGxEnAEzLzBOBs4OPT+frDfLttu51P9R/kE5n5IuAnwFkR0Q9c\nArwYWAq8NSKOnKpA9X/aNcA3qP5uoXrzMtZcrwU2Z+YLgfdR/eKcjowt4KK27bmxWxkj4mTgyfW/\nsVcAHwMupSHbcIR8jdl+tVcCt2bmUuD3gY/QoG04Qr6mbcOe0sRyA3hIQUXEYcBjM/OH9aINwEuo\n/nI3Zua+zLwX+CXw5OkMCpxC9Y6fzPwRcGREHDHNGYYML/aTgK/U94e22XOAH2Tm9szcDXyX6s3B\nVBmk+o/7bxPM9cD2Bb41RVnbM7Zvw+Hb87ldyngT1S88gK1AP83ahsPzPQyYTXO2H5n5V5n5ofrh\nccC/Uv3+aMQ2HCEfNGgb9pomllsfcFJEbIyIGyLiGcDRwP1t69wNHAMsAe45yPLptAS4t+3xPV3I\nANW7vCdNkthUAAADMElEQVRFxPqI+E5EvBToz8y9w3JN6zbLzP2ZOThs8XhyPbB9M/MA0IqISd2d\nPkJGgDdFxLci4i8iYnG3Mtb5dtYPzwa+BhzRlG14kHxfp9o11ojt1y4ibqbaVf8WGvbv8CD5oIHb\nsFd0tdwi4uyI+F77DXg48M7MXAb8KfB5HtxVNGSkXY99B1l3unUrw4+Bd2XmCmAV8Fmqd8/tuQ5m\nWnfjjuP1u533GuDCzHwx8L+BdzG+f4eTLiJWAGcCb+owx1TmOws4jwZuP4B61+kK4IsdZpmSjG35\nvkD1u69x27BXdLXcMvOzmfn8YbdPDE0KycxbgN+i+kB1cdu3Phq4s74taVt+bL1sOg3P8CiqD6en\nVWbemZlfru//DLiLahfpvHqVoW0zPO+jgV9NZ1Zgxxhy/cby+kPzvszcN9UBM/PGzLy9fvgV4Knd\nzBgRLwcuBpZl5jYatg3rfG8HXlHvMmva9ntmPZGJzPwHqokv2yNi/khZpjPjCPnuaNI27DWN2y0Z\nERdExB/W958E3J2Ze4AfRcTQfuTTgI3AjcCpETE3Ih4FHJuZ/zTNka+nmq1JRPwO8Ku2XTTTJiJe\nGxHvrO8/gupNweeGsgErqbbZ94FnR8TC+rPBE4DvTEPEPh58N3nDGHKdSPVZzvVUs8YAllP9nU9l\nRgAi4q8j4qn1w5OAf+xWxohYSDXz9dTM3FIvbsw2bMv3yqF8Tdp+tRcCf1JneyTV55Y3UG076P6/\nw+H5jgDWNmwb9pTGXfImIo7lwenrs4C3ZuZtEfFEYG297JbMfFu9/puA11EN19+Rmd/uQub3Ay+i\n+pzhvMz8xy5kOAL4EnAU1e7IS6l2ZXyeamrxL6imB++PiJXABVTb7OOZ+RdTmOt5wJ9TTXHeRzUK\nfwXVtOVRc0XELOAzwH8EdgNnZOakjjQPknEz8E6qkdIOYHud8d5uZIyIP67z/N96UQs4o37Nrm/D\ng+SD6o3Vm2nA9qszzqfaVf8Y4HCqXXw/ZIz/P6ZhGx4s307gQzRkG/aaxpWbJEmdatxuSUmSOmW5\nSZKKY7lJkopjuUmSimO5SZKKY7lJkopjuUmSivP/AfaQvv2EeSMfAAAAAElFTkSuQmCC\n",
      "text/plain": [
       "<matplotlib.figure.Figure at 0x7f392490d390>"
      ]
     },
     "metadata": {},
     "output_type": "display_data"
    }
   ],
   "source": [
    "index = list(df[df['roi']=='vta']['cope']>0)\n",
    "vta = df[df['roi']=='vta'][index]['cope'].values\n",
    "mofc = df[df['roi']=='mOFC'][index]['cope'].values\n",
    "sns.jointplot(vta,mofc)"
   ]
  },
  {
   "cell_type": "code",
   "execution_count": 319,
   "metadata": {
    "collapsed": false
   },
   "outputs": [
    {
     "name": "stderr",
     "output_type": "stream",
     "text": [
      "/usr/local/lib/python2.7/dist-packages/IPython/kernel/__main__.py:3: SettingWithCopyWarning: \n",
      "A value is trying to be set on a copy of a slice from a DataFrame.\n",
      "Try using .loc[row_indexer,col_indexer] = value instead\n",
      "\n",
      "See the the caveats in the documentation: http://pandas.pydata.org/pandas-docs/stable/indexing.html#indexing-view-versus-copy\n",
      "  app.launch_new_instance()\n"
     ]
    },
    {
     "data": {
      "text/plain": [
       "<seaborn.axisgrid.JointGrid at 0x7f39219fcf90>"
      ]
     },
     "execution_count": 319,
     "metadata": {},
     "output_type": "execute_result"
    },
    {
     "data": {
      "image/png": "iVBORw0KGgoAAAANSUhEUgAAAa4AAAGpCAYAAADV8NIiAAAABHNCSVQICAgIfAhkiAAAAAlwSFlz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\n/wevv/USDoeUSAAAAABJRU5ErkJggg==\n",
      "text/plain": [
       "<matplotlib.figure.Figure at 0x7f3922365810>"
      ]
     },
     "metadata": {},
     "output_type": "display_data"
    }
   ],
   "source": [
    "weights = pd.read_csv('/data/home/iballard/fd/analysis/omegas_powell.csv')\n",
    "vta = df[df['roi'] == 'vta']\n",
    "vta['weights'] = weights['weights'].values\n",
    "bad_subs = ['fd_148','fd_144','fd_119','fd_122','fd_135']\n",
    "# print vta\n",
    "vta_values = np.array([x for n,x in enumerate(vta['cope'].values) if sub_list[n] not in bad_subs])\n",
    "weights = np.array([x for n,x in enumerate(vta['weights'].values) if sub_list[n] not in bad_subs])\n",
    "sns.jointplot(vta_values,weights)\n",
    "# sns.jointplot('cope','weights',data = vta)"
   ]
  },
  {
   "cell_type": "code",
   "execution_count": 338,
   "metadata": {
    "collapsed": false
   },
   "outputs": [
    {
     "name": "stdout",
     "output_type": "stream",
     "text": [
      "set(['acc', 'vSTR', 'dlpfc', 'Ains', 'V1', 'pIns'])\n"
     ]
    },
    {
     "name": "stderr",
     "output_type": "stream",
     "text": [
      "/usr/local/lib/python2.7/dist-packages/IPython/kernel/__main__.py:4: SettingWithCopyWarning: \n",
      "A value is trying to be set on a copy of a slice from a DataFrame.\n",
      "Try using .loc[row_indexer,col_indexer] = value instead\n",
      "\n",
      "See the the caveats in the documentation: http://pandas.pydata.org/pandas-docs/stable/indexing.html#indexing-view-versus-copy\n"
     ]
    },
    {
     "data": {
      "text/plain": [
       "<seaborn.axisgrid.JointGrid at 0x7f3920b62350>"
      ]
     },
     "execution_count": 338,
     "metadata": {},
     "output_type": "execute_result"
    },
    {
     "data": {
      "image/png": "iVBORw0KGgoAAAANSUhEUgAAAbcAAAGpCAYAAAAOS3gAAAAABHNCSVQICAgIfAhkiAAAAAlwSFlz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\nN0lScQw3SVJxDDdJUnH+P/SDNdW3JWSDAAAAAElFTkSuQmCC\n",
      "text/plain": [
       "<matplotlib.figure.Figure at 0x7f3920d44f50>"
      ]
     },
     "metadata": {},
     "output_type": "display_data"
    }
   ],
   "source": [
    "print set(cope_df['roi'].values)\n",
    "vta = df[df['roi'] == 'vta']\n",
    "roi = 'Ains'\n",
    "vta[roi] = cope_df[(cope_df['exp']=='ser') & (cope_df['roi'] == roi)]['cope'].values\n",
    "bad_subs = ['fd_148','fd_144','fd_119','fd_135']\n",
    "# print vta\n",
    "vta_values = np.array([x for n,x in enumerate(vta['cope'].values) if sub_list[n] not in bad_subs])\n",
    "roi_values = np.array([x for n,x in enumerate(vta[roi].values) if sub_list[n] not in bad_subs])\n",
    "sns.jointplot(vta_values,roi_values)"
   ]
  },
  {
   "cell_type": "code",
   "execution_count": 6,
   "metadata": {
    "collapsed": false
   },
   "outputs": [
    {
     "data": {
      "text/plain": [
       "(313, 3)"
      ]
     },
     "execution_count": 6,
     "metadata": {},
     "output_type": "execute_result"
    }
   ],
   "source": [
    "df = pd.read_csv('/home/iballard/fd/data/fd_104/design/ser_PE.csv')\n",
    "df[df['run']==3].shape"
   ]
  },
  {
   "cell_type": "code",
   "execution_count": null,
   "metadata": {
    "collapsed": true
   },
   "outputs": [],
   "source": []
  }
 ],
 "metadata": {
  "kernelspec": {
   "display_name": "Python 2",
   "language": "python",
   "name": "python2"
  },
  "language_info": {
   "codemirror_mode": {
    "name": "ipython",
    "version": 2
   },
   "file_extension": ".py",
   "mimetype": "text/x-python",
   "name": "python",
   "nbconvert_exporter": "python",
   "pygments_lexer": "ipython2",
<<<<<<< HEAD
   "version": "2.7.11"
=======
   "version": "2.7.6"
>>>>>>> 38d7e1606f641b3d1e7298d6eca48723532b6159
  }
 },
 "nbformat": 4,
 "nbformat_minor": 0
}
