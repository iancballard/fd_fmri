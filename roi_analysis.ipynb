{
 "cells": [
  {
   "cell_type": "code",
   "execution_count": 1,
   "metadata": {
    "collapsed": true
   },
   "outputs": [],
   "source": [
    "#os and i/o\n",
    "import os\n",
    "import numpy as np\n",
    "import glob\n",
    "from os.path import abspath\n",
    "import csv\n",
    "\n",
    "#scientific computing\n",
    "import matplotlib\n",
    "import matplotlib.pyplot as plt\n",
    "import pandas as pd\n",
    "from scipy import stats, optimize\n",
    "from pandas import DataFrame, Series\n",
    "from moss import glm\n",
    "import seaborn as sns\n",
    "import random as rd\n",
    "from statsmodels.formula.api import ols\n",
    "from statsmodels.stats.anova import anova_lm\n",
    "import scipy.stats\n",
    "\n",
    "#ipython add-ons\n",
    "from IPython.parallel import Client\n",
    "from IPython.display import Image\n",
    "import multiprocessing\n",
    "\n",
    "##nipype\n",
    "import nibabel as nib\n",
    "from nipype.pipeline.engine import Node, MapNode, Workflow\n",
    "from nipype.interfaces.io import DataGrabber, DataFinder, DataSink\n",
    "from nipype.interfaces import fsl\n",
    "from nipype.interfaces.fsl import ImageMeants\n",
    "from nipype.interfaces.fsl import ImageStats\n",
    "\n",
    "%matplotlib inline"
   ]
  },
  {
   "cell_type": "code",
   "execution_count": 13,
   "metadata": {
    "collapsed": true
   },
   "outputs": [],
   "source": [
    "#preliminary housekeeping\n",
    "home_dir = '/data/home/iballard/fd/'\n",
    "subj_file = home_dir + 'subjects.txt'\n",
    "sub_list = list(np.loadtxt(subj_file,'string'))\n",
    "os.chdir(home_dir)\n",
    "runs = map(str,range(1,4))\n",
    "exp_list = ['ser','sim']"
   ]
  },
  {
   "cell_type": "code",
   "execution_count": 4,
   "metadata": {
    "collapsed": true
   },
   "outputs": [],
   "source": [
    "contrast = 'state'\n",
    "roi_map = {'1':'Ains','2':'vSTR','3':'pIns','4':'V1','5':'dlpfc','6':'acc'}"
   ]
  },
  {
   "cell_type": "markdown",
   "metadata": {},
   "source": [
    "#Preliminary data processing and helper functions"
   ]
  },
  {
   "cell_type": "code",
   "execution_count": 11,
   "metadata": {
    "collapsed": false
   },
   "outputs": [],
   "source": [
    "#make image for each cluster\n",
    "contrast_dir = home_dir + '/analysis/ser_4mm-PEfb-diff/group/mni/' + contrast + '/'\n",
    "stat_image = contrast_dir + 'zstat1_threshold_seg.nii.gz'\n",
    "stat_dir = contrast_dir + 'seg/'\n",
    "if not os.path.exists(out_dir):\n",
    "    os.mkdir(out_dir)\n",
    "    \n",
    "for index in roi_map.keys():\n",
    "    \n",
    "    out_f = stat_dir + roi_map[index] + '.nii.gz'\n",
    "    cmd = ['fslmaths',stat_image,'-thr',index,'-uthr',index,'-bin',out_f]\n",
    "    os.system(' '.join(cmd))"
   ]
  },
  {
   "cell_type": "code",
   "execution_count": 16,
   "metadata": {
    "collapsed": false
   },
   "outputs": [],
   "source": [
    "#warp group statistical image back into subject space\n",
    "for sub in sub_list: \n",
    "    #set paths\n",
    "    mask_path = home_dir + '/data/' + sub\n",
    "    out_dir = mask_path + '/masks/' + contrast + '/'\n",
    "    if not os.path.exists(out_dir):\n",
    "        os.mkdir(out_dir)\n",
    "\n",
    "    #copy warpfile to make ANTs happy\n",
    "    warp = mask_path + '/normalization/inverse_warpfield.nii.gz'\n",
    "    warpfield = mask_path + '/normalization/InverseWarp.nii.gz'\n",
    "    cmd = ['ln','-s',warp, warpfield]\n",
    "    os.system(' '.join(cmd))\n",
    "\n",
    "    for index in roi_map.keys():\n",
    "        stat_image =  stat_dir + roi_map[index] + '.nii.gz'\n",
    "\n",
    "        #warp to subject space\n",
    "        out_warp = out_dir + roi_map[index] + '_anat_space.nii.gz'\n",
    "        ref_file = fsl.Info.standard_image(\"avg152T1_brain.nii.gz\")\n",
    "        affine = home_dir + '/data/' + sub + '/normalization/affine.txt'\n",
    "        anat = home_dir + '/data/' + sub + '/anat/T1_native.nii.gz'\n",
    "        if not os.path.exists(out_warp):\n",
    "            cmd_str = ['WarpImageMultiTransform','3',stat_image,out_warp,'-i',affine,warpfield,\n",
    "                       '-R',anat]\n",
    "            cmd_str = ' '.join(cmd_str)\n",
    "            os.system(cmd_str)\n",
    "\n",
    "        #register to functional space\n",
    "        for exp in exp_list:\n",
    "            sub_path = home_dir + 'analysis/' + exp + '_4mm/' + sub\n",
    "\n",
    "            #register to func\n",
    "            transform = sub_path + '/preproc/run_1/func2anat_tkreg.dat'\n",
    "            mean_func = sub_path + '/preproc/run_1/mean_func.nii.gz'\n",
    "            out_rigid = out_dir + exp + '_' + roi_map[index] + '_func_space.nii.gz'\n",
    "            if not os.path.exists(out_rigid):\n",
    "                cmd_line = ['mri_vol2vol','--mov',mean_func,'--targ',out_warp,'--reg',transform,'--o',out_rigid,\n",
    "                            '--no-save-reg','--inv']\n",
    "                os.system(' '.join(cmd_line))\n",
    "\n",
    "            #binarize\n",
    "            out_mask = out_dir + exp + '_' + roi_map[index] + '_mask.nii.gz'\n",
    "            if not os.path.exists(out_mask):\n",
    "                cmd = ['fslmaths',out_rigid,'-thr','.5','-bin',out_mask]\n",
    "                os.system(' '.join(cmd))\n"
   ]
  },
  {
   "cell_type": "code",
   "execution_count": 23,
   "metadata": {
    "collapsed": false
   },
   "outputs": [],
   "source": [
    "#extract tsnr of ROIs\n",
    "def extract_cope(in_tuple):\n",
    "    sub,exp,mask,contrast = in_tuple\n",
    "    cope = np.nan\n",
    "\n",
    "    cope_f = home_dir + 'analysis/' + exp + '_4mm-PEfb-diff/' + sub + \\\n",
    "            '/ffx/epi/smoothed/' + contrast + '/cope1.nii.gz'\n",
    "\n",
    "    if os.path.exists(cope_f):\n",
    "        \n",
    "        mask_f = home_dir + 'data/' + sub + '/masks/' + contrast + '/' \\\n",
    "            + exp + '_' + mask + '_mask.nii.gz'\n",
    "        stats = ImageStats(in_file = cope_f, op_string = '-k %s -M', mask_file = mask_f)\n",
    "        out = stats.run()\n",
    "        cope = out.outputs.out_stat\n",
    "    \n",
    "    return (sub,exp,mask,cope)"
   ]
  },
  {
   "cell_type": "markdown",
   "metadata": {},
   "source": [
    "#First examine SIM/SER comparison for each ROI and the state contrast"
   ]
  },
  {
   "cell_type": "code",
   "execution_count": 24,
   "metadata": {
    "collapsed": false
   },
   "outputs": [],
   "source": [
    "contrast = 'state'\n",
    "in_tuples = []\n",
    "for exp in ['sim','ser']:\n",
    "    for sub in sub_list:\n",
    "        for index in roi_map.keys():\n",
    "            in_tuples.append((sub,exp,roi_map[index],contrast))        "
   ]
  },
  {
   "cell_type": "code",
   "execution_count": 27,
   "metadata": {
    "collapsed": false,
    "scrolled": true
   },
   "outputs": [],
   "source": [
    "# pool = multiprocessing.Pool(processes = 40)\n",
    "# output = pool.map(extract_cope,in_tuples)\n",
    "# pool.terminate()\n",
    "# pool.join()"
   ]
  },
  {
   "cell_type": "code",
   "execution_count": 31,
   "metadata": {
    "collapsed": false
   },
   "outputs": [],
   "source": [
    "cope_df = {'roi':[],'cope':[],'sub':[],'exp':[]}\n",
    "for o in output:\n",
    "    sub,exp,mask,cope = o\n",
    "\n",
    "    out_f = 'cope_runs.csv'\n",
    "\n",
    "    cope_df['roi'].append(mask)\n",
    "    cope_df['sub'].append(sub)\n",
    "    cope_df['exp'].append(exp)\n",
    "    cope_df['cope'].append(cope)\n",
    "    \n",
    "cope_df = pd.DataFrame(cope_df)\n",
    "cope_df.to_csv(home_dir + '/' + out_f)"
   ]
  },
  {
   "cell_type": "code",
   "execution_count": 32,
   "metadata": {
    "collapsed": false,
    "scrolled": true
   },
   "outputs": [
    {
     "data": {
      "text/plain": [
       "<matplotlib.axes._subplots.AxesSubplot at 0x7f814f411950>"
      ]
     },
     "execution_count": 32,
     "metadata": {},
     "output_type": "execute_result"
    },
    {
     "data": {
      "image/png": "[encoded data removed]",
      "text/plain": [
       "<matplotlib.figure.Figure at 0x7f814f7823d0>"
      ]
     },
     "metadata": {},
     "output_type": "display_data"
    }
   ],
   "source": [
    "sns.violinplot(x='cope',y='roi',hue='exp',data=cope_df,split=True,inner = 'stick')"
   ]
  },
  {
   "cell_type": "code",
   "execution_count": 42,
   "metadata": {
    "collapsed": false,
    "scrolled": true
   },
   "outputs": [
    {
     "name": "stdout",
     "output_type": "stream",
     "text": [
      "Ains 4.71404938386 0.000292012903228\n",
      "pIns 3.19931993424 0.0190226571352\n",
      "vSTR 4.29922826761 0.000948043772872\n",
      "dlpfc 4.76225076309 0.000254463902233\n",
      "V1 3.5143576224 0.00827344773713\n",
      "acc 3.66741106522 0.00547163837994\n"
     ]
    }
   ],
   "source": [
    "for index in roi_map.keys():\n",
    "    roi = roi_map[index]\n",
    "    roi_df = cope_df[cope_df['roi']==roi]\n",
    "    t,p = scipy.stats.ttest_rel(roi_df.ix[roi_df['exp']=='ser','cope'].values,\n",
    "                          roi_df.ix[roi_df['exp']=='sim','cope'].values)\n",
    "    print roi,str(t),str(p*6)"
   ]
  },
  {
   "cell_type": "markdown",
   "metadata": {},
   "source": [
    "#Next look at the PE response in each of these ROIs"
   ]
  },
  {
   "cell_type": "code",
   "execution_count": null,
   "metadata": {
    "collapsed": true
   },
   "outputs": [],
   "source": [
    "contrast = 'PE'\n",
    "in_tuples = []\n",
    "for exp in ['sim','ser']:\n",
    "    for sub in sub_list:\n",
    "        for index in roi_map.keys():\n",
    "            in_tuples.append((sub,exp,roi_map[index],contrast))        "
   ]
  },
  {
   "cell_type": "code",
   "execution_count": null,
   "metadata": {
    "collapsed": true
   },
   "outputs": [],
   "source": [
    "# pool = multiprocessing.Pool(processes = 40)\n",
    "# output = pool.map(extract_cope,in_tuples)\n",
    "# pool.terminate()\n",
    "# pool.join()"
   ]
  }
 ],
 "metadata": {
  "kernelspec": {
   "display_name": "Python 2",
   "language": "python",
   "name": "python2"
  },
  "language_info": {
   "codemirror_mode": {
    "name": "ipython",
    "version": 2
   },
   "file_extension": ".py",
   "mimetype": "text/x-python",
   "name": "python",
   "nbconvert_exporter": "python",
   "pygments_lexer": "ipython2",
   "version": "2.7.6"
  }
 },
 "nbformat": 4,
 "nbformat_minor": 0
}
