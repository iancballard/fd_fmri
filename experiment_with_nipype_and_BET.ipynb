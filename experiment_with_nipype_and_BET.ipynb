{
 "cells": [
  {
   "cell_type": "code",
   "execution_count": 1,
   "metadata": {
    "collapsed": false
   },
   "outputs": [],
   "source": [
    "import os\n",
    "import numpy as np\n",
    "import glob\n",
    "import csv\n",
    "import matplotlib\n",
    "import matplotlib.pyplot as plt\n",
    "import pandas as pd\n",
    "from scipy import stats, optimize\n",
    "from pandas import DataFrame, Series\n",
    "import seaborn as sns\n",
    "import random as rd\n",
    "from statsmodels.formula.api import ols\n",
    "from statsmodels.stats.anova import anova_lm\n",
    "import scipy.stats\n",
    "import nibabel as nib\n",
    "from IPython.parallel import Client\n",
    "%matplotlib inline"
   ]
  },
  {
   "cell_type": "markdown",
   "metadata": {},
   "source": [
    "messing around with nipype with BET for practice"
   ]
  },
  {
   "cell_type": "code",
   "execution_count": 2,
   "metadata": {
    "collapsed": false
   },
   "outputs": [],
   "source": [
    "#preliminary housekeeping\n",
    "home_dir = '/data/home/iballard/fd/'\n",
    "subj_file = home_dir + 'scripts/sub_cb_mappings.txt'\n",
    "\n",
    "#get subject list\n",
    "sub_list = []\n",
    "sub_path = []\n",
    "sub_out = []\n",
    "sub_tuple = []\n",
    "with open(subj_file) as f:\n",
    "    for line in f:\n",
    "        (key,val) = line.strip().split(' ') \n",
    "        sub_list.append('fd_' + key)\n",
    "        sub_path.append(home_dir + '/data/' + 'fd_' + key + '/anat/T1w_Whole_brain_1mm.nii.gz')\n",
    "        sub_out.append(home_dir + '/data/' + 'fd_' + key + '/anat/brain.nii.gz')\n",
    "        sub_tuple.append((home_dir + '/data/' + 'fd_' + key + '/anat/T1w_Whole_brain_1mm.nii.gz',home_dir + '/data/' + 'fd_' + key + '/anat/brain.nii.gz'))\n"
   ]
  },
  {
   "cell_type": "code",
   "execution_count": 3,
   "metadata": {
    "collapsed": true
   },
   "outputs": [],
   "source": [
    "def plot_slice(fname, z_idx=5):\n",
    "\n",
    "    # Load the image and collect the data\n",
    "    # and orientation information\n",
    "    img = nib.load(fname)\n",
    "    data = img.get_data()\n",
    "    aff = img.get_affine()\n",
    "\n",
    "    # Find the center of the brain matrix\n",
    "    ctr = np.dot(np.linalg.inv(aff), [0, 0, 0, 1])[:3]\n",
    "\n",
    "    # Plot the data\n",
    "    vmin, vmax = (0, 1) if data.dtype == np.int16 else (0, 1)\n",
    "    plt.imshow(np.rot90(data[:, :, ctr[2] + z_idx]), \n",
    "               cmap=\"gray\", vmin=vmin, vmax=vmax)\n",
    "    plt.gca().set_axis_off()"
   ]
  },
  {
   "cell_type": "code",
   "execution_count": 3,
   "metadata": {
    "collapsed": false
   },
   "outputs": [
    {
     "ename": "TimeoutError",
     "evalue": "Hub connection request timed out",
     "output_type": "error",
     "traceback": [
      "\u001b[1;31m---------------------------------------------------------------------------\u001b[0m",
      "\u001b[1;31mTimeoutError\u001b[0m                              Traceback (most recent call last)",
      "\u001b[1;32m<ipython-input-3-11509db62516>\u001b[0m in \u001b[0;36m<module>\u001b[1;34m()\u001b[0m\n\u001b[1;32m----> 1\u001b[1;33m \u001b[0mrc\u001b[0m \u001b[1;33m=\u001b[0m \u001b[0mClient\u001b[0m\u001b[1;33m(\u001b[0m\u001b[1;33m)\u001b[0m\u001b[1;33m\u001b[0m\u001b[0m\n\u001b[0m\u001b[0;32m      2\u001b[0m \u001b[0mrc\u001b[0m\u001b[1;33m.\u001b[0m\u001b[0mids\u001b[0m\u001b[1;33m\u001b[0m\u001b[0m\n",
      "\u001b[1;32m/usr/local/lib/python2.7/dist-packages/IPython/parallel/client/client.pyc\u001b[0m in \u001b[0;36m__init__\u001b[1;34m(self, url_file, profile, profile_dir, ipython_dir, context, debug, sshserver, sshkey, password, paramiko, timeout, cluster_id, **extra_args)\u001b[0m\n\u001b[0;32m    502\u001b[0m \u001b[1;33m\u001b[0m\u001b[0m\n\u001b[0;32m    503\u001b[0m         \u001b[1;32mtry\u001b[0m\u001b[1;33m:\u001b[0m\u001b[1;33m\u001b[0m\u001b[0m\n\u001b[1;32m--> 504\u001b[1;33m             \u001b[0mself\u001b[0m\u001b[1;33m.\u001b[0m\u001b[0m_connect\u001b[0m\u001b[1;33m(\u001b[0m\u001b[0msshserver\u001b[0m\u001b[1;33m,\u001b[0m \u001b[0mssh_kwargs\u001b[0m\u001b[1;33m,\u001b[0m \u001b[0mtimeout\u001b[0m\u001b[1;33m)\u001b[0m\u001b[1;33m\u001b[0m\u001b[0m\n\u001b[0m\u001b[0;32m    505\u001b[0m         \u001b[1;32mexcept\u001b[0m\u001b[1;33m:\u001b[0m\u001b[1;33m\u001b[0m\u001b[0m\n\u001b[0;32m    506\u001b[0m             \u001b[0mself\u001b[0m\u001b[1;33m.\u001b[0m\u001b[0mclose\u001b[0m\u001b[1;33m(\u001b[0m\u001b[0mlinger\u001b[0m\u001b[1;33m=\u001b[0m\u001b[1;36m0\u001b[0m\u001b[1;33m)\u001b[0m\u001b[1;33m\u001b[0m\u001b[0m\n",
      "\u001b[1;32m/usr/local/lib/python2.7/dist-packages/IPython/parallel/client/client.pyc\u001b[0m in \u001b[0;36m_connect\u001b[1;34m(self, sshserver, ssh_kwargs, timeout)\u001b[0m\n\u001b[0;32m    622\u001b[0m         \u001b[0mevts\u001b[0m \u001b[1;33m=\u001b[0m \u001b[0mpoller\u001b[0m\u001b[1;33m.\u001b[0m\u001b[0mpoll\u001b[0m\u001b[1;33m(\u001b[0m\u001b[0mtimeout\u001b[0m\u001b[1;33m*\u001b[0m\u001b[1;36m1000\u001b[0m\u001b[1;33m)\u001b[0m\u001b[1;33m\u001b[0m\u001b[0m\n\u001b[0;32m    623\u001b[0m         \u001b[1;32mif\u001b[0m \u001b[1;32mnot\u001b[0m \u001b[0mevts\u001b[0m\u001b[1;33m:\u001b[0m\u001b[1;33m\u001b[0m\u001b[0m\n\u001b[1;32m--> 624\u001b[1;33m             \u001b[1;32mraise\u001b[0m \u001b[0merror\u001b[0m\u001b[1;33m.\u001b[0m\u001b[0mTimeoutError\u001b[0m\u001b[1;33m(\u001b[0m\u001b[1;34m\"Hub connection request timed out\"\u001b[0m\u001b[1;33m)\u001b[0m\u001b[1;33m\u001b[0m\u001b[0m\n\u001b[0m\u001b[0;32m    625\u001b[0m         \u001b[0midents\u001b[0m\u001b[1;33m,\u001b[0m\u001b[0mmsg\u001b[0m \u001b[1;33m=\u001b[0m \u001b[0mself\u001b[0m\u001b[1;33m.\u001b[0m\u001b[0msession\u001b[0m\u001b[1;33m.\u001b[0m\u001b[0mrecv\u001b[0m\u001b[1;33m(\u001b[0m\u001b[0mself\u001b[0m\u001b[1;33m.\u001b[0m\u001b[0m_query_socket\u001b[0m\u001b[1;33m,\u001b[0m\u001b[0mmode\u001b[0m\u001b[1;33m=\u001b[0m\u001b[1;36m0\u001b[0m\u001b[1;33m)\u001b[0m\u001b[1;33m\u001b[0m\u001b[0m\n\u001b[0;32m    626\u001b[0m         \u001b[1;32mif\u001b[0m \u001b[0mself\u001b[0m\u001b[1;33m.\u001b[0m\u001b[0mdebug\u001b[0m\u001b[1;33m:\u001b[0m\u001b[1;33m\u001b[0m\u001b[0m\n",
      "\u001b[1;31mTimeoutError\u001b[0m: Hub connection request timed out"
     ]
    }
   ],
   "source": [
    "rc = Client()\n",
    "rc.ids"
   ]
  },
  {
   "cell_type": "code",
   "execution_count": 5,
   "metadata": {
    "collapsed": false
   },
   "outputs": [],
   "source": [
    "for sub in sub_list:\n",
    "    anat_file = home_dir + '/data/' + sub + '/anat/T1w_Whole_brain_1mm.nii.gz'\n",
    "    "
   ]
  },
  {
   "cell_type": "code",
   "execution_count": 8,
   "metadata": {
    "collapsed": false
   },
   "outputs": [
    {
     "name": "stderr",
     "output_type": "stream",
     "text": [
      "INFO:workflow:Executing node skullstrip in dir: /tmp/tmp5odU0u/skullstrip\n",
      "INFO:workflow:Running: bet /data/home/iballard/fd//data/fd_107/anat/T1w_Whole_brain_1mm.nii.gz /data/home/iballard/fd//data/fd_107/anat/brain.nii.gz\n"
     ]
    },
    {
     "data": {
      "text/plain": [
       "<nipype.interfaces.base.InterfaceResult at 0x7fb7d45b96d0>"
      ]
     },
     "execution_count": 8,
     "metadata": {},
     "output_type": "execute_result"
    }
   ],
   "source": [
    "from nipype import Node, Workflow\n",
    "from os.path import abspath\n",
    "from nipype.interfaces import fsl\n",
    "from nipype.interfaces.fsl import BET\n",
    "from nipype import IdentityInterface\n",
    "\n",
    "in_file = home_dir + '/data/' + sub_list[5] + '/anat/T1w_Whole_brain_1mm.nii.gz'\n",
    "out_file = home_dir + '/data/' + sub_list[5] + '/anat/brain.nii.gz'\n",
    "skullstrip = Node(fsl.BET(in_file=in_file,out_file = out_file, mask=False), name=\"skullstrip\")\n",
    "# skullstrip = BET(in_file=in_file, out_file = out_file ,mask=False)\n",
    "\n",
    "skullstrip.run()"
   ]
  },
  {
   "cell_type": "code",
   "execution_count": 43,
   "metadata": {
    "collapsed": false
   },
   "outputs": [
    {
     "name": "stdout",
     "output_type": "stream",
     "text": [
      "['brain.nii.gz', 'T1w_Whole_brain_1mm.nii.gz']\n"
     ]
    }
   ],
   "source": [
    "print os.listdir(home_dir + '/data/' + sub_list[5] + '/anat/')"
   ]
  },
  {
   "cell_type": "code",
   "execution_count": 15,
   "metadata": {
    "collapsed": false
   },
   "outputs": [],
   "source": [
    "from nipype import Node, Workflow\n",
    "from os.path import abspath\n",
    "from nipype.interfaces import fsl\n",
    "from nipype.interfaces.fsl import BET\n",
    "from nipype import IdentityInterface\n",
    "\n",
    "wf = Workflow(name = 'groupstrip')\n",
    "wf.basedir = '.'\n",
    "skullstrip = Node(fsl.BET(mask=False), name=\"skullstrip\")\n",
    "inputs = Node(IdentityInterface(fields = ['mri_file','mri_out_file']), name = 'inputs')\n",
    "inputs.iterables = ('mri_file',sub_path)\n",
    "inputs.iterables = ('mri_out_file',sub_out)\n",
    "#inputs.iterables(['mri_file','mri_out_file'],sub_tuples)\n",
    "wf.connect(inputs,'mri_file',skullstrip,'in_file')\n",
    "wf.connect(inputs,'mri_out_file',skullstrip,'out_file')\n",
    "\n",
    "#wf.connect(inputs,'mri_out_file',skullstrip,'out_file')\n"
   ]
  },
  {
   "cell_type": "code",
   "execution_count": 48,
   "metadata": {
    "collapsed": false
   },
   "outputs": [
    {
     "name": "stderr",
     "output_type": "stream",
     "text": [
      "INFO:workflow:Converting dotfile: /home/iballard/fd/scripts/workflow_graph.dot to png format\n"
     ]
    },
    {
     "data": {
      "image/png": "[encoded data removed]",
      "text/plain": [
       "<IPython.core.display.Image object>"
      ]
     },
     "execution_count": 48,
     "metadata": {},
     "output_type": "execute_result"
    }
   ],
   "source": [
    "wf.write_graph('workflow_graph.dot')\n",
    "from IPython.display import Image\n",
    "Image(filename = 'workflow_graph.dot.png' )"
   ]
  },
  {
   "cell_type": "code",
   "execution_count": 47,
   "metadata": {
    "collapsed": false
   },
   "outputs": [
    {
     "name": "stdout",
     "output_type": "stream",
     "text": [
      "{'T1': <undefined>}\n",
      "['fd_101', 'fd_102', 'fd_104', 'fd_105', 'fd_106', 'fd_107', 'fd_108', 'fd_109', 'fd_110', 'fd_112', 'fd_113', 'fd_114', 'fd_115', 'fd_117', 'fd_118']\n"
     ]
    }
   ],
   "source": [
    "from nipype import SelectFiles\n",
    "templates = dict(T1=\"/home/iballard/fd/data/{subject_id}/anat/T1w_Whole_brain_1mm.nii.gz\")\n",
    "sf = SelectFiles(templates)\n",
    "sf.base_dir = '.'\n",
    "dg = Node(SelectFiles(templates), \"selectfiles\")\n",
    "dg.inputs.subject_id = 'fd_101' #sub_list\n",
    "print dg.outputs.get()\n",
    "skullstrip = Node(fsl.BET(mask=False), name=\"skullstrip\")\n",
    "\n",
    "print sub_list\n",
    "\n",
    "wf = Workflow(name = 'groupstrip')\n",
    "wf.basedir = '.'\n",
    "wf.connect(dg,'T1',skullstrip,'in_file')\n",
    "\n",
    "import nipype.interfaces.io as nio\n",
    "\n",
    "datasink = Node(nio.DataSink(), name='sinker')\n",
    "datasink.inputs.base_directory = '/home/iballard/fd/data/'\n",
    "wf.connect(skullstrip, 'out_file', datasink, 'container')\n"
   ]
  },
  {
   "cell_type": "code",
   "execution_count": 40,
   "metadata": {
    "collapsed": false,
    "scrolled": true
   },
   "outputs": [
    {
     "name": "stderr",
     "output_type": "stream",
     "text": [
      "INFO:workflow:Executing node datasource in dir: /tmp/tmpl6A47q/datasource\n",
      "INFO:workflow:Converting dotfile: /home/iballard/workflow_graph.dot to png format\n"
     ]
    },
    {
     "name": "stdout",
     "output_type": "stream",
     "text": [
      "\n",
      "anat = /home/iballard/fd/data/fd_101/anat/T1w_Whole_brain_1mm.nii.gz\n",
      "func = ['/home/iballard/fd/data/fd_101/func/loc/run_2.nii.gz', '/home/iballard/fd/data/fd_101/func/ser/run_2.nii.gz', '/home/iballard/fd/data/fd_101/func/sim/run_2.nii.gz']\n",
      "\n"
     ]
    },
    {
     "data": {
      "image/png": "[encoded data removed]",
      "text/plain": [
       "<IPython.core.display.Image object>"
      ]
     },
     "execution_count": 40,
     "metadata": {},
     "output_type": "execute_result"
    }
   ],
   "source": [
    "from nipype.pipeline.engine import Node, MapNode, Workflow\n",
    "from nipype.interfaces.io import DataGrabber, DataFinder, DataSink\n",
    "from nipype.interfaces import fsl\n",
    "from nipype.interfaces.fsl import BET\n",
    "from os.path import abspath\n",
    "from IPython.display import Image\n",
    "\n",
    "os.chdir('/home/iballard/')\n",
    "skullstrip = Node(fsl.BET(mask=False), name=\"skullstrip\")\n",
    "\n",
    "##set up data grabber\n",
    "ds = Node(DataGrabber(infields=['subject_id','task_id','run_id'],outfields =['func','anat']),\n",
    "         name = 'datasource')\n",
    "ds.inputs.base_directory = abspath('fd/data/')\n",
    "ds.inputs.template = '*'\n",
    "ds.inputs.template_args = {'func': [['subject_id','task_id','run_id']], 'anat':[['subject_id']]}\n",
    "ds.inputs.field_template = {'func': '%s/func/%s/run_%s.nii.gz' ,\n",
    "                      'anat': '%s/anat/T1w_Whole_brain_1mm.nii.gz'}\n",
    "ds.inputs.sort_filelist = True\n",
    "\n",
    "ds.inputs.subject_id = 'fd_101'\n",
    "ds.inputs.task_id = '*'\n",
    "ds.inputs.run_id = 2\n",
    "ds.iterables = ('subject_id',sub_list)\n",
    "print ds.run().outputs\n",
    "\n",
    "wf = Workflow(name = 'groupstrip')\n",
    "wf.basedir = abspath('fd/data/')\n",
    "wf.connect(ds,'anat',skullstrip,'in_file')\n",
    "\n",
    "##set up Data Sink\n",
    "sinker = Node(DataSink(), name = 'sinker')\n",
    "sinker.inputs.base_directory = abspath('output')\n",
    "wf.connect(skullstrip,'out_file',sinker,'skull_stripped')\n",
    "\n",
    "#visualize workflow\n",
    "wf.write_graph('workflow_graph.dot')\n",
    "Image(filename = 'workflow_graph.dot.png' )"
   ]
  },
  {
   "cell_type": "code",
   "execution_count": 41,
   "metadata": {
    "collapsed": false,
    "scrolled": true
   },
   "outputs": [
    {
     "name": "stderr",
     "output_type": "stream",
     "text": [
      "INFO:workflow:['check', 'execution', 'logging']\n",
      "INFO:workflow:Running in parallel.\n",
      "INFO:workflow:Submitting 15 jobs\n",
      "INFO:workflow:Executing: datasource.aI.a14 ID: 0\n",
      "INFO:workflow:Executing: datasource.aI.a05 ID: 1\n",
      "INFO:workflow:Executing: datasource.aI.a00 ID: 2\n",
      "INFO:workflow:Executing: datasource.aI.a01 ID: 4\n",
      "INFO:workflow:Executing node datasource.aI.a14 in dir: /tmp/tmpoEiq63/groupstrip/_subject_id_fd_118/datasource\n",
      "INFO:workflow:Executing: datasource.aI.a08 ID: 6\n",
      "INFO:workflow:Executing node datasource.aI.a05 in dir: /tmp/tmpVuZrZx/groupstrip/_subject_id_fd_107/datasource\n",
      "INFO:workflow:Executing: datasource.aI.a04 ID: 7\n",
      "INFO:workflow:Executing: datasource.aI.a10 ID: 10\n",
      "INFO:workflow:Executing node datasource.aI.a00 in dir: /tmp/tmpi6XbgN/groupstrip/_subject_id_fd_101/datasource\n",
      "INFO:workflow:Executing: datasource.aI.a03 ID: 13\n",
      "INFO:workflow:Executing: datasource.aI.a07 ID: 16\n",
      "INFO:workflow:Executing: datasource.aI.a12 ID: 21\n",
      "INFO:workflow:Executing: datasource.aI.a02 ID: 23\n",
      "INFO:workflow:Executing: datasource.aI.a06 ID: 26\n",
      "INFO:workflow:Executing node datasource.aI.a08 in dir: /tmp/tmpRB3e4C/groupstrip/_subject_id_fd_110/datasource\n",
      "INFO:workflow:Executing: datasource.aI.a09 ID: 36\n",
      "INFO:workflow:Executing: datasource.aI.a11 ID: 39\n",
      "INFO:workflow:Executing node datasource.aI.a01 in dir: /tmp/tmpFxwV8d/groupstrip/_subject_id_fd_102/datasource\n",
      "INFO:workflow:Executing node datasource.aI.a04 in dir: /tmp/tmpPJ7cO_/groupstrip/_subject_id_fd_106/datasource\n",
      "INFO:workflow:Executing node datasource.aI.a03 in dir: /tmp/tmpXPMBcL/groupstrip/_subject_id_fd_105/datasource\n",
      "INFO:workflow:Executing node datasource.aI.a10 in dir: /tmp/tmp4nfm69/groupstrip/_subject_id_fd_113/datasource\n",
      "INFO:workflow:Executing: datasource.aI.a13 ID: 42\n",
      "INFO:workflow:Executing node datasource.aI.a07 in dir: /tmp/tmpsyLpfc/groupstrip/_subject_id_fd_109/datasource\n",
      "INFO:workflow:Executing node datasource.aI.a06 in dir: /tmp/tmp6pDF_f/groupstrip/_subject_id_fd_108/datasource\n",
      "INFO:workflow:Executing node datasource.aI.a02 in dir: /tmp/tmp3O6DqC/groupstrip/_subject_id_fd_104/datasource\n",
      "INFO:workflow:Executing node datasource.aI.a12 in dir: /tmp/tmpCNa0Aw/groupstrip/_subject_id_fd_115/datasource\n",
      "INFO:workflow:[Job finished] jobname: datasource.aI.a14 jobid: 0\n",
      "INFO:workflow:Executing node datasource.aI.a09 in dir: /tmp/tmpwmZPHQ/groupstrip/_subject_id_fd_112/datasource\n",
      "INFO:workflow:Executing node datasource.aI.a11 in dir: /tmp/tmpJYyS5j/groupstrip/_subject_id_fd_114/datasource\n",
      "INFO:workflow:Executing node datasource.aI.a13 in dir: /tmp/tmpZRqt6o/groupstrip/_subject_id_fd_117/datasource\n",
      "INFO:workflow:[Job finished] jobname: datasource.aI.a05 jobid: 1\n",
      "INFO:workflow:[Job finished] jobname: datasource.aI.a00 jobid: 2\n",
      "INFO:workflow:[Job finished] jobname: datasource.aI.a01 jobid: 4\n",
      "INFO:workflow:[Job finished] jobname: datasource.aI.a08 jobid: 6\n",
      "INFO:workflow:[Job finished] jobname: datasource.aI.a04 jobid: 7\n",
      "INFO:workflow:[Job finished] jobname: datasource.aI.a10 jobid: 10\n",
      "INFO:workflow:[Job finished] jobname: datasource.aI.a03 jobid: 13\n",
      "INFO:workflow:[Job finished] jobname: datasource.aI.a07 jobid: 16\n",
      "INFO:workflow:[Job finished] jobname: datasource.aI.a12 jobid: 21\n",
      "INFO:workflow:[Job finished] jobname: datasource.aI.a02 jobid: 23\n",
      "INFO:workflow:[Job finished] jobname: datasource.aI.a06 jobid: 26\n",
      "INFO:workflow:[Job finished] jobname: datasource.aI.a09 jobid: 36\n",
      "INFO:workflow:[Job finished] jobname: datasource.aI.a11 jobid: 39\n",
      "INFO:workflow:[Job finished] jobname: datasource.aI.a13 jobid: 42\n",
      "INFO:workflow:Submitting 15 jobs\n",
      "INFO:workflow:Executing: skullstrip.a14 ID: 3\n",
      "INFO:workflow:Executing: skullstrip.a00 ID: 8\n",
      "INFO:workflow:Executing: skullstrip.a10 ID: 11\n",
      "INFO:workflow:Executing: skullstrip.a03 ID: 14\n",
      "INFO:workflow:Executing: skullstrip.a07 ID: 17\n",
      "INFO:workflow:Executing node skullstrip.a14 in dir: /tmp/tmpfzPksU/groupstrip/_subject_id_fd_118/skullstrip\n",
      "INFO:workflow:Executing: skullstrip.a01 ID: 19\n",
      "INFO:workflow:Executing: skullstrip.a12 ID: 22\n",
      "INFO:workflow:Executing node skullstrip.a10 in dir: /tmp/tmpxmadAF/groupstrip/_subject_id_fd_113/skullstrip\n",
      "INFO:workflow:Executing node skullstrip.a00 in dir: /tmp/tmpkXVMvC/groupstrip/_subject_id_fd_101/skullstrip\n",
      "INFO:workflow:Executing node skullstrip.a03 in dir: /tmp/tmpdn6aAb/groupstrip/_subject_id_fd_105/skullstrip\n",
      "INFO:workflow:Running: bet /home/iballard/fd/data/fd_118/anat/T1w_Whole_brain_1mm.nii.gz /tmp/tmpfzPksU/groupstrip/_subject_id_fd_118/skullstrip/T1w_Whole_brain_1mm_brain.nii.gz\n",
      "INFO:workflow:Executing: skullstrip.a02 ID: 24\n",
      "INFO:workflow:Running: bet /home/iballard/fd/data/fd_113/anat/T1w_Whole_brain_1mm.nii.gz /tmp/tmpxmadAF/groupstrip/_subject_id_fd_113/skullstrip/T1w_Whole_brain_1mm_brain.nii.gz\n",
      "INFO:workflow:Running: bet /home/iballard/fd/data/fd_101/anat/T1w_Whole_brain_1mm.nii.gz /tmp/tmpkXVMvC/groupstrip/_subject_id_fd_101/skullstrip/T1w_Whole_brain_1mm_brain.nii.gz\n",
      "INFO:workflow:Executing node skullstrip.a07 in dir: /tmp/tmpZGviDB/groupstrip/_subject_id_fd_109/skullstrip\n",
      "INFO:workflow:Running: bet /home/iballard/fd/data/fd_105/anat/T1w_Whole_brain_1mm.nii.gz /tmp/tmpdn6aAb/groupstrip/_subject_id_fd_105/skullstrip/T1w_Whole_brain_1mm_brain.nii.gz\n",
      "INFO:workflow:Executing: skullstrip.a06 ID: 27\n",
      "INFO:workflow:Executing node skullstrip.a01 in dir: /tmp/tmpfKkzOD/groupstrip/_subject_id_fd_102/skullstrip\n",
      "INFO:workflow:Executing: skullstrip.a08 ID: 30\n",
      "INFO:workflow:Running: bet /home/iballard/fd/data/fd_109/anat/T1w_Whole_brain_1mm.nii.gz /tmp/tmpZGviDB/groupstrip/_subject_id_fd_109/skullstrip/T1w_Whole_brain_1mm_brain.nii.gz\n",
      "INFO:workflow:Executing node skullstrip.a12 in dir: /tmp/tmpwPYiml/groupstrip/_subject_id_fd_115/skullstrip\n",
      "INFO:workflow:Executing: skullstrip.a05 ID: 32\n",
      "INFO:workflow:Executing: skullstrip.a04 ID: 34\n",
      "INFO:workflow:Executing node skullstrip.a06 in dir: /tmp/tmpjNUOwA/groupstrip/_subject_id_fd_108/skullstrip\n",
      "INFO:workflow:Executing node skullstrip.a02 in dir: /tmp/tmp4p2u_c/groupstrip/_subject_id_fd_104/skullstrip\n",
      "INFO:workflow:Running: bet /home/iballard/fd/data/fd_102/anat/T1w_Whole_brain_1mm.nii.gz /tmp/tmpfKkzOD/groupstrip/_subject_id_fd_102/skullstrip/T1w_Whole_brain_1mm_brain.nii.gz\n",
      "INFO:workflow:Running: bet /home/iballard/fd/data/fd_115/anat/T1w_Whole_brain_1mm.nii.gz /tmp/tmpwPYiml/groupstrip/_subject_id_fd_115/skullstrip/T1w_Whole_brain_1mm_brain.nii.gz\n",
      "INFO:workflow:Executing: skullstrip.a09 ID: 37\n",
      "INFO:workflow:Executing node skullstrip.a08 in dir: /tmp/tmpAk5jqc/groupstrip/_subject_id_fd_110/skullstrip\n",
      "INFO:workflow:Running: bet /home/iballard/fd/data/fd_104/anat/T1w_Whole_brain_1mm.nii.gz /tmp/tmp4p2u_c/groupstrip/_subject_id_fd_104/skullstrip/T1w_Whole_brain_1mm_brain.nii.gz\n",
      "INFO:workflow:Executing: skullstrip.a11 ID: 40\n",
      "INFO:workflow:Executing node skullstrip.a05 in dir: /tmp/tmpn2r13a/groupstrip/_subject_id_fd_107/skullstrip\n",
      "INFO:workflow:Running: bet /home/iballard/fd/data/fd_108/anat/T1w_Whole_brain_1mm.nii.gz /tmp/tmpjNUOwA/groupstrip/_subject_id_fd_108/skullstrip/T1w_Whole_brain_1mm_brain.nii.gz\n",
      "INFO:workflow:Running: bet /home/iballard/fd/data/fd_110/anat/T1w_Whole_brain_1mm.nii.gz /tmp/tmpAk5jqc/groupstrip/_subject_id_fd_110/skullstrip/T1w_Whole_brain_1mm_brain.nii.gz\n",
      "INFO:workflow:Executing: skullstrip.a13 ID: 43\n",
      "INFO:workflow:Executing node skullstrip.a04 in dir: /tmp/tmpRxZEQS/groupstrip/_subject_id_fd_106/skullstrip\n",
      "INFO:workflow:[Job finished] jobname: skullstrip.a06 jobid: 27\n",
      "INFO:workflow:Running: bet /home/iballard/fd/data/fd_107/anat/T1w_Whole_brain_1mm.nii.gz /tmp/tmpn2r13a/groupstrip/_subject_id_fd_107/skullstrip/T1w_Whole_brain_1mm_brain.nii.gz\n",
      "INFO:workflow:Executing node skullstrip.a09 in dir: /tmp/tmpXN2Rp9/groupstrip/_subject_id_fd_112/skullstrip\n",
      "INFO:workflow:Executing node skullstrip.a11 in dir: /tmp/tmpxwJg84/groupstrip/_subject_id_fd_114/skullstrip\n",
      "INFO:workflow:Running: bet /home/iballard/fd/data/fd_106/anat/T1w_Whole_brain_1mm.nii.gz /tmp/tmpRxZEQS/groupstrip/_subject_id_fd_106/skullstrip/T1w_Whole_brain_1mm_brain.nii.gz\n",
      "INFO:workflow:Executing node skullstrip.a13 in dir: /tmp/tmpq6Ytmj/groupstrip/_subject_id_fd_117/skullstrip\n",
      "INFO:workflow:Running: bet /home/iballard/fd/data/fd_117/anat/T1w_Whole_brain_1mm.nii.gz /tmp/tmpq6Ytmj/groupstrip/_subject_id_fd_117/skullstrip/T1w_Whole_brain_1mm_brain.nii.gz\n",
      "INFO:workflow:Running: bet /home/iballard/fd/data/fd_112/anat/T1w_Whole_brain_1mm.nii.gz /tmp/tmpXN2Rp9/groupstrip/_subject_id_fd_112/skullstrip/T1w_Whole_brain_1mm_brain.nii.gz\n",
      "INFO:workflow:Running: bet /home/iballard/fd/data/fd_114/anat/T1w_Whole_brain_1mm.nii.gz /tmp/tmpxwJg84/groupstrip/_subject_id_fd_114/skullstrip/T1w_Whole_brain_1mm_brain.nii.gz\n",
      "INFO:workflow:Submitting 1 jobs\n",
      "INFO:workflow:Executing: sinker.a06 ID: 28\n",
      "INFO:workflow:[Job finished] jobname: skullstrip.a14 jobid: 3\n",
      "INFO:workflow:Executing node sinker.a06 in dir: /tmp/tmp_iuWZb/groupstrip/_subject_id_fd_108/sinker\n",
      "INFO:workflow:[Job finished] jobname: skullstrip.a00 jobid: 8\n",
      "INFO:workflow:[Job finished] jobname: sinker.a06 jobid: 28\n",
      "INFO:workflow:Submitting 2 jobs\n",
      "INFO:workflow:Executing: sinker.a14 ID: 5\n",
      "INFO:workflow:Executing: sinker.a00 ID: 9\n",
      "INFO:workflow:[Job finished] jobname: skullstrip.a10 jobid: 11\n",
      "INFO:workflow:Executing node sinker.a14 in dir: /tmp/tmp0AG9_9/groupstrip/_subject_id_fd_118/sinker\n",
      "INFO:workflow:Executing node sinker.a00 in dir: /tmp/tmpr8YGuX/groupstrip/_subject_id_fd_101/sinker\n",
      "INFO:workflow:[Job finished] jobname: skullstrip.a03 jobid: 14\n",
      "INFO:workflow:[Job finished] jobname: skullstrip.a07 jobid: 17\n",
      "INFO:workflow:[Job finished] jobname: skullstrip.a01 jobid: 19\n",
      "INFO:workflow:[Job finished] jobname: skullstrip.a12 jobid: 22\n",
      "INFO:workflow:[Job finished] jobname: skullstrip.a02 jobid: 24\n",
      "INFO:workflow:[Job finished] jobname: skullstrip.a08 jobid: 30\n",
      "INFO:workflow:[Job finished] jobname: skullstrip.a04 jobid: 34\n",
      "INFO:workflow:[Job finished] jobname: skullstrip.a13 jobid: 43\n",
      "INFO:workflow:[Job finished] jobname: sinker.a14 jobid: 5\n",
      "INFO:workflow:[Job finished] jobname: sinker.a00 jobid: 9\n",
      "INFO:workflow:Submitting 9 jobs\n",
      "INFO:workflow:Executing: sinker.a10 ID: 12\n",
      "INFO:workflow:Executing: sinker.a03 ID: 15\n",
      "INFO:workflow:Executing: sinker.a07 ID: 18\n",
      "INFO:workflow:Executing: sinker.a01 ID: 20\n",
      "INFO:workflow:Executing: sinker.a02 ID: 25\n",
      "INFO:workflow:Executing node sinker.a10 in dir: /tmp/tmpXxH4mp/groupstrip/_subject_id_fd_113/sinker\n",
      "INFO:workflow:Executing node sinker.a03 in dir: /tmp/tmpJH4sjt/groupstrip/_subject_id_fd_105/sinker\n",
      "INFO:workflow:Executing: sinker.a12 ID: 29\n",
      "INFO:workflow:Executing node sinker.a07 in dir: /tmp/tmpuQAN0_/groupstrip/_subject_id_fd_109/sinker\n",
      "INFO:workflow:Executing: sinker.a08 ID: 31\n",
      "INFO:workflow:Executing node sinker.a01 in dir: /tmp/tmpLbEeU9/groupstrip/_subject_id_fd_102/sinker\n",
      "INFO:workflow:Executing: sinker.a04 ID: 35\n",
      "INFO:workflow:Executing node sinker.a02 in dir: /tmp/tmpQVWghs/groupstrip/_subject_id_fd_104/sinker\n",
      "INFO:workflow:Executing: sinker.a13 ID: 44\n",
      "INFO:workflow:[Job finished] jobname: skullstrip.a05 jobid: 32\n",
      "INFO:workflow:Executing node sinker.a08 in dir: /tmp/tmp2XgGPx/groupstrip/_subject_id_fd_110/sinker\n",
      "INFO:workflow:Executing node sinker.a12 in dir: /tmp/tmpK6mtDf/groupstrip/_subject_id_fd_115/sinker\n",
      "INFO:workflow:Executing node sinker.a04 in dir: /tmp/tmpHLMhT3/groupstrip/_subject_id_fd_106/sinker\n",
      "INFO:workflow:Executing node sinker.a13 in dir: /tmp/tmpKMrLhk/groupstrip/_subject_id_fd_117/sinker\n",
      "INFO:workflow:[Job finished] jobname: skullstrip.a09 jobid: 37\n",
      "INFO:workflow:[Job finished] jobname: skullstrip.a11 jobid: 40\n",
      "INFO:workflow:[Job finished] jobname: sinker.a10 jobid: 12\n",
      "INFO:workflow:[Job finished] jobname: sinker.a03 jobid: 15\n",
      "INFO:workflow:[Job finished] jobname: sinker.a07 jobid: 18\n",
      "INFO:workflow:[Job finished] jobname: sinker.a01 jobid: 20\n",
      "INFO:workflow:[Job finished] jobname: sinker.a02 jobid: 25\n",
      "INFO:workflow:[Job finished] jobname: sinker.a12 jobid: 29\n",
      "INFO:workflow:[Job finished] jobname: sinker.a08 jobid: 31\n",
      "INFO:workflow:[Job finished] jobname: sinker.a04 jobid: 35\n",
      "INFO:workflow:[Job finished] jobname: sinker.a13 jobid: 44\n",
      "INFO:workflow:Submitting 3 jobs\n",
      "INFO:workflow:Executing: sinker.a05 ID: 33\n",
      "INFO:workflow:Executing: sinker.a09 ID: 38\n",
      "INFO:workflow:Executing: sinker.a11 ID: 41\n",
      "INFO:workflow:[Job finished] jobname: sinker.a05 jobid: 33\n",
      "INFO:workflow:Executing node sinker.a05 in dir: /tmp/tmp6BA4Ln/groupstrip/_subject_id_fd_107/sinker\n",
      "INFO:workflow:Executing node sinker.a09 in dir: /tmp/tmpthyWqq/groupstrip/_subject_id_fd_112/sinker\n",
      "INFO:workflow:Executing node sinker.a11 in dir: /tmp/tmpTIScJo/groupstrip/_subject_id_fd_114/sinker\n",
      "INFO:workflow:[Job finished] jobname: sinker.a09 jobid: 38\n",
      "INFO:workflow:[Job finished] jobname: sinker.a11 jobid: 41\n"
     ]
    },
    {
     "data": {
      "text/plain": [
       "<networkx.classes.digraph.DiGraph at 0x7ffa3e6a6f90>"
      ]
     },
     "execution_count": 41,
     "metadata": {},
     "output_type": "execute_result"
    }
   ],
   "source": [
    "wf.run(plugin = 'MultiProc')"
   ]
  },
  {
   "cell_type": "code",
   "execution_count": 41,
   "metadata": {
    "collapsed": false
   },
   "outputs": [
    {
     "name": "stdout",
     "output_type": "stream",
     "text": [
      "Wraps command **bet**\n",
      "\n",
      "Use FSL BET command for skull stripping.\n",
      "\n",
      "For complete details, see the `BET Documentation.\n",
      "<http://www.fmrib.ox.ac.uk/fsl/bet2/index.html>`_\n",
      "\n",
      "Examples\n",
      "--------\n",
      ">>> from nipype.interfaces import fsl\n",
      ">>> from nipype.testing import  example_data\n",
      ">>> btr = fsl.BET()\n",
      ">>> btr.inputs.in_file = example_data('structural.nii')\n",
      ">>> btr.inputs.frac = 0.7\n",
      ">>> res = btr.run() # doctest: +SKIP\n",
      "\n",
      "Inputs::\n",
      "\n",
      "\t[Mandatory]\n",
      "\tin_file: (an existing file name)\n",
      "\t\tinput file to skull strip\n",
      "\t\tflag: %s, position: 0\n",
      "\tterminal_output: ('stream' or 'allatonce' or 'file' or 'none')\n",
      "\t\tControl terminal output: `stream` - displays to terminal\n",
      "\t\timmediately, `allatonce` - waits till command is finished to display\n",
      "\t\toutput, `file` - writes output to file, `none` - output is ignored\n",
      "\n",
      "\t[Optional]\n",
      "\targs: (a string)\n",
      "\t\tAdditional parameters to the command\n",
      "\t\tflag: %s\n",
      "\tcenter: (a list of at most 3 items which are an integer)\n",
      "\t\tcenter of gravity in voxels\n",
      "\t\tflag: -c %s\n",
      "\tenviron: (a dictionary with keys which are a value of type 'str' and\n",
      "\t\t with values which are a value of type 'str', nipype default value:\n",
      "\t\t {})\n",
      "\t\tEnvironment variables\n",
      "\tfrac: (a float)\n",
      "\t\tfractional intensity threshold\n",
      "\t\tflag: -f %.2f\n",
      "\tfunctional: (a boolean)\n",
      "\t\tapply to 4D fMRI data\n",
      "\t\tflag: -F\n",
      "\t\tmutually_exclusive: functional, reduce_bias, robust, padding,\n",
      "\t\t remove_eyes, surfaces, t2_guided\n",
      "\tignore_exception: (a boolean, nipype default value: False)\n",
      "\t\tPrint an error message instead of throwing an exception in case the\n",
      "\t\tinterface fails to run\n",
      "\tmask: (a boolean)\n",
      "\t\tcreate binary mask image\n",
      "\t\tflag: -m\n",
      "\tmesh: (a boolean)\n",
      "\t\tgenerate a vtk mesh brain surface\n",
      "\t\tflag: -e\n",
      "\tno_output: (a boolean)\n",
      "\t\tDon't generate segmented output\n",
      "\t\tflag: -n\n",
      "\tout_file: (a file name)\n",
      "\t\tname of output skull stripped image\n",
      "\t\tflag: %s, position: 1\n",
      "\toutline: (a boolean)\n",
      "\t\tcreate surface outline image\n",
      "\t\tflag: -o\n",
      "\toutput_type: ('NIFTI_PAIR' or 'NIFTI_PAIR_GZ' or 'NIFTI_GZ' or\n",
      "\t\t 'NIFTI')\n",
      "\t\tFSL output type\n",
      "\tpadding: (a boolean)\n",
      "\t\timprove BET if FOV is very small in Z (by temporarily padding end\n",
      "\t\tslices)\n",
      "\t\tflag: -Z\n",
      "\t\tmutually_exclusive: functional, reduce_bias, robust, padding,\n",
      "\t\t remove_eyes, surfaces, t2_guided\n",
      "\tradius: (an integer)\n",
      "\t\thead radius\n",
      "\t\tflag: -r %d\n",
      "\treduce_bias: (a boolean)\n",
      "\t\tbias field and neck cleanup\n",
      "\t\tflag: -B\n",
      "\t\tmutually_exclusive: functional, reduce_bias, robust, padding,\n",
      "\t\t remove_eyes, surfaces, t2_guided\n",
      "\tremove_eyes: (a boolean)\n",
      "\t\teye & optic nerve cleanup (can be useful in SIENA)\n",
      "\t\tflag: -S\n",
      "\t\tmutually_exclusive: functional, reduce_bias, robust, padding,\n",
      "\t\t remove_eyes, surfaces, t2_guided\n",
      "\trobust: (a boolean)\n",
      "\t\trobust brain centre estimation (iterates BET several times)\n",
      "\t\tflag: -R\n",
      "\t\tmutually_exclusive: functional, reduce_bias, robust, padding,\n",
      "\t\t remove_eyes, surfaces, t2_guided\n",
      "\tskull: (a boolean)\n",
      "\t\tcreate skull image\n",
      "\t\tflag: -s\n",
      "\tsurfaces: (a boolean)\n",
      "\t\trun bet2 and then betsurf to get additional skull and scalp surfaces\n",
      "\t\t(includes registrations)\n",
      "\t\tflag: -A\n",
      "\t\tmutually_exclusive: functional, reduce_bias, robust, padding,\n",
      "\t\t remove_eyes, surfaces, t2_guided\n",
      "\tt2_guided: (a file name)\n",
      "\t\tas with creating surfaces, when also feeding in non-brain-extracted\n",
      "\t\tT2 (includes registrations)\n",
      "\t\tflag: -A2 %s\n",
      "\t\tmutually_exclusive: functional, reduce_bias, robust, padding,\n",
      "\t\t remove_eyes, surfaces, t2_guided\n",
      "\tthreshold: (a boolean)\n",
      "\t\tapply thresholding to segmented brain image and mask\n",
      "\t\tflag: -t\n",
      "\tvertical_gradient: (a float)\n",
      "\t\tvertical gradient in fractional intensity threshold (-1, 1)\n",
      "\t\tflag: -g %.2f\n",
      "\n",
      "Outputs::\n",
      "\n",
      "\tinskull_mask_file: (a file name)\n",
      "\t\tpath/name of inskull mask (if generated)\n",
      "\tinskull_mesh_file: (a file name)\n",
      "\t\tpath/name of inskull mesh outline (if generated)\n",
      "\tmask_file: (a file name)\n",
      "\t\tpath/name of binary brain mask (if generated)\n",
      "\tmeshfile: (a file name)\n",
      "\t\tpath/name of vtk mesh file (if generated)\n",
      "\tout_file: (a file name)\n",
      "\t\tpath/name of skullstripped file (if generated)\n",
      "\toutline_file: (a file name)\n",
      "\t\tpath/name of outline file (if generated)\n",
      "\toutskin_mask_file: (a file name)\n",
      "\t\tpath/name of outskin mask (if generated)\n",
      "\toutskin_mesh_file: (a file name)\n",
      "\t\tpath/name of outskin mesh outline (if generated)\n",
      "\toutskull_mask_file: (a file name)\n",
      "\t\tpath/name of outskull mask (if generated)\n",
      "\toutskull_mesh_file: (a file name)\n",
      "\t\tpath/name of outskull mesh outline (if generated)\n",
      "\tskull_mask_file: (a file name)\n",
      "\t\tpath/name of skull mask (if generated)\n",
      "\n",
      "None\n"
     ]
    }
   ],
   "source": [
    "from nipype.interfaces.nipy.preprocess import FmriRealign4d\n",
    "print(BET.help())\n"
   ]
  },
  {
   "cell_type": "code",
   "execution_count": null,
   "metadata": {
    "collapsed": true
   },
   "outputs": [],
   "source": []
  }
 ],
 "metadata": {
  "kernelspec": {
   "display_name": "Python 2",
   "language": "python",
   "name": "python2"
  },
  "language_info": {
   "codemirror_mode": {
    "name": "ipython",
    "version": 2
   },
   "file_extension": ".py",
   "mimetype": "text/x-python",
   "name": "python",
   "nbconvert_exporter": "python",
   "pygments_lexer": "ipython2",
   "version": "2.7.6"
  }
 },
 "nbformat": 4,
 "nbformat_minor": 0
}
