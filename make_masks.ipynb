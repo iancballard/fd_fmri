{
 "cells": [
  {
   "cell_type": "code",
   "execution_count": 1,
   "metadata": {
    "collapsed": true
   },
   "outputs": [],
   "source": [
    "import os\n",
    "import os.path as op\n",
    "import glob\n",
    "import numpy as np\n",
    "import multiprocessing\n",
    "from nipype.interfaces import fsl"
   ]
  },
  {
   "cell_type": "code",
   "execution_count": 2,
   "metadata": {
    "collapsed": false
   },
   "outputs": [],
   "source": [
    "#preliminary housekeeping\n",
    "home_dir = '/data/home/iballard/fd/'\n",
    "subj_file = home_dir + 'subjects.txt'\n",
    "subs = list(np.loadtxt(subj_file,'string'))\n",
    "os.chdir(home_dir)\n",
    "exps = ['sim_4mm']\n",
    "runs = map(str,range(1,4))"
   ]
  },
  {
   "cell_type": "code",
   "execution_count": 3,
   "metadata": {
    "collapsed": false
   },
   "outputs": [
    {
     "name": "stdout",
     "output_type": "stream",
     "text": [
      "['lh.yeo17_ifs_thresh0.25.label', 'rh.yeo17_ains.label', 'lh.yeo17_dmfc.label', 'rh.yeo17_ifs.label', 'rh.yeo17_fpc.label', 'lh.yeo17_ains.label', 'rh.yeo17_pifs.label', 'rh.yeo17_ifg.label', 'lh.yeo17_pifs.label', 'lh.yeo17_fpc.label', 'rh.yeo17_ips.label', 'lh.yeo17_amfg.label', 'rh.yeo17_aifs.label', 'lh.yeo17_ifs.label', 'lh.yeo17_ips.label', 'lh.yeo17_pmfg.label', 'rh.yeo17_amfg.label', 'rh.yeo17_otc.label', 'lh.yeo17_psfs.label', 'lh.yeo17_otc.label', 'rh.yeo17_ifs_thresh0.25.label', 'lh.yeo17_aifs.label', 'lh.yeo17_ifg.label', 'rh.yeo17_psfs.label', 'rh.yeo17_dmfc.label', 'rh.yeo17_pmfg.label']\n"
     ]
    }
   ],
   "source": [
    "#get cortical areas from Yeo atlas\n",
    "path = home_dir + '/data/fsaverage/label/'\n",
    "# cortical_areas =  glob.glob(path + '*7Net*')\n",
    "# cortical_areas = [x.split('/')[-1] for x in cortical_areas]\n",
    "\n",
    "#get cortical areas from Michael's parcellation\n",
    "cortical_areas =  glob.glob(path + '*yeo*')\n",
    "cortical_areas = [x.split('/')[-1] for x in cortical_areas]\n",
    "print cortical_areas\n",
    "\n",
    "#get vmpfc roi\n",
    "# cortical_areas =  glob.glob(path + '*vmpfc*')\n",
    "# cortical_areas = [x.split('/')[-1] for x in cortical_areas]\n",
    "# cortical_areas = [cortical_areas[0]]\n",
    "# cortical_areas"
   ]
  },
  {
   "cell_type": "code",
   "execution_count": 4,
   "metadata": {
    "collapsed": false
   },
   "outputs": [],
   "source": [
    "def make_mask(in_tuple):\n",
    "    sub,roi = in_tuple\n",
    "    roi_id = roi.split('.')[1]\n",
    "    hemi = roi.split('.')[0]\n",
    "    \n",
    "    cmd = ['make_masks.py',\n",
    "           '-s',\n",
    "           sub,\n",
    "           '-roi',\n",
    "           hemi + '.' + roi_id,\n",
    "            '-label',\n",
    "           roi_id,\n",
    "           '-sample graymid',\n",
    "#            '-proj frac 0 1 .1',\n",
    "           '-hemi',\n",
    "           hemi,\n",
    "           '-debug',\n",
    "           '-serial']\n",
    "    cmd = ' '.join(cmd)\n",
    "    os.system(cmd)"
   ]
  },
  {
   "cell_type": "code",
   "execution_count": 13,
   "metadata": {
    "collapsed": false
   },
   "outputs": [],
   "source": [
    "def make_mask_no_hemi(in_tuple):\n",
    "    sub,roi = in_tuple\n",
    "    roi_id = roi.split('.')[1]\n",
    "    \n",
    "    cmd = ['make_masks.py',\n",
    "           '-s',\n",
    "           sub,\n",
    "           '-roi',\n",
    "           roi_id,\n",
    "            '-label',\n",
    "           roi_id,\n",
    "           '-sample graymid',\n",
    "           '-exp',exps[0],\n",
    "           '-serial']\n",
    "    cmd = ' '.join(cmd)\n",
    "    os.system(cmd)"
   ]
  },
  {
   "cell_type": "code",
   "execution_count": 28,
   "metadata": {
    "collapsed": false
   },
   "outputs": [],
   "source": [
    "def make_contrast_masks(in_tuple):\n",
    "    sub,exp,contrast = in_tuple\n",
    "    cmd = ['make_masks.py',\n",
    "           '-s',\n",
    "           sub,\n",
    "           '-roi',\n",
    "           'caudate_' + contrast,\n",
    "           '-aseg',\n",
    "           '-id 11 50',\n",
    "           '-exp',exp,\n",
    "           '-contrast', contrast,\n",
    "           '-thresh','1.7']\n",
    "    cmd = ' '.join(cmd)\n",
    "    os.system(cmd)\n",
    "# make_contrast_masks(in_tuples[0])"
   ]
  },
  {
   "cell_type": "code",
   "execution_count": 29,
   "metadata": {
    "collapsed": false
   },
   "outputs": [],
   "source": [
    "in_tuples = []\n",
    "exp = 'sim_4mm-PEdiffone'\n",
    "contrast = 'PE_mf'\n",
    "for sub in subs:\n",
    "    in_tuples.append((sub,exp,contrast))"
   ]
  },
  {
   "cell_type": "code",
   "execution_count": 30,
   "metadata": {
    "collapsed": false
   },
   "outputs": [],
   "source": [
    "pool = multiprocessing.Pool(40)\n",
    "pool.map(make_contrast_masks,in_tuples)\n",
    "pool.terminate()\n",
    "pool.join()"
   ]
  },
  {
   "cell_type": "code",
   "execution_count": 13,
   "metadata": {
    "collapsed": false
   },
   "outputs": [],
   "source": [
    "# in_tuples = []\n",
    "# for sub in subs:\n",
    "#     for roi in cortical_areas:\n",
    "#         in_tuples.append((sub,roi))"
   ]
  },
  {
   "cell_type": "code",
   "execution_count": 14,
   "metadata": {
    "collapsed": false
   },
   "outputs": [],
   "source": [
    "# pool = multiprocessing.Pool(30)\n",
    "# pool.map(make_mask_no_hemi,in_tuples)\n",
    "# pool.terminate()\n",
    "# pool.join()"
   ]
  },
  {
   "cell_type": "markdown",
   "metadata": {},
   "source": [
    "# Map MNI ROI back into EPI space"
   ]
  },
  {
   "cell_type": "code",
   "execution_count": 40,
   "metadata": {
    "collapsed": false
   },
   "outputs": [],
   "source": [
    "rois = ['striatum']\n",
    "exp = 'sim_4mm'\n",
    "#warp group statistical image back into subject space\n",
    "for sub in subs: \n",
    "    if True:#sub != 'fd_104':\n",
    "        #set paths\n",
    "        mask_path = home_dir + '/data/' + sub\n",
    "        out_dir = mask_path + '/masks/'\n",
    "\n",
    "        #copy warpfile to make ANTs happy\n",
    "        warp = mask_path + '/normalization/inverse_warpfield.nii.gz'\n",
    "        warpfield = mask_path + '/normalization/InverseWarp.nii.gz'\n",
    "        cmd = ['ln','-s',warp, warpfield]\n",
    "        os.system(' '.join(cmd))\n",
    "\n",
    "        for roi in rois:\n",
    "            im =  home_dir + '/analysis/striatum/' + roi + '.nii.gz'\n",
    "\n",
    "            #warp to subject space\n",
    "            out_warp = out_dir + roi + '_anat_space.nii.gz'\n",
    "            ref_file = fsl.Info.standard_image(\"avg152T1_brain.nii.gz\")\n",
    "            affine = home_dir + '/data/' + sub + '/normalization/affine.txt'\n",
    "            anat = home_dir + '/data/' + sub + '/anat/T1_native.nii.gz'\n",
    "            if os.path.exists(out_warp):\n",
    "                os.remove(out_warp)\n",
    "            cmd_str = ['WarpImageMultiTransform','3',im,out_warp,'-i',affine,warpfield,\n",
    "                       '-R',anat]\n",
    "            cmd_str = ' '.join(cmd_str)\n",
    "            os.system(cmd_str)\n",
    "\n",
    "            #register to functional space\n",
    "            sub_path = home_dir + 'analysis/' + exp + '/' + sub\n",
    "\n",
    "            #register to func\n",
    "            transform = sub_path + '/preproc/run_1/func2anat_tkreg.dat'\n",
    "            mean_func = sub_path + '/preproc/run_1/mean_func.nii.gz'\n",
    "            out_rigid = out_dir + exp + '_' + roi + '_func_space.nii.gz'\n",
    "            if os.path.exists(out_rigid):\n",
    "                os.remove(out_rigid)\n",
    "            cmd_line = ['mri_vol2vol','--mov',mean_func,'--targ',out_warp,'--reg',transform,'--o',out_rigid,\n",
    "                        '--no-save-reg','--inv']\n",
    "            os.system(' '.join(cmd_line))\n",
    "\n",
    "            #binarize\n",
    "            out_mask = out_dir + exp + '_' + roi + '_mask.nii.gz'\n",
    "            if os.path.exists(out_mask):\n",
    "                os.remove(out_mask)\n",
    "            cmd = ['fslmaths',out_rigid,'-thr','.1','-bin',out_mask]\n",
    "            os.system(' '.join(cmd))\n"
   ]
  },
  {
   "cell_type": "code",
   "execution_count": 37,
   "metadata": {
    "collapsed": false
   },
   "outputs": [
    {
     "ename": "OSError",
     "evalue": "[Errno 2] No such file or directory",
     "output_type": "error",
     "traceback": [
      "\u001b[1;31m---------------------------------------------------------------------------\u001b[0m",
      "\u001b[1;31mOSError\u001b[0m                                   Traceback (most recent call last)",
      "\u001b[1;32m<ipython-input-37-80a208c26cfc>\u001b[0m in \u001b[0;36m<module>\u001b[1;34m()\u001b[0m\n\u001b[0;32m      3\u001b[0m     \u001b[0mnew\u001b[0m \u001b[1;33m=\u001b[0m \u001b[1;34m'/home/iballard/mag/data/'\u001b[0m \u001b[1;33m+\u001b[0m \u001b[0msub\u001b[0m \u001b[1;33m+\u001b[0m \u001b[1;34m'/anat/brain_out.nii.gz'\u001b[0m\u001b[1;33m\u001b[0m\u001b[0m\n\u001b[0;32m      4\u001b[0m \u001b[1;33m\u001b[0m\u001b[0m\n\u001b[1;32m----> 5\u001b[1;33m     \u001b[0mos\u001b[0m\u001b[1;33m.\u001b[0m\u001b[0mrename\u001b[0m\u001b[1;33m(\u001b[0m\u001b[0manat\u001b[0m\u001b[1;33m,\u001b[0m\u001b[0mnew\u001b[0m\u001b[1;33m)\u001b[0m\u001b[1;33m\u001b[0m\u001b[0m\n\u001b[0m",
      "\u001b[1;31mOSError\u001b[0m: [Errno 2] No such file or directory"
     ]
    }
   ],
   "source": [
    "for sub in subs:\n",
    "    anat = '/home/iballard/mag/analysis/workingdir/antswarp/_subject_id_' + sub + '/convertbrain/brain_out.nii.gz'\n",
    "    new = '/home/iballard/mag/data/' + sub + '/anat/brain_out.nii.gz'\n",
    "    \n",
    "    os.rename(anat,new)"
   ]
  },
  {
   "cell_type": "code",
   "execution_count": 82,
   "metadata": {
    "collapsed": false
   },
   "outputs": [],
   "source": [
    "for sub in subs:\n",
    "    roi_path = '/home/iballard/mag/data/' + sub + '/masks/'\n",
    "    \n",
    "    cmd = ['fslmaths',roi_path + 'lh.vmpfc_bartre','-add',\n",
    "           roi_path + 'rh.vmpfc_bartre', roi_path + 'temp']\n",
    "    os.system(' '.join(cmd))\n",
    "    \n",
    "    cmd = ['fslmaths',roi_path + 'temp','-bin',\n",
    "           roi_path + 'vmpfc_freesurfer']\n",
    "    os.system(' '.join(cmd))\n",
    "    "
   ]
  },
  {
   "cell_type": "markdown",
   "metadata": {
    "collapsed": true
   },
   "source": [
    "# Split HPC into left and right"
   ]
  },
  {
   "cell_type": "code",
   "execution_count": 27,
   "metadata": {
    "collapsed": false
   },
   "outputs": [],
   "source": [
    "import nibabel as nib\n",
    "for sub in subs:\n",
    "    roi_path = '/home/iballard/fd/data/' + sub + '/masks/hipp.nii.gz'\n",
    "    x_dim = nib.load(roi_path).shape[0]\n",
    "    \n",
    "    cmd = ['fslmaths', roi_path, '-bin',\n",
    "           '-roi', str(int(x_dim/2)),'-1',\n",
    "            '-1', '-1', '-1','-1','-1','-1', \n",
    "           roi_path[:-7] + '_left.nii.gz']\n",
    "    os.system(' '.join(cmd))\n",
    "    \n",
    "    cmd = ['fslmaths', roi_path, '-bin',\n",
    "           '-roi', '0',str(int(x_dim/2)),\n",
    "           '-1', '-1', '-1','-1','-1','-1', \n",
    "           roi_path[:-7] + '_right.nii.gz']\n",
    "    os.system(' '.join(cmd))\n",
    "\n",
    "    "
   ]
  },
  {
   "cell_type": "code",
   "execution_count": null,
   "metadata": {
    "collapsed": true
   },
   "outputs": [],
   "source": []
  }
 ],
 "metadata": {
  "kernelspec": {
   "display_name": "Python 2",
   "language": "python",
   "name": "python2"
  },
  "language_info": {
   "codemirror_mode": {
    "name": "ipython",
    "version": 2
   },
   "file_extension": ".py",
   "mimetype": "text/x-python",
   "name": "python",
   "nbconvert_exporter": "python",
   "pygments_lexer": "ipython2",
   "version": "2.7.11"
  }
 },
 "nbformat": 4,
 "nbformat_minor": 0
}
