{
 "cells": [
  {
   "cell_type": "code",
   "execution_count": 1,
   "metadata": {
    "collapsed": true
   },
   "outputs": [],
   "source": [
    "from __future__ import division\n",
    "import os.path as op\n",
    "import itertools\n",
    "import numpy as np\n",
    "import scipy as sp\n",
    "import pandas as pd\n",
    "import nibabel as nib\n",
    "from scipy import stats\n",
    "import statsmodels.api as sm\n",
    "import matplotlib as mpl\n",
    "import matplotlib.pyplot as plt\n",
    "from sklearn.linear_model import LogisticRegression\n",
    "from sklearn.metrics import r2_score\n",
    "import lyman\n",
    "from lyman import mvpa, evoked\n",
    "import seaborn as sns\n",
    "import moss"
   ]
  },
  {
   "cell_type": "code",
   "execution_count": 2,
   "metadata": {
    "collapsed": true
   },
   "outputs": [],
   "source": [
    "%matplotlib inline\n",
    "sns.set(context=\"paper\", style=\"ticks\", font=\"Arial\")\n",
    "mpl.rcParams.update({\"xtick.major.width\": 1, \"ytick.major.width\": 1, \"savefig.dpi\": 150})\n",
    "pd.set_option('display.precision', 3)"
   ]
  },
  {
   "cell_type": "code",
   "execution_count": 3,
   "metadata": {
    "collapsed": true
   },
   "outputs": [],
   "source": [
    "from mpl_toolkits import mplot3d\n",
    "from mpl_toolkits.mplot3d import Axes3D"
   ]
  },
  {
   "cell_type": "code",
   "execution_count": 4,
   "metadata": {
    "collapsed": true
   },
   "outputs": [],
   "source": [
    "np.random.seed(sum(map(ord, reversed(\"featurediscrimination\"))))"
   ]
  },
  {
   "cell_type": "code",
   "execution_count": 5,
   "metadata": {
    "collapsed": true
   },
   "outputs": [],
   "source": [
    "from IPython.parallel import Client, TimeoutError\n",
    "try:\n",
    "    dv = Client()[:]\n",
    "    dv4 = Client()[:4]\n",
    "except (IOError, TimeoutError):\n",
    "    dv = None\n",
    "    dv4 = None"
   ]
  },
  {
   "cell_type": "code",
   "execution_count": 6,
   "metadata": {
    "collapsed": true
   },
   "outputs": [],
   "source": [
    "import warnings\n",
    "warnings.filterwarnings(\"ignore\", category=DeprecationWarning) "
   ]
  },
  {
   "cell_type": "code",
   "execution_count": 7,
   "metadata": {
    "collapsed": true
   },
   "outputs": [],
   "source": [
    "def save_figure(fig, figname):\n",
    "    fig.savefig(\"figures/%s.pdf\" % figname, dpi=300)\n",
    "    fig.savefig(\"figures/%s.tiff\" % figname, dpi=300)"
   ]
  },
  {
   "cell_type": "code",
   "execution_count": 21,
   "metadata": {
    "collapsed": false
   },
   "outputs": [
    {
     "ename": "NameError",
     "evalue": "name 'home_dir' is not defined",
     "output_type": "error",
     "traceback": [
      "\u001b[1;31m---------------------------------------------------------------------------\u001b[0m",
      "\u001b[1;31mNameError\u001b[0m                                 Traceback (most recent call last)",
      "\u001b[1;32m<ipython-input-21-0e1fd16e4e13>\u001b[0m in \u001b[0;36m<module>\u001b[1;34m()\u001b[0m\n\u001b[1;32m----> 1\u001b[1;33m \u001b[0msubj_file\u001b[0m \u001b[1;33m=\u001b[0m \u001b[0mhome_dir\u001b[0m \u001b[1;33m+\u001b[0m \u001b[1;34m'subjects_ser.txt'\u001b[0m\u001b[1;33m\u001b[0m\u001b[0m\n\u001b[0m\u001b[0;32m      2\u001b[0m \u001b[0msubjects\u001b[0m \u001b[1;33m=\u001b[0m \u001b[0mlist\u001b[0m\u001b[1;33m(\u001b[0m\u001b[0mnp\u001b[0m\u001b[1;33m.\u001b[0m\u001b[0mloadtxt\u001b[0m\u001b[1;33m(\u001b[0m\u001b[0msubj_file\u001b[0m\u001b[1;33m,\u001b[0m\u001b[1;34m'string'\u001b[0m\u001b[1;33m)\u001b[0m\u001b[1;33m)\u001b[0m\u001b[1;33m\u001b[0m\u001b[0m\n",
      "\u001b[1;31mNameError\u001b[0m: name 'home_dir' is not defined"
     ]
    }
   ],
   "source": []
  },
  {
   "cell_type": "code",
   "execution_count": 25,
   "metadata": {
    "collapsed": false
   },
   "outputs": [],
   "source": [
    "project = lyman.gather_project_info()\n",
    "anal_dir = project[\"analysis_dir\"]\n",
    "data_dir = project[\"data_dir\"]\n",
    "home_dir = '/data/home/iballard/fd/'\n",
    "\n",
    "subj_file = home_dir + 'subjects_ser.txt'\n",
    "subjects = list(np.loadtxt(subj_file,'string'))"
   ]
  },
  {
   "cell_type": "code",
   "execution_count": 26,
   "metadata": {
    "collapsed": true
   },
   "outputs": [],
   "source": [
    "all_rois = pd.Series([\"lOFC_fill_ser\", \"mOFC_fill_ser\"], name=\"roi\")"
   ]
  },
  {
   "cell_type": "code",
   "execution_count": 27,
   "metadata": {
    "collapsed": false
   },
   "outputs": [],
   "source": [
    "frames = np.arange(-1, 5)\n",
    "timepoints = frames * 1.5 + 1\n",
    "up_timepoints = (np.linspace(0, 12, 25) - 1)[:-1]\n",
    "model = LogisticRegression()\n",
    "n_shuffle = 1000\n",
    "peak = slice(2, 4)\n",
    "shuffle_seed = sum(map(ord, \"featurediscrimination\"))"
   ]
  },
  {
   "cell_type": "code",
   "execution_count": 28,
   "metadata": {
    "collapsed": true
   },
   "outputs": [],
   "source": [
    "roi_colors = dict(lOFC=\"#CC3333\", mOFC=\"#3380CC\",)\n",
    "# roi_colors.update({\"aIFS\": \"#863D3D\", \"pIFS\": \"#7A5252\",\n",
    "#                    \"lh-IFS\": \"#D19494\", \"rh-IFS\": \"#C2A3A3\"})"
   ]
  },
  {
   "cell_type": "code",
   "execution_count": 29,
   "metadata": {
    "collapsed": false
   },
   "outputs": [
    {
     "data": {
      "text/html": [
       "<div style=\"max-height:1000px;max-width:1500px;overflow:auto;\">\n",
       "<table border=\"1\" class=\"dataframe\">\n",
       "  <thead>\n",
       "    <tr style=\"text-align: right;\">\n",
       "      <th></th>\n",
       "      <th>lOFC_fill_ser</th>\n",
       "      <th>mOFC_fill_ser</th>\n",
       "    </tr>\n",
       "  </thead>\n",
       "  <tbody>\n",
       "    <tr>\n",
       "      <th>mean</th>\n",
       "      <td>5955</td>\n",
       "      <td>4029</td>\n",
       "    </tr>\n",
       "    <tr>\n",
       "      <th>std</th>\n",
       "      <td>443</td>\n",
       "      <td>309</td>\n",
       "    </tr>\n",
       "  </tbody>\n",
       "</table>\n",
       "</div>"
      ],
      "text/plain": [
       "      lOFC_fill_ser  mOFC_fill_ser\n",
       "mean           5955           4029\n",
       "std             443            309"
      ]
     },
     "execution_count": 29,
     "metadata": {},
     "output_type": "execute_result"
    }
   ],
   "source": [
    "def dksort_roi_sizes():\n",
    "    roi_sizes = pd.DataFrame(columns=all_rois, index=subjects, dtype=float)\n",
    "    mask_template = op.join(data_dir, \"%s/masks/%s.nii.gz\")\n",
    "    for roi in roi_sizes:\n",
    "        for subj in subjects:\n",
    "            vox_count = nib.load(mask_template % (subj, roi)).get_data().sum()\n",
    "            roi_sizes.loc[subj, roi] = vox_count\n",
    "    return roi_sizes.describe().loc[[\"mean\", \"std\"]].astype(int)\n",
    "dksort_roi_sizes()"
   ]
  },
  {
   "cell_type": "code",
   "execution_count": 31,
   "metadata": {
    "collapsed": false
   },
   "outputs": [],
   "source": [
    "def fd_roi_signal():\n",
    "    roi_signal = pd.DataFrame(columns=all_rois, index=subjects, dtype=float)\n",
    "    for roi in all_rois:\n",
    "        signal = evoked.extract_group(roi, dv=dv4)\n",
    "        signal = [np.concatenate(d[\"data\"]).mean() for d in signal]\n",
    "        roi_signal[roi] = signal\n",
    "    return (roi_signal / 100).describe().loc[[\"mean\", \"std\"]]"
   ]
  },
  {
   "cell_type": "code",
   "execution_count": 32,
   "metadata": {
    "collapsed": false
   },
   "outputs": [
    {
     "name": "stdout",
     "output_type": "stream",
     "text": [
      "Mean number of artifacts: 27\n",
      "Percent artifact scans: 1.2%\n"
     ]
    }
   ],
   "source": [
    "def fd_artifact_counts():\n",
    "    artifacts = []\n",
    "    for subj in subjects:\n",
    "        if subj == 'fd_127' or subj == 'fd_133':\n",
    "            nruns = 2\n",
    "        else:\n",
    "            nruns = 3\n",
    "        subj_artifacts = 0\n",
    "        for run in range(1, nruns + 1):\n",
    "            art = pd.read_csv(op.join(anal_dir, \"sim_8mm/%s/preproc/run_%d/artifacts.csv\" % (subj, run)))\n",
    "            art = art.max(axis=1)\n",
    "            subj_artifacts += art.sum()\n",
    "        artifacts.append(subj_artifacts)\n",
    "    print \"Mean number of artifacts: %d\" % np.mean(artifacts)\n",
    "    print \"Percent artifact scans: %.1f%%\" % (np.mean(artifacts) / 2328 * 100)\n",
    "fd_artifact_counts()\n",
    "\n"
   ]
  },
  {
   "cell_type": "code",
   "execution_count": 33,
   "metadata": {
    "collapsed": false
   },
   "outputs": [],
   "source": [
    "def fd_decode(rois, cond):\n",
    "    \"\"\"Do the all the main decoding steps across sets of ROIs.\n",
    "    \n",
    "    Parameters\n",
    "    ----------\n",
    "    rois: list of strings\n",
    "        list of ROI names that can be easily mapped to a mask name\n",
    "    cond: string\n",
    "        name of condition corresponding to design file in data dir\n",
    "\n",
    "    Returns\n",
    "    -------\n",
    "    dictionary with the following entries\n",
    "        rois: list of roi names\n",
    "        accs: DataFrame with decoding accuracy. Index is hierarchical with\n",
    "              (ROI, subject), and columns are timepoint.\n",
    "        chance: DataFrame in same shape as `accs` with the mean value from\n",
    "                the shuffled null distribution for each test.\n",
    "        peak: DataFrame with decoding accuracy from data averaged over 3s\n",
    "              and 5s. Index is subject id and column is ROI.\n",
    "        null: DataFrame with maximum shuffled accuracy across timepoints.\n",
    "              Index is hierarchical with (subj, iteration) and columns\n",
    "              are ROIS.\n",
    "        ttest: DataFrame with ROIs in the index and (t, p, max_tp) for the\n",
    "               group average test against empirical chance in the\n",
    "               columns. `t` is the t statistic for the peak accuracy value,\n",
    "               and `p` is the corresponding p value corrected for multiple\n",
    "               comparisons across region and timepoint. max_tp is in seconds\n",
    "               relative to stimulus onset.\n",
    "        signif: DataFrame with the null distribution percentiles corresponding\n",
    "                to the best observed accuracy for each subject/ROI. Index is\n",
    "                hierarchical with (correction, subject) where correction can be\n",
    "                `time` or `omni` for the space of tests the percentile is corrected\n",
    "                against. columns are ROIs.\n",
    "                \n",
    "    \"\"\"    \n",
    "    # Set up the DataFrames to hold the persisent outputs\n",
    "    roi_index = moss.product_index([rois, subjects], [\"ROI\", \"subj\"])\n",
    "    columns = pd.Series(timepoints, name=\"timepoints\")\n",
    "    accs = pd.DataFrame(index=roi_index, columns=columns, dtype=float)\n",
    "\n",
    "    null_index = moss.product_index([subjects, np.arange(n_shuffle)], [\"subj\", \"iter\"])\n",
    "    null = pd.DataFrame(index=null_index, columns=pd.Series(rois, name=\"ROI\"), dtype=float)\n",
    "\n",
    "    peak_df = pd.DataFrame(index=subjects, columns=pd.Series(rois, name=\"ROI\"))\n",
    "    chance = pd.DataFrame(index=roi_index, columns=timepoints, dtype=float)\n",
    "    \n",
    "    # For each ROI load the data, decode, and simulate the null distribution\n",
    "    for roi in rois:\n",
    "#         mask = \"yeo17_\" + roi.lower()\n",
    "        mask = roi\n",
    "        \n",
    "        # Load the dataset and do the basic time-resolved decoding\n",
    "#         ds = mvpa.extract_group(rule, roi, mask, frames, confounds=\"rt\", dv=dv4)\n",
    "        ds = mvpa.extract_group(cond, roi, mask, frames,exp_name='ser_8mm', dv=dv)\n",
    "        roi_accs = mvpa.decode_group(ds, model, dv=dv)\n",
    "        accs.loc[roi, :] = roi_accs\n",
    "        \n",
    "        # Now do the shuffling and save the partially transformed null distribution\n",
    "        roi_null = mvpa.classifier_permutations(ds, model, n_iter=n_shuffle,\n",
    "                                                random_seed=shuffle_seed, dv=dv)\n",
    "        chance.loc[roi, :] = roi_null.mean(axis=1)\n",
    "        null[roi] = roi_null.max(axis=-1).ravel()\n",
    "\n",
    "        # Finally re-load the data averaging over the peak timepoints and decode\n",
    "        peak_ds = mvpa.extract_group(cond, roi, mask, frames, peak, dv=dv4)\n",
    "        peak_df[roi] = mvpa.decode_group(peak_ds, model, dv=dv)\n",
    "\n",
    "    # Do the group t tests\n",
    "    wide_accs = accs.unstack(level=\"ROI\")\n",
    "    wide_chance = chance.unstack(level=\"ROI\")\n",
    "    mus = wide_accs.mean(axis=0)\n",
    "    sds = wide_accs.std(axis=0)\n",
    "    ts, ps = moss.randomize_onesample(wide_accs, h_0=wide_chance)\n",
    "\n",
    "    # Build the t test output\n",
    "    t_df = pd.DataFrame(dict(t=ts, p=ps, mu=mus, sd=sds),\n",
    "                        index=wide_accs.columns, columns=[\"mu\", \"sd\", \"t\", \"p\"])\n",
    "    ttest = t_df.groupby(level=\"ROI\").apply(lambda x: x.loc[x.mu.idxmax()])\n",
    "    ttest[\"tp\"] = t_df.groupby(level=\"ROI\").mu.apply(lambda x: x.idxmax()[0])\n",
    "\n",
    "    # From the null distribution, find the percentile corresponding to the observed score\n",
    "    signif_index = moss.product_index([[\"time\", \"omni\"], subjects], [\"correction\", \"subj\"])    \n",
    "    signif = pd.DataFrame(index=signif_index, columns=rois, dtype=float)\n",
    "    for roi, roi_accs in accs.max(axis=1).groupby(level=\"ROI\"):\n",
    "        for subj, score in roi_accs.groupby(level=\"subj\"):\n",
    "            signif.loc[(\"time\", subj), roi] = stats.percentileofscore(null[roi], score[0])\n",
    "            signif.loc[(\"omni\", subj), roi] = stats.percentileofscore(null.max(axis=1), score[0])    \n",
    "\n",
    "    return dict(rois=rois, accs=accs, chance=chance, peak=peak_df,\n",
    "                null=null, ttest=ttest, signif=signif)"
   ]
  },
  {
   "cell_type": "code",
   "execution_count": 34,
   "metadata": {
    "collapsed": false,
    "scrolled": false
   },
   "outputs": [
    {
     "name": "stdout",
     "output_type": "stream",
     "text": [
      "0     fd_104\n",
      "1     fd_105\n",
      "2     fd_107\n",
      "3     fd_108\n",
      "4     fd_109\n",
      "5     fd_110\n",
      "6     fd_113\n",
      "7     fd_114\n",
      "8     fd_115\n",
      "9     fd_117\n",
      "10    fd_118\n",
      "11    fd_119\n",
      "12    fd_122\n",
      "13    fd_123\n",
      "14    fd_124\n",
      "15    fd_126\n",
      "16    fd_127\n",
      "17    fd_128\n",
      "18    fd_129\n",
      "19    fd_130\n",
      "20    fd_132\n",
      "21    fd_133\n",
      "22    fd_135\n",
      "23    fd_136\n",
      "24    fd_137\n",
      "25    fd_138\n",
      "26    fd_140\n",
      "Name: subj, dtype: object\n"
     ]
    },
    {
     "ename": "CompositeError",
     "evalue": "one or more exceptions from call to method: extract_subject\n[0:apply]: IndexError: list index out of range\n[1:apply]: IndexError: list index out of range\n[2:apply]: IndexError: list index out of range\n[3:apply]: IndexError: list index out of range\n.... 11 more exceptions ...",
     "output_type": "error",
     "traceback": [
      "[0:apply]: ",
      "\u001b[1;31m---------------------------------------------------------------------------\u001b[0m\u001b[1;31mIndexError\u001b[0m                                Traceback (most recent call last)\u001b[1;32m<string>\u001b[0m in \u001b[0;36m<module>\u001b[1;34m()\u001b[0m",
      "\u001b[1;32m/home/iballard/.local/lib/python2.7/site-packages/lyman/mvpa.pyc\u001b[0m in \u001b[0;36mextract_subject\u001b[1;34m(subj, problem, roi_name, mask_name, frames, collapse, confounds, upsample, smoothed, exp_name, event_names)\u001b[0m",
      "\u001b[0;32m    241\u001b[0m     \u001b[1;32mfor\u001b[0m \u001b[0mr_i\u001b[0m\u001b[1;33m,\u001b[0m \u001b[0msched_r\u001b[0m \u001b[1;32min\u001b[0m \u001b[0msched\u001b[0m\u001b[1;33m.\u001b[0m\u001b[0mgroupby\u001b[0m\u001b[1;33m(\u001b[0m\u001b[1;34m\"run\"\u001b[0m\u001b[1;33m)\u001b[0m\u001b[1;33m:\u001b[0m\u001b[1;33m\u001b[0m\u001b[0m",
      "\u001b[0;32m    242\u001b[0m         \u001b[1;32mprint\u001b[0m \u001b[0msubj\u001b[0m\u001b[1;33m\u001b[0m\u001b[0m",
      "\u001b[1;32m--> 243\u001b[1;33m         \u001b[0mts_data\u001b[0m \u001b[1;33m=\u001b[0m \u001b[0mnib\u001b[0m\u001b[1;33m.\u001b[0m\u001b[0mload\u001b[0m\u001b[1;33m(\u001b[0m\u001b[0mts_files\u001b[0m\u001b[1;33m[\u001b[0m\u001b[0mint\u001b[0m\u001b[1;33m(\u001b[0m\u001b[0mr_i\u001b[0m \u001b[1;33m-\u001b[0m \u001b[1;36m1\u001b[0m\u001b[1;33m)\u001b[0m\u001b[1;33m]\u001b[0m\u001b[1;33m)\u001b[0m\u001b[1;33m.\u001b[0m\u001b[0mget_data\u001b[0m\u001b[1;33m(\u001b[0m\u001b[1;33m)\u001b[0m\u001b[1;33m\u001b[0m\u001b[0m",
      "\u001b[0m\u001b[0;32m    244\u001b[0m \u001b[1;33m\u001b[0m\u001b[0m",
      "\u001b[0;32m    245\u001b[0m         \u001b[1;31m# Use the basic extractor function\u001b[0m\u001b[1;33m\u001b[0m\u001b[1;33m\u001b[0m\u001b[0m",
      "\u001b[1;31mIndexError\u001b[0m: list index out of range",
      "",
      "[1:apply]: ",
      "\u001b[1;31m---------------------------------------------------------------------------\u001b[0m\u001b[1;31mIndexError\u001b[0m                                Traceback (most recent call last)\u001b[1;32m<string>\u001b[0m in \u001b[0;36m<module>\u001b[1;34m()\u001b[0m",
      "\u001b[1;32m/home/iballard/.local/lib/python2.7/site-packages/lyman/mvpa.pyc\u001b[0m in \u001b[0;36mextract_subject\u001b[1;34m(subj, problem, roi_name, mask_name, frames, collapse, confounds, upsample, smoothed, exp_name, event_names)\u001b[0m",
      "\u001b[0;32m    241\u001b[0m     \u001b[1;32mfor\u001b[0m \u001b[0mr_i\u001b[0m\u001b[1;33m,\u001b[0m \u001b[0msched_r\u001b[0m \u001b[1;32min\u001b[0m \u001b[0msched\u001b[0m\u001b[1;33m.\u001b[0m\u001b[0mgroupby\u001b[0m\u001b[1;33m(\u001b[0m\u001b[1;34m\"run\"\u001b[0m\u001b[1;33m)\u001b[0m\u001b[1;33m:\u001b[0m\u001b[1;33m\u001b[0m\u001b[0m",
      "\u001b[0;32m    242\u001b[0m         \u001b[1;32mprint\u001b[0m \u001b[0msubj\u001b[0m\u001b[1;33m\u001b[0m\u001b[0m",
      "\u001b[1;32m--> 243\u001b[1;33m         \u001b[0mts_data\u001b[0m \u001b[1;33m=\u001b[0m \u001b[0mnib\u001b[0m\u001b[1;33m.\u001b[0m\u001b[0mload\u001b[0m\u001b[1;33m(\u001b[0m\u001b[0mts_files\u001b[0m\u001b[1;33m[\u001b[0m\u001b[0mint\u001b[0m\u001b[1;33m(\u001b[0m\u001b[0mr_i\u001b[0m \u001b[1;33m-\u001b[0m \u001b[1;36m1\u001b[0m\u001b[1;33m)\u001b[0m\u001b[1;33m]\u001b[0m\u001b[1;33m)\u001b[0m\u001b[1;33m.\u001b[0m\u001b[0mget_data\u001b[0m\u001b[1;33m(\u001b[0m\u001b[1;33m)\u001b[0m\u001b[1;33m\u001b[0m\u001b[0m",
      "\u001b[0m\u001b[0;32m    244\u001b[0m \u001b[1;33m\u001b[0m\u001b[0m",
      "\u001b[0;32m    245\u001b[0m         \u001b[1;31m# Use the basic extractor function\u001b[0m\u001b[1;33m\u001b[0m\u001b[1;33m\u001b[0m\u001b[0m",
      "\u001b[1;31mIndexError\u001b[0m: list index out of range",
      "",
      "[2:apply]: ",
      "\u001b[1;31m---------------------------------------------------------------------------\u001b[0m\u001b[1;31mIndexError\u001b[0m                                Traceback (most recent call last)\u001b[1;32m<string>\u001b[0m in \u001b[0;36m<module>\u001b[1;34m()\u001b[0m",
      "\u001b[1;32m/home/iballard/.local/lib/python2.7/site-packages/lyman/mvpa.pyc\u001b[0m in \u001b[0;36mextract_subject\u001b[1;34m(subj, problem, roi_name, mask_name, frames, collapse, confounds, upsample, smoothed, exp_name, event_names)\u001b[0m",
      "\u001b[0;32m    241\u001b[0m     \u001b[1;32mfor\u001b[0m \u001b[0mr_i\u001b[0m\u001b[1;33m,\u001b[0m \u001b[0msched_r\u001b[0m \u001b[1;32min\u001b[0m \u001b[0msched\u001b[0m\u001b[1;33m.\u001b[0m\u001b[0mgroupby\u001b[0m\u001b[1;33m(\u001b[0m\u001b[1;34m\"run\"\u001b[0m\u001b[1;33m)\u001b[0m\u001b[1;33m:\u001b[0m\u001b[1;33m\u001b[0m\u001b[0m",
      "\u001b[0;32m    242\u001b[0m         \u001b[1;32mprint\u001b[0m \u001b[0msubj\u001b[0m\u001b[1;33m\u001b[0m\u001b[0m",
      "\u001b[1;32m--> 243\u001b[1;33m         \u001b[0mts_data\u001b[0m \u001b[1;33m=\u001b[0m \u001b[0mnib\u001b[0m\u001b[1;33m.\u001b[0m\u001b[0mload\u001b[0m\u001b[1;33m(\u001b[0m\u001b[0mts_files\u001b[0m\u001b[1;33m[\u001b[0m\u001b[0mint\u001b[0m\u001b[1;33m(\u001b[0m\u001b[0mr_i\u001b[0m \u001b[1;33m-\u001b[0m \u001b[1;36m1\u001b[0m\u001b[1;33m)\u001b[0m\u001b[1;33m]\u001b[0m\u001b[1;33m)\u001b[0m\u001b[1;33m.\u001b[0m\u001b[0mget_data\u001b[0m\u001b[1;33m(\u001b[0m\u001b[1;33m)\u001b[0m\u001b[1;33m\u001b[0m\u001b[0m",
      "\u001b[0m\u001b[0;32m    244\u001b[0m \u001b[1;33m\u001b[0m\u001b[0m",
      "\u001b[0;32m    245\u001b[0m         \u001b[1;31m# Use the basic extractor function\u001b[0m\u001b[1;33m\u001b[0m\u001b[1;33m\u001b[0m\u001b[0m",
      "\u001b[1;31mIndexError\u001b[0m: list index out of range",
      "",
      "[3:apply]: ",
      "\u001b[1;31m---------------------------------------------------------------------------\u001b[0m\u001b[1;31mIndexError\u001b[0m                                Traceback (most recent call last)\u001b[1;32m<string>\u001b[0m in \u001b[0;36m<module>\u001b[1;34m()\u001b[0m",
      "\u001b[1;32m/home/iballard/.local/lib/python2.7/site-packages/lyman/mvpa.pyc\u001b[0m in \u001b[0;36mextract_subject\u001b[1;34m(subj, problem, roi_name, mask_name, frames, collapse, confounds, upsample, smoothed, exp_name, event_names)\u001b[0m",
      "\u001b[0;32m    241\u001b[0m     \u001b[1;32mfor\u001b[0m \u001b[0mr_i\u001b[0m\u001b[1;33m,\u001b[0m \u001b[0msched_r\u001b[0m \u001b[1;32min\u001b[0m \u001b[0msched\u001b[0m\u001b[1;33m.\u001b[0m\u001b[0mgroupby\u001b[0m\u001b[1;33m(\u001b[0m\u001b[1;34m\"run\"\u001b[0m\u001b[1;33m)\u001b[0m\u001b[1;33m:\u001b[0m\u001b[1;33m\u001b[0m\u001b[0m",
      "\u001b[0;32m    242\u001b[0m         \u001b[1;32mprint\u001b[0m \u001b[0msubj\u001b[0m\u001b[1;33m\u001b[0m\u001b[0m",
      "\u001b[1;32m--> 243\u001b[1;33m         \u001b[0mts_data\u001b[0m \u001b[1;33m=\u001b[0m \u001b[0mnib\u001b[0m\u001b[1;33m.\u001b[0m\u001b[0mload\u001b[0m\u001b[1;33m(\u001b[0m\u001b[0mts_files\u001b[0m\u001b[1;33m[\u001b[0m\u001b[0mint\u001b[0m\u001b[1;33m(\u001b[0m\u001b[0mr_i\u001b[0m \u001b[1;33m-\u001b[0m \u001b[1;36m1\u001b[0m\u001b[1;33m)\u001b[0m\u001b[1;33m]\u001b[0m\u001b[1;33m)\u001b[0m\u001b[1;33m.\u001b[0m\u001b[0mget_data\u001b[0m\u001b[1;33m(\u001b[0m\u001b[1;33m)\u001b[0m\u001b[1;33m\u001b[0m\u001b[0m",
      "\u001b[0m\u001b[0;32m    244\u001b[0m \u001b[1;33m\u001b[0m\u001b[0m",
      "\u001b[0;32m    245\u001b[0m         \u001b[1;31m# Use the basic extractor function\u001b[0m\u001b[1;33m\u001b[0m\u001b[1;33m\u001b[0m\u001b[0m",
      "\u001b[1;31mIndexError\u001b[0m: list index out of range",
      "",
      "... 11 more exceptions ..."
     ]
    }
   ],
   "source": [
    "subjects = pd.Series(lyman.determine_subjects(), name=\"subj\")\n",
    "print subjects\n",
    "ofc_state_sim = fd_decode(all_rois, \"ser_state\")"
   ]
  },
  {
   "cell_type": "code",
   "execution_count": 26,
   "metadata": {
    "collapsed": false
   },
   "outputs": [
    {
     "name": "stdout",
     "output_type": "stream",
     "text": [
      "{'rois': 0    lOFC\n",
      "1    mOFC\n",
      "Name: roi, dtype: object, 'chance':              -0.5   1.0   2.5   4.0   5.5   7.0\n",
      "ROI  subj                                      \n",
      "lOFC fd_104   0.5   0.5   0.5   0.5   0.5   0.5\n",
      "     fd_105   0.5   0.5   0.5   0.5   0.5   0.5\n",
      "     fd_107   0.5   0.5   0.5   0.5   0.5   0.5\n",
      "     fd_108   0.5   0.5   0.5   0.5   0.5   0.5\n",
      "     fd_109   0.5   0.5   0.5   0.5   0.5   0.5\n",
      "mOFC fd_104   0.5   0.5   0.5   0.5   0.5   0.5\n",
      "     fd_105   0.5   0.5   0.5   0.5   0.5   0.5\n",
      "     fd_107   0.5   0.5   0.5   0.5   0.5   0.5\n",
      "     fd_108   0.5   0.5   0.5   0.5   0.5   0.5\n",
      "     fd_109   0.5   0.5   0.5   0.5   0.5   0.5, 'peak': ROI     lOFC  mOFC\n",
      "subj              \n",
      "fd_104  0.47  0.53\n",
      "fd_105  0.42  0.45\n",
      "fd_107  0.52  0.58\n",
      "fd_108  0.49  0.62\n",
      "fd_109  0.46  0.53, 'signif': roi                 lOFC   mOFC\n",
      "correction subj                \n",
      "time       fd_104  20.31  43.78\n",
      "           fd_105  68.53  43.78\n",
      "           fd_107  75.05  90.43\n",
      "           fd_108  20.31  10.54\n",
      "           fd_109  78.78  58.04\n",
      "omni       fd_104   4.50  19.29\n",
      "           fd_105  48.57  19.29\n",
      "           fd_107  57.56  81.67\n",
      "           fd_108   4.50   1.24\n",
      "           fd_109  63.16  34.20, 'null': ROI          lOFC  mOFC\n",
      "subj   iter            \n",
      "fd_104 0     0.49  0.58\n",
      "       1     0.56  0.58\n",
      "       2     0.63  0.65\n",
      "       3     0.61  0.63\n",
      "       4     0.61  0.56\n",
      "       5     0.56  0.58\n",
      "       6     0.54  0.56\n",
      "       7     0.58  0.67\n",
      "       8     0.65  0.60\n",
      "       9     0.61  0.51\n",
      "       10    0.55  0.51\n",
      "       11    0.54  0.58\n",
      "       12    0.64  0.61\n",
      "       13    0.58  0.56\n",
      "       14    0.58  0.59\n",
      "       15    0.59  0.58\n",
      "       16    0.53  0.55\n",
      "       17    0.60  0.56\n",
      "       18    0.58  0.55\n",
      "       19    0.57  0.55\n",
      "       20    0.58  0.58\n",
      "       21    0.61  0.58\n",
      "       22    0.60  0.53\n",
      "       23    0.58  0.58\n",
      "       24    0.57  0.56\n",
      "       25    0.59  0.61\n",
      "       26    0.67  0.53\n",
      "       27    0.54  0.65\n",
      "       28    0.59  0.53\n",
      "       29    0.61  0.62\n",
      "...           ...   ...\n",
      "fd_109 970   0.58  0.63\n",
      "       971   0.56  0.53\n",
      "       972   0.58  0.53\n",
      "       973   0.60  0.60\n",
      "       974   0.60  0.55\n",
      "       975   0.52  0.54\n",
      "       976   0.48  0.56\n",
      "       977   0.60  0.56\n",
      "       978   0.58  0.57\n",
      "       979   0.59  0.61\n",
      "       980   0.56  0.62\n",
      "       981   0.61  0.47\n",
      "       982   0.55  0.54\n",
      "       983   0.58  0.50\n",
      "       984   0.57  0.49\n",
      "       985   0.60  0.53\n",
      "       986   0.53  0.50\n",
      "       987   0.56  0.52\n",
      "       988   0.64  0.72\n",
      "       989   0.53  0.58\n",
      "       990   0.57  0.57\n",
      "       991   0.54  0.58\n",
      "       992   0.52  0.59\n",
      "       993   0.52  0.55\n",
      "       994   0.60  0.52\n",
      "       995   0.64  0.55\n",
      "       996   0.60  0.56\n",
      "       997   0.53  0.56\n",
      "       998   0.63  0.58\n",
      "       999   0.54  0.52\n",
      "\n",
      "[5000 rows x 2 columns], 'ttest':         mu    sd     t     p   tp\n",
      "ROI                              \n",
      "lOFC  0.54  0.02  3.68  0.19  2.5\n",
      "mOFC  0.53  0.08  0.95  0.94  4.0, 'accs': timepoints   -0.5   1.0   2.5   4.0   5.5   7.0\n",
      "ROI  subj                                      \n",
      "lOFC fd_104  0.47  0.47  0.54  0.54  0.54  0.48\n",
      "     fd_105  0.58  0.45  0.55  0.50  0.55  0.59\n",
      "     fd_107  0.53  0.60  0.56  0.41  0.38  0.45\n",
      "     fd_108  0.32  0.46  0.53  0.38  0.47  0.54\n",
      "     fd_109  0.39  0.44  0.50  0.51  0.61  0.42\n",
      "mOFC fd_104  0.49  0.48  0.46  0.45  0.48  0.57\n",
      "     fd_105  0.45  0.43  0.52  0.57  0.47  0.45\n",
      "     fd_107  0.51  0.46  0.50  0.62  0.53  0.47\n",
      "     fd_108  0.43  0.46  0.50  0.45  0.53  0.52\n",
      "     fd_109  0.49  0.49  0.52  0.58  0.49  0.42}\n"
     ]
    }
   ],
   "source": [
    "print ofc_state_sim"
   ]
  },
  {
   "cell_type": "code",
   "execution_count": 41,
   "metadata": {
    "collapsed": false
   },
   "outputs": [],
   "source": [
    "def dksort_timecourse_figure(ax, data, ytick_args, err_style=\"ci_band\", legend=True, err_kws=None, **kwargs):\n",
    "    \"\"\"Plot time-resolved decoding accuracies for multiple ROIs\"\"\"\n",
    "    # Represent chance empirically based on the null distribution\n",
    "    chance = np.array(data[\"chance\"].mean(axis=0))\n",
    "    ax.plot(timepoints, chance, \"k--\")\n",
    "\n",
    "    # Plot the stimulus onset\n",
    "    ax.plot([0, 0], ytick_args[:2], ls=\":\", c=\"k\")\n",
    "    \n",
    "    # Draw the accuracy timecourse for each ROI\n",
    "    colors = [roi_colors[roi] for roi in data[\"rois\"]]\n",
    "    interpolate = not err_style == \"ci_bars\"\n",
    "    accs = pd.melt(data[\"accs\"].reset_index(), [\"subj\", \"ROI\"], value_name=\"acc\")\n",
    "    sns.tsplot(accs, time=\"timepoints\", unit=\"subj\", condition=\"ROI\", value=\"acc\",\n",
    "               color=colors, err_style=err_style, interpolate=interpolate, legend=legend,\n",
    "               err_kws=err_kws, ax=ax, **kwargs)\n",
    "\n",
    "    # Adjust the axis scales and tick labels\n",
    "    ylim = ytick_args[:2]\n",
    "    yticks = np.linspace(*ytick_args)\n",
    "    \n",
    "    ax.set_xlim(timepoints.min(), timepoints.max())\n",
    "    ax.set_ylim(ylim)\n",
    "    ax.set_yticks(yticks)\n",
    "\n",
    "    # Label the axes\n",
    "    ax.set_xlabel(\"Time relative to stimulus onset (s)\")\n",
    "    ax.set_ylabel(\"Cross-validated decoding accuracy\")\n",
    "    \n",
    "    # Make a legend with the ROIs\n",
    "    ax.legend(frameon=False, loc=\"upper right\")"
   ]
  },
  {
   "cell_type": "code",
   "execution_count": 42,
   "metadata": {
    "collapsed": false,
    "scrolled": true
   },
   "outputs": [
    {
     "ename": "NameError",
     "evalue": "name 'ofc_state' is not defined",
     "output_type": "error",
     "traceback": [
      "\u001b[1;31m---------------------------------------------------------------------------\u001b[0m",
      "\u001b[1;31mNameError\u001b[0m                                 Traceback (most recent call last)",
      "\u001b[1;32m<ipython-input-42-523406261b25>\u001b[0m in \u001b[0;36m<module>\u001b[1;34m()\u001b[0m\n\u001b[0;32m      2\u001b[0m \u001b[1;33m\u001b[0m\u001b[0m\n\u001b[0;32m      3\u001b[0m \u001b[0max_ts\u001b[0m \u001b[1;33m=\u001b[0m \u001b[0mf\u001b[0m\u001b[1;33m.\u001b[0m\u001b[0madd_axes\u001b[0m\u001b[1;33m(\u001b[0m\u001b[1;33m[\u001b[0m\u001b[1;36m.12\u001b[0m\u001b[1;33m,\u001b[0m \u001b[1;36m.53\u001b[0m\u001b[1;33m,\u001b[0m \u001b[1;36m.86\u001b[0m\u001b[1;33m,\u001b[0m \u001b[1;36m.45\u001b[0m\u001b[1;33m]\u001b[0m\u001b[1;33m)\u001b[0m\u001b[1;33m\u001b[0m\u001b[0m\n\u001b[1;32m----> 4\u001b[1;33m \u001b[0mdksort_timecourse_figure\u001b[0m\u001b[1;33m(\u001b[0m\u001b[0max_ts\u001b[0m\u001b[1;33m,\u001b[0m \u001b[0mofc_state\u001b[0m\u001b[1;33m,\u001b[0m \u001b[1;33m(\u001b[0m\u001b[1;36m.43\u001b[0m\u001b[1;33m,\u001b[0m \u001b[1;36m.57\u001b[0m\u001b[1;33m,\u001b[0m \u001b[1;36m5\u001b[0m\u001b[1;33m)\u001b[0m\u001b[1;33m)\u001b[0m\u001b[1;33m\u001b[0m\u001b[0m\n\u001b[0m\u001b[0;32m      5\u001b[0m \u001b[0mplt\u001b[0m\u001b[1;33m.\u001b[0m\u001b[0msavefig\u001b[0m\u001b[1;33m(\u001b[0m\u001b[1;34m'ser_decoding.tiff'\u001b[0m\u001b[1;33m,\u001b[0m \u001b[0mdpi\u001b[0m\u001b[1;33m=\u001b[0m\u001b[1;36m600\u001b[0m\u001b[1;33m,\u001b[0m \u001b[0morientation\u001b[0m \u001b[1;33m=\u001b[0m \u001b[1;34m'landscape'\u001b[0m\u001b[1;33m)\u001b[0m\u001b[1;33m\u001b[0m\u001b[0m\n",
      "\u001b[1;31mNameError\u001b[0m: name 'ofc_state' is not defined"
     ]
    },
    {
     "data": {
      "image/png": "[encoded data removed]",
      "text/plain": [
       "<matplotlib.figure.Figure at 0x7fca32f7de90>"
      ]
     },
     "metadata": {},
     "output_type": "display_data"
    }
   ],
   "source": [
    "f = plt.figure(figsize=(4.48, 5.5))\n",
    "\n",
    "ax_ts = f.add_axes([.12, .53, .86, .45])\n",
    "dksort_timecourse_figure(ax_ts, ofc_state, (.43, .57, 5))\n",
    "plt.savefig('ser_decoding.tiff', dpi=600, orientation = 'landscape')"
   ]
  },
  {
   "cell_type": "code",
   "execution_count": 43,
   "metadata": {
    "collapsed": false
   },
   "outputs": [
    {
     "name": "stderr",
     "output_type": "stream",
     "text": [
      "/usr/lib/pymodules/python2.7/matplotlib/font_manager.py:1246: UserWarning: findfont: Could not match :family=Bitstream Vera Sans:style=normal:variant=normal:weight=normal:stretch=normal:size=8.8. Returning /usr/share/matplotlib/mpl-data/fonts/ttf/cmb10.ttf\n",
      "  UserWarning)\n"
     ]
    },
    {
     "data": {
      "image/png": "[encoded data removed]",
      "text/plain": [
       "<matplotlib.figure.Figure at 0x7fca32beead0>"
      ]
     },
     "metadata": {},
     "output_type": "display_data"
    }
   ],
   "source": [
    "f = plt.figure(figsize=(4.48, 5.5))\n",
    "\n",
    "ax_ts = f.add_axes([.12, .53, .86, .45])\n",
    "dksort_timecourse_figure(ax_ts, ofc_state_sim, (.43, .57, 5))\n",
    "plt.savefig('sim_decoding.tiff', dpi=600, orientation = 'landscape')"
   ]
  },
  {
   "cell_type": "code",
   "execution_count": null,
   "metadata": {
    "collapsed": true
   },
   "outputs": [],
   "source": []
  }
 ],
 "metadata": {
  "kernelspec": {
   "display_name": "Python 2",
   "language": "python",
   "name": "python2"
  },
  "language_info": {
   "codemirror_mode": {
    "name": "ipython",
    "version": 2
   },
   "file_extension": ".py",
   "mimetype": "text/x-python",
   "name": "python",
   "nbconvert_exporter": "python",
   "pygments_lexer": "ipython2",
   "version": "2.7.6"
  }
 },
 "nbformat": 4,
 "nbformat_minor": 0
}
