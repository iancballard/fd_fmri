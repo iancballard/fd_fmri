{
 "cells": [
  {
   "cell_type": "markdown",
   "metadata": {},
   "source": [
    "#Sets up design files for PPI analysis for use in lyman"
   ]
  },
  {
   "cell_type": "code",
   "execution_count": 1,
   "metadata": {
    "collapsed": true
   },
   "outputs": [],
   "source": [
    "#os and i/o\n",
    "import os\n",
    "import numpy as np\n",
    "import glob\n",
    "from os.path import abspath\n",
    "import csv\n",
    "\n",
    "#scientific computing\n",
    "import matplotlib\n",
    "import matplotlib.pyplot as plt\n",
    "import pandas as pd\n",
    "from scipy import stats, optimize\n",
    "from pandas import DataFrame, Series\n",
    "from moss import glm\n",
    "import seaborn as sns\n",
    "import random as rd\n",
    "from statsmodels.formula.api import ols\n",
    "from statsmodels.stats.anova import anova_lm\n",
    "import scipy.stats\n",
    "\n",
    "#ipython add-ons\n",
    "from IPython.parallel import Client\n",
    "from IPython.display import Image\n",
    "import multiprocessing\n",
    "\n",
    "##nipype\n",
    "import nibabel as nib\n",
    "from nipype.pipeline.engine import Node, MapNode, Workflow\n",
    "from nipype.interfaces.io import DataGrabber, DataFinder, DataSink\n",
    "from nipype.interfaces import fsl\n",
    "from nipype.interfaces.fsl import ImageMeants\n",
    "from nipype.interfaces.fsl import ImageStats\n",
    "\n",
    "%matplotlib inline"
   ]
  },
  {
   "cell_type": "code",
   "execution_count": 2,
   "metadata": {
    "collapsed": true
   },
   "outputs": [],
   "source": [
    "#preliminary housekeeping\n",
    "home_dir = '/data/home/iballard/fd/'\n",
    "subj_file = home_dir + 'subjects.txt'\n",
    "sub_list = list(np.loadtxt(subj_file,'string'))\n",
    "os.chdir(home_dir)\n",
    "exps = ['sim','ser']\n",
    "runs = map(str,range(1,4))"
   ]
  },
  {
   "cell_type": "code",
   "execution_count": 3,
   "metadata": {
    "collapsed": true
   },
   "outputs": [],
   "source": [
    "#warp group statistical image back into subject space and make mask with OFC\n",
    "exp = 'ser'\n",
    "contrast = 'A_v_all'\n",
    "roi = 'mOFC'\n",
    "threshold = str(.9)\n",
    "stat_image = home_dir + '/analysis/group_ser_sim_4mm/' + contrast + '/'+ \\\n",
    "    contrast +'_tfce_corrp_tstat1.nii.gz'\n",
    "    \n",
    "for sub in sub_list:\n",
    "    \n",
    "    #set paths\n",
    "    sub_path = home_dir + 'analysis/' + exp + '_8mm/' + sub\n",
    "    mask_path = home_dir + '/data/' + sub\n",
    "    out_dir = mask_path + '/masks/' + contrast + '/'\n",
    "    if not os.path.exists(out_dir):\n",
    "        os.mkdir(out_dir)\n",
    "\n",
    "    #copy warpfile to make ANTs happy\n",
    "    warp = mask_path + '/normalization/inverse_warpfield.nii.gz'\n",
    "    warpfield = mask_path + '/normalization/InverseWarp.nii.gz'\n",
    "    cmd = ['ln','-s',warp, warpfield]\n",
    "    os.system(' '.join(cmd))\n",
    "\n",
    "    #warp to subject space\n",
    "    out_warp = out_dir + 'anat_space.nii.gz'\n",
    "    ref_file = fsl.Info.standard_image(\"avg152T1_brain.nii.gz\")\n",
    "    affine = home_dir + '/data/' + sub + '/normalization/affine.txt'\n",
    "    anat = home_dir + '/data/' + sub + '/anat/T1_native.nii.gz'\n",
    "    if not os.path.exists(out_warp):\n",
    "        cmd_str = ['WarpImageMultiTransform','3',stat_image,out_warp,'-i',affine,warpfield,\n",
    "                   '-R',anat]\n",
    "        cmd_str = ' '.join(cmd_str)\n",
    "        os.system(cmd_str)\n",
    "\n",
    "    #register to functional space\n",
    "    transform = sub_path + '/preproc/run_1/func2anat_tkreg.dat'\n",
    "    mean_func = sub_path + '/preproc/run_1/mean_func.nii.gz'\n",
    "    out_rigid = out_dir + 'func_space.nii.gz'\n",
    "    if not os.path.exists(out_rigid):\n",
    "        cmd_line = ['mri_vol2vol','--mov',mean_func,'--targ',out_warp,'--reg',transform,'--o',out_rigid,\n",
    "                    '--no-save-reg','--inv']\n",
    "        os.system(' '.join(cmd_line))\n",
    "\n",
    "    #mask, threshold, and binarize\n",
    "    out_mask = out_dir + roi + '_mask.nii.gz'\n",
    "    mask = mask_path + '/masks/' + roi + '_fill_' + exp + '.nii.gz'\n",
    "    if not os.path.exists(out_mask):\n",
    "        cmd = ['fslmaths',out_rigid,'-mas',mask,'-thr',threshold,'-bin',out_mask]\n",
    "        os.system(' '.join(cmd))\n"
   ]
  },
  {
   "cell_type": "markdown",
   "metadata": {},
   "source": [
    "#Extract timeseries from the mask"
   ]
  },
  {
   "cell_type": "code",
   "execution_count": 80,
   "metadata": {
    "collapsed": false
   },
   "outputs": [],
   "source": [
    "def extract_roi(in_tuple):\n",
    "    sub,exp,run,mask = in_tuple\n",
    "    \n",
    "    sub_path = home_dir + 'analysis/' + exp + '_8mm/' + sub + '/preproc/run_' + \\\n",
    "    run + '/'\n",
    "\n",
    "    #make sure to get coregistered preproc data\n",
    "    preproc_data = home_dir + 'analysis/' + exp + '_8mm/' + sub + '/reg/epi/unsmoothed/run_' \\\n",
    "    + str(run) + '/timeseries_xfm.nii.gz'\n",
    "\n",
    "    mask_dir = home_dir + 'data/' + sub + '/masks/A_v_all/' \n",
    "    out_dir = mask_dir + 'extractions/'\n",
    "    \n",
    "    if not os.path.exists(out_dir):\n",
    "        os.mkdir(out_dir)\n",
    "\n",
    "    mask_file = mask_dir + mask + '_mask.nii.gz'\n",
    "    out_f = out_dir + ('').join(map(str,in_tuple))+ '.txt'\n",
    "\n",
    "    if os.path.exists(sub_path):# and not os.path.exists(out_f):\n",
    "        meants = ImageMeants(in_file = preproc_data, eig = True, order = 1, \n",
    "                             mask = mask_file, out_file = out_f)\n",
    "        meants.run()"
   ]
  },
  {
   "cell_type": "code",
   "execution_count": 81,
   "metadata": {
    "collapsed": false
   },
   "outputs": [],
   "source": [
    "exps = ['ser']\n",
    "rois = ['mOFC']\n",
    "in_tuples = []\n",
    "for sub in sub_list:\n",
    "    for exp in exps:\n",
    "        for run in runs:\n",
    "            for mask in rois:\n",
    "                in_tuples.append((sub,exp,run,mask))"
   ]
  },
  {
   "cell_type": "code",
   "execution_count": 82,
   "metadata": {
    "collapsed": false
   },
   "outputs": [],
   "source": [
    "pool = multiprocessing.Pool(processes = 20)\n",
    "pool.map(extract_roi,in_tuples)\n",
    "pool.terminate()\n",
    "pool.join()"
   ]
  },
  {
   "cell_type": "markdown",
   "metadata": {},
   "source": [
    "#Set up design matrix"
   ]
  },
  {
   "cell_type": "code",
   "execution_count": 90,
   "metadata": {
    "collapsed": false
   },
   "outputs": [],
   "source": [
    "def write_design(in_tuple):\n",
    "    sub,exp = in_tuple\n",
    "\n",
    "    #hrf params\n",
    "    hrf = getattr(glm,'GammaDifferenceHRF')\n",
    "    tr = 1.5\n",
    "    hrf = hrf(tr = tr)\n",
    "    \n",
    "    out_f = home_dir + 'data/' + sub + '/design/ppi_regressors_' + exp + '.csv' #out file\n",
    "\n",
    "    if True:#not os.path.exists(out_f):\n",
    "        #load design data for this subjects\n",
    "        design_dir = home_dir + 'data/' + sub + '/design/'\n",
    "        design_file = design_dir + exp + '_ppi.csv'\n",
    "        design_data = pd.read_csv(design_file)\n",
    "\n",
    "        #load in pre-existing noise regressors\n",
    "        reg_file = design_dir + 'noise_regressors_' + exp + '.csv'\n",
    "        regressors = pd.read_csv(reg_file)\n",
    "\n",
    "        #initialize vars to fill\n",
    "        convolved_ev = []\n",
    "        ts = []\n",
    "        for run in runs:\n",
    "            sub_file = home_dir + 'analysis/ser_4mm/' + sub + '/preproc/run_' + str(run) + '/smoothed_timeseries.nii.gz'\n",
    "\n",
    "            if os.path.exists(sub_file):\n",
    "                ntp = nib.load(sub_file).shape[-1] #get number of time points\n",
    "                design = design_data[design_data['run']==int(run)]\n",
    "        \n",
    "                model = glm.DesignMatrix(design = design, tr = tr, ntp = ntp, hrf_model = hrf, hpf_cutoff = 128)\n",
    "                convolved_ev.extend(model.design_matrix['state'].values) #get timeseries for regressor of interest\n",
    "\n",
    "                #load ts data\n",
    "                mask_dir = home_dir + 'data/' + sub + '/masks/A_v_all/extractions/' \n",
    "                fid = (sub,exp,run,mask)\n",
    "                mask_f = mask_dir + ('').join(map(str,fid))+ '.txt'\n",
    "                roi_ts = np.loadtxt(mask_f)\n",
    "                roi_ts = roi_ts - np.mean(roi_ts) #mean center\n",
    "                ts.extend(roi_ts)\n",
    "\n",
    "        #update regressors dataframe\n",
    "        regressors[mask] = ts #add ts to the regressors DF\n",
    "        regressors['state'] = convolved_ev\n",
    "        regressors['interaction'] = regressors['state'] * regressors[mask] #interaction regressor\n",
    "\n",
    "        #write outpt\n",
    "        regressors.to_csv(out_f, header=True,index = False, columns = ['wm','ventricles',mask,'interaction','run'])\n",
    "        \n",
    "        return regressors\n",
    "regressors  = write_design(('fd_104','ser'))    "
   ]
  },
  {
   "cell_type": "code",
   "execution_count": 85,
   "metadata": {
    "collapsed": false
   },
   "outputs": [],
   "source": [
    "exps = ['ser']\n",
    "in_tuples = []\n",
    "for sub in sub_list:\n",
    "    for exp in exps:\n",
    "        in_tuples.append((sub,exp))"
   ]
  },
  {
   "cell_type": "code",
   "execution_count": 87,
   "metadata": {
    "collapsed": false,
    "scrolled": false
   },
   "outputs": [],
   "source": [
    "# pool = multiprocessing.Pool(processes = len(in_tuples))\n",
    "# pool.map(write_design,in_tuples)\n",
    "# pool.terminate()\n",
    "# pool.join()"
   ]
  },
  {
   "cell_type": "code",
   "execution_count": 7,
   "metadata": {
    "collapsed": false
   },
   "outputs": [],
   "source": [
    "def write_design(in_tuple):\n",
    "    sub,exp = in_tuple\n",
    "    mask = 'mOFC'\n",
    "    #hrf params\n",
    "    hrf = getattr(glm,'GammaDifferenceHRF')\n",
    "    tr = 1.5\n",
    "    hrf = hrf(tr = tr)\n",
    "    \n",
    "    out_f = home_dir + 'data/' + sub + '/design/ppi_A_regressors_' + exp + '.csv' #out file\n",
    "\n",
    "    if True:#not os.path.exists(out_f):\n",
    "        #load design data for this subjects\n",
    "        design_dir = home_dir + 'data/' + sub + '/design/'\n",
    "        design_file = design_dir + exp + '_PE_diff.csv'\n",
    "        design_data = pd.read_csv(design_file)\n",
    "\n",
    "        #load in pre-existing noise regressors\n",
    "        reg_file = design_dir + 'noise_regressors_' + exp + '.csv'\n",
    "        regressors = pd.read_csv(reg_file)\n",
    "\n",
    "        #initialize vars to fill\n",
    "        convolved_ev = []\n",
    "        ts = []\n",
    "        for run in runs:\n",
    "            sub_file = home_dir + 'analysis/ser_4mm/' + sub + '/preproc/run_' + str(run) + '/smoothed_timeseries.nii.gz'\n",
    "\n",
    "            if os.path.exists(sub_file):\n",
    "                ntp = nib.load(sub_file).shape[-1] #get number of time points\n",
    "                design = design_data[design_data['run']==int(run)]\n",
    "        \n",
    "                model = glm.DesignMatrix(design = design, tr = tr, ntp = ntp, hrf_model = hrf, hpf_cutoff = 128)\n",
    "                convolved_ev.extend(model.design_matrix['A'].values) #get timeseries for regressor of interest\n",
    "\n",
    "                #load ts data\n",
    "                mask_dir = home_dir + 'data/' + sub + '/masks/A_v_all/extractions/' \n",
    "                fid = (sub,exp,run,mask)\n",
    "                mask_f = mask_dir + ('').join(map(str,fid))+ '.txt'\n",
    "                roi_ts = np.loadtxt(mask_f)\n",
    "                roi_ts = roi_ts - np.mean(roi_ts) #mean center\n",
    "                ts.extend(roi_ts)\n",
    "                \n",
    "        ##centre convolved ev (see fsl docs)\n",
    "        diff = max(convolved_ev)  - (max(convolved_ev) - min(convolved_ev))/2.0\n",
    "        convolved_ev = convolved_ev - diff\n",
    "                   \n",
    "        #update regressors dataframe\n",
    "        regressors[mask] = ts #add ts to the regressors DF\n",
    "        regressors['A'] = convolved_ev\n",
    "        regressors['interaction'] = regressors['A'] * regressors[mask] #interaction regressor\n",
    "\n",
    "        #orthogonalize noise regressors to speed up computation\n",
    "        regressors['ventricles'] = vector_rejection(regressors['ventricles'],regressors['wm'])\n",
    "        \n",
    "        #write outpt\n",
    "        regressors.to_csv(out_f, header=True,index = False, columns = ['wm','ventricles',mask,'interaction','run'])\n",
    "        return regressors\n",
    "regressors = write_design(('fd_104','ser'))"
   ]
  },
  {
   "cell_type": "code",
   "execution_count": 4,
   "metadata": {
    "collapsed": true
   },
   "outputs": [],
   "source": [
    "def vector_rejection(a,b):\n",
    "    return a - (np.dot(a,b)/np.dot(b,b) * b)"
   ]
  },
  {
   "cell_type": "code",
   "execution_count": 147,
   "metadata": {
    "collapsed": false,
    "scrolled": true
   },
   "outputs": [],
   "source": [
    "pool = multiprocessing.Pool(processes = len(in_tuples))\n",
    "pool.map(write_design,in_tuples)\n",
    "pool.terminate()\n",
    "pool.join()"
   ]
  },
  {
   "cell_type": "code",
   "execution_count": 119,
   "metadata": {
    "collapsed": false
   },
   "outputs": [
    {
     "data": {
      "text/plain": [
       "<matplotlib.axes._subplots.AxesSubplot at 0x7f88d01cb390>"
      ]
     },
     "execution_count": 119,
     "metadata": {},
     "output_type": "execute_result"
    },
    {
     "data": {
      "image/png": "[encoded data removed]",
      "text/plain": [
       "<matplotlib.figure.Figure at 0x7f88c8086ed0>"
      ]
     },
     "metadata": {},
     "output_type": "display_data"
    }
   ],
   "source": [
    "sns.tsplot(regressors['A'][0:100])"
   ]
  },
  {
   "cell_type": "code",
   "execution_count": 134,
   "metadata": {
    "collapsed": false
   },
   "outputs": [
    {
     "name": "stdout",
     "output_type": "stream",
     "text": [
      "0.0123225598058\n"
     ]
    },
    {
     "data": {
      "text/plain": [
       "<matplotlib.axes._subplots.AxesSubplot at 0x7f88a6338c90>"
      ]
     },
     "execution_count": 134,
     "metadata": {},
     "output_type": "execute_result"
    },
    {
     "data": {
      "image/png": "[encoded data removed]",
      "text/plain": [
       "<matplotlib.figure.Figure at 0x7f88a6338d10>"
      ]
     },
     "metadata": {},
     "output_type": "display_data"
    }
   ],
   "source": [
    "diff = max(regressors['A'])  - (max(regressors['A']) - min(regressors['A']))/2\n",
    "b = regressors['A'] - diff\n",
    "# print (max(regressors['A']) - min(regressors['A']))/2\n",
    "# print np.mean(regressors['A'])\n",
    "print (max(regressors['A']) - min(regressors['A']))/2\n",
    "sns.tsplot(b[0:400])"
   ]
  },
  {
   "cell_type": "code",
   "execution_count": 19,
   "metadata": {
    "collapsed": false
   },
   "outputs": [
    {
     "data": {
      "text/plain": [
       "0.4206783057462718"
      ]
     },
     "execution_count": 19,
     "metadata": {},
     "output_type": "execute_result"
    }
   ],
   "source": [
    "np.dot(regressors['A'].values,regressors['mOFC'].values )"
   ]
  },
  {
   "cell_type": "code",
   "execution_count": null,
   "metadata": {
    "collapsed": true
   },
   "outputs": [],
   "source": []
  }
 ],
 "metadata": {
  "kernelspec": {
   "display_name": "Python 2",
   "language": "python",
   "name": "python2"
  },
  "language_info": {
   "codemirror_mode": {
    "name": "ipython",
    "version": 2
   },
   "file_extension": ".py",
   "mimetype": "text/x-python",
   "name": "python",
   "nbconvert_exporter": "python",
   "pygments_lexer": "ipython2",
   "version": "2.7.6"
  }
 },
 "nbformat": 4,
 "nbformat_minor": 0
}
