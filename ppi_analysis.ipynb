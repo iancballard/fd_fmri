{
 "cells": [
  {
   "cell_type": "markdown",
   "metadata": {},
   "source": [
    "#Sets up design files for PPI analysis for use in lyman"
   ]
  },
  {
   "cell_type": "code",
   "execution_count": 1,
   "metadata": {
    "collapsed": true
   },
   "outputs": [],
   "source": [
    "#os and i/o\n",
    "import os\n",
    "import numpy as np\n",
    "import glob\n",
    "from os.path import abspath\n",
    "import csv\n",
    "\n",
    "#scientific computing\n",
    "import matplotlib\n",
    "import matplotlib.pyplot as plt\n",
    "import pandas as pd\n",
    "from scipy import stats, optimize\n",
    "from pandas import DataFrame, Series\n",
    "from moss import glm\n",
    "import seaborn as sns\n",
    "import random as rd\n",
    "from statsmodels.formula.api import ols\n",
    "from statsmodels.stats.anova import anova_lm\n",
    "import scipy.stats\n",
    "\n",
    "#ipython add-ons\n",
    "from IPython.parallel import Client\n",
    "from IPython.display import Image\n",
    "import multiprocessing\n",
    "\n",
    "##nipype\n",
    "import nibabel as nib\n",
    "from nipype.pipeline.engine import Node, MapNode, Workflow\n",
    "from nipype.interfaces.io import DataGrabber, DataFinder, DataSink\n",
    "from nipype.interfaces import fsl\n",
    "from nipype.interfaces.fsl import ImageMeants\n",
    "from nipype.interfaces.fsl import ImageStats\n",
    "\n",
    "%matplotlib inline"
   ]
  },
  {
   "cell_type": "code",
   "execution_count": 2,
   "metadata": {
    "collapsed": true
   },
   "outputs": [],
   "source": [
    "#preliminary housekeeping\n",
    "home_dir = '/data/home/iballard/fd/'\n",
    "subj_file = home_dir + 'subjects.txt'\n",
    "sub_list = list(np.loadtxt(subj_file,'string'))\n",
    "os.chdir(home_dir)\n",
    "exps = ['sim','ser']\n",
    "runs = map(str,range(1,4))"
   ]
  },
  {
   "cell_type": "code",
   "execution_count": 61,
   "metadata": {
    "collapsed": true
   },
   "outputs": [],
   "source": [
    "def vector_rejection(a,b):\n",
    "    return a - (np.dot(a,b)/np.dot(b,b) * b)"
   ]
  },
  {
   "cell_type": "markdown",
   "metadata": {},
   "source": [
    "#Extract timeseries from the mask"
   ]
  },
  {
   "cell_type": "code",
   "execution_count": 80,
   "metadata": {
    "collapsed": false
   },
   "outputs": [],
   "source": [
    "def extract_roi(in_tuple):\n",
    "    sub,exp,run,mask = in_tuple\n",
    "    \n",
    "    sub_path = home_dir + 'analysis/' + exp + '_4mm/' + sub + '/preproc/run_' + \\\n",
    "    run + '/'\n",
    "\n",
    "    #make sure to get coregistered preproc data\n",
    "    preproc_data = home_dir + 'analysis/' + exp + '_4mm/' + sub + '/reg/epi/unsmoothed/run_' \\\n",
    "    + str(run) + '/timeseries_xfm.nii.gz'\n",
    "\n",
    "    mask_dir = home_dir + 'data/' + sub + '/masks/vta/' \n",
    "    out_dir = mask_dir + 'extractions/'\n",
    "    \n",
    "    if not os.path.exists(out_dir):\n",
    "        os.mkdir(out_dir)\n",
    "\n",
    "    mask_file = mask_dir + mask + '_mask.nii.gz'\n",
    "    out_f = out_dir + ('').join(map(str,in_tuple))+ '.txt'\n",
    "\n",
    "    if os.path.exists(sub_path):# and not os.path.exists(out_f):\n",
    "        meants = ImageMeants(in_file = preproc_data, eig = True, order = 1, \n",
    "                             mask = mask_file, out_file = out_f)\n",
    "        meants.run()"
   ]
  },
  {
   "cell_type": "code",
   "execution_count": 105,
   "metadata": {
    "collapsed": false
   },
   "outputs": [],
   "source": [
    "def extract_roi_prob(in_tuple):\n",
    "    sub,exp,run,mask = in_tuple\n",
    "    \n",
    "    sub_path = home_dir + 'analysis/' + exp + '_4mm/' + sub + '/preproc/run_' + \\\n",
    "    run + '/'\n",
    "\n",
    "    #make sure to get coregistered preproc data\n",
    "    preproc_data = home_dir + 'analysis/' + exp + '_4mm/' + sub + '/reg/epi/unsmoothed/run_' \\\n",
    "    + str(run) + '/timeseries_xfm.nii.gz'\n",
    "\n",
    "    mask_dir = home_dir + 'data/' + sub + '/masks/' + mask + '/' \n",
    "    out_dir = mask_dir + 'extractions/'\n",
    "\n",
    "    prob_file = mask_dir + exp + '_' + mask + '_func_space.nii.gz'\n",
    "    mask_file = mask_dir + exp + '_' + mask + '_mask.nii.gz'\n",
    "    out_f = out_dir + ('').join(map(str,in_tuple))+ '.txt'\n",
    "    tmp_out = mask_dir + sub + exp + run + '.nii.gz'\n",
    "\n",
    "    if os.path.exists(sub_path):# and not os.path.exists(out_f):\n",
    "        cmd = ['fslmaths',preproc_data,'-mul',prob_file,tmp_out]\n",
    "        cmd = ' '.join(cmd)\n",
    "        os.system(cmd)\n",
    "        \n",
    "        meants = ImageMeants(in_file = tmp_out, eig = True, order = 1, \n",
    "                             mask = mask_file, out_file = out_f)\n",
    "        meants.run()\n",
    "        os.remove(tmp_out)"
   ]
  },
  {
   "cell_type": "code",
   "execution_count": 106,
   "metadata": {
    "collapsed": false
   },
   "outputs": [],
   "source": [
    "exps = ['ser','sim']\n",
    "rois = ['vta']\n",
    "in_tuples = []\n",
    "for sub in ['fd_104']:#sub_list:\n",
    "    for exp in exps:\n",
    "        for run in runs:\n",
    "            for mask in rois:\n",
    "                in_tuples.append((sub,exp,run,mask))"
   ]
  },
  {
   "cell_type": "code",
   "execution_count": 107,
   "metadata": {
    "collapsed": false
   },
   "outputs": [],
   "source": [
    "pool = multiprocessing.Pool(processes = 14)\n",
    "pool.map(extract_roi_prob,in_tuples)\n",
    "pool.terminate()\n",
    "pool.join()"
   ]
  },
  {
   "cell_type": "markdown",
   "metadata": {},
   "source": [
    "#Set up design matrix"
   ]
  },
  {
   "cell_type": "code",
   "execution_count": 121,
   "metadata": {
    "collapsed": false
   },
   "outputs": [],
   "source": [
    "def write_design(in_tuple):\n",
    "    mask = 'vta'\n",
    "    sub,exp = in_tuple\n",
    "    #hrf params\n",
    "    hrf = getattr(glm,'GammaDifferenceHRF')\n",
    "    tr = 1.5\n",
    "    hrf = hrf(tr = tr)\n",
    "\n",
    "    out_f = home_dir + 'data/' + sub + '/design/ppi_regressors_' + exp + '_' + mask + '.csv' #out file\n",
    "\n",
    "    if True:#not os.path.exists(out_f):\n",
    "        #load design data for this subjects \n",
    "        design_dir = home_dir + 'data/' + sub + '/design/'\n",
    "        design_file = design_dir + exp + '_ppi.csv'\n",
    "        design_data = pd.read_csv(design_file)\n",
    "\n",
    "        #load in pre-existing noise regressors\n",
    "        reg_file = design_dir + 'noise_regressors_' + exp + '.csv'\n",
    "        regressors = pd.read_csv(reg_file)\n",
    "\n",
    "        #initialize vars to fill\n",
    "        convolved_ev = []\n",
    "        ts = []\n",
    "        for run in runs:\n",
    "            sub_file = home_dir + 'analysis/' + exp + '_4mm/' + sub + '/preproc/run_' + str(run) + '/unsmoothed_timeseries.nii.gz'\n",
    "\n",
    "            if os.path.exists(sub_file):\n",
    "                ntp = nib.load(sub_file).shape[-1] #get number of time points\n",
    "                design = design_data[design_data['run']==int(run)]\n",
    "\n",
    "                model = glm.DesignMatrix(design = design, tr = tr, ntp = ntp, hrf_model = hrf, hpf_cutoff = 128)\n",
    "                convolved_ev.extend(model.design_matrix['state'].values) #get timeseries for regressor of interest\n",
    "\n",
    "                #load ts data\n",
    "                mask_dir = home_dir + 'data/' + sub + '/masks/vta/extractions/' \n",
    "                fid = (sub,exp,run,mask)\n",
    "                mask_f = mask_dir + ('').join(map(str,fid))+ '.txt'\n",
    "                roi_ts = np.loadtxt(mask_f)\n",
    "                roi_ts = roi_ts - np.mean(roi_ts) #mean center\n",
    "                ts.extend(roi_ts)\n",
    "\n",
    "        #update regressors dataframe\n",
    "        ts = scipy.stats.zscore(ts) #add ts to the regressors DF\n",
    "\n",
    "        ##centre convolved ev (see fsl docs)\n",
    "        diff = max(convolved_ev) - (max(convolved_ev) - min(convolved_ev))/2.0\n",
    "        convolved_ev = convolved_ev - diff\n",
    "        regressors['interaction'] = convolved_ev * ts #interaction regressor\n",
    "\n",
    "        #orthogonalize noise regressors to speed up computation\n",
    "        ts = vector_rejection(ts,regressors['ventricles'])\n",
    "        ts = vector_rejection(ts,regressors['wm'])\n",
    "        regressors[mask] = ts\n",
    "\n",
    "        #write outpt\n",
    "        regressors.to_csv(out_f, header=True,index = False, columns = ['wm','ventricles',mask,'interaction','run'])"
   ]
  },
  {
   "cell_type": "code",
   "execution_count": 130,
   "metadata": {
    "collapsed": false
   },
   "outputs": [],
   "source": [
    "exps = ['ser','sim']\n",
    "in_tuples = []\n",
    "for sub in sub_list:\n",
    "    if True:\n",
    "        for exp in exps:\n",
    "            in_tuples.append((sub,exp))"
   ]
  },
  {
   "cell_type": "code",
   "execution_count": 131,
   "metadata": {
    "collapsed": false,
    "scrolled": false
   },
   "outputs": [],
   "source": [
    "pool = multiprocessing.Pool(processes = len(in_tuples))\n",
    "pool.map(write_design,in_tuples)\n",
    "pool.terminate()\n",
    "pool.join()"
   ]
  },
  {
   "cell_type": "code",
   "execution_count": null,
   "metadata": {
    "collapsed": false
   },
   "outputs": [],
   "source": []
  }
 ],
 "metadata": {
  "kernelspec": {
   "display_name": "Python 2",
   "language": "python",
   "name": "python2"
  },
  "language_info": {
   "codemirror_mode": {
    "name": "ipython",
    "version": 2
   },
   "file_extension": ".py",
   "mimetype": "text/x-python",
   "name": "python",
   "nbconvert_exporter": "python",
   "pygments_lexer": "ipython2",
   "version": "2.7.6"
  }
 },
 "nbformat": 4,
 "nbformat_minor": 0
}
