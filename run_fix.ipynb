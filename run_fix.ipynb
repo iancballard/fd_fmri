{
 "cells": [
  {
   "cell_type": "code",
   "execution_count": 1,
   "metadata": {
    "collapsed": true
   },
   "outputs": [],
   "source": [
    "#os and i/o\n",
    "import os\n",
    "import numpy as np\n",
    "import glob\n",
    "from os.path import abspath\n",
    "import csv\n",
    "import shutil\n",
    "\n",
    "#scientific computing\n",
    "import matplotlib\n",
    "import matplotlib.pyplot as plt\n",
    "import pandas as pd\n",
    "from scipy import stats, optimize\n",
    "from pandas import DataFrame, Series\n",
    "import seaborn as sns\n",
    "import random as rd\n",
    "from statsmodels.formula.api import ols\n",
    "from statsmodels.stats.anova import anova_lm\n",
    "import scipy.stats\n",
    "\n",
    "#ipython add-ons\n",
    "from IPython.parallel import Client\n",
    "from IPython.display import Image\n",
    "import multiprocessing\n",
    "\n",
    "##nipype\n",
    "import nibabel as nib\n",
    "from nipype.pipeline.engine import Node, MapNode, Workflow\n",
    "from nipype.interfaces.io import DataGrabber, DataFinder, DataSink\n",
    "from nipype.interfaces import fsl\n",
    "from nipype.interfaces.fsl import BET\n",
    "from nipype.interfaces.freesurfer.preprocess import ReconAll\n",
    "from nipype.interfaces.freesurfer.utils import MakeAverageSubject\n",
    "from nipype.interfaces.fsl import ExtractROI\n",
    "from nipype.interfaces.fsl import Merge\n",
    "from nipype.interfaces.fsl import TOPUP\n",
    "from nipype.interfaces.fsl import ApplyTOPUP\n",
    "from nipype.workflows.fmri.fsl import create_susan_smooth\n",
    "\n",
    "\n",
    "%matplotlib inline"
   ]
  },
  {
   "cell_type": "code",
   "execution_count": 2,
   "metadata": {
    "collapsed": true
   },
   "outputs": [],
   "source": [
    "#preliminary housekeeping\n",
    "home_dir = '/data/home/iballard/fd/'\n",
    "subj_file = home_dir + 'subjects.txt'\n",
    "sub_list = list(np.loadtxt(subj_file,'string'))\n",
    "fix_cmd = '/home/iballard/fix1.06/fix'\n",
    "os.chdir(home_dir)"
   ]
  },
  {
   "cell_type": "code",
   "execution_count": 3,
   "metadata": {
    "collapsed": true
   },
   "outputs": [],
   "source": [
    "in_tuples = []\n",
    "for sub in sub_list:\n",
    "    for exp in ['loc']:\n",
    "        for run in range(1,3):\n",
    "            in_tuples.append((sub,exp,str(run)))"
   ]
  },
  {
   "cell_type": "code",
   "execution_count": 4,
   "metadata": {
    "collapsed": false
   },
   "outputs": [],
   "source": [
    "#make symbolic links and directory structure that fix expects\n",
    "for sub in sub_list:\n",
    "    for exp in ['loc']:\n",
    "        for run in ['1','2']:\n",
    "\n",
    "            sub_dir = home_dir + 'analysis/' + exp + '/' + sub + '/preproc/run_' + run + '/'\n",
    "            \n",
    "            if os.path.exists(sub_dir):\n",
    "                melodic_dir = sub_dir + 'melodic/'\n",
    "                ica_outputs_dir = melodic_dir + 'filtered_func_data.ica/'\n",
    "                reg_dir = melodic_dir + 'reg/'\n",
    "                motion_dir = melodic_dir + 'mc/'\n",
    "\n",
    "                if not os.path.exists(ica_outputs_dir):\n",
    "                    os.mkdir(ica_outputs_dir)         \n",
    "\n",
    "                    #move ica outputs from melodic dir to ica outputs dur\n",
    "                    cmd_str = 'mv ' + melodic_dir + '* ' + ica_outputs_dir\n",
    "                    os.system(cmd_str)\n",
    "\n",
    "                    if not os.path.exists(reg_dir):\n",
    "                        os.mkdir(reg_dir)\n",
    "                    if not os.path.exists(motion_dir):\n",
    "                        os.mkdir(motion_dir)\n",
    "\n",
    "                    old = sub_dir + 'unsmoothed_timeseries.nii.gz'\n",
    "                    new = melodic_dir + 'filtered_func_data.nii.gz'\n",
    "                    cmd_str = 'ln -s ' + old + ' ' + new\n",
    "                    if not os.path.exists(new):\n",
    "                        os.system(cmd_str)\n",
    "\n",
    "                    old = sub_dir + 'functional_mask.nii.gz'\n",
    "                    new = melodic_dir + 'mask.nii.gz'\n",
    "                    cmd_str = 'ln -s ' + old + ' ' + new\n",
    "                    if not os.path.exists(new):\n",
    "                        os.system(cmd_str)\n",
    "\n",
    "                    old = sub_dir + 'mean_func.nii.gz'\n",
    "                    new = melodic_dir + 'mean_func.nii.gz'\n",
    "                    cmd_str = 'ln -s ' + old + ' ' + new\n",
    "                    if not os.path.exists(new):\n",
    "                        os.system(cmd_str)\n",
    "\n",
    "                    old = sub_dir + 'example_func.nii.gz'\n",
    "                    new = reg_dir + 'example_func.nii.gz'\n",
    "                    cmd_str = 'ln -s ' + old + ' ' + new\n",
    "                    if not os.path.exists(new):\n",
    "                        os.system(cmd_str)\n",
    "\n",
    "                    old = sub_dir + 'func2anat_flirt.mat'\n",
    "                    new = reg_dir + 'highres2example_func.mat'\n",
    "                    cmd_str = 'convert_xfm -omat ' + new + ' -inverse ' + old\n",
    "                    if not os.path.exists(new):\n",
    "                        os.system(cmd_str)\n",
    "\n",
    "                    old = home_dir + 'analysis/workingdir/antswarp/_subject_id_' + sub + '/convertbrain/brain_out.nii.gz'\n",
    "                    new = reg_dir + 'highres.nii.gz'\n",
    "                    cmd_str = 'ln -s ' + old + ' ' + new\n",
    "                    if not os.path.exists(new):\n",
    "                        os.system(cmd_str)\n",
    "\n",
    "                    ##deal with motion data\n",
    "                    data = pd.DataFrame.from_csv(sub_dir + 'realignment_params.csv')\n",
    "                    data.to_csv(motion_dir + 'prefiltered_func_data_mcf.par',' ',\n",
    "                                columns = ['rot_x','rot_y','rot_z','trans_x','trans_y','trans_z'],\n",
    "                               header = False, index = False)\n",
    "                else:\n",
    "                    print exp + ' ' + sub + ' ' + run\n"
   ]
  },
  {
   "cell_type": "code",
   "execution_count": 5,
   "metadata": {
    "collapsed": false
   },
   "outputs": [],
   "source": [
    "def extract_features(in_tuple):\n",
    "    sub, exp, run = in_tuple\n",
    "    \n",
    "    sub_path = home_dir + 'analysis/' + exp + '/' + sub + '/preproc/run_' + run + '/melodic'\n",
    "    fix_dir = sub_path + '/fix'\n",
    "    \n",
    "    if os.path.exists(sub_path) and not os.path.exists(fix_dir):\n",
    "        cmd_str = fix_cmd + ' -f ' + sub_path\n",
    "        os.system(cmd_str)"
   ]
  },
  {
   "cell_type": "code",
   "execution_count": 6,
   "metadata": {
    "collapsed": false,
    "scrolled": true
   },
   "outputs": [],
   "source": [
    "pool = multiprocessing.Pool(processes = 24)\n",
    "pool.map(extract_features,in_tuples)\n",
    "pool.terminate()\n",
    "pool.join()"
   ]
  },
  {
   "cell_type": "code",
   "execution_count": 12,
   "metadata": {
    "collapsed": false
   },
   "outputs": [],
   "source": [
    "def classify_features(thresh_tuple):\n",
    "    sub, exp, run, thresh = thresh_tuple\n",
    "    sub_path = home_dir + 'analysis/' + exp + '/' + sub + '/preproc/run_' + run + '/melodic'\n",
    "    training_file = '/home/iballard/fix1.06/training_files/WhII_MB6.RData'\n",
    "    thresh_file = sub_path + '/fix4melview_WhII_MB6_thr' + thresh + '.txt'\n",
    "    \n",
    "    if not os.path.exists(thresh_file):\n",
    "        cmd_str = fix_cmd + ' -c ' + sub_path + ' ' + training_file + ' ' + thresh\n",
    "        os.system(cmd_str)"
   ]
  },
  {
   "cell_type": "code",
   "execution_count": 13,
   "metadata": {
    "collapsed": false
   },
   "outputs": [],
   "source": [
    "thresholds = ['5','10','15','20','25','30']\n",
    "thresh_tuple = []\n",
    "for sub in sub_list:\n",
    "    for exp in ['loc']:\n",
    "        for run in range(1,4):\n",
    "            for thresh in thresholds:\n",
    "                thresh_tuple.append((sub,exp,str(run),thresh))"
   ]
  },
  {
   "cell_type": "code",
   "execution_count": 14,
   "metadata": {
    "collapsed": false
   },
   "outputs": [],
   "source": [
    "pool = multiprocessing.Pool(processes = 48)\n",
    "pool.map(classify_features,thresh_tuple)\n",
    "pool.terminate()\n",
    "pool.join()"
   ]
  },
  {
   "cell_type": "code",
   "execution_count": 18,
   "metadata": {
    "collapsed": false
   },
   "outputs": [],
   "source": [
    "#exame what Fix wants to remove for different thresholds\n",
    "thresholds = ['5','10','15','20','25','30']\n",
    "bad_pcs = {} #percentage of bad pcs\n",
    "pcs_list = {} #actual bad PC list\n",
    "total_pcs = {} #total # of pcs\n",
    "conds = ['loc']\n",
    "for thresh in thresholds:\n",
    "    for cond in conds:\n",
    "        bad_pcs[(cond,thresh)] = []  \n",
    "\n",
    "for sub in sub_list:\n",
    "    for exp in conds:\n",
    "        for run in ['1','2','3']:\n",
    "                        \n",
    "            sub_dir = home_dir + 'analysis/' + exp + '/' + sub + '/preproc/run_' + run + '/'\n",
    "\n",
    "            if os.path.exists(sub_dir):\n",
    "                for thresh in thresholds:\n",
    "                    id_tuple = (exp,sub,run,thresh)\n",
    "\n",
    "                    thresh_file = sub_dir + 'melodic/fix4melview_WhII_MB6_thr' + thresh + '.txt'\n",
    "                    with open(thresh_file) as f:\n",
    "                        lines = f.readlines()\n",
    "                        pcs = lines[-1]\n",
    "                        if pcs.strip('\\n') == '[]':\n",
    "                            pcs_list[id_tuple] = []\n",
    "                        else:\n",
    "                            pcs = pcs.strip('[')[:-1].strip(']').strip('\\n').split(',')\n",
    "                            pcs_list[id_tuple] = map(int,pcs)\n",
    "                        \n",
    "                        total_pcs[id_tuple] = float(lines[-2].split(',')[0])\n",
    "\n",
    "                        perc_bad_pcs = [len(pcs_list[id_tuple])/total_pcs[id_tuple]]\n",
    "                        bad_pcs[(exp,thresh)] = np.hstack([bad_pcs[(exp,thresh)]\n",
    "                                                  ,perc_bad_pcs])\n",
    "                                  \n",
    "            else:\n",
    "                perc_bad_pcs = np.nan\n",
    "                for thresh in thresholds:\n",
    "                    bad_pcs[(exp,thresh)] = np.hstack([bad_pcs[(exp,thresh)]\n",
    "                                              ,perc_bad_pcs])\n"
   ]
  },
  {
   "cell_type": "code",
   "execution_count": 19,
   "metadata": {
    "collapsed": false
   },
   "outputs": [
    {
     "name": "stderr",
     "output_type": "stream",
     "text": [
      "/home/iballard/.local/lib/python2.7/site-packages/seaborn/categorical.py:1613: UserWarning: The boxplot API has been changed. Attempting to adjust your arguments for the new API (which might not work). Please update your code. See the version 0.6 release notes for more info.\n",
      "  warnings.warn(msg, UserWarning)\n"
     ]
    },
    {
     "data": {
      "text/plain": [
       "<matplotlib.axes._subplots.AxesSubplot at 0x7fe2d8958650>"
      ]
     },
     "execution_count": 19,
     "metadata": {},
     "output_type": "execute_result"
    },
    {
     "data": {
      "image/png": "[encoded data removed]",
      "text/plain": [
       "<matplotlib.figure.Figure at 0x7fe2d89f7f10>"
      ]
     },
     "metadata": {},
     "output_type": "display_data"
    }
   ],
   "source": [
    "bad_pcs = pd.DataFrame(bad_pcs)\n",
    "sns.boxplot(bad_pcs)"
   ]
  },
  {
   "cell_type": "code",
   "execution_count": 20,
   "metadata": {
    "collapsed": false
   },
   "outputs": [],
   "source": [
    "##compute percentage of total variance\n",
    "\n",
    "#initialize bad pc dictionary\n",
    "bad_pc_total_variance = {}\n",
    "for thresh in thresholds:\n",
    "    for cond in conds:\n",
    "        bad_pc_total_variance[(cond,thresh)] = []  \n",
    "\n",
    "run_id = []\n",
    "\n",
    "good_subs = [s for s in sub_list if s not in ['fd_143','fd_146']]\n",
    "for sub in good_subs:\n",
    "    for run in ['1','2','3']:\n",
    "        for exp in conds:\n",
    "            sub_dir = home_dir + 'analysis/' + exp + '/' + sub + '/preproc/run_' + run + '/'\n",
    "\n",
    "            if os.path.exists(sub_dir):\n",
    "                id_tuple = (exp,sub,run,thresh)\n",
    "                #get list of how much variance is explained by each ic from the report file\n",
    "                ic_variance = []\n",
    "                for ic in range(1,int(total_pcs[id_tuple]) + 1):\n",
    "                    ic_file = sub_dir + 'melodic/filtered_func_data.ica/report/IC_' + str(ic) + '.html'\n",
    "                    with open(ic_file) as f:\n",
    "                        html_str = f.readlines()\n",
    "                        html_str = ','.join(html_str)\n",
    "                        index = html_str.find('% of total variance') #can also look at explained variance\n",
    "                        ic_variance.append(float(html_str[index - 5:index-1]))\n",
    "                        \n",
    "                #compute total variance explained by bad ics for each threshold level\n",
    "                for thresh in thresholds:\n",
    "                    id_tuple = (exp,sub,run,thresh)\n",
    "\n",
    "                    indices = [i - 1 for i in pcs_list[id_tuple]] #convert to indices (indexing starts at 1 here)\n",
    "                    bad_ic_variance = [ic_variance[i] for i in indices]\n",
    "                    bad_ic_variance = np.sum(bad_ic_variance) \n",
    "                    bad_pc_total_variance[(exp,thresh)] = np.hstack([bad_pc_total_variance[(exp,thresh)]\n",
    "                                                                     ,bad_ic_variance])\n",
    "            else:\n",
    "                bad_ic_variance = np.nan\n",
    "                for thresh in thresholds:\n",
    "                    bad_pc_total_variance[(exp,thresh)] = np.hstack([bad_pc_total_variance[(exp,thresh)]\n",
    "                                                                     ,bad_ic_variance])\n",
    "        run_id.append((sub,run))   \n"
   ]
  },
  {
   "cell_type": "code",
   "execution_count": 21,
   "metadata": {
    "collapsed": false,
    "scrolled": true
   },
   "outputs": [
    {
     "name": "stderr",
     "output_type": "stream",
     "text": [
      "/home/iballard/.local/lib/python2.7/site-packages/seaborn/categorical.py:1613: UserWarning: The boxplot API has been changed. Attempting to adjust your arguments for the new API (which might not work). Please update your code. See the version 0.6 release notes for more info.\n",
      "  warnings.warn(msg, UserWarning)\n"
     ]
    },
    {
     "data": {
      "text/plain": [
       "<matplotlib.axes._subplots.AxesSubplot at 0x7fe2d878b4d0>"
      ]
     },
     "execution_count": 21,
     "metadata": {},
     "output_type": "execute_result"
    },
    {
     "data": {
      "image/png": "[encoded data removed]",
      "text/plain": [
       "<matplotlib.figure.Figure at 0x7fe2d87d64d0>"
      ]
     },
     "metadata": {},
     "output_type": "display_data"
    }
   ],
   "source": [
    "bad_pc_total_variance = pd.DataFrame(bad_pc_total_variance)\n",
    "sns.boxplot(bad_pc_total_variance)"
   ]
  },
  {
   "cell_type": "code",
   "execution_count": 49,
   "metadata": {
    "collapsed": false
   },
   "outputs": [
    {
     "name": "stdout",
     "output_type": "stream",
     "text": [
      "sim[]\n",
      "ser[('fd_109', '1')]\n"
     ]
    }
   ],
   "source": [
    "# outlier_thresh = bad_pc_total_variance.mean() + 2* bad_pc_total_variance.std()\n",
    "iqr = bad_pc_total_variance.quantile(.75) - bad_pc_total_variance.quantile(.25)\n",
    "outlier_thresh =  bad_pc_total_variance.quantile(.75) + 3 *iqr\n",
    "for exp in ['sim','ser']:\n",
    "    for thresh in thresholds:\n",
    "        if thresh == '20':\n",
    "            data = bad_pc_total_variance[exp][thresh].values\n",
    "            thresh = outlier_thresh[exp][thresh]\n",
    "            suspect_indices = data > thresh \n",
    "            bad_runs = [x for n,x in enumerate(run_id) if suspect_indices[n]]\n",
    "            print exp + str(bad_runs)"
   ]
  },
  {
   "cell_type": "code",
   "execution_count": 51,
   "metadata": {
    "collapsed": false
   },
   "outputs": [],
   "source": [
    "##project out the bad components\n",
    "def clean_data(in_tuple):\n",
    "    threshold = '20'\n",
    "    sub, exp, run = in_tuple\n",
    "    \n",
    "    sub_path = home_dir + 'analysis/' + exp + '/' + sub + '/preproc/run_' + run + '/melodic'\n",
    "\n",
    "    thresh_file = sub_path +'/fix4melview_WhII_MB6_thr' + threshold + '.txt'\n",
    "    cmd_str = fix_cmd + ' -a ' + thresh_file \n",
    "    \n",
    "    new_file = sub_path + '/filtered_func_data_clean.nii.gz'\n",
    "\n",
    "\n",
    "    if os.path.exists(sub_path) and not os.path.exists(new_file):\n",
    "#         os.system(cmd_str)\n",
    "        print cmd_str"
   ]
  },
  {
   "cell_type": "code",
   "execution_count": 50,
   "metadata": {
    "collapsed": false,
    "scrolled": true
   },
   "outputs": [],
   "source": [
    "pool = multiprocessing.Pool(processes = 10)\n",
    "pool.map(clean_data,in_tuples)\n",
    "pool.terminate()\n",
    "pool.join()"
   ]
  },
  {
   "cell_type": "code",
   "execution_count": 24,
   "metadata": {
    "collapsed": false
   },
   "outputs": [],
   "source": [
    "def smooth_cleaned_data(in_tuple):\n",
    "    sub, exp, run = in_tuple\n",
    "    \n",
    "    sub_path = home_dir + 'analysis/' + exp + '_8mm/' + sub + '/preproc/run_' + run\n",
    "    smooth_dir = 'smoothed' + run + exp + sub\n",
    "    if os.path.exists(sub_path) and not os.path.exists(abspath('smoothed/' + smooth_dir)): #if not already run\n",
    "        #set up workflow\n",
    "        wf = Workflow(name = 'smooth')\n",
    "        wf.basedir = abspath('./analysis/')\n",
    "\n",
    "        susan = create_susan_smooth()\n",
    "        susan.inputs.inputnode.fwhm = 4\n",
    "        susan.inputs.inputnode.in_files = sub_path + '/melodic/filtered_func_data_clean.nii.gz'\n",
    "        susan.inputs.inputnode.mask_file = sub_path + '/functional_mask.nii.gz'\n",
    "\n",
    "        ##set up Data Sink\n",
    "        sinker = Node(DataSink(), name = 'sinker')\n",
    "        sinker.inputs.base_directory = abspath('smoothed')\n",
    "        wf.connect(susan,'outputnode.smoothed_files',sinker,smooth_dir)\n",
    "        wf.run()"
   ]
  },
  {
   "cell_type": "code",
   "execution_count": 54,
   "metadata": {
    "collapsed": false,
    "scrolled": true
   },
   "outputs": [],
   "source": [
    "# pool = multiprocessing.Pool(processes = 2)\n",
    "# pool.map(smooth_cleaned_data,in_tuples)\n",
    "# pool.terminate()\n",
    "# pool.join()\n",
    "# #use more than you think you need, because each WF requests multiple processes"
   ]
  },
  {
   "cell_type": "code",
   "execution_count": 53,
   "metadata": {
    "collapsed": false
   },
   "outputs": [],
   "source": [
    "#rearrange directory structure to trick lyman into thinking cleaned data is its own\n",
    "for in_tuple in in_tuples:\n",
    "    sub, exp, run = in_tuple\n",
    "    \n",
    "    if sub != 'fd_104':\n",
    "\n",
    "        sub_path = home_dir + 'analysis/' + exp + '/' + sub + '/preproc/run_' + run\n",
    "\n",
    "        if os.path.exists(sub_path):\n",
    "    #         smooth_clean = home_dir + '/smoothed/smoothed' + run + exp + sub + '/_smooth0/' + \\\n",
    "    #         'filtered_func_data_clean_smooth.nii.gz'\n",
    "\n",
    "            new_dir = sub_path + '/uncleaned_data'\n",
    "            if not os.path.exists(new_dir):\n",
    "                os.mkdir(new_dir)\n",
    "\n",
    "            #move old lyman files inside new_dir if they arent there already\n",
    "            old_smooth = sub_path + '/smoothed_timeseries.nii.gz'\n",
    "            old_unsmoothed = sub_path + '/unsmoothed_timeseries.nii.gz'\n",
    "            if not os.path.exists(new_dir + '/smoothed_timeseries.nii.gz'):\n",
    "                shutil.move(old_smooth,new_dir)\n",
    "            if not os.path.exists(new_dir + '/unsmoothed_timeseries.nii.gz'):\n",
    "                shutil.move(old_unsmoothed,new_dir)\n",
    "\n",
    "            #move cleaned and smoothed data\n",
    "#             if os.path.exists(smooth_clean) and not os.path.exists(old_smooth):\n",
    "#                 os.rename(smooth_clean,old_smooth)\n",
    "\n",
    "            #create a symbolic link to cleaned and unsmoothed data\n",
    "            if not os.path.exists(old_unsmoothed):\n",
    "                cmd_str = 'ln -s ' + sub_path + '/melodic/filtered_func_data_clean.nii.gz ' + \\\n",
    "                old_unsmoothed\n",
    "                os.system(cmd_str)"
   ]
  },
  {
   "cell_type": "code",
   "execution_count": null,
   "metadata": {
    "collapsed": false
   },
   "outputs": [],
   "source": []
  },
  {
   "cell_type": "code",
   "execution_count": 182,
   "metadata": {
    "collapsed": false
   },
   "outputs": [],
   "source": [
    "##create an archive of lyman directories\n",
    "for in_tuple in in_tuples:\n",
    "    sub = in_tuple[0]\n",
    "    exp = in_tuple[1]\n",
    "    run = str(in_tuple[2])\n",
    "    \n",
    "    sub_path = home_dir + 'analysis/' + exp + '_8mm/' + sub +'/'\n",
    "\n",
    "    if os.path.exists(sub_path):\n",
    "\n",
    "        archive_dir = sub_path + 'uncleaned'\n",
    "        if not os.path.exists(archive_dir):\n",
    "            os.mkdir(archive_dir)\n",
    "        \n",
    "        if os.listdir(archive_dir) == []:\n",
    "            dir_contents = glob.glob(sub_path + '*')\n",
    "            dir_contents = [f for f in dir_contents if f.split('/')[-1:][0] not in ['preproc','uncleaned']]\n",
    "\n",
    "            for f in dir_contents:\n",
    "                if os.path.exists(f):\n",
    "                    shutil.move(f,archive_dir)"
   ]
  },
  {
   "cell_type": "code",
   "execution_count": null,
   "metadata": {
    "collapsed": false
   },
   "outputs": [],
   "source": []
  },
  {
   "cell_type": "code",
   "execution_count": null,
   "metadata": {
    "collapsed": true
   },
   "outputs": [],
   "source": []
  }
 ],
 "metadata": {
  "kernelspec": {
   "display_name": "Python 2",
   "language": "python",
   "name": "python2"
  },
  "language_info": {
   "codemirror_mode": {
    "name": "ipython",
    "version": 2
   },
   "file_extension": ".py",
   "mimetype": "text/x-python",
   "name": "python",
   "nbconvert_exporter": "python",
   "pygments_lexer": "ipython2",
   "version": "2.7.6"
  }
 },
 "nbformat": 4,
 "nbformat_minor": 0
}
