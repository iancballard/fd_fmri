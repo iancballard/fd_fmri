{
 "cells": [
  {
   "cell_type": "code",
   "execution_count": 1,
   "metadata": {
    "collapsed": true
   },
   "outputs": [],
   "source": [
    "#os and i/o\n",
    "import os\n",
    "import numpy as np\n",
    "import glob\n",
    "from os.path import abspath\n",
    "import csv\n",
    "\n",
    "#scientific computing\n",
    "import matplotlib\n",
    "import matplotlib.pyplot as plt\n",
    "import pandas as pd\n",
    "from scipy import stats, optimize\n",
    "from pandas import DataFrame, Series\n",
    "import seaborn as sns\n",
    "import random as rd\n",
    "from statsmodels.formula.api import ols\n",
    "from statsmodels.stats.anova import anova_lm\n",
    "import scipy.stats\n",
    "\n",
    "#ipython add-ons\n",
    "from IPython.parallel import Client\n",
    "from IPython.display import Image\n",
    "import multiprocessing\n",
    "\n",
    "##nipype\n",
    "import nibabel as nib\n",
    "from nipype.pipeline.engine import Node, MapNode, Workflow\n",
    "from nipype.interfaces.io import DataGrabber, DataFinder, DataSink\n",
    "from nipype.interfaces import fsl\n",
    "from nipype.interfaces.fsl import BET\n",
    "from nipype.interfaces.freesurfer.preprocess import ReconAll\n",
    "from nipype.interfaces.freesurfer.utils import MakeAverageSubject\n",
    "from nipype.interfaces.fsl import ExtractROI\n",
    "from nipype.interfaces.fsl import Merge\n",
    "from nipype.interfaces.fsl import TOPUP\n",
    "from nipype.interfaces.fsl import ApplyTOPUP\n",
    "\n",
    "%matplotlib inline"
   ]
  },
  {
   "cell_type": "code",
   "execution_count": 2,
   "metadata": {
    "collapsed": true
   },
   "outputs": [],
   "source": [
    "#preliminary housekeeping\n",
    "home_dir = '/data/home/iballard/fd/'\n",
    "subj_file = home_dir + 'subjects_ser.txt'\n",
    "sub_list = list(np.loadtxt(subj_file,'string'))\n",
    "os.chdir(home_dir)"
   ]
  },
  {
   "cell_type": "code",
   "execution_count": 3,
   "metadata": {
    "collapsed": false
   },
   "outputs": [
    {
     "name": "stdout",
     "output_type": "stream",
     "text": [
      "ser fd_127 3\n",
      "sim fd_127 3\n",
      "sim fd_133 3\n"
     ]
    }
   ],
   "source": [
    "#make symbolic links and directory structure that fix expects\n",
    "for sub in sub_list:\n",
    "    for exp in ['ser','sim']:\n",
    "        for run in ['1','2','3']:\n",
    "\n",
    "            sub_dir = home_dir + 'analysis/' + exp + '_8mm/' + sub + '/preproc/run_' + run + '/'\n",
    "            \n",
    "            if os.path.exists(sub_dir):\n",
    "                melodic_dir = sub_dir + 'melodic/'\n",
    "                ica_outputs_dir = melodic_dir + 'filtered_func_data.ica/'\n",
    "                reg_dir = melodic_dir + 'reg/'\n",
    "                motion_dir = melodic_dir + 'mc/'\n",
    "\n",
    "                if not os.path.exists(ica_outputs_dir):\n",
    "                    os.mkdir(ica_outputs_dir)         \n",
    "\n",
    "                #move ica outputs from melodic dir to ica outputs dur\n",
    "                cmd_str = 'mv ' + melodic_dir + '* ' + ica_outputs_dir\n",
    "                os.system(cmd_str)\n",
    "\n",
    "                if not os.path.exists(reg_dir):\n",
    "                    os.mkdir(reg_dir)\n",
    "                if not os.path.exists(motion_dir):\n",
    "                    os.mkdir(motion_dir)\n",
    "\n",
    "                old = sub_dir + 'unsmoothed_timeseries.nii.gz'\n",
    "                new = melodic_dir + 'filtered_func_data.nii.gz'\n",
    "                cmd_str = 'ln -s ' + old + ' ' + new\n",
    "                if not os.path.exists(new):\n",
    "                    os.system(cmd_str)\n",
    "\n",
    "                old = sub_dir + 'functional_mask.nii.gz'\n",
    "                new = melodic_dir + 'mask.nii.gz'\n",
    "                cmd_str = 'ln -s ' + old + ' ' + new\n",
    "                if not os.path.exists(new):\n",
    "                    os.system(cmd_str)\n",
    "\n",
    "                old = sub_dir + 'mean_func.nii.gz'\n",
    "                new = melodic_dir + 'mean_func.nii.gz'\n",
    "                cmd_str = 'ln -s ' + old + ' ' + new\n",
    "                if not os.path.exists(new):\n",
    "                    os.system(cmd_str)\n",
    "\n",
    "                old = sub_dir + 'example_func.nii.gz'\n",
    "                new = reg_dir + 'example_func.nii.gz'\n",
    "                cmd_str = 'ln -s ' + old + ' ' + new\n",
    "                if not os.path.exists(new):\n",
    "                    os.system(cmd_str)\n",
    "\n",
    "                old = sub_dir + 'func2anat_flirt.mat'\n",
    "                new = reg_dir + 'highres2example_func.mat'\n",
    "                cmd_str = 'convert_xfm -omat ' + new + ' -inverse ' + old\n",
    "                if not os.path.exists(new):\n",
    "                    os.system(cmd_str)\n",
    "\n",
    "                old = home_dir + 'analysis/workingdir/antswarp/_subject_id_' + sub + '/convertbrain/brain_out.nii.gz'\n",
    "                new = reg_dir + 'highres.nii.gz'\n",
    "                cmd_str = 'ln -s ' + old + ' ' + new\n",
    "                if not os.path.exists(new):\n",
    "                    os.system(cmd_str)\n",
    "\n",
    "                ##deal with motion data\n",
    "                data = pd.DataFrame.from_csv(sub_dir + 'realignment_params.csv')\n",
    "                data.to_csv(motion_dir + 'prefiltered_func_data_mcf.par',' ',\n",
    "                            columns = ['rot_x','rot_y','rot_z','trans_x','trans_y','trans_z'],\n",
    "                           header = False, index = False)\n",
    "            else:\n",
    "                print exp + ' ' + sub + ' ' + run\n"
   ]
  },
  {
   "cell_type": "code",
   "execution_count": 4,
   "metadata": {
    "collapsed": false
   },
   "outputs": [],
   "source": [
    "def extract_features(in_tuple):\n",
    "    thresholds = ['5','10','15','20','25','30']\n",
    "    sub = in_tuple[0]\n",
    "    exp = in_tuple[1]\n",
    "    run = str(in_tuple[2])\n",
    "    \n",
    "    fix_cmd = '/home/iballard/fix1.06/fix'\n",
    "    sub_path = home_dir + 'analysis/' + exp + '_8mm/' + sub + '/preproc/run_' + run + '/melodic'\n",
    "    training_file = '/home/iballard/fix1.06/training_files/WhII_MB6.RData'\n",
    "\n",
    "    if os.path.exists(sub_path):\n",
    "        cmd_str = fix_cmd + ' -f ' + sub_path\n",
    "        os.system(cmd_str)\n",
    "        \n",
    "        for thresh in thresholds:\n",
    "            cmd_str = fix_cmd + ' -c ' + sub_path + ' ' + training_file + ' ' + thresh\n",
    "            os.system(cmd_str)"
   ]
  },
  {
   "cell_type": "code",
   "execution_count": null,
   "metadata": {
    "collapsed": false,
    "scrolled": false
   },
   "outputs": [],
   "source": [
    "in_tuples = []\n",
    "for sub in sub_list:\n",
    "    for exp in ['ser','sim']:\n",
    "        for run in range(1,4):\n",
    "            in_tuples.append((sub,exp,run))\n",
    "\n",
    "pool = multiprocessing.Pool(processes = 24)\n",
    "pool.map(extract_features,in_tuples)"
   ]
  },
  {
   "cell_type": "code",
   "execution_count": null,
   "metadata": {
    "collapsed": true
   },
   "outputs": [],
   "source": []
  }
 ],
 "metadata": {
  "kernelspec": {
   "display_name": "Python 2",
   "language": "python",
   "name": "python2"
  },
  "language_info": {
   "codemirror_mode": {
    "name": "ipython",
    "version": 2
   },
   "file_extension": ".py",
   "mimetype": "text/x-python",
   "name": "python",
   "nbconvert_exporter": "python",
   "pygments_lexer": "ipython2",
   "version": "2.7.6"
  }
 },
 "nbformat": 4,
 "nbformat_minor": 0
}
