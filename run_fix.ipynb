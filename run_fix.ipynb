{
 "cells": [
  {
   "cell_type": "code",
   "execution_count": 1,
   "metadata": {
    "collapsed": false
   },
   "outputs": [
    {
     "name": "stderr",
     "output_type": "stream",
     "text": [
      "/home/iballard/anaconda/lib/python2.7/site-packages/IPython/parallel.py:13: ShimWarning: The `IPython.parallel` package has been deprecated. You should import from ipyparallel instead.\n",
      "  \"You should import from ipyparallel instead.\", ShimWarning)\n"
     ]
    }
   ],
   "source": [
    "#os and i/o\n",
    "import os\n",
    "import numpy as np\n",
    "import glob\n",
    "from os.path import abspath\n",
    "import csv\n",
    "import shutil\n",
    "\n",
    "#scientific computing\n",
    "import matplotlib\n",
    "import matplotlib.pyplot as plt\n",
    "import pandas as pd\n",
    "from scipy import stats, optimize\n",
    "from pandas import DataFrame, Series\n",
    "import seaborn as sns\n",
    "import random as rd\n",
    "from statsmodels.formula.api import ols\n",
    "from statsmodels.stats.anova import anova_lm\n",
    "import scipy.stats\n",
    "\n",
    "#ipython add-ons\n",
    "from IPython.parallel import Client\n",
    "from IPython.display import Image\n",
    "import multiprocessing\n",
    "\n",
    "##nipype\n",
    "import nibabel as nib\n",
    "from nipype.pipeline.engine import Node, MapNode, Workflow\n",
    "from nipype.interfaces.io import DataGrabber, DataFinder, DataSink\n",
    "from nipype.interfaces import fsl\n",
    "from nipype.interfaces.fsl import BET\n",
    "from nipype.interfaces.freesurfer.preprocess import ReconAll\n",
    "from nipype.interfaces.freesurfer.utils import MakeAverageSubject\n",
    "from nipype.interfaces.fsl import ExtractROI\n",
    "from nipype.interfaces.fsl import Merge\n",
    "from nipype.interfaces.fsl import TOPUP\n",
    "from nipype.interfaces.fsl import ApplyTOPUP\n",
    "from nipype.workflows.fmri.fsl import create_susan_smooth\n",
    "\n",
    "from moss.mosaic import Mosaic\n",
    "\n",
    "%matplotlib inline"
   ]
  },
  {
   "cell_type": "code",
   "execution_count": 2,
   "metadata": {
    "collapsed": true
   },
   "outputs": [],
   "source": [
    "rc = Client()"
   ]
  },
  {
   "cell_type": "code",
   "execution_count": 3,
   "metadata": {
    "collapsed": true
   },
   "outputs": [],
   "source": [
    "#preliminary housekeeping\n",
    "home_dir = '/data/home/iballard/fd/'\n",
    "subj_file = home_dir + 'subjects.txt'\n",
    "sub_list = list(np.loadtxt(subj_file,'string'))\n",
    "fix_cmd = '/home/iballard/fix1.06/fix'\n",
    "os.chdir(home_dir)"
   ]
  },
  {
   "cell_type": "code",
   "execution_count": 4,
   "metadata": {
    "collapsed": false
   },
   "outputs": [],
   "source": [
    "in_tuples = []\n",
    "for sub in sub_list:\n",
    "    for exp in ['sim_4mm']:\n",
    "        for run in range(1,4):\n",
    "            in_tuples.append((sub,exp,str(run)))"
   ]
  },
  {
   "cell_type": "code",
   "execution_count": 4,
   "metadata": {
    "collapsed": false
   },
   "outputs": [],
   "source": [
    "#make symbolic links and directory structure that fix expects\n",
    "for sub in sub_list:\n",
    "    for exp in ['sim_4mm']:\n",
    "        for run in ['1','2','3']:\n",
    "\n",
    "            sub_dir = home_dir + 'analysis/' + exp + '/' + sub + '/preproc/run_' + run + '/'\n",
    "\n",
    "            if os.path.exists(sub_dir):\n",
    "                melodic_dir = sub_dir + 'melodic/'\n",
    "                ica_outputs_dir = melodic_dir + 'filtered_func_data.ica/'\n",
    "                reg_dir = melodic_dir + 'reg/'\n",
    "                motion_dir = melodic_dir + 'mc/'\n",
    "\n",
    "                if not os.path.exists(ica_outputs_dir):\n",
    "                    os.mkdir(ica_outputs_dir)         \n",
    "\n",
    "                    #move ica outputs from melodic dir to ica outputs dur\n",
    "                    cmd_str = 'mv ' + melodic_dir + '* ' + ica_outputs_dir\n",
    "                    os.system(cmd_str)\n",
    "\n",
    "                    if not os.path.exists(reg_dir):\n",
    "                        os.mkdir(reg_dir)\n",
    "                    if not os.path.exists(motion_dir):\n",
    "                        os.mkdir(motion_dir)\n",
    "\n",
    "                    old = sub_dir + 'unsmoothed_timeseries.nii.gz'\n",
    "                    new = melodic_dir + 'filtered_func_data.nii.gz'\n",
    "                    cmd_str = 'ln -s ' + old + ' ' + new\n",
    "                    if not os.path.exists(new):\n",
    "                        os.system(cmd_str)\n",
    "\n",
    "                    old = sub_dir + 'functional_mask.nii.gz'\n",
    "                    new = melodic_dir + 'mask.nii.gz'\n",
    "                    cmd_str = 'ln -s ' + old + ' ' + new\n",
    "                    if not os.path.exists(new):\n",
    "                        os.system(cmd_str)\n",
    "\n",
    "                    old = sub_dir + 'mean_func.nii.gz'\n",
    "                    new = melodic_dir + 'mean_func.nii.gz'\n",
    "                    cmd_str = 'ln -s ' + old + ' ' + new\n",
    "                    if not os.path.exists(new):\n",
    "                        os.system(cmd_str)\n",
    "\n",
    "                    old = sub_dir + 'example_func.nii.gz'\n",
    "                    new = reg_dir + 'example_func.nii.gz'\n",
    "                    cmd_str = 'ln -s ' + old + ' ' + new\n",
    "                    if not os.path.exists(new):\n",
    "                        os.system(cmd_str)\n",
    "\n",
    "                    old = sub_dir + 'func2anat_flirt.mat'\n",
    "                    new = reg_dir + 'highres2example_func.mat'\n",
    "                    cmd_str = 'convert_xfm -omat ' + new + ' -inverse ' + old\n",
    "                    if not os.path.exists(new):\n",
    "                        os.system(cmd_str)\n",
    "\n",
    "                    old = home_dir + 'analysis/workingdir/antswarp/_subject_id_' + sub + '/convertbrain/brain_out.nii.gz'\n",
    "                    new = reg_dir + 'highres.nii.gz'\n",
    "                    cmd_str = 'ln -s ' + old + ' ' + new\n",
    "                    if not os.path.exists(new):\n",
    "                        os.system(cmd_str)\n",
    "\n",
    "                    ##deal with motion data\n",
    "                    data = pd.DataFrame.from_csv(sub_dir + 'realignment_params.csv')\n",
    "                    data.to_csv(motion_dir + 'prefiltered_func_data_mcf.par',' ',\n",
    "                                columns = ['rot_x','rot_y','rot_z','trans_x','trans_y','trans_z'],\n",
    "                               header = False, index = False)\n",
    "                else:\n",
    "                    print exp + ' ' + sub + ' ' + run\n"
   ]
  },
  {
   "cell_type": "code",
   "execution_count": 25,
   "metadata": {
    "collapsed": false
   },
   "outputs": [],
   "source": [
    "def classify_features(thresh_tuple):\n",
    "    sub, exp, run, thresh = thresh_tuple\n",
    "    sub_path = home_dir + 'analysis/' + exp + '/' + sub + '/preproc/run_' + run + '/melodic'\n",
    "    training_file = '/home/iballard/fix1.06/training_files/WhII_MB6.RData'\n",
    "    thresh_file = sub_path + '/fix4melview_WhII_MB6_thr' + thresh + '.txt'\n",
    "    \n",
    "    if not os.path.exists(thresh_file):\n",
    "        cmd_str = fix_cmd + ' -c ' + sub_path + ' ' + training_file + ' ' + thresh\n",
    "        os.system(cmd_str)"
   ]
  },
  {
   "cell_type": "code",
   "execution_count": 26,
   "metadata": {
    "collapsed": false
   },
   "outputs": [],
   "source": [
    "thresholds = ['5','10','15','20','25','30']\n",
    "thresh_tuple = []\n",
    "for sub in sub_list:\n",
    "    for exp in ['sim_4mm']:\n",
    "        for run in range(1,4):\n",
    "            for thresh in thresholds:\n",
    "                thresh_tuple.append((sub,exp,str(run),thresh))"
   ]
  },
  {
   "cell_type": "code",
   "execution_count": 28,
   "metadata": {
    "collapsed": false
   },
   "outputs": [
    {
     "name": "stdout",
     "output_type": "stream",
     "text": [
      "importing os on engine(s)\n",
      "importing numpy on engine(s)\n",
      "importing MELODIC from nipype.interfaces.fsl on engine(s)\n"
     ]
    }
   ],
   "source": [
    "dview = rc[0:24]\n",
    "dview.block = True\n",
    "\n",
    "dview.push(dict(home_dir = home_dir,\n",
    "                fix_cmd = fix_cmd))\n",
    "dview.execute(\"import numpy as np\")\n",
    "with dview.sync_imports():\n",
    "    import os\n",
    "    import numpy\n",
    "    from nipype.interfaces.fsl import MELODIC\n",
    "\n",
    "# dview.map_sync(classify_features,thresh_tuple)"
   ]
  },
  {
   "cell_type": "code",
   "execution_count": 29,
   "metadata": {
    "collapsed": false
   },
   "outputs": [],
   "source": [
    "#exame what Fix wants to remove for different thresholds\n",
    "thresholds = ['5','10','15','20','25','30']\n",
    "bad_pcs = {} #percentage of bad pcs\n",
    "pcs_list = {} #actual bad PC list\n",
    "total_pcs = {} #total # of pcs\n",
    "conds = ['sim_4mm']\n",
    "for thresh in thresholds:\n",
    "    for cond in conds:\n",
    "        bad_pcs[(cond,thresh)] = []  \n",
    "\n",
    "for sub in sub_list:\n",
    "    for exp in conds:\n",
    "        for run in ['1','2','3']:\n",
    "                        \n",
    "            sub_dir = home_dir + 'analysis/' + exp + '/' + sub + '/preproc/run_' + run + '/'\n",
    "\n",
    "            if os.path.exists(sub_dir):\n",
    "                for thresh in thresholds:\n",
    "                    id_tuple = (exp,sub,run,thresh)\n",
    "\n",
    "                    thresh_file = sub_dir + 'melodic/fix4melview_WhII_MB6_thr' + thresh + '.txt'\n",
    "                    if os.path.exists(thresh_file):\n",
    "                        with open(thresh_file) as f:\n",
    "                            lines = f.readlines()\n",
    "                            pcs = lines[-1]\n",
    "                            if pcs.strip('\\n') == '[]':\n",
    "                                pcs_list[id_tuple] = []\n",
    "                            else:\n",
    "                                pcs = pcs.strip('[')[:-1].strip(']').strip('\\n').split(',')\n",
    "                                pcs_list[id_tuple] = map(int,pcs)\n",
    "\n",
    "                            total_pcs[id_tuple] = float(lines[-2].split(',')[0])\n",
    "\n",
    "                            perc_bad_pcs = [len(pcs_list[id_tuple])/total_pcs[id_tuple]]\n",
    "                            bad_pcs[(exp,thresh)] = np.hstack([bad_pcs[(exp,thresh)]\n",
    "                                                      ,perc_bad_pcs])\n",
    "                    else:\n",
    "                        print thresh_file\n",
    "                                  \n",
    "            else:\n",
    "                perc_bad_pcs = np.nan\n",
    "                for thresh in thresholds:\n",
    "                    bad_pcs[(exp,thresh)] = np.hstack([bad_pcs[(exp,thresh)]\n",
    "                                              ,perc_bad_pcs])\n"
   ]
  },
  {
   "cell_type": "code",
   "execution_count": 34,
   "metadata": {
    "collapsed": false
   },
   "outputs": [
    {
     "name": "stderr",
     "output_type": "stream",
     "text": [
      "/home/iballard/anaconda/lib/python2.7/site-packages/seaborn/categorical.py:2125: UserWarning: The boxplot API has been changed. Attempting to adjust your arguments for the new API (which might not work). Please update your code. See the version 0.6 release notes for more info.\n",
      "  warnings.warn(msg, UserWarning)\n"
     ]
    },
    {
     "data": {
      "text/plain": [
       "<matplotlib.axes._subplots.AxesSubplot at 0x7efbbfcaebd0>"
      ]
     },
     "execution_count": 34,
     "metadata": {},
     "output_type": "execute_result"
    },
    {
     "data": {
      "image/png": "[encoded data removed]",
      "text/plain": [
       "<matplotlib.figure.Figure at 0x7efbbfdf6b10>"
      ]
     },
     "metadata": {},
     "output_type": "display_data"
    }
   ],
   "source": [
    "bad_pcs = pd.DataFrame(bad_pcs)\n",
    "plt.figure(figsize=(8,6))\n",
    "sns.boxplot(bad_pcs)"
   ]
  },
  {
   "cell_type": "code",
   "execution_count": 32,
   "metadata": {
    "collapsed": false
   },
   "outputs": [],
   "source": [
    "# ##compute percentage of total variance\n",
    "# #initialize bad pc dictionary\n",
    "# bad_pc_total_variance = {}\n",
    "# for thresh in thresholds:\n",
    "#     for cond in conds:\n",
    "#         bad_pc_total_variance[(cond,thresh)] = []  \n",
    "\n",
    "# run_id = []\n",
    "\n",
    "# # good_subs = [s for s in sub_list if s not in ['fd_126','fd_140']]\n",
    "# for sub in sub_list:\n",
    "#     for run in ['1','2','3']:\n",
    "#         for exp in ['sim_4mm']:\n",
    "#             sub_dir = home_dir + 'analysis/' + exp + '/' + sub + '/preproc/run_' + run + '/'\n",
    "\n",
    "#             if os.path.exists(sub_dir):\n",
    "#                 id_tuple = (exp,sub,run,thresh)\n",
    "#                 #get list of how much variance is explained by each ic from the report file\n",
    "#                 ic_variance = []\n",
    "#                 for ic in range(1,int(total_pcs[id_tuple]) + 1):\n",
    "#                     ic_file = sub_dir + 'melodic/filtered_func_data.ica/report/IC_' + str(ic) + '.html'\n",
    "#                     if os.path.exists(ic_file):\n",
    "#                         with open(ic_file) as f:\n",
    "#                             html_str = f.readlines()\n",
    "#                             html_str = ','.join(html_str)\n",
    "#                             index = html_str.find('% of total variance') #can also look at explained variance\n",
    "#                             ic_variance.append(float(html_str[index - 5:index-1]))\n",
    "#                     else:\n",
    "#                         print ic_file\n",
    "\n",
    "#                 #compute total variance explained by bad ics for each threshold level\n",
    "#                 for thresh in thresholds:\n",
    "#                     id_tuple = (exp,sub,run,thresh)\n",
    "\n",
    "#                     indices = [i - 1 for i in pcs_list[id_tuple]] #convert to indices (indexing starts at 1 here)\n",
    "#                     bad_ic_variance = [ic_variance[i] for i in indices]\n",
    "#                     bad_ic_variance = np.sum(bad_ic_variance) \n",
    "#                     bad_pc_total_variance[(exp,thresh)] = np.hstack([bad_pc_total_variance[(exp,thresh)]\n",
    "#                                                                      ,bad_ic_variance])\n",
    "#             else:\n",
    "#                 bad_ic_variance = np.nan\n",
    "#                 for thresh in thresholds:\n",
    "#                     bad_pc_total_variance[(exp,thresh)] = np.hstack([bad_pc_total_variance[(exp,thresh)]\n",
    "#                                                                      ,bad_ic_variance])\n",
    "#         run_id.append((sub,run))   \n"
   ]
  },
  {
   "cell_type": "code",
   "execution_count": 33,
   "metadata": {
    "collapsed": false,
    "scrolled": true
   },
   "outputs": [],
   "source": [
    "# bad_pc_total_variance = pd.DataFrame(bad_pc_total_variance)\n",
    "# sns.boxplot(bad_pc_total_variance)"
   ]
  },
  {
   "cell_type": "code",
   "execution_count": 92,
   "metadata": {
    "collapsed": false
   },
   "outputs": [
    {
     "name": "stdout",
     "output_type": "stream",
     "text": [
      "ser_4mm[('fd_112', '1'), ('fd_147', '3')]\n"
     ]
    }
   ],
   "source": [
    "outlier_thresh = bad_pc_total_variance.mean() + 2.5* bad_pc_total_variance.std()\n",
    "# iqr = bad_pc_total_variance.quantile(.75) - bad_pc_total_variance.quantile(.25)\n",
    "# outlier_thresh =  bad_pc_total_variance.quantile(.75) + 3 *iqr\n",
    "for exp in ['ser_4mm']:\n",
    "    for thresh in thresholds:\n",
    "        if thresh == '20':\n",
    "            data = bad_pc_total_variance[exp][thresh].values\n",
    "            thresh = outlier_thresh[exp][thresh]\n",
    "            suspect_indices = data > thresh \n",
    "            bad_runs = [x for n,x in enumerate(run_id) if suspect_indices[n]]\n",
    "            print exp + str(bad_runs)"
   ]
  },
  {
   "cell_type": "code",
   "execution_count": 98,
   "metadata": {
    "collapsed": false,
    "scrolled": true
   },
   "outputs": [
    {
     "data": {
      "text/plain": [
       "ser_4mm  10     1.983371\n",
       "         15    17.612472\n",
       "         20    19.965169\n",
       "         25    24.081124\n",
       "         30    28.582697\n",
       "         5      0.000000\n",
       "dtype: float64"
      ]
     },
     "execution_count": 98,
     "metadata": {},
     "output_type": "execute_result"
    }
   ],
   "source": [
    "bad_pc_total_variance.mean()"
   ]
  },
  {
   "cell_type": "code",
   "execution_count": 26,
   "metadata": {
    "collapsed": false,
    "scrolled": false
   },
   "outputs": [],
   "source": [
    "##project out the bad components\n",
    "def clean_data(in_tuple):\n",
    "    threshold = '15'\n",
    "    sub, exp, run = in_tuple\n",
    "\n",
    "    sub_path = home_dir + 'analysis/' + exp + '/' + sub + '/preproc/run_' + run + '/'\n",
    "\n",
    "    mel_path = sub_path + '/melodic'\n",
    "\n",
    "    thresh_file = mel_path +'/fix4melview_WhII_MB6_thr' + threshold + '.txt'\n",
    "    cmd_str = fix_cmd + ' -a ' + thresh_file \n",
    "    new_file = mel_path + '/filtered_func_data_clean.nii.gz'\n",
    "    if os.path.exists(sub_path) and not os.path.exists(new_file):\n",
    "        os.system(cmd_str)"
   ]
  },
  {
   "cell_type": "code",
   "execution_count": 24,
   "metadata": {
    "collapsed": false,
    "scrolled": true
   },
   "outputs": [
    {
     "name": "stdout",
     "output_type": "stream",
     "text": [
      "importing os on engine(s)\n",
      "importing numpy on engine(s)\n",
      "importing MELODIC from nipype.interfaces.fsl on engine(s)\n"
     ]
    },
    {
     "data": {
      "text/plain": [
       "<AsyncMapResult: clean_data>"
      ]
     },
     "execution_count": 24,
     "metadata": {},
     "output_type": "execute_result"
    }
   ],
   "source": [
    "dview = rc[0:16]\n",
    "dview.block = True\n",
    "\n",
    "dview.push(dict(home_dir = home_dir,\n",
    "                fix_cmd = fix_cmd))\n",
    "dview.execute(\"import numpy as np\")\n",
    "with dview.sync_imports():\n",
    "    import os\n",
    "    import numpy\n",
    "    from nipype.interfaces.fsl import MELODIC\n",
    "\n",
    "dview.map_async(clean_data,in_tuples)"
   ]
  },
  {
   "cell_type": "code",
   "execution_count": 34,
   "metadata": {
    "collapsed": false
   },
   "outputs": [],
   "source": [
    "def smooth_cleaned_data(in_tuple):\n",
    "    sub, exp, run = in_tuple\n",
    "    \n",
    "    sub_path = home_dir + 'analysis/' + exp + '/' + sub + '/preproc/run_' + run\n",
    "    smooth_f = sub_path + '/melodic/filtered_func_data_clean.nii.gz'\n",
    "    smooth_dir = 'smoothed' + run + exp + sub\n",
    "    out_f =  home_dir + 'analysis/' + exp + '/' + sub + '/preproc/run_' + run +'/smoothed_timeseries.nii.gz'\n",
    "    smooth_clean = home_dir + '/smoothed/smoothed' + run + exp + sub + '/_smooth0/' + \\\n",
    "            'filtered_func_data_clean_smooth.nii.gz'\n",
    "\n",
    "    if os.path.exists(smooth_f) and not os.path.exists(smooth_clean) and not os.path.exists(out_f): #if not already run\n",
    "        #set up workflow\n",
    "        wf = Workflow(name = 'smooth')\n",
    "        wf.basedir = os.path.abspath('fd')\n",
    "\n",
    "        susan = create_susan_smooth()\n",
    "        susan.inputs.inputnode.fwhm = 0\n",
    "        susan.inputs.inputnode.in_files = smooth_f\n",
    "        susan.inputs.inputnode.mask_file = sub_path + '/functional_mask.nii.gz'\n",
    "\n",
    "        ##set up Data Sink\n",
    "        sinker = Node(DataSink(), name = 'sinker')\n",
    "        sinker.inputs.base_directory = '/home/iballard/fd/smoothed/'\n",
    "        wf.connect(susan,'outputnode.smoothed_files',sinker,smooth_dir)\n",
    "        wf.run()\n",
    "    else:\n",
    "        None#print smooth_f"
   ]
  },
  {
   "cell_type": "code",
   "execution_count": 35,
   "metadata": {
    "collapsed": true
   },
   "outputs": [],
   "source": [
    "def chunks(l, n):\n",
    "    \"\"\"Yield successive n-sized chunks from l.\"\"\"\n",
    "    for i in range(0, len(l), n):\n",
    "        yield l[i:i+n]"
   ]
  },
  {
   "cell_type": "code",
   "execution_count": 36,
   "metadata": {
    "collapsed": false,
    "scrolled": false
   },
   "outputs": [
    {
     "name": "stdout",
     "output_type": "stream",
     "text": [
      "importing os on engine(s)\n",
      "importing numpy on engine(s)\n",
      "importing abspath from os.path on engine(s)\n",
      "importing MELODIC from nipype.interfaces.fsl on engine(s)\n",
      "importing Node,MapNode,Workflow from nipype.pipeline.engine on engine(s)\n",
      "importing DataGrabber,DataFinder,DataSink from nipype.interfaces.io on engine(s)\n",
      "importing create_susan_smooth from nipype.workflows.fmri.fsl on engine(s)\n"
     ]
    },
    {
     "data": {
      "text/plain": [
       "[None,\n",
       " None,\n",
       " None,\n",
       " None,\n",
       " None,\n",
       " None,\n",
       " None,\n",
       " None,\n",
       " None,\n",
       " None,\n",
       " None,\n",
       " None,\n",
       " None,\n",
       " None,\n",
       " None,\n",
       " None,\n",
       " None,\n",
       " None,\n",
       " None,\n",
       " None,\n",
       " None,\n",
       " None,\n",
       " None,\n",
       " None,\n",
       " None,\n",
       " None,\n",
       " None,\n",
       " None,\n",
       " None,\n",
       " None,\n",
       " None,\n",
       " None,\n",
       " None,\n",
       " None,\n",
       " None,\n",
       " None,\n",
       " None,\n",
       " None,\n",
       " None,\n",
       " None,\n",
       " None,\n",
       " None,\n",
       " None,\n",
       " None,\n",
       " None,\n",
       " None,\n",
       " None,\n",
       " None,\n",
       " None,\n",
       " None,\n",
       " None,\n",
       " None,\n",
       " None,\n",
       " None,\n",
       " None,\n",
       " None,\n",
       " None,\n",
       " None,\n",
       " None,\n",
       " None,\n",
       " None,\n",
       " None,\n",
       " None,\n",
       " None,\n",
       " None,\n",
       " None,\n",
       " None,\n",
       " None,\n",
       " None,\n",
       " None,\n",
       " None,\n",
       " None,\n",
       " None,\n",
       " None,\n",
       " None,\n",
       " None,\n",
       " None,\n",
       " None,\n",
       " None,\n",
       " None,\n",
       " None,\n",
       " None,\n",
       " None,\n",
       " None,\n",
       " None,\n",
       " None,\n",
       " None,\n",
       " None,\n",
       " None,\n",
       " None,\n",
       " None,\n",
       " None,\n",
       " None,\n",
       " None,\n",
       " None,\n",
       " None]"
      ]
     },
     "execution_count": 36,
     "metadata": {},
     "output_type": "execute_result"
    }
   ],
   "source": [
    "dview = rc[0:12]\n",
    "dview.block = True\n",
    "dview.push(dict(home_dir = home_dir,\n",
    "                fix_cmd = fix_cmd))\n",
    "dview.execute(\"import numpy as np\")\n",
    "with dview.sync_imports():\n",
    "    import os\n",
    "    import numpy\n",
    "    from os.path import abspath\n",
    "    from nipype.interfaces.fsl import MELODIC\n",
    "    from nipype.pipeline.engine import Node, MapNode, Workflow\n",
    "    from nipype.interfaces.io import DataGrabber, DataFinder, DataSink\n",
    "    from nipype.workflows.fmri.fsl import create_susan_smooth\n",
    "\n",
    "dview.map_sync(smooth_cleaned_data,in_tuples)\n",
    "\n",
    "# #cant get nipype to output anywhere except /tmp, which fills up. So run in chunks and clean after eachh one\n",
    "# in_chunks = list(chunks(in_tuples,12))\n",
    "# for i in range(len(in_chunks)):\n",
    "#     dview.map_sync(smooth_cleaned_data,in_chunks[i])\n",
    "#     os.system('rm -r /tmp/tmp*') #CAREFUL.\n",
    "#     print 'done',i\n"
   ]
  },
  {
   "cell_type": "code",
   "execution_count": 37,
   "metadata": {
    "collapsed": false
   },
   "outputs": [],
   "source": [
    "#rearrange directory structure to trick lyman into thinking cleaned data is its own\n",
    "for in_tuple in [('fd_118','sim_4mm','2'),('fd_144','sim_4mm','2')]:\n",
    "    sub, exp, run = in_tuple\n",
    "    \n",
    "    if sub not in ['fd_104','fd_105']:\n",
    "\n",
    "        sub_path = home_dir + 'analysis/' + exp + '/' + sub + '/preproc/run_' + run\n",
    "        smooth_clean = home_dir + '/smoothed/smoothed' + run + exp + sub + '/_smooth0/' + \\\n",
    "            'filtered_func_data_clean_smooth.nii.gz'\n",
    "        if os.path.exists(sub_path) and os.path.exists(smooth_clean):\n",
    "\n",
    "\n",
    "            new_dir = sub_path + '/uncleaned_data'\n",
    "            if not os.path.exists(new_dir):\n",
    "                os.mkdir(new_dir)\n",
    "\n",
    "            #move old lyman files inside new_dir if they arent there already\n",
    "            old_smooth = sub_path + '/smoothed_timeseries.nii.gz'\n",
    "            old_unsmoothed = sub_path + '/unsmoothed_timeseries.nii.gz'\n",
    "#             if not os.path.exists(new_dir + '/smoothed_timeseries.nii.gz'):\n",
    "#                 shutil.move(old_smooth,new_dir)\n",
    "            if not os.path.exists(new_dir + '/unsmoothed_timeseries.nii.gz'):\n",
    "                shutil.move(old_unsmoothed,new_dir)\n",
    "\n",
    "            #move cleaned and smoothed data\n",
    "            if os.path.exists(smooth_clean) and not os.path.exists(old_smooth):\n",
    "                os.rename(smooth_clean,old_smooth)\n",
    "\n",
    "            #create a symbolic link to cleaned and unsmoothed data\n",
    "            if not os.path.exists(old_unsmoothed):\n",
    "                cmd_str = 'ln -s ' + sub_path + '/melodic/filtered_func_data_clean.nii.gz ' + \\\n",
    "                old_unsmoothed\n",
    "                os.system(cmd_str)\n",
    "        else:\n",
    "            print smooth_clean"
   ]
  },
  {
   "cell_type": "code",
   "execution_count": null,
   "metadata": {
    "collapsed": false
   },
   "outputs": [],
   "source": []
  },
  {
   "cell_type": "code",
   "execution_count": 16,
   "metadata": {
    "collapsed": false
   },
   "outputs": [],
   "source": [
    "##create an archive of lyman directories\n",
    "for in_tuple in in_tuples:\n",
    "    sub = in_tuple[0]\n",
    "    exp = in_tuple[1]\n",
    "    run = str(in_tuple[2])\n",
    "    \n",
    "    sub_path = home_dir + 'analysis/' + exp + '_4mm/' + sub +'/'\n",
    "\n",
    "    if os.path.exists(sub_path):\n",
    "\n",
    "        archive_dir = sub_path + 'uncleaned'\n",
    "        if not os.path.exists(archive_dir):\n",
    "            os.mkdir(archive_dir)\n",
    "        \n",
    "        if os.listdir(archive_dir) == []:\n",
    "            dir_contents = glob.glob(sub_path + '*')\n",
    "            dir_contents = [f for f in dir_contents if f.split('/')[-1:][0] not in ['preproc','uncleaned']]\n",
    "\n",
    "            for f in dir_contents:\n",
    "                if os.path.exists(f):\n",
    "                    shutil.move(f,archive_dir)"
   ]
  },
  {
   "cell_type": "code",
   "execution_count": 43,
   "metadata": {
    "collapsed": false
   },
   "outputs": [],
   "source": [
    "##make a mean image\n",
    "def make_mean(in_tuple):\n",
    "    sub, exp, run = in_tuple\n",
    "\n",
    "    sub_path = home_dir + 'analysis/' + exp + '/' + sub + '/preproc/run_' + run + '/'\n",
    "    if os.path.exists(sub_path):\n",
    "        ts = sub_path + 'unsmoothed_timeseries.nii.gz'\n",
    "        mean_ts = sub_path + 'mean_clean.nii.gz'\n",
    "        mask = sub_path + 'functional_mask.nii.gz'\n",
    "        out_png = sub_path + 'mean_clean.png'\n",
    "        cmd = ['fslmaths',ts,'-Tmean',mean_ts]\n",
    "        os.system(' '.join(cmd))\n",
    "        try:\n",
    "            cmap = sns.cubehelix_palette(as_cmap=True, reverse=True,\n",
    "                                         light=1, dark=0)\n",
    "            m = Mosaic(mean_ts, mean_ts,mask,step=1)\n",
    "            m.plot_overlay(vmin=0, cmap=cmap, fmt=\"%d\")\n",
    "            m.savefig(out_png)\n",
    "            m.close()\n",
    "        except:\n",
    "            print in_tuple\n",
    "make_mean(in_tuples[11])"
   ]
  },
  {
   "cell_type": "code",
   "execution_count": 29,
   "metadata": {
    "collapsed": false
   },
   "outputs": [
    {
     "name": "stdout",
     "output_type": "stream",
     "text": [
      "('fd_108', 'ser_4mm', '3')\n",
      "('fd_123', 'ser_4mm', '1')\n",
      "('fd_118', 'ser_4mm', '3')\n",
      "('fd_141', 'ser_4mm', '2')\n"
     ]
    }
   ],
   "source": [
    "pool = multiprocessing.Pool(processes = 10)\n",
    "pool.map(make_mean,in_tuples)\n",
    "pool.terminate()\n",
    "pool.join()"
   ]
  },
  {
   "cell_type": "code",
   "execution_count": 40,
   "metadata": {
    "collapsed": false
   },
   "outputs": [],
   "source": [
    "def plot_cope(in_tuple):\n",
    "    sub, exp, run = in_tuple\n",
    "\n",
    "    sub_path = home_dir + 'analysis/' + exp + '-PEfb-diff/' + sub + '/model/smoothed/run_' + run + '/'\n",
    "    if os.path.exists(sub_path):\n",
    "        cmap = sns.cubehelix_palette(as_cmap=True, reverse=True,\n",
    "                                 light=1, dark=0)\n",
    "        ts = sub_path + 'cope1.nii.gz'\n",
    "        out_png = sub_path + 'cope1.png'\n",
    "        m = Mosaic(ts,ts,step=1)\n",
    "        m.plot_overlay(vmin=0, cmap=cmap, fmt=\"%d\")\n",
    "        m.savefig(out_png)\n",
    "        m.close()"
   ]
  },
  {
   "cell_type": "code",
   "execution_count": 41,
   "metadata": {
    "collapsed": true
   },
   "outputs": [],
   "source": [
    "pool = multiprocessing.Pool(processes = 10)\n",
    "pool.map(plot_cope,in_tuples)\n",
    "pool.terminate()\n",
    "pool.join()"
   ]
  },
  {
   "cell_type": "code",
   "execution_count": null,
   "metadata": {
    "collapsed": true
   },
   "outputs": [],
   "source": []
  }
 ],
 "metadata": {
  "kernelspec": {
   "display_name": "Python 2",
   "language": "python",
   "name": "python2"
  },
  "language_info": {
   "codemirror_mode": {
    "name": "ipython",
    "version": 2
   },
   "file_extension": ".py",
   "mimetype": "text/x-python",
   "name": "python",
   "nbconvert_exporter": "python",
   "pygments_lexer": "ipython2",
   "version": "2.7.11"
  }
 },
 "nbformat": 4,
 "nbformat_minor": 0
}
