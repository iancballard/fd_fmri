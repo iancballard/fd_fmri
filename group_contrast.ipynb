{
 "cells": [
  {
   "cell_type": "markdown",
   "metadata": {},
   "source": [
    "#Run cross-group analyses that lyman doesn't suppport"
   ]
  },
  {
   "cell_type": "code",
   "execution_count": 1,
   "metadata": {
    "collapsed": true
   },
   "outputs": [],
   "source": [
    "#os and i/o\n",
    "import os\n",
    "import numpy as np\n",
    "import glob\n",
    "from os.path import abspath\n",
    "import csv\n",
    "\n",
    "#scientific computing\n",
    "import matplotlib\n",
    "import matplotlib.pyplot as plt\n",
    "import pandas as pd\n",
    "from scipy import stats, optimize\n",
    "from pandas import DataFrame, Series\n",
    "import seaborn as sns\n",
    "import random as rd\n",
    "from statsmodels.formula.api import ols\n",
    "from statsmodels.stats.anova import anova_lm\n",
    "import scipy.stats\n",
    "\n",
    "#ipython add-ons\n",
    "from IPython.parallel import Client\n",
    "from IPython.display import Image\n",
    "import multiprocessing\n",
    "\n",
    "##nipype\n",
    "import nibabel as nib\n",
    "from nipype.pipeline.engine import Node, MapNode, Workflow\n",
    "from nipype.interfaces.io import DataGrabber, DataFinder, DataSink\n",
    "from nipype.interfaces import fsl\n",
    "from nipype.interfaces.fsl import ImageMeants\n",
    "from nipype.interfaces.fsl import ImageStats\n",
    "\n",
    "%matplotlib inline"
   ]
  },
  {
   "cell_type": "code",
   "execution_count": 4,
   "metadata": {
    "collapsed": true
   },
   "outputs": [],
   "source": [
    "#preliminary housekeeping\n",
    "home_dir = '/data/home/iballard/fd/'\n",
    "subj_file = home_dir + 'subjects.txt'\n",
    "sub_list = list(np.loadtxt(subj_file,'string'))\n",
    "os.chdir(home_dir)\n",
    "exps = ['sim','ser']\n",
    "runs = map(str,range(1,4))"
   ]
  },
  {
   "cell_type": "code",
   "execution_count": 64,
   "metadata": {
    "collapsed": false
   },
   "outputs": [
    {
     "name": "stderr",
     "output_type": "stream",
     "text": [
      "INFO:workflow:['check', 'execution', 'logging']\n",
      "INFO:workflow:Running serially.\n",
      "INFO:workflow:Executing node model in dir: /data/home/iballard/fd/analysis/group_ser_sim/design/model\n",
      "INFO:workflow:Executing node sinker in dir: /data/home/iballard/fd/analysis/group_ser_sim/design/sinker\n"
     ]
    },
    {
     "data": {
      "text/plain": [
       "<networkx.classes.digraph.DiGraph at 0x7f96572ef3d0>"
      ]
     },
     "execution_count": 64,
     "metadata": {},
     "output_type": "execute_result"
    }
   ],
   "source": [
    "#Make design file for paired t-test\n",
    "num_subs = len(sub_list)\n",
    "group_dir = home_dir + 'analysis/group_ser_sim/'\n",
    "\n",
    "##make regressor and contrast inputs according to FSL rules for paired ttest\n",
    "regressors = dict(diff = list(np.hstack([np.ones(num_subs)*1.0,np.ones(num_subs)-2.0])))\n",
    "for i in range(num_subs):\n",
    "    col = np.zeros(num_subs*2)\n",
    "    col[i] = 1.0\n",
    "    col[i + num_subs] = 1.0\n",
    "    regressors['sub' + str(i)] = list(col)\n",
    "    \n",
    "# contrasts=[['ser-sim','T',['diff'],[1]], ['sim-ser','T',['diff'],[-1]]]\n",
    "contrasts=[['ser-sim','T',['diff'],[1]]]\n",
    "\n",
    "##set up WF so I can control where outputs go\n",
    "# model = Node(fsl.MultipleRegressDesign(regressors = regressors, contrasts = contrasts),name='model')\n",
    "\n",
    "#for randomise, we need groups for exchangability blocks\n",
    "group = list(np.hstack([np.arange(num_subs)+1,np.arange(num_subs)+1]))\n",
    "model = Node(fsl.MultipleRegressDesign(regressors = regressors, \n",
    "                                       contrasts = contrasts, groups = group),name='model')\n",
    "\n",
    "\n",
    "wf = Workflow(name = 'design',base_dir = group_dir)\n",
    "sink = Node(DataSink(),name = 'sinker',base_directory = group_dir)\n",
    "wf.connect(model,'design_con',sink,'output.@con')\n",
    "wf.connect(model,'design_grp',sink,'output.@grp')\n",
    "wf.connect(model,'design_mat',sink,'output.@mat')\n",
    "wf.run()"
   ]
  },
  {
   "cell_type": "code",
   "execution_count": 39,
   "metadata": {
    "collapsed": false
   },
   "outputs": [
    {
     "name": "stderr",
     "output_type": "stream",
     "text": [
      "INFO:workflow:['check', 'execution', 'logging']\n",
      "INFO:workflow:Running serially.\n",
      "INFO:workflow:Executing node model in dir: /data/home/iballard/fd/analysis/ser_correlation/design/model\n",
      "INFO:workflow:Executing node sinker in dir: /data/home/iballard/fd/analysis/ser_correlation/design/sinker\n"
     ]
    },
    {
     "data": {
      "text/plain": [
       "<networkx.classes.digraph.DiGraph at 0x7f9657a487d0>"
      ]
     },
     "execution_count": 39,
     "metadata": {},
     "output_type": "execute_result"
    }
   ],
   "source": [
    "#alternatively, make correlation design file\n",
    "num_subs = len(sub_list)\n",
    "\n",
    "group_dir = home_dir + 'analysis/ser_correlation/'\n",
    "cov = np.loadtxt(home_dir + '/analysis/omegas.txt')\n",
    "\n",
    "##make regressor and contrast inputs according to FSL rules for paired ttest\n",
    "regressors = dict(mean = list(np.ones(num_subs)*1.0), cov = list(cov) )\n",
    "contrasts=[['ser-corr','T',['cov'],[1]]]\n",
    "\n",
    "##set up WF so I can control where outputs go\n",
    "model = Node(fsl.MultipleRegressDesign(regressors = regressors, contrasts = contrasts),name='model')\n",
    "wf = Workflow(name = 'design',base_dir = group_dir)\n",
    "sink = Node(DataSink(),name = 'sinker',base_directory = group_dir)\n",
    "wf.connect(model,'design_con',sink,'output.@con')\n",
    "wf.connect(model,'design_grp',sink,'output.@grp')\n",
    "wf.connect(model,'design_mat',sink,'output.@mat')\n",
    "wf.run()"
   ]
  },
  {
   "cell_type": "code",
   "execution_count": 55,
   "metadata": {
    "collapsed": false
   },
   "outputs": [],
   "source": [
    "#merge the 3d files from ffx analysis into concatenated 4d files\n",
    "images = ['cope','varcope','dof','zstat']\n",
    "ims_to_files = {'cope':'cope1.nii.gz', 'varcope':'varcope1.nii.gz',\n",
    "                'dof':'tdof_t1.nii.gz','zstat':'zstat1.nii.gz'}\n",
    "contrast = 'state'\n",
    "for f in images:\n",
    "    out_dir = group_dir + contrast\n",
    "    if not os.path.exists(out_dir):\n",
    "        os.mkdir(out_dir)\n",
    "    \n",
    "    #add files to merge command\n",
    "    out_f = out_dir + '/' + f + '_merged.nii.gz'\n",
    "    if not os.path.exists(out_f):\n",
    "        cmd_str = ['fslmerge','-t',out_f]\n",
    "\n",
    "        for exp in ['ser','sim']: #order matters now\n",
    "            for sub in sub_list:\n",
    "                sub_f = home_dir + '/analysis/' + exp + '_8mm-PEfb-diff/' + sub + '/ffx/mni/smoothed/' + \\\n",
    "                    contrast + '/' + ims_to_files[f]\n",
    "                cmd_str.append(sub_f)\n",
    "        cmd_str = ' '.join(cmd_str)\n",
    "        os.system(cmd_str)"
   ]
  },
  {
   "cell_type": "code",
   "execution_count": 49,
   "metadata": {
    "collapsed": false
   },
   "outputs": [],
   "source": [
    "#merge the 3d files from ffx analysis into concatenated 4d files\n",
    "images = ['cope','varcope','dof','zstat']\n",
    "ims_to_files = {'cope':'cope1.nii.gz', 'varcope':'varcope1.nii.gz',\n",
    "                'dof':'tdof_t1.nii.gz','zstat':'zstat1.nii.gz'}\n",
    "contrast = 'PE_mb'\n",
    "for f in images:\n",
    "    out_dir = group_dir + contrast\n",
    "    if not os.path.exists(out_dir):\n",
    "        os.mkdir(out_dir)\n",
    "    \n",
    "    #add files to merge command\n",
    "    for exp in ['ser','sim']: #order matters now\n",
    "        out_f = out_dir + '/' + f + '_' + exp + '_merged.nii.gz'\n",
    "        if not os.path.exists(out_f):\n",
    "            cmd_str = ['fslmerge','-t',out_f]\n",
    "            for sub in sub_list:\n",
    "                sub_f = home_dir + '/analysis/' + exp + '_8mm-PEfb-diff/' + sub + '/ffx/mni/smoothed/' + \\\n",
    "                    contrast + '/' + ims_to_files[f]\n",
    "                cmd_str.append(sub_f)\n",
    "        cmd_str = ' '.join(cmd_str)\n",
    "        os.system(cmd_str)"
   ]
  },
  {
   "cell_type": "code",
   "execution_count": 42,
   "metadata": {
    "collapsed": false
   },
   "outputs": [
    {
     "name": "stderr",
     "output_type": "stream",
     "text": [
      "/usr/lib/python2.7/dist-packages/nipype/interfaces/base.py:397: UserWarning: Input pthreshold requires inputs: dlh, volume\n",
      "  warn(msg)\n",
      "INFO:workflow:['check', 'execution', 'logging']\n",
      "INFO:workflow:Running serially.\n",
      "INFO:workflow:Executing node flameo in dir: /data/home/iballard/fd/analysis/ser_correlation/flameo/flameo\n",
      "INFO:workflow:Running: flameo --copefile=/data/home/iballard/fd/analysis/ser_correlation/PE_mb/cope_ser_merged.nii.gz --covsplitfile=/data/home/iballard/fd/analysis/ser_correlation//design/sinker/output/design.grp --designfile=/data/home/iballard/fd/analysis/ser_correlation//design/sinker/output/design.mat --dofvarcopefile=/data/home/iballard/fd/analysis/ser_correlation/PE_mb/dof_ser_merged.nii.gz --ld=stats --maskfile=/data/home/iballard/fd//analysis/ser_8mm-PEfb-diff/group/mni/PE_mb/mask.nii.gz --runmode=flame1 --tcontrastsfile=/data/home/iballard/fd/analysis/ser_correlation//design/sinker/output/design.con --varcopefile=/data/home/iballard/fd/analysis/ser_correlation/PE_mb/varcope_ser_merged.nii.gz\n",
      "INFO:interface:stdout 2015-09-14T22:20:05.442693:Log directory is: stats\n",
      "INFO:interface:stdout 2015-09-14T22:20:05.444340:Setting up:\n",
      "INFO:interface:stdout 2015-09-14T22:20:07.411204:ntptsing=32.000000 \n",
      "INFO:interface:stdout 2015-09-14T22:20:07.411204:\n",
      "INFO:interface:stdout 2015-09-14T22:20:07.411204:evs_group=1.000000 \n",
      "INFO:interface:stdout 2015-09-14T22:20:07.411204:1.000000 \n",
      "INFO:interface:stdout 2015-09-14T22:20:07.411204:\n",
      "INFO:interface:stdout 2015-09-14T22:20:07.411204:No f contrasts\n",
      "INFO:interface:stdout 2015-09-14T22:20:07.522638:nevs=2\n",
      "INFO:interface:stdout 2015-09-14T22:20:07.522638:ntpts=32\n",
      "INFO:interface:stdout 2015-09-14T22:20:07.522638:ngs=1\n",
      "INFO:interface:stdout 2015-09-14T22:20:07.522638:nvoxels=149408\n",
      "INFO:interface:stdout 2015-09-14T22:20:07.600042:Running:\n",
      "INFO:interface:stdout 2015-09-14T22:20:07.600042:nmaskvoxels=149408\n",
      "INFO:interface:stdout 2015-09-14T22:20:49.036247: 1 2 3 4 5 6 7 8 9 10 11 12 13 14 15 16 17 18 19 20 21 22 23 24 25 26 27 28 29 30 31 32 33 34 35 36 37 38 39 40 41 42 43 44 45 46 47 48 49 50 51 52 53 54 55 56 57 58 59 60 61 62 63 64 65 66 67 68 69 70 71 72 73 74 75 76 77 78 79 80 81 82 83 84 85 86 87 88 89 90 91 92 93 94 95 96 97 98 99 100\n",
      "INFO:interface:stdout 2015-09-14T22:20:49.046829:nmaskvoxels=149408\n",
      "INFO:interface:stdout 2015-09-14T22:20:49.046829:Saving results\n",
      "INFO:interface:stdout 2015-09-14T22:20:53.544650:\n",
      "INFO:interface:stdout 2015-09-14T22:20:53.544650:Log directory was: stats\n",
      "INFO:workflow:Executing node smoothest in dir: /data/home/iballard/fd/analysis/ser_correlation/flameo/smoothest\n",
      "INFO:workflow:Running: smoothest --mask=/data/home/iballard/fd//analysis/ser_8mm-PEfb-diff/group/mni/PE_mb/mask.nii.gz --zstat=/data/home/iballard/fd/analysis/ser_correlation/flameo/flameo/stats/zstat1.nii.gz\n",
      "INFO:interface:stdout 2015-09-14T22:20:53.937479:DLH 0.0202389\n",
      "INFO:interface:stdout 2015-09-14T22:20:53.937479:VOLUME 149408\n",
      "INFO:interface:stdout 2015-09-14T22:20:53.937479:RESELS 228.108\n",
      "INFO:workflow:Executing node cluster in dir: /data/home/iballard/fd/analysis/ser_correlation/flameo/cluster\n",
      "INFO:workflow:Running: cluster --dlh=0.0202389000 --in=/data/home/iballard/fd/analysis/ser_correlation/flameo/flameo/stats/zstat1.nii.gz --oindex=/data/home/iballard/fd/analysis/ser_correlation/flameo/cluster/zstat1_index.nii.gz --olmax=/data/home/iballard/fd/analysis/ser_correlation/flameo/cluster/zstat1_localmax.txt --othresh=/data/home/iballard/fd/analysis/ser_correlation/flameo/cluster/zstat1_threshold.nii.gz --peakdist=30.0000000000 --pthresh=0.0500000000 --thresh=2.3000000000 --volume=149408\n",
      "INFO:interface:stdout 2015-09-14T22:20:54.205790:Cluster Index\tVoxels\tP\t-log10(P)\tMAX\tMAX X (vox)\tMAX Y (vox)\tMAX Z (vox)\tCOG X (vox)\tCOG Y (vox)\tCOG Z (vox)\n",
      "INFO:interface:stdout 2015-09-14T22:20:54.207177:1\t1636\t0.00105\t2.98\t4.53\t43\t22\t24\t35.5\t26.6\t25.2\n",
      "INFO:workflow:Executing node sinker in dir: /data/home/iballard/fd/analysis/ser_correlation/flameo/sinker\n"
     ]
    },
    {
     "data": {
      "text/plain": [
       "<networkx.classes.digraph.DiGraph at 0x7f96572eff90>"
      ]
     },
     "execution_count": 42,
     "metadata": {},
     "output_type": "execute_result"
    }
   ],
   "source": [
    "#Run flameo\n",
    "wf = Workflow(name = 'flameo',base_dir = group_dir)\n",
    "exp = 'ser'\n",
    "#input image files\n",
    "im_dir = group_dir + contrast\n",
    "cope_file = im_dir + '/cope_' + exp + '_merged.nii.gz'\n",
    "var_cope_file = im_dir + '/varcope_' + exp + '_merged.nii.gz'\n",
    "dof_var_cope_file = im_dir + '/dof_' + exp + '_merged.nii.gz'\n",
    "\n",
    "#input design files\n",
    "design_dir = group_dir + '/design/sinker/output/'\n",
    "t_con_file = design_dir + 'design.con'\n",
    "cov_split_file = design_dir + 'design.grp'\n",
    "design_file = design_dir + 'design.mat'\n",
    "\n",
    "#mask file\n",
    "mask_file = home_dir + '/analysis/ser_8mm-PEfb-diff/group/mni/' + contrast + '/mask.nii.gz'\n",
    "\n",
    "#set up flame\n",
    "flameo = Node(fsl.FLAMEO(cope_file = cope_file, var_cope_file= var_cope_file,\n",
    "                    dof_var_cope_file = dof_var_cope_file, run_mode = 'flame1',\n",
    "                   t_con_file = t_con_file, cov_split_file = cov_split_file, \n",
    "                    design_file = design_file, mask_file = mask_file), name = 'flameo')\n",
    "\n",
    "#estimate smoothness\n",
    "smoothest = Node(fsl.SmoothEstimate(mask_file = mask_file),name='smoothest')\n",
    "wf.connect(flameo,'zstats',smoothest,'zstat_file')\n",
    "\n",
    "#set up cluster correction\n",
    "cluster = Node(fsl.Cluster(threshold = 2.3, pthreshold = 0.05, out_threshold_file = True,\n",
    "                          out_index_file = True, out_localmax_txt_file=True,\n",
    "                           peak_distance=30, use_mm=True),name='cluster')\n",
    "wf.connect(smoothest,'dlh',cluster,'dlh')\n",
    "wf.connect(smoothest,'volume',cluster,'volume')\n",
    "wf.connect(flameo,'zstats',cluster,'in_file')\n",
    "\n",
    "##set up DataSink so I can control where outputs go\n",
    "sink = Node(DataSink(),name = 'sinker',base_directory = group_dir)\n",
    "wf.connect(flameo,'copes',sink,'output.copes')\n",
    "wf.connect(flameo,'fstats',sink,'output.fstats')\n",
    "wf.connect(flameo,'mrefvars',sink,'output.mrefvars')\n",
    "wf.connect(flameo,'pes',sink,'output.pes')\n",
    "wf.connect(flameo,'res4d',sink,'output.res4d')\n",
    "wf.connect(flameo,'stats_dir',sink,'output.stats_dir')\n",
    "wf.connect(flameo,'tdof',sink,'output.tdof')\n",
    "wf.connect(flameo,'tstats',sink,'output.tstats')\n",
    "wf.connect(flameo,'var_copes',sink,'output.varcopes')\n",
    "wf.connect(flameo,'weights',sink,'output.weights')\n",
    "wf.connect(flameo,'zfstats',sink,'output.zfstats')\n",
    "wf.connect(flameo,'zstats',sink,'output.zstats')\n",
    "\n",
    "wf.connect(cluster,'index_file',sink,'output.cluster.index_file')\n",
    "wf.connect(cluster,'localmax_txt_file',sink,'output.cluster.localmax_txt_file')\n",
    "wf.connect(cluster,'localmax_vol_file',sink,'output.cluster.localmax_vol_file')\n",
    "wf.connect(cluster,'max_file',sink,'output.cluster.max_file')\n",
    "wf.connect(cluster,'mean_file',sink,'output.cluster.mean_file')\n",
    "wf.connect(cluster,'pval_file',sink,'output.cluster.pval_file')\n",
    "wf.connect(cluster,'size_file',sink,'output.cluster.size_file')\n",
    "wf.connect(cluster,'threshold_file',sink,'output.cluster.threshold_file')\n",
    "\n",
    "wf.run()"
   ]
  },
  {
   "cell_type": "code",
   "execution_count": 8,
   "metadata": {
    "collapsed": false
   },
   "outputs": [
    {
     "name": "stderr",
     "output_type": "stream",
     "text": [
      "INFO:workflow:Converting dotfile: /data/home/iballard/fd/analysis/group_ser_sim/flameo/workflow_graph.dot to png format\n"
     ]
    },
    {
     "data": {
      "image/png": "[encoded data removed]",
      "text/plain": [
       "<IPython.core.display.Image object>"
      ]
     },
     "execution_count": 8,
     "metadata": {},
     "output_type": "execute_result"
    }
   ],
   "source": [
    "wf.write_graph('workflow_graph.dot')\n",
    "Image(filename = '/data/home/iballard/fd/analysis/group_ser_sim/flameo/workflow_graph.dot.png' ) "
   ]
  },
  {
   "cell_type": "code",
   "execution_count": 51,
   "metadata": {
    "collapsed": false
   },
   "outputs": [
    {
     "data": {
      "text/plain": [
       "0"
      ]
     },
     "execution_count": 51,
     "metadata": {},
     "output_type": "execute_result"
    }
   ],
   "source": [
    "#do fitting with randomise\n",
    "#input image files\n",
    "im_dir = group_dir + contrast\n",
    "zstat_file = im_dir + '/zstat_' + exp + '_merged.nii.gz'\n",
    "mask_file = home_dir + '/analysis/ser_8mm-PEfb-diff/group/mni/' + contrast + '/mask.nii.gz'\n",
    "\n",
    "#input design files\n",
    "design_dir = group_dir + '/design/sinker/output/'\n",
    "t_con_file = design_dir + 'design.con'\n",
    "cov_split_file = design_dir + 'design.grp'\n",
    "design_file = design_dir + 'design.mat'\n",
    "cmd_str = ['randomise','-i',zstat_file,'-o',group_dir,'-d',design_file,\n",
    "           '-t',t_con_file,'-m',mask_file,'-n','500','-D','-T','-1']\n",
    "cmd_str = ' '.join(cmd_str)\n",
    "os.system(cmd_str)"
   ]
  },
  {
   "cell_type": "code",
   "execution_count": 69,
   "metadata": {
    "collapsed": false
   },
   "outputs": [
    {
     "data": {
      "text/plain": [
       "0"
      ]
     },
     "execution_count": 69,
     "metadata": {},
     "output_type": "execute_result"
    }
   ],
   "source": [
    "#do fitting with randomise\n",
    "#input image files\n",
    "im_dir = group_dir + contrast\n",
    "zstat_file = im_dir + '/zstat_merged.nii.gz'\n",
    "mask_file = home_dir + '/analysis/ser_8mm-PEfb-diff/group/mni/' + contrast + '/mask.nii.gz'\n",
    "\n",
    "#input design files\n",
    "design_dir = group_dir + '/design/sinker/output/'\n",
    "t_con_file = design_dir + 'design.con'\n",
    "cov_split_file = design_dir + 'design.grp'\n",
    "design_file = design_dir + 'design.mat'\n",
    "cmd_str = ['randomise','-i',zstat_file,'-o',group_dir,'-d',design_file,\n",
    "           '-t',t_con_file,'-m',mask_file,'-e',cov_split_file,'-n','500','-C','1.7']\n",
    "cmd_str = ' '.join(cmd_str)\n",
    "os.system(cmd_str)"
   ]
  },
  {
   "cell_type": "code",
   "execution_count": null,
   "metadata": {
    "collapsed": true
   },
   "outputs": [],
   "source": []
  }
 ],
 "metadata": {
  "kernelspec": {
   "display_name": "Python 2",
   "language": "python",
   "name": "python2"
  },
  "language_info": {
   "codemirror_mode": {
    "name": "ipython",
    "version": 2
   },
   "file_extension": ".py",
   "mimetype": "text/x-python",
   "name": "python",
   "nbconvert_exporter": "python",
   "pygments_lexer": "ipython2",
   "version": "2.7.6"
  }
 },
 "nbformat": 4,
 "nbformat_minor": 0
}
