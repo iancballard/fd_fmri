{
 "cells": [
  {
   "cell_type": "code",
   "execution_count": 1,
   "metadata": {
    "collapsed": true
   },
   "outputs": [],
   "source": [
    "import os\n",
    "import numpy as np\n",
    "import glob\n",
    "import csv\n",
    "import matplotlib\n",
    "import matplotlib.pyplot as plt\n",
    "import pandas as pd\n",
    "from scipy import stats, optimize\n",
    "from pandas import DataFrame, Series\n",
    "import seaborn as sns\n",
    "import random as rd\n",
    "from statsmodels.formula.api import ols\n",
    "from statsmodels.stats.anova import anova_lm\n",
    "import scipy.stats\n",
    "import nibabel as nib"
   ]
  },
  {
   "cell_type": "code",
   "execution_count": 3,
   "metadata": {
    "collapsed": true
   },
   "outputs": [],
   "source": [
    "%matplotlib inline"
   ]
  },
  {
   "cell_type": "markdown",
   "metadata": {},
   "source": [
    "Organizes data from scan and creates symbolic links in the /data directory of the CNI server\n"
   ]
  },
  {
   "cell_type": "code",
   "execution_count": 4,
   "metadata": {
    "collapsed": true
   },
   "outputs": [],
   "source": [
    "def plot_slice(fname, z_idx=15):\n",
    "\n",
    "    # Load the image and collect the data\n",
    "    # and orientation information\n",
    "    img = nib.load(fname)\n",
    "    data = img.get_data()\n",
    "    aff = img.get_affine()\n",
    "\n",
    "    # Find the center of the brain matrix\n",
    "    ctr = np.dot(np.linalg.inv(aff), [0, 0, 0, 1])[:3]\n",
    "\n",
    "    # Plot the data\n",
    "    vmin, vmax = (0, 1) if data.dtype == np.int16 else (30, 150)\n",
    "    plt.imshow(np.rot90(data[:, :, ctr[2] + z_idx]), \n",
    "               cmap=\"gray\", vmin=vmin, vmax=vmax)\n",
    "    plt.gca().set_axis_off()"
   ]
  },
  {
   "cell_type": "code",
   "execution_count": 39,
   "metadata": {
    "collapsed": false,
    "scrolled": true
   },
   "outputs": [],
   "source": [
    "#preliminary stuff\n",
    "#get subs and make mapping for sub id\n",
    "data_dir = '/nimsfs/smcclure/fd/'\n",
    "home_dir = '/data/home/iballard/fd/'\n",
    "subj_file = home_dir + 'scripts/sub_scan_mappings.txt'\n",
    "cb_file = home_dir + 'scripts/sub_cb_mappings.txt'\n",
    "\n",
    "subs = os.listdir(data_dir)\n",
    "subs = sorted(subs, key= lambda s: int(s.split('_')[2])) #sort subjects by session ID for ease of making text file\n",
    "\n",
    "#make dictionary mapping scan ids to subject ids\n",
    "scan_to_id = {}\n",
    "with open(subj_file) as f:\n",
    "    for line in f:\n",
    "        (key,val) = line.strip().split(' ')\n",
    "        scan_to_id[key] = val\n",
    "\n",
    "#make dictionary mapping sub ids to counterbalance\n",
    "sub_to_cb = {}\n",
    "with open(cb_file) as f:\n",
    "    for line in f:\n",
    "        (key,val) = line.strip().split(' ') \n",
    "        sub_to_cb[key] = int(val)\n",
    "\n",
    "#make subject folder if it doesn't exist\n",
    "for scan in scan_to_id.keys():\n",
    "    sub_dir = home_dir + 'data/fd_' + scan_to_id[scan]\n",
    "    if not os.path.isdir(sub_dir):\n",
    "        os.mkdir(sub_dir)"
   ]
  },
  {
   "cell_type": "code",
   "execution_count": 6,
   "metadata": {
    "collapsed": true
   },
   "outputs": [],
   "source": [
    "#short function for getting an ordered list of a directory's contents, sorted by scan number\n",
    "def get_contents(dir_name):\n",
    "    sub_files = os.listdir(dir_name)\n",
    "    sub_files = sorted(sub_files, key = lambda s: int(s.split('_')[1])) \n",
    "    return sub_files"
   ]
  },
  {
   "cell_type": "code",
   "execution_count": 42,
   "metadata": {
    "collapsed": false
   },
   "outputs": [],
   "source": [
    "#makes a symbolic link if it doesnt exist\n",
    "def make_link(old_file, new_file):\n",
    "    if not os.path.exists(new_file):\n",
    "        cmd_str = 'ln -s ' + old_file + ' ' + new_file\n",
    "        os.system(cmd_str)\n",
    "    return"
   ]
  },
  {
   "cell_type": "code",
   "execution_count": 7,
   "metadata": {
    "collapsed": false,
    "scrolled": true
   },
   "outputs": [],
   "source": [
    "#create symbolic links for T1s\n",
    "for scan in scan_to_id.keys():\n",
    "    sub = scan_to_id[scan]\n",
    "    \n",
    "    #create new directory if it doesnt exist\n",
    "    anat_dir = home_dir + 'data/fd_' + sub + '/anat'\n",
    "    if not os.path.isdir(anat_dir):\n",
    "        os.mkdir(anat_dir)\n",
    "    \n",
    "    if scan != '20150304_0853_9027': #t1 from a different scan for this subject\n",
    "    \n",
    "        #get list of files in directory sorted by scan #\n",
    "        sub_files = get_contents(data_dir + scan)\n",
    "\n",
    "\n",
    "        #get T1 directory (anatomical)\n",
    "        t1 = [f for f in sub_files if f.split('_')[3] == 'T1w'][0]\n",
    "        \n",
    "        #append anat file\n",
    "        old_anat = data_dir + '/' + scan + '/' + t1\n",
    "        nifti = os.listdir(old_anat)[0]\n",
    "        old_anat = old_anat + '/' + nifti\n",
    "\n",
    "        #create symbolic link\n",
    "        new_anat = anat_dir + '/T1w_Whole_brain_1mm.nii.gz'\n",
    "        make_link(old_anat,new_anat)"
   ]
  },
  {
   "cell_type": "code",
   "execution_count": 20,
   "metadata": {
    "collapsed": false
   },
   "outputs": [
    {
     "ename": "OSError",
     "evalue": "[Errno 20] Not a directory: '/nimsfs/smcclure/fd//20150302_1222_9011/9011_9_1_T1w_Whole_brain_1mm/9011_9_1.nii.gz'",
     "output_type": "error",
     "traceback": [
      "\u001b[1;31m---------------------------------------------------------------------------\u001b[0m",
      "\u001b[1;31mOSError\u001b[0m                                   Traceback (most recent call last)",
      "\u001b[1;32m<ipython-input-20-dedfecc85011>\u001b[0m in \u001b[0;36m<module>\u001b[1;34m()\u001b[0m\n\u001b[0;32m      5\u001b[0m \u001b[0mplot_slice\u001b[0m\u001b[1;33m(\u001b[0m\u001b[0manat_file\u001b[0m\u001b[1;33m)\u001b[0m\u001b[1;33m\u001b[0m\u001b[0m\n\u001b[0;32m      6\u001b[0m \u001b[1;33m\u001b[0m\u001b[0m\n\u001b[1;32m----> 7\u001b[1;33m \u001b[0mold_anat\u001b[0m \u001b[1;33m=\u001b[0m \u001b[0mdata_dir\u001b[0m \u001b[1;33m+\u001b[0m \u001b[0mscan\u001b[0m \u001b[1;33m+\u001b[0m \u001b[0mt1\u001b[0m \u001b[1;33m+\u001b[0m \u001b[1;34m'/'\u001b[0m \u001b[1;33m+\u001b[0m \u001b[0mos\u001b[0m\u001b[1;33m.\u001b[0m\u001b[0mlistdir\u001b[0m\u001b[1;33m(\u001b[0m\u001b[0mold_anat\u001b[0m\u001b[1;33m)\u001b[0m\u001b[1;33m[\u001b[0m\u001b[1;36m0\u001b[0m\u001b[1;33m]\u001b[0m\u001b[1;33m\u001b[0m\u001b[0m\n\u001b[0m\u001b[0;32m      8\u001b[0m \u001b[0mplot_slice\u001b[0m\u001b[1;33m(\u001b[0m\u001b[0mold_anat\u001b[0m\u001b[1;33m)\u001b[0m\u001b[1;33m\u001b[0m\u001b[0m\n\u001b[0;32m      9\u001b[0m \u001b[1;33m\u001b[0m\u001b[0m\n",
      "\u001b[1;31mOSError\u001b[0m: [Errno 20] Not a directory: '/nimsfs/smcclure/fd//20150302_1222_9011/9011_9_1_T1w_Whole_brain_1mm/9011_9_1.nii.gz'"
     ]
    },
    {
     "data": {
      "image/png": "[encoded data removed]",
      "text/plain": [
       "<matplotlib.figure.Figure at 0x7f00d544bc90>"
      ]
     },
     "metadata": {},
     "output_type": "display_data"
    }
   ],
   "source": [
    "#check one of the subjects files to make sure linking worked\n",
    "scan = scan_to_id.keys()[0]\n",
    "sub = scan_to_id[scan]\n",
    "anat_file = home_dir + 'data/fd_' + sub + '/anat/T1w_Whole_brain_1mm.nii.gz'\n",
    "plot_slice(anat_file)\n",
    "\n",
    "old_anat = data_dir + scan + t1 + '/' + os.listdir(old_anat)[0]\n",
    "plot_slice(old_anat)\n",
    "\n"
   ]
  },
  {
   "cell_type": "code",
   "execution_count": 40,
   "metadata": {
    "collapsed": false
   },
   "outputs": [
    {
     "name": "stdout",
     "output_type": "stream",
     "text": [
      "20150410_1106_9388\n",
      "/nimsfs/smcclure/fd/20150410_1106_9388/9388_7_1_mux3_16mm_TR15_DEV/9388_7_1.nii.gz\n",
      "True\n",
      "20150410_0918_9387\n",
      "/nimsfs/smcclure/fd/20150410_0918_9387/9387_6_1_mux3_16mm_TR15_DEV/9387_6_1.nii.gz\n",
      "True\n",
      "20150308_1902_9065\n",
      "/nimsfs/smcclure/fd/20150308_1902_9065/9065_7_1_mux3_16mm_TR15_DEV/9065_7_1.nii.gz\n",
      "True\n",
      "20150305_1848_9040\n",
      "/nimsfs/smcclure/fd/20150305_1848_9040/9040_7_1_mux3_16mm_TR15_DEV/9040_7_1.nii.gz\n",
      "True\n",
      "20150303_1216_9020\n",
      "/nimsfs/smcclure/fd/20150303_1216_9020/9020_7_1_mux3_16mm_TR15_DEV/9020_7_1.nii.gz\n",
      "True\n",
      "20150302_1945_9017\n",
      "/nimsfs/smcclure/fd/20150302_1945_9017/9017_8_1_mux3_16mm_TR15_DEV/9017_8_1.nii.gz\n",
      "True\n",
      "20150407_1921_9367\n",
      "/nimsfs/smcclure/fd/20150407_1921_9367/9367_7_1_mux3_16mm_TR15_DEV/9367_7_1.nii.gz\n",
      "True\n",
      "20150301_1611_9006\n",
      "/nimsfs/smcclure/fd/20150301_1611_9006/9006_9_1_mux3_16mm_TR15_DEV/9006_9_1.nii.gz\n",
      "True\n",
      "20150407_2127_9368\n",
      "/nimsfs/smcclure/fd/20150407_2127_9368/9368_7_1_mux3_16mm_TR15_DEV/9368_7_1.nii.gz\n",
      "True\n",
      "20150301_1829_9007\n",
      "/nimsfs/smcclure/fd/20150301_1829_9007/9007_6_1_mux3_16mm_TR15_DEV/9007_6_1.nii.gz\n",
      "True\n",
      "20150304_0853_9027\n",
      "/nimsfs/smcclure/fd/20150304_0853_9027/9027_7_1_mux3_16mm_TR15_DEV/9027_7_1.nii.gz\n",
      "True\n",
      "20150409_1255_9383\n",
      "/nimsfs/smcclure/fd/20150409_1255_9383/9383_9_1_mux3_16mm_TR15_DEV/9383_9_1.nii.gz\n",
      "True\n",
      "20150408_2009_9377\n",
      "/nimsfs/smcclure/fd/20150408_2009_9377/9377_8_1_mux3_16mm_TR15_DEV/9377_8_1.nii.gz\n",
      "True\n",
      "20150303_1958_9024\n",
      "/nimsfs/smcclure/fd/20150303_1958_9024/9024_7_1_mux3_16mm_TR15_DEV/9024_7_1.nii.gz\n",
      "True\n",
      "20150302_1222_9011\n",
      "/nimsfs/smcclure/fd/20150302_1222_9011/9011_6_1_mux3_16mm_TR15_DEV/9011_6_1.nii.gz\n",
      "True\n"
     ]
    }
   ],
   "source": [
    "##copy main mux functional funs\n",
    "for scan in scan_to_id.keys():\n",
    "    sub = scan_to_id[scan]\n",
    "    print scan\n",
    "    #create new directory if it doesnt exist\n",
    "    func_dir = home_dir + 'data/fd_' + sub + '/func'\n",
    "    if not os.path.isdir(func_dir):\n",
    "        os.mkdir(func_dir)\n",
    "    \n",
    "    #get list of files in directory sorted by scan #\n",
    "    sub_files = get_contents(data_dir + scan)\n",
    " \n",
    "    ##get mux directories (main runs)\n",
    "    mux = [f for f in sub_files if f.split('_')[4] == '16mm']\n",
    "    mux = sorted(mux, key = lambda s: int(s.split('_')[1]))\n",
    "    new_mux = [] ##append list with nifti contained within folder\n",
    "    for im in mux:\n",
    "        nifti = os.listdir(data_dir + scan + '/' + im) #filename of nifti contained within folder\n",
    "        nifti = [f for f in nifti if f.split('.')[1] == 'nii'][0]\n",
    "        new_mux.append(im + '/' + nifti)\n",
    "    mux = new_mux\n",
    "    \n",
    "    ##toss out mux scans that are too short (aborted scans)\n",
    "    for im in mux:\n",
    "        file_path = data_dir + scan + '/' + im\n",
    "        img = nib.load(file_path)\n",
    "        \n",
    "        if img.shape[3] < 40: ##scan less than a minute long\n",
    "            mux.remove(im)\n",
    "    \n",
    "    ##create symbolic links\n",
    "    if sub_to_cb[sub] == 1: ##cb 1\n",
    "        #ser 1\n",
    "        old_mux = data_dir + scan + '/' + mux[0]\n",
    "        new_mux = func_dir + '/ser_1.nii.gz'\n",
    "        make_link(old_mux,new_mux)\n",
    "        \n",
    "        #sim 1\n",
    "        old_mux = data_dir + scan + '/' + mux[1]\n",
    "        new_mux = func_dir + '/sim_1.nii.gz'\n",
    "        make_link(old_mux,new_mux)\n",
    "        \n",
    "        #ser 2\n",
    "        old_mux = data_dir + scan + '/' + mux[2]\n",
    "        new_mux = func_dir + '/ser_1.nii.gz'\n",
    "        make_link(old_mux,new_mux)\n",
    "        \n",
    "        #sim 2\n",
    "        old_mux = data_dir + scan + '/' + mux[3]\n",
    "        new_mux = func_dir + '/sim_1.nii.gz'\n",
    "        make_link(old_mux,new_mux)\n",
    "        \n",
    "        #ser 3\n",
    "        old_mux = data_dir + scan + '/' + mux[4]\n",
    "        new_mux = func_dir + '/ser_1.nii.gz'\n",
    "        make_link(old_mux,new_mux)\n",
    "        \n",
    "        #sim 3\n",
    "        old_mux = data_dir + scan + '/' + mux[5]\n",
    "        new_mux = func_dir + '/sim_1.nii.gz'\n",
    "        make_link(old_mux,new_mux)\n",
    "        \n",
    "    elif sub_to_cb[sub] == 2: #cb 2\n",
    "        None\n",
    "    "
   ]
  },
  {
   "cell_type": "code",
   "execution_count": null,
   "metadata": {
    "collapsed": true
   },
   "outputs": [],
   "source": []
  },
  {
   "cell_type": "code",
   "execution_count": null,
   "metadata": {
    "collapsed": true
   },
   "outputs": [],
   "source": [
    "\n",
    "    \n",
    "    \n",
    "    \n",
    "    ##get calibration scans for field map unwarping\n",
    "    cal2 = [f for f in sub_files if f.split('_')[4] == 'cal2']\n",
    "    cal2 = sorted(cal2, key = lambda s: int(s.split('_')[1]))\n",
    "    \n",
    "    ##need to get just the preceding cal1 scans for field mapping (should be just 4/8)\n",
    "    cal1 = []\n",
    "    for cal in cal2:\n",
    "        preceding_index = int(cal.split('_')[1]) - 1\n",
    "        c1 = [f for f in sub_files if int(f.split('_')[1]) == preceding_index]\n",
    "        cal1.append(c1)\n",
    "    \n",
    "    \n",
    "#ln -s /nimsfs/smcclure/efarb/20110506_1157_373/ efarb_sub001"
   ]
  }
 ],
 "metadata": {
  "kernelspec": {
   "display_name": "Python 2",
   "language": "python",
   "name": "python2"
  },
  "language_info": {
   "codemirror_mode": {
    "name": "ipython",
    "version": 2
   },
   "file_extension": ".py",
   "mimetype": "text/x-python",
   "name": "python",
   "nbconvert_exporter": "python",
   "pygments_lexer": "ipython2",
   "version": "2.7.6"
  }
 },
 "nbformat": 4,
 "nbformat_minor": 0
}
