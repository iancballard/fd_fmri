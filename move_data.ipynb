{
 "cells": [
  {
   "cell_type": "code",
   "execution_count": 1,
   "metadata": {
    "collapsed": true
   },
   "outputs": [],
   "source": [
    "import os\n",
    "import numpy as np\n",
    "import glob\n",
    "import csv\n",
    "import matplotlib\n",
    "import matplotlib.pyplot as plt\n",
    "import pandas as pd\n",
    "from scipy import stats, optimize\n",
    "from pandas import DataFrame, Series\n",
    "import seaborn as sns\n",
    "import random as rd\n",
    "from statsmodels.formula.api import ols\n",
    "from statsmodels.stats.anova import anova_lm\n",
    "import scipy.stats"
   ]
  },
  {
   "cell_type": "code",
   "execution_count": 2,
   "metadata": {
    "collapsed": true
   },
   "outputs": [],
   "source": [
    "%matplotlib inline"
   ]
  },
  {
   "cell_type": "code",
   "execution_count": 43,
   "metadata": {
    "collapsed": false
   },
   "outputs": [
    {
     "name": "stdout",
     "output_type": "stream",
     "text": [
      "[]\n",
      "[]\n",
      "[]\n",
      "[]\n",
      "[['8982_5_1_mux3_cal1_DEV_pe1'], ['8982_8_1_mux3_cal1_DEV_pe1'], ['8982_11_1_mux3_cal1_DEV_pe1']]\n",
      "['8982_6_1_mux3_cal2_DEV_pe0', '8982_9_1_mux3_cal2_DEV_pe0', '8982_12_1_mux3_cal2_DEV_pe0']\n",
      "[]\n",
      "[]\n",
      "[]\n",
      "[]\n",
      "[]\n",
      "[]\n",
      "[['9006_4_1_mux3_cal1_DEV_pe1'], ['9006_7_1_mux3_cal1_DEV_pe1'], ['9006_10_1_mux3_cal1_DEV_pe1'], ['9006_14_1_mux3_cal1_DEV_pe1'], ['9006_15_1_mux3_cal2_DEV_pe0'], ['9006_18_1_mux3_cal1_DEV_pe1'], ['9006_22_1_mux3_cal1_DEV_pe1'], ['9006_27_1_mux3_cal1_DEV_pe1'], ['9006_30_1_mux3_cal1_DEV_pe1']]\n",
      "['9006_5_1_mux3_cal2_DEV_pe0', '9006_8_1_mux3_cal2_DEV_pe0', '9006_11_1_mux3_cal2_DEV_pe0', '9006_15_1_mux3_cal2_DEV_pe0', '9006_16_1_mux3_cal2_DEV_pe0', '9006_19_1_mux3_cal2_DEV_pe0', '9006_23_1_mux3_cal2_DEV_pe0', '9006_28_1_mux3_cal2_DEV_pe0', '9006_31_1_mux3_cal2_DEV_pe0']\n",
      "[['9007_4_1_mux3_cal1_DEV_pe1'], ['9007_7_1_mux3_cal1_DEV_pe1'], ['9007_11_1_mux3_cal1_DEV_pe1'], ['9007_14_1_mux3_cal1_DEV_pe1'], ['9007_18_1_mux3_cal1_DEV_pe1'], ['9007_21_1_mux3_cal1_DEV_pe1'], ['9007_25_1_mux3_cal1_DEV_pe1'], ['9007_28_1_mux3_cal1_DEV_pe1']]\n",
      "['9007_5_1_mux3_cal2_DEV_pe0', '9007_8_1_mux3_cal2_DEV_pe0', '9007_12_1_mux3_cal2_DEV_pe0', '9007_15_1_mux3_cal2_DEV_pe0', '9007_19_1_mux3_cal2_DEV_pe0', '9007_22_1_mux3_cal2_DEV_pe0', '9007_26_1_mux3_cal2_DEV_pe0', '9007_29_1_mux3_cal2_DEV_pe0']\n",
      "[]\n",
      "[]\n",
      "[['9011_4_1_mux3_cal1_DEV_pe1'], ['9011_9_1_T1w_Whole_brain_1mm'], ['9011_13_1_mux3_cal1_DEV_pe1'], ['9011_22_1_mux3_cal1_DEV_pe1'], ['9011_27_1_mux3_cal1_DEV_pe1']]\n",
      "['9011_5_1_mux3_cal2_DEV_pe0', '9011_10_1_mux3_cal2_DEV_pe0', '9011_14_1_mux3_cal2_DEV_pe0', '9011_23_1_mux3_cal2_DEV_pe0', '9011_28_1_mux3_cal2_DEV_pe0']\n",
      "[['9017_6_1_mux3_cal1_DEV_pe1'], ['9017_14_1_mux3_cal1_DEV_pe1'], ['9017_22_1_mux3_cal1_DEV_pe1'], ['9017_27_1_mux3_cal1_DEV_pe1']]\n",
      "['9017_7_1_mux3_cal2_DEV_pe0', '9017_15_1_mux3_cal2_DEV_pe0', '9017_23_1_mux3_cal2_DEV_pe0', '9017_28_1_mux3_cal2_DEV_pe0']\n",
      "[['9020_5_1_mux3_cal1_DEV_pe1'], ['9020_13_1_mux3_cal1_DEV_pe1'], ['9020_18_1_mux3_cal1_DEV_pe1'], ['9020_23_1_mux3_cal1_DEV_pe1']]\n",
      "['9020_6_1_mux3_cal2_DEV_pe0', '9020_14_1_mux3_cal2_DEV_pe0', '9020_19_1_mux3_cal2_DEV_pe0', '9020_24_1_mux3_cal2_DEV_pe0']\n",
      "[['9024_5_1_mux3_cal1_DEV_pe1'], ['9024_13_1_mux3_cal1_DEV_pe1'], ['9024_22_1_mux3_cal1_DEV_pe1'], ['9024_30_1_mux3_cal1_DEV_pe1']]\n",
      "['9024_6_1_mux3_cal2_DEV_pe0', '9024_14_1_mux3_cal2_DEV_pe0', '9024_23_1_mux3_cal2_DEV_pe0', '9024_31_1_mux3_cal2_DEV_pe0']\n",
      "[]\n",
      "[]\n",
      "[['9027_5_1_mux3_cal1_DEV_pe1'], ['9027_13_1_mux3_cal1_DEV_pe1'], ['9027_21_1_mux3_cal1_DEV_pe1'], ['9027_26_1_mux3_cal1_DEV_pe1']]\n",
      "['9027_6_1_mux3_cal2_DEV_pe0', '9027_14_1_mux3_cal2_DEV_pe0', '9027_22_1_mux3_cal2_DEV_pe0', '9027_27_1_mux3_cal2_DEV_pe0']\n",
      "[['9040_5_1_mux3_cal1_DEV_pe1'], ['9040_13_1_mux3_cal1_DEV_pe1'], ['9040_21_1_mux3_cal1_DEV_pe1'], ['9040_29_1_mux3_cal1_DEV_pe1']]\n",
      "['9040_6_1_mux3_cal2_DEV_pe0', '9040_14_1_mux3_cal2_DEV_pe0', '9040_22_1_mux3_cal2_DEV_pe0', '9040_30_1_mux3_cal2_DEV_pe0']\n",
      "[['9065_5_1_mux3_cal1_DEV_pe1'], ['9065_13_1_mux3_cal1_DEV_pe1'], ['9065_21_1_mux3_cal1_DEV_pe1'], ['9065_29_1_mux3_cal1_DEV_pe1']]\n",
      "['9065_6_1_mux3_cal2_DEV_pe0', '9065_14_1_mux3_cal2_DEV_pe0', '9065_22_1_mux3_cal2_DEV_pe0', '9065_30_1_mux3_cal2_DEV_pe0']\n",
      "[['9066_5_1_mux3_cal1_DEV_pe1']]\n",
      "['9066_6_1_mux3_cal2_DEV_pe0']\n",
      "[['9367_5_1_mux3_cal1_DEV_pe1'], ['9367_13_1_mux3_cal1_DEV_pe1'], ['9367_22_1_mux3_cal1_DEV_pe1'], ['9367_30_1_mux3_cal1_DEV_pe1']]\n",
      "['9367_6_1_mux3_cal2_DEV_pe0', '9367_14_1_mux3_cal2_DEV_pe0', '9367_23_1_mux3_cal2_DEV_pe0', '9367_31_1_mux3_cal2_DEV_pe0']\n",
      "[['9368_5_1_mux3_cal1_DEV_pe1'], ['9368_13_1_mux3_cal1_DEV_pe1'], ['9368_22_1_mux3_cal1_DEV_pe1'], ['9368_31_1_mux3_cal1_DEV_pe1']]\n",
      "['9368_6_1_mux3_cal2_DEV_pe0', '9368_14_1_mux3_cal2_DEV_pe0', '9368_23_1_mux3_cal2_DEV_pe0', '9368_32_1_mux3_cal2_DEV_pe0']\n",
      "[]\n",
      "[]\n",
      "[['9377_6_1_mux3_cal1_DEV_pe1'], ['9377_14_1_mux3_cal1_DEV_pe1'], ['9377_25_1_mux3_cal1_DEV_pe1'], ['9377_34_1_mux3_cal1_DEV_pe1']]\n",
      "['9377_7_1_mux3_cal2_DEV_pe0', '9377_15_1_mux3_cal2_DEV_pe0', '9377_26_1_mux3_cal2_DEV_pe0', '9377_35_1_mux3_cal2_DEV_pe0']\n",
      "[['9383_7_1_mux3_cal1_DEV_pe1'], ['9383_15_1_mux3_cal1_DEV_pe1'], ['9383_24_1_mux3_cal1_DEV_pe1'], ['9383_32_1_mux3_cal1_DEV_pe1']]\n",
      "['9383_8_1_mux3_cal2_DEV_pe0', '9383_16_1_mux3_cal2_DEV_pe0', '9383_25_1_mux3_cal2_DEV_pe0', '9383_33_1_mux3_cal2_DEV_pe0']\n",
      "[['9387_4_1_mux3_cal1_DEV_pe1'], ['9387_11_1_mux3_cal1_DEV_pe1'], ['9387_21_1_mux3_cal1_DEV_pe1'], ['9387_26_1_mux3_cal1_DEV_pe1']]\n",
      "['9387_5_1_mux3_cal2_DEV_pe0', '9387_12_1_mux3_cal2_DEV_pe0', '9387_22_1_mux3_cal2_DEV_pe0', '9387_27_1_mux3_cal2_DEV_pe0']\n",
      "[['9388_5_1_mux3_cal1_DEV_pe1'], ['9388_13_1_mux3_cal1_DEV_pe1'], ['9388_21_1_mux3_cal1_DEV_pe1'], ['9388_26_1_mux3_cal1_DEV_pe1']]\n",
      "['9388_6_1_mux3_cal2_DEV_pe0', '9388_14_1_mux3_cal2_DEV_pe0', '9388_22_1_mux3_cal2_DEV_pe0', '9388_27_1_mux3_cal2_DEV_pe0']\n"
     ]
    }
   ],
   "source": [
    "#create symbolic links in the /data directory\n",
    "data_dir = '/nimsfs/smcclure/fd/'\n",
    "subs = os.listdir(data_dir)\n",
    "subs = sorted(subs, key= lambda s: int(s.split('_')[2])) #sort subjects by session ID for ease of making text file\n",
    "\n",
    "for sub in os.listdir(data_dir):\n",
    "    sub_files = os.listdir(data_dir + sub)\n",
    "    sub_files = sorted(sub_files, key = lambda s: int(s.split('_')[1]))\n",
    "    \n",
    "#     print sub_files\n",
    "\n",
    "    #get T1 (anatomical)\n",
    "    t1 = [f for f in sub_files if f.split('_')[3] == 'T1w']\n",
    "    \n",
    "    ##get mux files (main runs)\n",
    "    mux = [f for f in sub_files if f.split('_')[4] == '16mm']\n",
    "    mux = sorted(mux, key = lambda s: int(s.split('_')[1]))\n",
    "    \n",
    "    ##toss aborted mux scans (shorter than 2 minutes)\n",
    "    \n",
    "    \n",
    "    ##get calibration scans for field map unwarping\n",
    "    cal2 = [f for f in sub_files if f.split('_')[4] == 'cal2']\n",
    "    cal2 = sorted(cal2, key = lambda s: int(s.split('_')[1]))\n",
    "    \n",
    "    ##need to get just the preceding cal1 scans for field mapping (should be just 4/8)\n",
    "    cal1 = []\n",
    "    for cal in cal2:\n",
    "        preceding_index = int(cal.split('_')[1]) - 1\n",
    "        c1 = [f for f in sub_files if int(f.split('_')[1]) == preceding_index]\n",
    "        cal1.append(c1)\n",
    "    \n",
    "    \n",
    "#ln -s /nimsfs/smcclure/efarb/20110506_1157_373/ efarb_sub001"
   ]
  },
  {
   "cell_type": "code",
   "execution_count": null,
   "metadata": {
    "collapsed": true
   },
   "outputs": [],
   "source": []
  }
 ],
 "metadata": {
  "kernelspec": {
   "display_name": "Python 2",
   "language": "python",
   "name": "python2"
  },
  "language_info": {
   "codemirror_mode": {
    "name": "ipython",
    "version": 2
   },
   "file_extension": ".py",
   "mimetype": "text/x-python",
   "name": "python",
   "nbconvert_exporter": "python",
   "pygments_lexer": "ipython2",
   "version": "2.7.6"
  }
 },
 "nbformat": 4,
 "nbformat_minor": 0
}
