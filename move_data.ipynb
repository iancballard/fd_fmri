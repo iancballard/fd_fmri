{
 "cells": [
  {
   "cell_type": "code",
   "execution_count": 1,
   "metadata": {
    "collapsed": true
   },
   "outputs": [],
   "source": [
    "import os\n",
    "import numpy as np\n",
    "import glob\n",
    "import csv\n",
    "import matplotlib\n",
    "import matplotlib.pyplot as plt\n",
    "import pandas as pd\n",
    "from scipy import stats, optimize\n",
    "from pandas import DataFrame, Series\n",
    "import seaborn as sns\n",
    "import random as rd\n",
    "from statsmodels.formula.api import ols\n",
    "from statsmodels.stats.anova import anova_lm\n",
    "import scipy.stats"
   ]
  },
  {
   "cell_type": "code",
   "execution_count": 2,
   "metadata": {
    "collapsed": true
   },
   "outputs": [],
   "source": [
    "%matplotlib inline"
   ]
  },
  {
   "cell_type": "markdown",
   "metadata": {},
   "source": [
    "Organizes data from scan and creates symbolic links in the /data directory of the CNI server\n"
   ]
  },
  {
   "cell_type": "code",
   "execution_count": 61,
   "metadata": {
    "collapsed": false,
    "scrolled": true
   },
   "outputs": [],
   "source": [
    "#preliminary stuff\n",
    "#get subs and make mapping for sub id\n",
    "data_dir = '/nimsfs/smcclure/fd/'\n",
    "home_dir = '/data/home/iballard/fd/'\n",
    "subj_file = home_dir + 'scripts/sub_scan_mappings.txt'\n",
    "\n",
    "subs = os.listdir(data_dir)\n",
    "subs = sorted(subs, key= lambda s: int(s.split('_')[2])) #sort subjects by session ID for ease of making text file\n",
    "\n",
    "#make dictionary mapping scan ids to subject ids\n",
    "scan_to_id = {}\n",
    "with open(subj_file) as f:\n",
    "    for line in f:\n",
    "        (key,val) = line.strip().split(' ')\n",
    "        scan_to_id[key] = val\n",
    "\n",
    "#make subject folder if it doesn't exist\n",
    "for scan in scan_to_id.keys():\n",
    "    sub_dir = home_dir + 'data/fd_' + scan_to_id[scan]\n",
    "    if not os.path.isdir(sub_dir):\n",
    "        os.mkdir(sub_dir)"
   ]
  },
  {
   "cell_type": "code",
   "execution_count": 64,
   "metadata": {
    "collapsed": false,
    "scrolled": true
   },
   "outputs": [
    {
     "name": "stdout",
     "output_type": "stream",
     "text": [
      "ln -s /nimsfs/smcclure/fd//20150410_1106_9388/9388_10_1_T1w_Whole_brain_1mm /data/home/iballard/fd/data/fd_118/anat/anat\n",
      "ln -s /nimsfs/smcclure/fd//20150410_0918_9387/9387_9_1_T1w_Whole_brain_1mm /data/home/iballard/fd/data/fd_117/anat/anat\n",
      "ln -s /nimsfs/smcclure/fd//20150308_1902_9065/9065_10_1_T1w_Whole_brain_1mm /data/home/iballard/fd/data/fd_110/anat/anat\n",
      "ln -s /nimsfs/smcclure/fd//20150305_1848_9040/9040_10_1_T1w_Whole_brain_1mm /data/home/iballard/fd/data/fd_109/anat/anat\n",
      "ln -s /nimsfs/smcclure/fd//20150303_1216_9020/9020_10_1_T1w_Whole_brain_1mm /data/home/iballard/fd/data/fd_106/anat/anat\n",
      "ln -s /nimsfs/smcclure/fd//20150302_1945_9017/9017_11_1_T1w_Whole_brain_1mm /data/home/iballard/fd/data/fd_105/anat/anat\n",
      "ln -s /nimsfs/smcclure/fd//20150407_1921_9367/9367_10_1_T1w_Whole_brain_1mm /data/home/iballard/fd/data/fd_112/anat/anat\n",
      "ln -s /nimsfs/smcclure/fd//20150301_1611_9006/9006_13_1_T1w_Whole_brain_1mm /data/home/iballard/fd/data/fd_101/anat/anat\n",
      "ln -s /nimsfs/smcclure/fd//20150407_2127_9368/9368_10_1_T1w_Whole_brain_1mm /data/home/iballard/fd/data/fd_113/anat/anat\n",
      "ln -s /nimsfs/smcclure/fd//20150301_1829_9007/9007_10_1_T1w_Whole_brain_1mm /data/home/iballard/fd/data/fd_102/anat/anat\n",
      "ln -s /nimsfs/smcclure/fd//20150409_1255_9383/9383_12_1_T1w_Whole_brain_1mm /data/home/iballard/fd/data/fd_115/anat/anat\n",
      "ln -s /nimsfs/smcclure/fd//20150408_2009_9377/9377_11_1_T1w_Whole_brain_1mm /data/home/iballard/fd/data/fd_114/anat/anat\n",
      "ln -s /nimsfs/smcclure/fd//20150303_1958_9024/9024_10_1_T1w_Whole_brain_1mm /data/home/iballard/fd/data/fd_107/anat/anat\n",
      "ln -s /nimsfs/smcclure/fd//20150302_1222_9011/9011_9_1_T1w_Whole_brain_1mm /data/home/iballard/fd/data/fd_104/anat/anat\n"
     ]
    }
   ],
   "source": [
    "#create symbolic links for T1s\n",
    "for scan in scan_to_id.keys():\n",
    "    sub = scan_to_id[scan]\n",
    "    \n",
    "    #create new directory if it doesnt exist\n",
    "    anat_dir = home_dir + 'data/fd_' + sub + '/anat'\n",
    "    if not os.path.isdir(sub_dir):\n",
    "        os.mkdir(anat_dir)\n",
    "    \n",
    "    if scan != '20150304_0853_9027': #t1 from a different scan for this subject\n",
    "    \n",
    "        #get list of files in directory sorted by scan #\n",
    "        sub_files = os.listdir(data_dir + scan)\n",
    "        sub_files = sorted(sub_files, key = lambda s: int(s.split('_')[1])) \n",
    "\n",
    "        #get T1 (anatomical)\n",
    "        t1 = [f for f in sub_files if f.split('_')[3] == 'T1w'][0]\n",
    "\n",
    "        #create symbolic link\n",
    "        new_anat = anat_dir + '/anat'\n",
    "        old_anat = data_dir + '/' + scan + '/' + t1\n",
    "        cmd_str = 'ln -s ' + old_anat + ' ' + new_anat\n",
    "        print cmd_str"
   ]
  },
  {
   "cell_type": "code",
   "execution_count": null,
   "metadata": {
    "collapsed": true
   },
   "outputs": [],
   "source": [
    "    ##get mux files (main runs)\n",
    "    mux = [f for f in sub_files if f.split('_')[4] == '16mm']\n",
    "    mux = sorted(mux, key = lambda s: int(s.split('_')[1]))\n",
    "    \n",
    "    ##toss aborted mux scans (shorter than 2 minutes)\n",
    "    \n",
    "    \n",
    "    ##get calibration scans for field map unwarping\n",
    "    cal2 = [f for f in sub_files if f.split('_')[4] == 'cal2']\n",
    "    cal2 = sorted(cal2, key = lambda s: int(s.split('_')[1]))\n",
    "    \n",
    "    ##need to get just the preceding cal1 scans for field mapping (should be just 4/8)\n",
    "    cal1 = []\n",
    "    for cal in cal2:\n",
    "        preceding_index = int(cal.split('_')[1]) - 1\n",
    "        c1 = [f for f in sub_files if int(f.split('_')[1]) == preceding_index]\n",
    "        cal1.append(c1)\n",
    "    \n",
    "    \n",
    "#ln -s /nimsfs/smcclure/efarb/20110506_1157_373/ efarb_sub001"
   ]
  }
 ],
 "metadata": {
  "kernelspec": {
   "display_name": "Python 2",
   "language": "python",
   "name": "python2"
  },
  "language_info": {
   "codemirror_mode": {
    "name": "ipython",
    "version": 2
   },
   "file_extension": ".py",
   "mimetype": "text/x-python",
   "name": "python",
   "nbconvert_exporter": "python",
   "pygments_lexer": "ipython2",
   "version": "2.7.6"
  }
 },
 "nbformat": 4,
 "nbformat_minor": 0
}
