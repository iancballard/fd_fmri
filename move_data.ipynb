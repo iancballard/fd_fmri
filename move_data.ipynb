{
 "cells": [
  {
   "cell_type": "code",
   "execution_count": 3,
   "metadata": {
    "collapsed": true
   },
   "outputs": [],
   "source": [
    "import os\n",
    "import numpy as np\n",
    "import glob\n",
    "import csv\n",
    "import matplotlib\n",
    "import matplotlib.pyplot as plt\n",
    "import pandas as pd\n",
    "from scipy import stats, optimize\n",
    "from pandas import DataFrame, Series\n",
    "import seaborn as sns\n",
    "import random as rd\n",
    "from statsmodels.formula.api import ols\n",
    "from statsmodels.stats.anova import anova_lm\n",
    "import scipy.stats\n",
    "import nibabel as nib"
   ]
  },
  {
   "cell_type": "code",
   "execution_count": 4,
   "metadata": {
    "collapsed": true
   },
   "outputs": [],
   "source": [
    "%matplotlib inline"
   ]
  },
  {
   "cell_type": "markdown",
   "metadata": {},
   "source": [
    "Organizes data from scan and creates symbolic links in the /data directory of the CNI server\n"
   ]
  },
  {
   "cell_type": "code",
   "execution_count": 5,
   "metadata": {
    "collapsed": true
   },
   "outputs": [],
   "source": [
    "def plot_slice(fname, z_idx=15):\n",
    "\n",
    "    # Load the image and collect the data\n",
    "    # and orientation information\n",
    "    img = nib.load(fname)\n",
    "    data = img.get_data()\n",
    "    aff = img.get_affine()\n",
    "\n",
    "    # Find the center of the brain matrix\n",
    "    ctr = np.dot(np.linalg.inv(aff), [0, 0, 0, 1])[:3]\n",
    "\n",
    "    # Plot the data\n",
    "    vmin, vmax = (0, 1) if data.dtype == np.int16 else (30, 150)\n",
    "    plt.imshow(np.rot90(data[:, :, ctr[2] + z_idx]), \n",
    "               cmap=\"gray\", vmin=vmin, vmax=vmax)\n",
    "    plt.gca().set_axis_off()"
   ]
  },
  {
   "cell_type": "code",
   "execution_count": 6,
   "metadata": {
    "collapsed": false,
    "scrolled": true
   },
   "outputs": [],
   "source": [
    "#preliminary stuff\n",
    "#get subs and make mapping for sub id\n",
    "data_dir = '/nimsfs/smcclure/fd/'\n",
    "home_dir = '/data/home/iballard/fd/'\n",
    "subj_file = home_dir + 'scripts/sub_scan_mappings.txt'\n",
    "cb_file = home_dir + 'scripts/sub_cb_mappings.txt'\n",
    "\n",
    "subs = os.listdir(data_dir)\n",
    "subs = sorted(subs, key= lambda s: int(s.split('_')[2])) #sort subjects by session ID for ease of making text file\n",
    "\n",
    "#make dictionary mapping scan ids to subject ids\n",
    "scan_to_id = {}\n",
    "with open(subj_file) as f:\n",
    "    for line in f:\n",
    "        (key,val) = line.strip().split(' ')\n",
    "        scan_to_id[key] = val\n",
    "\n",
    "#make dictionary mapping sub ids to counterbalance\n",
    "sub_to_cb = {}\n",
    "with open(cb_file) as f:\n",
    "    for line in f:\n",
    "        (key,val) = line.strip().split(' ') \n",
    "        sub_to_cb[key] = int(val)\n",
    "\n",
    "#make subject folder if it doesn't exist\n",
    "for scan in scan_to_id.keys():\n",
    "    sub_dir = home_dir + 'data/fd_' + scan_to_id[scan]\n",
    "    if not os.path.isdir(sub_dir):\n",
    "        os.mkdir(sub_dir)"
   ]
  },
  {
   "cell_type": "code",
   "execution_count": 7,
   "metadata": {
    "collapsed": true
   },
   "outputs": [],
   "source": [
    "#short function for getting an ordered list of a directory's contents, sorted by scan number\n",
    "def get_contents(dir_name):\n",
    "    sub_files = os.listdir(dir_name)\n",
    "    sub_files = sorted(sub_files, key = lambda s: int(s.split('_')[1])) \n",
    "    return sub_files"
   ]
  },
  {
   "cell_type": "code",
   "execution_count": 8,
   "metadata": {
    "collapsed": false
   },
   "outputs": [],
   "source": [
    "#makes a symbolic link if it doesnt exist\n",
    "def make_link(old_file, new_file):\n",
    "    if not os.path.isfile(new_file):\n",
    "#         print new_file\n",
    "#          cmd_str = 'rm ' + new_file\n",
    "#          os.system(cmd_str)\n",
    "\n",
    "         cmd_str = 'ln -s ' + old_file + ' ' + new_file\n",
    "         os.system(cmd_str)\n",
    "    return"
   ]
  },
  {
   "cell_type": "code",
   "execution_count": 29,
   "metadata": {
    "collapsed": false,
    "scrolled": true
   },
   "outputs": [],
   "source": [
    "#create symbolic links for T1s\n",
    "for scan in scan_to_id.keys():\n",
    "    sub = scan_to_id[scan]\n",
    "    \n",
    "    #create new directory if it doesnt exist\n",
    "    anat_dir = home_dir + 'data/fd_' + sub + '/anat'\n",
    "    if not os.path.isdir(anat_dir):\n",
    "        os.mkdir(anat_dir)\n",
    "    \n",
    "    if scan != '20150304_0853_9027': #t1 from a different scan for this subject\n",
    "    \n",
    "        #get list of files in directory sorted by scan #\n",
    "        sub_files = get_contents(data_dir + scan)\n",
    "\n",
    "\n",
    "        #get T1 directory (anatomical)\n",
    "        t1 = [f for f in sub_files if f.split('_')[3] == 'T1w'][0]\n",
    "        \n",
    "        #append anat file\n",
    "        old_anat = data_dir + '/' + scan + '/' + t1\n",
    "        nifti = os.listdir(old_anat)[0]\n",
    "        old_anat = old_anat + '/' + nifti\n",
    "\n",
    "        #create symbolic link\n",
    "        new_anat = anat_dir + '/T1w_Whole_brain_1mm.nii.gz'\n",
    "        make_link(old_anat,new_anat)\n"
   ]
  },
  {
   "cell_type": "code",
   "execution_count": 30,
   "metadata": {
    "collapsed": false
   },
   "outputs": [
    {
     "data": {
      "image/png": "[encoded data removed]",
      "text/plain": [
       "<matplotlib.figure.Figure at 0x7f78943459d0>"
      ]
     },
     "metadata": {},
     "output_type": "display_data"
    }
   ],
   "source": [
    "#check one of the subjects files to make sure linking worked\n",
    "scan = scan_to_id.keys()[0]\n",
    "sub = scan_to_id[scan]\n",
    "anat_file = home_dir + 'data/fd_' + sub + '/anat/T1w_Whole_brain_1mm.nii.gz'\n",
    "plot_slice(anat_file)\n"
   ]
  },
  {
   "cell_type": "code",
   "execution_count": 9,
   "metadata": {
    "collapsed": false,
    "scrolled": false
   },
   "outputs": [
    {
     "name": "stdout",
     "output_type": "stream",
     "text": [
      "True\n",
      "True\n",
      "True\n",
      "True\n",
      "True\n",
      "True\n",
      "True\n",
      "True\n",
      "True\n",
      "True\n",
      "True\n",
      "True\n",
      "True\n",
      "True\n",
      "True\n"
     ]
    }
   ],
   "source": [
    "#create symbolic links for mux runs\n",
    "for scan in scan_to_id.keys():\n",
    "    sub = scan_to_id[scan]\n",
    "    \n",
    "    #create new directory if it doesnt exist\n",
    "    func_dir = home_dir + 'data/fd_' + sub + '/func'\n",
    "    if not os.path.isdir(func_dir):\n",
    "        os.mkdir(func_dir)\n",
    "    new_dir = func_dir + '/ser'\n",
    "    if not os.path.isdir(new_dir):\n",
    "        os.mkdir(new_dir)   \n",
    "    new_dir = func_dir + '/sim'\n",
    "    if not os.path.isdir(new_dir):\n",
    "        os.mkdir(new_dir)      \n",
    "    new_dir = func_dir + '/loc'\n",
    "    if not os.path.isdir(new_dir):\n",
    "        os.mkdir(new_dir)  \n",
    "        \n",
    "    #get list of files in directory sorted by scan #\n",
    "    sub_files = get_contents(data_dir + scan)\n",
    " \n",
    "    ##get mux directories (main runs)\n",
    "    mux = [f for f in sub_files if f.split('_')[4] == '16mm']\n",
    "    mux = sorted(mux, key = lambda s: int(s.split('_')[1]))\n",
    "    new_mux = [] ##append list with nifti contained within folder\n",
    "    for im in mux:\n",
    "        nifti = os.listdir(data_dir + scan + '/' + im) #filename of nifti contained within folder\n",
    "        nifti = [f for f in nifti if f.split('.')[1] == 'nii'][0]\n",
    "        new_mux.append(im + '/' + nifti)\n",
    "    mux = new_mux\n",
    "    \n",
    "    ##toss out mux scans that are too short (aborted scans)\n",
    "    for im in mux:\n",
    "        file_path = data_dir + scan + '/' + im\n",
    "        img = nib.load(file_path)\n",
    "        \n",
    "        if img.shape[3] < 40: ##scan less than a minute long\n",
    "            mux.remove(im)\n",
    "    \n",
    "    try:\n",
    "        ##create symbolic links\n",
    "        if sub_to_cb[sub] == 1: ##cb 1\n",
    "            #ser 1\n",
    "            old_mux = data_dir + scan + '/' + mux[0]\n",
    "            new_mux = func_dir + '/ser/run_1.nii.gz'\n",
    "            print os.path.exists(old_mux)\n",
    "            make_link(old_mux,new_mux)\n",
    "\n",
    "            #sim 1\n",
    "            old_mux = data_dir + scan + '/' + mux[1]\n",
    "            new_mux = func_dir + '/sim/run_1.nii.gz'\n",
    "            make_link(old_mux,new_mux)\n",
    "\n",
    "            #ser 2\n",
    "            old_mux = data_dir + scan + '/' + mux[2]\n",
    "            new_mux = func_dir + '/ser/run_2.nii.gz'\n",
    "            make_link(old_mux,new_mux)\n",
    "\n",
    "            #sim 2\n",
    "            old_mux = data_dir + scan + '/' + mux[3]\n",
    "            new_mux = func_dir + '/sim/run_2.nii.gz'\n",
    "            make_link(old_mux,new_mux)\n",
    "\n",
    "            #ser 3\n",
    "            old_mux = data_dir + scan + '/' + mux[4]\n",
    "            new_mux = func_dir + '/ser/run_3.nii.gz'\n",
    "            make_link(old_mux,new_mux)\n",
    "\n",
    "            #sim 3\n",
    "            old_mux = data_dir + scan + '/' + mux[5]\n",
    "            new_mux = func_dir + '/sim/run_3.nii.gz'\n",
    "            make_link(old_mux,new_mux)\n",
    "\n",
    "            #loc 1\n",
    "            old_mux = data_dir + scan + '/' + mux[6]\n",
    "            new_mux = func_dir + '/loc/run_1.nii.gz'\n",
    "            make_link(old_mux,new_mux)\n",
    "\n",
    "            #loc 2\n",
    "            old_mux = data_dir + scan + '/' + mux[7]\n",
    "            new_mux = func_dir + '/loc/run_2.nii.gz'\n",
    "            make_link(old_mux,new_mux)\n",
    "\n",
    "        elif sub_to_cb[sub] == 2: #cb 2\n",
    "            #ser 1\n",
    "            old_mux = data_dir + scan + '/' + mux[1]\n",
    "            new_mux = func_dir + '/ser/run_1.nii.gz'\n",
    "            make_link(old_mux,new_mux)\n",
    "\n",
    "            #sim 1\n",
    "            old_mux = data_dir + scan + '/' + mux[0]\n",
    "            new_mux = func_dir + '/sim/run_1.nii.gz'\n",
    "            make_link(old_mux,new_mux)\n",
    "\n",
    "            #ser 2\n",
    "            old_mux = data_dir + scan + '/' + mux[3]\n",
    "            new_mux = func_dir + '/ser/run_2.nii.gz'\n",
    "            make_link(old_mux,new_mux)\n",
    "\n",
    "            #sim 2\n",
    "            old_mux = data_dir + scan + '/' + mux[2]\n",
    "            new_mux = func_dir + '/sim/run_2.nii.gz'\n",
    "            make_link(old_mux,new_mux)\n",
    "\n",
    "            #ser 3\n",
    "            old_mux = data_dir + scan + '/' + mux[5]\n",
    "            new_mux = func_dir + '/ser/run_3.nii.gz'\n",
    "            make_link(old_mux,new_mux)\n",
    "\n",
    "            #sim 3\n",
    "            old_mux = data_dir + scan + '/' + mux[4]\n",
    "            new_mux = func_dir + '/sim/run_3.nii.gz'\n",
    "            make_link(old_mux,new_mux)\n",
    "\n",
    "            #loc 1\n",
    "            old_mux = data_dir + scan + '/' + mux[7]\n",
    "            new_mux = func_dir + '/loc/run_1.nii.gz'\n",
    "            make_link(old_mux,new_mux)\n",
    "\n",
    "            #loc 2\n",
    "            old_mux = data_dir + scan + '/' + mux[6]\n",
    "            new_mux = func_dir + '/loc/run_2.nii.gz'\n",
    "            make_link(old_mux,new_mux)\n",
    "            \n",
    "    except Exception:\n",
    "        pass"
   ]
  },
  {
   "cell_type": "code",
   "execution_count": null,
   "metadata": {
    "collapsed": false
   },
   "outputs": [],
   "source": []
  },
  {
   "cell_type": "code",
   "execution_count": 17,
   "metadata": {
    "collapsed": false,
    "scrolled": true
   },
   "outputs": [],
   "source": [
    "##make symbolic links for dti\n",
    "for scan in scan_to_id.keys():\n",
    "    sub = scan_to_id[scan]\n",
    "    \n",
    "    #create new directory if it doesnt exist\n",
    "    func_dir = home_dir + 'data/fd_' + sub + '/dti'\n",
    "    if not os.path.isdir(func_dir):\n",
    "        os.mkdir(func_dir)\n",
    "    \n",
    "    #get list of files in directory sorted by scan #\n",
    "    sub_files = get_contents(data_dir + scan)\n",
    "\n",
    "    ##get dti directories\n",
    "    dti = [f for f in sub_files if f.split('_')[3] == 'DTI']\n",
    "    dti = sorted(dti, key = lambda s: int(s.split('_')[1]))\n",
    "    new_dti = [] ##append list with nifti contained within folder\n",
    "    for im in dti:\n",
    "        nifti = os.listdir(data_dir + scan + '/' + im) #filename of nifti contained within folder\n",
    "        nifti = [f for f in nifti if f.split('.')[1] == 'nii'][0]\n",
    "        new_dti.append(im + '/' + nifti)\n",
    "    dti = new_dti\n",
    "    \n",
    "    #create symbolic links\n",
    "    for n,im in enumerate(dti):\n",
    "        old = data_dir + scan + '/' + im\n",
    "        new = func_dir + '/run_' + str(n + 1) +'.nii.gz'\n",
    "        make_link(old,new)"
   ]
  },
  {
   "cell_type": "code",
   "execution_count": null,
   "metadata": {
    "collapsed": true
   },
   "outputs": [],
   "source": [
    "\n",
    "    \n",
    "    \n",
    "    \n",
    "    ##get calibration scans for field map unwarping\n",
    "    cal2 = [f for f in sub_files if f.split('_')[4] == 'cal2']\n",
    "    cal2 = sorted(cal2, key = lambda s: int(s.split('_')[1]))\n",
    "    \n",
    "    ##need to get just the preceding cal1 scans for field mapping (should be just 4/8)\n",
    "    cal1 = []\n",
    "    for cal in cal2:\n",
    "        preceding_index = int(cal.split('_')[1]) - 1\n",
    "        c1 = [f for f in sub_files if int(f.split('_')[1]) == preceding_index]\n",
    "        cal1.append(c1)\n",
    "    \n",
    "    \n",
    "#ln -s /nimsfs/smcclure/efarb/20110506_1157_373/ efarb_sub001"
   ]
  }
 ],
 "metadata": {
  "kernelspec": {
   "display_name": "Python 2",
   "language": "python",
   "name": "python2"
  },
  "language_info": {
   "codemirror_mode": {
    "name": "ipython",
    "version": 2
   },
   "file_extension": ".py",
   "mimetype": "text/x-python",
   "name": "python",
   "nbconvert_exporter": "python",
   "pygments_lexer": "ipython2",
   "version": "2.7.6"
  }
 },
 "nbformat": 4,
 "nbformat_minor": 0
}
