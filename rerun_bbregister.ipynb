{
 "cells": [
  {
   "cell_type": "markdown",
   "metadata": {},
   "source": [
    "Because of the partial acquisitions, bbregister fails for some runs of some subjects. First shot at fixing it will be to re-run bbregister with the lyman registration outputs as an initial first guess\n"
   ]
  },
  {
   "cell_type": "code",
   "execution_count": 1,
   "metadata": {
    "collapsed": true
   },
   "outputs": [],
   "source": [
    "from moss.mosaic import Mosaic\n",
    "import nibabel as nib\n",
    "import multiprocessing\n",
    "#os and i/o\n",
    "import os\n",
    "import numpy as np\n",
    "import glob\n",
    "from os.path import abspath\n",
    "import csv\n",
    "import shutil\n",
    "import gc"
   ]
  },
  {
   "cell_type": "code",
   "execution_count": 3,
   "metadata": {
    "collapsed": true
   },
   "outputs": [],
   "source": [
    "#preliminary housekeeping\n",
    "home_dir = '/data/home/iballard/fd/'\n",
    "subj_file = home_dir + 'subjects.txt'\n",
    "sub_list = list(np.loadtxt(subj_file,'string'))\n",
    "os.chdir(home_dir)"
   ]
  },
  {
   "cell_type": "code",
   "execution_count": 4,
   "metadata": {
    "collapsed": false
   },
   "outputs": [],
   "source": [
    "#re-arrange directory structure\n",
    "exp = 'sim_4mm'\n",
    "coreg_files = ['func2anat.png','func2anat_tkreg.dat','func2anat_flirt.mat']\n",
    "for sub in sub_list:\n",
    "    for run in range(1,4):\n",
    "        sub_path = home_dir + '/analysis/' + exp + '/' + sub + '/preproc/run_' + str(run) + '/'\n",
    "        orig_coreg = sub_path + 'orig_coreg/'\n",
    "\n",
    "        if os.path.exists(sub_path) and not os.path.exists(orig_coreg):\n",
    "            os.mkdir(orig_coreg)\n",
    "\n",
    "            for f in coreg_files:\n",
    "                old = sub_path + f\n",
    "                new = orig_coreg + f\n",
    "                os.rename(old,new)"
   ]
  },
  {
   "cell_type": "code",
   "execution_count": 5,
   "metadata": {
    "collapsed": false
   },
   "outputs": [],
   "source": [
    "def rerun_coreg(in_tuple):\n",
    "    sub, exp, run = in_tuple\n",
    "    sub_path = home_dir + '/analysis/' + exp + '/' + sub + '/preproc/run_' + str(run) + '/'\n",
    "\n",
    "    if os.path.exists(sub_path):    \n",
    "        #skull strip mean_func\n",
    "        mov_file = sub_path + 'mean_func.nii.gz' \n",
    "        new_mov_file = sub_path + 'mean_func_bet.nii.gz' \n",
    "#         os.remove(new_mov_file)\n",
    "        cmd = ['bet2',mov_file,new_mov_file,'-f','.05']\n",
    "        cmd = ' '.join(cmd)\n",
    "        if not os.path.exists(new_mov_file):\n",
    "            os.system(cmd)\n",
    "        \n",
    "        #run bbregister\n",
    "        fs_dir = home_dir +'/data/' + sub\n",
    "        init_reg = sub_path +  'orig_coreg/func2anat_tkreg.dat'\n",
    "        out_reg = sub_path + 'func2anat_tkreg.dat'\n",
    "        out_reg_fsl = sub_path + 'func2anat_flirt.mat'\n",
    "        out_coreg = sub_path + '/coreg_mean_func.nii.gz'\n",
    "        cmd = ['bbregister','--mov',new_mov_file,'--s',\n",
    "               fs_dir,'--bold','--init-reg', init_reg, \n",
    "               '--reg',out_reg, '--fslmat',out_reg_fsl,\n",
    "               '--o',out_coreg]\n",
    "        cmd = ' '.join(cmd)\n",
    "        if not os.path.exists(out_coreg):\n",
    "            os.system(cmd)\n",
    "\n",
    "        #save output\n",
    "        out_png = sub_path + \"func2anat.png\"\n",
    "        wm_file = fs_dir + '/mri/wm.mgz'\n",
    "        wm_data = nib.load(wm_file).get_data().astype(bool).astype(int)\n",
    "        m = Mosaic(out_coreg, wm_data, step=3)\n",
    "        m.plot_contours([\"#DD2222\"])\n",
    "        m.savefig(out_png)\n",
    "        m.close()"
   ]
  },
  {
   "cell_type": "code",
   "execution_count": 6,
   "metadata": {
    "collapsed": false
   },
   "outputs": [],
   "source": [
    "in_tuples = []\n",
    "for exp in ['sim_4mm']:\n",
    "    for sub in sub_list:\n",
    "        for run in range(1,4):\n",
    "            in_tuples.append((sub,exp,run))"
   ]
  },
  {
   "cell_type": "code",
   "execution_count": 7,
   "metadata": {
    "collapsed": false
   },
   "outputs": [],
   "source": [
    "pool = multiprocessing.Pool(processes = 20)\n",
    "output = pool.map(rerun_coreg,in_tuples)\n",
    "pool.terminate()\n",
    "pool.join()"
   ]
  },
  {
   "cell_type": "code",
   "execution_count": null,
   "metadata": {
    "collapsed": true
   },
   "outputs": [],
   "source": []
  }
 ],
 "metadata": {
  "kernelspec": {
   "display_name": "Python 2",
   "language": "python",
   "name": "python2"
  },
  "language_info": {
   "codemirror_mode": {
    "name": "ipython",
    "version": 2
   },
   "file_extension": ".py",
   "mimetype": "text/x-python",
   "name": "python",
   "nbconvert_exporter": "python",
   "pygments_lexer": "ipython2",
   "version": "2.7.6"
  }
 },
 "nbformat": 4,
 "nbformat_minor": 0
}
