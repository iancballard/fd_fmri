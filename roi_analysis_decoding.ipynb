{
 "cells": [
  {
   "cell_type": "code",
   "execution_count": 1,
   "metadata": {
    "collapsed": true
   },
   "outputs": [],
   "source": [
    "#os and i/o\n",
    "import os\n",
    "import numpy as np\n",
    "import glob\n",
    "from os.path import abspath\n",
    "import csv\n",
    "\n",
    "#scientific computing\n",
    "import matplotlib\n",
    "import matplotlib.pyplot as plt\n",
    "import pandas as pd\n",
    "from scipy import stats, optimize\n",
    "from pandas import DataFrame, Series\n",
    "from moss import glm\n",
    "import seaborn as sns\n",
    "import random as rd\n",
    "from statsmodels.formula.api import ols\n",
    "from statsmodels.stats.anova import anova_lm\n",
    "import scipy.stats\n",
    "\n",
    "#ipython add-ons\n",
    "from IPython.parallel import Client\n",
    "from IPython.display import Image\n",
    "import multiprocessing\n",
    "\n",
    "##nipype\n",
    "import nibabel as nib\n",
    "from nipype.pipeline.engine import Node, MapNode, Workflow\n",
    "from nipype.interfaces.io import DataGrabber, DataFinder, DataSink\n",
    "from nipype.interfaces import fsl\n",
    "from nipype.interfaces.fsl import ImageMeants\n",
    "from nipype.interfaces.fsl import ImageStats\n",
    "\n",
    "%matplotlib inline"
   ]
  },
  {
   "cell_type": "code",
   "execution_count": 2,
   "metadata": {
    "collapsed": true
   },
   "outputs": [],
   "source": [
    "#preliminary housekeeping\n",
    "home_dir = '/data/home/iballard/fd/'\n",
    "subj_file = home_dir + 'subjects.txt'\n",
    "sub_list = list(np.loadtxt(subj_file,'string'))\n",
    "os.chdir(home_dir)\n",
    "runs = map(str,range(1,4))\n",
    "exp_list = ['ser','sim']"
   ]
  },
  {
   "cell_type": "code",
   "execution_count": 3,
   "metadata": {
    "collapsed": true
   },
   "outputs": [],
   "source": [
    "roi_map = {'9':'visual','8':'frontal'}\n",
    "#make image for each cluster\n",
    "contrast_dir = home_dir + '/analysis/searchlight/diff/'\n",
    "stat_image = contrast_dir + 'out.nii.gz'\n",
    "stat_dir = contrast_dir + 'seg/'\n",
    "if not os.path.exists(stat_dir):\n",
    "    os.mkdir(stat_dir)\n",
    "    \n",
    "for index in roi_map.keys():\n",
    "    \n",
    "    out_f = stat_dir + roi_map[index] + '.nii.gz'\n",
    "    if not os.path.exists(out_f):\n",
    "        cmd = ['fslmaths',stat_image,'-thr',index,'-uthr',index,'-bin',out_f]\n",
    "        os.system(' '.join(cmd))"
   ]
  },
  {
   "cell_type": "code",
   "execution_count": 4,
   "metadata": {
    "collapsed": false
   },
   "outputs": [
    {
     "name": "stdout",
     "output_type": "stream",
     "text": [
      "True\n"
     ]
    }
   ],
   "source": [
    "#warp  mask into subject space\n",
    "mask_file = home_dir + '/analysis/searchlight/diff/_tfce_corrp_tstat1.nii.gz'\n",
    "print os.path.exists(mask_file)\n",
    "exp = 'ser'\n",
    "#warp to subject space\n",
    "for sub in sub_list: \n",
    "    if True:#sub == 'fd_104':\n",
    "        mask_dir =  home_dir + '/data/' + sub + '/masks/'\n",
    "        out_dir = mask_dir + 'decoding/'\n",
    "        if not os.path.exists(out_dir):\n",
    "            os.mkdir(out_dir)\n",
    "            \n",
    "        warpfield = home_dir + '/data/' + sub + '/normalization/InverseWarp.nii.gz'\n",
    "\n",
    "        #warp to subject space\n",
    "        out_warp = out_dir + 'lOFC_anat_space.nii.gz'\n",
    "        ref_file = fsl.Info.standard_image(\"avg152T1_brain.nii.gz\")\n",
    "        affine = home_dir + '/data/' + sub + '/normalization/affine.txt'\n",
    "        anat = home_dir + '/data/' + sub + '/anat/T1_native.nii.gz'\n",
    "        if not os.path.exists(out_warp):\n",
    "            cmd_str = ['WarpImageMultiTransform','3',mask_file,out_warp,'-i',affine,warpfield,\n",
    "                       '-R',anat]\n",
    "            cmd_str = ' '.join(cmd_str)\n",
    "            os.system(cmd_str)\n",
    "\n",
    "        #register to functional space\n",
    "        sub_path = home_dir + 'analysis/' + exp + '_4mm/' + sub\n",
    "\n",
    "        #register to func\n",
    "        transform = sub_path + '/preproc/run_1/func2anat_tkreg.dat'\n",
    "        mean_func = sub_path + '/preproc/run_1/mean_func.nii.gz'\n",
    "        out_rigid = out_dir + exp + '_lOFC_func_space.nii.gz'\n",
    "        if not os.path.exists(out_rigid):\n",
    "            cmd_line = ['mri_vol2vol','--mov',mean_func,'--targ',out_warp,'--reg',transform,'--o',out_rigid,\n",
    "                        '--no-save-reg','--inv']\n",
    "            os.system(' '.join(cmd_line))\n",
    "\n",
    "        #mask and binarize\n",
    "        out_mask = out_dir + exp + '_' + 'lOFC_mask.nii.gz'\n",
    "        mask =mask_dir + 'lOFC_fill_' + exp + '.nii.gz'\n",
    "        cmd = ['fslmaths',out_rigid,'-thr','.95','-mas',mask,'-bin',out_mask]\n",
    "        cmd = ' '.join(cmd)\n",
    "        os.system(cmd)"
   ]
  },
  {
   "cell_type": "code",
   "execution_count": null,
   "metadata": {
    "collapsed": true
   },
   "outputs": [],
   "source": [
    "#warp  mask into subject space\n",
    "exp = 'ser'\n",
    "#warp to subject space\n",
    "for sub in sub_list: \n",
    "    if True:#sub == 'fd_104':\n",
    "        mask_dir =  home_dir + '/data/' + sub + '/masks/'\n",
    "        out_dir = mask_dir + 'decoding/'\n",
    "            \n",
    "        warpfield = home_dir + '/data/' + sub + '/normalization/InverseWarp.nii.gz'\n",
    "        \n",
    "        for index in roi_map.keys():\n",
    "            roi = roi_map[index]\n",
    "            mask_file =  stat_dir + roi + '.nii.gz'\n",
    "\n",
    "            #warp to subject space\n",
    "            out_warp = out_dir + roi + '_anat_space.nii.gz'\n",
    "            ref_file = fsl.Info.standard_image(\"avg152T1_brain.nii.gz\")\n",
    "            affine = home_dir + '/data/' + sub + '/normalization/affine.txt'\n",
    "            anat = home_dir + '/data/' + sub + '/anat/T1_native.nii.gz'\n",
    "            if not os.path.exists(out_warp):\n",
    "                cmd_str = ['WarpImageMultiTransform','3',mask_file,out_warp,'-i',affine,warpfield,\n",
    "                           '-R',anat]\n",
    "                cmd_str = ' '.join(cmd_str)\n",
    "                os.system(cmd_str)\n",
    "\n",
    "            #register to functional space\n",
    "            sub_path = home_dir + 'analysis/' + exp + '_4mm/' + sub\n",
    "\n",
    "            #register to func\n",
    "            transform = sub_path + '/preproc/run_1/func2anat_tkreg.dat'\n",
    "            mean_func = sub_path + '/preproc/run_1/mean_func.nii.gz'\n",
    "            out_rigid = out_dir + exp + '_' + roi + '_func_space.nii.gz'\n",
    "            if not os.path.exists(out_rigid):\n",
    "                cmd_line = ['mri_vol2vol','--mov',mean_func,'--targ',out_warp,'--reg',transform,'--o',out_rigid,\n",
    "                            '--no-save-reg','--inv']\n",
    "                os.system(' '.join(cmd_line))\n",
    "\n",
    "            #mask and binarize\n",
    "            out_mask = out_dir + exp + '_' + roi + '_mask.nii.gz'\n",
    "            cmd = ['fslmaths',out_rigid,'-thr','.95','-bin',out_mask]\n",
    "            cmd = ' '.join(cmd)\n",
    "            os.system(cmd)"
   ]
  },
  {
   "cell_type": "code",
   "execution_count": 12,
   "metadata": {
    "collapsed": false
   },
   "outputs": [],
   "source": [
    "#extract tsnr of ROIs\n",
    "def extract_decoding(in_tuple):\n",
    "    sub,exp,mask,mask_contrast = in_tuple\n",
    "    cope = np.nan\n",
    "\n",
    "    cope_f = home_dir + 'analysis/' + exp + '_8mm/' + sub + \\\n",
    "            '/mvpa/searchlight_state_radius8.nii.gz'\n",
    "\n",
    "    if os.path.exists(cope_f):\n",
    "        \n",
    "        mask_f = home_dir + 'data/' + sub + '/masks/' + mask_contrast + '/' \\\n",
    "            + exp + '_' + mask + '_mask.nii.gz'\n",
    "        stats = ImageStats(in_file = cope_f, op_string = '-k %s -M', mask_file = mask_f)\n",
    "        out = stats.run()\n",
    "        cope = out.outputs.out_stat\n",
    "    \n",
    "    return (sub,exp,mask,cope)"
   ]
  },
  {
   "cell_type": "code",
   "execution_count": 13,
   "metadata": {
    "collapsed": true
   },
   "outputs": [],
   "source": [
    "def parse_output(output,out_f):\n",
    "    cope_df = {'roi':[],'cope':[],'sub':[],'exp':[]}\n",
    "    for o in output:\n",
    "        sub,exp,mask,cope = o\n",
    "\n",
    "        cope_df['roi'].append(mask)\n",
    "        cope_df['sub'].append(sub)\n",
    "        cope_df['exp'].append(exp)\n",
    "        cope_df['cope'].append(cope)\n",
    "\n",
    "    cope_df = pd.DataFrame(cope_df)\n",
    "    cope_df.to_csv(home_dir + '/' + out_f)\n",
    "    \n",
    "    return cope_df"
   ]
  },
  {
   "cell_type": "code",
   "execution_count": 7,
   "metadata": {
    "collapsed": false
   },
   "outputs": [
    {
     "name": "stderr",
     "output_type": "stream",
     "text": [
      "INFO:interface:stdout 2015-10-13T13:36:38.016472:0.497830 \n"
     ]
    },
    {
     "data": {
      "text/plain": [
       "('fd_104', 'ser', 'lOFC', 0.49783)"
      ]
     },
     "execution_count": 7,
     "metadata": {},
     "output_type": "execute_result"
    }
   ],
   "source": [
    "in_tuples = []\n",
    "for exp in ['ser']:\n",
    "    for sub in sub_list:\n",
    "        in_tuples.append((sub,exp,'lOFC','decoding')) \n",
    "extract_decoding(in_tuples[0])"
   ]
  },
  {
   "cell_type": "code",
   "execution_count": 9,
   "metadata": {
    "collapsed": false
   },
   "outputs": [],
   "source": [
    "# pool = multiprocessing.Pool(processes = 40)\n",
    "# output = pool.map(extract_decoding,in_tuples)\n",
    "# pool.terminate()\n",
    "# pool.join()"
   ]
  },
  {
   "cell_type": "code",
   "execution_count": 10,
   "metadata": {
    "collapsed": false
   },
   "outputs": [
    {
     "data": {
      "text/plain": [
       "<matplotlib.axes._subplots.AxesSubplot at 0x7ffacab3eb10>"
      ]
     },
     "execution_count": 10,
     "metadata": {},
     "output_type": "execute_result"
    },
    {
     "data": {
      "image/png": "[encoded data removed]",
      "text/plain": [
       "<matplotlib.figure.Figure at 0x7ffacabfedd0>"
      ]
     },
     "metadata": {},
     "output_type": "display_data"
    }
   ],
   "source": [
    "cope_df = parse_output(output,'state.csv')\n",
    "sns.violinplot(x='cope',y='roi',data=cope_df,split=True,inner = 'stick')"
   ]
  },
  {
   "cell_type": "code",
   "execution_count": 10,
   "metadata": {
    "collapsed": false
   },
   "outputs": [
    {
     "name": "stdout",
     "output_type": "stream",
     "text": [
      "2.59737012982 0.0142419407366\n"
     ]
    }
   ],
   "source": [
    "t,p = scipy.stats.ttest_1samp(cope_df['cope'].values,.5)\n",
    "print t,p"
   ]
  },
  {
   "cell_type": "code",
   "execution_count": 15,
   "metadata": {
    "collapsed": false
   },
   "outputs": [
    {
     "data": {
      "text/plain": [
       "<seaborn.axisgrid.JointGrid at 0x7ffacabfea90>"
      ]
     },
     "execution_count": 15,
     "metadata": {},
     "output_type": "execute_result"
    },
    {
     "data": {
      "image/png": "[encoded data removed]",
      "text/plain": [
       "<matplotlib.figure.Figure at 0x7ffacabfea10>"
      ]
     },
     "metadata": {},
     "output_type": "display_data"
    }
   ],
   "source": [
    "cope_df = parse_output(output,'state.csv')\n",
    "cov = np.loadtxt(home_dir + 'vta_mb.txt')\n",
    "# sns.boxplot(cov)\n",
    "cope = cope_df['cope'].values\n",
    "sns.jointplot(cov,cope)"
   ]
  },
  {
   "cell_type": "code",
   "execution_count": 14,
   "metadata": {
    "collapsed": false
   },
   "outputs": [
    {
     "ename": "NameError",
     "evalue": "name 'cov' is not defined",
     "output_type": "error",
     "traceback": [
      "\u001b[1;31m---------------------------------------------------------------------------\u001b[0m",
      "\u001b[1;31mNameError\u001b[0m                                 Traceback (most recent call last)",
      "\u001b[1;32m<ipython-input-14-0da2f15dd52b>\u001b[0m in \u001b[0;36m<module>\u001b[1;34m()\u001b[0m\n\u001b[0;32m      1\u001b[0m \u001b[0mcope_df\u001b[0m \u001b[1;33m=\u001b[0m \u001b[0mparse_output\u001b[0m\u001b[1;33m(\u001b[0m\u001b[0moutput\u001b[0m\u001b[1;33m,\u001b[0m\u001b[1;34m'state.csv'\u001b[0m\u001b[1;33m)\u001b[0m\u001b[1;33m\u001b[0m\u001b[0m\n\u001b[1;32m----> 2\u001b[1;33m \u001b[0mcope_df\u001b[0m\u001b[1;33m[\u001b[0m\u001b[1;34m'cov'\u001b[0m\u001b[1;33m]\u001b[0m \u001b[1;33m=\u001b[0m \u001b[0mcov\u001b[0m\u001b[1;33m\u001b[0m\u001b[0m\n\u001b[0m\u001b[0;32m      3\u001b[0m \u001b[0mcope_df\u001b[0m \u001b[1;33m=\u001b[0m \u001b[0mcope_df\u001b[0m\u001b[1;33m[\u001b[0m\u001b[0mcope_df\u001b[0m\u001b[1;33m[\u001b[0m\u001b[1;34m'sub'\u001b[0m\u001b[1;33m]\u001b[0m \u001b[1;33m!=\u001b[0m \u001b[1;34m'fd_112'\u001b[0m\u001b[1;33m]\u001b[0m\u001b[1;33m\u001b[0m\u001b[0m\n\u001b[0;32m      4\u001b[0m \u001b[0mcope_df\u001b[0m \u001b[1;33m=\u001b[0m \u001b[0mcope_df\u001b[0m\u001b[1;33m[\u001b[0m\u001b[0mcope_df\u001b[0m\u001b[1;33m[\u001b[0m\u001b[1;34m'sub'\u001b[0m\u001b[1;33m]\u001b[0m \u001b[1;33m!=\u001b[0m \u001b[1;34m'fd_148'\u001b[0m\u001b[1;33m]\u001b[0m\u001b[1;33m\u001b[0m\u001b[0m\n\u001b[0;32m      5\u001b[0m \u001b[1;31m# cope_df = cope_df[cope_df['sub'] != 'fd_113']\u001b[0m\u001b[1;33m\u001b[0m\u001b[1;33m\u001b[0m\u001b[0m\n",
      "\u001b[1;31mNameError\u001b[0m: name 'cov' is not defined"
     ]
    }
   ],
   "source": [
    "cope_df = parse_output(output,'state.csv')\n",
    "cope_df['cov'] = cov\n",
    "cope_df = cope_df[cope_df['sub'] != 'fd_112']\n",
    "cope_df = cope_df[cope_df['sub'] != 'fd_148']\n",
    "# cope_df = cope_df[cope_df['sub'] != 'fd_113']\n",
    "# cope_df = cope_df[cope_df['sub'] != 'fd_114']\n",
    "# cope_df = cope_df[cope_df['sub'] != 'fd_115']\n",
    "# cope_df = cope_df[cope_df['sub'] != 'fd_148']\n",
    "# cope_df = cope_df[cope_df['sub'] != 'fd_124']\n",
    "sns.jointplot('cope','cov',data=cope_df,kind = 'reg')\n",
    "# print cope_df"
   ]
  },
  {
   "cell_type": "code",
   "execution_count": 151,
   "metadata": {
    "collapsed": false
   },
   "outputs": [
    {
     "data": {
      "text/plain": [
       "<seaborn.axisgrid.JointGrid at 0x7f5dc9faf810>"
      ]
     },
     "execution_count": 151,
     "metadata": {},
     "output_type": "execute_result"
    },
    {
     "data": {
      "image/png": "[encoded data removed]",
      "text/plain": [
       "<matplotlib.figure.Figure at 0x7f5dc9930b50>"
      ]
     },
     "metadata": {},
     "output_type": "display_data"
    }
   ],
   "source": [
    "cope_df = parse_output(output,'state.csv')\n",
    "cope_df['cov'] = cov\n",
    "cope_df = cope_df[cope_df['sub'] != 'fd_104']\n",
    "cope_df = cope_df[cope_df['sub'] != 'fd_108']\n",
    "cope_df = cope_df[cope_df['sub'] != 'fd_110']\n",
    "cope_df = cope_df[cope_df['sub'] != 'fd_112']\n",
    "cope_df = cope_df[cope_df['sub'] != 'fd_113']\n",
    "cope_df = cope_df[cope_df['sub'] != 'fd_122']\n",
    "cope_df = cope_df[cope_df['sub'] != 'fd_133']\n",
    "cope_df = cope_df[cope_df['sub'] != 'fd_135']\n",
    "cope_df = cope_df[cope_df['sub'] != 'fd_144']\n",
    "cope_df = cope_df[cope_df['sub'] != 'fd_147']\n",
    "cope_df = cope_df[cope_df['sub'] != 'fd_148']\n",
    "\n",
    "sns.jointplot('cope','cov',data=cope_df,kind = 'reg')\n",
    "# print cope_df"
   ]
  },
  {
   "cell_type": "code",
   "execution_count": 186,
   "metadata": {
    "collapsed": false
   },
   "outputs": [],
   "source": [
    "mf = np.loadtxt(home_dir + 'vta_mf.txt')\n",
    "mb = np.loadtxt(home_dir + 'vta_mb.txt')\n",
    "pe = np.loadtxt(home_dir + 'vta_pe.txt')\n",
    "\n",
    "mb_norm = mb- mf"
   ]
  },
  {
   "cell_type": "code",
   "execution_count": 49,
   "metadata": {
    "collapsed": true
   },
   "outputs": [],
   "source": [
    "def vector_rejection(a,b):\n",
    "    return a - (np.dot(a,b)/np.dot(b,b) * b)"
   ]
  },
  {
   "cell_type": "code",
   "execution_count": 24,
   "metadata": {
    "collapsed": false
   },
   "outputs": [
    {
     "data": {
      "text/plain": [
       "<seaborn.axisgrid.JointGrid at 0x7ffac8936310>"
      ]
     },
     "execution_count": 24,
     "metadata": {},
     "output_type": "execute_result"
    },
    {
     "data": {
      "image/png": "[encoded data removed]",
      "text/plain": [
       "<matplotlib.figure.Figure at 0x7ffac894ca50>"
      ]
     },
     "metadata": {},
     "output_type": "display_data"
    }
   ],
   "source": [
    "cope_df = parse_output(output,'state.csv')\n",
    "\n",
    "# mf = np.loadtxt(home_dir + 'vta_mf.txt')\n",
    "# mf = scipy.stats.zscore(mf)\n",
    "# mb = np.loadtxt(home_dir + 'vta_mb.txt')\n",
    "# mb = scipy.stats.zscore(mb)\n",
    "mb = np.loadtxt(home_dir + 'vta_mb_mean.txt')\n",
    "mf = np.loadtxt(home_dir + 'vta_mf_mean.txt')\n",
    "vstr = np.loadtxt(home_dir + 'vstr_mb.txt')\n",
    "\n",
    "# mb = vector_rejection(mb,mf)\n",
    "sim = np.loadtxt(home_dir + 'lOFC_decoding_roi_sim.txt')\n",
    "ser = np.loadtxt(home_dir + 'lOFC_decoding_roi_ser.txt')\n",
    "\n",
    "\n",
    "\n",
    "cope_df['VTA Model-Based Prediction Error'] = mf\n",
    "cope_df['Lateral OFC Decoding Accuracy'] = ser\n",
    "cope_df = cope_df[cope_df['sub'] != 'fd_135']\n",
    "cope_df = cope_df[cope_df['sub'] != 'fd_131']\n",
    "\n",
    "# cope_df = cope_df[cope_df['sub'] != 'fd_110']\n",
    "# cope_df = cope_df[cope_df['sub'] != 'fd_118']\n",
    "# cope_df = cope_df[cope_df['sub'] != 'fd_113']\n",
    "# cope_df = cope_df[cope_df['sub'] != 'fd_117']\n",
    "\n",
    "# sns.regplot('Lateral OFC Decoding Accuracy','VTA Model-Based Prediction Error',data = cope_df,fit_reg = True, robust = True, ci = 68)\n",
    "# plt.savefig(home_dir + 'decoding_vta.tiff',dpi = 300, orientation = 'landscape')\n",
    "sns.jointplot('Lateral OFC Decoding Accuracy','VTA Model-Based Prediction Error',data = cope_df)\n"
   ]
  },
  {
   "cell_type": "code",
   "execution_count": null,
   "metadata": {
    "collapsed": true
   },
   "outputs": [],
   "source": []
  },
  {
   "cell_type": "code",
   "execution_count": 20,
   "metadata": {
    "collapsed": false
   },
   "outputs": [
    {
     "name": "stdout",
     "output_type": "stream",
     "text": [
      "                    Robust linear Model Regression Results                    \n",
      "==============================================================================\n",
      "Dep. Variable:                      y   No. Observations:                   31\n",
      "Model:                            RLM   Df Residuals:                       29\n",
      "Method:                          IRLS   Df Model:                            1\n",
      "Norm:                          Hampel                                         \n",
      "Scale Est.:                       mad                                         \n",
      "Cov Type:                          H1                                         \n",
      "Date:                Wed, 07 Oct 2015                                         \n",
      "Time:                        15:54:04                                         \n",
      "No. Iterations:                     6                                         \n",
      "==============================================================================\n",
      "                 coef    std err          z      P>|z|      [95.0% Conf. Int.]\n",
      "------------------------------------------------------------------------------\n",
      "const      -1253.5468    753.566     -1.663      0.096     -2730.508   223.415\n",
      "x1          2730.3930   1390.280      1.964      0.050         5.494  5455.292\n",
      "==============================================================================\n",
      "\n",
      "If the model instance has been used for another fit with different fit\n",
      "parameters, then the fit options might not be the correct ones anymore .\n"
     ]
    }
   ],
   "source": [
    "import statsmodels.api as sm\n",
    "x = sm.add_constant(cope_df['lofc'].values)\n",
    "resrlm = sm.RLM(cope_df['vta'].values,x, M = sm.robust.norms.Hampel()).fit()\n",
    "print resrlm.summary()"
   ]
  },
  {
   "cell_type": "code",
   "execution_count": 188,
   "metadata": {
    "collapsed": false
   },
   "outputs": [
    {
     "name": "stdout",
     "output_type": "stream",
     "text": [
      "0.537129683615 0.595139841851\n"
     ]
    }
   ],
   "source": [
    "d =np.loadtxt(home_dir + '/analysis/omegas_powell.txt')\n",
    "cope_df['omega'] = d\n",
    "a = d > np.median(d)\n",
    "cope_df['split'] = a\n",
    "t,p = scipy.stats.ttest_ind(cope_df[cope_df['split']==True]['vta'],\n",
    "                            cope_df[cope_df['split']==False]['vta'])\n",
    "print t,p"
   ]
  },
  {
   "cell_type": "code",
   "execution_count": 37,
   "metadata": {
    "collapsed": false
   },
   "outputs": [
    {
     "data": {
      "image/png": "[encoded data removed]",
      "text/plain": [
       "<matplotlib.figure.Figure at 0x7ffac83ba450>"
      ]
     },
     "metadata": {},
     "output_type": "display_data"
    }
   ],
   "source": [
    "a = {'Above Chance Decoding Accuracy': np.hstack([ser- .5,sim - .5]),\n",
    "     'Experiment':np.hstack([['Serial']*len(ser),['Simultaneous']*len(ser)])}\n",
    "a = pd.DataFrame(a)\n",
    "sns.factorplot('Experiment','Above Chance Decoding Accuracy',data = a,kind = 'bar',ci=68,palette = 'Set1')\n",
    "plt.savefig(home_dir + 'decoding_accuracy.tiff',dpi = 300,orientation = 'landscape')"
   ]
  },
  {
   "cell_type": "code",
   "execution_count": null,
   "metadata": {
    "collapsed": true
   },
   "outputs": [],
   "source": []
  }
 ],
 "metadata": {
  "kernelspec": {
   "display_name": "Python 2",
   "language": "python",
   "name": "python2"
  },
  "language_info": {
   "codemirror_mode": {
    "name": "ipython",
    "version": 2
   },
   "file_extension": ".py",
   "mimetype": "text/x-python",
   "name": "python",
   "nbconvert_exporter": "python",
   "pygments_lexer": "ipython2",
   "version": "2.7.6"
  }
 },
 "nbformat": 4,
 "nbformat_minor": 0
}
