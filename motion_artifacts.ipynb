{
 "cells": [
  {
   "cell_type": "code",
   "execution_count": 3,
   "metadata": {
    "collapsed": true
   },
   "outputs": [],
   "source": [
    "#os and i/o\n",
    "import os\n",
    "import numpy as np\n",
    "import glob\n",
    "from os.path import abspath\n",
    "import csv\n",
    "\n",
    "#scientific computing\n",
    "import matplotlib\n",
    "import math\n",
    "import matplotlib.pyplot as plt\n",
    "import pandas as pd\n",
    "from scipy import stats, optimize\n",
    "from pandas import DataFrame, Series\n",
    "import seaborn as sns\n",
    "import random as rd\n",
    "from statsmodels.formula.api import ols\n",
    "from statsmodels.stats.anova import anova_lm\n",
    "import scipy.stats\n",
    "#ipython add-ons\n",
    "from IPython.parallel import Client\n",
    "from IPython.display import Image\n",
    "import multiprocessing\n",
    "import nibabel as nib\n",
    "%matplotlib inline"
   ]
  },
  {
   "cell_type": "code",
   "execution_count": 4,
   "metadata": {
    "collapsed": true
   },
   "outputs": [],
   "source": [
    "#preliminary housekeeping\n",
    "home_dir = '/data/home/iballard/fd/'\n",
    "subj_file = home_dir + 'subjects.txt'\n",
    "sub_list = list(np.loadtxt(subj_file,'string'))\n",
    "os.chdir(home_dir)\n",
    "exp_list = ['ser_4mm','sim_4mm','loc']"
   ]
  },
  {
   "cell_type": "code",
   "execution_count": 6,
   "metadata": {
    "collapsed": false
   },
   "outputs": [
    {
     "name": "stdout",
     "output_type": "stream",
     "text": [
      "sim_4mm\n",
      "fd_127 3\n",
      "fd_133 3\n"
     ]
    }
   ],
   "source": [
    "thresh = .5\n",
    "exp = exp_list[1]\n",
    "print exp\n",
    "for sub in sub_list:\n",
    "    for run in range(1,4):\n",
    "        \n",
    "        if sub == 'fd_127':\n",
    "            if run == 1:\n",
    "                run_idx = 2\n",
    "            elif run == 2:\n",
    "                run_idx = 3\n",
    "        elif exp == 'sim_4mm' and sub == 'fd_133':\n",
    "            if run == 2:\n",
    "                run_idx = 3\n",
    "            else:\n",
    "                run_idx = run\n",
    "        else:\n",
    "            run_idx = run\n",
    "            \n",
    "        art_f  = home_dir + '/analysis/' + exp + '/'+ sub + '/preproc/run_' + str(run) + '/artifacts.csv'\n",
    "        if os.path.exists(art_f):\n",
    "            art = pd.read_csv(art_f)\n",
    "            \n",
    "            motion = home_dir + '/data/' + sub + '/func/sim/run_' + str(run_idx)  + '_mc.nii.gz_rel.rms'\n",
    "            motion = np.loadtxt(motion)\n",
    "            m = motion[8:(8 + art.shape[0])]\n",
    "            art['motion']  = np.array(m > .5).astype(int)\n",
    "\n",
    "            art.to_csv(art_f,index = False)\n",
    "        else:\n",
    "            print sub,run"
   ]
  },
  {
   "cell_type": "code",
   "execution_count": 7,
   "metadata": {
    "collapsed": false
   },
   "outputs": [
    {
     "name": "stdout",
     "output_type": "stream",
     "text": [
      "fd_127 3\n",
      "fd_133 3\n"
     ]
    }
   ],
   "source": [
    "#now update the motion parameters file\n",
    "exp = exp_list[1]\n",
    "for sub in sub_list:\n",
    "    for run in range(1,4):\n",
    "        \n",
    "        if sub == 'fd_127':\n",
    "            if run == 1:\n",
    "                run_idx = 2\n",
    "            elif run == 2:\n",
    "                run_idx = 3\n",
    "        elif exp == 'sim_4mm' and sub == 'fd_133':\n",
    "            if run == 2:\n",
    "                run_idx = 3\n",
    "            else:\n",
    "                run_idx = run\n",
    "        else:\n",
    "            run_idx = run\n",
    "        \n",
    "        analysis_dir = home_dir + '/analysis/' + exp + '/'+ sub + '/preproc/run_' + str(run) + '/'\n",
    "        motion_f  = analysis_dir + '/realignment_params.csv'\n",
    "        \n",
    "        if os.path.exists(analysis_dir):\n",
    "\n",
    "            arch_motion_f  = analysis_dir + '/realignment_params_2nd_pass.csv'\n",
    "            if not os.path.exists(arch_motion_f):\n",
    "                os.rename(motion_f, arch_motion_f)\n",
    "\n",
    "            #load df to get shape of \n",
    "            art_f  = analysis_dir + '/artifacts.csv'\n",
    "            art = pd.read_csv(art_f)\n",
    "            motion = home_dir + '/data/' + sub + '/func/sim/run_' + str(run_idx)  + '_mc.nii.gz.par'\n",
    "            rel = home_dir + '/data/' + sub + '/func/sim/run_' + str(run_idx)  + '_mc.nii.gz_rel.rms'\n",
    "            absolute = home_dir + '/data/' + sub + '/func/sim/run_' + str(run_idx)  + '_mc.nii.gz_abs.rms'\n",
    "\n",
    "            motion = np.loadtxt(motion)\n",
    "            rel = np.loadtxt(rel)\n",
    "            absolute = np.loadtxt(absolute)\n",
    "\n",
    "            labels = ['rot_x','rot_y','rot_z','trans_x','trans_y','trans_z']\n",
    "\n",
    "            df = {}\n",
    "            df['displace_abs'] = absolute[8:(8 + art.shape[0])]\n",
    "            df['displace_rel'] = rel[8:(8 + art.shape[0])]\n",
    "            for i in range(6):\n",
    "                df[labels[i]] = motion[8:(8 + art.shape[0]),i]\n",
    "            df = pd.DataFrame(df)\n",
    "            df.to_csv(motion_f)\n",
    "        else:\n",
    "            print sub,run"
   ]
  },
  {
   "cell_type": "code",
   "execution_count": null,
   "metadata": {
    "collapsed": false
   },
   "outputs": [],
   "source": []
  },
  {
   "cell_type": "code",
   "execution_count": 37,
   "metadata": {
    "collapsed": false
   },
   "outputs": [],
   "source": [
    "def reset_art_thresh(in_tuple):\n",
    "    sub,exp,run = in_tuple\n",
    "\n",
    "    \n",
    "    path = home_dir + '/analysis/' + exp + '_4mm/' + sub + '/preproc/run_' + str(run) \n",
    "    f =  path + '/unsmoothed_timeseries.nii.gz'\n",
    "    mask = path + '/functional_mask.nii.gz'\n",
    "    old_art = path + '/artifacts_3_thresh.csv'\n",
    "\n",
    "    if os.path.exists(f) and not os.path.exists(old_art):\n",
    "        # Load the timeseries and mask files\n",
    "        ts = nib.load(f).get_data()\n",
    "        mask = nib.load(mask).get_data().astype(bool)\n",
    "\n",
    "        # Normalize the timeseries using robust statistics\n",
    "        brain_ts = ts[mask]\n",
    "        med_ts = np.median(brain_ts, axis=0)\n",
    "        mad = np.median(np.abs(med_ts - np.median(brain_ts)))\n",
    "        norm_ts = (med_ts - np.median(brain_ts)) / mad\n",
    "\n",
    "        # Find the intensity artifacts\n",
    "        art_intensity = np.abs(norm_ts) > 4\n",
    "\n",
    "        art_f  = path + '/artifacts.csv'\n",
    "        if os.path.exists(art_f):\n",
    "            art = pd.read_csv(art_f)\n",
    "\n",
    "        art.to_csv(old_art,index = False)\n",
    "\n",
    "        art['intensity'] = np.array(art_intensity).astype(int)\n",
    "        art.to_csv(art_f,index = False)"
   ]
  },
  {
   "cell_type": "code",
   "execution_count": 38,
   "metadata": {
    "collapsed": false
   },
   "outputs": [],
   "source": [
    "exps = ['ser','sim']\n",
    "in_tuples = []\n",
    "for sub in sub_list:\n",
    "    for exp in exps:\n",
    "        for run in range(1,4):\n",
    "            in_tuples.append((sub,exp,str(run)))"
   ]
  },
  {
   "cell_type": "code",
   "execution_count": 39,
   "metadata": {
    "collapsed": false
   },
   "outputs": [],
   "source": [
    "pool = multiprocessing.Pool(processes = 8)\n",
    "pool.map(reset_art_thresh,in_tuples)\n",
    "pool.terminate()\n",
    "pool.join()"
   ]
  },
  {
   "cell_type": "code",
   "execution_count": null,
   "metadata": {
    "collapsed": false
   },
   "outputs": [],
   "source": []
  },
  {
   "cell_type": "code",
   "execution_count": null,
   "metadata": {
    "collapsed": true
   },
   "outputs": [],
   "source": []
  }
 ],
 "metadata": {
  "kernelspec": {
   "display_name": "Python 2",
   "language": "python",
   "name": "python2"
  },
  "language_info": {
   "codemirror_mode": {
    "name": "ipython",
    "version": 2
   },
   "file_extension": ".py",
   "mimetype": "text/x-python",
   "name": "python",
   "nbconvert_exporter": "python",
   "pygments_lexer": "ipython2",
   "version": "2.7.6"
  }
 },
 "nbformat": 4,
 "nbformat_minor": 0
}
