{
 "cells": [
  {
   "cell_type": "code",
   "execution_count": 100,
   "metadata": {
    "collapsed": false
   },
   "outputs": [],
   "source": [
    "from moss.mosaic import Mosaic\n",
    "import nibabel as nib\n",
    "import multiprocessing\n",
    "#os and i/o\n",
    "import os\n",
    "import numpy as np\n",
    "import os.path as op\n",
    "import seaborn as sns\n",
    "import matplotlib\n",
    "import scipy\n",
    "import matplotlib.pyplot as plt\n",
    "import pandas as pd\n",
    "%matplotlib inline"
   ]
  },
  {
   "cell_type": "code",
   "execution_count": 101,
   "metadata": {
    "collapsed": true
   },
   "outputs": [],
   "source": [
    "#preliminary housekeeping\n",
    "home_dir = '/data/home/iballard/fd/'\n",
    "subj_file = home_dir + 'subjects.txt'\n",
    "subs = list(np.loadtxt(subj_file,'string'))\n",
    "os.chdir(home_dir)"
   ]
  },
  {
   "cell_type": "code",
   "execution_count": 536,
   "metadata": {
    "collapsed": true
   },
   "outputs": [],
   "source": [
    "exp = 'sim_4mm-onebeta'\n",
    "masks = ['accumbens_sim',#'hipp','parahipp','entorhinal',\n",
    "         'V1_fill_sim','cortex_fill_sim',\n",
    "         'lOFC_fill_sim','mOFC_fill_sim']"
   ]
  },
  {
   "cell_type": "code",
   "execution_count": 537,
   "metadata": {
    "collapsed": false
   },
   "outputs": [],
   "source": [
    "# all_rsas = []\n",
    "# for sub in subs:\n",
    "#     sub_path = op.abspath('./analysis/' + exp + '/' + sub + '/reg/epi/unsmoothed/')\n",
    "\n",
    "#     m = masks[0]\n",
    "#     mask = op.abspath('./data/' + sub + '/masks/' + m +'.nii.gz')\n",
    "#     mask = nib.load(mask).get_data().astype(bool)\n",
    "\n",
    "#     rsa = []\n",
    "#     for run in map(str,range(1,4)):\n",
    "#         run_dir = sub_path + '/run_'  + run\n",
    "#         if os.path.exists(run_dir):\n",
    "#             stats = []\n",
    "            \n",
    "#             for i in [1,2,3,4]:\n",
    "#                 f = run_dir + '/cope' + str(i) + '_xfm.nii.gz'\n",
    "#                 var = run_dir + '/varcope' + str(i) + '_xfm.nii.gz'\n",
    "                \n",
    "#                 var = nib.load(var).get_data().astype(float)\n",
    "#                 var = var[mask]\n",
    "#                 std = np.sqrt(var)\n",
    "                \n",
    "#                 stat = nib.load(f).get_data().astype(float)\n",
    "#                 stat = stat[mask]\n",
    "                \n",
    "#                 weighted = stat / std\n",
    "                \n",
    "#                 stats.append(weighted)\n",
    "                \n",
    "#             stats = np.array(stats)\n",
    "#             rsa.append(np.corrcoef(stats))\n",
    "            \n",
    "#     rsa = np.array(rsa)\n",
    "#     all_rsas.append(np.nanmean(rsa,axis=0))"
   ]
  },
  {
   "cell_type": "code",
   "execution_count": null,
   "metadata": {
    "collapsed": false
   },
   "outputs": [],
   "source": [
    "roi_rsa = {}\n",
    "for m in masks:\n",
    "    all_rsas = []\n",
    "    for sub in subs:\n",
    "        sub_path = op.abspath('./analysis/' + exp + '/' + sub + '/reg/epi/smoothed/')\n",
    "\n",
    "        mask = op.abspath('./data/' + sub + '/masks/' + m +'.nii.gz')\n",
    "        mask = nib.load(mask).get_data().astype(bool)\n",
    "\n",
    "        runs = []\n",
    "        rsa = []\n",
    "        for run in map(str,range(1,4)):\n",
    "            run_dir = sub_path + '/run_'  + run\n",
    "            if os.path.exists(run_dir):\n",
    "                stats = []\n",
    "\n",
    "                for i in [1,2,3,4]:\n",
    "                    f = run_dir + '/cope' + str(i) + '_xfm.nii.gz'\n",
    "                    var = run_dir + '/varcope' + str(i) + '_xfm.nii.gz'\n",
    "\n",
    "                    var = nib.load(var).get_data().astype(float)\n",
    "\n",
    "                    var = var[mask]\n",
    "                    std = np.sqrt(var)\n",
    "\n",
    "                    stat = nib.load(f).get_data().astype(float)\n",
    "                    stat = stat[mask]\n",
    "\n",
    "                    weighted = stat / std\n",
    "\n",
    "                    stats.append(weighted)\n",
    "\n",
    "                stats = np.array(stats)\n",
    "                runs.append(stats)\n",
    "\n",
    "        runs = np.array(runs)\n",
    "        rsa = between_run_correlation(runs)\n",
    "        all_rsas.append(rsa)\n",
    "\n",
    "    #make figures\n",
    "    rsa_norm, fig_mask = get_mean_rsa(all_rsas)\n",
    "    make_fig(rsa_norm, fig_mask, m)\n",
    "    make_sig_fig(all_rsas,fig_mask, m)\n",
    "    roi_rsa[m] = all_rsas\n",
    "    print 'done',m"
   ]
  },
  {
   "cell_type": "code",
   "execution_count": null,
   "metadata": {
    "collapsed": false
   },
   "outputs": [],
   "source": [
    "def between_run_correlation(runs):\n",
    "    nconds = 4\n",
    "    nruns = runs.shape[0]\n",
    "    rsa = np.zeros((nconds,nconds))\n",
    "\n",
    "    for i in range(0,nconds):\n",
    "        for j in range(0,nconds):\n",
    "            corr = []\n",
    "\n",
    "            corr.append(scipy.stats.pearsonr(runs[0,i,:],runs[1,j,:])[0])\n",
    "            corr.append(scipy.stats.pearsonr(runs[1,i,:],runs[0,j,:])[0])\n",
    "\n",
    "            if nruns == 3:\n",
    "                corr.append(scipy.stats.pearsonr(runs[0,i,:],runs[2,j,:])[0])\n",
    "                corr.append(scipy.stats.pearsonr(runs[1,i,:],runs[2,j,:])[0])\n",
    "                corr.append(scipy.stats.pearsonr(runs[2,i,:],runs[0,j,:])[0])\n",
    "                corr.append(scipy.stats.pearsonr(runs[2,i,:],runs[1,j,:])[0])\n",
    "\n",
    "            rsa[i,j]  = np.mean(corr)\n",
    "    return rsa"
   ]
  },
  {
   "cell_type": "code",
   "execution_count": null,
   "metadata": {
    "collapsed": false
   },
   "outputs": [],
   "source": [
    "def get_mean_rsa(all_rsas):\n",
    "    all_rsas = np.array(all_rsas)\n",
    "    mean_rsa = np.nanmean(all_rsas,axis=0)\n",
    "    \n",
    "    mask = np.zeros_like(mean_rsa) + 1\n",
    "    mask = np.triu(mask,k=1).astype(int)\n",
    "\n",
    "    lower = np.tril(mean_rsa)\n",
    "    lower[lower == 0] = np.nan\n",
    "    rsa_norm = (mean_rsa - np.nanmean(lower)) / np.nanstd(lower)\n",
    "    \n",
    "    return rsa_norm, mask"
   ]
  },
  {
   "cell_type": "code",
   "execution_count": null,
   "metadata": {
    "collapsed": false
   },
   "outputs": [],
   "source": [
    "def make_fig(rsa_norm, mask,m):\n",
    "    conds = ['AB+','AC-','B-','C+']\n",
    "    df = {'AB+': rsa_norm[:,0],\n",
    "         'AC-': rsa_norm[:,1],\n",
    "         'B-': rsa_norm[:,2],\n",
    "         'C+': rsa_norm[:,3]}\n",
    "\n",
    "    df = pd.DataFrame(df,index = conds)\n",
    "    df.sort(columns = ['AB+','AC-','B-','C+'])\n",
    "    df = df[conds]\n",
    "\n",
    "    with sns.axes_style(\"white\"):\n",
    "        ax = sns.heatmap(df, mask= mask,vmax = np.max(rsa_norm), square = True, cmap = 'Blues')\n",
    "    plt.savefig('/home/iballard/Dropbox/fd/figs/' + m + '_smoothed.png',dpi=200)\n"
   ]
  },
  {
   "cell_type": "code",
   "execution_count": null,
   "metadata": {
    "collapsed": false
   },
   "outputs": [],
   "source": [
    "def make_sig_fig(all_rsas,mask,m):\n",
    "    t,p = scipy.stats.ttest_1samp(np.arctanh(all_rsas),0)\n",
    "    with sns.axes_style(\"white\"):\n",
    "        ax = sns.heatmap(p, mask = mask, vmax = np.max(p), square = True, cmap = 'Blues_r')\n",
    "    plt.savefig('/home/iballard/Dropbox/fd/figs/' + m + '_smoothed_pvalues.png',dpi=200)"
   ]
  }
 ],
 "metadata": {
  "kernelspec": {
   "display_name": "Python 2",
   "language": "python",
   "name": "python2"
  },
  "language_info": {
   "codemirror_mode": {
    "name": "ipython",
    "version": 2
   },
   "file_extension": ".py",
   "mimetype": "text/x-python",
   "name": "python",
   "nbconvert_exporter": "python",
   "pygments_lexer": "ipython2",
   "version": "2.7.11"
  }
 },
 "nbformat": 4,
 "nbformat_minor": 0
}
