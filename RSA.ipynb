{
 "cells": [
  {
   "cell_type": "code",
   "execution_count": 91,
   "metadata": {
    "collapsed": false
   },
   "outputs": [],
   "source": [
    "from moss.mosaic import Mosaic\n",
    "import nibabel as nib\n",
    "import multiprocessing\n",
    "#os and i/o\n",
    "import os\n",
    "import numpy as np\n",
    "import os.path as op\n",
    "import seaborn as sns\n",
    "import matplotlib\n",
    "import scipy\n",
    "import matplotlib.pyplot as plt\n",
    "import pandas as pd\n",
    "%matplotlib inline"
   ]
  },
  {
   "cell_type": "code",
   "execution_count": 2,
   "metadata": {
    "collapsed": true
   },
   "outputs": [],
   "source": [
    "#preliminary housekeeping\n",
    "home_dir = '/data/home/iballard/fd/'\n",
    "subj_file = home_dir + 'subjects.txt'\n",
    "subs = list(np.loadtxt(subj_file,'string'))\n",
    "os.chdir(home_dir)"
   ]
  },
  {
   "cell_type": "code",
   "execution_count": 3,
   "metadata": {
    "collapsed": true
   },
   "outputs": [],
   "source": [
    "exp = 'sim_4mm-PEdiff'\n",
    "masks = ['hipp']"
   ]
  },
  {
   "cell_type": "code",
   "execution_count": 33,
   "metadata": {
    "collapsed": false
   },
   "outputs": [],
   "source": [
    "\n",
    "all_rsas = []\n",
    "for sub in subs:\n",
    "    sub_path = op.abspath('./analysis/' + exp + '/' + sub + '/reg/epi/smoothed/')\n",
    "\n",
    "    m = masks[0]\n",
    "    mask = op.abspath('./data/' + sub + '/masks/' + m +'.nii.gz')\n",
    "    mask = nib.load(mask).get_data().astype(bool)\n",
    "\n",
    "    rsa = []\n",
    "    for run in map(str,range(1,4)):\n",
    "        run_dir = sub_path + '/run_'  + run\n",
    "        \n",
    "        if os.path.exists(run_dir):\n",
    "            stats = []\n",
    "            \n",
    "            for i in [13,15,17,19]:\n",
    "                f = run_dir + '/cope' + str(i) + '_xfm.nii.gz'\n",
    "                stat = nib.load(f).get_data().astype(float)\n",
    "                stats.append(stat[mask])\n",
    "                \n",
    "            stats = np.array(stats)\n",
    "            rsa.append(np.corrcoef(stats))\n",
    "            \n",
    "    rsa = np.array(rsa)\n",
    "    all_rsas.append(np.mean(rsa,axis=0))\n"
   ]
  },
  {
   "cell_type": "code",
   "execution_count": 87,
   "metadata": {
    "collapsed": false,
    "scrolled": true
   },
   "outputs": [],
   "source": [
    "all_rsas = np.array(all_rsas)\n",
    "mean_rsa = np.mean(all_rsas,axis=0)\n",
    "mask = np.zeros_like(mean_rsa)\n",
    "mask[np.triu_indices_from(mask)] = True"
   ]
  },
  {
   "cell_type": "code",
   "execution_count": 88,
   "metadata": {
    "collapsed": false
   },
   "outputs": [
    {
     "data": {
      "image/png": "[encoded data removed]",
      "text/plain": [
       "<matplotlib.figure.Figure at 0x7fbea1f60750>"
      ]
     },
     "metadata": {},
     "output_type": "display_data"
    }
   ],
   "source": [
    "conds = ['AB+','B-','AC-','C+']\n",
    "df = {'AB+': mean_rsa[:,0],\n",
    "     'B-': mean_rsa[:,1],\n",
    "     'AC-': mean_rsa[:,2],\n",
    "     'C+': mean_rsa[:,3]}\n",
    "df = pd.DataFrame(df,index = conds)\n",
    "df.sort(columns = ['AB+','B-','AC-','C+'])\n",
    "df = df[conds]\n",
    "\n",
    "with sns.axes_style(\"white\"):\n",
    "    ax = sns.heatmap(df, mask = mask, vmax = .2, square = True, cmap = 'coolwarm')\n"
   ]
  },
  {
   "cell_type": "code",
   "execution_count": 99,
   "metadata": {
    "collapsed": false
   },
   "outputs": [
    {
     "data": {
      "image/png": "[encoded data removed]",
      "text/plain": [
       "<matplotlib.figure.Figure at 0x7fbea2c25390>"
      ]
     },
     "metadata": {},
     "output_type": "display_data"
    }
   ],
   "source": [
    "t,p = scipy.stats.ttest_1samp(np.arctanh(all_rsas),0)\n",
    "with sns.axes_style(\"white\"):\n",
    "    ax = sns.heatmap(p, mask = mask, vmax = .05, square = True, cmap = 'Blues_r')"
   ]
  }
 ],
 "metadata": {
  "kernelspec": {
   "display_name": "Python 2",
   "language": "python",
   "name": "python2"
  },
  "language_info": {
   "codemirror_mode": {
    "name": "ipython",
    "version": 2
   },
   "file_extension": ".py",
   "mimetype": "text/x-python",
   "name": "python",
   "nbconvert_exporter": "python",
   "pygments_lexer": "ipython2",
   "version": "2.7.11"
  }
 },
 "nbformat": 4,
 "nbformat_minor": 0
}
