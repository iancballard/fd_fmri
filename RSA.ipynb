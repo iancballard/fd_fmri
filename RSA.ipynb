{
 "cells": [
  {
   "cell_type": "code",
   "execution_count": 1,
   "metadata": {
    "collapsed": false
   },
   "outputs": [],
   "source": [
    "from moss.mosaic import Mosaic\n",
    "import nibabel as nib\n",
    "import multiprocessing\n",
    "#os and i/o\n",
    "import os\n",
    "import numpy as np\n",
    "import os.path as op\n",
    "import seaborn as sns\n",
    "import matplotlib\n",
    "import scipy\n",
    "import matplotlib.pyplot as plt\n",
    "import pandas as pd\n",
    "%matplotlib inline"
   ]
  },
  {
   "cell_type": "code",
   "execution_count": 38,
   "metadata": {
    "collapsed": true
   },
   "outputs": [],
   "source": [
    "#preliminary housekeeping\n",
    "home_dir = '/data/home/iballard/fd/'\n",
    "subj_file = home_dir + 'subjects.txt'\n",
    "subs = list(np.loadtxt(subj_file,'string'))\n",
    "os.chdir(home_dir)"
   ]
  },
  {
   "cell_type": "code",
   "execution_count": 56,
   "metadata": {
    "collapsed": true
   },
   "outputs": [],
   "source": [
    "exp = 'sim_4mm-onebeta'\n",
    "overlap_masks = ['peri_sim','para_sim','hipp']\n",
    "masks = overlap_masks[:]\n",
    "smooth = 'smoothed'\n",
    "# masks = ['rh-hippocampus-tail','rh-hippocampus-body','rh-hippocampus-head',\n",
    "#         'lh-hippocampus-tail','lh-hippocampus-body','lh-hippocampus-head']\n",
    "# masks = ['peri_sim','para_sim','hipp',\n",
    "#          'VTC_sim','cortex_fill_sim','accumbens_sim',\n",
    "#          'entorhinal', 'V1_fill_sim',\n",
    "#          'lOFC_fill_sim','mOFC_fill_sim']\n",
    "# masks = ['yeo17_ifs','yeo17_fpc',\n",
    "#          'lOFC_fill_sim','mOFC_fill_sim']\n",
    "masks = ['entorhinal','peri_sim','para_sim','hipp','hipp_right','hipp_left',\n",
    "         'VTC_sim']"
   ]
  },
  {
   "cell_type": "code",
   "execution_count": 57,
   "metadata": {
    "collapsed": false
   },
   "outputs": [],
   "source": [
    "def trim_mask(mask,m):\n",
    "    exclusions = overlap_masks[:]\n",
    "    exclusions.remove(m)\n",
    "\n",
    "    m1 = op.abspath('./data/' + sub + '/masks/' + exclusions[0] +'.nii.gz')\n",
    "    m1 = nib.load(m1).get_data().astype(bool)\n",
    "\n",
    "    m2 = op.abspath('./data/' + sub + '/masks/' + exclusions[1] +'.nii.gz')\n",
    "    m2 = nib.load(m2).get_data().astype(bool)\n",
    "\n",
    "    bad = np.logical_or(m1,m1)\n",
    "    good = np.invert(bad)\n",
    "\n",
    "    mask = np.logical_and(mask,good)\n",
    "    return mask"
   ]
  },
  {
   "cell_type": "code",
   "execution_count": 58,
   "metadata": {
    "collapsed": false,
    "scrolled": true
   },
   "outputs": [
    {
     "name": "stdout",
     "output_type": "stream",
     "text": [
      "done entorhinal\n",
      "done peri_sim\n",
      "done para_sim\n",
      "done hipp\n",
      "done hipp_right\n",
      "done hipp_left\n",
      "done VTC_sim\n"
     ]
    },
    {
     "data": {
      "text/plain": [
       "<matplotlib.figure.Figure at 0x7f4f3fc08c10>"
      ]
     },
     "metadata": {},
     "output_type": "display_data"
    }
   ],
   "source": [
    "roi_rsa = {}\n",
    "for m in masks:\n",
    "    all_rsas = []\n",
    "    all_means = []\n",
    "    for sub in subs:\n",
    "        sub_path = op.abspath('./analysis/' + exp + '/' + sub + '/reg/epi/' + smooth + '/')\n",
    "\n",
    "        mask = op.abspath('./data/' + sub + '/masks/' + m +'.nii.gz')\n",
    "        mask = nib.load(mask).get_data().astype(bool)\n",
    "        if m in overlap_masks:\n",
    "            mask = trim_mask(mask,m)\n",
    "\n",
    "        runs = []\n",
    "        rsa = []\n",
    "        run_means = []\n",
    "        for run in map(str,range(1,4)):\n",
    "            run_dir = sub_path + '/run_'  + run\n",
    "            if os.path.exists(run_dir):\n",
    "                stats = []\n",
    "                mean_signal = []\n",
    "                \n",
    "                for i in [1,2,3,4]:\n",
    "                    f = run_dir + '/cope' + str(i) + '_xfm.nii.gz'\n",
    "                    var = run_dir + '/varcope' + str(i) + '_xfm.nii.gz'\n",
    "\n",
    "                    var = nib.load(var).get_data().astype(float)\n",
    "\n",
    "                    var = var[mask]\n",
    "                    std = np.sqrt(var)\n",
    "\n",
    "                    stat = nib.load(f).get_data().astype(float)\n",
    "                    stat = stat[mask]\n",
    "\n",
    "                    weighted = stat #/ std\n",
    "                    mean_signal.append(np.mean(weighted))\n",
    "                    \n",
    "                    stats.append(weighted)\n",
    "\n",
    "                stats = np.array(stats)\n",
    "                runs.append(stats)\n",
    "                run_means.append(mean_signal)\n",
    "        \n",
    "        all_means.append(np.mean(run_means,axis=0))\n",
    "        runs = np.array(runs)\n",
    "        rsa = between_run_correlation(runs)\n",
    "        all_rsas.append(rsa)\n",
    "    \n",
    "    #make figures\n",
    "    rsa_norm, fig_mask = get_mean_rsa(all_rsas)\n",
    "    make_fig(rsa_norm, fig_mask, m, smooth)\n",
    "    plt.clf()\n",
    "    make_sig_fig(all_rsas,fig_mask, m, smooth)\n",
    "    plt.clf()\n",
    "    roi_rsa[m] = all_rsas\n",
    "    print 'done',m"
   ]
  },
  {
   "cell_type": "code",
   "execution_count": 6,
   "metadata": {
    "collapsed": false
   },
   "outputs": [],
   "source": [
    "def mask_corr(runs,x,y,i,j):\n",
    "    a = runs[x,i,:]\n",
    "    b = runs[y,j,:]\n",
    "\n",
    "    good = np.logical_and(np.isfinite(a),np.isfinite(b))\n",
    "\n",
    "    a = a[good]\n",
    "    b = b[good]\n",
    "\n",
    "    r,p = scipy.stats.pearsonr(a,b)\n",
    "#     r,p = scipy.spatial.distance.mahalanobis(a,b)\n",
    "    return r"
   ]
  },
  {
   "cell_type": "code",
   "execution_count": 7,
   "metadata": {
    "collapsed": false
   },
   "outputs": [],
   "source": [
    "def between_run_correlation(runs):\n",
    "    nconds = 4\n",
    "    nruns = runs.shape[0]\n",
    "    rsa = np.zeros((nconds,nconds))\n",
    "\n",
    "    for i in range(0,nconds):\n",
    "        for j in range(0,nconds):\n",
    "            corr = []\n",
    "\n",
    "            corr.append(mask_corr(runs,0,1,i,j))\n",
    "            corr.append(mask_corr(runs,1,0,i,j))\n",
    "            \n",
    "            if nruns == 3:\n",
    "                \n",
    "                corr.append(mask_corr(runs,0,2,i,j))\n",
    "                corr.append(mask_corr(runs,1,2,i,j))\n",
    "                corr.append(mask_corr(runs,2,0,i,j))\n",
    "                corr.append(mask_corr(runs,2,1,i,j))\n",
    "            \n",
    "            rsa[i,j]  = np.nanmean(corr)\n",
    "    return rsa"
   ]
  },
  {
   "cell_type": "code",
   "execution_count": 8,
   "metadata": {
    "collapsed": false
   },
   "outputs": [],
   "source": [
    "def get_mean_rsa(all_rsas):\n",
    "    all_rsas = np.array(all_rsas)\n",
    "    mean_rsa = np.nanmean(all_rsas,axis=0)\n",
    "    \n",
    "    mask = np.zeros_like(mean_rsa) + 1\n",
    "    mask = np.triu(mask,k=1).astype(int)\n",
    "\n",
    "    lower = np.tril(mean_rsa)\n",
    "    lower[lower == 0] = np.nan\n",
    "    rsa_norm = (mean_rsa - np.nanmean(lower)) / np.nanstd(lower)\n",
    "    \n",
    "    return rsa_norm, mask\n",
    "# print rsa_norm\n",
    "# conds = ['AB+','AC-','B-','C+']\n",
    "# df = {'AB+': rsa_norm[:,0],\n",
    "#      'AC-': rsa_norm[:,1],\n",
    "#      'B-': rsa_norm[:,2],\n",
    "#      'C+': rsa_norm[:,3]}\n",
    "\n",
    "# df = pd.DataFrame(df,index = conds)\n",
    "# df.sort(columns = ['AB+','AC-','B-','C+'])\n",
    "# df = df[conds]\n",
    "# print df"
   ]
  },
  {
   "cell_type": "code",
   "execution_count": 11,
   "metadata": {
    "collapsed": false
   },
   "outputs": [],
   "source": [
    "def make_fig(rsa_norm, mask,m, smooth):\n",
    "    conds = ['AB+','AC-','B-','C+']\n",
    "    df = {'AB+': rsa_norm[:,0],\n",
    "         'AC-': rsa_norm[:,1],\n",
    "         'B-': rsa_norm[:,2],\n",
    "         'C+': rsa_norm[:,3]}\n",
    "\n",
    "    df = pd.DataFrame(df,index = conds)\n",
    "    df.sort(columns = ['AB+','AC-','B-','C+'])\n",
    "    df = df[conds]\n",
    "\n",
    "    with sns.axes_style(\"white\"):\n",
    "        ax = sns.heatmap(df, mask= mask, vmax = np.max(rsa_norm), square = True, cmap = 'Blues')\n",
    "    plt.savefig('/home/iballard/Dropbox/fd/figs/' + m + '_' + smooth + '_unweighted',dpi=200)\n"
   ]
  },
  {
   "cell_type": "code",
   "execution_count": 12,
   "metadata": {
    "collapsed": false
   },
   "outputs": [],
   "source": [
    "def make_sig_fig(all_rsas,mask,m,smooth):\n",
    "    t,p = scipy.stats.ttest_1samp(np.arctanh(all_rsas),0)\n",
    "    \n",
    "    thresh = .05\n",
    "    pmax = min(np.max(p),.05)\n",
    "    p[p>thresh] = thresh - .001\n",
    "    \n",
    "    with sns.axes_style(\"white\"):\n",
    "        ax = sns.heatmap(p, mask = mask, vmax = pmax, square = True, cmap = 'Blues_r')\n",
    "    plt.savefig('/home/iballard/Dropbox/fd/figs/' + m + '_' + smooth + '_pvalues_unweighted.png',dpi=200)"
   ]
  },
  {
   "cell_type": "code",
   "execution_count": 235,
   "metadata": {
    "collapsed": false
   },
   "outputs": [
    {
     "name": "stdout",
     "output_type": "stream",
     "text": [
      "Ttest_relResult(statistic=0.76510728036778386, pvalue=0.44999353973481937)\n"
     ]
    }
   ],
   "source": [
    "within = []\n",
    "across = []\n",
    "for mat in roi_rsa['hipp']:\n",
    "    \n",
    "    lower = np.tril(mat)\n",
    "    lower[lower == 0] = np.nan\n",
    "    \n",
    "    mat = (mat - np.nanmean(lower)) / np.nanstd(lower)\n",
    "    \n",
    "#     mat = np.arctanh(mat)\n",
    "    within.append(np.mean([mat[1,0], mat[2,0], mat[3,1]]))\n",
    "    across.append(np.mean([mat[3,0], mat[2,1], mat[3,2]]))\n",
    "    \n",
    "print scipy.stats.ttest_rel(within,across)"
   ]
  },
  {
   "cell_type": "code",
   "execution_count": 59,
   "metadata": {
    "collapsed": false
   },
   "outputs": [],
   "source": [
    "from statsmodels.formula.api import ols\n",
    "rois= ['VTC_sim','hipp_right','peri_sim','para_sim','entorhinal']\n",
    "# rois= ['hipp_left','hipp_right','hipp']\n",
    "\n",
    "# rois= ['mOFC_fill_sim','lOFC_fill_sim','yeo17_fpc','yeo17_ifs']\n",
    "# rois = ['rh-hippocampus-tail','rh-hippocampus-body','rh-hippocampus-head',\n",
    "#         'lh-hippocampus-tail','lh-hippocampus-body','lh-hippocampus-head']\n",
    "\n",
    "res = {'intercept':[],'response':[],'valence':[],'overlap':[],'identity':[],'region':[],'sub':[]}\n",
    "res_stacked = {'beta':[],'regressor':[],'region':[]}\n",
    "for roi in rois:\n",
    "    for sub,rsa in enumerate(roi_rsa[roi]):\n",
    "        data = pd.DataFrame()\n",
    "        data['y'] = rsa[np.tril_indices_from(rsa)]\n",
    "        data['y'] = 1-rsa[np.tril_indices_from(rsa)]\n",
    "#         data['y'] = np.arctanh(data['y'])\n",
    "\n",
    "        data['response'] = [1,0,1,0,1,1,1,0,0,1]\n",
    "        data['valence'] = [1,0,-1,0,-1,-1,1,0,0,1]\n",
    "        data['overlap'] = [0,1,0,1,0,0,0,1,0,0]\n",
    "        data['identity'] = [1,0,1,0,0,1,0,0,0,1]\n",
    "        data['double'] = [1,1,1,0,0,0,0,0,0,0]\n",
    "\n",
    "        data['response'] = data['response'] - np.mean(data['response'])\n",
    "        data['valence'] = data['valence'] - np.mean(data['valence'])\n",
    "        data['overlap'] = data['overlap'] - np.mean(data['overlap'])\n",
    "        data['identity'] = data['identity'] - np.mean(data['identity'])\n",
    "\n",
    "        model = ols(\"y ~ identity + response + valence + overlap\", data)    \n",
    "        fit = model.fit()\n",
    "        \n",
    "        res['intercept'].append(fit.params['Intercept'])\n",
    "        res['response'].append(fit.params['response'])\n",
    "        res['valence'].append(fit.params['valence'])\n",
    "        res['overlap'].append(fit.params['overlap'])\n",
    "        res['identity'].append(fit.params['identity'])\n",
    "        res['sub'].append(sub)\n",
    "        res['region'].append(roi)\n",
    "    \n",
    "res = pd.DataFrame(res)"
   ]
  },
  {
   "cell_type": "code",
   "execution_count": 62,
   "metadata": {
    "collapsed": false
   },
   "outputs": [
    {
     "data": {
      "image/png": "[encoded data removed]",
      "text/plain": [
       "<matplotlib.figure.Figure at 0x7f4f3fcfa810>"
      ]
     },
     "metadata": {},
     "output_type": "display_data"
    }
   ],
   "source": [
    "## res_melt = pd.melt(res, id_vars=['region'], value_vars=['response','valence','resp:val','overlap'])\n",
    "res_melt = pd.melt(res, id_vars=['region'], value_vars=['response','valence','overlap'])\n",
    "\n",
    "sns.barplot(x='variable',y='value',hue = 'region',data = res_melt, ci = 68)\n",
    "plt.savefig('/home/iballard/Dropbox/fd/RSA.png')"
   ]
  },
  {
   "cell_type": "code",
   "execution_count": 53,
   "metadata": {
    "collapsed": false,
    "scrolled": true
   },
   "outputs": [
    {
     "name": "stdout",
     "output_type": "stream",
     "text": [
      "            sum_sq   df         F    PR(>F)\n",
      "region    0.026454    3  5.967879  0.000781\n",
      "Residual  0.183216  124       NaN       NaN\n"
     ]
    }
   ],
   "source": [
    "import statsmodels.api as sm\n",
    "model = ols(\"overlap ~ region\", res).fit() \n",
    "table = sm.stats.anova_lm(model, typ=2)\n",
    "print table\n",
    "res.to_csv('/home/iballard/Dropbox/fd/sim_similarity.csv')"
   ]
  },
  {
   "cell_type": "code",
   "execution_count": 55,
   "metadata": {
    "collapsed": false
   },
   "outputs": [
    {
     "data": {
      "text/plain": [
       "Ttest_relResult(statistic=-2.1571688104753304, pvalue=0.038859122606813158)"
      ]
     },
     "execution_count": 55,
     "metadata": {},
     "output_type": "execute_result"
    }
   ],
   "source": [
    "scipy.stats.ttest_rel(res.loc[res['region'] == 'peri_sim','overlap'],\n",
    "                     res.loc[res['region'] == 'hipp_right','overlap'])"
   ]
  },
  {
   "cell_type": "code",
   "execution_count": 65,
   "metadata": {
    "collapsed": false
   },
   "outputs": [
    {
     "data": {
      "text/plain": [
       "array([[ 0.09246038,  0.06809253,  0.0723557 ,  0.07002456],\n",
       "       [ 0.06809253,  0.04640508,  0.03430666,  0.03148973],\n",
       "       [ 0.0723557 ,  0.03430666,  0.01455481,  0.02609865],\n",
       "       [ 0.07002456,  0.03148973,  0.02609865, -0.00682619]])"
      ]
     },
     "execution_count": 65,
     "metadata": {},
     "output_type": "execute_result"
    }
   ],
   "source": [
    "roi_rsa['hipp'][0]"
   ]
  },
  {
   "cell_type": "code",
   "execution_count": null,
   "metadata": {
    "collapsed": true
   },
   "outputs": [],
   "source": []
  }
 ],
 "metadata": {
  "kernelspec": {
   "display_name": "Python 2",
   "language": "python",
   "name": "python2"
  },
  "language_info": {
   "codemirror_mode": {
    "name": "ipython",
    "version": 2
   },
   "file_extension": ".py",
   "mimetype": "text/x-python",
   "name": "python",
   "nbconvert_exporter": "python",
   "pygments_lexer": "ipython2",
   "version": "2.7.11"
  }
 },
 "nbformat": 4,
 "nbformat_minor": 0
}
