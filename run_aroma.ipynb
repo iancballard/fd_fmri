{
 "cells": [
  {
   "cell_type": "code",
   "execution_count": 1,
   "metadata": {
    "collapsed": true
   },
   "outputs": [],
   "source": [
    "#os and i/o\n",
    "import os\n",
    "import numpy as np\n",
    "import glob\n",
    "from os.path import abspath\n",
    "import csv\n",
    "\n",
    "#scientific computing\n",
    "import matplotlib\n",
    "import matplotlib.pyplot as plt\n",
    "import pandas as pd\n",
    "from scipy import stats, optimize\n",
    "from pandas import DataFrame, Series\n",
    "import seaborn as sns\n",
    "import random as rd\n",
    "from statsmodels.formula.api import ols\n",
    "from statsmodels.stats.anova import anova_lm\n",
    "import scipy.stats\n",
    "\n",
    "#ipython add-ons\n",
    "from IPython.parallel import Client\n",
    "from IPython.display import Image\n",
    "import multiprocessing\n",
    "\n",
    "##nipype\n",
    "import nibabel as nib\n",
    "from nipype.pipeline.engine import Node, MapNode, Workflow\n",
    "from nipype.interfaces.io import DataGrabber, DataFinder, DataSink\n",
    "from nipype.interfaces import fsl\n",
    "from nipype.interfaces.fsl import MELODIC\n",
    "%matplotlib inline"
   ]
  },
  {
   "cell_type": "code",
   "execution_count": 2,
   "metadata": {
    "collapsed": true
   },
   "outputs": [],
   "source": [
    "#preliminary housekeeping\n",
    "home_dir = '/data/home/iballard/fd/'\n",
    "subj_file = home_dir + 'subjects.txt'\n",
    "sub_list = list(np.loadtxt(subj_file,'string'))\n",
    "os.chdir(home_dir)"
   ]
  },
  {
   "cell_type": "code",
   "execution_count": 3,
   "metadata": {
    "collapsed": false
   },
   "outputs": [
    {
     "name": "stdout",
     "output_type": "stream",
     "text": [
      "/home/iballard/ICA-AROMA-master/ICA_AROMA.py -in  -out /data/home/iballard/fd/analysis/ser_8mm/fd_104/preproc/run_1/aroma/ -mc /data/home/iballard/fd/analysis/ser_8mm/fd_104/preproc/run_1/melodic/mc/prefiltered_func_data_mcf.par -m /data/home/iballard/fd/analysis/ser_8mm/fd_104/preproc/run_1/functional_mask.nii.gz -affmat /data/home/iballard/fd/analysis/ser_8mm/fd_104/preproc/run_1/melodic/reg/highres2example_func.mat -warp /data/home/iballard/fd/data/fd_104/normalization/brain_warp.nii.gz\n"
     ]
    }
   ],
   "source": [
    "exp = 'ser'\n",
    "sub = 'fd_104'\n",
    "run = str(1)\n",
    "sub_dir = home_dir + 'analysis/' + exp + '_8mm/' + sub + '/preproc/run_' + run + '/'\n",
    "in_file = ''\n",
    "out_dir = sub_dir + 'aroma/'\n",
    "if not os.path.exists(out_dir):\n",
    "    os.mkdir(out_dir)\n",
    "affmat = sub_dir + 'melodic/reg/highres2example_func.mat'\n",
    "warp = home_dir + 'data/' + sub + '/normalization/brain_warp.nii.gz'\n",
    "mc = sub_dir + 'melodic/mc/prefiltered_func_data_mcf.par'\n",
    "mask = sub_dir + 'functional_mask.nii.gz'\n",
    "\n",
    "aroma_f = '/home/iballard/ICA-AROMA-master/ICA_AROMA.py'\n",
    "cmd_str = [aroma_f,'-in',in_file,'-out',out_dir,'-mc',\n",
    "           mc,'-m',mask,'-affmat',affmat,'-warp',warp]\n",
    "print ' '.join(cmd_str)"
   ]
  },
  {
   "cell_type": "code",
   "execution_count": null,
   "metadata": {
    "collapsed": true
   },
   "outputs": [],
   "source": []
  },
  {
   "cell_type": "code",
   "execution_count": 54,
   "metadata": {
    "collapsed": false,
    "scrolled": true
   },
   "outputs": [],
   "source": [
    "files = ['artifact_detection.png', 'realignment_plots.png', 'func2anat.png',\n",
    "         'func2anat_tkreg.dat', 'func2anat_flirt.mat', 'functional_mask.png', \n",
    "         'mean_func.png', 'example_func.png', 'example_func.nii.gz', 'realignment_params.csv', \n",
    "         'artifacts.csv', 'functional_mask.nii.gz', 'mean_func.nii.gz', 'experiment_info.json']\n",
    "exp = 'sim'\n",
    "new_dir = home_dir + 'analysis/' + exp + '_4mm/'\n",
    "\n",
    "for s in sub_list:\n",
    "    new_s_dir = new_dir + s\n",
    "    if not os.path.exists(new_s_dir):\n",
    "        os.mkdir(new_s_dir)\n",
    "    new_s_dir = new_dir + s + '/preproc'\n",
    "    if not os.path.exists(new_s_dir):\n",
    "        os.mkdir(new_s_dir)\n",
    "        \n",
    "    for run in range(1,4):\n",
    "        old = home_dir + 'analysis/' + exp + '_8mm/' + s + '/preproc/run_' + str(run) + '/'\n",
    "        new = home_dir + 'analysis/' + exp + '_4mm/' + s + '/preproc/run_' + str(run) + '/'\n",
    "        if not os.path.exists(new):\n",
    "            os.mkdir(new)\n",
    "        for f in files:\n",
    "            o = old + f\n",
    "            n = new+f\n",
    "            if not os.path.exists(n):\n",
    "                cmd = ['ln','-s',o,n]\n",
    "#                 os.system(' '.join(cmd))\n",
    "        \n",
    "        smooth_clean = home_dir + '/smoothed/smoothed' + str(run) + exp + s + '/_smooth0/' + \\\n",
    "        'filtered_func_data_clean_smooth.nii.gz'\n",
    "        new_smooth = new + 'smoothed_timeseries.nii.gz'\n",
    "        if not os.path.exists(new_smooth) and os.path.exists(smooth_clean):\n",
    "            cmd = ['mv',smooth_clean,new_smooth]\n",
    "#             print cmd\n",
    "            os.system(' '.join(cmd))\n",
    "\n",
    "#         if os.path.exists(new_smooth):\n",
    "            \n",
    "#             try:\n",
    "#                 a = nib.load(new_smooth)\n",
    "#                 orig = nib.load(old + 'smoothed_timeseries.nii.gz')\n",
    "#                 if a.shape[3] != orig.shape[3]:\n",
    "#                     print new_smooth\n",
    "#             except:\n",
    "#                 print new_smooth"
   ]
  },
  {
   "cell_type": "code",
   "execution_count": null,
   "metadata": {
    "collapsed": true
   },
   "outputs": [],
   "source": []
  }
 ],
 "metadata": {
  "kernelspec": {
   "display_name": "Python 2",
   "language": "python",
   "name": "python2"
  },
  "language_info": {
   "codemirror_mode": {
    "name": "ipython",
    "version": 2
   },
   "file_extension": ".py",
   "mimetype": "text/x-python",
   "name": "python",
   "nbconvert_exporter": "python",
   "pygments_lexer": "ipython2",
   "version": "2.7.6"
  }
 },
 "nbformat": 4,
 "nbformat_minor": 0
}
