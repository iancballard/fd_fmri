{
 "cells": [
  {
   "cell_type": "code",
   "execution_count": 2,
   "metadata": {
    "collapsed": false
   },
   "outputs": [
    {
     "name": "stderr",
     "output_type": "stream",
     "text": [
      "WARNING:traits.has_traits:DEPRECATED: traits.has_traits.wrapped_class, 'the 'implements' class advisor has been deprecated. Use the 'provides' class decorator.\n"
     ]
    }
   ],
   "source": [
    "#os and i/o\n",
    "import os\n",
    "import numpy as np\n",
    "import glob\n",
    "from os.path import abspath\n",
    "import csv\n",
    "import shutil\n",
    "import gc\n",
    "\n",
    "#scientific computing\n",
    "import matplotlib\n",
    "import matplotlib.pyplot as plt\n",
    "import pandas as pd\n",
    "from scipy import stats, optimize, ndimage\n",
    "from pandas import DataFrame, Series\n",
    "import seaborn as sns\n",
    "import random as rd\n",
    "from statsmodels.formula.api import ols\n",
    "from statsmodels.stats.anova import anova_lm\n",
    "import scipy.stats\n",
    "import math\n",
    "\n",
    "#sklearn\n",
    "from sklearn import preprocessing\n",
    "\n",
    "from sklearn.svm import SVC\n",
    "from sklearn.metrics import confusion_matrix\n",
    "from sklearn.linear_model import LogisticRegression\n",
    "from sklearn.linear_model import RidgeClassifier\n",
    "from sklearn.cross_validation import LeaveOneLabelOut, cross_val_score, permutation_test_score\n",
    "from sklearn.feature_selection import SelectPercentile, f_classif, RFE\n",
    "from sklearn.pipeline import Pipeline\n",
    "from sklearn.multiclass import OneVsRestClassifier\n",
    "from sklearn.multiclass import OneVsOneClassifier\n",
    "from sklearn.preprocessing import label_binarize\n",
    "from sklearn.cross_validation import StratifiedKFold\n",
    "from sklearn.linear_model import Lasso\n",
    "from sklearn.naive_bayes import GaussianNB\n",
    "from sklearn import decomposition\n",
    "import pickle\n",
    "\n",
    "#ipython add-ons\n",
    "from IPython.parallel import Client\n",
    "from IPython.display import Image\n",
    "import multiprocessing\n",
    "\n",
    "##nipype\n",
    "import nibabel as nib\n",
    "from nipype.pipeline.engine import Node, MapNode, Workflow\n",
    "from nipype.interfaces.io import DataGrabber, DataFinder, DataSink\n",
    "from nipype.interfaces import fsl\n",
    "from nipype.interfaces.fsl import BET\n",
    "from nipype.interfaces.freesurfer.preprocess import ReconAll\n",
    "from nipype.interfaces.freesurfer.utils import MakeAverageSubject\n",
    "from nipype.interfaces.fsl import ExtractROI\n",
    "from nipype.interfaces.fsl import Merge\n",
    "from nipype.interfaces.fsl import TOPUP\n",
    "from nipype.interfaces.fsl import ApplyTOPUP\n",
    "from nipype.workflows.fmri.fsl import create_susan_smooth\n",
    "\n",
    "from nilearn import input_data\n",
    "import nilearn.decoding\n",
    "import lyman\n",
    "\n",
    "from surfer import Brain\n",
    "%matplotlib inline"
   ]
  },
  {
   "cell_type": "code",
   "execution_count": 3,
   "metadata": {
    "collapsed": false
   },
   "outputs": [],
   "source": [
    "#preliminary housekeeping\n",
    "home_dir = '/data/home/iballard/fd/'\n",
    "subj_file = home_dir + 'subjects.txt'\n",
    "sub_list = list(np.loadtxt(subj_file,'string'))\n",
    "os.chdir(home_dir)\n",
    "exp_list = ['loc']\n",
    "tr = 1.5"
   ]
  },
  {
   "cell_type": "code",
   "execution_count": 3,
   "metadata": {
    "collapsed": false
   },
   "outputs": [],
   "source": [
    "def load_data_roi_mean(sub,exp,roi,timing):\n",
    "\n",
    "    #roi mask\n",
    "    roi_mask = home_dir + 'data/' + sub + '/masks/VTC/VTC_occ_IT_ser.nii.gz'   \n",
    "    \n",
    "    X_data = []\n",
    "    y = []\n",
    "    runs = []\n",
    "    for run in range(1,4):\n",
    "        func_f = home_dir + 'analysis/' + exp + '/' + sub + '/reg/epi/unsmoothed/run_' + \\\n",
    "            str(run) + '/timeseries_xfm.nii.gz'\n",
    "        \n",
    "        if os.path.exists(func_f):    \n",
    "            ts_img = nib.load(func_f)\n",
    "            nifti_masker = input_data.NiftiMasker(mask_img = roi_mask, standardize = True)\n",
    "            ts_data = nifti_masker.fit_transform(func_f)\n",
    "            \n",
    "            #get indices of events of interest and mask data\n",
    "            indices = np.array(timing[timing['run']==run]['tr_index'].values,dtype=int)\n",
    "\n",
    "            #deal with situation when scan is too short\n",
    "            scan_dur = ts_data.shape[0]\n",
    "            n_scans = 5\n",
    "            if scan_dur <= (indices[-1] + n_scans):\n",
    "                print sub,exp,str(run),str(scan_dur),str(indices[-1])\n",
    "                \n",
    "                #crop indices vector and take scans\n",
    "                cropped_indices = [x for x in indices if (x + n_scans)<scan_dur]                \n",
    "\n",
    "                #Drop unused entries from the timing dataframe\n",
    "                while len(cropped_indices) < len(indices):\n",
    "                    cropped_indices.append(np.NaN)\n",
    "                timing.loc[timing['run']==run,'tr_index'] = cropped_indices\n",
    "                timing = timing.dropna()\n",
    "                \n",
    "                indices = np.array([x for x in cropped_indices if not np.isnan(x)])\n",
    "                print sub,exp,str(run),str(scan_dur),str(indices[-1])\n",
    "\n",
    "            #take 4 scans relative to the stimulus onset\n",
    "            frame0 = ts_data[indices + 0,:]\n",
    "            frame1 = ts_data[indices + 2,:] \n",
    "            frame2 = ts_data[indices + 3,:]\n",
    "            frame3 = ts_data[indices + 4,:]\n",
    "            X_run = np.mean([frame1,frame2,frame3],axis=0) #average timepoints\n",
    "            X_run -= frame0\n",
    "#             X_run = preprocessing.scale(X_run)\n",
    "\n",
    "            y_run = timing[timing['run']==run]['condition'].values\n",
    "            run = timing[timing['run']==run]['run'].values\n",
    "            y_run = y_run[0:X_run.shape[0]]\n",
    "            run = run[0:X_run.shape[0]]\n",
    "\n",
    "            y.extend(y_run)\n",
    "            runs.extend(run)\n",
    "            X_data.append(X_run) #concatenate runs\n",
    "            \n",
    "    X = np.concatenate(X_data,axis=0)\n",
    "#     X = preprocessing.normalize(X)\n",
    "    runs = np.array(runs)\n",
    "    return X, y, runs"
   ]
  },
  {
   "cell_type": "code",
   "execution_count": 4,
   "metadata": {
    "collapsed": false
   },
   "outputs": [],
   "source": [
    "def load_data_roi(sub,exp,roi,timing):\n",
    "\n",
    "    #roi mask\n",
    "#     roi_mask = home_dir + 'data/' + sub + '/masks/VTC/VTC_occ_IT_ser.nii.gz'   \n",
    "    roi_mask = home_dir + 'data/' + sub + '/masks/VTC/VTC_occ_IT.nii.gz'   \n",
    "    \n",
    "    X_data = []\n",
    "    y = []\n",
    "    runs = []\n",
    "    for run in range(1,3):\n",
    "        func_f = home_dir + 'analysis/' + exp + '/' + sub + '/reg/epi/smoothed/run_' + \\\n",
    "            str(run) + '/timeseries_xfm.nii.gz'\n",
    "        \n",
    "        if os.path.exists(func_f):    \n",
    "            ts_img = nib.load(func_f)\n",
    "            nifti_masker = input_data.NiftiMasker(mask_img = roi_mask, standardize = True)\n",
    "            ts_data = nifti_masker.fit_transform(func_f)\n",
    "            \n",
    "            #get indices of events of interest and mask data\n",
    "            indices = np.array(timing[timing['run']==run]['tr_index'].values,dtype=int)\n",
    "\n",
    "            #deal with situation when scan is too short\n",
    "            scan_dur = ts_data.shape[0]\n",
    "            n_scans = 4\n",
    "            if scan_dur <= (indices[-1] + n_scans):\n",
    "                print sub,exp,str(run),str(scan_dur),str(indices[-1])\n",
    "                \n",
    "                #crop indices vector and take scans\n",
    "                cropped_indices = [x for x in indices if (x + n_scans)<scan_dur]                \n",
    "\n",
    "                #Drop unused entries from the timing dataframe\n",
    "                while len(cropped_indices) < len(indices):\n",
    "                    cropped_indices.append(np.NaN)\n",
    "                timing.loc[timing['run']==run,'tr_index'] = cropped_indices\n",
    "                timing = timing.dropna()\n",
    "                \n",
    "                indices = np.array([x for x in cropped_indices if not np.isnan(x)])\n",
    "                \n",
    "            y_run = timing[timing['run']==run]['condition'].values\n",
    "            run = timing[timing['run']==run]['run'].values\n",
    "            \n",
    "            #take all scans up to next stimulus onset, offset by 3s (2 scans)\n",
    "            take_index = []\n",
    "            y_scan = []\n",
    "            run_scan = []\n",
    "            baseline_index = []\n",
    "            for n,i in enumerate(indices):\n",
    "                if n < len(indices) - 1:\n",
    "                    diff = indices[n+1] - i\n",
    "                else:\n",
    "                    diff = scan_dur - i - 3\n",
    "            \n",
    "                for j in range(2,2+int(diff)):\n",
    "                    baseline_index.append(i)\n",
    "                    take_index.append(i + j)\n",
    "                    y_scan.append(y_run[n])\n",
    "                    run_scan.append(run[n])\n",
    "\n",
    "            X_run = ts_data[take_index,:] -  ts_data[baseline_index,:]\n",
    "#             X_run = preprocessing.scale(X_run)\n",
    "            X_data.append(X_run)\n",
    "\n",
    "            y.extend(y_scan)\n",
    "            runs.extend(run_scan)\n",
    "            \n",
    "    X = np.concatenate(X_data,axis=0)\n",
    "#     X = preprocessing.normalize(X)\n",
    "    runs = np.array(runs)\n",
    "    return X, y, runs, nifti_masker"
   ]
  },
  {
   "cell_type": "code",
   "execution_count": null,
   "metadata": {
    "collapsed": false
   },
   "outputs": [],
   "source": []
  },
  {
   "cell_type": "code",
   "execution_count": 5,
   "metadata": {
    "collapsed": false
   },
   "outputs": [],
   "source": [
    "##add a column to the timing file coding for the TR in which an event occured\n",
    "def get_event_times(sub,exp):\n",
    "    event_file = home_dir + 'data/' + sub + '/design/' + exp + '_squashed.csv'\n",
    "    timing = pd.read_csv(event_file)\n",
    "    timing =  timing.sort(['run','onset'])\n",
    "    for run in range(1,3):\n",
    "        event_time = timing.loc[timing['run']==run,'onset'].values\n",
    "        tr_index = map(lambda x: int(math.floor(x/tr)),event_time)\n",
    "        timing.loc[timing['run']==run,'tr_index'] = tr_index\n",
    "    \n",
    "    return timing"
   ]
  },
  {
   "cell_type": "code",
   "execution_count": 29,
   "metadata": {
    "collapsed": false
   },
   "outputs": [
    {
     "name": "stdout",
     "output_type": "stream",
     "text": [
      "fd_104 loc 1 202 201\n",
      "fd_104 loc 2 202 201\n"
     ]
    }
   ],
   "source": [
    "in_tuple = in_tuples[0]\n",
    "sub,exp,roi = in_tuple\n",
    "\n",
    "timing = get_event_times(sub,exp)\n",
    "X, y, runs, nifti_masker = load_data_roi(sub,exp,roi,timing)\n",
    "y = np.array(map(lambda x: cond_map[x], y))"
   ]
  },
  {
   "cell_type": "code",
   "execution_count": 39,
   "metadata": {
    "collapsed": false
   },
   "outputs": [
    {
     "data": {
      "text/plain": [
       "Pipeline(steps=[('anova', SelectKBest(k=5000, score_func=<function f_classif at 0x7fcea0ae9938>)), ('classification', LogisticRegression(C=1, class_weight=None, dual=False, fit_intercept=True,\n",
       "          intercept_scaling=1, max_iter=100, multi_class='ovr',\n",
       "          penalty='l2', random_state=None, solver='liblinear', tol=0.0001,\n",
       "          verbose=0))])"
      ]
     },
     "execution_count": 39,
     "metadata": {},
     "output_type": "execute_result"
    }
   ],
   "source": [
    "\n",
    "y_new = np.array([x for x in y if x in [0,2]])\n",
    "X_new = np.array([x for n,x in enumerate(X) if y[n] in [0,2]])\n",
    "run_new = np.array([x for n,x in enumerate(runs) if y[n] in [0,2]])\n",
    "\n",
    "classifier = LogisticRegression(C=1)\n",
    "# classifier = SVC(kernel = 'linear', C=1, class_weight='auto')\n",
    "selector = SelectKBest(f_classif, k = 5000)\n",
    "clf = Pipeline([('anova',selector),('classification',classifier)])\n",
    "cv = LeaveOneLabelOut(run_new)\n",
    "#     res = cross_val_score(clf, X_new, y_new, cv=10, scoring = 'accuracy')\n",
    "\n",
    "#save model      \n",
    "#fit model\n",
    "clf.fit(X_new,y_new)"
   ]
  },
  {
   "cell_type": "code",
   "execution_count": 40,
   "metadata": {
    "collapsed": false
   },
   "outputs": [
    {
     "data": {
      "image/png": "[encoded data removed]",
      "text/plain": [
       "<matplotlib.figure.Figure at 0x7fce54d05b10>"
      ]
     },
     "metadata": {},
     "output_type": "display_data"
    }
   ],
   "source": [
    "# Look at the SVC's discriminating weights\n",
    "coef = classifier.coef_\n",
    "# reverse feature selection\n",
    "coef = selector.inverse_transform(coef)\n",
    "# reverse masking\n",
    "weight_img = nifti_masker.inverse_transform(coef)\n",
    "\n",
    "\n",
    "# Create the figure\n",
    "from nilearn import image\n",
    "from nilearn.plotting import plot_stat_map\n",
    "\n",
    "# Plot the mean image because we have no anatomic data\n",
    "# mean_img = home_dir + 'analysis/' + 'ser_8mm' + '/' + sub + '/reg/epi/unsmoothed/run_' + \\\n",
    "#             str(1) + '/mean_func_xfm.nii.gz'\n",
    "mean_img = home_dir + 'analysis/' + 'loc' + '/' + sub + '/reg/epi/unsmoothed/run_' + \\\n",
    "            str(1) + '/mean_func_xfm.nii.gz'\n",
    "plot_stat_map(weight_img, mean_img, title='SVM weights')\n",
    "\n",
    "# Saving the results as a Nifti file may also be important\n",
    "weight_img.to_filename('haxby_face_vs_house.nii')"
   ]
  },
  {
   "cell_type": "code",
   "execution_count": 24,
   "metadata": {
    "collapsed": false
   },
   "outputs": [],
   "source": [
    "from sklearn.feature_selection import SelectKBest, f_classif\n",
    "def run_roi_mvpa(in_tuple):\n",
    "    sub,exp,roi = in_tuple\n",
    "#         timing = get_event_times_stim(sub,exp)\n",
    "#         exp = exp + '_8mm'\n",
    "\n",
    "    timing = get_event_times(sub,exp)\n",
    "    X, y, runs, masker = load_data_roi(sub,exp,roi,timing)\n",
    "    y = np.array(map(lambda x: cond_map[x], y))\n",
    "\n",
    "    y_new = np.array([x for x in y if x in [0,2]])\n",
    "    X_new = np.array([x for n,x in enumerate(X) if y[n] in [0,2]])\n",
    "    run_new = np.array([x for n,x in enumerate(runs) if y[n] in [0,2]])\n",
    "\n",
    "#     pca = decomposition.PCA(n_components = 100, whiten = True)\n",
    "\n",
    "#     classifier = SVC(kernel = 'linear', C=1, class_weight='auto')\n",
    "    classifier = LogisticRegression(C=1)\n",
    "#     classifier = RidgeClassifier(alpha = 1, class_weight='auto', fit_intercept=False, normalize=True)\n",
    "    selector = SelectKBest(f_classif, k = 2000)\n",
    "    clf = Pipeline([('anova',selector),('classification',classifier)])\n",
    "#     clf = Pipeline([('pca',pca),('classification',classifier)])\n",
    "    cv = LeaveOneLabelOut(run_new)\n",
    "#     rfe = RFE(estimator = classifier, step = 10, n_features_to_select=int(X.shape[1]/4))\n",
    "    res = cross_val_score(clf, X_new, y_new, cv=5, scoring = 'accuracy')\n",
    "\n",
    "    #save model      \n",
    "    #fit model\n",
    "    clf.fit(X_new,y_new)\n",
    "\n",
    "    #save model\n",
    "    out_dir = home_dir + 'analysis/mvpa/' + sub + '/' + exp + '/'\n",
    "    if not os.path.exists(out_dir):\n",
    "        os.mkdir(out_dir)\n",
    "    out_f = out_dir + roi + '_localizer.pkl'\n",
    "    f = open(out_f, 'wb')\n",
    "    s = pickle.dump(clf,f)\n",
    "\n",
    "    return (sub,exp,roi,np.mean(res))"
   ]
  },
  {
   "cell_type": "code",
   "execution_count": 7,
   "metadata": {
    "collapsed": false
   },
   "outputs": [],
   "source": [
    "# def wrapper(in_tuple):\n",
    "#     try:\n",
    "#         return run_roi_mvpa(in_tuple)\n",
    "#     except:\n",
    "#         print in_tuple"
   ]
  },
  {
   "cell_type": "code",
   "execution_count": 18,
   "metadata": {
    "collapsed": false,
    "scrolled": true
   },
   "outputs": [],
   "source": [
    "in_tuples = []\n",
    "cond_map = {'face':0,'body':1, 'place': 2, 'character':3, 'object':4,'house':2}  \n",
    "roi = 'VTC'\n",
    "for exp in ['loc']:\n",
    "    for sub in sub_list:\n",
    "        in_tuples.append((sub,exp,roi))"
   ]
  },
  {
   "cell_type": "code",
   "execution_count": 26,
   "metadata": {
    "collapsed": false,
    "scrolled": false
   },
   "outputs": [],
   "source": [
    "# pool = multiprocessing.Pool(processes = 18)\n",
    "# output = pool.map(run_roi_mvpa,in_tuples)\n",
    "# pool.terminate()\n",
    "# pool.join()"
   ]
  },
  {
   "cell_type": "code",
   "execution_count": 27,
   "metadata": {
    "collapsed": false,
    "scrolled": true
   },
   "outputs": [
    {
     "name": "stdout",
     "output_type": "stream",
     "text": [
      "0.803310262432\n"
     ]
    },
    {
     "data": {
      "text/plain": [
       "0.064711416751701362"
      ]
     },
     "execution_count": 27,
     "metadata": {},
     "output_type": "execute_result"
    }
   ],
   "source": [
    "accs = []\n",
    "for o in output:\n",
    "    s,e,r,acc = o\n",
    "    accs.append(acc)\n",
    "print np.mean(accs)\n",
    "np.std(accs)"
   ]
  },
  {
   "cell_type": "code",
   "execution_count": 48,
   "metadata": {
    "collapsed": false
   },
   "outputs": [
    {
     "name": "stdout",
     "output_type": "stream",
     "text": [
      "[0.87897664071190218, 0.74015572858731926, 0.8573971078976641, 0.82094508301404867, 0.85962180200222471, 0.84449388209121246, 0.77041156840934366, 0.84404894327030033, 0.80266963292547278, 0.58464961067853172, 0.68498331479421581, 0.78976640711902113, 0.78197997775305894, 0.7768631813125696, 0.89010011123470534, 0.80355951056729702, 0.87764182424916581, 0.78197997775305883, 0.77041156840934366, 0.8173526140155728, 0.83025583982202433, 0.69543937708565073, 0.74104560622914339, 0.80355951056729702, 0.79666295884315907, 0.871635150166852, 0.84226918798665174, 0.7690767519466073, 0.78464961067853167, 0.8573971078976641, 0.8573971078976641, 0.87853170189099006]\n"
     ]
    }
   ],
   "source": [
    "print accs"
   ]
  },
  {
   "cell_type": "markdown",
   "metadata": {
    "collapsed": false
   },
   "source": [
    "#Test classifier performance on serial data"
   ]
  },
  {
   "cell_type": "code",
   "execution_count": null,
   "metadata": {
    "collapsed": true
   },
   "outputs": [],
   "source": []
  },
  {
   "cell_type": "code",
   "execution_count": 107,
   "metadata": {
    "collapsed": false
   },
   "outputs": [],
   "source": [
    "def get_event_times_stim(sub,exp):\n",
    "    #load data\n",
    "    event_file = home_dir + 'data/' + sub + '/design/' + exp + '_PE.csv'\n",
    "    timing = pd.read_csv(event_file)\n",
    "    \n",
    "    #dump irrelevant events\n",
    "    idx = timing['condition'].isin(['b_minus_PE','c_minus_PE','c_plus_PE','b_plus_PE',\n",
    "                                'feedback_neg','feedback_pos'])\n",
    "    timing = timing[~idx]\n",
    "\n",
    "    #map the A,B,C stims to their actual visual content\n",
    "    timing['stim'] = None\n",
    "    stim_mapping= {1:{'A':'house','b_minus':'face','b_plus':'face','c_minus':'body','c_plus':'body'},\n",
    "        2:{'A':'face','b_minus':'body','b_plus':'body','c_minus':'house','c_plus':'house'},\n",
    "         3:{'A':'body','b_minus':'house','b_plus':'house','c_minus':'face','c_plus':'face'}}\n",
    "    for run in set(timing['run'].values):\n",
    "        cond = timing[timing['run'] ==  run]['condition'].values\n",
    "        stim = map(lambda x: stim_mapping[run][x], cond)\n",
    "        timing.ix[timing['run'] ==  run,'stim'] = stim\n",
    "    timing['condition'] = timing['stim']\n",
    "\n",
    "    #calculate TR where events occured\n",
    "    timing =  timing.sort(['run','onset'])\n",
    "    for run in set(timing['run'].values):\n",
    "        event_time = timing.loc[timing['run']==run,'onset'].values\n",
    "        tr_index = map(lambda x: int(math.floor(x/tr)),event_time)\n",
    "        timing.loc[timing['run']==run,'tr_index'] = tr_index\n",
    "        \n",
    "    return timing"
   ]
  },
  {
   "cell_type": "code",
   "execution_count": 136,
   "metadata": {
    "collapsed": false
   },
   "outputs": [],
   "source": [
    "def test_classifier(in_tuple):\n",
    "    sub,exp,roi = in_tuple\n",
    "\n",
    "    #load test data\n",
    "    timing = get_event_times_stim(sub,exp)\n",
    "    exp = exp + '_8mm'\n",
    "    X, y, runs = load_data_roi_mean(sub,exp,roi,timing)\n",
    "    y = np.array(map(lambda x: cond_map[x], y))\n",
    "    y_new = np.array([x for x in y if x in [0,2]])\n",
    "    X_new = np.array([x for n,x in enumerate(X) if y[n] in [0,2]])\n",
    "    \n",
    "    #load classifier\n",
    "    exp = 'loc'\n",
    "    out_f = home_dir + 'analysis/mvpa/' + sub + '/loc/' + roi + '_localizer.pkl'\n",
    "    f = open(out_f,'rb')\n",
    "    clf = pickle.load(f)\n",
    "    f.close()\n",
    "    \n",
    "    score = clf.score(X_new,y_new)\n",
    "    cm = confusion_matrix(y_new,clf.predict(X_new))\n",
    "\n",
    "    return (sub,exp,roi,cm,score)"
   ]
  },
  {
   "cell_type": "code",
   "execution_count": 137,
   "metadata": {
    "collapsed": false
   },
   "outputs": [],
   "source": [
    "# def test_classifier(in_tuple):\n",
    "#     sub,exp,roi = in_tuple\n",
    "#     try:\n",
    "#         #load test data\n",
    "#         timing = get_event_times(sub,exp)\n",
    "#         X, y, runs = load_data_roi(sub,exp,roi,timing)\n",
    "#         y = np.array(map(lambda x: cond_map[x], y))\n",
    "#         y_new = np.array([x for x in y if x in [0,1,2]])\n",
    "#         X_new = np.array([x for n,x in enumerate(X) if y[n] in [0,1,2]])\n",
    "\n",
    "#         #load classifier\n",
    "#         exp = 'ser_8mm'\n",
    "#         out_f = home_dir + 'analysis/mvpa/' + sub + '/' + exp + 'loc/' + roi + '_localizer.pkl'\n",
    "#         clf = pickle.load(open(out_f,'rb'))\n",
    "\n",
    "#         score = clf.score(X_new,y_new)\n",
    "#         cm = confusion_matrix(y_new,clf.predict(X_new))\n",
    "\n",
    "#         return (sub,exp,roi,cm,score)\n",
    "#     except:\n",
    "#         None"
   ]
  },
  {
   "cell_type": "code",
   "execution_count": 289,
   "metadata": {
    "collapsed": false
   },
   "outputs": [],
   "source": [
    "in_tuples = []\n",
    "cond_map = {'face':0,'body':1, 'place': 2, 'character':3, 'object':4,'house':2}  \n",
    "roi = 'VTC'\n",
    "for exp in ['ser']:\n",
    "    for sub in sub_list:\n",
    "        in_tuples.append((sub,exp,roi))"
   ]
  },
  {
   "cell_type": "code",
   "execution_count": 290,
   "metadata": {
    "collapsed": false
   },
   "outputs": [],
   "source": [
    "def wrapper(in_tuple):\n",
    "    try:\n",
    "        return test_classifier(in_tuple)\n",
    "    except:\n",
    "        print in_tuple"
   ]
  },
  {
   "cell_type": "code",
   "execution_count": 141,
   "metadata": {
    "collapsed": false
   },
   "outputs": [],
   "source": [
    "# pool = multiprocessing.Pool(processes = 10)\n",
    "# output = pool.map(wrapper,in_tuples)\n",
    "# pool.terminate()\n",
    "# pool.join()"
   ]
  },
  {
   "cell_type": "code",
   "execution_count": 288,
   "metadata": {
    "collapsed": false
   },
   "outputs": [
    {
     "ename": "ValueError",
     "evalue": "need more than 4 values to unpack",
     "output_type": "error",
     "traceback": [
      "\u001b[1;31m---------------------------------------------------------------------------\u001b[0m",
      "\u001b[1;31mValueError\u001b[0m                                Traceback (most recent call last)",
      "\u001b[1;32m<ipython-input-288-2bb4e92e82f2>\u001b[0m in \u001b[0;36m<module>\u001b[1;34m()\u001b[0m\n\u001b[0;32m      4\u001b[0m \u001b[1;32mfor\u001b[0m \u001b[0mo\u001b[0m \u001b[1;32min\u001b[0m \u001b[0moutput\u001b[0m\u001b[1;33m:\u001b[0m\u001b[1;33m\u001b[0m\u001b[0m\n\u001b[0;32m      5\u001b[0m     \u001b[1;32mif\u001b[0m \u001b[0mo\u001b[0m \u001b[1;32mis\u001b[0m \u001b[1;32mnot\u001b[0m \u001b[0mNone\u001b[0m\u001b[1;33m:\u001b[0m\u001b[1;33m\u001b[0m\u001b[0m\n\u001b[1;32m----> 6\u001b[1;33m         \u001b[0ms\u001b[0m\u001b[1;33m,\u001b[0m\u001b[0me\u001b[0m\u001b[1;33m,\u001b[0m\u001b[0mr\u001b[0m\u001b[1;33m,\u001b[0m\u001b[0mcm\u001b[0m\u001b[1;33m,\u001b[0m\u001b[0macc\u001b[0m \u001b[1;33m=\u001b[0m \u001b[0mo\u001b[0m\u001b[1;33m\u001b[0m\u001b[0m\n\u001b[0m\u001b[0;32m      7\u001b[0m \u001b[1;33m\u001b[0m\u001b[0m\n\u001b[0;32m      8\u001b[0m         \u001b[0maccs\u001b[0m\u001b[1;33m.\u001b[0m\u001b[0mappend\u001b[0m\u001b[1;33m(\u001b[0m\u001b[0macc\u001b[0m\u001b[1;33m)\u001b[0m\u001b[1;33m\u001b[0m\u001b[0m\n",
      "\u001b[1;31mValueError\u001b[0m: need more than 4 values to unpack"
     ]
    }
   ],
   "source": [
    "accs = []\n",
    "\n",
    "cms = []\n",
    "for o in output:\n",
    "    if o is not None:\n",
    "        s,e,r,cm,acc = o\n",
    "\n",
    "        accs.append(acc)\n",
    "        cms.append(cm)"
   ]
  },
  {
   "cell_type": "code",
   "execution_count": 171,
   "metadata": {
    "collapsed": false
   },
   "outputs": [],
   "source": [
    "sub = 'fd_105'\n",
    "roi = 'VTC'\n",
    "out_f = home_dir + 'analysis/mvpa/' + sub + '/loc/' + roi + '_localizer.pkl'\n",
    "f = open(out_f,'rb')\n",
    "clf = pickle.load(f)\n"
   ]
  },
  {
   "cell_type": "code",
   "execution_count": 172,
   "metadata": {
    "collapsed": false
   },
   "outputs": [
    {
     "data": {
      "text/plain": [
       "Pipeline(steps=[('anova', SelectKBest(k=500, score_func=<function f_classif at 0x7fc4f75ad938>)), ('classification', LogisticRegression(C=1, class_weight=None, dual=False, fit_intercept=True,\n",
       "          intercept_scaling=1, max_iter=100, multi_class='ovr',\n",
       "          penalty='l2', random_state=None, solver='liblinear', tol=0.0001,\n",
       "          verbose=0))])"
      ]
     },
     "execution_count": 172,
     "metadata": {},
     "output_type": "execute_result"
    }
   ],
   "source": [
    "clf."
   ]
  },
  {
   "cell_type": "code",
   "execution_count": 172,
   "metadata": {
    "collapsed": false
   },
   "outputs": [],
   "source": [
    "def plot_confusion_matrix(cm, title='Confusion matrix', cmap=plt.cm.Blues):\n",
    "    plt.imshow(cm, interpolation='nearest', cmap=cmap)\n",
    "    plt.title(title)\n",
    "    plt.colorbar()\n",
    "    plt.tight_layout()\n",
    "    plt.ylabel('True label')\n",
    "    plt.xlabel('Predicted label')"
   ]
  },
  {
   "cell_type": "code",
   "execution_count": 173,
   "metadata": {
    "collapsed": false
   },
   "outputs": [
    {
     "name": "stdout",
     "output_type": "stream",
     "text": [
      "Confusion matrix, without normalization\n",
      "[[18 16 26]\n",
      " [15 24 21]\n",
      " [10 20 30]]\n"
     ]
    },
    {
     "data": {
      "image/png": "[encoded data removed]",
      "text/plain": [
       "<matplotlib.figure.Figure at 0x7fc1602b52d0>"
      ]
     },
     "metadata": {},
     "output_type": "display_data"
    }
   ],
   "source": [
    "np.set_printoptions(precision=2)\n",
    "print('Confusion matrix, without normalization')\n",
    "print(cm)\n",
    "plt.figure()\n",
    "plot_confusion_matrix(cm)"
   ]
  },
  {
   "cell_type": "code",
   "execution_count": 22,
   "metadata": {
    "collapsed": false
   },
   "outputs": [],
   "source": [
    "#downsample to 2 second TR\n",
    "def down_sample(sub,exp,run):\n",
    "    from scipy.interpolate import interp1d\n",
    "\n",
    "#     sub_dir = home_dir +'analysis/' + exp + '/' + sub + '/preproc/run_' + str(run) + '/'\n",
    "#     data_f = sub_dir + 'unsmoothed_timeseries.nii.gz'\n",
    "    sub_dir = home_dir +'data/' + sub + '/func/' + exp + '/'\n",
    "    data_f = sub_dir + 'run_' + str(run) + '.nii.gz'\n",
    "    data_f = nib.load(data_f)\n",
    "\n",
    "    im = data_f.get_data()\n",
    "\n",
    "    frames = im.shape[3]\n",
    "    x= np.linspace(0,frames-1,frames)\n",
    "    xx = np.linspace(0,frames,frames*3/4.0 + 1)[:-3/4]\n",
    "\n",
    "    interp = interp1d(x,im,'cubic',axis=3)\n",
    "    im2 = interp(xx)\n",
    "\n",
    "    out_f = sub_dir + 'run_' + str(run) + '_2sTR.nii.gz'\n",
    "    out_img = nib.Nifti1Image(im2,data_f.get_affine(),data_f.get_header())\n",
    "    out_img.to_filename(out_f)"
   ]
  },
  {
   "cell_type": "code",
   "execution_count": 24,
   "metadata": {
    "collapsed": false
   },
   "outputs": [],
   "source": [
    "down_sample('fd_108','loc',1)"
   ]
  },
  {
   "cell_type": "code",
   "execution_count": 54,
   "metadata": {
    "collapsed": false
   },
   "outputs": [
    {
     "name": "stdout",
     "output_type": "stream",
     "text": [
      "/data/home/iballard/fd/data/fd_104/masks/VTC/VTC_occ_IT.nii.gz\n"
     ]
    }
   ],
   "source": [
    "##map loc mask to anatomical and then to serial space to preserve voxel dimension size\n",
    "for sub in sub_list:\n",
    "    if sub == 'fd_104':\n",
    "        #set paths\n",
    "        sub_path = home_dir + 'data/' + sub \n",
    "        roi_dir =  sub_path + '/masks/VTC/'\n",
    "        roi = roi_dir + 'VTC_occ_IT.nii.gz'\n",
    "        roi_anat = roi_dir + 'VTC_occ_IT_loc_anat.nii.gz'\n",
    "        roi_func = roi_dir + 'VTC_occ_IT_loc_ser.nii.gz'\n",
    "        print roi\n",
    "        if os.path.exists(roi) and not os.path.exists(roi_anat):\n",
    "\n",
    "            #register to anatomical space\n",
    "            transform = home_dir + '/analysis/loc/' + sub +  '/preproc/run_1/func2anat_tkreg.dat'\n",
    "            if not os.path.exists(roi_anat):\n",
    "                cmd_line = ['mri_vol2vol','--mov',roi,\n",
    "                            '--reg',transform,'--fstarg','--o',roi_anat,'--no-save-reg','--no-resample']\n",
    "                os.system(' '.join(cmd_line))\n",
    "                \n",
    "            #register to functional space\n",
    "            transform = home_dir + '/analysis/ser_8mm/' + sub +  '/preproc/run_1/func2anat_tkreg.dat'\n",
    "            mean_func = home_dir + '/analysis/ser_8mm/' + sub +  '/preproc/run_1/mean_func.nii.gz'\n",
    "            if not os.path.exists(roi_func):\n",
    "                cmd_line = ['mri_vol2vol','--mov',mean_func,'--targ',roi_anat,'--reg',transform,'--o',roi_func,\n",
    "                            '--no-save-reg','--inv','--no-resample']\n",
    "                os.system(' '.join(cmd_line))"
   ]
  },
  {
   "cell_type": "code",
   "execution_count": 63,
   "metadata": {
    "collapsed": false
   },
   "outputs": [
    {
     "name": "stdout",
     "output_type": "stream",
     "text": [
      "convert_xfm -omat /data/home/iballard/fd//analysis/loc/fd_104/preproc/run_1/func2ser_flirt.mat -concat /data/home/iballard/fd//analysis/ser_8mm/fd_104/preproc/run_1/melodic/reg/highres2example_func.mat /data/home/iballard/fd//analysis/loc/fd_104/preproc/run_1/func2anat_flirt.mat\n",
      "flirt -in /data/home/iballard/fd/data/fd_104/masks/VTC/VTC_occ_IT.nii.gz -out /data/home/iballard/fd/data/fd_104/masks/VTC/VTC_occ_IT_loc_ser.nii.gz -ref /data/home/iballard/fd//analysis/ser_8mm/fd_104/preproc/run_1/mean_func.nii.gz -applyxfm -init /data/home/iballard/fd//analysis/loc/fd_104/preproc/run_1/func2ser_flirt.mat -noresample\n"
     ]
    }
   ],
   "source": [
    "##map loc mask to anatomical and then to serial space to preserve voxel dimension size\n",
    "for sub in sub_list:\n",
    "    if sub == 'fd_104':\n",
    "        #set paths\n",
    "        sub_path = home_dir + 'data/' + sub \n",
    "        roi_dir =  sub_path + '/masks/VTC/'\n",
    "        roi = roi_dir + 'VTC_occ_IT.nii.gz'\n",
    "\n",
    "        roi_func = roi_dir + 'VTC_occ_IT_loc_ser.nii.gz'\n",
    "        if True:#os.path.exists(roi):# and not os.path.exists(roi_anat):\n",
    "\n",
    "            #concat transforms\n",
    "            transform1 = home_dir + '/analysis/loc/' + sub +  '/preproc/run_1/func2anat_flirt.mat'\n",
    "            transform2 = home_dir + '/analysis/ser_8mm/' + sub +  '/preproc/run_1/melodic/reg/highres2example_func.mat'\n",
    "            out_trans = home_dir + '/analysis/loc/' + sub +  '/preproc/run_1/func2ser_flirt.mat'\n",
    "\n",
    "            cmd = ['convert_xfm','-omat',out_trans,\n",
    "                        '-concat',transform2,transform1]\n",
    "            os.system(' '.join(cmd))\n",
    "            print ' '.join(cmd)\n",
    "           \n",
    "            mean_func = home_dir + '/analysis/ser_8mm/' + sub +  '/preproc/run_1/mean_func.nii.gz'\n",
    "            cmd = ['flirt','-in',roi,'-out',roi_func,'-ref',mean_func,\n",
    "                        '-applyxfm','-init',out_trans,'-noresample']\n",
    "            os.system(' '.join(cmd))\n",
    "            print ' '.join(cmd)\n"
   ]
  },
  {
   "cell_type": "code",
   "execution_count": 72,
   "metadata": {
    "collapsed": false,
    "scrolled": true
   },
   "outputs": [],
   "source": [
    "##map loc mask to anatomical and then to serial space to preserve voxel dimension size\n",
    "def map_func(sub):\n",
    "    #set paths\n",
    "    sub_path = home_dir + 'data/' + sub \n",
    "    loc_path = home_dir + '/analysis/loc/' + sub\n",
    "    roi_dir =  sub_path + '/masks/VTC/'\n",
    "    reg_dir = loc_path + '/reg/epi/unsmoothed'\n",
    "    new_reg = loc_path + '/ser_reg/'\n",
    "    if not os.path.exists(new_reg):\n",
    "        os.mkdir(new_reg)\n",
    "\n",
    "    #concat transforms\n",
    "    transform1 = loc_path +  '/preproc/run_1/func2anat_flirt.mat'\n",
    "    transform2 = home_dir + '/analysis/ser_8mm/' + sub +  '/preproc/run_1/melodic/reg/highres2example_func.mat'\n",
    "    out_trans = loc_path +  '/preproc/run_1/func2ser_flirt.mat'\n",
    "    cmd = ['convert_xfm','-omat',out_trans,\n",
    "                '-concat',transform2,transform1]\n",
    "    os.system(' '.join(cmd))\n",
    "\n",
    "    #transform runs\n",
    "    for run in range(1,3):\n",
    "        new_reg_run = new_reg + '/run_' + str(run)\n",
    "        if not os.path.exists(new_reg_run):\n",
    "            os.mkdir(new_reg_run)\n",
    "\n",
    "        mean_func = home_dir + '/analysis/ser_8mm/' + sub +  '/preproc/run_1/mean_func.nii.gz'\n",
    "        in_f = reg_dir + '/run_' + str(run) + '/timeseries_xfm.nii.gz'\n",
    "        out_f = new_reg_run + '/timeseries_xfm.nii.gz'\n",
    "        if not os.path.exists(out_f):\n",
    "            cmd = ['applywarp','-i',in_f,'-o',out_f,'-r',mean_func,\n",
    "                    '--premat='+out_trans,'--interp=spline']\n",
    "            os.system(' '.join(cmd))\n"
   ]
  },
  {
   "cell_type": "code",
   "execution_count": 75,
   "metadata": {
    "collapsed": false
   },
   "outputs": [],
   "source": [
    "pool = multiprocessing.Pool(processes = 15)\n",
    "output = pool.map(map_func,sub_list)\n",
    "pool.terminate()\n",
    "pool.join()"
   ]
  },
  {
   "cell_type": "code",
   "execution_count": 42,
   "metadata": {
    "collapsed": false
   },
   "outputs": [],
   "source": []
  },
  {
   "cell_type": "code",
   "execution_count": null,
   "metadata": {
    "collapsed": false
   },
   "outputs": [],
   "source": []
  },
  {
   "cell_type": "code",
   "execution_count": 6,
   "metadata": {
    "collapsed": false
   },
   "outputs": [],
   "source": [
    "for sub in sub_list:\n",
    "    for run in range(1,4):\n",
    "        old = home_dir + '/analysis/sim_4mm/' + sub + '/preproc/run_' + str(run) + \\\n",
    "        '/uncleaned_data/unsmoothed_timeseries.nii.gz'\n",
    "        new = home_dir + '/analysis/uncleaned_data/sim/' + sub + '_' + str(run) + '.nii.gz'\n",
    "        if os.path.exists(old):\n",
    "            cmd = ['mv',old,new]\n",
    "            os.system(' '.join(cmd))\n",
    "            "
   ]
  },
  {
   "cell_type": "code",
   "execution_count": 11,
   "metadata": {
    "collapsed": false
   },
   "outputs": [],
   "source": [
    "for sub in sub_list:\n",
    "    for run in range(1,4):\n",
    "        old = home_dir + '/data/' + sub + '/func/sim/run_' + str(run) + \\\n",
    "        '_fc_crop.nii.gz'\n",
    "        new = home_dir + '/analysis/fc_data/sim/' + sub + '_' + str(run) + '.nii.gz'\n",
    "        if os.path.exists(old):\n",
    "            cmd = ['mv',old,new]\n",
    "            os.system(' '.join(cmd))\n",
    "            "
   ]
  },
  {
   "cell_type": "code",
   "execution_count": 20,
   "metadata": {
    "collapsed": false
   },
   "outputs": [],
   "source": []
  },
  {
   "cell_type": "code",
   "execution_count": 29,
   "metadata": {
    "collapsed": false
   },
   "outputs": [
    {
     "data": {
      "text/plain": [
       "array([ 10,  14,  18,  21,  68,  71, 110, 112, 113, 115, 119, 160, 164,\n",
       "       211, 212, 254, 255, 279, 305, 308, 309, 314, 320, 321, 322, 323, 324])"
      ]
     },
     "execution_count": 29,
     "metadata": {},
     "output_type": "execute_result"
    }
   ],
   "source": [
    "np.where(art_intensity == True) [0] + 2"
   ]
  },
  {
   "cell_type": "code",
   "execution_count": 30,
   "metadata": {
    "collapsed": false
   },
   "outputs": [
    {
     "ename": "NameError",
     "evalue": "name 'path' is not defined",
     "output_type": "error",
     "traceback": [
      "\u001b[1;31m---------------------------------------------------------------------------\u001b[0m",
      "\u001b[1;31mNameError\u001b[0m                                 Traceback (most recent call last)",
      "\u001b[1;32m<ipython-input-30-07798753d421>\u001b[0m in \u001b[0;36m<module>\u001b[1;34m()\u001b[0m\n\u001b[1;32m----> 1\u001b[1;33m \u001b[0mart_f\u001b[0m  \u001b[1;33m=\u001b[0m \u001b[0mpath\u001b[0m \u001b[1;33m+\u001b[0m \u001b[1;34m'/artifacts.csv'\u001b[0m\u001b[1;33m\u001b[0m\u001b[0m\n\u001b[0m\u001b[0;32m      2\u001b[0m \u001b[1;32mif\u001b[0m \u001b[0mos\u001b[0m\u001b[1;33m.\u001b[0m\u001b[0mpath\u001b[0m\u001b[1;33m.\u001b[0m\u001b[0mexists\u001b[0m\u001b[1;33m(\u001b[0m\u001b[0mart_f\u001b[0m\u001b[1;33m)\u001b[0m\u001b[1;33m:\u001b[0m\u001b[1;33m\u001b[0m\u001b[0m\n\u001b[0;32m      3\u001b[0m     \u001b[0mart\u001b[0m \u001b[1;33m=\u001b[0m \u001b[0mpd\u001b[0m\u001b[1;33m.\u001b[0m\u001b[0mread_csv\u001b[0m\u001b[1;33m(\u001b[0m\u001b[0mart_f\u001b[0m\u001b[1;33m)\u001b[0m\u001b[1;33m\u001b[0m\u001b[0m\n",
      "\u001b[1;31mNameError\u001b[0m: name 'path' is not defined"
     ]
    }
   ],
   "source": [
    "art_f  = path + '/artifacts.csv'\n",
    "if os.path.exists(art_f):\n",
    "    art = pd.read_csv(art_f)\n",
    "    "
   ]
  },
  {
   "cell_type": "code",
   "execution_count": 24,
   "metadata": {
    "collapsed": false
   },
   "outputs": [
    {
     "name": "stdout",
     "output_type": "stream",
     "text": [
      "341\n"
     ]
    }
   ],
   "source": [
    "print len(norm_ts)"
   ]
  },
  {
   "cell_type": "code",
   "execution_count": null,
   "metadata": {
    "collapsed": true
   },
   "outputs": [],
   "source": []
  }
 ],
 "metadata": {
  "kernelspec": {
   "display_name": "Python 2",
   "language": "python",
   "name": "python2"
  },
  "language_info": {
   "codemirror_mode": {
    "name": "ipython",
    "version": 2
   },
   "file_extension": ".py",
   "mimetype": "text/x-python",
   "name": "python",
   "nbconvert_exporter": "python",
   "pygments_lexer": "ipython2",
   "version": "2.7.6"
  }
 },
 "nbformat": 4,
 "nbformat_minor": 0
}
