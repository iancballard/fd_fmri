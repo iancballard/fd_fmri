{
 "cells": [
  {
   "cell_type": "code",
   "execution_count": 1,
   "metadata": {
    "collapsed": true
   },
   "outputs": [],
   "source": [
    "import os\n",
    "import numpy as np\n",
    "import glob\n",
    "import csv\n",
    "import matplotlib\n",
    "import matplotlib.pyplot as plt\n",
    "import pandas as pd\n",
    "from scipy import stats, optimize\n",
    "from pandas import DataFrame, Series\n",
    "import seaborn as sns\n",
    "import random as rd\n",
    "from statsmodels.formula.api import ols\n",
    "from statsmodels.stats.anova import anova_lm\n",
    "import scipy.stats\n",
    "import patsy\n",
    "from scipy.optimize import minimize\n",
    "from scipy.optimize import basinhopping\n",
    "from sklearn import linear_model\n",
    "import multiprocessing\n",
    "import random"
   ]
  },
  {
   "cell_type": "code",
   "execution_count": 2,
   "metadata": {
    "collapsed": true
   },
   "outputs": [],
   "source": [
    "#make symbolic links for subjects who got all positive feedback"
   ]
  },
  {
   "cell_type": "code",
   "execution_count": 8,
   "metadata": {
    "collapsed": true
   },
   "outputs": [],
   "source": [
    "#preliminary housekeeping\n",
    "home_dir = '/data/home/iballard/fd/'\n",
    "subj_file = home_dir + 'subjects_bad_feedback.txt'\n",
    "sub_list = list(np.loadtxt(subj_file,'string'))\n",
    "os.chdir(home_dir)"
   ]
  },
  {
   "cell_type": "code",
   "execution_count": 9,
   "metadata": {
    "collapsed": false
   },
   "outputs": [
    {
     "name": "stdout",
     "output_type": "stream",
     "text": [
      "ln -s /data/home/iballard/fd//analysis/sim_4mm-PEfb-diff/fd_107 /data/home/iballard/fd//analysis/sim_4mm-PE-diff/fd_107\n",
      "ln -s /data/home/iballard/fd//analysis/sim_4mm-PEfb-diff/fd_108 /data/home/iballard/fd//analysis/sim_4mm-PE-diff/fd_108\n",
      "ln -s /data/home/iballard/fd//analysis/sim_4mm-PEfb-diff/fd_109 /data/home/iballard/fd//analysis/sim_4mm-PE-diff/fd_109\n"
     ]
    }
   ],
   "source": [
    "for sub in sub_list:\n",
    "    data_path = home_dir + '/analysis/sim_4mm-PEfb-diff/' + sub\n",
    "    new_path = home_dir + '/analysis/sim_4mm-PE-diff/' + sub\n",
    "    if not os.path.exists(new_path):\n",
    "        cmd_str = 'ln -s ' + data_path + ' ' + new_path\n",
    "        print cmd_str\n",
    "        os.system(cmd_str)"
   ]
  },
  {
   "cell_type": "code",
   "execution_count": 7,
   "metadata": {
    "collapsed": false
   },
   "outputs": [
    {
     "name": "stdout",
     "output_type": "stream",
     "text": [
      "fd_104\n",
      "fd_105\n",
      "fd_110\n",
      "fd_112\n",
      "fd_113\n",
      "fd_114\n",
      "fd_115\n",
      "fd_117\n",
      "fd_118\n",
      "fd_119\n",
      "fd_122\n",
      "fd_123\n",
      "fd_124\n",
      "fd_126\n",
      "fd_127\n",
      "fd_128\n",
      "fd_129\n",
      "fd_130\n",
      "fd_132\n",
      "fd_133\n",
      "fd_135\n",
      "fd_136\n",
      "fd_137\n",
      "fd_138\n",
      "fd_140\n",
      "fd_141\n",
      "fd_144\n",
      "fd_147\n",
      "fd_148\n"
     ]
    }
   ],
   "source": [
    "exp = 'sim'\n",
    "subj_file = home_dir + 'subjects_' + exp + '.txt'\n",
    "sub_list = list(np.loadtxt(subj_file,'string'))\n",
    "\n",
    "for sub in sub_list:\n",
    "    print sub\n",
    "    data_path = home_dir + '/analysis/' + exp + '_4mm-PE-diff/' + sub\n",
    "    new_path = home_dir + '/analysis/' + exp + '_4mm-PEfb-diff/' + sub\n",
    "    if not os.path.exists(new_path):\n",
    "        cmd_str = 'ln -s ' + data_path + ' ' + new_path\n",
    "        os.system(cmd_str)"
   ]
  },
  {
   "cell_type": "code",
   "execution_count": null,
   "metadata": {
    "collapsed": true
   },
   "outputs": [],
   "source": []
  }
 ],
 "metadata": {
  "kernelspec": {
   "display_name": "Python 2",
   "language": "python",
   "name": "python2"
  },
  "language_info": {
   "codemirror_mode": {
    "name": "ipython",
    "version": 2
   },
   "file_extension": ".py",
   "mimetype": "text/x-python",
   "name": "python",
   "nbconvert_exporter": "python",
   "pygments_lexer": "ipython2",
   "version": "2.7.6"
  }
 },
 "nbformat": 4,
 "nbformat_minor": 0
}
