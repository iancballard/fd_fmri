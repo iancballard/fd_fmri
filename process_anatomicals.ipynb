{
 "cells": [
  {
   "cell_type": "code",
   "execution_count": 1,
   "metadata": {
    "collapsed": false
   },
   "outputs": [],
   "source": [
    "#os and i/o\n",
    "import os\n",
    "import numpy as np\n",
    "import glob\n",
    "from os.path import abspath\n",
    "import csv\n",
    "\n",
    "#scientific computing\n",
    "import matplotlib\n",
    "import matplotlib.pyplot as plt\n",
    "import pandas as pd\n",
    "from scipy import stats, optimize\n",
    "from pandas import DataFrame, Series\n",
    "import seaborn as sns\n",
    "import random as rd\n",
    "from statsmodels.formula.api import ols\n",
    "from statsmodels.stats.anova import anova_lm\n",
    "import scipy.stats\n",
    "\n",
    "#ipython add-ons\n",
    "from IPython.parallel import Client\n",
    "from IPython.display import Image\n",
    "\n",
    "##nipype\n",
    "import nibabel as nib\n",
    "from nipype.pipeline.engine import Node, MapNode, Workflow\n",
    "from nipype.interfaces.io import DataGrabber, DataFinder, DataSink\n",
    "from nipype.interfaces import fsl\n",
    "from nipype.interfaces.fsl import BET\n",
    "from nipype.interfaces.freesurfer.preprocess import ReconAll\n",
    "from nipype.interfaces.freesurfer.utils import MakeAverageSubject\n",
    "%matplotlib inline"
   ]
  },
  {
   "cell_type": "markdown",
   "metadata": {},
   "source": [
    "Runs freesurfer's recon-all and does some qa on the data"
   ]
  },
  {
   "cell_type": "code",
   "execution_count": 2,
   "metadata": {
    "collapsed": true
   },
   "outputs": [],
   "source": [
    "#preliminary housekeeping\n",
    "home_dir = '/data/home/iballard/fd/'\n",
    "subj_file = home_dir + 'scripts/sub_cb_mappings.txt'\n",
    "os.chdir(home_dir)\n",
    "subjects_dir = abspath('data/freesurfer/')\n",
    "if not os.path.exists(subjects_dir):\n",
    "    os.mkdir(subjects_dir)\n",
    "    \n",
    "#get subject list\n",
    "sub_list = []\n",
    "with open(subj_file) as f:\n",
    "    for line in f:\n",
    "        (key,val) = line.strip().split(' ') \n",
    "        sub_list.append('fd_' + key)"
   ]
  },
  {
   "cell_type": "code",
   "execution_count": 72,
   "metadata": {
    "collapsed": true
   },
   "outputs": [],
   "source": [
    "#initialize workflow\n",
    "wf = Workflow('freesurfer_recon')\n",
    "wf.base_dir = abspath(home_dir)"
   ]
  },
  {
   "cell_type": "code",
   "execution_count": 74,
   "metadata": {
    "collapsed": false,
    "scrolled": false
   },
   "outputs": [],
   "source": [
    "#get data using datagrabber\n",
    "##set up data grabber\n",
    "ds = Node(DataGrabber(infields=['subject_id','task_id','run_id'],outfields =['func','anat']),\n",
    "         name = 'datasource')\n",
    "ds.inputs.base_directory = abspath(home_dir + '/data/')\n",
    "ds.inputs.template = '*'\n",
    "ds.inputs.template_args = {'func': [['subject_id','task_id','run_id']], 'anat':[['subject_id']]}\n",
    "ds.inputs.field_template = {'func': '%s/func/%s/run_%s.nii.gz' ,\n",
    "                      'anat': '%s/anat/T1w_Whole_brain_1mm.nii.gz'}\n",
    "ds.inputs.sort_filelist = True\n",
    "\n",
    "ds.inputs.subject_id = sub_list\n",
    "ds.inputs.task_id = '*'\n",
    "ds.inputs.run_id = '*'\n",
    "#print ds.run().outputs"
   ]
  },
  {
   "cell_type": "code",
   "execution_count": 75,
   "metadata": {
    "collapsed": false
   },
   "outputs": [
    {
     "name": "stdout",
     "output_type": "stream",
     "text": [
      "\n",
      "T1_files = <undefined>\n",
      "T2_file = <undefined>\n",
      "args = <undefined>\n",
      "directive = all\n",
      "environ = {}\n",
      "flags = <undefined>\n",
      "hemi = <undefined>\n",
      "ignore_exception = False\n",
      "openmp = <undefined>\n",
      "subject_id = ['fd_101', 'fd_102', 'fd_104', 'fd_105', 'fd_106', 'fd_107', 'fd_108', 'fd_109', 'fd_110', 'fd_112', 'fd_113', 'fd_114', 'fd_115', 'fd_117', 'fd_118']\n",
      "subjects_dir = /data/home/iballard/fd/data/freesurfer\n",
      "terminal_output = stream\n",
      "\n"
     ]
    }
   ],
   "source": [
    "#set up recon node\n",
    "recon_all = MapNode(interface = ReconAll(), name = 'recon_all',iterfield = ['subject_id','T1_files'])\n",
    "recon_all.inputs.subject_id  = sub_list\n",
    "recon_all.inputs.subjects_dir = subjects_dir\n",
    "wf.connect(ds,'anat',recon_all,'T1_files')\n",
    "print recon_all.inputs"
   ]
  },
  {
   "cell_type": "code",
   "execution_count": 76,
   "metadata": {
    "collapsed": false
   },
   "outputs": [
    {
     "name": "stderr",
     "output_type": "stream",
     "text": [
      "INFO:workflow:Converting dotfile: /data/home/iballard/fd/freesurfer_recon/workflow_recon-all_graph.dot to png format\n"
     ]
    },
    {
     "data": {
      "image/png": "[encoded data removed]",
      "text/plain": [
       "<IPython.core.display.Image object>"
      ]
     },
     "execution_count": 76,
     "metadata": {},
     "output_type": "execute_result"
    }
   ],
   "source": [
    "#visualize workflow\n",
    "wf.write_graph('workflow_recon-all_graph.dot')\n",
    "Image(filename = home_dir + 'freesurfer_recon/workflow_recon-all_graph.dot.png' )"
   ]
  },
  {
   "cell_type": "code",
   "execution_count": null,
   "metadata": {
    "collapsed": false,
    "scrolled": true
   },
   "outputs": [
    {
     "name": "stderr",
     "output_type": "stream",
     "text": [
      "INFO:workflow:['check', 'execution', 'logging']\n",
      "INFO:workflow:Running in parallel.\n",
      "INFO:workflow:Submitting 1 jobs\n",
      "INFO:workflow:Executing: datasource ID: 0\n",
      "INFO:workflow:[Job finished] jobname: datasource jobid: 0\n",
      "INFO:workflow:Executing node datasource in dir: /data/home/iballard/fd/freesurfer_recon/datasource\n",
      "INFO:workflow:Submitting 1 jobs\n",
      "INFO:workflow:Adding 15 jobs for mapnode recon_all\n",
      "INFO:workflow:Submitting 15 jobs\n",
      "INFO:workflow:Executing: _recon_all0 ID: 2\n",
      "INFO:workflow:Executing: _recon_all1 ID: 3\n",
      "INFO:workflow:Executing: _recon_all2 ID: 4\n",
      "INFO:workflow:Executing: _recon_all3 ID: 5\n",
      "INFO:workflow:Executing: _recon_all4 ID: 6\n",
      "INFO:workflow:Executing: _recon_all5 ID: 7\n",
      "INFO:workflow:Executing: _recon_all6 ID: 8\n",
      "INFO:workflow:Executing node _recon_all0 in dir: /data/home/iballard/fd/freesurfer_recon/recon_all/mapflow/_recon_all0\n",
      "INFO:workflow:Executing: _recon_all7 ID: 9\n",
      "INFO:workflow:Executing: _recon_all8 ID: 10\n",
      "INFO:workflow:Executing: _recon_all9 ID: 11\n",
      "INFO:workflow:Executing: _recon_all10 ID: 12\n",
      "INFO:workflow:Executing: _recon_all11 ID: 13\n",
      "INFO:workflow:Executing node _recon_all2 in dir: /data/home/iballard/fd/freesurfer_recon/recon_all/mapflow/_recon_all2\n",
      "INFO:workflow:Executing node _recon_all1 in dir: /data/home/iballard/fd/freesurfer_recon/recon_all/mapflow/_recon_all1\n",
      "INFO:workflow:Executing node _recon_all4 in dir: /data/home/iballard/fd/freesurfer_recon/recon_all/mapflow/_recon_all4\n",
      "INFO:workflow:Executing node _recon_all3 in dir: /data/home/iballard/fd/freesurfer_recon/recon_all/mapflow/_recon_all3\n",
      "INFO:workflow:Executing: _recon_all12 ID: 14\n",
      "INFO:workflow:Running: recon-all -all -i /data/home/iballard/fd/data/fd_101/anat/T1w_Whole_brain_1mm.nii.gz -subjid fd_101 -sd /data/home/iballard/fd/data/freesurfer\n",
      "INFO:workflow:Executing: _recon_all13 ID: 15\n",
      "INFO:workflow:Running: recon-all -all -i /data/home/iballard/fd/data/fd_104/anat/T1w_Whole_brain_1mm.nii.gz -subjid fd_104 -sd /data/home/iballard/fd/data/freesurfer\n",
      "INFO:workflow:Running: recon-all -all -i /data/home/iballard/fd/data/fd_102/anat/T1w_Whole_brain_1mm.nii.gz -subjid fd_102 -sd /data/home/iballard/fd/data/freesurfer\n",
      "INFO:workflow:Executing node _recon_all7 in dir: /data/home/iballard/fd/freesurfer_recon/recon_all/mapflow/_recon_all7\n",
      "INFO:workflow:Executing node _recon_all6 in dir: /data/home/iballard/fd/freesurfer_recon/recon_all/mapflow/_recon_all6\n",
      "INFO:workflow:Executing node _recon_all5 in dir: /data/home/iballard/fd/freesurfer_recon/recon_all/mapflow/_recon_all5\n",
      "INFO:workflow:Running: recon-all -all -i /data/home/iballard/fd/data/fd_107/anat/T1w_Whole_brain_1mm.nii.gz -subjid fd_107 -sd /data/home/iballard/fd/data/freesurfer\n",
      "INFO:workflow:Executing: _recon_all14 ID: 16\n",
      "INFO:workflow:Running: recon-all -all -i /data/home/iballard/fd/data/fd_105/anat/T1w_Whole_brain_1mm.nii.gz -subjid fd_105 -sd /data/home/iballard/fd/data/freesurfer\n",
      "INFO:workflow:Executing node _recon_all11 in dir: /data/home/iballard/fd/freesurfer_recon/recon_all/mapflow/_recon_all11\n",
      "INFO:workflow:Executing node _recon_all8 in dir: /data/home/iballard/fd/freesurfer_recon/recon_all/mapflow/_recon_all8\n",
      "INFO:workflow:Running: recon-all -all -i /data/home/iballard/fd/data/fd_106/anat/T1w_Whole_brain_1mm.nii.gz -subjid fd_106 -sd /data/home/iballard/fd/data/freesurfer\n"
     ]
    }
   ],
   "source": [
    "wf.run(plugin = 'MultiProc')"
   ]
  },
  {
   "cell_type": "code",
   "execution_count": 12,
   "metadata": {
    "collapsed": false
   },
   "outputs": [],
   "source": [
    "##fix directory structure. For some reason ipython insists on making a new directory for freesurfer outputs,\n",
    "#but lyman wants them in the subject folder\n",
    "for sub in sub_list:\n",
    "    freesurfer_dir = home_dir + '/data/freesurfer/' + sub\n",
    "    sub_dir = home_dir + '/data/' + sub +'/'\n",
    "    cmd = 'mv ' + freesurfer_dir + '/* ' + sub_dir\n",
    "    os.system(cmd)\n",
    "    os.rmdir(freesurfer_dir)\n"
   ]
  },
  {
   "cell_type": "code",
   "execution_count": null,
   "metadata": {
    "collapsed": false,
    "scrolled": true
   },
   "outputs": [],
   "source": []
  },
  {
   "cell_type": "code",
   "execution_count": null,
   "metadata": {
    "collapsed": true
   },
   "outputs": [],
   "source": []
  }
 ],
 "metadata": {
  "kernelspec": {
   "display_name": "Python 2",
   "language": "python",
   "name": "python2"
  },
  "language_info": {
   "codemirror_mode": {
    "name": "ipython",
    "version": 2
   },
   "file_extension": ".py",
   "mimetype": "text/x-python",
   "name": "python",
   "nbconvert_exporter": "python",
   "pygments_lexer": "ipython2",
   "version": "2.7.6"
  }
 },
 "nbformat": 4,
 "nbformat_minor": 0
}
